{
  "nbformat": 4,
  "nbformat_minor": 0,
  "metadata": {
    "colab": {
      "name": "rapids-colab.ipynb",
      "version": "0.3.2",
      "provenance": [],
      "collapsed_sections": [],
      "include_colab_link": true
    },
    "kernelspec": {
      "name": "python3",
      "display_name": "Python 3"
    },
    "accelerator": "GPU"
  },
  "cells": [
    {
      "cell_type": "markdown",
      "metadata": {
        "id": "view-in-github",
        "colab_type": "text"
      },
      "source": [
        "<a href=\"https://colab.research.google.com/github/PadmarajBhat/Rapids.AI/blob/master/rapids_colab.ipynb\" target=\"_parent\"><img src=\"https://colab.research.google.com/assets/colab-badge.svg\" alt=\"Open In Colab\"/></a>"
      ]
    },
    {
      "cell_type": "markdown",
      "metadata": {
        "id": "scfLT2i0MLyD",
        "colab_type": "text"
      },
      "source": [
        "# Environment Sanity Check #\n",
        "\n",
        "Click the _Runtime_ dropdown at the top of the page, then _Change Runtime Type_ and confirm the instance type is _GPU_.\n",
        "\n",
        "Check the output of `!nvidia-smi` to make sure you've been allocated a Tesla T4."
      ]
    },
    {
      "cell_type": "code",
      "metadata": {
        "id": "B0C8IV5TQnjN",
        "colab_type": "code",
        "outputId": "b9e3b46e-4ce0-4892-aeef-cc214b4b1fa9",
        "colab": {
          "base_uri": "https://localhost:8080/",
          "height": 302
        }
      },
      "source": [
        "!nvidia-smi"
      ],
      "execution_count": 2,
      "outputs": [
        {
          "output_type": "stream",
          "text": [
            "Mon Jul 22 13:00:29 2019       \n",
            "+-----------------------------------------------------------------------------+\n",
            "| NVIDIA-SMI 418.67       Driver Version: 410.79       CUDA Version: 10.0     |\n",
            "|-------------------------------+----------------------+----------------------+\n",
            "| GPU  Name        Persistence-M| Bus-Id        Disp.A | Volatile Uncorr. ECC |\n",
            "| Fan  Temp  Perf  Pwr:Usage/Cap|         Memory-Usage | GPU-Util  Compute M. |\n",
            "|===============================+======================+======================|\n",
            "|   0  Tesla T4            Off  | 00000000:00:04.0 Off |                    0 |\n",
            "| N/A   62C    P8    16W /  70W |      0MiB / 15079MiB |      0%      Default |\n",
            "+-------------------------------+----------------------+----------------------+\n",
            "                                                                               \n",
            "+-----------------------------------------------------------------------------+\n",
            "| Processes:                                                       GPU Memory |\n",
            "|  GPU       PID   Type   Process name                             Usage      |\n",
            "|=============================================================================|\n",
            "|  No running processes found                                                 |\n",
            "+-----------------------------------------------------------------------------+\n"
          ],
          "name": "stdout"
        }
      ]
    },
    {
      "cell_type": "code",
      "metadata": {
        "id": "ik8Wv2K0uDfx",
        "colab_type": "code",
        "outputId": "bb14312e-5493-4ad7-9853-ff1434b94e27",
        "colab": {
          "base_uri": "https://localhost:8080/",
          "height": 50
        }
      },
      "source": [
        "import pynvml\n",
        "\n",
        "pynvml.nvmlInit()\n",
        "handle = pynvml.nvmlDeviceGetHandleByIndex(0)\n",
        "device_name = pynvml.nvmlDeviceGetName(handle)\n",
        "print(device_name)\n",
        "if device_name != b'Tesla T4':\n",
        "  raise Exception(\"\"\"\n",
        "    Unfortunately this instance does not have a T4 GPU.\n",
        "    \n",
        "    Please make sure you've configured Colab to request a GPU instance type.\n",
        "    \n",
        "    Sometimes Colab allocates a Tesla K80 instead of a T4. Resetting the instance.\n",
        "\n",
        "    If you get a K80 GPU, try Runtime -> Reset all runtimes...\n",
        "  \"\"\")\n",
        "else:\n",
        "  print('Woo! You got the right kind of GPU!')"
      ],
      "execution_count": 3,
      "outputs": [
        {
          "output_type": "stream",
          "text": [
            "b'Tesla T4'\n",
            "Woo! You got the right kind of GPU!\n"
          ],
          "name": "stdout"
        }
      ]
    },
    {
      "cell_type": "markdown",
      "metadata": {
        "id": "CtNdk7PSafKP",
        "colab_type": "text"
      },
      "source": [
        "#Setup:\n",
        "\n",
        "1. Install most recent Miniconda release compatible with Google Colab's Python install  (3.6.7)\n",
        "2. Install RAPIDS libraries\n",
        "3. Set necessary environment variables\n",
        "4. Copy RAPIDS .so files into current working directory, a workaround for conda/colab interactions"
      ]
    },
    {
      "cell_type": "code",
      "metadata": {
        "id": "m0jdXBRiDSzj",
        "colab_type": "code",
        "outputId": "d019bc2c-e900-427f-e5e5-f97fb04f443f",
        "colab": {
          "base_uri": "https://localhost:8080/",
          "height": 1000
        }
      },
      "source": [
        "# intall miniconda\n",
        "!wget -c https://repo.continuum.io/miniconda/Miniconda3-4.5.4-Linux-x86_64.sh\n",
        "!chmod +x Miniconda3-4.5.4-Linux-x86_64.sh\n",
        "!bash ./Miniconda3-4.5.4-Linux-x86_64.sh -b -f -p /usr/local\n",
        "\n",
        "# install RAPIDS packages\n",
        "!conda install -q -y --prefix /usr/local -c conda-forge \\\n",
        "  -c rapidsai-nightly/label/cuda10.0 -c nvidia/label/cuda10.0 \\\n",
        "  cudf cuml\n",
        "\n",
        "!bash ./Miniconda3-4.5.4-Linux-x86_64.sh -b -f -p /usr/local\n",
        "!conda install -q -y --prefix /usr/local -c nvidia -c rapidsai \\\n",
        "  -c numba -c conda-forge -c defaults nvstrings=0.8 python=3.6 cudatoolkit=10.0\n",
        "\n",
        "!bash ./Miniconda3-4.5.4-Linux-x86_64.sh -b -f -p /usr/local\n",
        "!conda install  -q -y --prefix /usr/local dask\n",
        "\n",
        "# set environment vars\n",
        "import sys, os, shutil\n",
        "sys.path.append('/usr/local/lib/python3.6/site-packages/')\n",
        "os.environ['NUMBAPRO_NVVM'] = '/usr/local/cuda/nvvm/lib64/libnvvm.so'\n",
        "os.environ['NUMBAPRO_LIBDEVICE'] = '/usr/local/cuda/nvvm/libdevice/'\n",
        "\n",
        "# copy .so files to current working dir\n",
        "for fn in ['libcudf.so', 'librmm.so']:\n",
        "  shutil.copy('/usr/local/lib/'+fn, os.getcwd())"
      ],
      "execution_count": 4,
      "outputs": [
        {
          "output_type": "stream",
          "text": [
            "--2019-07-22 13:00:36--  https://repo.continuum.io/miniconda/Miniconda3-4.5.4-Linux-x86_64.sh\n",
            "Resolving repo.continuum.io (repo.continuum.io)... 104.18.201.79, 104.18.200.79, 2606:4700::6812:c94f, ...\n",
            "Connecting to repo.continuum.io (repo.continuum.io)|104.18.201.79|:443... connected.\n",
            "HTTP request sent, awaiting response... 200 OK\n",
            "Length: 58468498 (56M) [application/x-sh]\n",
            "Saving to: ‘Miniconda3-4.5.4-Linux-x86_64.sh’\n",
            "\n",
            "\r          Miniconda   0%[                    ]       0  --.-KB/s               \r         Miniconda3  52%[=========>          ]  29.48M   147MB/s               \rMiniconda3-4.5.4-Li 100%[===================>]  55.76M   157MB/s    in 0.4s    \n",
            "\n",
            "2019-07-22 13:00:36 (157 MB/s) - ‘Miniconda3-4.5.4-Linux-x86_64.sh’ saved [58468498/58468498]\n",
            "\n",
            "PREFIX=/usr/local\n",
            "installing: python-3.6.5-hc3d631a_2 ...\n",
            "Python 3.6.5 :: Anaconda, Inc.\n",
            "installing: ca-certificates-2018.03.07-0 ...\n",
            "installing: conda-env-2.6.0-h36134e3_1 ...\n",
            "installing: libgcc-ng-7.2.0-hdf63c60_3 ...\n",
            "installing: libstdcxx-ng-7.2.0-hdf63c60_3 ...\n",
            "installing: libffi-3.2.1-hd88cf55_4 ...\n",
            "installing: ncurses-6.1-hf484d3e_0 ...\n",
            "installing: openssl-1.0.2o-h20670df_0 ...\n",
            "installing: tk-8.6.7-hc745277_3 ...\n",
            "installing: xz-5.2.4-h14c3975_4 ...\n",
            "installing: yaml-0.1.7-had09818_2 ...\n",
            "installing: zlib-1.2.11-ha838bed_2 ...\n",
            "installing: libedit-3.1.20170329-h6b74fdf_2 ...\n",
            "installing: readline-7.0-ha6073c6_4 ...\n",
            "installing: sqlite-3.23.1-he433501_0 ...\n",
            "installing: asn1crypto-0.24.0-py36_0 ...\n",
            "installing: certifi-2018.4.16-py36_0 ...\n",
            "installing: chardet-3.0.4-py36h0f667ec_1 ...\n",
            "installing: idna-2.6-py36h82fb2a8_1 ...\n",
            "installing: pycosat-0.6.3-py36h0a5515d_0 ...\n",
            "installing: pycparser-2.18-py36hf9f622e_1 ...\n",
            "installing: pysocks-1.6.8-py36_0 ...\n",
            "installing: ruamel_yaml-0.15.37-py36h14c3975_2 ...\n",
            "installing: six-1.11.0-py36h372c433_1 ...\n",
            "installing: cffi-1.11.5-py36h9745a5d_0 ...\n",
            "installing: setuptools-39.2.0-py36_0 ...\n",
            "installing: cryptography-2.2.2-py36h14c3975_0 ...\n",
            "installing: wheel-0.31.1-py36_0 ...\n",
            "installing: pip-10.0.1-py36_0 ...\n",
            "installing: pyopenssl-18.0.0-py36_0 ...\n",
            "installing: urllib3-1.22-py36hbe7ace6_0 ...\n",
            "installing: requests-2.18.4-py36he2e5f8d_1 ...\n",
            "installing: conda-4.5.4-py36_0 ...\n",
            "installation finished.\n",
            "WARNING:\n",
            "    You currently have a PYTHONPATH environment variable set. This may cause\n",
            "    unexpected behavior when running the Python interpreter in Miniconda3.\n",
            "    For best results, please verify that your PYTHONPATH only points to\n",
            "    directories of packages that are compatible with the Python interpreter\n",
            "    in Miniconda3: /usr/local\n",
            "Solving environment: ...working... done\n",
            "\n",
            "## Package Plan ##\n",
            "\n",
            "  environment location: /usr/local\n",
            "\n",
            "  added / updated specs: \n",
            "    - cudf\n",
            "    - cuml\n",
            "\n",
            "\n",
            "The following packages will be downloaded:\n",
            "\n",
            "    package                    |            build\n",
            "    ---------------------------|-----------------\n",
            "    wheel-0.33.4               |           py37_0          34 KB  conda-forge\n",
            "    libcblas-3.8.0             |      10_openblas           6 KB  conda-forge\n",
            "    pytz-2019.1                |             py_0         227 KB  conda-forge\n",
            "    libcudf-0.9.0a             |    cuda10.0_1525        31.3 MB  rapidsai-nightly/label/cuda10.0\n",
            "    openblas-0.3.6             |       h6e990d7_4         8.2 MB  conda-forge\n",
            "    six-1.12.0                 |        py37_1000          22 KB  conda-forge\n",
            "    numpy-1.16.4               |   py37h95a1406_0         4.3 MB  conda-forge\n",
            "    parquet-cpp-1.5.1          |                4           3 KB  conda-forge\n",
            "    librmm-0.9.0a1             |       cuda10.0_2          44 KB  rapidsai-nightly/label/cuda10.0\n",
            "    numba-0.45.0               |   py37hb3f55d8_0         3.1 MB  conda-forge\n",
            "    libnvstrings-0.9.0a1       |      cuda10.0_24        16.5 MB  rapidsai-nightly/label/cuda10.0\n",
            "    boost-cpp-1.68.0           |    h11c811c_1000        20.5 MB  conda-forge\n",
            "    python-dateutil-2.8.0      |             py_0         219 KB  conda-forge\n",
            "    liblapack-3.8.0            |      10_openblas           6 KB  conda-forge\n",
            "    cudatoolkit-10.0.130       |                0       380.0 MB\n",
            "    libprotobuf-3.6.1          |    hdbcaa40_1001         4.0 MB  conda-forge\n",
            "    libopenblas-0.3.6          |       h6e990d7_4         7.7 MB  conda-forge\n",
            "    libblas-3.8.0              |      10_openblas           6 KB  conda-forge\n",
            "    icu-58.2                   |    hf484d3e_1000        22.6 MB  conda-forge\n",
            "    libcumlmg-0.0.0.dev0       |     cuda10.0_373         955 KB  nvidia/label/cuda10.0\n",
            "    llvmlite-0.29.0            |   py37hfd453ef_1        19.9 MB  conda-forge\n",
            "    libcuml-0.9.0a1            |     cuda10.0_200        27.6 MB  rapidsai-nightly/label/cuda10.0\n",
            "    libstdcxx-ng-9.1.0         |       hdf63c60_0         4.0 MB\n",
            "    python-3.7.3               |       h33d41f4_1        36.0 MB  conda-forge\n",
            "    certifi-2019.6.16          |           py37_1         149 KB  conda-forge\n",
            "    libffi-3.2.1               |    he1b5a44_1006          46 KB  conda-forge\n",
            "    pandas-0.25.0              |   py37hb3f55d8_0        11.4 MB  conda-forge\n",
            "    pyarrow-0.12.1             |   py37hbbcf98d_0         2.2 MB  conda-forge\n",
            "    libgfortran-ng-7.3.0       |       hdf63c60_0         1.3 MB\n",
            "    thrift-cpp-0.12.0          |    h0a07b25_1002         2.4 MB  conda-forge\n",
            "    cython-0.29.12             |   py37he1b5a44_0         2.2 MB  conda-forge\n",
            "    setuptools-41.0.1          |           py37_0         616 KB  conda-forge\n",
            "    cudf-0.9.0a                |        py37_1525         3.8 MB  rapidsai-nightly/label/cuda10.0\n",
            "    cffi-1.12.3                |   py37h8022711_0         218 KB  conda-forge\n",
            "    _libgcc_mutex-0.1          |             main           3 KB\n",
            "    libgcc-ng-9.1.0            |       hdf63c60_0         8.1 MB\n",
            "    xz-5.2.4                   |    h14c3975_1001         366 KB  conda-forge\n",
            "    ca-certificates-2019.6.16  |       hecc5488_0         145 KB  conda-forge\n",
            "    nvstrings-0.9.0a1          |          py37_24         122 KB  rapidsai-nightly/label/cuda10.0\n",
            "    zlib-1.2.11                |    h516909a_1005         105 KB  conda-forge\n",
            "    arrow-cpp-0.12.1           |   py37h0e61e49_0         6.9 MB  conda-forge\n",
            "    pip-19.1.1                 |           py37_0         1.8 MB  conda-forge\n",
            "    pycparser-2.19             |           py37_1         171 KB  conda-forge\n",
            "    sqlite-3.29.0              |       hcee41ef_0         2.0 MB  conda-forge\n",
            "    ncurses-6.1                |    hf484d3e_1002         1.3 MB  conda-forge\n",
            "    bzip2-1.0.8                |       h516909a_0         396 KB  conda-forge\n",
            "    tk-8.6.9                   |    hed695b0_1002         3.2 MB  conda-forge\n",
            "    readline-8.0               |       hf8c457e_0         441 KB  conda-forge\n",
            "    rmm-0.9.0a1                |           py37_2          14 KB  rapidsai-nightly/label/cuda10.0\n",
            "    cuml-0.9.0a1               |cuda10.0_py37_200         4.6 MB  rapidsai-nightly/label/cuda10.0\n",
            "    openssl-1.1.1c             |       h516909a_0         2.1 MB  conda-forge\n",
            "    ------------------------------------------------------------\n",
            "                                           Total:       643.1 MB\n",
            "\n",
            "The following NEW packages will be INSTALLED:\n",
            "\n",
            "    _libgcc_mutex:   0.1-main                                                 \n",
            "    arrow-cpp:       0.12.1-py37h0e61e49_0     conda-forge                    \n",
            "    boost-cpp:       1.68.0-h11c811c_1000      conda-forge                    \n",
            "    bzip2:           1.0.8-h516909a_0          conda-forge                    \n",
            "    cudatoolkit:     10.0.130-0                                               \n",
            "    cudf:            0.9.0a-py37_1525          rapidsai-nightly/label/cuda10.0\n",
            "    cuml:            0.9.0a1-cuda10.0_py37_200 rapidsai-nightly/label/cuda10.0\n",
            "    cython:          0.29.12-py37he1b5a44_0    conda-forge                    \n",
            "    icu:             58.2-hf484d3e_1000        conda-forge                    \n",
            "    libblas:         3.8.0-10_openblas         conda-forge                    \n",
            "    libcblas:        3.8.0-10_openblas         conda-forge                    \n",
            "    libcudf:         0.9.0a-cuda10.0_1525      rapidsai-nightly/label/cuda10.0\n",
            "    libcuml:         0.9.0a1-cuda10.0_200      rapidsai-nightly/label/cuda10.0\n",
            "    libcumlmg:       0.0.0.dev0-cuda10.0_373   nvidia/label/cuda10.0          \n",
            "    libgfortran-ng:  7.3.0-hdf63c60_0                                         \n",
            "    liblapack:       3.8.0-10_openblas         conda-forge                    \n",
            "    libnvstrings:    0.9.0a1-cuda10.0_24       rapidsai-nightly/label/cuda10.0\n",
            "    libopenblas:     0.3.6-h6e990d7_4          conda-forge                    \n",
            "    libprotobuf:     3.6.1-hdbcaa40_1001       conda-forge                    \n",
            "    librmm:          0.9.0a1-cuda10.0_2        rapidsai-nightly/label/cuda10.0\n",
            "    llvmlite:        0.29.0-py37hfd453ef_1     conda-forge                    \n",
            "    numba:           0.45.0-py37hb3f55d8_0     conda-forge                    \n",
            "    numpy:           1.16.4-py37h95a1406_0     conda-forge                    \n",
            "    nvstrings:       0.9.0a1-py37_24           rapidsai-nightly/label/cuda10.0\n",
            "    openblas:        0.3.6-h6e990d7_4          conda-forge                    \n",
            "    pandas:          0.25.0-py37hb3f55d8_0     conda-forge                    \n",
            "    parquet-cpp:     1.5.1-4                   conda-forge                    \n",
            "    pyarrow:         0.12.1-py37hbbcf98d_0     conda-forge                    \n",
            "    python-dateutil: 2.8.0-py_0                conda-forge                    \n",
            "    pytz:            2019.1-py_0               conda-forge                    \n",
            "    rmm:             0.9.0a1-py37_2            rapidsai-nightly/label/cuda10.0\n",
            "    thrift-cpp:      0.12.0-h0a07b25_1002      conda-forge                    \n",
            "\n",
            "The following packages will be UPDATED:\n",
            "\n",
            "    ca-certificates: 2018.03.07-0                                              --> 2019.6.16-hecc5488_0  conda-forge\n",
            "    certifi:         2018.4.16-py36_0                                          --> 2019.6.16-py37_1      conda-forge\n",
            "    cffi:            1.11.5-py36h9745a5d_0                                     --> 1.12.3-py37h8022711_0 conda-forge\n",
            "    libffi:          3.2.1-hd88cf55_4                                          --> 3.2.1-he1b5a44_1006   conda-forge\n",
            "    libgcc-ng:       7.2.0-hdf63c60_3                                          --> 9.1.0-hdf63c60_0                 \n",
            "    libstdcxx-ng:    7.2.0-hdf63c60_3                                          --> 9.1.0-hdf63c60_0                 \n",
            "    ncurses:         6.1-hf484d3e_0                                            --> 6.1-hf484d3e_1002     conda-forge\n",
            "    openssl:         1.0.2o-h20670df_0                                         --> 1.1.1c-h516909a_0     conda-forge\n",
            "    pip:             10.0.1-py36_0                                             --> 19.1.1-py37_0         conda-forge\n",
            "    pycparser:       2.18-py36hf9f622e_1                                       --> 2.19-py37_1           conda-forge\n",
            "    python:          3.6.5-hc3d631a_2                                          --> 3.7.3-h33d41f4_1      conda-forge\n",
            "    readline:        7.0-ha6073c6_4                                            --> 8.0-hf8c457e_0        conda-forge\n",
            "    setuptools:      39.2.0-py36_0                                             --> 41.0.1-py37_0         conda-forge\n",
            "    six:             1.11.0-py36h372c433_1                                     --> 1.12.0-py37_1000      conda-forge\n",
            "    sqlite:          3.23.1-he433501_0                                         --> 3.29.0-hcee41ef_0     conda-forge\n",
            "    tk:              8.6.7-hc745277_3                                          --> 8.6.9-hed695b0_1002   conda-forge\n",
            "    wheel:           0.31.1-py36_0                                             --> 0.33.4-py37_0         conda-forge\n",
            "    xz:              5.2.4-h14c3975_4                                          --> 5.2.4-h14c3975_1001   conda-forge\n",
            "    zlib:            1.2.11-ha838bed_2                                         --> 1.2.11-h516909a_1005  conda-forge\n",
            "\n",
            "Preparing transaction: ...working... done\n",
            "Verifying transaction: ...working... done\n",
            "Executing transaction: ...working... done\n",
            "PREFIX=/usr/local\n",
            "installing: python-3.6.5-hc3d631a_2 ...\n",
            "Python 3.6.5 :: Anaconda, Inc.\n",
            "installing: ca-certificates-2018.03.07-0 ...\n",
            "installing: conda-env-2.6.0-h36134e3_1 ...\n",
            "installing: libgcc-ng-7.2.0-hdf63c60_3 ...\n",
            "installing: libstdcxx-ng-7.2.0-hdf63c60_3 ...\n",
            "installing: libffi-3.2.1-hd88cf55_4 ...\n",
            "installing: ncurses-6.1-hf484d3e_0 ...\n",
            "installing: openssl-1.0.2o-h20670df_0 ...\n",
            "installing: tk-8.6.7-hc745277_3 ...\n",
            "installing: xz-5.2.4-h14c3975_4 ...\n",
            "installing: yaml-0.1.7-had09818_2 ...\n",
            "installing: zlib-1.2.11-ha838bed_2 ...\n",
            "installing: libedit-3.1.20170329-h6b74fdf_2 ...\n",
            "installing: readline-7.0-ha6073c6_4 ...\n",
            "installing: sqlite-3.23.1-he433501_0 ...\n",
            "installing: asn1crypto-0.24.0-py36_0 ...\n",
            "installing: certifi-2018.4.16-py36_0 ...\n",
            "installing: chardet-3.0.4-py36h0f667ec_1 ...\n",
            "installing: idna-2.6-py36h82fb2a8_1 ...\n",
            "installing: pycosat-0.6.3-py36h0a5515d_0 ...\n",
            "installing: pycparser-2.18-py36hf9f622e_1 ...\n",
            "installing: pysocks-1.6.8-py36_0 ...\n",
            "installing: ruamel_yaml-0.15.37-py36h14c3975_2 ...\n",
            "installing: six-1.11.0-py36h372c433_1 ...\n",
            "installing: cffi-1.11.5-py36h9745a5d_0 ...\n",
            "installing: setuptools-39.2.0-py36_0 ...\n",
            "installing: cryptography-2.2.2-py36h14c3975_0 ...\n",
            "installing: wheel-0.31.1-py36_0 ...\n",
            "installing: pip-10.0.1-py36_0 ...\n",
            "installing: pyopenssl-18.0.0-py36_0 ...\n",
            "installing: urllib3-1.22-py36hbe7ace6_0 ...\n",
            "installing: requests-2.18.4-py36he2e5f8d_1 ...\n",
            "installing: conda-4.5.4-py36_0 ...\n",
            "unlinking: ca-certificates-2019.6.16-hecc5488_0\n",
            "unlinking: certifi-2019.6.16-py37_1\n",
            "unlinking: cffi-1.12.3-py37h8022711_0\n",
            "unlinking: libffi-3.2.1-he1b5a44_1006\n",
            "unlinking: libgcc-ng-9.1.0-hdf63c60_0\n",
            "unlinking: libstdcxx-ng-9.1.0-hdf63c60_0\n",
            "unlinking: ncurses-6.1-hf484d3e_1002\n",
            "unlinking: openssl-1.1.1c-h516909a_0\n",
            "unlinking: pip-19.1.1-py37_0\n",
            "unlinking: pycparser-2.19-py37_1\n",
            "unlinking: python-3.7.3-h33d41f4_1\n",
            "unlinking: readline-8.0-hf8c457e_0\n",
            "unlinking: setuptools-41.0.1-py37_0\n",
            "unlinking: six-1.12.0-py37_1000\n",
            "unlinking: sqlite-3.29.0-hcee41ef_0\n",
            "unlinking: tk-8.6.9-hed695b0_1002\n",
            "unlinking: wheel-0.33.4-py37_0\n",
            "unlinking: xz-5.2.4-h14c3975_1001\n",
            "unlinking: zlib-1.2.11-h516909a_1005\n",
            "installation finished.\n",
            "WARNING:\n",
            "    You currently have a PYTHONPATH environment variable set. This may cause\n",
            "    unexpected behavior when running the Python interpreter in Miniconda3.\n",
            "    For best results, please verify that your PYTHONPATH only points to\n",
            "    directories of packages that are compatible with the Python interpreter\n",
            "    in Miniconda3: /usr/local\n",
            "Solving environment: ...working... done\n",
            "\n",
            "## Package Plan ##\n",
            "\n",
            "  environment location: /usr/local\n",
            "\n",
            "  added / updated specs: \n",
            "    - cudatoolkit=10.0\n",
            "    - nvstrings=0.8\n",
            "    - python=3.6\n",
            "\n",
            "\n",
            "The following packages will be downloaded:\n",
            "\n",
            "    package                    |            build\n",
            "    ---------------------------|-----------------\n",
            "    nvstrings-0.8.0            |           py36_0         119 KB  rapidsai\n",
            "    cryptography-2.7           |   py36h72c5cf5_0         607 KB  conda-forge\n",
            "    libcudf-0.8.0              |       cuda10.0_0        17.1 MB  rapidsai\n",
            "    libiconv-1.15              |    h516909a_1005         2.0 MB  conda-forge\n",
            "    certifi-2019.6.16          |           py36_1         149 KB  conda-forge\n",
            "    tqdm-4.32.2                |             py_0          41 KB  conda-forge\n",
            "    conda-4.7.10               |           py36_0         3.0 MB  conda-forge\n",
            "    librmm-0.8.0               |       cuda10.0_0          39 KB  rapidsai\n",
            "    lzo-2.10                   |    h14c3975_1000         319 KB  conda-forge\n",
            "    libarchive-3.3.3           |    hb44662c_1005         1.4 MB  conda-forge\n",
            "    icu-64.2                   |       he1b5a44_0        12.6 MB  conda-forge\n",
            "    libnvstrings-0.8.0         |       cuda10.0_0        19.7 MB  rapidsai\n",
            "    zstd-1.4.0                 |       h3b9ef0a_0         928 KB  conda-forge\n",
            "    libxml2-2.9.9              |       hee79883_2         1.3 MB  conda-forge\n",
            "    conda-package-handling-1.3.11|           py36_0         257 KB  conda-forge\n",
            "    lz4-c-1.8.3                |    he1b5a44_1001         187 KB  conda-forge\n",
            "    python-3.6.7               |    h357f687_1005        34.6 MB  conda-forge\n",
            "    python-libarchive-c-2.8    |        py36_1004          21 KB  conda-forge\n",
            "    ------------------------------------------------------------\n",
            "                                           Total:        94.4 MB\n",
            "\n",
            "The following NEW packages will be INSTALLED:\n",
            "\n",
            "    conda-package-handling: 1.3.11-py36_0        conda-forge                    \n",
            "    libarchive:             3.3.3-hb44662c_1005  conda-forge                    \n",
            "    libiconv:               1.15-h516909a_1005   conda-forge                    \n",
            "    libxml2:                2.9.9-hee79883_2     conda-forge                    \n",
            "    lz4-c:                  1.8.3-he1b5a44_1001  conda-forge                    \n",
            "    lzo:                    2.10-h14c3975_1000   conda-forge                    \n",
            "    python-libarchive-c:    2.8-py36_1004        conda-forge                    \n",
            "    tqdm:                   4.32.2-py_0          conda-forge                    \n",
            "    zstd:                   1.4.0-h3b9ef0a_0     conda-forge                    \n",
            "\n",
            "The following packages will be UPDATED:\n",
            "\n",
            "    ca-certificates:        2018.03.07-0                                         --> 2019.6.16-hecc5488_0 conda-forge\n",
            "    certifi:                2018.4.16-py36_0                                     --> 2019.6.16-py36_1     conda-forge\n",
            "    conda:                  4.5.4-py36_0                                         --> 4.7.10-py36_0        conda-forge\n",
            "    cryptography:           2.2.2-py36h14c3975_0                                 --> 2.7-py36h72c5cf5_0   conda-forge\n",
            "    icu:                    58.2-hf484d3e_1000   conda-forge                     --> 64.2-he1b5a44_0      conda-forge\n",
            "    libgcc-ng:              7.2.0-hdf63c60_3                                     --> 9.1.0-hdf63c60_0                \n",
            "    libstdcxx-ng:           7.2.0-hdf63c60_3                                     --> 9.1.0-hdf63c60_0                \n",
            "    openssl:                1.0.2o-h20670df_0                                    --> 1.1.1c-h516909a_0    conda-forge\n",
            "    python:                 3.6.5-hc3d631a_2                                     --> 3.6.7-h357f687_1005  conda-forge\n",
            "    readline:               7.0-ha6073c6_4                                       --> 8.0-hf8c457e_0       conda-forge\n",
            "    sqlite:                 3.23.1-he433501_0                                    --> 3.29.0-hcee41ef_0    conda-forge\n",
            "    tk:                     8.6.7-hc745277_3                                     --> 8.6.9-hed695b0_1002  conda-forge\n",
            "\n",
            "The following packages will be DOWNGRADED:\n",
            "\n",
            "    libcudf:                0.9.0a-cuda10.0_1525 rapidsai-nightly/label/cuda10.0 --> 0.8.0-cuda10.0_0     rapidsai   \n",
            "    libnvstrings:           0.9.0a1-cuda10.0_24  rapidsai-nightly/label/cuda10.0 --> 0.8.0-cuda10.0_0     rapidsai   \n",
            "    librmm:                 0.9.0a1-cuda10.0_2   rapidsai-nightly/label/cuda10.0 --> 0.8.0-cuda10.0_0     rapidsai   \n",
            "    nvstrings:              0.9.0a1-py37_24      rapidsai-nightly/label/cuda10.0 --> 0.8.0-py36_0         rapidsai   \n",
            "\n",
            "Preparing transaction: ...working... done\n",
            "Verifying transaction: ...working... done\n",
            "Executing transaction: ...working... done\n",
            "PREFIX=/usr/local\n",
            "installing: python-3.6.5-hc3d631a_2 ...\n",
            "Python 3.6.5 :: Anaconda, Inc.\n",
            "installing: ca-certificates-2018.03.07-0 ...\n",
            "installing: conda-env-2.6.0-h36134e3_1 ...\n",
            "installing: libgcc-ng-7.2.0-hdf63c60_3 ...\n",
            "installing: libstdcxx-ng-7.2.0-hdf63c60_3 ...\n",
            "installing: libffi-3.2.1-hd88cf55_4 ...\n",
            "installing: ncurses-6.1-hf484d3e_0 ...\n",
            "installing: openssl-1.0.2o-h20670df_0 ...\n",
            "installing: tk-8.6.7-hc745277_3 ...\n",
            "installing: xz-5.2.4-h14c3975_4 ...\n",
            "installing: yaml-0.1.7-had09818_2 ...\n",
            "installing: zlib-1.2.11-ha838bed_2 ...\n",
            "installing: libedit-3.1.20170329-h6b74fdf_2 ...\n",
            "installing: readline-7.0-ha6073c6_4 ...\n",
            "installing: sqlite-3.23.1-he433501_0 ...\n",
            "installing: asn1crypto-0.24.0-py36_0 ...\n",
            "installing: certifi-2018.4.16-py36_0 ...\n",
            "installing: chardet-3.0.4-py36h0f667ec_1 ...\n",
            "installing: idna-2.6-py36h82fb2a8_1 ...\n",
            "installing: pycosat-0.6.3-py36h0a5515d_0 ...\n",
            "installing: pycparser-2.18-py36hf9f622e_1 ...\n",
            "installing: pysocks-1.6.8-py36_0 ...\n",
            "installing: ruamel_yaml-0.15.37-py36h14c3975_2 ...\n",
            "installing: six-1.11.0-py36h372c433_1 ...\n",
            "installing: cffi-1.11.5-py36h9745a5d_0 ...\n",
            "installing: setuptools-39.2.0-py36_0 ...\n",
            "installing: cryptography-2.2.2-py36h14c3975_0 ...\n",
            "installing: wheel-0.31.1-py36_0 ...\n",
            "installing: pip-10.0.1-py36_0 ...\n",
            "installing: pyopenssl-18.0.0-py36_0 ...\n",
            "installing: urllib3-1.22-py36hbe7ace6_0 ...\n",
            "installing: requests-2.18.4-py36he2e5f8d_1 ...\n",
            "installing: conda-4.5.4-py36_0 ...\n",
            "unlinking: ca-certificates-2019.6.16-hecc5488_0\n",
            "unlinking: certifi-2019.6.16-py36_1\n",
            "unlinking: conda-4.7.10-py36_0\n",
            "unlinking: cryptography-2.7-py36h72c5cf5_0\n",
            "unlinking: libgcc-ng-9.1.0-hdf63c60_0\n",
            "unlinking: libstdcxx-ng-9.1.0-hdf63c60_0\n",
            "unlinking: openssl-1.1.1c-h516909a_0\n",
            "unlinking: python-3.6.7-h357f687_1005\n",
            "unlinking: readline-8.0-hf8c457e_0\n",
            "unlinking: sqlite-3.29.0-hcee41ef_0\n",
            "unlinking: tk-8.6.9-hed695b0_1002\n",
            "installation finished.\n",
            "WARNING:\n",
            "    You currently have a PYTHONPATH environment variable set. This may cause\n",
            "    unexpected behavior when running the Python interpreter in Miniconda3.\n",
            "    For best results, please verify that your PYTHONPATH only points to\n",
            "    directories of packages that are compatible with the Python interpreter\n",
            "    in Miniconda3: /usr/local\n",
            "Solving environment: ...working... done\n",
            "\n",
            "## Package Plan ##\n",
            "\n",
            "  environment location: /usr/local\n",
            "\n",
            "  added / updated specs: \n",
            "    - dask\n",
            "\n",
            "\n",
            "The following packages will be downloaded:\n",
            "\n",
            "    package                    |            build\n",
            "    ---------------------------|-----------------\n",
            "    tk-8.6.8                   |       hbc83047_0         3.1 MB\n",
            "    partd-1.0.0                |             py_0          19 KB\n",
            "    blas-1.0                   |              mkl           6 KB\n",
            "    pyparsing-2.4.0            |             py_0          58 KB\n",
            "    jinja2-2.10.1              |           py36_0         188 KB\n",
            "    pandas-0.24.2              |   py36he6710b0_0        11.1 MB\n",
            "    dask-core-2.1.0            |             py_0         578 KB\n",
            "    conda-4.7.10               |           py36_0         3.0 MB\n",
            "    jpeg-9b                    |       h024ee3a_2         248 KB\n",
            "    numpy-1.16.4               |   py36h7e9f1db_0          49 KB\n",
            "    openssl-1.1.1c             |       h7b6447c_1         3.8 MB\n",
            "    libarchive-3.3.3           |       h5d8350f_5         1.5 MB\n",
            "    toolz-0.10.0               |             py_0          50 KB\n",
            "    libxml2-2.9.9              |       hea5a465_1         2.0 MB\n",
            "    python-libarchive-c-2.8    |          py36_11          23 KB\n",
            "    freetype-2.9.1             |       h8a8886c_1         822 KB\n",
            "    mkl-2019.4                 |              243       204.1 MB\n",
            "    lzo-2.10                   |       h49e0be7_2         313 KB\n",
            "    certifi-2019.6.16          |           py36_0         154 KB\n",
            "    mkl_random-1.0.2           |   py36hd81dba3_0         407 KB\n",
            "    packaging-19.0             |           py36_0          38 KB\n",
            "    bokeh-1.2.0                |           py36_0         3.9 MB\n",
            "    python-3.6.8               |       h0371630_0        34.4 MB\n",
            "    locket-0.2.0               |           py36_1           8 KB\n",
            "    cloudpickle-1.2.1          |             py_0          28 KB\n",
            "    libtiff-4.0.10             |       h2733197_2         604 KB\n",
            "    tblib-1.4.0                |             py_0          14 KB\n",
            "    distributed-2.1.0          |             py_0         369 KB\n",
            "    mkl_fft-1.0.12             |   py36ha843d7b_0         172 KB\n",
            "    cryptography-2.7           |   py36h1ba5d50_0         617 KB\n",
            "    pyyaml-5.1.1               |   py36h7b6447c_0         188 KB\n",
            "    numpy-base-1.16.4          |   py36hde5b4d6_0         4.4 MB\n",
            "    click-7.0                  |           py36_0         118 KB\n",
            "    intel-openmp-2019.4        |              243         876 KB\n",
            "    heapdict-1.0.0             |           py36_2           7 KB\n",
            "    zstd-1.3.7                 |       h0b5b093_0         887 KB\n",
            "    olefile-0.46               |           py36_0          48 KB\n",
            "    sortedcontainers-2.1.0     |           py36_0          45 KB\n",
            "    ca-certificates-2019.5.15  |                0         133 KB\n",
            "    cytoolz-0.10.0             |   py36h7b6447c_0         439 KB\n",
            "    sqlite-3.26.0              |       h7b6447c_0         1.9 MB\n",
            "    msgpack-python-0.6.1       |   py36hfd86e86_1          92 KB\n",
            "    libpng-1.6.37              |       hbc83047_0         364 KB\n",
            "    psutil-5.6.3               |   py36h7b6447c_0         328 KB\n",
            "    tornado-6.0.3              |   py36h7b6447c_0         643 KB\n",
            "    conda-package-handling-1.3.11|           py36_0         260 KB\n",
            "    pillow-6.1.0               |   py36h34e0f95_0         642 KB\n",
            "    lz4-c-1.8.1.2              |       h14c3975_0         158 KB\n",
            "    bzip2-1.0.8                |       h7b6447c_0         105 KB\n",
            "    zict-1.0.0                 |             py_0          12 KB\n",
            "    dask-2.1.0                 |             py_0          11 KB\n",
            "    markupsafe-1.1.1           |   py36h7b6447c_0          29 KB\n",
            "    ------------------------------------------------------------\n",
            "                                           Total:       283.0 MB\n",
            "\n",
            "The following NEW packages will be INSTALLED:\n",
            "\n",
            "    blas:                   1.0-mkl                          \n",
            "    bokeh:                  1.2.0-py36_0                     \n",
            "    click:                  7.0-py36_0                       \n",
            "    cloudpickle:            1.2.1-py_0                       \n",
            "    cytoolz:                0.10.0-py36h7b6447c_0            \n",
            "    dask:                   2.1.0-py_0                       \n",
            "    dask-core:              2.1.0-py_0                       \n",
            "    distributed:            2.1.0-py_0                       \n",
            "    freetype:               2.9.1-h8a8886c_1                 \n",
            "    heapdict:               1.0.0-py36_2                     \n",
            "    intel-openmp:           2019.4-243                       \n",
            "    jinja2:                 2.10.1-py36_0                    \n",
            "    jpeg:                   9b-h024ee3a_2                    \n",
            "    libpng:                 1.6.37-hbc83047_0                \n",
            "    libtiff:                4.0.10-h2733197_2                \n",
            "    locket:                 0.2.0-py36_1                     \n",
            "    markupsafe:             1.1.1-py36h7b6447c_0             \n",
            "    mkl:                    2019.4-243                       \n",
            "    mkl_fft:                1.0.12-py36ha843d7b_0            \n",
            "    mkl_random:             1.0.2-py36hd81dba3_0             \n",
            "    msgpack-python:         0.6.1-py36hfd86e86_1             \n",
            "    numpy-base:             1.16.4-py36hde5b4d6_0            \n",
            "    olefile:                0.46-py36_0                      \n",
            "    packaging:              19.0-py36_0                      \n",
            "    partd:                  1.0.0-py_0                       \n",
            "    pillow:                 6.1.0-py36h34e0f95_0             \n",
            "    psutil:                 5.6.3-py36h7b6447c_0             \n",
            "    pyparsing:              2.4.0-py_0                       \n",
            "    pyyaml:                 5.1.1-py36h7b6447c_0             \n",
            "    sortedcontainers:       2.1.0-py36_0                     \n",
            "    tblib:                  1.4.0-py_0                       \n",
            "    toolz:                  0.10.0-py_0                      \n",
            "    tornado:                6.0.3-py36h7b6447c_0             \n",
            "    zict:                   1.0.0-py_0                       \n",
            "\n",
            "The following packages will be UPDATED:\n",
            "\n",
            "    bzip2:                  1.0.8-h516909a_0      conda-forge --> 1.0.8-h7b6447c_0     \n",
            "    ca-certificates:        2018.03.07-0                      --> 2019.5.15-0          \n",
            "    certifi:                2018.4.16-py36_0                  --> 2019.6.16-py36_0     \n",
            "    conda:                  4.5.4-py36_0                      --> 4.7.10-py36_0        \n",
            "    conda-package-handling: 1.3.11-py36_0         conda-forge --> 1.3.11-py36_0        \n",
            "    cryptography:           2.2.2-py36h14c3975_0              --> 2.7-py36h1ba5d50_0   \n",
            "    libgcc-ng:              7.2.0-hdf63c60_3                  --> 9.1.0-hdf63c60_0     \n",
            "    libstdcxx-ng:           7.2.0-hdf63c60_3                  --> 9.1.0-hdf63c60_0     \n",
            "    numpy:                  1.16.4-py37h95a1406_0 conda-forge --> 1.16.4-py36h7e9f1db_0\n",
            "    openssl:                1.0.2o-h20670df_0                 --> 1.1.1c-h7b6447c_1    \n",
            "    python:                 3.6.5-hc3d631a_2                  --> 3.6.8-h0371630_0     \n",
            "    sqlite:                 3.23.1-he433501_0                 --> 3.26.0-h7b6447c_0    \n",
            "    tk:                     8.6.7-hc745277_3                  --> 8.6.8-hbc83047_0     \n",
            "\n",
            "The following packages will be DOWNGRADED:\n",
            "\n",
            "    libarchive:             3.3.3-hb44662c_1005   conda-forge --> 3.3.3-h5d8350f_5     \n",
            "    libxml2:                2.9.9-hee79883_2      conda-forge --> 2.9.9-hea5a465_1     \n",
            "    lz4-c:                  1.8.3-he1b5a44_1001   conda-forge --> 1.8.1.2-h14c3975_0   \n",
            "    lzo:                    2.10-h14c3975_1000    conda-forge --> 2.10-h49e0be7_2      \n",
            "    pandas:                 0.25.0-py37hb3f55d8_0 conda-forge --> 0.24.2-py36he6710b0_0\n",
            "    python-libarchive-c:    2.8-py36_1004         conda-forge --> 2.8-py36_11          \n",
            "    zstd:                   1.4.0-h3b9ef0a_0      conda-forge --> 1.3.7-h0b5b093_0     \n",
            "\n",
            "Preparing transaction: ...working... done\n",
            "Verifying transaction: ...working... done\n",
            "Executing transaction: ...working... done\n"
          ],
          "name": "stdout"
        }
      ]
    },
    {
      "cell_type": "code",
      "metadata": {
        "id": "r2YMbK2YGnqg",
        "colab_type": "code",
        "outputId": "c0115aea-2004-4760-b764-07f76a5db069",
        "colab": {
          "base_uri": "https://localhost:8080/",
          "height": 121
        }
      },
      "source": [
        "from google.colab import drive\n",
        "drive.mount('/content/drive')"
      ],
      "execution_count": 5,
      "outputs": [
        {
          "output_type": "stream",
          "text": [
            "Go to this URL in a browser: https://accounts.google.com/o/oauth2/auth?client_id=947318989803-6bn6qk8qdgf4n4g3pfee6491hc0brc4i.apps.googleusercontent.com&redirect_uri=urn%3Aietf%3Awg%3Aoauth%3A2.0%3Aoob&scope=email%20https%3A%2F%2Fwww.googleapis.com%2Fauth%2Fdocs.test%20https%3A%2F%2Fwww.googleapis.com%2Fauth%2Fdrive%20https%3A%2F%2Fwww.googleapis.com%2Fauth%2Fdrive.photos.readonly%20https%3A%2F%2Fwww.googleapis.com%2Fauth%2Fpeopleapi.readonly&response_type=code\n",
            "\n",
            "Enter your authorization code:\n",
            "··········\n",
            "Mounted at /content/drive\n"
          ],
          "name": "stdout"
        }
      ]
    },
    {
      "cell_type": "code",
      "metadata": {
        "id": "z6m6SY36G-o7",
        "colab_type": "code",
        "outputId": "3502e9f2-3f08-49ec-ae19-22f398f020c9",
        "colab": {
          "base_uri": "https://localhost:8080/",
          "height": 34
        }
      },
      "source": [
        "!ls -l \"/content/drive/My Drive/Colab Notebooks/TrainData_PA.csv\""
      ],
      "execution_count": 6,
      "outputs": [
        {
          "output_type": "stream",
          "text": [
            "-rw------- 1 root root 5493629 Jul 16 23:19 '/content/drive/My Drive/Colab Notebooks/TrainData_PA.csv'\n"
          ],
          "name": "stdout"
        }
      ]
    },
    {
      "cell_type": "code",
      "metadata": {
        "id": "2iSe3Wo6szdn",
        "colab_type": "code",
        "outputId": "42821b3a-7317-4964-a072-5a40b6393f19",
        "colab": {
          "base_uri": "https://localhost:8080/",
          "height": 484
        }
      },
      "source": [
        "import dask.dataframe as dd\n",
        "import numpy as np\n",
        "tips_df = dd.read_csv(\"/content/drive/My Drive/Colab Notebooks/TrainData_PA.csv\", assume_missing=True)\n",
        "tips_df.head()"
      ],
      "execution_count": 7,
      "outputs": [
        {
          "output_type": "execute_result",
          "data": {
            "text/html": [
              "<div>\n",
              "<style scoped>\n",
              "    .dataframe tbody tr th:only-of-type {\n",
              "        vertical-align: middle;\n",
              "    }\n",
              "\n",
              "    .dataframe tbody tr th {\n",
              "        vertical-align: top;\n",
              "    }\n",
              "\n",
              "    .dataframe thead th {\n",
              "        text-align: right;\n",
              "    }\n",
              "</style>\n",
              "<table border=\"1\" class=\"dataframe\">\n",
              "  <thead>\n",
              "    <tr style=\"text-align: right;\">\n",
              "      <th></th>\n",
              "      <th>county</th>\n",
              "      <th>city</th>\n",
              "      <th>zipcode</th>\n",
              "      <th>address</th>\n",
              "      <th>state</th>\n",
              "      <th>rent</th>\n",
              "      <th>latitude</th>\n",
              "      <th>longitude</th>\n",
              "      <th>cemetery_dist_miles</th>\n",
              "      <th>nationalhighway_miles</th>\n",
              "      <th>railline_miles</th>\n",
              "      <th>starbucks_miles</th>\n",
              "      <th>walmart_miles</th>\n",
              "      <th>hospital_miles</th>\n",
              "      <th>physician_dist_miles</th>\n",
              "      <th>dentist_dist_miles</th>\n",
              "      <th>opt_dist_miles</th>\n",
              "      <th>vet_dist_miles</th>\n",
              "      <th>farmers_miles</th>\n",
              "      <th>time</th>\n",
              "      <th>bed</th>\n",
              "      <th>bath</th>\n",
              "      <th>halfbath</th>\n",
              "      <th>sqft</th>\n",
              "      <th>property_type</th>\n",
              "      <th>garage</th>\n",
              "      <th>yearbuilt</th>\n",
              "      <th>pool</th>\n",
              "      <th>fireplace</th>\n",
              "      <th>patio</th>\n",
              "      <th>lotsize</th>\n",
              "      <th>Census_MedianIncome</th>\n",
              "      <th>CollegeGrads</th>\n",
              "      <th>WhiteCollar</th>\n",
              "      <th>Schools</th>\n",
              "      <th>Unemployment</th>\n",
              "      <th>EmploymentDiversity</th>\n",
              "      <th>Census_Vacancy</th>\n",
              "      <th>Crime_Rate</th>\n",
              "      <th>HomePrice</th>\n",
              "    </tr>\n",
              "  </thead>\n",
              "  <tbody>\n",
              "    <tr>\n",
              "      <th>0</th>\n",
              "      <td>NaN</td>\n",
              "      <td>WEXFORD</td>\n",
              "      <td>NaN</td>\n",
              "      <td>266 Clematis Dr Allegheny County</td>\n",
              "      <td>PA</td>\n",
              "      <td>2400.0</td>\n",
              "      <td>40.618200</td>\n",
              "      <td>-80.077600</td>\n",
              "      <td>1.019586</td>\n",
              "      <td>0.206222</td>\n",
              "      <td>0.629888</td>\n",
              "      <td>1.348776</td>\n",
              "      <td>3.326397</td>\n",
              "      <td>1.584675</td>\n",
              "      <td>0.229126</td>\n",
              "      <td>0.472933</td>\n",
              "      <td>0.651244</td>\n",
              "      <td>7.323725</td>\n",
              "      <td>1.094678</td>\n",
              "      <td>2016.25</td>\n",
              "      <td>3.0</td>\n",
              "      <td>2.0</td>\n",
              "      <td>1.0</td>\n",
              "      <td>2000.0</td>\n",
              "      <td>Condo</td>\n",
              "      <td>1.0</td>\n",
              "      <td>2008.0</td>\n",
              "      <td>0.0</td>\n",
              "      <td>1.0</td>\n",
              "      <td>0.0</td>\n",
              "      <td>4086.388045</td>\n",
              "      <td>54476.09</td>\n",
              "      <td>21.0</td>\n",
              "      <td>66.57</td>\n",
              "      <td>48.3</td>\n",
              "      <td>5.1</td>\n",
              "      <td>3.48</td>\n",
              "      <td>3.42</td>\n",
              "      <td>2.4</td>\n",
              "      <td>158051.0</td>\n",
              "    </tr>\n",
              "    <tr>\n",
              "      <th>1</th>\n",
              "      <td>NaN</td>\n",
              "      <td>WHITEHALL</td>\n",
              "      <td>NaN</td>\n",
              "      <td>2310 N 1st Ave Lehigh County</td>\n",
              "      <td>PA</td>\n",
              "      <td>995.0</td>\n",
              "      <td>40.649906</td>\n",
              "      <td>-75.478940</td>\n",
              "      <td>1.019586</td>\n",
              "      <td>0.206222</td>\n",
              "      <td>0.629888</td>\n",
              "      <td>1.348776</td>\n",
              "      <td>3.326397</td>\n",
              "      <td>1.584675</td>\n",
              "      <td>0.229126</td>\n",
              "      <td>0.472933</td>\n",
              "      <td>0.651244</td>\n",
              "      <td>7.323725</td>\n",
              "      <td>1.094678</td>\n",
              "      <td>2016.25</td>\n",
              "      <td>2.0</td>\n",
              "      <td>1.0</td>\n",
              "      <td>1.0</td>\n",
              "      <td>1100.0</td>\n",
              "      <td>Condo</td>\n",
              "      <td>0.0</td>\n",
              "      <td>1935.0</td>\n",
              "      <td>0.0</td>\n",
              "      <td>0.0</td>\n",
              "      <td>0.0</td>\n",
              "      <td>2247.513425</td>\n",
              "      <td>54476.09</td>\n",
              "      <td>21.0</td>\n",
              "      <td>66.57</td>\n",
              "      <td>48.3</td>\n",
              "      <td>5.1</td>\n",
              "      <td>3.48</td>\n",
              "      <td>3.42</td>\n",
              "      <td>2.4</td>\n",
              "      <td>158051.0</td>\n",
              "    </tr>\n",
              "    <tr>\n",
              "      <th>2</th>\n",
              "      <td>NaN</td>\n",
              "      <td>WHITEHALL</td>\n",
              "      <td>NaN</td>\n",
              "      <td>3338 St Stephens Ln Lehigh County</td>\n",
              "      <td>PA</td>\n",
              "      <td>1740.0</td>\n",
              "      <td>40.646282</td>\n",
              "      <td>-75.510056</td>\n",
              "      <td>1.019586</td>\n",
              "      <td>0.206222</td>\n",
              "      <td>0.629888</td>\n",
              "      <td>1.348776</td>\n",
              "      <td>3.326397</td>\n",
              "      <td>1.584675</td>\n",
              "      <td>0.229126</td>\n",
              "      <td>0.472933</td>\n",
              "      <td>0.651244</td>\n",
              "      <td>7.323725</td>\n",
              "      <td>1.094678</td>\n",
              "      <td>2015.75</td>\n",
              "      <td>3.0</td>\n",
              "      <td>2.0</td>\n",
              "      <td>1.0</td>\n",
              "      <td>1522.0</td>\n",
              "      <td>Condo</td>\n",
              "      <td>0.0</td>\n",
              "      <td>2006.0</td>\n",
              "      <td>0.0</td>\n",
              "      <td>1.0</td>\n",
              "      <td>1.0</td>\n",
              "      <td>3109.741302</td>\n",
              "      <td>54476.09</td>\n",
              "      <td>21.0</td>\n",
              "      <td>66.57</td>\n",
              "      <td>48.3</td>\n",
              "      <td>5.1</td>\n",
              "      <td>3.48</td>\n",
              "      <td>3.42</td>\n",
              "      <td>2.4</td>\n",
              "      <td>158051.0</td>\n",
              "    </tr>\n",
              "    <tr>\n",
              "      <th>3</th>\n",
              "      <td>NaN</td>\n",
              "      <td>WAYNESBORO</td>\n",
              "      <td>NaN</td>\n",
              "      <td>97 W Main St Franklin County</td>\n",
              "      <td>PA</td>\n",
              "      <td>675.0</td>\n",
              "      <td>39.756992</td>\n",
              "      <td>-77.579704</td>\n",
              "      <td>1.019586</td>\n",
              "      <td>0.206222</td>\n",
              "      <td>0.629888</td>\n",
              "      <td>1.348776</td>\n",
              "      <td>3.326397</td>\n",
              "      <td>1.584675</td>\n",
              "      <td>0.229126</td>\n",
              "      <td>0.472933</td>\n",
              "      <td>0.651244</td>\n",
              "      <td>7.323725</td>\n",
              "      <td>1.094678</td>\n",
              "      <td>2016.25</td>\n",
              "      <td>3.0</td>\n",
              "      <td>1.0</td>\n",
              "      <td>1.0</td>\n",
              "      <td>1150.0</td>\n",
              "      <td>Condo</td>\n",
              "      <td>0.0</td>\n",
              "      <td>1960.0</td>\n",
              "      <td>0.0</td>\n",
              "      <td>0.0</td>\n",
              "      <td>0.0</td>\n",
              "      <td>2349.673126</td>\n",
              "      <td>54476.09</td>\n",
              "      <td>21.0</td>\n",
              "      <td>66.57</td>\n",
              "      <td>48.3</td>\n",
              "      <td>5.1</td>\n",
              "      <td>3.48</td>\n",
              "      <td>3.42</td>\n",
              "      <td>2.4</td>\n",
              "      <td>158051.0</td>\n",
              "    </tr>\n",
              "    <tr>\n",
              "      <th>4</th>\n",
              "      <td>NaN</td>\n",
              "      <td>QUAKERTOWN</td>\n",
              "      <td>NaN</td>\n",
              "      <td>200 E Broad St Bucks County</td>\n",
              "      <td>PA</td>\n",
              "      <td>1300.0</td>\n",
              "      <td>40.441177</td>\n",
              "      <td>-75.332540</td>\n",
              "      <td>1.019586</td>\n",
              "      <td>0.206222</td>\n",
              "      <td>0.629888</td>\n",
              "      <td>1.348776</td>\n",
              "      <td>3.326397</td>\n",
              "      <td>1.584675</td>\n",
              "      <td>0.229126</td>\n",
              "      <td>0.472933</td>\n",
              "      <td>0.651244</td>\n",
              "      <td>7.323725</td>\n",
              "      <td>1.094678</td>\n",
              "      <td>2016.25</td>\n",
              "      <td>3.0</td>\n",
              "      <td>2.0</td>\n",
              "      <td>1.0</td>\n",
              "      <td>1000.0</td>\n",
              "      <td>SFR</td>\n",
              "      <td>0.0</td>\n",
              "      <td>1960.0</td>\n",
              "      <td>0.0</td>\n",
              "      <td>0.0</td>\n",
              "      <td>0.0</td>\n",
              "      <td>2043.194023</td>\n",
              "      <td>54476.09</td>\n",
              "      <td>21.0</td>\n",
              "      <td>66.57</td>\n",
              "      <td>48.3</td>\n",
              "      <td>5.1</td>\n",
              "      <td>3.48</td>\n",
              "      <td>3.42</td>\n",
              "      <td>2.4</td>\n",
              "      <td>158051.0</td>\n",
              "    </tr>\n",
              "  </tbody>\n",
              "</table>\n",
              "</div>"
            ],
            "text/plain": [
              "  county        city  zipcode  ... Census_Vacancy Crime_Rate  HomePrice\n",
              "0    NaN     WEXFORD      NaN  ...           3.42        2.4   158051.0\n",
              "1    NaN   WHITEHALL      NaN  ...           3.42        2.4   158051.0\n",
              "2    NaN   WHITEHALL      NaN  ...           3.42        2.4   158051.0\n",
              "3    NaN  WAYNESBORO      NaN  ...           3.42        2.4   158051.0\n",
              "4    NaN  QUAKERTOWN      NaN  ...           3.42        2.4   158051.0\n",
              "\n",
              "[5 rows x 40 columns]"
            ]
          },
          "metadata": {
            "tags": []
          },
          "execution_count": 7
        }
      ]
    },
    {
      "cell_type": "markdown",
      "metadata": {
        "id": "oWcPzX1U07Fe",
        "colab_type": "text"
      },
      "source": [
        "https://docs.dask.org/en/latest/install.html - for installation and other doc"
      ]
    },
    {
      "cell_type": "code",
      "metadata": {
        "id": "ULbRXjumlzmB",
        "colab_type": "code",
        "colab": {}
      },
      "source": [
        "#print(list(tips_df['zipcode'].compute()))"
      ],
      "execution_count": 0,
      "outputs": []
    },
    {
      "cell_type": "code",
      "metadata": {
        "id": "2sDth6tTThKb",
        "colab_type": "code",
        "outputId": "7d35c82e-ceac-4ffb-b584-3777b276835d",
        "colab": {
          "base_uri": "https://localhost:8080/",
          "height": 34
        }
      },
      "source": [
        "tips_df.npartitions"
      ],
      "execution_count": 10,
      "outputs": [
        {
          "output_type": "execute_result",
          "data": {
            "text/plain": [
              "1"
            ]
          },
          "metadata": {
            "tags": []
          },
          "execution_count": 10
        }
      ]
    },
    {
      "cell_type": "code",
      "metadata": {
        "id": "zTeWco4ZTp8Y",
        "colab_type": "code",
        "outputId": "299f1af2-1136-449d-bd51-ab66d8698afe",
        "colab": {
          "base_uri": "https://localhost:8080/",
          "height": 34
        }
      },
      "source": [
        "tips_df.divisions"
      ],
      "execution_count": 11,
      "outputs": [
        {
          "output_type": "execute_result",
          "data": {
            "text/plain": [
              "(None, None)"
            ]
          },
          "metadata": {
            "tags": []
          },
          "execution_count": 11
        }
      ]
    },
    {
      "cell_type": "code",
      "metadata": {
        "id": "CZloJ_FfFl4r",
        "colab_type": "code",
        "outputId": "2e1cd9e6-7958-42ee-e058-ad3902e023b6",
        "colab": {
          "base_uri": "https://localhost:8080/",
          "height": 185
        }
      },
      "source": [
        "tips_df.columns"
      ],
      "execution_count": 12,
      "outputs": [
        {
          "output_type": "execute_result",
          "data": {
            "text/plain": [
              "Index(['county', 'city', 'zipcode', 'address', 'state', 'rent', 'latitude',\n",
              "       'longitude', 'cemetery_dist_miles', 'nationalhighway_miles',\n",
              "       'railline_miles', 'starbucks_miles', 'walmart_miles', 'hospital_miles',\n",
              "       'physician_dist_miles', 'dentist_dist_miles', 'opt_dist_miles',\n",
              "       'vet_dist_miles', 'farmers_miles', 'time', 'bed', 'bath', 'halfbath',\n",
              "       'sqft', 'property_type', 'garage', 'yearbuilt', 'pool', 'fireplace',\n",
              "       'patio', 'lotsize', 'Census_MedianIncome', 'CollegeGrads',\n",
              "       'WhiteCollar', 'Schools', 'Unemployment', 'EmploymentDiversity',\n",
              "       'Census_Vacancy', 'Crime_Rate', 'HomePrice'],\n",
              "      dtype='object')"
            ]
          },
          "metadata": {
            "tags": []
          },
          "execution_count": 12
        }
      ]
    },
    {
      "cell_type": "code",
      "metadata": {
        "id": "kuaNPd4aFl1c",
        "colab_type": "code",
        "outputId": "d479e02b-840f-4406-fc09-dc2553e991d2",
        "colab": {
          "base_uri": "https://localhost:8080/",
          "height": 34
        }
      },
      "source": [
        "tips_df[tips_df.yearbuilt.isna()].compute().shape"
      ],
      "execution_count": 13,
      "outputs": [
        {
          "output_type": "execute_result",
          "data": {
            "text/plain": [
              "(0, 40)"
            ]
          },
          "metadata": {
            "tags": []
          },
          "execution_count": 13
        }
      ]
    },
    {
      "cell_type": "code",
      "metadata": {
        "id": "K1B-8T7FFlyd",
        "colab_type": "code",
        "outputId": "02929d98-5201-4d23-edfa-acfc15fe066e",
        "colab": {
          "base_uri": "https://localhost:8080/",
          "height": 190
        }
      },
      "source": [
        "tips_df.set_index(\"yearbuilt\")"
      ],
      "execution_count": 14,
      "outputs": [
        {
          "output_type": "execute_result",
          "data": {
            "text/html": [
              "<div><strong>Dask DataFrame Structure:</strong></div>\n",
              "<div>\n",
              "<style scoped>\n",
              "    .dataframe tbody tr th:only-of-type {\n",
              "        vertical-align: middle;\n",
              "    }\n",
              "\n",
              "    .dataframe tbody tr th {\n",
              "        vertical-align: top;\n",
              "    }\n",
              "\n",
              "    .dataframe thead th {\n",
              "        text-align: right;\n",
              "    }\n",
              "</style>\n",
              "<table border=\"1\" class=\"dataframe\">\n",
              "  <thead>\n",
              "    <tr style=\"text-align: right;\">\n",
              "      <th></th>\n",
              "      <th>county</th>\n",
              "      <th>city</th>\n",
              "      <th>zipcode</th>\n",
              "      <th>address</th>\n",
              "      <th>state</th>\n",
              "      <th>rent</th>\n",
              "      <th>latitude</th>\n",
              "      <th>longitude</th>\n",
              "      <th>cemetery_dist_miles</th>\n",
              "      <th>nationalhighway_miles</th>\n",
              "      <th>railline_miles</th>\n",
              "      <th>starbucks_miles</th>\n",
              "      <th>walmart_miles</th>\n",
              "      <th>hospital_miles</th>\n",
              "      <th>physician_dist_miles</th>\n",
              "      <th>dentist_dist_miles</th>\n",
              "      <th>opt_dist_miles</th>\n",
              "      <th>vet_dist_miles</th>\n",
              "      <th>farmers_miles</th>\n",
              "      <th>time</th>\n",
              "      <th>bed</th>\n",
              "      <th>bath</th>\n",
              "      <th>halfbath</th>\n",
              "      <th>sqft</th>\n",
              "      <th>property_type</th>\n",
              "      <th>garage</th>\n",
              "      <th>pool</th>\n",
              "      <th>fireplace</th>\n",
              "      <th>patio</th>\n",
              "      <th>lotsize</th>\n",
              "      <th>Census_MedianIncome</th>\n",
              "      <th>CollegeGrads</th>\n",
              "      <th>WhiteCollar</th>\n",
              "      <th>Schools</th>\n",
              "      <th>Unemployment</th>\n",
              "      <th>EmploymentDiversity</th>\n",
              "      <th>Census_Vacancy</th>\n",
              "      <th>Crime_Rate</th>\n",
              "      <th>HomePrice</th>\n",
              "    </tr>\n",
              "    <tr>\n",
              "      <th>npartitions=1</th>\n",
              "      <th></th>\n",
              "      <th></th>\n",
              "      <th></th>\n",
              "      <th></th>\n",
              "      <th></th>\n",
              "      <th></th>\n",
              "      <th></th>\n",
              "      <th></th>\n",
              "      <th></th>\n",
              "      <th></th>\n",
              "      <th></th>\n",
              "      <th></th>\n",
              "      <th></th>\n",
              "      <th></th>\n",
              "      <th></th>\n",
              "      <th></th>\n",
              "      <th></th>\n",
              "      <th></th>\n",
              "      <th></th>\n",
              "      <th></th>\n",
              "      <th></th>\n",
              "      <th></th>\n",
              "      <th></th>\n",
              "      <th></th>\n",
              "      <th></th>\n",
              "      <th></th>\n",
              "      <th></th>\n",
              "      <th></th>\n",
              "      <th></th>\n",
              "      <th></th>\n",
              "      <th></th>\n",
              "      <th></th>\n",
              "      <th></th>\n",
              "      <th></th>\n",
              "      <th></th>\n",
              "      <th></th>\n",
              "      <th></th>\n",
              "      <th></th>\n",
              "      <th></th>\n",
              "    </tr>\n",
              "  </thead>\n",
              "  <tbody>\n",
              "    <tr>\n",
              "      <th>1800.0</th>\n",
              "      <td>object</td>\n",
              "      <td>object</td>\n",
              "      <td>float64</td>\n",
              "      <td>object</td>\n",
              "      <td>object</td>\n",
              "      <td>float64</td>\n",
              "      <td>float64</td>\n",
              "      <td>float64</td>\n",
              "      <td>float64</td>\n",
              "      <td>float64</td>\n",
              "      <td>float64</td>\n",
              "      <td>float64</td>\n",
              "      <td>float64</td>\n",
              "      <td>float64</td>\n",
              "      <td>float64</td>\n",
              "      <td>float64</td>\n",
              "      <td>float64</td>\n",
              "      <td>float64</td>\n",
              "      <td>float64</td>\n",
              "      <td>float64</td>\n",
              "      <td>float64</td>\n",
              "      <td>float64</td>\n",
              "      <td>float64</td>\n",
              "      <td>float64</td>\n",
              "      <td>object</td>\n",
              "      <td>float64</td>\n",
              "      <td>float64</td>\n",
              "      <td>float64</td>\n",
              "      <td>float64</td>\n",
              "      <td>float64</td>\n",
              "      <td>float64</td>\n",
              "      <td>float64</td>\n",
              "      <td>float64</td>\n",
              "      <td>float64</td>\n",
              "      <td>float64</td>\n",
              "      <td>float64</td>\n",
              "      <td>float64</td>\n",
              "      <td>float64</td>\n",
              "      <td>float64</td>\n",
              "    </tr>\n",
              "    <tr>\n",
              "      <th>2016.0</th>\n",
              "      <td>...</td>\n",
              "      <td>...</td>\n",
              "      <td>...</td>\n",
              "      <td>...</td>\n",
              "      <td>...</td>\n",
              "      <td>...</td>\n",
              "      <td>...</td>\n",
              "      <td>...</td>\n",
              "      <td>...</td>\n",
              "      <td>...</td>\n",
              "      <td>...</td>\n",
              "      <td>...</td>\n",
              "      <td>...</td>\n",
              "      <td>...</td>\n",
              "      <td>...</td>\n",
              "      <td>...</td>\n",
              "      <td>...</td>\n",
              "      <td>...</td>\n",
              "      <td>...</td>\n",
              "      <td>...</td>\n",
              "      <td>...</td>\n",
              "      <td>...</td>\n",
              "      <td>...</td>\n",
              "      <td>...</td>\n",
              "      <td>...</td>\n",
              "      <td>...</td>\n",
              "      <td>...</td>\n",
              "      <td>...</td>\n",
              "      <td>...</td>\n",
              "      <td>...</td>\n",
              "      <td>...</td>\n",
              "      <td>...</td>\n",
              "      <td>...</td>\n",
              "      <td>...</td>\n",
              "      <td>...</td>\n",
              "      <td>...</td>\n",
              "      <td>...</td>\n",
              "      <td>...</td>\n",
              "      <td>...</td>\n",
              "    </tr>\n",
              "  </tbody>\n",
              "</table>\n",
              "</div>\n",
              "<div>Dask Name: sort_index, 5 tasks</div>"
            ],
            "text/plain": [
              "Dask DataFrame Structure:\n",
              "               county    city  zipcode address   state     rent latitude longitude cemetery_dist_miles nationalhighway_miles railline_miles starbucks_miles walmart_miles hospital_miles physician_dist_miles dentist_dist_miles opt_dist_miles vet_dist_miles farmers_miles     time      bed     bath halfbath     sqft property_type   garage     pool fireplace    patio  lotsize Census_MedianIncome CollegeGrads WhiteCollar  Schools Unemployment EmploymentDiversity Census_Vacancy Crime_Rate HomePrice\n",
              "npartitions=1                                                                                                                                                                                                                                                                                                                                                                                                                                                                                                   \n",
              "1800.0         object  object  float64  object  object  float64  float64   float64             float64               float64        float64         float64       float64        float64              float64            float64        float64        float64       float64  float64  float64  float64  float64  float64        object  float64  float64   float64  float64  float64             float64      float64     float64  float64      float64             float64        float64    float64   float64\n",
              "2016.0            ...     ...      ...     ...     ...      ...      ...       ...                 ...                   ...            ...             ...           ...            ...                  ...                ...            ...            ...           ...      ...      ...      ...      ...      ...           ...      ...      ...       ...      ...      ...                 ...          ...         ...      ...          ...                 ...            ...        ...       ...\n",
              "Dask Name: sort_index, 5 tasks"
            ]
          },
          "metadata": {
            "tags": []
          },
          "execution_count": 14
        }
      ]
    },
    {
      "cell_type": "code",
      "metadata": {
        "id": "S0PbKy-JFlvh",
        "colab_type": "code",
        "outputId": "f385a6fe-589b-4e5b-b5b6-e68e70d5695b",
        "colab": {
          "base_uri": "https://localhost:8080/",
          "height": 34
        }
      },
      "source": [
        "tips_df.npartitions"
      ],
      "execution_count": 15,
      "outputs": [
        {
          "output_type": "execute_result",
          "data": {
            "text/plain": [
              "1"
            ]
          },
          "metadata": {
            "tags": []
          },
          "execution_count": 15
        }
      ]
    },
    {
      "cell_type": "code",
      "metadata": {
        "id": "H_ziwWmOFlsu",
        "colab_type": "code",
        "outputId": "5fbe1bf1-cf50-406a-c9d7-273e9f3b4471",
        "colab": {
          "base_uri": "https://localhost:8080/",
          "height": 34
        }
      },
      "source": [
        "tips_df.divisions"
      ],
      "execution_count": 16,
      "outputs": [
        {
          "output_type": "execute_result",
          "data": {
            "text/plain": [
              "(None, None)"
            ]
          },
          "metadata": {
            "tags": []
          },
          "execution_count": 16
        }
      ]
    },
    {
      "cell_type": "code",
      "metadata": {
        "id": "EU5wsgdpFlp-",
        "colab_type": "code",
        "colab": {}
      },
      "source": [
        "tips_df= tips_df.repartition(npartitions=4)"
      ],
      "execution_count": 0,
      "outputs": []
    },
    {
      "cell_type": "code",
      "metadata": {
        "id": "2X2EOzzJFlmu",
        "colab_type": "code",
        "outputId": "bb3989d9-a303-464b-ba97-09f58cca9177",
        "colab": {
          "base_uri": "https://localhost:8080/",
          "height": 34
        }
      },
      "source": [
        "tips_df.npartitions"
      ],
      "execution_count": 18,
      "outputs": [
        {
          "output_type": "execute_result",
          "data": {
            "text/plain": [
              "4"
            ]
          },
          "metadata": {
            "tags": []
          },
          "execution_count": 18
        }
      ]
    },
    {
      "cell_type": "markdown",
      "metadata": {
        "id": "uNICzorc6O7I",
        "colab_type": "text"
      },
      "source": [
        "Some Readings:\n",
        "* https://docs.dask.org/en/latest/why.html\n",
        "* https://hub.gke.mybinder.org/user/dask-dask-examples-vfc23dy2/lab\n",
        "* https://www.youtube.com/watch?v=ods97a5Pzw0\n",
        "\n",
        "Awesome Article: https://docs.dask.org/en/latest/spark.html\n",
        "\n",
        "\n",
        "Above articles tell you about how DASK and SPARK are related and How PySpark and Dask distributed can be compared !!!\n",
        "\n",
        "But the one below shows the awesome speed factor compared to that of SPARK\n",
        "\n",
        "https://docs.dask.org/en/latest/gpu.html"
      ]
    },
    {
      "cell_type": "code",
      "metadata": {
        "id": "u98xTRLYFlj2",
        "colab_type": "code",
        "colab": {
          "base_uri": "https://localhost:8080/",
          "height": 706
        },
        "outputId": "7fb8ab9e-7578-4a90-ba3f-c814d75afe35"
      },
      "source": [
        "from dask.distributed import Client, LocalCluster\n",
        "\n",
        "#client = LocalCluster(n_workers=2,scheduler_port=0)\n",
        "#client = Client(processes=False,)\n",
        "client = LocalCluster(processes=False, n_workers=2, scheduler_port=9999)"
      ],
      "execution_count": 33,
      "outputs": [
        {
          "output_type": "stream",
          "text": [
            "/usr/local/lib/python3.6/dist-packages/distributed/bokeh/core.py:57: UserWarning: \n",
            "Port 8787 is already in use. \n",
            "Perhaps you already have a cluster running?\n",
            "Hosting the diagnostics dashboard on a random port instead.\n",
            "  warnings.warn('\\n' + msg)\n",
            "tornado.application - ERROR - Multiple exceptions in yield list\n",
            "Traceback (most recent call last):\n",
            "  File \"/usr/local/lib/python3.6/dist-packages/tornado/gen.py\", line 828, in callback\n",
            "    result_list.append(f.result())\n",
            "  File \"/usr/local/lib/python3.6/dist-packages/tornado/concurrent.py\", line 238, in result\n",
            "    raise_exc_info(self._exc_info)\n",
            "  File \"<string>\", line 4, in raise_exc_info\n",
            "  File \"/usr/local/lib/python3.6/dist-packages/tornado/gen.py\", line 1069, in run\n",
            "    yielded = self.gen.send(value)\n",
            "  File \"/usr/local/lib/python3.6/dist-packages/distributed/deploy/local.py\", line 229, in _start_worker\n",
            "    raise gen.TimeoutError(\"Worker failed to start\")\n",
            "tornado.gen.TimeoutError: Worker failed to start\n"
          ],
          "name": "stderr"
        },
        {
          "output_type": "error",
          "ename": "TimeoutError",
          "evalue": "ignored",
          "traceback": [
            "\u001b[0;31m---------------------------------------------------------------------------\u001b[0m",
            "\u001b[0;31mTimeoutError\u001b[0m                              Traceback (most recent call last)",
            "\u001b[0;32m/usr/local/lib/python3.6/dist-packages/tornado/gen.py\u001b[0m in \u001b[0;36mcallback\u001b[0;34m(f)\u001b[0m\n\u001b[1;32m    827\u001b[0m                 \u001b[0;32mtry\u001b[0m\u001b[0;34m:\u001b[0m\u001b[0;34m\u001b[0m\u001b[0;34m\u001b[0m\u001b[0m\n\u001b[0;32m--> 828\u001b[0;31m                     \u001b[0mresult_list\u001b[0m\u001b[0;34m.\u001b[0m\u001b[0mappend\u001b[0m\u001b[0;34m(\u001b[0m\u001b[0mf\u001b[0m\u001b[0;34m.\u001b[0m\u001b[0mresult\u001b[0m\u001b[0;34m(\u001b[0m\u001b[0;34m)\u001b[0m\u001b[0;34m)\u001b[0m\u001b[0;34m\u001b[0m\u001b[0;34m\u001b[0m\u001b[0m\n\u001b[0m\u001b[1;32m    829\u001b[0m                 \u001b[0;32mexcept\u001b[0m \u001b[0mException\u001b[0m \u001b[0;32mas\u001b[0m \u001b[0me\u001b[0m\u001b[0;34m:\u001b[0m\u001b[0;34m\u001b[0m\u001b[0;34m\u001b[0m\u001b[0m\n",
            "\u001b[0;32m/usr/local/lib/python3.6/dist-packages/tornado/concurrent.py\u001b[0m in \u001b[0;36mresult\u001b[0;34m(self, timeout)\u001b[0m\n\u001b[1;32m    237\u001b[0m             \u001b[0;32mtry\u001b[0m\u001b[0;34m:\u001b[0m\u001b[0;34m\u001b[0m\u001b[0;34m\u001b[0m\u001b[0m\n\u001b[0;32m--> 238\u001b[0;31m                 \u001b[0mraise_exc_info\u001b[0m\u001b[0;34m(\u001b[0m\u001b[0mself\u001b[0m\u001b[0;34m.\u001b[0m\u001b[0m_exc_info\u001b[0m\u001b[0;34m)\u001b[0m\u001b[0;34m\u001b[0m\u001b[0;34m\u001b[0m\u001b[0m\n\u001b[0m\u001b[1;32m    239\u001b[0m             \u001b[0;32mfinally\u001b[0m\u001b[0;34m:\u001b[0m\u001b[0;34m\u001b[0m\u001b[0;34m\u001b[0m\u001b[0m\n",
            "\u001b[0;32m/usr/local/lib/python3.6/dist-packages/tornado/util.py\u001b[0m in \u001b[0;36mraise_exc_info\u001b[0;34m(exc_info)\u001b[0m\n",
            "\u001b[0;32m/usr/local/lib/python3.6/dist-packages/tornado/gen.py\u001b[0m in \u001b[0;36mrun\u001b[0;34m(self)\u001b[0m\n\u001b[1;32m   1068\u001b[0m                     \u001b[0;32melse\u001b[0m\u001b[0;34m:\u001b[0m\u001b[0;34m\u001b[0m\u001b[0;34m\u001b[0m\u001b[0m\n\u001b[0;32m-> 1069\u001b[0;31m                         \u001b[0myielded\u001b[0m \u001b[0;34m=\u001b[0m \u001b[0mself\u001b[0m\u001b[0;34m.\u001b[0m\u001b[0mgen\u001b[0m\u001b[0;34m.\u001b[0m\u001b[0msend\u001b[0m\u001b[0;34m(\u001b[0m\u001b[0mvalue\u001b[0m\u001b[0;34m)\u001b[0m\u001b[0;34m\u001b[0m\u001b[0;34m\u001b[0m\u001b[0m\n\u001b[0m\u001b[1;32m   1070\u001b[0m \u001b[0;34m\u001b[0m\u001b[0m\n",
            "\u001b[0;32m/usr/local/lib/python3.6/dist-packages/distributed/deploy/local.py\u001b[0m in \u001b[0;36m_start_worker\u001b[0;34m(self, death_timeout, **kwargs)\u001b[0m\n\u001b[1;32m    228\u001b[0m             \u001b[0mself\u001b[0m\u001b[0;34m.\u001b[0m\u001b[0mworkers\u001b[0m\u001b[0;34m.\u001b[0m\u001b[0mremove\u001b[0m\u001b[0;34m(\u001b[0m\u001b[0mw\u001b[0m\u001b[0;34m)\u001b[0m\u001b[0;34m\u001b[0m\u001b[0;34m\u001b[0m\u001b[0m\n\u001b[0;32m--> 229\u001b[0;31m             \u001b[0;32mraise\u001b[0m \u001b[0mgen\u001b[0m\u001b[0;34m.\u001b[0m\u001b[0mTimeoutError\u001b[0m\u001b[0;34m(\u001b[0m\u001b[0;34m\"Worker failed to start\"\u001b[0m\u001b[0;34m)\u001b[0m\u001b[0;34m\u001b[0m\u001b[0;34m\u001b[0m\u001b[0m\n\u001b[0m\u001b[1;32m    230\u001b[0m \u001b[0;34m\u001b[0m\u001b[0m\n",
            "\u001b[0;31mTimeoutError\u001b[0m: Worker failed to start",
            "\nDuring handling of the above exception, another exception occurred:\n",
            "\u001b[0;31mTimeoutError\u001b[0m                              Traceback (most recent call last)",
            "\u001b[0;32m<ipython-input-33-b776dd49a82c>\u001b[0m in \u001b[0;36m<module>\u001b[0;34m()\u001b[0m\n\u001b[1;32m      3\u001b[0m \u001b[0;31m#client = LocalCluster(n_workers=2,scheduler_port=0)\u001b[0m\u001b[0;34m\u001b[0m\u001b[0;34m\u001b[0m\u001b[0;34m\u001b[0m\u001b[0m\n\u001b[1;32m      4\u001b[0m \u001b[0;31m#client = Client(processes=False,)\u001b[0m\u001b[0;34m\u001b[0m\u001b[0;34m\u001b[0m\u001b[0;34m\u001b[0m\u001b[0m\n\u001b[0;32m----> 5\u001b[0;31m \u001b[0mclient\u001b[0m \u001b[0;34m=\u001b[0m \u001b[0mLocalCluster\u001b[0m\u001b[0;34m(\u001b[0m\u001b[0mprocesses\u001b[0m\u001b[0;34m=\u001b[0m\u001b[0;32mFalse\u001b[0m\u001b[0;34m,\u001b[0m \u001b[0mn_workers\u001b[0m\u001b[0;34m=\u001b[0m\u001b[0;36m2\u001b[0m\u001b[0;34m,\u001b[0m \u001b[0mscheduler_port\u001b[0m\u001b[0;34m=\u001b[0m\u001b[0;36m9999\u001b[0m\u001b[0;34m)\u001b[0m\u001b[0;34m\u001b[0m\u001b[0;34m\u001b[0m\u001b[0m\n\u001b[0m",
            "\u001b[0;32m/usr/local/lib/python3.6/dist-packages/distributed/deploy/local.py\u001b[0m in \u001b[0;36m__init__\u001b[0;34m(self, n_workers, threads_per_worker, processes, loop, start, ip, scheduler_port, silence_logs, diagnostics_port, services, worker_services, service_kwargs, asynchronous, security, **worker_kwargs)\u001b[0m\n\u001b[1;32m    140\u001b[0m             \u001b[0mself\u001b[0m\u001b[0;34m.\u001b[0m\u001b[0mworker_kwargs\u001b[0m\u001b[0;34m[\u001b[0m\u001b[0;34m'security'\u001b[0m\u001b[0;34m]\u001b[0m \u001b[0;34m=\u001b[0m \u001b[0msecurity\u001b[0m\u001b[0;34m\u001b[0m\u001b[0;34m\u001b[0m\u001b[0m\n\u001b[1;32m    141\u001b[0m \u001b[0;34m\u001b[0m\u001b[0m\n\u001b[0;32m--> 142\u001b[0;31m         \u001b[0mself\u001b[0m\u001b[0;34m.\u001b[0m\u001b[0mstart\u001b[0m\u001b[0;34m(\u001b[0m\u001b[0mip\u001b[0m\u001b[0;34m=\u001b[0m\u001b[0mip\u001b[0m\u001b[0;34m,\u001b[0m \u001b[0mn_workers\u001b[0m\u001b[0;34m=\u001b[0m\u001b[0mn_workers\u001b[0m\u001b[0;34m)\u001b[0m\u001b[0;34m\u001b[0m\u001b[0;34m\u001b[0m\u001b[0m\n\u001b[0m\u001b[1;32m    143\u001b[0m \u001b[0;34m\u001b[0m\u001b[0m\n\u001b[1;32m    144\u001b[0m         \u001b[0mclusters_to_close\u001b[0m\u001b[0;34m.\u001b[0m\u001b[0madd\u001b[0m\u001b[0;34m(\u001b[0m\u001b[0mself\u001b[0m\u001b[0;34m)\u001b[0m\u001b[0;34m\u001b[0m\u001b[0;34m\u001b[0m\u001b[0m\n",
            "\u001b[0;32m/usr/local/lib/python3.6/dist-packages/distributed/deploy/local.py\u001b[0m in \u001b[0;36mstart\u001b[0;34m(self, **kwargs)\u001b[0m\n\u001b[1;32m    177\u001b[0m             \u001b[0mself\u001b[0m\u001b[0;34m.\u001b[0m\u001b[0m_started\u001b[0m \u001b[0;34m=\u001b[0m \u001b[0mself\u001b[0m\u001b[0;34m.\u001b[0m\u001b[0m_start\u001b[0m\u001b[0;34m(\u001b[0m\u001b[0;34m**\u001b[0m\u001b[0mkwargs\u001b[0m\u001b[0;34m)\u001b[0m\u001b[0;34m\u001b[0m\u001b[0;34m\u001b[0m\u001b[0m\n\u001b[1;32m    178\u001b[0m         \u001b[0;32melse\u001b[0m\u001b[0;34m:\u001b[0m\u001b[0;34m\u001b[0m\u001b[0;34m\u001b[0m\u001b[0m\n\u001b[0;32m--> 179\u001b[0;31m             \u001b[0mself\u001b[0m\u001b[0;34m.\u001b[0m\u001b[0msync\u001b[0m\u001b[0;34m(\u001b[0m\u001b[0mself\u001b[0m\u001b[0;34m.\u001b[0m\u001b[0m_start\u001b[0m\u001b[0;34m,\u001b[0m \u001b[0;34m**\u001b[0m\u001b[0mkwargs\u001b[0m\u001b[0;34m)\u001b[0m\u001b[0;34m\u001b[0m\u001b[0;34m\u001b[0m\u001b[0m\n\u001b[0m\u001b[1;32m    180\u001b[0m \u001b[0;34m\u001b[0m\u001b[0m\n\u001b[1;32m    181\u001b[0m     \u001b[0;34m@\u001b[0m\u001b[0mgen\u001b[0m\u001b[0;34m.\u001b[0m\u001b[0mcoroutine\u001b[0m\u001b[0;34m\u001b[0m\u001b[0;34m\u001b[0m\u001b[0m\n",
            "\u001b[0;32m/usr/local/lib/python3.6/dist-packages/distributed/deploy/local.py\u001b[0m in \u001b[0;36msync\u001b[0;34m(self, func, *args, **kwargs)\u001b[0m\n\u001b[1;32m    170\u001b[0m             \u001b[0;32mreturn\u001b[0m \u001b[0mfuture\u001b[0m\u001b[0;34m\u001b[0m\u001b[0;34m\u001b[0m\u001b[0m\n\u001b[1;32m    171\u001b[0m         \u001b[0;32melse\u001b[0m\u001b[0;34m:\u001b[0m\u001b[0;34m\u001b[0m\u001b[0;34m\u001b[0m\u001b[0m\n\u001b[0;32m--> 172\u001b[0;31m             \u001b[0;32mreturn\u001b[0m \u001b[0msync\u001b[0m\u001b[0;34m(\u001b[0m\u001b[0mself\u001b[0m\u001b[0;34m.\u001b[0m\u001b[0mloop\u001b[0m\u001b[0;34m,\u001b[0m \u001b[0mfunc\u001b[0m\u001b[0;34m,\u001b[0m \u001b[0;34m*\u001b[0m\u001b[0margs\u001b[0m\u001b[0;34m,\u001b[0m \u001b[0;34m**\u001b[0m\u001b[0mkwargs\u001b[0m\u001b[0;34m)\u001b[0m\u001b[0;34m\u001b[0m\u001b[0;34m\u001b[0m\u001b[0m\n\u001b[0m\u001b[1;32m    173\u001b[0m \u001b[0;34m\u001b[0m\u001b[0m\n\u001b[1;32m    174\u001b[0m     \u001b[0;32mdef\u001b[0m \u001b[0mstart\u001b[0m\u001b[0;34m(\u001b[0m\u001b[0mself\u001b[0m\u001b[0;34m,\u001b[0m \u001b[0;34m**\u001b[0m\u001b[0mkwargs\u001b[0m\u001b[0;34m)\u001b[0m\u001b[0;34m:\u001b[0m\u001b[0;34m\u001b[0m\u001b[0;34m\u001b[0m\u001b[0m\n",
            "\u001b[0;32m/usr/local/lib/python3.6/dist-packages/distributed/utils.py\u001b[0m in \u001b[0;36msync\u001b[0;34m(loop, func, *args, **kwargs)\u001b[0m\n\u001b[1;32m    275\u001b[0m             \u001b[0me\u001b[0m\u001b[0;34m.\u001b[0m\u001b[0mwait\u001b[0m\u001b[0;34m(\u001b[0m\u001b[0;36m10\u001b[0m\u001b[0;34m)\u001b[0m\u001b[0;34m\u001b[0m\u001b[0;34m\u001b[0m\u001b[0m\n\u001b[1;32m    276\u001b[0m     \u001b[0;32mif\u001b[0m \u001b[0merror\u001b[0m\u001b[0;34m[\u001b[0m\u001b[0;36m0\u001b[0m\u001b[0;34m]\u001b[0m\u001b[0;34m:\u001b[0m\u001b[0;34m\u001b[0m\u001b[0;34m\u001b[0m\u001b[0m\n\u001b[0;32m--> 277\u001b[0;31m         \u001b[0msix\u001b[0m\u001b[0;34m.\u001b[0m\u001b[0mreraise\u001b[0m\u001b[0;34m(\u001b[0m\u001b[0;34m*\u001b[0m\u001b[0merror\u001b[0m\u001b[0;34m[\u001b[0m\u001b[0;36m0\u001b[0m\u001b[0;34m]\u001b[0m\u001b[0;34m)\u001b[0m\u001b[0;34m\u001b[0m\u001b[0;34m\u001b[0m\u001b[0m\n\u001b[0m\u001b[1;32m    278\u001b[0m     \u001b[0;32melse\u001b[0m\u001b[0;34m:\u001b[0m\u001b[0;34m\u001b[0m\u001b[0;34m\u001b[0m\u001b[0m\n\u001b[1;32m    279\u001b[0m         \u001b[0;32mreturn\u001b[0m \u001b[0mresult\u001b[0m\u001b[0;34m[\u001b[0m\u001b[0;36m0\u001b[0m\u001b[0;34m]\u001b[0m\u001b[0;34m\u001b[0m\u001b[0;34m\u001b[0m\u001b[0m\n",
            "\u001b[0;32m/usr/local/lib/python3.6/dist-packages/six.py\u001b[0m in \u001b[0;36mreraise\u001b[0;34m(tp, value, tb)\u001b[0m\n\u001b[1;32m    691\u001b[0m             \u001b[0;32mif\u001b[0m \u001b[0mvalue\u001b[0m\u001b[0;34m.\u001b[0m\u001b[0m__traceback__\u001b[0m \u001b[0;32mis\u001b[0m \u001b[0;32mnot\u001b[0m \u001b[0mtb\u001b[0m\u001b[0;34m:\u001b[0m\u001b[0;34m\u001b[0m\u001b[0;34m\u001b[0m\u001b[0m\n\u001b[1;32m    692\u001b[0m                 \u001b[0;32mraise\u001b[0m \u001b[0mvalue\u001b[0m\u001b[0;34m.\u001b[0m\u001b[0mwith_traceback\u001b[0m\u001b[0;34m(\u001b[0m\u001b[0mtb\u001b[0m\u001b[0;34m)\u001b[0m\u001b[0;34m\u001b[0m\u001b[0;34m\u001b[0m\u001b[0m\n\u001b[0;32m--> 693\u001b[0;31m             \u001b[0;32mraise\u001b[0m \u001b[0mvalue\u001b[0m\u001b[0;34m\u001b[0m\u001b[0;34m\u001b[0m\u001b[0m\n\u001b[0m\u001b[1;32m    694\u001b[0m         \u001b[0;32mfinally\u001b[0m\u001b[0;34m:\u001b[0m\u001b[0;34m\u001b[0m\u001b[0;34m\u001b[0m\u001b[0m\n\u001b[1;32m    695\u001b[0m             \u001b[0mvalue\u001b[0m \u001b[0;34m=\u001b[0m \u001b[0;32mNone\u001b[0m\u001b[0;34m\u001b[0m\u001b[0;34m\u001b[0m\u001b[0m\n",
            "\u001b[0;32m/usr/local/lib/python3.6/dist-packages/distributed/utils.py\u001b[0m in \u001b[0;36mf\u001b[0;34m()\u001b[0m\n\u001b[1;32m    260\u001b[0m             \u001b[0;32mif\u001b[0m \u001b[0mtimeout\u001b[0m \u001b[0;32mis\u001b[0m \u001b[0;32mnot\u001b[0m \u001b[0;32mNone\u001b[0m\u001b[0;34m:\u001b[0m\u001b[0;34m\u001b[0m\u001b[0;34m\u001b[0m\u001b[0m\n\u001b[1;32m    261\u001b[0m                 \u001b[0mfuture\u001b[0m \u001b[0;34m=\u001b[0m \u001b[0mgen\u001b[0m\u001b[0;34m.\u001b[0m\u001b[0mwith_timeout\u001b[0m\u001b[0;34m(\u001b[0m\u001b[0mtimedelta\u001b[0m\u001b[0;34m(\u001b[0m\u001b[0mseconds\u001b[0m\u001b[0;34m=\u001b[0m\u001b[0mtimeout\u001b[0m\u001b[0;34m)\u001b[0m\u001b[0;34m,\u001b[0m \u001b[0mfuture\u001b[0m\u001b[0;34m)\u001b[0m\u001b[0;34m\u001b[0m\u001b[0;34m\u001b[0m\u001b[0m\n\u001b[0;32m--> 262\u001b[0;31m             \u001b[0mresult\u001b[0m\u001b[0;34m[\u001b[0m\u001b[0;36m0\u001b[0m\u001b[0;34m]\u001b[0m \u001b[0;34m=\u001b[0m \u001b[0;32myield\u001b[0m \u001b[0mfuture\u001b[0m\u001b[0;34m\u001b[0m\u001b[0;34m\u001b[0m\u001b[0m\n\u001b[0m\u001b[1;32m    263\u001b[0m         \u001b[0;32mexcept\u001b[0m \u001b[0mException\u001b[0m \u001b[0;32mas\u001b[0m \u001b[0mexc\u001b[0m\u001b[0;34m:\u001b[0m\u001b[0;34m\u001b[0m\u001b[0;34m\u001b[0m\u001b[0m\n\u001b[1;32m    264\u001b[0m             \u001b[0merror\u001b[0m\u001b[0;34m[\u001b[0m\u001b[0;36m0\u001b[0m\u001b[0;34m]\u001b[0m \u001b[0;34m=\u001b[0m \u001b[0msys\u001b[0m\u001b[0;34m.\u001b[0m\u001b[0mexc_info\u001b[0m\u001b[0;34m(\u001b[0m\u001b[0;34m)\u001b[0m\u001b[0;34m\u001b[0m\u001b[0;34m\u001b[0m\u001b[0m\n",
            "\u001b[0;32m/usr/local/lib/python3.6/dist-packages/tornado/gen.py\u001b[0m in \u001b[0;36mrun\u001b[0;34m(self)\u001b[0m\n\u001b[1;32m   1053\u001b[0m \u001b[0;34m\u001b[0m\u001b[0m\n\u001b[1;32m   1054\u001b[0m                     \u001b[0;32mtry\u001b[0m\u001b[0;34m:\u001b[0m\u001b[0;34m\u001b[0m\u001b[0;34m\u001b[0m\u001b[0m\n\u001b[0;32m-> 1055\u001b[0;31m                         \u001b[0mvalue\u001b[0m \u001b[0;34m=\u001b[0m \u001b[0mfuture\u001b[0m\u001b[0;34m.\u001b[0m\u001b[0mresult\u001b[0m\u001b[0;34m(\u001b[0m\u001b[0;34m)\u001b[0m\u001b[0;34m\u001b[0m\u001b[0;34m\u001b[0m\u001b[0m\n\u001b[0m\u001b[1;32m   1056\u001b[0m                     \u001b[0;32mexcept\u001b[0m \u001b[0mException\u001b[0m\u001b[0;34m:\u001b[0m\u001b[0;34m\u001b[0m\u001b[0;34m\u001b[0m\u001b[0m\n\u001b[1;32m   1057\u001b[0m                         \u001b[0mself\u001b[0m\u001b[0;34m.\u001b[0m\u001b[0mhad_exception\u001b[0m \u001b[0;34m=\u001b[0m \u001b[0;32mTrue\u001b[0m\u001b[0;34m\u001b[0m\u001b[0;34m\u001b[0m\u001b[0m\n",
            "\u001b[0;32m/usr/local/lib/python3.6/dist-packages/tornado/concurrent.py\u001b[0m in \u001b[0;36mresult\u001b[0;34m(self, timeout)\u001b[0m\n\u001b[1;32m    236\u001b[0m         \u001b[0;32mif\u001b[0m \u001b[0mself\u001b[0m\u001b[0;34m.\u001b[0m\u001b[0m_exc_info\u001b[0m \u001b[0;32mis\u001b[0m \u001b[0;32mnot\u001b[0m \u001b[0;32mNone\u001b[0m\u001b[0;34m:\u001b[0m\u001b[0;34m\u001b[0m\u001b[0;34m\u001b[0m\u001b[0m\n\u001b[1;32m    237\u001b[0m             \u001b[0;32mtry\u001b[0m\u001b[0;34m:\u001b[0m\u001b[0;34m\u001b[0m\u001b[0;34m\u001b[0m\u001b[0m\n\u001b[0;32m--> 238\u001b[0;31m                 \u001b[0mraise_exc_info\u001b[0m\u001b[0;34m(\u001b[0m\u001b[0mself\u001b[0m\u001b[0;34m.\u001b[0m\u001b[0m_exc_info\u001b[0m\u001b[0;34m)\u001b[0m\u001b[0;34m\u001b[0m\u001b[0;34m\u001b[0m\u001b[0m\n\u001b[0m\u001b[1;32m    239\u001b[0m             \u001b[0;32mfinally\u001b[0m\u001b[0;34m:\u001b[0m\u001b[0;34m\u001b[0m\u001b[0;34m\u001b[0m\u001b[0m\n\u001b[1;32m    240\u001b[0m                 \u001b[0mself\u001b[0m \u001b[0;34m=\u001b[0m \u001b[0;32mNone\u001b[0m\u001b[0;34m\u001b[0m\u001b[0;34m\u001b[0m\u001b[0m\n",
            "\u001b[0;32m/usr/local/lib/python3.6/dist-packages/tornado/util.py\u001b[0m in \u001b[0;36mraise_exc_info\u001b[0;34m(exc_info)\u001b[0m\n",
            "\u001b[0;32m/usr/local/lib/python3.6/dist-packages/tornado/gen.py\u001b[0m in \u001b[0;36mrun\u001b[0;34m(self)\u001b[0m\n\u001b[1;32m   1061\u001b[0m                     \u001b[0;32mif\u001b[0m \u001b[0mexc_info\u001b[0m \u001b[0;32mis\u001b[0m \u001b[0;32mnot\u001b[0m \u001b[0;32mNone\u001b[0m\u001b[0;34m:\u001b[0m\u001b[0;34m\u001b[0m\u001b[0;34m\u001b[0m\u001b[0m\n\u001b[1;32m   1062\u001b[0m                         \u001b[0;32mtry\u001b[0m\u001b[0;34m:\u001b[0m\u001b[0;34m\u001b[0m\u001b[0;34m\u001b[0m\u001b[0m\n\u001b[0;32m-> 1063\u001b[0;31m                             \u001b[0myielded\u001b[0m \u001b[0;34m=\u001b[0m \u001b[0mself\u001b[0m\u001b[0;34m.\u001b[0m\u001b[0mgen\u001b[0m\u001b[0;34m.\u001b[0m\u001b[0mthrow\u001b[0m\u001b[0;34m(\u001b[0m\u001b[0;34m*\u001b[0m\u001b[0mexc_info\u001b[0m\u001b[0;34m)\u001b[0m\u001b[0;34m\u001b[0m\u001b[0;34m\u001b[0m\u001b[0m\n\u001b[0m\u001b[1;32m   1064\u001b[0m                         \u001b[0;32mfinally\u001b[0m\u001b[0;34m:\u001b[0m\u001b[0;34m\u001b[0m\u001b[0;34m\u001b[0m\u001b[0m\n\u001b[1;32m   1065\u001b[0m                             \u001b[0;31m# Break up a reference to itself\u001b[0m\u001b[0;34m\u001b[0m\u001b[0;34m\u001b[0m\u001b[0;34m\u001b[0m\u001b[0m\n",
            "\u001b[0;32m/usr/local/lib/python3.6/dist-packages/distributed/deploy/local.py\u001b[0m in \u001b[0;36m_start\u001b[0;34m(self, ip, n_workers)\u001b[0m\n\u001b[1;32m    197\u001b[0m         \u001b[0mself\u001b[0m\u001b[0;34m.\u001b[0m\u001b[0mscheduler\u001b[0m\u001b[0;34m.\u001b[0m\u001b[0mstart\u001b[0m\u001b[0;34m(\u001b[0m\u001b[0mscheduler_address\u001b[0m\u001b[0;34m)\u001b[0m\u001b[0;34m\u001b[0m\u001b[0;34m\u001b[0m\u001b[0m\n\u001b[1;32m    198\u001b[0m \u001b[0;34m\u001b[0m\u001b[0m\n\u001b[0;32m--> 199\u001b[0;31m         \u001b[0;32myield\u001b[0m \u001b[0;34m[\u001b[0m\u001b[0mself\u001b[0m\u001b[0;34m.\u001b[0m\u001b[0m_start_worker\u001b[0m\u001b[0;34m(\u001b[0m\u001b[0;34m**\u001b[0m\u001b[0mself\u001b[0m\u001b[0;34m.\u001b[0m\u001b[0mworker_kwargs\u001b[0m\u001b[0;34m)\u001b[0m \u001b[0;32mfor\u001b[0m \u001b[0mi\u001b[0m \u001b[0;32min\u001b[0m \u001b[0mrange\u001b[0m\u001b[0;34m(\u001b[0m\u001b[0mn_workers\u001b[0m\u001b[0;34m)\u001b[0m\u001b[0;34m]\u001b[0m\u001b[0;34m\u001b[0m\u001b[0;34m\u001b[0m\u001b[0m\n\u001b[0m\u001b[1;32m    200\u001b[0m \u001b[0;34m\u001b[0m\u001b[0m\n\u001b[1;32m    201\u001b[0m         \u001b[0mself\u001b[0m\u001b[0;34m.\u001b[0m\u001b[0mstatus\u001b[0m \u001b[0;34m=\u001b[0m \u001b[0;34m'running'\u001b[0m\u001b[0;34m\u001b[0m\u001b[0;34m\u001b[0m\u001b[0m\n",
            "\u001b[0;32m/usr/local/lib/python3.6/dist-packages/tornado/gen.py\u001b[0m in \u001b[0;36mrun\u001b[0;34m(self)\u001b[0m\n\u001b[1;32m   1053\u001b[0m \u001b[0;34m\u001b[0m\u001b[0m\n\u001b[1;32m   1054\u001b[0m                     \u001b[0;32mtry\u001b[0m\u001b[0;34m:\u001b[0m\u001b[0;34m\u001b[0m\u001b[0;34m\u001b[0m\u001b[0m\n\u001b[0;32m-> 1055\u001b[0;31m                         \u001b[0mvalue\u001b[0m \u001b[0;34m=\u001b[0m \u001b[0mfuture\u001b[0m\u001b[0;34m.\u001b[0m\u001b[0mresult\u001b[0m\u001b[0;34m(\u001b[0m\u001b[0;34m)\u001b[0m\u001b[0;34m\u001b[0m\u001b[0;34m\u001b[0m\u001b[0m\n\u001b[0m\u001b[1;32m   1056\u001b[0m                     \u001b[0;32mexcept\u001b[0m \u001b[0mException\u001b[0m\u001b[0;34m:\u001b[0m\u001b[0;34m\u001b[0m\u001b[0;34m\u001b[0m\u001b[0m\n\u001b[1;32m   1057\u001b[0m                         \u001b[0mself\u001b[0m\u001b[0;34m.\u001b[0m\u001b[0mhad_exception\u001b[0m \u001b[0;34m=\u001b[0m \u001b[0;32mTrue\u001b[0m\u001b[0;34m\u001b[0m\u001b[0;34m\u001b[0m\u001b[0m\n",
            "\u001b[0;32m/usr/local/lib/python3.6/dist-packages/tornado/concurrent.py\u001b[0m in \u001b[0;36mresult\u001b[0;34m(self, timeout)\u001b[0m\n\u001b[1;32m    236\u001b[0m         \u001b[0;32mif\u001b[0m \u001b[0mself\u001b[0m\u001b[0;34m.\u001b[0m\u001b[0m_exc_info\u001b[0m \u001b[0;32mis\u001b[0m \u001b[0;32mnot\u001b[0m \u001b[0;32mNone\u001b[0m\u001b[0;34m:\u001b[0m\u001b[0;34m\u001b[0m\u001b[0;34m\u001b[0m\u001b[0m\n\u001b[1;32m    237\u001b[0m             \u001b[0;32mtry\u001b[0m\u001b[0;34m:\u001b[0m\u001b[0;34m\u001b[0m\u001b[0;34m\u001b[0m\u001b[0m\n\u001b[0;32m--> 238\u001b[0;31m                 \u001b[0mraise_exc_info\u001b[0m\u001b[0;34m(\u001b[0m\u001b[0mself\u001b[0m\u001b[0;34m.\u001b[0m\u001b[0m_exc_info\u001b[0m\u001b[0;34m)\u001b[0m\u001b[0;34m\u001b[0m\u001b[0;34m\u001b[0m\u001b[0m\n\u001b[0m\u001b[1;32m    239\u001b[0m             \u001b[0;32mfinally\u001b[0m\u001b[0;34m:\u001b[0m\u001b[0;34m\u001b[0m\u001b[0;34m\u001b[0m\u001b[0m\n\u001b[1;32m    240\u001b[0m                 \u001b[0mself\u001b[0m \u001b[0;34m=\u001b[0m \u001b[0;32mNone\u001b[0m\u001b[0;34m\u001b[0m\u001b[0;34m\u001b[0m\u001b[0m\n",
            "\u001b[0;32m/usr/local/lib/python3.6/dist-packages/tornado/util.py\u001b[0m in \u001b[0;36mraise_exc_info\u001b[0;34m(exc_info)\u001b[0m\n",
            "\u001b[0;32m/usr/local/lib/python3.6/dist-packages/tornado/gen.py\u001b[0m in \u001b[0;36mcallback\u001b[0;34m(f)\u001b[0m\n\u001b[1;32m    826\u001b[0m             \u001b[0;32mfor\u001b[0m \u001b[0mf\u001b[0m \u001b[0;32min\u001b[0m \u001b[0mchildren\u001b[0m\u001b[0;34m:\u001b[0m\u001b[0;34m\u001b[0m\u001b[0;34m\u001b[0m\u001b[0m\n\u001b[1;32m    827\u001b[0m                 \u001b[0;32mtry\u001b[0m\u001b[0;34m:\u001b[0m\u001b[0;34m\u001b[0m\u001b[0;34m\u001b[0m\u001b[0m\n\u001b[0;32m--> 828\u001b[0;31m                     \u001b[0mresult_list\u001b[0m\u001b[0;34m.\u001b[0m\u001b[0mappend\u001b[0m\u001b[0;34m(\u001b[0m\u001b[0mf\u001b[0m\u001b[0;34m.\u001b[0m\u001b[0mresult\u001b[0m\u001b[0;34m(\u001b[0m\u001b[0;34m)\u001b[0m\u001b[0;34m)\u001b[0m\u001b[0;34m\u001b[0m\u001b[0;34m\u001b[0m\u001b[0m\n\u001b[0m\u001b[1;32m    829\u001b[0m                 \u001b[0;32mexcept\u001b[0m \u001b[0mException\u001b[0m \u001b[0;32mas\u001b[0m \u001b[0me\u001b[0m\u001b[0;34m:\u001b[0m\u001b[0;34m\u001b[0m\u001b[0;34m\u001b[0m\u001b[0m\n\u001b[1;32m    830\u001b[0m                     \u001b[0;32mif\u001b[0m \u001b[0mfuture\u001b[0m\u001b[0;34m.\u001b[0m\u001b[0mdone\u001b[0m\u001b[0;34m(\u001b[0m\u001b[0;34m)\u001b[0m\u001b[0;34m:\u001b[0m\u001b[0;34m\u001b[0m\u001b[0;34m\u001b[0m\u001b[0m\n",
            "\u001b[0;32m/usr/local/lib/python3.6/dist-packages/tornado/concurrent.py\u001b[0m in \u001b[0;36mresult\u001b[0;34m(self, timeout)\u001b[0m\n\u001b[1;32m    236\u001b[0m         \u001b[0;32mif\u001b[0m \u001b[0mself\u001b[0m\u001b[0;34m.\u001b[0m\u001b[0m_exc_info\u001b[0m \u001b[0;32mis\u001b[0m \u001b[0;32mnot\u001b[0m \u001b[0;32mNone\u001b[0m\u001b[0;34m:\u001b[0m\u001b[0;34m\u001b[0m\u001b[0;34m\u001b[0m\u001b[0m\n\u001b[1;32m    237\u001b[0m             \u001b[0;32mtry\u001b[0m\u001b[0;34m:\u001b[0m\u001b[0;34m\u001b[0m\u001b[0;34m\u001b[0m\u001b[0m\n\u001b[0;32m--> 238\u001b[0;31m                 \u001b[0mraise_exc_info\u001b[0m\u001b[0;34m(\u001b[0m\u001b[0mself\u001b[0m\u001b[0;34m.\u001b[0m\u001b[0m_exc_info\u001b[0m\u001b[0;34m)\u001b[0m\u001b[0;34m\u001b[0m\u001b[0;34m\u001b[0m\u001b[0m\n\u001b[0m\u001b[1;32m    239\u001b[0m             \u001b[0;32mfinally\u001b[0m\u001b[0;34m:\u001b[0m\u001b[0;34m\u001b[0m\u001b[0;34m\u001b[0m\u001b[0m\n\u001b[1;32m    240\u001b[0m                 \u001b[0mself\u001b[0m \u001b[0;34m=\u001b[0m \u001b[0;32mNone\u001b[0m\u001b[0;34m\u001b[0m\u001b[0;34m\u001b[0m\u001b[0m\n",
            "\u001b[0;32m/usr/local/lib/python3.6/dist-packages/tornado/util.py\u001b[0m in \u001b[0;36mraise_exc_info\u001b[0;34m(exc_info)\u001b[0m\n",
            "\u001b[0;32m/usr/local/lib/python3.6/dist-packages/tornado/gen.py\u001b[0m in \u001b[0;36mrun\u001b[0;34m(self)\u001b[0m\n\u001b[1;32m   1067\u001b[0m                             \u001b[0mexc_info\u001b[0m \u001b[0;34m=\u001b[0m \u001b[0;32mNone\u001b[0m\u001b[0;34m\u001b[0m\u001b[0;34m\u001b[0m\u001b[0m\n\u001b[1;32m   1068\u001b[0m                     \u001b[0;32melse\u001b[0m\u001b[0;34m:\u001b[0m\u001b[0;34m\u001b[0m\u001b[0;34m\u001b[0m\u001b[0m\n\u001b[0;32m-> 1069\u001b[0;31m                         \u001b[0myielded\u001b[0m \u001b[0;34m=\u001b[0m \u001b[0mself\u001b[0m\u001b[0;34m.\u001b[0m\u001b[0mgen\u001b[0m\u001b[0;34m.\u001b[0m\u001b[0msend\u001b[0m\u001b[0;34m(\u001b[0m\u001b[0mvalue\u001b[0m\u001b[0;34m)\u001b[0m\u001b[0;34m\u001b[0m\u001b[0;34m\u001b[0m\u001b[0m\n\u001b[0m\u001b[1;32m   1070\u001b[0m \u001b[0;34m\u001b[0m\u001b[0m\n\u001b[1;32m   1071\u001b[0m                     \u001b[0;32mif\u001b[0m \u001b[0mstack_context\u001b[0m\u001b[0;34m.\u001b[0m\u001b[0m_state\u001b[0m\u001b[0;34m.\u001b[0m\u001b[0mcontexts\u001b[0m \u001b[0;32mis\u001b[0m \u001b[0;32mnot\u001b[0m \u001b[0morig_stack_contexts\u001b[0m\u001b[0;34m:\u001b[0m\u001b[0;34m\u001b[0m\u001b[0;34m\u001b[0m\u001b[0m\n",
            "\u001b[0;32m/usr/local/lib/python3.6/dist-packages/distributed/deploy/local.py\u001b[0m in \u001b[0;36m_start_worker\u001b[0;34m(self, death_timeout, **kwargs)\u001b[0m\n\u001b[1;32m    227\u001b[0m         \u001b[0;32mif\u001b[0m \u001b[0mw\u001b[0m\u001b[0;34m.\u001b[0m\u001b[0mstatus\u001b[0m \u001b[0;34m==\u001b[0m \u001b[0;34m'closed'\u001b[0m \u001b[0;32mand\u001b[0m \u001b[0mself\u001b[0m\u001b[0;34m.\u001b[0m\u001b[0mscheduler\u001b[0m\u001b[0;34m.\u001b[0m\u001b[0mstatus\u001b[0m \u001b[0;34m==\u001b[0m \u001b[0;34m'running'\u001b[0m\u001b[0;34m:\u001b[0m\u001b[0;34m\u001b[0m\u001b[0;34m\u001b[0m\u001b[0m\n\u001b[1;32m    228\u001b[0m             \u001b[0mself\u001b[0m\u001b[0;34m.\u001b[0m\u001b[0mworkers\u001b[0m\u001b[0;34m.\u001b[0m\u001b[0mremove\u001b[0m\u001b[0;34m(\u001b[0m\u001b[0mw\u001b[0m\u001b[0;34m)\u001b[0m\u001b[0;34m\u001b[0m\u001b[0;34m\u001b[0m\u001b[0m\n\u001b[0;32m--> 229\u001b[0;31m             \u001b[0;32mraise\u001b[0m \u001b[0mgen\u001b[0m\u001b[0;34m.\u001b[0m\u001b[0mTimeoutError\u001b[0m\u001b[0;34m(\u001b[0m\u001b[0;34m\"Worker failed to start\"\u001b[0m\u001b[0;34m)\u001b[0m\u001b[0;34m\u001b[0m\u001b[0;34m\u001b[0m\u001b[0m\n\u001b[0m\u001b[1;32m    230\u001b[0m \u001b[0;34m\u001b[0m\u001b[0m\n\u001b[1;32m    231\u001b[0m         \u001b[0;32mraise\u001b[0m \u001b[0mgen\u001b[0m\u001b[0;34m.\u001b[0m\u001b[0mReturn\u001b[0m\u001b[0;34m(\u001b[0m\u001b[0mw\u001b[0m\u001b[0;34m)\u001b[0m\u001b[0;34m\u001b[0m\u001b[0;34m\u001b[0m\u001b[0m\n",
            "\u001b[0;31mTimeoutError\u001b[0m: Worker failed to start"
          ]
        }
      ]
    },
    {
      "cell_type": "code",
      "metadata": {
        "id": "vQMddlpbFlg7",
        "colab_type": "code",
        "colab": {
          "base_uri": "https://localhost:8080/",
          "height": 101
        },
        "outputId": "1860d70f-047c-406d-d6ae-fb19d1bee39e"
      },
      "source": [
        "client = Client(processes=False)"
      ],
      "execution_count": 35,
      "outputs": [
        {
          "output_type": "stream",
          "text": [
            "/usr/local/lib/python3.6/dist-packages/distributed/bokeh/core.py:57: UserWarning: \n",
            "Port 8787 is already in use. \n",
            "Perhaps you already have a cluster running?\n",
            "Hosting the diagnostics dashboard on a random port instead.\n",
            "  warnings.warn('\\n' + msg)\n"
          ],
          "name": "stderr"
        }
      ]
    },
    {
      "cell_type": "markdown",
      "metadata": {
        "id": "t2H87xRwC1Wr",
        "colab_type": "text"
      },
      "source": [
        "* But awesome notebook comparing the speed of dask cpu and dask gpu: (Unfortunately, I will have to try on local pc)\n",
        "\n",
        "https://gist.github.com/mrocklin/4b1b80d1ae07ec73f75b2a19c8e90e2e\n",
        "\n",
        "\n",
        "* Latest release info and plan to bring down dask_cudf: https://medium.com/rapids-ai/rapids-release-0-8-same-community-new-freedoms-9f82b09db3ad"
      ]
    },
    {
      "cell_type": "code",
      "metadata": {
        "id": "9leqYlxwFld4",
        "colab_type": "code",
        "colab": {}
      },
      "source": [
        ""
      ],
      "execution_count": 0,
      "outputs": []
    },
    {
      "cell_type": "code",
      "metadata": {
        "id": "vWrv8CVuFlYm",
        "colab_type": "code",
        "colab": {}
      },
      "source": [
        ""
      ],
      "execution_count": 0,
      "outputs": []
    },
    {
      "cell_type": "code",
      "metadata": {
        "id": "Jxn1UGELFlQy",
        "colab_type": "code",
        "colab": {}
      },
      "source": [
        ""
      ],
      "execution_count": 0,
      "outputs": []
    },
    {
      "cell_type": "code",
      "metadata": {
        "id": "wiE7IUPHFlFI",
        "colab_type": "code",
        "colab": {}
      },
      "source": [
        ""
      ],
      "execution_count": 0,
      "outputs": []
    },
    {
      "cell_type": "code",
      "metadata": {
        "id": "zxC_KZaMFk3H",
        "colab_type": "code",
        "colab": {}
      },
      "source": [
        ""
      ],
      "execution_count": 0,
      "outputs": []
    },
    {
      "cell_type": "markdown",
      "metadata": {
        "id": "Dlsyk9m9NN2K",
        "colab_type": "text"
      },
      "source": [
        "# Next Steps #\n",
        "\n",
        "For an overview of how you can access and work with your own datasets in Colab, check out [this guide](https://towardsdatascience.com/3-ways-to-load-csv-files-into-colab-7c14fcbdcb92).\n",
        "\n",
        "For more RAPIDS examples, check out our RAPIDS notebooks repos:\n",
        "1. https://github.com/rapidsai/notebooks\n",
        "2. https://github.com/rapidsai/notebooks-extended"
      ]
    }
  ]
}