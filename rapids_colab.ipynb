{
  "nbformat": 4,
  "nbformat_minor": 0,
  "metadata": {
    "colab": {
      "name": "rapids-colab.ipynb",
      "version": "0.3.2",
      "provenance": [],
      "collapsed_sections": [],
      "include_colab_link": true
    },
    "kernelspec": {
      "name": "python3",
      "display_name": "Python 3"
    },
    "accelerator": "GPU"
  },
  "cells": [
    {
      "cell_type": "markdown",
      "metadata": {
        "id": "view-in-github",
        "colab_type": "text"
      },
      "source": [
        "<a href=\"https://colab.research.google.com/github/PadmarajBhat/Rapids.AI/blob/master/rapids_colab.ipynb\" target=\"_parent\"><img src=\"https://colab.research.google.com/assets/colab-badge.svg\" alt=\"Open In Colab\"/></a>"
      ]
    },
    {
      "cell_type": "markdown",
      "metadata": {
        "id": "scfLT2i0MLyD",
        "colab_type": "text"
      },
      "source": [
        "# Environment Sanity Check #\n",
        "\n",
        "Click the _Runtime_ dropdown at the top of the page, then _Change Runtime Type_ and confirm the instance type is _GPU_.\n",
        "\n",
        "Check the output of `!nvidia-smi` to make sure you've been allocated a Tesla T4."
      ]
    },
    {
      "cell_type": "code",
      "metadata": {
        "id": "B0C8IV5TQnjN",
        "colab_type": "code",
        "outputId": "0315cc39-9923-4f91-ff03-181671cdfffd",
        "colab": {
          "base_uri": "https://localhost:8080/",
          "height": 302
        }
      },
      "source": [
        "!nvidia-smi"
      ],
      "execution_count": 0,
      "outputs": [
        {
          "output_type": "stream",
          "text": [
            "Sun Jul 21 14:47:30 2019       \n",
            "+-----------------------------------------------------------------------------+\n",
            "| NVIDIA-SMI 418.67       Driver Version: 410.79       CUDA Version: 10.0     |\n",
            "|-------------------------------+----------------------+----------------------+\n",
            "| GPU  Name        Persistence-M| Bus-Id        Disp.A | Volatile Uncorr. ECC |\n",
            "| Fan  Temp  Perf  Pwr:Usage/Cap|         Memory-Usage | GPU-Util  Compute M. |\n",
            "|===============================+======================+======================|\n",
            "|   0  Tesla T4            Off  | 00000000:00:04.0 Off |                    0 |\n",
            "| N/A   52C    P8    16W /  70W |      0MiB / 15079MiB |      0%      Default |\n",
            "+-------------------------------+----------------------+----------------------+\n",
            "                                                                               \n",
            "+-----------------------------------------------------------------------------+\n",
            "| Processes:                                                       GPU Memory |\n",
            "|  GPU       PID   Type   Process name                             Usage      |\n",
            "|=============================================================================|\n",
            "|  No running processes found                                                 |\n",
            "+-----------------------------------------------------------------------------+\n"
          ],
          "name": "stdout"
        }
      ]
    },
    {
      "cell_type": "code",
      "metadata": {
        "id": "ik8Wv2K0uDfx",
        "colab_type": "code",
        "outputId": "b59b0c8b-64ff-41ac-824d-1346b06a96c8",
        "colab": {
          "base_uri": "https://localhost:8080/",
          "height": 50
        }
      },
      "source": [
        "import pynvml\n",
        "\n",
        "pynvml.nvmlInit()\n",
        "handle = pynvml.nvmlDeviceGetHandleByIndex(0)\n",
        "device_name = pynvml.nvmlDeviceGetName(handle)\n",
        "print(device_name)\n",
        "if device_name != b'Tesla T4':\n",
        "  raise Exception(\"\"\"\n",
        "    Unfortunately this instance does not have a T4 GPU.\n",
        "    \n",
        "    Please make sure you've configured Colab to request a GPU instance type.\n",
        "    \n",
        "    Sometimes Colab allocates a Tesla K80 instead of a T4. Resetting the instance.\n",
        "\n",
        "    If you get a K80 GPU, try Runtime -> Reset all runtimes...\n",
        "  \"\"\")\n",
        "else:\n",
        "  print('Woo! You got the right kind of GPU!')"
      ],
      "execution_count": 0,
      "outputs": [
        {
          "output_type": "stream",
          "text": [
            "b'Tesla T4'\n",
            "Woo! You got the right kind of GPU!\n"
          ],
          "name": "stdout"
        }
      ]
    },
    {
      "cell_type": "markdown",
      "metadata": {
        "id": "CtNdk7PSafKP",
        "colab_type": "text"
      },
      "source": [
        "#Setup:\n",
        "\n",
        "1. Install most recent Miniconda release compatible with Google Colab's Python install  (3.6.7)\n",
        "2. Install RAPIDS libraries\n",
        "3. Set necessary environment variables\n",
        "4. Copy RAPIDS .so files into current working directory, a workaround for conda/colab interactions"
      ]
    },
    {
      "cell_type": "code",
      "metadata": {
        "id": "m0jdXBRiDSzj",
        "colab_type": "code",
        "outputId": "c256fa1e-265f-424a-d28c-941c415d0d65",
        "colab": {
          "base_uri": "https://localhost:8080/",
          "height": 1000
        }
      },
      "source": [
        "# intall miniconda\n",
        "!wget -c https://repo.continuum.io/miniconda/Miniconda3-4.5.4-Linux-x86_64.sh\n",
        "!chmod +x Miniconda3-4.5.4-Linux-x86_64.sh\n",
        "!bash ./Miniconda3-4.5.4-Linux-x86_64.sh -b -f -p /usr/local\n",
        "\n",
        "# install RAPIDS packages\n",
        "!conda install -q -y --prefix /usr/local -c conda-forge \\\n",
        "  -c rapidsai-nightly/label/cuda10.0 -c nvidia/label/cuda10.0 \\\n",
        "  cudf cuml\n",
        "\n",
        "!bash ./Miniconda3-4.5.4-Linux-x86_64.sh -b -f -p /usr/local\n",
        "!conda install -q -y --prefix /usr/local -c nvidia -c rapidsai \\\n",
        "  -c numba -c conda-forge -c defaults nvstrings=0.8 python=3.6 cudatoolkit=10.0\n",
        "\n",
        "!bash ./Miniconda3-4.5.4-Linux-x86_64.sh -b -f -p /usr/local\n",
        "!conda install  -q -y --prefix /usr/local dask\n",
        "\n",
        "# set environment vars\n",
        "import sys, os, shutil\n",
        "sys.path.append('/usr/local/lib/python3.6/site-packages/')\n",
        "os.environ['NUMBAPRO_NVVM'] = '/usr/local/cuda/nvvm/lib64/libnvvm.so'\n",
        "os.environ['NUMBAPRO_LIBDEVICE'] = '/usr/local/cuda/nvvm/libdevice/'\n",
        "\n",
        "# copy .so files to current working dir\n",
        "for fn in ['libcudf.so', 'librmm.so']:\n",
        "  shutil.copy('/usr/local/lib/'+fn, os.getcwd())"
      ],
      "execution_count": 0,
      "outputs": [
        {
          "output_type": "stream",
          "text": [
            "--2019-07-21 14:47:39--  https://repo.continuum.io/miniconda/Miniconda3-4.5.4-Linux-x86_64.sh\n",
            "Resolving repo.continuum.io (repo.continuum.io)... 104.18.201.79, 104.18.200.79, 2606:4700::6812:c84f, ...\n",
            "Connecting to repo.continuum.io (repo.continuum.io)|104.18.201.79|:443... connected.\n",
            "HTTP request sent, awaiting response... 200 OK\n",
            "Length: 58468498 (56M) [application/x-sh]\n",
            "Saving to: ‘Miniconda3-4.5.4-Linux-x86_64.sh’\n",
            "\n",
            "Miniconda3-4.5.4-Li 100%[===================>]  55.76M  95.8MB/s    in 0.6s    \n",
            "\n",
            "2019-07-21 14:47:40 (95.8 MB/s) - ‘Miniconda3-4.5.4-Linux-x86_64.sh’ saved [58468498/58468498]\n",
            "\n",
            "PREFIX=/usr/local\n",
            "installing: python-3.6.5-hc3d631a_2 ...\n",
            "Python 3.6.5 :: Anaconda, Inc.\n",
            "installing: ca-certificates-2018.03.07-0 ...\n",
            "installing: conda-env-2.6.0-h36134e3_1 ...\n",
            "installing: libgcc-ng-7.2.0-hdf63c60_3 ...\n",
            "installing: libstdcxx-ng-7.2.0-hdf63c60_3 ...\n",
            "installing: libffi-3.2.1-hd88cf55_4 ...\n",
            "installing: ncurses-6.1-hf484d3e_0 ...\n",
            "installing: openssl-1.0.2o-h20670df_0 ...\n",
            "installing: tk-8.6.7-hc745277_3 ...\n",
            "installing: xz-5.2.4-h14c3975_4 ...\n",
            "installing: yaml-0.1.7-had09818_2 ...\n",
            "installing: zlib-1.2.11-ha838bed_2 ...\n",
            "installing: libedit-3.1.20170329-h6b74fdf_2 ...\n",
            "installing: readline-7.0-ha6073c6_4 ...\n",
            "installing: sqlite-3.23.1-he433501_0 ...\n",
            "installing: asn1crypto-0.24.0-py36_0 ...\n",
            "installing: certifi-2018.4.16-py36_0 ...\n",
            "installing: chardet-3.0.4-py36h0f667ec_1 ...\n",
            "installing: idna-2.6-py36h82fb2a8_1 ...\n",
            "installing: pycosat-0.6.3-py36h0a5515d_0 ...\n",
            "installing: pycparser-2.18-py36hf9f622e_1 ...\n",
            "installing: pysocks-1.6.8-py36_0 ...\n",
            "installing: ruamel_yaml-0.15.37-py36h14c3975_2 ...\n",
            "installing: six-1.11.0-py36h372c433_1 ...\n",
            "installing: cffi-1.11.5-py36h9745a5d_0 ...\n",
            "installing: setuptools-39.2.0-py36_0 ...\n",
            "installing: cryptography-2.2.2-py36h14c3975_0 ...\n",
            "installing: wheel-0.31.1-py36_0 ...\n",
            "installing: pip-10.0.1-py36_0 ...\n",
            "installing: pyopenssl-18.0.0-py36_0 ...\n",
            "installing: urllib3-1.22-py36hbe7ace6_0 ...\n",
            "installing: requests-2.18.4-py36he2e5f8d_1 ...\n",
            "installing: conda-4.5.4-py36_0 ...\n",
            "installation finished.\n",
            "WARNING:\n",
            "    You currently have a PYTHONPATH environment variable set. This may cause\n",
            "    unexpected behavior when running the Python interpreter in Miniconda3.\n",
            "    For best results, please verify that your PYTHONPATH only points to\n",
            "    directories of packages that are compatible with the Python interpreter\n",
            "    in Miniconda3: /usr/local\n",
            "Solving environment: ...working... done\n",
            "\n",
            "## Package Plan ##\n",
            "\n",
            "  environment location: /usr/local\n",
            "\n",
            "  added / updated specs: \n",
            "    - cudf\n",
            "    - cuml\n",
            "\n",
            "\n",
            "The following packages will be downloaded:\n",
            "\n",
            "    package                    |            build\n",
            "    ---------------------------|-----------------\n",
            "    libblas-3.8.0              |      10_openblas           6 KB  conda-forge\n",
            "    libgfortran-ng-7.3.0       |       hdf63c60_0         1.3 MB\n",
            "    libffi-3.2.1               |    he1b5a44_1006          46 KB  conda-forge\n",
            "    openssl-1.1.1c             |       h516909a_0         2.1 MB  conda-forge\n",
            "    arrow-cpp-0.12.1           |   py37h0e61e49_0         6.9 MB  conda-forge\n",
            "    cuml-0.9.0a1               |cuda10.0_py37_200         4.7 MB  rapidsai-nightly/label/cuda10.0\n",
            "    ncurses-6.1                |    hf484d3e_1002         1.3 MB  conda-forge\n",
            "    numba-0.45.0               |   py37hb3f55d8_0         3.1 MB  conda-forge\n",
            "    libprotobuf-3.6.1          |    hdbcaa40_1001         4.0 MB  conda-forge\n",
            "    libcuml-0.9.0a1            |     cuda10.0_200        27.6 MB  rapidsai-nightly/label/cuda10.0\n",
            "    python-dateutil-2.8.0      |             py_0         219 KB  conda-forge\n",
            "    numpy-1.16.4               |   py37h95a1406_0         4.3 MB  conda-forge\n",
            "    setuptools-41.0.1          |           py37_0         616 KB  conda-forge\n",
            "    liblapack-3.8.0            |      10_openblas           6 KB  conda-forge\n",
            "    librmm-0.9.0a1             |       cuda10.0_2          44 KB  rapidsai-nightly/label/cuda10.0\n",
            "    cudatoolkit-10.0.130       |                0       380.0 MB\n",
            "    pyarrow-0.12.1             |   py37hbbcf98d_0         2.2 MB  conda-forge\n",
            "    pip-19.1.1                 |           py37_0         1.8 MB  conda-forge\n",
            "    pycparser-2.19             |           py37_1         171 KB  conda-forge\n",
            "    certifi-2019.6.16          |           py37_1         149 KB  conda-forge\n",
            "    nvstrings-0.9.0a1          |          py37_24         122 KB  rapidsai-nightly/label/cuda10.0\n",
            "    libcudf-0.9.0a             |    cuda10.0_1525        31.2 MB  rapidsai-nightly/label/cuda10.0\n",
            "    libopenblas-0.3.6          |       h6e990d7_4         7.7 MB  conda-forge\n",
            "    pytz-2019.1                |             py_0         227 KB  conda-forge\n",
            "    xz-5.2.4                   |    h14c3975_1001         366 KB  conda-forge\n",
            "    sqlite-3.29.0              |       hcee41ef_0         2.0 MB  conda-forge\n",
            "    _libgcc_mutex-0.1          |             main           3 KB\n",
            "    thrift-cpp-0.12.0          |    h0a07b25_1002         2.4 MB  conda-forge\n",
            "    tk-8.6.9                   |    hed695b0_1002         3.2 MB  conda-forge\n",
            "    openblas-0.3.6             |       h6e990d7_4         8.2 MB  conda-forge\n",
            "    libcblas-3.8.0             |      10_openblas           6 KB  conda-forge\n",
            "    ca-certificates-2019.6.16  |       hecc5488_0         145 KB  conda-forge\n",
            "    libnvstrings-0.9.0a1       |      cuda10.0_24        16.7 MB  rapidsai-nightly/label/cuda10.0\n",
            "    cudf-0.9.0a                |        py37_1525         3.8 MB  rapidsai-nightly/label/cuda10.0\n",
            "    parquet-cpp-1.5.1          |                4           3 KB  conda-forge\n",
            "    bzip2-1.0.8                |       h516909a_0         396 KB  conda-forge\n",
            "    libgcc-ng-9.1.0            |       hdf63c60_0         8.1 MB\n",
            "    wheel-0.33.4               |           py37_0          34 KB  conda-forge\n",
            "    cython-0.29.12             |   py37he1b5a44_0         2.2 MB  conda-forge\n",
            "    six-1.12.0                 |        py37_1000          22 KB  conda-forge\n",
            "    icu-58.2                   |    hf484d3e_1000        22.6 MB  conda-forge\n",
            "    libcumlmg-0.0.0.dev0       |     cuda10.0_373         955 KB  nvidia/label/cuda10.0\n",
            "    readline-8.0               |       hf8c457e_0         441 KB  conda-forge\n",
            "    rmm-0.9.0a1                |           py37_2          14 KB  rapidsai-nightly/label/cuda10.0\n",
            "    pandas-0.25.0              |   py37hb3f55d8_0        11.4 MB  conda-forge\n",
            "    python-3.7.3               |       h33d41f4_1        36.0 MB  conda-forge\n",
            "    llvmlite-0.29.0            |   py37hfd453ef_1        19.9 MB  conda-forge\n",
            "    libstdcxx-ng-9.1.0         |       hdf63c60_0         4.0 MB\n",
            "    cffi-1.12.3                |   py37h8022711_0         218 KB  conda-forge\n",
            "    boost-cpp-1.68.0           |    h11c811c_1000        20.5 MB  conda-forge\n",
            "    zlib-1.2.11                |    h516909a_1005         105 KB  conda-forge\n",
            "    ------------------------------------------------------------\n",
            "                                           Total:       643.2 MB\n",
            "\n",
            "The following NEW packages will be INSTALLED:\n",
            "\n",
            "    _libgcc_mutex:   0.1-main                                                 \n",
            "    arrow-cpp:       0.12.1-py37h0e61e49_0     conda-forge                    \n",
            "    boost-cpp:       1.68.0-h11c811c_1000      conda-forge                    \n",
            "    bzip2:           1.0.8-h516909a_0          conda-forge                    \n",
            "    cudatoolkit:     10.0.130-0                                               \n",
            "    cudf:            0.9.0a-py37_1525          rapidsai-nightly/label/cuda10.0\n",
            "    cuml:            0.9.0a1-cuda10.0_py37_200 rapidsai-nightly/label/cuda10.0\n",
            "    cython:          0.29.12-py37he1b5a44_0    conda-forge                    \n",
            "    icu:             58.2-hf484d3e_1000        conda-forge                    \n",
            "    libblas:         3.8.0-10_openblas         conda-forge                    \n",
            "    libcblas:        3.8.0-10_openblas         conda-forge                    \n",
            "    libcudf:         0.9.0a-cuda10.0_1525      rapidsai-nightly/label/cuda10.0\n",
            "    libcuml:         0.9.0a1-cuda10.0_200      rapidsai-nightly/label/cuda10.0\n",
            "    libcumlmg:       0.0.0.dev0-cuda10.0_373   nvidia/label/cuda10.0          \n",
            "    libgfortran-ng:  7.3.0-hdf63c60_0                                         \n",
            "    liblapack:       3.8.0-10_openblas         conda-forge                    \n",
            "    libnvstrings:    0.9.0a1-cuda10.0_24       rapidsai-nightly/label/cuda10.0\n",
            "    libopenblas:     0.3.6-h6e990d7_4          conda-forge                    \n",
            "    libprotobuf:     3.6.1-hdbcaa40_1001       conda-forge                    \n",
            "    librmm:          0.9.0a1-cuda10.0_2        rapidsai-nightly/label/cuda10.0\n",
            "    llvmlite:        0.29.0-py37hfd453ef_1     conda-forge                    \n",
            "    numba:           0.45.0-py37hb3f55d8_0     conda-forge                    \n",
            "    numpy:           1.16.4-py37h95a1406_0     conda-forge                    \n",
            "    nvstrings:       0.9.0a1-py37_24           rapidsai-nightly/label/cuda10.0\n",
            "    openblas:        0.3.6-h6e990d7_4          conda-forge                    \n",
            "    pandas:          0.25.0-py37hb3f55d8_0     conda-forge                    \n",
            "    parquet-cpp:     1.5.1-4                   conda-forge                    \n",
            "    pyarrow:         0.12.1-py37hbbcf98d_0     conda-forge                    \n",
            "    python-dateutil: 2.8.0-py_0                conda-forge                    \n",
            "    pytz:            2019.1-py_0               conda-forge                    \n",
            "    rmm:             0.9.0a1-py37_2            rapidsai-nightly/label/cuda10.0\n",
            "    thrift-cpp:      0.12.0-h0a07b25_1002      conda-forge                    \n",
            "\n",
            "The following packages will be UPDATED:\n",
            "\n",
            "    ca-certificates: 2018.03.07-0                                              --> 2019.6.16-hecc5488_0  conda-forge\n",
            "    certifi:         2018.4.16-py36_0                                          --> 2019.6.16-py37_1      conda-forge\n",
            "    cffi:            1.11.5-py36h9745a5d_0                                     --> 1.12.3-py37h8022711_0 conda-forge\n",
            "    libffi:          3.2.1-hd88cf55_4                                          --> 3.2.1-he1b5a44_1006   conda-forge\n",
            "    libgcc-ng:       7.2.0-hdf63c60_3                                          --> 9.1.0-hdf63c60_0                 \n",
            "    libstdcxx-ng:    7.2.0-hdf63c60_3                                          --> 9.1.0-hdf63c60_0                 \n",
            "    ncurses:         6.1-hf484d3e_0                                            --> 6.1-hf484d3e_1002     conda-forge\n",
            "    openssl:         1.0.2o-h20670df_0                                         --> 1.1.1c-h516909a_0     conda-forge\n",
            "    pip:             10.0.1-py36_0                                             --> 19.1.1-py37_0         conda-forge\n",
            "    pycparser:       2.18-py36hf9f622e_1                                       --> 2.19-py37_1           conda-forge\n",
            "    python:          3.6.5-hc3d631a_2                                          --> 3.7.3-h33d41f4_1      conda-forge\n",
            "    readline:        7.0-ha6073c6_4                                            --> 8.0-hf8c457e_0        conda-forge\n",
            "    setuptools:      39.2.0-py36_0                                             --> 41.0.1-py37_0         conda-forge\n",
            "    six:             1.11.0-py36h372c433_1                                     --> 1.12.0-py37_1000      conda-forge\n",
            "    sqlite:          3.23.1-he433501_0                                         --> 3.29.0-hcee41ef_0     conda-forge\n",
            "    tk:              8.6.7-hc745277_3                                          --> 8.6.9-hed695b0_1002   conda-forge\n",
            "    wheel:           0.31.1-py36_0                                             --> 0.33.4-py37_0         conda-forge\n",
            "    xz:              5.2.4-h14c3975_4                                          --> 5.2.4-h14c3975_1001   conda-forge\n",
            "    zlib:            1.2.11-ha838bed_2                                         --> 1.2.11-h516909a_1005  conda-forge\n",
            "\n",
            "Preparing transaction: ...working... done\n",
            "Verifying transaction: ...working... done\n",
            "Executing transaction: ...working... done\n",
            "PREFIX=/usr/local\n",
            "installing: python-3.6.5-hc3d631a_2 ...\n",
            "Python 3.6.5 :: Anaconda, Inc.\n",
            "installing: ca-certificates-2018.03.07-0 ...\n",
            "installing: conda-env-2.6.0-h36134e3_1 ...\n",
            "installing: libgcc-ng-7.2.0-hdf63c60_3 ...\n",
            "installing: libstdcxx-ng-7.2.0-hdf63c60_3 ...\n",
            "installing: libffi-3.2.1-hd88cf55_4 ...\n",
            "installing: ncurses-6.1-hf484d3e_0 ...\n",
            "installing: openssl-1.0.2o-h20670df_0 ...\n",
            "installing: tk-8.6.7-hc745277_3 ...\n",
            "installing: xz-5.2.4-h14c3975_4 ...\n",
            "installing: yaml-0.1.7-had09818_2 ...\n",
            "installing: zlib-1.2.11-ha838bed_2 ...\n",
            "installing: libedit-3.1.20170329-h6b74fdf_2 ...\n",
            "installing: readline-7.0-ha6073c6_4 ...\n",
            "installing: sqlite-3.23.1-he433501_0 ...\n",
            "installing: asn1crypto-0.24.0-py36_0 ...\n",
            "installing: certifi-2018.4.16-py36_0 ...\n",
            "installing: chardet-3.0.4-py36h0f667ec_1 ...\n",
            "installing: idna-2.6-py36h82fb2a8_1 ...\n",
            "installing: pycosat-0.6.3-py36h0a5515d_0 ...\n",
            "installing: pycparser-2.18-py36hf9f622e_1 ...\n",
            "installing: pysocks-1.6.8-py36_0 ...\n",
            "installing: ruamel_yaml-0.15.37-py36h14c3975_2 ...\n",
            "installing: six-1.11.0-py36h372c433_1 ...\n",
            "installing: cffi-1.11.5-py36h9745a5d_0 ...\n",
            "installing: setuptools-39.2.0-py36_0 ...\n",
            "installing: cryptography-2.2.2-py36h14c3975_0 ...\n",
            "installing: wheel-0.31.1-py36_0 ...\n",
            "installing: pip-10.0.1-py36_0 ...\n",
            "installing: pyopenssl-18.0.0-py36_0 ...\n",
            "installing: urllib3-1.22-py36hbe7ace6_0 ...\n",
            "installing: requests-2.18.4-py36he2e5f8d_1 ...\n",
            "installing: conda-4.5.4-py36_0 ...\n",
            "unlinking: ca-certificates-2019.6.16-hecc5488_0\n",
            "unlinking: certifi-2019.6.16-py37_1\n",
            "unlinking: cffi-1.12.3-py37h8022711_0\n",
            "unlinking: libffi-3.2.1-he1b5a44_1006\n",
            "unlinking: libgcc-ng-9.1.0-hdf63c60_0\n",
            "unlinking: libstdcxx-ng-9.1.0-hdf63c60_0\n",
            "unlinking: ncurses-6.1-hf484d3e_1002\n",
            "unlinking: openssl-1.1.1c-h516909a_0\n",
            "unlinking: pip-19.1.1-py37_0\n",
            "unlinking: pycparser-2.19-py37_1\n",
            "unlinking: python-3.7.3-h33d41f4_1\n",
            "unlinking: readline-8.0-hf8c457e_0\n",
            "unlinking: setuptools-41.0.1-py37_0\n",
            "unlinking: six-1.12.0-py37_1000\n",
            "unlinking: sqlite-3.29.0-hcee41ef_0\n",
            "unlinking: tk-8.6.9-hed695b0_1002\n",
            "unlinking: wheel-0.33.4-py37_0\n",
            "unlinking: xz-5.2.4-h14c3975_1001\n",
            "unlinking: zlib-1.2.11-h516909a_1005\n",
            "installation finished.\n",
            "WARNING:\n",
            "    You currently have a PYTHONPATH environment variable set. This may cause\n",
            "    unexpected behavior when running the Python interpreter in Miniconda3.\n",
            "    For best results, please verify that your PYTHONPATH only points to\n",
            "    directories of packages that are compatible with the Python interpreter\n",
            "    in Miniconda3: /usr/local\n",
            "Solving environment: ...working... done\n",
            "\n",
            "## Package Plan ##\n",
            "\n",
            "  environment location: /usr/local\n",
            "\n",
            "  added / updated specs: \n",
            "    - cudatoolkit=10.0\n",
            "    - nvstrings=0.8\n",
            "    - python=3.6\n",
            "\n",
            "\n",
            "The following packages will be downloaded:\n",
            "\n",
            "    package                    |            build\n",
            "    ---------------------------|-----------------\n",
            "    libxml2-2.9.9              |       hee79883_2         1.3 MB  conda-forge\n",
            "    cryptography-2.7           |   py36h72c5cf5_0         607 KB  conda-forge\n",
            "    lz4-c-1.8.3                |    he1b5a44_1001         187 KB  conda-forge\n",
            "    nvstrings-0.8.0            |           py36_0         119 KB  rapidsai\n",
            "    libiconv-1.15              |    h516909a_1005         2.0 MB  conda-forge\n",
            "    libarchive-3.3.3           |    hb44662c_1005         1.4 MB  conda-forge\n",
            "    certifi-2019.6.16          |           py36_1         149 KB  conda-forge\n",
            "    conda-4.7.10               |           py36_0         3.0 MB  conda-forge\n",
            "    icu-64.2                   |       he1b5a44_0        12.6 MB  conda-forge\n",
            "    conda-package-handling-1.3.11|           py36_0         257 KB  conda-forge\n",
            "    python-3.6.7               |    h357f687_1005        34.6 MB  conda-forge\n",
            "    lzo-2.10                   |    h14c3975_1000         319 KB  conda-forge\n",
            "    tqdm-4.32.2                |             py_0          41 KB  conda-forge\n",
            "    zstd-1.4.0                 |       h3b9ef0a_0         928 KB  conda-forge\n",
            "    libcudf-0.8.0              |       cuda10.0_0        17.1 MB  rapidsai\n",
            "    librmm-0.8.0               |       cuda10.0_0          39 KB  rapidsai\n",
            "    libnvstrings-0.8.0         |       cuda10.0_0        19.7 MB  rapidsai\n",
            "    python-libarchive-c-2.8    |        py36_1004          21 KB  conda-forge\n",
            "    ------------------------------------------------------------\n",
            "                                           Total:        94.4 MB\n",
            "\n",
            "The following NEW packages will be INSTALLED:\n",
            "\n",
            "    conda-package-handling: 1.3.11-py36_0        conda-forge                    \n",
            "    libarchive:             3.3.3-hb44662c_1005  conda-forge                    \n",
            "    libiconv:               1.15-h516909a_1005   conda-forge                    \n",
            "    libxml2:                2.9.9-hee79883_2     conda-forge                    \n",
            "    lz4-c:                  1.8.3-he1b5a44_1001  conda-forge                    \n",
            "    lzo:                    2.10-h14c3975_1000   conda-forge                    \n",
            "    python-libarchive-c:    2.8-py36_1004        conda-forge                    \n",
            "    tqdm:                   4.32.2-py_0          conda-forge                    \n",
            "    zstd:                   1.4.0-h3b9ef0a_0     conda-forge                    \n",
            "\n",
            "The following packages will be UPDATED:\n",
            "\n",
            "    ca-certificates:        2018.03.07-0                                         --> 2019.6.16-hecc5488_0 conda-forge\n",
            "    certifi:                2018.4.16-py36_0                                     --> 2019.6.16-py36_1     conda-forge\n",
            "    conda:                  4.5.4-py36_0                                         --> 4.7.10-py36_0        conda-forge\n",
            "    cryptography:           2.2.2-py36h14c3975_0                                 --> 2.7-py36h72c5cf5_0   conda-forge\n",
            "    icu:                    58.2-hf484d3e_1000   conda-forge                     --> 64.2-he1b5a44_0      conda-forge\n",
            "    libgcc-ng:              7.2.0-hdf63c60_3                                     --> 9.1.0-hdf63c60_0                \n",
            "    libstdcxx-ng:           7.2.0-hdf63c60_3                                     --> 9.1.0-hdf63c60_0                \n",
            "    openssl:                1.0.2o-h20670df_0                                    --> 1.1.1c-h516909a_0    conda-forge\n",
            "    python:                 3.6.5-hc3d631a_2                                     --> 3.6.7-h357f687_1005  conda-forge\n",
            "    readline:               7.0-ha6073c6_4                                       --> 8.0-hf8c457e_0       conda-forge\n",
            "    sqlite:                 3.23.1-he433501_0                                    --> 3.29.0-hcee41ef_0    conda-forge\n",
            "    tk:                     8.6.7-hc745277_3                                     --> 8.6.9-hed695b0_1002  conda-forge\n",
            "\n",
            "The following packages will be DOWNGRADED:\n",
            "\n",
            "    libcudf:                0.9.0a-cuda10.0_1525 rapidsai-nightly/label/cuda10.0 --> 0.8.0-cuda10.0_0     rapidsai   \n",
            "    libnvstrings:           0.9.0a1-cuda10.0_24  rapidsai-nightly/label/cuda10.0 --> 0.8.0-cuda10.0_0     rapidsai   \n",
            "    librmm:                 0.9.0a1-cuda10.0_2   rapidsai-nightly/label/cuda10.0 --> 0.8.0-cuda10.0_0     rapidsai   \n",
            "    nvstrings:              0.9.0a1-py37_24      rapidsai-nightly/label/cuda10.0 --> 0.8.0-py36_0         rapidsai   \n",
            "\n",
            "Preparing transaction: ...working... done\n",
            "Verifying transaction: ...working... done\n",
            "Executing transaction: ...working... done\n",
            "PREFIX=/usr/local\n",
            "installing: python-3.6.5-hc3d631a_2 ...\n",
            "Python 3.6.5 :: Anaconda, Inc.\n",
            "installing: ca-certificates-2018.03.07-0 ...\n",
            "installing: conda-env-2.6.0-h36134e3_1 ...\n",
            "installing: libgcc-ng-7.2.0-hdf63c60_3 ...\n",
            "installing: libstdcxx-ng-7.2.0-hdf63c60_3 ...\n",
            "installing: libffi-3.2.1-hd88cf55_4 ...\n",
            "installing: ncurses-6.1-hf484d3e_0 ...\n",
            "installing: openssl-1.0.2o-h20670df_0 ...\n",
            "installing: tk-8.6.7-hc745277_3 ...\n",
            "installing: xz-5.2.4-h14c3975_4 ...\n",
            "installing: yaml-0.1.7-had09818_2 ...\n",
            "installing: zlib-1.2.11-ha838bed_2 ...\n",
            "installing: libedit-3.1.20170329-h6b74fdf_2 ...\n",
            "installing: readline-7.0-ha6073c6_4 ...\n",
            "installing: sqlite-3.23.1-he433501_0 ...\n",
            "installing: asn1crypto-0.24.0-py36_0 ...\n",
            "installing: certifi-2018.4.16-py36_0 ...\n",
            "installing: chardet-3.0.4-py36h0f667ec_1 ...\n",
            "installing: idna-2.6-py36h82fb2a8_1 ...\n",
            "installing: pycosat-0.6.3-py36h0a5515d_0 ...\n",
            "installing: pycparser-2.18-py36hf9f622e_1 ...\n",
            "installing: pysocks-1.6.8-py36_0 ...\n",
            "installing: ruamel_yaml-0.15.37-py36h14c3975_2 ...\n",
            "installing: six-1.11.0-py36h372c433_1 ...\n",
            "installing: cffi-1.11.5-py36h9745a5d_0 ...\n",
            "installing: setuptools-39.2.0-py36_0 ...\n",
            "installing: cryptography-2.2.2-py36h14c3975_0 ...\n",
            "installing: wheel-0.31.1-py36_0 ...\n",
            "installing: pip-10.0.1-py36_0 ...\n",
            "installing: pyopenssl-18.0.0-py36_0 ...\n",
            "installing: urllib3-1.22-py36hbe7ace6_0 ...\n",
            "installing: requests-2.18.4-py36he2e5f8d_1 ...\n",
            "installing: conda-4.5.4-py36_0 ...\n",
            "unlinking: ca-certificates-2019.6.16-hecc5488_0\n",
            "unlinking: certifi-2019.6.16-py36_1\n",
            "unlinking: conda-4.7.10-py36_0\n",
            "unlinking: cryptography-2.7-py36h72c5cf5_0\n",
            "unlinking: libgcc-ng-9.1.0-hdf63c60_0\n",
            "unlinking: libstdcxx-ng-9.1.0-hdf63c60_0\n",
            "unlinking: openssl-1.1.1c-h516909a_0\n",
            "unlinking: python-3.6.7-h357f687_1005\n",
            "unlinking: readline-8.0-hf8c457e_0\n",
            "unlinking: sqlite-3.29.0-hcee41ef_0\n",
            "unlinking: tk-8.6.9-hed695b0_1002\n",
            "installation finished.\n",
            "WARNING:\n",
            "    You currently have a PYTHONPATH environment variable set. This may cause\n",
            "    unexpected behavior when running the Python interpreter in Miniconda3.\n",
            "    For best results, please verify that your PYTHONPATH only points to\n",
            "    directories of packages that are compatible with the Python interpreter\n",
            "    in Miniconda3: /usr/local\n",
            "Solving environment: ...working... done\n",
            "\n",
            "## Package Plan ##\n",
            "\n",
            "  environment location: /usr/local\n",
            "\n",
            "  added / updated specs: \n",
            "    - dask\n",
            "\n",
            "\n",
            "The following packages will be downloaded:\n",
            "\n",
            "    package                    |            build\n",
            "    ---------------------------|-----------------\n",
            "    heapdict-1.0.0             |           py36_2           7 KB\n",
            "    markupsafe-1.1.1           |   py36h7b6447c_0          29 KB\n",
            "    python-libarchive-c-2.8    |          py36_11          23 KB\n",
            "    distributed-2.1.0          |             py_0         369 KB\n",
            "    mkl_random-1.0.2           |   py36hd81dba3_0         407 KB\n",
            "    cytoolz-0.10.0             |   py36h7b6447c_0         439 KB\n",
            "    libpng-1.6.37              |       hbc83047_0         364 KB\n",
            "    jinja2-2.10.1              |           py36_0         188 KB\n",
            "    numpy-1.16.4               |   py36h7e9f1db_0          49 KB\n",
            "    cryptography-2.7           |   py36h1ba5d50_0         617 KB\n",
            "    mkl_fft-1.0.12             |   py36ha843d7b_0         172 KB\n",
            "    libarchive-3.3.3           |       h5d8350f_5         1.5 MB\n",
            "    ca-certificates-2019.5.15  |                0         133 KB\n",
            "    pyyaml-5.1.1               |   py36h7b6447c_0         188 KB\n",
            "    openssl-1.1.1c             |       h7b6447c_1         3.8 MB\n",
            "    tblib-1.4.0                |             py_0          14 KB\n",
            "    pyparsing-2.4.0            |             py_0          58 KB\n",
            "    dask-2.1.0                 |             py_0          11 KB\n",
            "    tk-8.6.8                   |       hbc83047_0         3.1 MB\n",
            "    partd-1.0.0                |             py_0          19 KB\n",
            "    pillow-6.1.0               |   py36h34e0f95_0         642 KB\n",
            "    olefile-0.46               |           py36_0          48 KB\n",
            "    packaging-19.0             |           py36_0          38 KB\n",
            "    bokeh-1.2.0                |           py36_0         3.9 MB\n",
            "    conda-package-handling-1.3.11|           py36_0         260 KB\n",
            "    sqlite-3.26.0              |       h7b6447c_0         1.9 MB\n",
            "    msgpack-python-0.6.1       |   py36hfd86e86_1          92 KB\n",
            "    pandas-0.24.2              |   py36he6710b0_0        11.1 MB\n",
            "    bzip2-1.0.8                |       h7b6447c_0         105 KB\n",
            "    libxml2-2.9.9              |       hea5a465_1         2.0 MB\n",
            "    zict-1.0.0                 |             py_0          12 KB\n",
            "    click-7.0                  |           py36_0         118 KB\n",
            "    sortedcontainers-2.1.0     |           py36_0          45 KB\n",
            "    intel-openmp-2019.4        |              243         876 KB\n",
            "    mkl-2019.4                 |              243       204.1 MB\n",
            "    conda-4.7.9                |           py36_0         3.0 MB\n",
            "    cloudpickle-1.2.1          |             py_0          28 KB\n",
            "    jpeg-9b                    |       h024ee3a_2         248 KB\n",
            "    python-3.6.8               |       h0371630_0        34.4 MB\n",
            "    numpy-base-1.16.4          |   py36hde5b4d6_0         4.4 MB\n",
            "    lzo-2.10                   |       h49e0be7_2         313 KB\n",
            "    certifi-2019.6.16          |           py36_0         154 KB\n",
            "    toolz-0.10.0               |             py_0          50 KB\n",
            "    lz4-c-1.8.1.2              |       h14c3975_0         158 KB\n",
            "    blas-1.0                   |              mkl           6 KB\n",
            "    locket-0.2.0               |           py36_1           8 KB\n",
            "    psutil-5.6.3               |   py36h7b6447c_0         328 KB\n",
            "    libtiff-4.0.10             |       h2733197_2         604 KB\n",
            "    zstd-1.3.7                 |       h0b5b093_0         887 KB\n",
            "    freetype-2.9.1             |       h8a8886c_1         822 KB\n",
            "    dask-core-2.1.0            |             py_0         578 KB\n",
            "    tornado-6.0.3              |   py36h7b6447c_0         643 KB\n",
            "    ------------------------------------------------------------\n",
            "                                           Total:       283.0 MB\n",
            "\n",
            "The following NEW packages will be INSTALLED:\n",
            "\n",
            "    blas:                   1.0-mkl                          \n",
            "    bokeh:                  1.2.0-py36_0                     \n",
            "    click:                  7.0-py36_0                       \n",
            "    cloudpickle:            1.2.1-py_0                       \n",
            "    cytoolz:                0.10.0-py36h7b6447c_0            \n",
            "    dask:                   2.1.0-py_0                       \n",
            "    dask-core:              2.1.0-py_0                       \n",
            "    distributed:            2.1.0-py_0                       \n",
            "    freetype:               2.9.1-h8a8886c_1                 \n",
            "    heapdict:               1.0.0-py36_2                     \n",
            "    intel-openmp:           2019.4-243                       \n",
            "    jinja2:                 2.10.1-py36_0                    \n",
            "    jpeg:                   9b-h024ee3a_2                    \n",
            "    libpng:                 1.6.37-hbc83047_0                \n",
            "    libtiff:                4.0.10-h2733197_2                \n",
            "    locket:                 0.2.0-py36_1                     \n",
            "    markupsafe:             1.1.1-py36h7b6447c_0             \n",
            "    mkl:                    2019.4-243                       \n",
            "    mkl_fft:                1.0.12-py36ha843d7b_0            \n",
            "    mkl_random:             1.0.2-py36hd81dba3_0             \n",
            "    msgpack-python:         0.6.1-py36hfd86e86_1             \n",
            "    numpy-base:             1.16.4-py36hde5b4d6_0            \n",
            "    olefile:                0.46-py36_0                      \n",
            "    packaging:              19.0-py36_0                      \n",
            "    partd:                  1.0.0-py_0                       \n",
            "    pillow:                 6.1.0-py36h34e0f95_0             \n",
            "    psutil:                 5.6.3-py36h7b6447c_0             \n",
            "    pyparsing:              2.4.0-py_0                       \n",
            "    pyyaml:                 5.1.1-py36h7b6447c_0             \n",
            "    sortedcontainers:       2.1.0-py36_0                     \n",
            "    tblib:                  1.4.0-py_0                       \n",
            "    toolz:                  0.10.0-py_0                      \n",
            "    tornado:                6.0.3-py36h7b6447c_0             \n",
            "    zict:                   1.0.0-py_0                       \n",
            "\n",
            "The following packages will be UPDATED:\n",
            "\n",
            "    bzip2:                  1.0.8-h516909a_0      conda-forge --> 1.0.8-h7b6447c_0     \n",
            "    ca-certificates:        2018.03.07-0                      --> 2019.5.15-0          \n",
            "    certifi:                2018.4.16-py36_0                  --> 2019.6.16-py36_0     \n",
            "    conda:                  4.5.4-py36_0                      --> 4.7.9-py36_0         \n",
            "    conda-package-handling: 1.3.11-py36_0         conda-forge --> 1.3.11-py36_0        \n",
            "    cryptography:           2.2.2-py36h14c3975_0              --> 2.7-py36h1ba5d50_0   \n",
            "    libgcc-ng:              7.2.0-hdf63c60_3                  --> 9.1.0-hdf63c60_0     \n",
            "    libstdcxx-ng:           7.2.0-hdf63c60_3                  --> 9.1.0-hdf63c60_0     \n",
            "    numpy:                  1.16.4-py37h95a1406_0 conda-forge --> 1.16.4-py36h7e9f1db_0\n",
            "    openssl:                1.0.2o-h20670df_0                 --> 1.1.1c-h7b6447c_1    \n",
            "    python:                 3.6.5-hc3d631a_2                  --> 3.6.8-h0371630_0     \n",
            "    sqlite:                 3.23.1-he433501_0                 --> 3.26.0-h7b6447c_0    \n",
            "    tk:                     8.6.7-hc745277_3                  --> 8.6.8-hbc83047_0     \n",
            "\n",
            "The following packages will be DOWNGRADED:\n",
            "\n",
            "    libarchive:             3.3.3-hb44662c_1005   conda-forge --> 3.3.3-h5d8350f_5     \n",
            "    libxml2:                2.9.9-hee79883_2      conda-forge --> 2.9.9-hea5a465_1     \n",
            "    lz4-c:                  1.8.3-he1b5a44_1001   conda-forge --> 1.8.1.2-h14c3975_0   \n",
            "    lzo:                    2.10-h14c3975_1000    conda-forge --> 2.10-h49e0be7_2      \n",
            "    pandas:                 0.25.0-py37hb3f55d8_0 conda-forge --> 0.24.2-py36he6710b0_0\n",
            "    python-libarchive-c:    2.8-py36_1004         conda-forge --> 2.8-py36_11          \n",
            "    zstd:                   1.4.0-h3b9ef0a_0      conda-forge --> 1.3.7-h0b5b093_0     \n",
            "\n",
            "Preparing transaction: ...working... done\n",
            "Verifying transaction: ...working... done\n",
            "Executing transaction: ...working... done\n"
          ],
          "name": "stdout"
        }
      ]
    },
    {
      "cell_type": "code",
      "metadata": {
        "id": "r2YMbK2YGnqg",
        "colab_type": "code",
        "outputId": "f2579e96-f37f-44d8-86b0-6cf9f80f51d5",
        "colab": {
          "base_uri": "https://localhost:8080/",
          "height": 121
        }
      },
      "source": [
        "from google.colab import drive\n",
        "drive.mount('/content/drive')"
      ],
      "execution_count": 0,
      "outputs": [
        {
          "output_type": "stream",
          "text": [
            "Go to this URL in a browser: https://accounts.google.com/o/oauth2/auth?client_id=947318989803-6bn6qk8qdgf4n4g3pfee6491hc0brc4i.apps.googleusercontent.com&redirect_uri=urn%3Aietf%3Awg%3Aoauth%3A2.0%3Aoob&scope=email%20https%3A%2F%2Fwww.googleapis.com%2Fauth%2Fdocs.test%20https%3A%2F%2Fwww.googleapis.com%2Fauth%2Fdrive%20https%3A%2F%2Fwww.googleapis.com%2Fauth%2Fdrive.photos.readonly%20https%3A%2F%2Fwww.googleapis.com%2Fauth%2Fpeopleapi.readonly&response_type=code\n",
            "\n",
            "Enter your authorization code:\n",
            "··········\n",
            "Mounted at /content/drive\n"
          ],
          "name": "stdout"
        }
      ]
    },
    {
      "cell_type": "code",
      "metadata": {
        "id": "z6m6SY36G-o7",
        "colab_type": "code",
        "outputId": "53a6c359-82bc-4c1e-a9d6-561b80fd3de3",
        "colab": {
          "base_uri": "https://localhost:8080/",
          "height": 34
        }
      },
      "source": [
        "!ls -l \"/content/drive/My Drive/Colab Notebooks/TrainData_PA.csv\""
      ],
      "execution_count": 0,
      "outputs": [
        {
          "output_type": "stream",
          "text": [
            "-rw------- 1 root root 5493629 Jul 16 23:19 '/content/drive/My Drive/Colab Notebooks/TrainData_PA.csv'\n"
          ],
          "name": "stdout"
        }
      ]
    },
    {
      "cell_type": "code",
      "metadata": {
        "id": "2iSe3Wo6szdn",
        "colab_type": "code",
        "outputId": "29011299-3145-4b6b-a1b8-7ac9d65706a0",
        "colab": {
          "base_uri": "https://localhost:8080/",
          "height": 484
        }
      },
      "source": [
        "import dask.dataframe as dd\n",
        "import numpy as np\n",
        "tips_df = dd.read_csv(\"/content/drive/My Drive/Colab Notebooks/TrainData_PA.csv\", assume_missing=True)\n",
        "tips_df.head()"
      ],
      "execution_count": 0,
      "outputs": [
        {
          "output_type": "execute_result",
          "data": {
            "text/html": [
              "<div>\n",
              "<style scoped>\n",
              "    .dataframe tbody tr th:only-of-type {\n",
              "        vertical-align: middle;\n",
              "    }\n",
              "\n",
              "    .dataframe tbody tr th {\n",
              "        vertical-align: top;\n",
              "    }\n",
              "\n",
              "    .dataframe thead th {\n",
              "        text-align: right;\n",
              "    }\n",
              "</style>\n",
              "<table border=\"1\" class=\"dataframe\">\n",
              "  <thead>\n",
              "    <tr style=\"text-align: right;\">\n",
              "      <th></th>\n",
              "      <th>county</th>\n",
              "      <th>city</th>\n",
              "      <th>zipcode</th>\n",
              "      <th>address</th>\n",
              "      <th>state</th>\n",
              "      <th>rent</th>\n",
              "      <th>latitude</th>\n",
              "      <th>longitude</th>\n",
              "      <th>cemetery_dist_miles</th>\n",
              "      <th>nationalhighway_miles</th>\n",
              "      <th>railline_miles</th>\n",
              "      <th>starbucks_miles</th>\n",
              "      <th>walmart_miles</th>\n",
              "      <th>hospital_miles</th>\n",
              "      <th>physician_dist_miles</th>\n",
              "      <th>dentist_dist_miles</th>\n",
              "      <th>opt_dist_miles</th>\n",
              "      <th>vet_dist_miles</th>\n",
              "      <th>farmers_miles</th>\n",
              "      <th>time</th>\n",
              "      <th>bed</th>\n",
              "      <th>bath</th>\n",
              "      <th>halfbath</th>\n",
              "      <th>sqft</th>\n",
              "      <th>property_type</th>\n",
              "      <th>garage</th>\n",
              "      <th>yearbuilt</th>\n",
              "      <th>pool</th>\n",
              "      <th>fireplace</th>\n",
              "      <th>patio</th>\n",
              "      <th>lotsize</th>\n",
              "      <th>Census_MedianIncome</th>\n",
              "      <th>CollegeGrads</th>\n",
              "      <th>WhiteCollar</th>\n",
              "      <th>Schools</th>\n",
              "      <th>Unemployment</th>\n",
              "      <th>EmploymentDiversity</th>\n",
              "      <th>Census_Vacancy</th>\n",
              "      <th>Crime_Rate</th>\n",
              "      <th>HomePrice</th>\n",
              "    </tr>\n",
              "  </thead>\n",
              "  <tbody>\n",
              "    <tr>\n",
              "      <th>0</th>\n",
              "      <td>NaN</td>\n",
              "      <td>WEXFORD</td>\n",
              "      <td>NaN</td>\n",
              "      <td>266 Clematis Dr Allegheny County</td>\n",
              "      <td>PA</td>\n",
              "      <td>2400.0</td>\n",
              "      <td>40.618200</td>\n",
              "      <td>-80.077600</td>\n",
              "      <td>1.019586</td>\n",
              "      <td>0.206222</td>\n",
              "      <td>0.629888</td>\n",
              "      <td>1.348776</td>\n",
              "      <td>3.326397</td>\n",
              "      <td>1.584675</td>\n",
              "      <td>0.229126</td>\n",
              "      <td>0.472933</td>\n",
              "      <td>0.651244</td>\n",
              "      <td>7.323725</td>\n",
              "      <td>1.094678</td>\n",
              "      <td>2016.25</td>\n",
              "      <td>3.0</td>\n",
              "      <td>2.0</td>\n",
              "      <td>1.0</td>\n",
              "      <td>2000.0</td>\n",
              "      <td>Condo</td>\n",
              "      <td>1.0</td>\n",
              "      <td>2008.0</td>\n",
              "      <td>0.0</td>\n",
              "      <td>1.0</td>\n",
              "      <td>0.0</td>\n",
              "      <td>4086.388045</td>\n",
              "      <td>54476.09</td>\n",
              "      <td>21.0</td>\n",
              "      <td>66.57</td>\n",
              "      <td>48.3</td>\n",
              "      <td>5.1</td>\n",
              "      <td>3.48</td>\n",
              "      <td>3.42</td>\n",
              "      <td>2.4</td>\n",
              "      <td>158051.0</td>\n",
              "    </tr>\n",
              "    <tr>\n",
              "      <th>1</th>\n",
              "      <td>NaN</td>\n",
              "      <td>WHITEHALL</td>\n",
              "      <td>NaN</td>\n",
              "      <td>2310 N 1st Ave Lehigh County</td>\n",
              "      <td>PA</td>\n",
              "      <td>995.0</td>\n",
              "      <td>40.649906</td>\n",
              "      <td>-75.478940</td>\n",
              "      <td>1.019586</td>\n",
              "      <td>0.206222</td>\n",
              "      <td>0.629888</td>\n",
              "      <td>1.348776</td>\n",
              "      <td>3.326397</td>\n",
              "      <td>1.584675</td>\n",
              "      <td>0.229126</td>\n",
              "      <td>0.472933</td>\n",
              "      <td>0.651244</td>\n",
              "      <td>7.323725</td>\n",
              "      <td>1.094678</td>\n",
              "      <td>2016.25</td>\n",
              "      <td>2.0</td>\n",
              "      <td>1.0</td>\n",
              "      <td>1.0</td>\n",
              "      <td>1100.0</td>\n",
              "      <td>Condo</td>\n",
              "      <td>0.0</td>\n",
              "      <td>1935.0</td>\n",
              "      <td>0.0</td>\n",
              "      <td>0.0</td>\n",
              "      <td>0.0</td>\n",
              "      <td>2247.513425</td>\n",
              "      <td>54476.09</td>\n",
              "      <td>21.0</td>\n",
              "      <td>66.57</td>\n",
              "      <td>48.3</td>\n",
              "      <td>5.1</td>\n",
              "      <td>3.48</td>\n",
              "      <td>3.42</td>\n",
              "      <td>2.4</td>\n",
              "      <td>158051.0</td>\n",
              "    </tr>\n",
              "    <tr>\n",
              "      <th>2</th>\n",
              "      <td>NaN</td>\n",
              "      <td>WHITEHALL</td>\n",
              "      <td>NaN</td>\n",
              "      <td>3338 St Stephens Ln Lehigh County</td>\n",
              "      <td>PA</td>\n",
              "      <td>1740.0</td>\n",
              "      <td>40.646282</td>\n",
              "      <td>-75.510056</td>\n",
              "      <td>1.019586</td>\n",
              "      <td>0.206222</td>\n",
              "      <td>0.629888</td>\n",
              "      <td>1.348776</td>\n",
              "      <td>3.326397</td>\n",
              "      <td>1.584675</td>\n",
              "      <td>0.229126</td>\n",
              "      <td>0.472933</td>\n",
              "      <td>0.651244</td>\n",
              "      <td>7.323725</td>\n",
              "      <td>1.094678</td>\n",
              "      <td>2015.75</td>\n",
              "      <td>3.0</td>\n",
              "      <td>2.0</td>\n",
              "      <td>1.0</td>\n",
              "      <td>1522.0</td>\n",
              "      <td>Condo</td>\n",
              "      <td>0.0</td>\n",
              "      <td>2006.0</td>\n",
              "      <td>0.0</td>\n",
              "      <td>1.0</td>\n",
              "      <td>1.0</td>\n",
              "      <td>3109.741302</td>\n",
              "      <td>54476.09</td>\n",
              "      <td>21.0</td>\n",
              "      <td>66.57</td>\n",
              "      <td>48.3</td>\n",
              "      <td>5.1</td>\n",
              "      <td>3.48</td>\n",
              "      <td>3.42</td>\n",
              "      <td>2.4</td>\n",
              "      <td>158051.0</td>\n",
              "    </tr>\n",
              "    <tr>\n",
              "      <th>3</th>\n",
              "      <td>NaN</td>\n",
              "      <td>WAYNESBORO</td>\n",
              "      <td>NaN</td>\n",
              "      <td>97 W Main St Franklin County</td>\n",
              "      <td>PA</td>\n",
              "      <td>675.0</td>\n",
              "      <td>39.756992</td>\n",
              "      <td>-77.579704</td>\n",
              "      <td>1.019586</td>\n",
              "      <td>0.206222</td>\n",
              "      <td>0.629888</td>\n",
              "      <td>1.348776</td>\n",
              "      <td>3.326397</td>\n",
              "      <td>1.584675</td>\n",
              "      <td>0.229126</td>\n",
              "      <td>0.472933</td>\n",
              "      <td>0.651244</td>\n",
              "      <td>7.323725</td>\n",
              "      <td>1.094678</td>\n",
              "      <td>2016.25</td>\n",
              "      <td>3.0</td>\n",
              "      <td>1.0</td>\n",
              "      <td>1.0</td>\n",
              "      <td>1150.0</td>\n",
              "      <td>Condo</td>\n",
              "      <td>0.0</td>\n",
              "      <td>1960.0</td>\n",
              "      <td>0.0</td>\n",
              "      <td>0.0</td>\n",
              "      <td>0.0</td>\n",
              "      <td>2349.673126</td>\n",
              "      <td>54476.09</td>\n",
              "      <td>21.0</td>\n",
              "      <td>66.57</td>\n",
              "      <td>48.3</td>\n",
              "      <td>5.1</td>\n",
              "      <td>3.48</td>\n",
              "      <td>3.42</td>\n",
              "      <td>2.4</td>\n",
              "      <td>158051.0</td>\n",
              "    </tr>\n",
              "    <tr>\n",
              "      <th>4</th>\n",
              "      <td>NaN</td>\n",
              "      <td>QUAKERTOWN</td>\n",
              "      <td>NaN</td>\n",
              "      <td>200 E Broad St Bucks County</td>\n",
              "      <td>PA</td>\n",
              "      <td>1300.0</td>\n",
              "      <td>40.441177</td>\n",
              "      <td>-75.332540</td>\n",
              "      <td>1.019586</td>\n",
              "      <td>0.206222</td>\n",
              "      <td>0.629888</td>\n",
              "      <td>1.348776</td>\n",
              "      <td>3.326397</td>\n",
              "      <td>1.584675</td>\n",
              "      <td>0.229126</td>\n",
              "      <td>0.472933</td>\n",
              "      <td>0.651244</td>\n",
              "      <td>7.323725</td>\n",
              "      <td>1.094678</td>\n",
              "      <td>2016.25</td>\n",
              "      <td>3.0</td>\n",
              "      <td>2.0</td>\n",
              "      <td>1.0</td>\n",
              "      <td>1000.0</td>\n",
              "      <td>SFR</td>\n",
              "      <td>0.0</td>\n",
              "      <td>1960.0</td>\n",
              "      <td>0.0</td>\n",
              "      <td>0.0</td>\n",
              "      <td>0.0</td>\n",
              "      <td>2043.194023</td>\n",
              "      <td>54476.09</td>\n",
              "      <td>21.0</td>\n",
              "      <td>66.57</td>\n",
              "      <td>48.3</td>\n",
              "      <td>5.1</td>\n",
              "      <td>3.48</td>\n",
              "      <td>3.42</td>\n",
              "      <td>2.4</td>\n",
              "      <td>158051.0</td>\n",
              "    </tr>\n",
              "  </tbody>\n",
              "</table>\n",
              "</div>"
            ],
            "text/plain": [
              "  county        city  zipcode  ... Census_Vacancy Crime_Rate  HomePrice\n",
              "0    NaN     WEXFORD      NaN  ...           3.42        2.4   158051.0\n",
              "1    NaN   WHITEHALL      NaN  ...           3.42        2.4   158051.0\n",
              "2    NaN   WHITEHALL      NaN  ...           3.42        2.4   158051.0\n",
              "3    NaN  WAYNESBORO      NaN  ...           3.42        2.4   158051.0\n",
              "4    NaN  QUAKERTOWN      NaN  ...           3.42        2.4   158051.0\n",
              "\n",
              "[5 rows x 40 columns]"
            ]
          },
          "metadata": {
            "tags": []
          },
          "execution_count": 7
        }
      ]
    },
    {
      "cell_type": "markdown",
      "metadata": {
        "id": "oWcPzX1U07Fe",
        "colab_type": "text"
      },
      "source": [
        "https://docs.dask.org/en/latest/install.html - for installation and other doc"
      ]
    },
    {
      "cell_type": "code",
      "metadata": {
        "id": "ULbRXjumlzmB",
        "colab_type": "code",
        "outputId": "2e13699e-d356-419c-a1f2-675a45f3d5a6",
        "colab": {
          "base_uri": "https://localhost:8080/",
          "height": 54
        }
      },
      "source": [
        "print(list(tips_df['zipcode'].compute()))"
      ],
      "execution_count": 0,
      "outputs": [
        {
          "output_type": "stream",
          "text": [
            "[nan, nan, nan, nan, nan, nan, nan, nan, nan, nan, nan, nan, nan, nan, nan, nan, nan, nan, nan, nan, nan, nan, nan, nan, nan, nan, 17325.0, 17350.0, 17350.0, 17325.0, 17325.0, 17344.0, 17325.0, 17325.0, 17350.0, 17325.0, 17320.0, 17325.0, 17325.0, 17353.0, 17325.0, 17325.0, 17325.0, 17316.0, 17325.0, 17325.0, 17316.0, 17325.0, 17344.0, 17325.0, 17372.0, 17320.0, 17303.0, 17325.0, 17325.0, 17303.0, 17325.0, 17325.0, 17325.0, 17340.0, 17325.0, 17372.0, 17353.0, 17340.0, 17325.0, 17340.0, 17325.0, 17340.0, 17303.0, 17316.0, 17303.0, 17303.0, 17340.0, 17325.0, 17340.0, 15206.0, 15232.0, 15237.0, 15229.0, 15056.0, 15104.0, 15212.0, 15232.0, 15236.0, 15215.0, 15104.0, 15217.0, 15206.0, 15211.0, 15217.0, 15228.0, 15056.0, 15213.0, 15214.0, 15212.0, 15221.0, 15226.0, 15224.0, 15236.0, 15212.0, 15228.0, 15212.0, 15217.0, 15206.0, 15143.0, 15205.0, 15218.0, 15017.0, 15221.0, 15211.0, 15206.0, 15206.0, 15232.0, 15205.0, 15228.0, 15221.0, 15207.0, 15206.0, 15220.0, 15227.0, 15104.0, 15202.0, 15065.0, 15210.0, 15214.0, 15221.0, 15224.0, 15237.0, 15237.0, 15206.0, 15212.0, 15143.0, 15205.0, 15217.0, 15206.0, 15213.0, 15207.0, 15211.0, 15028.0, 15211.0, 15212.0, 15212.0, 15221.0, 15207.0, 15221.0, 15217.0, 15220.0, 15212.0, 15212.0, 15205.0, 15214.0, 15035.0, 15229.0, 15106.0, 15213.0, 15101.0, 15217.0, 15212.0, 15212.0, 15204.0, 15243.0, 15237.0, 15216.0, 15212.0, 15221.0, 15227.0, 15210.0, 15206.0, 15210.0, 15065.0, 15221.0, 15203.0, 15221.0, 15211.0, 15056.0, 15210.0, 15212.0, 15206.0, 15222.0, 15206.0, 15221.0, 15207.0, 15212.0, 15221.0, 15232.0, 15206.0, 15035.0, 15217.0, 15214.0, 15203.0, 15243.0, 15028.0, 15221.0, 15236.0, 15212.0, 15212.0, 15212.0, 15212.0, 15213.0, 15210.0, 15215.0, 15237.0, 15206.0, 15210.0, 15212.0, 15229.0, 15224.0, 15212.0, 15212.0, 15101.0, 15215.0, 15217.0, 15056.0, 15228.0, 15101.0, 15232.0, 15216.0, 15143.0, 15206.0, 15143.0, 15143.0, 15221.0, 15206.0, 15228.0, 15212.0, 15213.0, 15220.0, 15218.0, 15228.0, 15225.0, 15065.0, 15205.0, 15212.0, 15212.0, 15210.0, 15222.0, 15232.0, 15212.0, 15226.0, 15237.0, 15213.0, 15237.0, 15218.0, 15228.0, 15232.0, 15232.0, 15221.0, 15221.0, 15243.0, 15206.0, 15232.0, 15237.0, 15028.0, 15228.0, 15206.0, 15143.0, 15224.0, 15232.0, 15213.0, 15212.0, 15217.0, 15232.0, 15212.0, 15210.0, 15210.0, 15206.0, 15035.0, 15212.0, 15203.0, 15212.0, 15222.0, 15025.0, 15243.0, 15232.0, 15108.0, 15211.0, 15232.0, 15203.0, 15203.0, 15146.0, 15214.0, 15210.0, 15212.0, 15143.0, 15206.0, 15213.0, 15206.0, 15219.0, 15221.0, 15221.0, 15206.0, 15208.0, 15212.0, 15222.0, 15223.0, 15206.0, 15221.0, 15203.0, 15232.0, 15218.0, 15215.0, 15221.0, 15221.0, 15132.0, 15213.0, 15237.0, 15106.0, 15212.0, 15206.0, 15237.0, 15212.0, 15035.0, 15215.0, 15206.0, 15203.0, 15220.0, 15217.0, 15218.0, 15143.0, 15221.0, 15212.0, 15232.0, 15228.0, 15217.0, 15232.0, 15217.0, 15212.0, 15206.0, 15224.0, 15213.0, 15065.0, 15210.0, 15214.0, 15221.0, 15214.0, 15212.0, 15237.0, 15221.0, 15217.0, 15237.0, 15218.0, 15206.0, 15221.0, 15221.0, 15237.0, 15206.0, 15126.0, 15221.0, 15106.0, 15106.0, 15237.0, 15232.0, 15232.0, 15211.0, 15221.0, 15212.0, 15202.0, 15222.0, 15202.0, 15211.0, 15218.0, 15212.0, 15101.0, 15232.0, 15211.0, 15101.0, 15212.0, 15224.0, 15101.0, 15101.0, 15203.0, 15211.0, 15217.0, 15210.0, 15212.0, 15226.0, 15101.0, 15101.0, 15237.0, 15206.0, 15227.0, 15232.0, 15145.0, 15108.0, 15216.0, 15210.0, 15216.0, 15220.0, 15208.0, 15236.0, 15222.0, 15108.0, 15221.0, 15203.0, 15143.0, 15232.0, 15215.0, 15221.0, 15215.0, 15203.0, 15215.0, 15210.0, 15213.0, 15129.0, 15222.0, 15215.0, 15212.0, 15222.0, 15222.0, 15221.0, 15212.0, 15220.0, 15210.0, 15071.0, 15206.0, 15108.0, 15210.0, 15206.0, 15101.0, 15232.0, 15143.0, 15108.0, 15213.0, 15211.0, 15212.0, 15025.0, 15213.0, 15221.0, 15216.0, 15220.0, 15221.0, 15214.0, 15216.0, 15202.0, 15220.0, 15241.0, 15049.0, 15108.0, 15206.0, 15056.0, 15217.0, 15217.0, 15140.0, 15232.0, 15221.0, 15143.0, 15221.0, 15219.0, 15219.0, 15206.0, 15212.0, 15221.0, 15221.0, 15218.0, 15102.0, 15222.0, 15213.0, 15212.0, 15222.0, 15221.0, 15212.0, 15213.0, 15226.0, 15212.0, 15108.0, 15207.0, 15211.0, 15237.0, 15217.0, 15217.0, 15224.0, 15212.0, 15224.0, 15232.0, 15218.0, 15217.0, 15218.0, 15217.0, 15212.0, 15217.0, 15217.0, 15139.0, 15219.0, 15206.0, 15237.0, 15226.0, 15214.0, 15213.0, 15220.0, 15049.0, 15232.0, 15221.0, 15203.0, 15221.0, 15232.0, 15143.0, 15210.0, 15212.0, 15143.0, 15126.0, 15212.0, 15232.0, 15222.0, 15232.0, 15227.0, 15224.0, 15237.0, 15207.0, 15237.0, 15024.0, 15221.0, 15207.0, 15205.0, 15217.0, 15206.0, 15224.0, 15207.0, 15232.0, 15211.0, 15232.0, 15203.0, 15232.0, 15232.0, 15226.0, 15206.0, 15213.0, 15101.0, 15214.0, 15221.0, 15145.0, 15214.0, 15222.0, 15220.0, 15112.0, 15221.0, 15213.0, 15232.0, 15222.0, 15219.0, 15219.0, 15212.0, 15143.0, 15232.0, 15221.0, 15227.0, 15236.0, 15140.0, 15232.0, 15148.0, 15221.0, 15210.0, 15213.0, 15210.0, 15210.0, 15217.0, 15213.0, 15102.0, 15132.0, 15104.0, 15224.0, 15210.0, 15224.0, 15211.0, 15217.0, 15232.0, 15217.0, 15215.0, 15217.0, 15221.0, 15224.0, 15210.0, 15202.0, 15206.0, 15213.0, 15206.0, 15227.0, 15210.0, 15224.0, 15082.0, 15203.0, 15221.0, 15203.0, 15203.0, 15222.0, 15232.0, 15236.0, 15236.0, 15236.0, 15202.0, 15221.0, 15232.0, 15211.0, 15203.0, 15065.0, 15222.0, 15221.0, 15203.0, 15203.0, 15148.0, 15221.0, 15210.0, 15143.0, 15221.0, 15206.0, 15206.0, 15217.0, 15212.0, 15228.0, 15217.0, 15206.0, 15203.0, 15216.0, 15221.0, 15237.0, 15210.0, 15203.0, 15216.0, 15212.0, 15220.0, 15208.0, 15237.0, 15229.0, 15217.0, 15143.0, 15221.0, 15215.0, 15217.0, 15213.0, 15213.0, 15226.0, 15217.0, 15122.0, 15237.0, 15217.0, 15217.0, 15232.0, 15214.0, 15206.0, 15201.0, 15217.0, 15218.0, 15206.0, 15226.0, 15211.0, 15217.0, 15203.0, 15222.0, 15221.0, 15206.0, 15236.0, 15210.0, 15212.0, 15214.0, 15212.0, 15217.0, 15143.0, 15206.0, 15129.0, 15210.0, 15219.0, 15219.0, 15213.0, 15201.0, 15120.0, 15203.0, 15213.0, 15035.0, 15237.0, 15210.0, 15232.0, 15212.0, 15237.0, 15224.0, 15232.0, 15224.0, 15226.0, 15101.0, 15101.0, 15203.0, 15101.0, 15142.0, 15203.0, 15213.0, 15232.0, 15226.0, 15101.0, 15221.0, 15202.0, 15216.0, 15101.0, 15212.0, 15232.0, 15213.0, 15228.0, 15235.0, 15203.0, 15232.0, 15221.0, 15232.0, 15221.0, 15220.0, 15226.0, 15129.0, 15217.0, 15217.0, 15203.0, 15044.0, 15219.0, 15213.0, 15217.0, 15218.0, 15210.0, 15143.0, 15203.0, 15212.0, 15212.0, 15202.0, 15132.0, 15202.0, 15217.0, 15232.0, 15212.0, 15212.0, 15213.0, 15227.0, 15218.0, 15211.0, 15210.0, 15143.0, 15143.0, 15217.0, 15143.0, 15206.0, 15203.0, 15202.0, 15228.0, 15228.0, 15108.0, 15210.0, 15108.0, 15218.0, 15212.0, 15221.0, 15214.0, 15218.0, 15203.0, 15212.0, 15143.0, 15222.0, 15217.0, 15206.0, 15202.0, 15129.0, 15129.0, 15221.0, 15232.0, 15219.0, 15220.0, 15212.0, 15217.0, 15210.0, 15218.0, 15203.0, 15218.0, 15203.0, 15212.0, 15102.0, 15218.0, 15221.0, 15232.0, 15216.0, 15222.0, 15232.0, 15203.0, 15221.0, 15207.0, 15217.0, 15122.0, 15232.0, 15034.0, 15201.0, 15218.0, 15220.0, 15213.0, 15207.0, 15139.0, 15202.0, 15203.0, 15201.0, 15229.0, 15232.0, 15206.0, 15217.0, 15217.0, 15219.0, 15219.0, 15139.0, 15217.0, 15211.0, 15217.0, 15044.0, 15218.0, 15045.0, 15206.0, 15205.0, 15232.0, 15129.0, 15143.0, 15212.0, 15206.0, 15206.0, 15205.0, 15232.0, 15232.0, 15211.0, 15203.0, 15212.0, 15220.0, 15229.0, 15232.0, 15213.0, 15211.0, 15208.0, 15207.0, 15213.0, 15202.0, 15232.0, 15211.0, 15101.0, 15205.0, 15235.0, 15211.0, 15142.0, 15206.0, 15217.0, 15226.0, 15216.0, 15145.0, 15226.0, 15112.0, 15203.0, 15226.0, 15237.0, 15212.0, 15146.0, 15213.0, 15239.0, 15216.0, 15212.0, 15221.0, 15044.0, 15044.0, 15219.0, 15217.0, 15237.0, 15143.0, 15232.0, 15210.0, 15217.0, 15206.0, 15235.0, 15205.0, 15232.0, 15222.0, 15206.0, 15221.0, 15206.0, 15228.0, 15213.0, 15243.0, 15221.0, 15120.0, 15024.0, 15243.0, 15206.0, 15218.0, 15207.0, 15235.0, 15232.0, 15110.0, 15221.0, 15206.0, 15221.0, 15214.0, 15202.0, 15213.0, 15206.0, 15214.0, 15221.0, 15236.0, 15203.0, 15222.0, 15221.0, 15218.0, 15222.0, 15232.0, 15232.0, 15217.0, 15221.0, 15136.0, 15221.0, 15232.0, 15202.0, 15086.0, 15222.0, 15217.0, 15217.0, 15235.0, 15222.0, 15232.0, 15232.0, 15106.0, 15233.0, 15106.0, 15237.0, 15102.0, 15217.0, 15212.0, 15212.0, 15221.0, 15221.0, 15232.0, 15071.0, 15221.0, 15215.0, 15217.0, 15201.0, 15201.0, 15218.0, 15213.0, 15229.0, 15139.0, 15139.0, 15208.0, 15229.0, 15213.0, 15219.0, 15217.0, 15232.0, 15139.0, 15232.0, 15064.0, 15224.0, 15217.0, 15211.0, 15217.0, 15221.0, 15232.0, 15235.0, 15044.0, 15206.0, 15217.0, 15108.0, 15217.0, 15217.0, 15232.0, 15143.0, 15221.0, 15232.0, 15237.0, 15126.0, 15126.0, 15222.0, 15232.0, 15102.0, 15213.0, 15237.0, 15211.0, 15211.0, 15202.0, 15217.0, 15145.0, 15145.0, 15215.0, 15217.0, 15218.0, 15101.0, 15226.0, 15211.0, 15202.0, 15207.0, 15226.0, 15232.0, 15211.0, 15146.0, 15206.0, 15223.0, 15235.0, 15210.0, 15210.0, 15217.0, 15235.0, 15221.0, 15212.0, 15219.0, 15045.0, 15129.0, 15217.0, 15232.0, 15229.0, 15045.0, 15235.0, 15203.0, 15221.0, 15140.0, 15217.0, 15210.0, 15201.0, 15202.0, 15222.0, 15202.0, 15210.0, 15224.0, 15210.0, 15210.0, 15210.0, 15203.0, 15210.0, 15202.0, 15232.0, 15217.0, 15217.0, 15210.0, 15110.0, 15143.0, 15025.0, 15210.0, 15082.0, 15210.0, 15210.0, 15222.0, 15136.0, 15217.0, 15136.0, 15203.0, 15222.0, 15236.0, 15222.0, 15222.0, 15143.0, 15203.0, 15236.0, 15108.0, 15203.0, 15136.0, 15136.0, 15203.0, 15136.0, 15136.0, 15136.0, 15205.0, 15202.0, 15210.0, 15210.0, 15212.0, 15237.0, 15217.0, 15237.0, 15238.0, 15205.0, 15102.0, 15102.0, 15071.0, 15216.0, 15071.0, 15203.0, 15232.0, 15203.0, 15071.0, 15071.0, 15071.0, 15071.0, 15139.0, 15139.0, 15215.0, 15217.0, 15221.0, 15203.0, 15208.0, 15139.0, 15219.0, 15217.0, 15219.0, 15224.0, 15203.0, 15217.0, 15206.0, 15237.0, 15044.0, 15044.0, 15219.0, 15206.0, 15044.0, 15232.0, 15227.0, 15108.0, 15227.0, 15203.0, 15108.0, 15210.0, 15213.0, 15126.0, 15044.0, 15217.0, 15211.0, 15220.0, 15217.0, 15206.0, 15206.0, 15211.0, 15145.0, 15217.0, 15145.0, 15101.0, 15220.0, 15101.0, 15227.0, 15234.0, 15213.0, 15202.0, 15209.0, 15210.0, 15017.0, 15210.0, 15217.0, 15235.0, 15217.0, 15216.0, 15229.0, 15226.0, 15212.0, 15129.0, 15212.0, 15229.0, 15203.0, 15213.0, 15045.0, 15137.0, 15221.0, 15129.0, 15206.0, 15222.0, 15203.0, 15217.0, 15227.0, 15203.0, 15243.0, 15227.0, 15212.0, 15212.0, 15024.0, 15143.0, 15216.0, 15204.0, 15204.0, 15217.0, 15205.0, 15222.0, 15143.0, 15108.0, 15202.0, 15221.0, 15206.0, 15229.0, 15108.0, 15217.0, 15143.0, 15143.0, 15108.0, 15218.0, 15206.0, 15108.0, 15205.0, 15232.0, 15220.0, 15236.0, 15218.0, 15228.0, 15213.0, 15212.0, 15203.0, 15218.0, 15217.0, 15108.0, 15203.0, 15108.0, 15108.0, 15108.0, 15222.0, 15129.0, 15108.0, 15210.0, 15212.0, 15210.0, 15108.0, 15210.0, 15217.0, 15215.0, 15106.0, 15215.0, 15102.0, 15217.0, 15224.0, 15207.0, 15212.0, 15221.0, 15207.0, 15221.0, 15106.0, 15211.0, 15237.0, 15215.0, 15229.0, 15213.0, 15201.0, 15203.0, 15218.0, 15206.0, 15232.0, 15203.0, 15219.0, 15213.0, 15217.0, 15139.0, 15139.0, 15217.0, 15224.0, 15210.0, 15219.0, 15211.0, 15214.0, 15044.0, 15219.0, 15229.0, 15229.0, 15213.0, 15044.0, 15206.0, 15120.0, 15206.0, 15120.0, 15213.0, 15108.0, 15126.0, 15237.0, 15219.0, 15232.0, 15220.0, 15211.0, 15216.0, 15203.0, 15203.0, 15201.0, 15145.0, 15225.0, 15232.0, 15205.0, 15101.0, 15221.0, 15217.0, 15142.0, 15220.0, 15217.0, 15227.0, 15146.0, 15227.0, 15206.0, 15239.0, 15213.0, 15206.0, 15217.0, 15216.0, 15221.0, 15232.0, 15202.0, 15232.0, 15226.0, 15206.0, 15227.0, 15237.0, 15206.0, 15202.0, 15224.0, 15232.0, 15232.0, 15241.0, 15232.0, 15221.0, 15212.0, 15221.0, 15224.0, 15221.0, 15217.0, 15132.0, 15235.0, 15233.0, 15221.0, 15235.0, 15221.0, 15206.0, 15206.0, 15229.0, 15213.0, 15213.0, 15217.0, 15235.0, 15235.0, 15227.0, 15206.0, 15224.0, 15206.0, 15206.0, 15235.0, 15206.0, 15213.0, 15232.0, 15232.0, 15232.0, 15213.0, 15227.0, 15206.0, 15221.0, 15206.0, 15217.0, 15232.0, 15203.0, 15136.0, 15217.0, 15222.0, 15221.0, 15232.0, 15205.0, 15228.0, 15222.0, 15237.0, 15218.0, 15056.0, 15108.0, 15108.0, 15108.0, 15206.0, 15229.0, 15218.0, 15136.0, 15218.0, 15213.0, 15108.0, 15203.0, 15217.0, 15210.0, 15216.0, 15106.0, 15106.0, 15218.0, 15228.0, 15214.0, 15224.0, 15102.0, 15206.0, 15211.0, 15202.0, 15232.0, 15102.0, 15106.0, 15122.0, 15221.0, 15122.0, 15232.0, 15206.0, 15207.0, 15232.0, 15237.0, 15224.0, 15224.0, 15216.0, 15216.0, 15219.0, 15219.0, 15229.0, 15203.0, 15203.0, 15217.0, 15241.0, 15211.0, 15213.0, 15206.0, 15206.0, 15203.0, 15229.0, 15203.0, 15219.0, 15206.0, 15232.0, 15044.0, 15206.0, 15147.0, 15211.0, 15216.0, 15211.0, 15147.0, 15220.0, 15206.0, 15120.0, 15232.0, 15101.0, 15220.0, 15145.0, 15209.0, 15206.0, 15224.0, 15220.0, 15209.0, 15221.0, 15224.0, 15206.0, 15112.0, 15232.0, 15232.0, 15221.0, 15213.0, 15220.0, 15213.0, 15017.0, 15239.0, 15203.0, 15226.0, 15146.0, 15239.0, 15221.0, 15017.0, 15146.0, 15220.0, 15017.0, 15017.0, 15235.0, 15129.0, 15129.0, 15235.0, 15132.0, 15202.0, 15221.0, 15133.0, 15217.0, 15208.0, 15210.0, 15132.0, 15210.0, 15210.0, 15132.0, 15235.0, 15217.0, 15132.0, 15222.0, 15227.0, 15217.0, 15202.0, 15132.0, 15202.0, 15217.0, 15206.0, 15144.0, 15213.0, 15235.0, 15136.0, 15205.0, 15210.0, 15136.0, 15136.0, 15222.0, 15210.0, 15203.0, 15136.0, 15218.0, 15222.0, 15222.0, 15108.0, 15143.0, 15205.0, 15203.0, 15206.0, 15224.0, 15222.0, 15108.0, 15228.0, 15236.0, 15203.0, 15210.0, 15212.0, 15218.0, 15221.0, 15221.0, 15217.0, 15215.0, 15221.0, 15212.0, 15232.0, 15237.0, 15221.0, 15203.0, 15224.0, 15106.0, 15217.0, 15122.0, 15232.0, 15071.0, 15211.0, 15213.0, 15203.0, 15211.0, 15139.0, 15232.0, 15229.0, 15211.0, 15203.0, 15084.0, 15211.0, 15216.0, 15211.0, 15232.0, 15216.0, 15211.0, 15216.0, 15226.0, 15203.0, 15226.0, 15229.0, 15211.0, 15212.0, 15218.0, 15217.0, 15203.0, 15201.0, 15229.0, 15216.0, 15213.0, 15211.0, 15217.0, 15213.0, 15126.0, 15207.0, 15044.0, 15217.0, 15147.0, 15221.0, 15219.0, 15203.0, 15120.0, 15221.0, 15120.0, 15243.0, 15213.0, 15120.0, 15232.0, 15217.0, 15232.0, 15232.0, 15222.0, 15220.0, 15218.0, 15221.0, 15221.0, 15209.0, 15206.0, 15142.0, 15227.0, 15237.0, 15226.0, 15112.0, 15211.0, 15226.0, 15217.0, 15202.0, 15212.0, 15206.0, 15213.0, 15217.0, 15217.0, 15216.0, 15232.0, 15213.0, 15212.0, 15203.0, 15203.0, 15203.0, 15217.0, 15217.0, 15203.0, 15208.0, 15202.0, 15212.0, 15203.0, 15228.0, 15212.0, 15227.0, 15243.0, 15243.0, 15214.0, 15143.0, 15024.0, 15217.0, 15204.0, 15235.0, 15108.0, 15220.0, 15108.0, 15216.0, 15218.0, 15227.0, 15217.0, 15227.0, 15221.0, 15205.0, 15218.0, 15143.0, 15143.0, 15221.0, 15212.0, 15108.0, 15136.0, 15205.0, 15203.0, 15205.0, 15216.0, 15222.0, 15232.0, 15222.0, 15214.0, 15213.0, 15205.0, 15216.0, 15211.0, 15218.0, 15205.0, 15228.0, 15236.0, 15236.0, 15222.0, 15221.0, 15217.0, 15222.0, 15227.0, 15211.0, 15203.0, 15218.0, 15217.0, 15221.0, 15203.0, 15106.0, 15224.0, 15214.0, 15232.0, 15102.0, 15071.0, 15106.0, 15034.0, 15217.0, 15203.0, 15218.0, 15206.0, 15203.0, 15213.0, 15232.0, 15203.0, 15214.0, 15122.0, 15201.0, 15213.0, 15214.0, 15216.0, 15219.0, 15208.0, 15208.0, 15229.0, 15226.0, 15203.0, 15213.0, 15213.0, 15211.0, 15224.0, 15206.0, 15243.0, 15232.0, 15213.0, 15213.0, 15120.0, 15224.0, 15132.0, 15232.0, 15220.0, 15206.0, 15216.0, 15146.0, 15217.0, 15217.0, 15213.0, 15206.0, 15101.0, 15213.0, 15206.0, 15213.0, 15238.0, 15146.0, 15217.0, 15214.0, 15145.0, 15206.0, 15146.0, 15146.0, 15146.0, 15017.0, 15206.0, 15222.0, 15210.0, 15221.0, 15221.0, 15206.0, 15203.0, 15210.0, 15235.0, 15220.0, 15221.0, 15213.0, 15206.0, 15206.0, 15232.0, 15221.0, 15221.0, 15221.0, 15210.0, 15221.0, 15243.0, 15206.0, 15213.0, 15232.0, 15232.0, 15206.0, 15202.0, 15232.0, 15221.0, 15206.0, 15106.0, 15106.0, 15222.0, 15202.0, 15232.0, 15207.0, 15213.0, 15227.0, 15210.0, 15210.0, 15210.0, 15203.0, 15136.0, 15206.0, 15235.0, 15206.0, 15235.0, 15136.0, 15205.0, 15203.0, 15205.0, 15218.0, 15146.0, 15210.0, 15208.0, 15211.0, 15129.0, 15120.0, 15222.0, 15218.0, 15218.0, 15215.0, 15221.0, 15215.0, 15202.0, 15147.0, 15210.0, 15205.0, 15221.0, 15221.0, 15206.0, 15206.0, 15218.0, 15213.0, 15206.0, 15106.0, 15217.0, 15102.0, 15218.0, 15071.0, 15203.0, 15213.0, 15224.0, 15106.0, 15106.0, 15106.0, 15215.0, 15211.0, 15232.0, 15201.0, 15221.0, 15221.0, 15211.0, 15216.0, 15208.0, 15216.0, 15214.0, 15216.0, 15232.0, 15206.0, 15213.0, 15235.0, 15213.0, 15235.0, 15202.0, 15201.0, 15221.0, 15235.0, 15235.0, 15120.0, 15221.0, 15203.0, 15221.0, 15206.0, 15243.0, 15211.0, 15227.0, 15147.0, 15218.0, 15216.0, 15235.0, 15146.0, 15233.0, 15221.0, 15202.0, 15133.0, 15213.0, 15217.0, 15024.0, 15224.0, 15017.0, 15017.0, 15206.0, 15146.0, 15209.0, 15217.0, 15145.0, 15142.0, 15017.0, 15217.0, 15145.0, 15213.0, 15203.0, 15145.0, 15203.0, 15235.0, 15203.0, 15221.0, 15146.0, 15239.0, 15203.0, 15137.0, 15206.0, 15241.0, 15216.0, 15235.0, 15221.0, 15208.0, 15235.0, 15129.0, 15137.0, 15202.0, 15210.0, 15210.0, 15235.0, 15217.0, 15243.0, 15135.0, 15044.0, 15211.0, 15243.0, 15232.0, 15206.0, 15235.0, 15210.0, 15210.0, 15235.0, 15235.0, 15205.0, 15222.0, 15202.0, 15235.0, 15206.0, 15237.0, 15218.0, 15133.0, 15210.0, 15202.0, 15217.0, 15232.0, 15025.0, 15213.0, 15227.0, 15136.0, 15203.0, 15203.0, 15205.0, 15218.0, 15232.0, 15228.0, 15201.0, 15202.0, 15203.0, 15208.0, 15213.0, 15202.0, 15212.0, 15211.0, 15212.0, 15218.0, 15236.0, 15044.0, 15203.0, 15044.0, 15219.0, 15221.0, 15203.0, 15147.0, 15212.0, 15203.0, 15221.0, 15203.0, 15201.0, 15221.0, 15106.0, 15206.0, 15232.0, 15232.0, 15238.0, 15232.0, 15220.0, 15071.0, 15215.0, 15211.0, 15122.0, 15237.0, 15071.0, 15221.0, 15071.0, 15207.0, 15229.0, 15221.0, 15203.0, 15213.0, 15221.0, 15224.0, 15221.0, 15217.0, 15208.0, 15201.0, 15239.0, 15090.0, 15213.0, 15210.0, 15224.0, 15206.0, 15201.0, 15213.0, 15232.0, 15208.0, 15226.0, 15201.0, 15211.0, 15224.0, 15126.0, 15229.0, 15219.0, 15224.0, 15120.0, 15203.0, 15206.0, 15219.0, 15219.0, 15147.0, 15216.0, 15237.0, 15235.0, 15044.0, 15211.0, 15206.0, 15203.0, 15217.0, 15201.0, 15217.0, 15206.0, 15216.0, 15102.0, 15221.0, 15238.0, 15211.0, 15225.0, 15217.0, 15145.0, 15238.0, 15217.0, 15226.0, 15206.0, 15226.0, 15232.0, 15017.0, 15017.0, 15206.0, 15146.0, 15211.0, 15235.0, 15132.0, 15203.0, 15220.0, 15146.0, 15201.0, 15217.0, 15208.0, 15232.0, 15216.0, 15210.0, 15232.0, 15216.0, 15232.0, 15237.0, 15208.0, 15206.0, 15232.0, 15210.0, 15227.0, 15227.0, 15044.0, 15203.0, 15202.0, 15221.0, 15210.0, 15217.0, 15227.0, 15206.0, 15201.0, 15024.0, 15232.0, 15232.0, 15217.0, 15145.0, 15108.0, 15205.0, 15220.0, 15221.0, 15210.0, 15222.0, 15217.0, 15210.0, 15205.0, 15205.0, 15202.0, 15218.0, 15228.0, 15221.0, 15235.0, 15205.0, 15217.0, 15122.0, 15210.0, 15203.0, 15213.0, 15131.0, 15237.0, 15213.0, 15205.0, 15237.0, 15237.0, 15206.0, 15232.0, 15212.0, 15228.0, 15218.0, 15219.0, 15217.0, 15232.0, 15232.0, 15203.0, 15221.0, 15044.0, 15132.0, 15237.0, 15227.0, 15217.0, 15203.0, 15220.0, 15238.0, 15222.0, 15221.0, 15203.0, 15237.0, 15238.0, 15232.0, 15106.0, 15106.0, 15213.0, 15213.0, 15211.0, 15102.0, 15221.0, 15221.0, 15217.0, 15207.0, 15235.0, 15221.0, 15203.0, 15208.0, 15201.0, 15211.0, 15208.0, 15139.0, 15216.0, 15084.0, 15239.0, 15017.0, 15210.0, 15132.0, 15201.0, 15208.0, 15232.0, 15203.0, 15221.0, 15226.0, 15137.0, 15213.0, 15126.0, 15203.0, 15221.0, 15203.0, 15147.0, 15233.0, 15044.0, 15233.0, 15214.0, 15235.0, 15132.0, 15238.0, 15217.0, 15203.0, 15146.0, 15233.0, 15221.0, 15211.0, 15207.0, 15215.0, 15225.0, 15235.0, 15238.0, 15210.0, 15017.0, 15217.0, 15222.0, 15209.0, 15238.0, 15211.0, 15131.0, 15132.0, 15209.0, 15202.0, 15122.0, 15221.0, 15090.0, 15221.0, 15090.0, 15221.0, 15202.0, 15221.0, 15212.0, 15201.0, 15237.0, 15203.0, 15221.0, 15221.0, 15206.0, 15206.0, 15224.0, 15217.0, 15216.0, 15217.0, 15203.0, 15203.0, 15216.0, 15205.0, 15217.0, 15216.0, 15213.0, 15221.0, 15203.0, 15232.0, 15221.0, 15221.0, 15206.0, 15205.0, 15108.0, 15205.0, 15222.0, 15203.0, 15205.0, 15217.0, 15210.0, 15235.0, 15237.0, 15218.0, 15122.0, 15145.0, 15090.0, 15213.0, 15211.0, 15203.0, 15210.0, 15217.0, 15221.0, 15232.0, 15210.0, 15202.0, 15137.0, 15137.0, 15221.0, 15203.0, 15224.0, 15217.0, 15210.0, 15219.0, 15221.0, 15211.0, 15044.0, 15233.0, 15237.0, 15203.0, 15203.0, 15202.0, 15146.0, 15217.0, 15232.0, 15202.0, 15222.0, 15232.0, 15147.0, 15221.0, 15203.0, 15122.0, 15215.0, 15217.0, 15211.0, 15221.0, 15106.0, 15207.0, 15221.0, 15112.0, 15146.0, 15122.0, 15216.0, 15235.0, 15211.0, 15146.0, 15201.0, 15221.0, 15221.0, 15206.0, 15221.0, 15221.0, 15235.0, 15090.0, 15232.0, 15232.0, 15221.0, 15226.0, 15221.0, 15201.0, 15201.0, 15201.0, 15235.0, 15216.0, 15210.0, 15211.0, 15217.0, 15219.0, 15206.0, 15241.0, 15237.0, 15203.0, 15217.0, 15206.0, 15146.0, 15203.0, 15146.0, 15234.0, 15238.0, 15227.0, 15203.0, 15226.0, 15145.0, 15145.0, 15112.0, 15238.0, 15203.0, 15221.0, 15220.0, 15232.0, 15201.0, 15221.0, 15221.0, 15090.0, 15203.0, 15137.0, 15206.0, 15220.0, 15235.0, 15202.0, 15221.0, 15203.0, 15201.0, 15129.0, 15203.0, 15210.0, 15235.0, 15201.0, 15211.0, 15213.0, 15216.0, 15237.0, 15224.0, 15203.0, 15146.0, 15221.0, 15237.0, 15208.0, 15227.0, 15201.0, 15221.0, 15218.0, 15217.0, 15224.0, 15213.0, 15205.0, 15136.0, 15090.0, 15232.0, 15202.0, 15205.0, 15136.0, 15203.0, 15201.0, 15136.0, 15208.0, 15221.0, 15235.0, 15122.0, 15203.0, 15216.0, 15090.0, 15206.0, 15237.0, 15211.0, 15211.0, 15220.0, 15221.0, 15210.0, 15210.0, 15201.0, 15090.0, 15206.0, 15221.0, 15206.0, 15235.0, 15219.0, 15202.0, 15217.0, 15213.0, 15212.0, 15241.0, 15132.0, 15203.0, 15237.0, 15233.0, 15208.0, 15044.0, 15237.0, 15120.0, 15216.0, 15090.0, 15090.0, 15146.0, 15201.0, 15221.0, 15217.0, 15201.0, 15221.0, 15234.0, 15234.0, 15238.0, 15203.0, 15106.0, 15215.0, 15090.0, 15213.0, 15203.0, 15213.0, 15201.0, 15017.0, 15122.0, 15221.0, 15209.0, 15203.0, 15122.0, 15203.0, 15201.0, 15221.0, 15132.0, 15226.0, 15112.0, 15201.0, 15202.0, 15132.0, 15090.0, 15239.0, 15217.0, 15239.0, 15233.0, 15131.0, 15132.0, 15221.0, 15237.0, 15241.0, 15213.0, 15219.0, 15210.0, 15213.0, 15221.0, 15221.0, 15216.0, 15203.0, 15221.0, 15233.0, 15090.0, 15090.0, 15017.0, 15226.0, 15238.0, 15090.0, 15146.0, 15090.0, 15217.0, 15024.0, 15208.0, 15122.0, 15208.0, 15090.0, 15203.0, 15201.0, 15147.0, 15203.0, 15237.0, 15017.0, 15226.0, 15090.0, 15237.0, 15120.0, 15136.0, 15221.0, 15226.0, 15146.0, 15017.0, 15205.0, 15221.0, 15211.0, 15202.0, 15090.0, 15232.0, 15112.0, 15017.0, 15232.0, 15224.0, 15201.0, 15146.0, 15221.0, 15203.0, 15218.0, 15203.0, 15203.0, 15132.0, 15221.0, 15237.0, 15129.0, 15213.0, 15232.0, 15205.0, 15203.0, 15237.0, 15216.0, 15090.0, 15017.0, 15017.0, 15221.0, 15215.0, 15210.0, 15208.0, 15220.0, 15213.0, 15203.0, 15208.0, 15090.0, 15090.0, 15208.0, 15201.0, 15211.0, 15209.0, 15147.0, 15209.0, 15136.0, 15206.0, 15234.0, 15211.0, 15218.0, 15203.0, 15235.0, 15203.0, 15203.0, 15209.0, 15206.0, 15084.0, 15206.0, 15216.0, 15090.0, 15203.0, 15090.0, 15203.0, 15239.0, 15233.0, 15203.0, 15017.0, 15090.0, 15213.0, 15136.0, 15202.0, 15017.0, 15210.0, 15203.0, 15235.0, 15217.0, 15221.0, 15090.0, 15234.0, 15017.0, 15211.0, 15221.0, 15203.0, 15237.0, 15209.0, 15234.0, 15217.0, 15146.0, 15146.0, 15090.0, 15234.0, 15221.0, 15238.0, 15211.0, 15221.0, 15221.0, 15201.0, 15213.0, 15235.0, 15203.0, 15090.0, 15202.0, 15211.0, 15234.0, 15201.0, 15211.0, 15090.0, 15220.0, 15221.0, 15215.0, 15221.0, 15237.0, 15233.0, 15203.0, 15237.0, 15147.0, 15203.0, 15234.0, 15090.0, 15211.0, 15146.0, 15203.0, 15090.0, 15090.0, 15237.0, 15237.0, 15206.0, 15213.0, 15221.0, 15090.0, 15090.0, 15090.0, 15226.0, 15208.0, 15211.0, 15224.0, 15221.0, 15090.0, 15234.0, 15238.0, 15234.0, 15234.0, 15217.0, 15233.0, 15146.0, 15090.0, 15232.0, 15235.0, 15216.0, 15208.0, 15208.0, 15090.0, 15017.0, 15225.0, 15211.0, 15221.0, 15201.0, 15090.0, 15221.0, 15203.0, 15221.0, 15238.0, 15238.0, 15209.0, 15090.0, 15208.0, 15132.0, 15221.0, 15221.0, 15234.0, 15201.0, 15203.0, 15234.0, 15209.0, 15208.0, 15208.0, 15202.0, 15203.0, 15213.0, 15203.0, 15090.0, 15210.0, 15146.0, 15201.0, 15090.0, 15203.0, 15090.0, 15210.0, 15227.0, 15217.0, 15203.0, 15234.0, 15146.0, 15220.0, 15203.0, 15224.0, 15220.0, 15221.0, 15206.0, 15217.0, 15203.0, 15216.0, 15206.0, 15234.0, 15090.0, 15216.0, 15211.0, 15090.0, 15146.0, 15234.0, 15227.0, 15234.0, 15090.0, 15211.0, 15203.0, 15090.0, 15221.0, 15146.0, 15237.0, 15234.0, 15206.0, 15146.0, 15234.0, 15090.0, 15090.0, 15241.0, 15238.0, 15237.0, 15220.0, 15226.0, 15003.0, 15061.0, 15009.0, 15010.0, 15074.0, 15081.0, 15010.0, 15074.0, 15081.0, 15010.0, 15066.0, 15074.0, 15026.0, 15001.0, 15009.0, 15061.0, 15026.0, 15001.0, 15003.0, 15061.0, 15001.0, 15001.0, 15009.0, 15061.0, 15010.0, 15001.0, 15026.0, 15009.0, 15026.0, 15061.0, 15001.0, 15009.0, 15042.0, 15001.0, 15061.0, 15001.0, 15010.0, 15001.0, 15003.0, 15026.0, 15026.0, 15009.0, 15042.0, 15010.0, 15001.0, 15074.0, 15009.0, 15074.0, 15009.0, 15026.0, 15005.0, 15026.0, 15003.0, 15026.0, 15074.0, 15003.0, 15074.0, 15001.0, 15005.0, 15001.0, 15009.0, 15005.0, 15003.0, 15003.0, 15010.0, 15001.0, 15010.0, 15005.0, 16123.0, 15066.0, 15026.0, 15001.0, 15001.0, 15003.0, 15066.0, 15066.0, 15026.0, 15026.0, 15010.0, 15003.0, 15003.0, 15010.0, 15010.0, 15003.0, 15003.0, 16115.0, 15559.0, 17211.0, 15559.0, 15534.0, 15559.0, 15559.0, 15559.0, 19551.0, 19605.0, 19602.0, 19602.0, 19512.0, 19551.0, 19512.0, 19606.0, 19601.0, 19604.0, 19606.0, 19508.0, 19551.0, 19606.0, 19601.0, 19512.0, 19606.0, 19606.0, 19512.0, 19604.0, 19601.0, 19540.0, 19508.0, 19512.0, 19504.0, 19611.0, 19606.0, 19539.0, 19611.0, 19609.0, 19606.0, 19555.0, 19555.0, 19540.0, 19540.0, 19606.0, 19604.0, 19608.0, 19540.0, 19607.0, 19604.0, 19512.0, 19540.0, 19610.0, 19606.0, 19602.0, 19606.0, 19610.0, 19606.0, 19607.0, 19606.0, 19604.0, 19606.0, 19533.0, 19539.0, 19607.0, 19610.0, 19606.0, 19601.0, 19608.0, 19547.0, 19540.0, 19606.0, 19604.0, 19610.0, 19605.0, 19606.0, 19609.0, 19536.0, 19550.0, 19540.0, 19602.0, 19604.0, 19606.0, 19607.0, 19607.0, 19508.0, 19512.0, 19611.0, 19560.0, 19606.0, 19606.0, 19540.0, 19508.0, 19508.0, 19540.0, 19512.0, 19533.0, 19604.0, 19512.0, 19540.0, 19606.0, 19607.0, 19551.0, 19608.0, 19540.0, 19607.0, 19601.0, 19608.0, 19602.0, 19560.0, 19540.0, 19605.0, 19510.0, 19606.0, 19526.0, 19606.0, 19526.0, 19560.0, 19560.0, 19604.0, 19609.0, 19604.0, 19608.0, 19609.0, 19565.0, 19610.0, 19604.0, 19609.0, 19510.0, 19606.0, 19610.0, 19604.0, 19505.0, 19601.0, 19540.0, 19610.0, 19604.0, 19610.0, 19606.0, 19551.0, 19508.0, 19609.0, 19606.0, 19540.0, 19518.0, 19567.0, 19602.0, 19605.0, 19540.0, 19610.0, 19606.0, 19551.0, 19540.0, 19602.0, 19606.0, 19526.0, 19604.0, 19526.0, 19601.0, 19540.0, 19512.0, 19505.0, 19610.0, 19540.0, 19605.0, 19540.0, 19606.0, 19610.0, 19555.0, 19608.0, 19602.0, 19512.0, 19610.0, 19606.0, 19602.0, 19511.0, 19608.0, 19607.0, 19601.0, 19611.0, 19602.0, 19609.0, 19512.0, 19518.0, 19606.0, 19508.0, 19610.0, 19602.0, 19602.0, 19602.0, 19610.0, 19567.0, 19608.0, 19606.0, 19611.0, 19534.0, 19607.0, 19518.0, 19606.0, 19540.0, 19540.0, 19560.0, 19540.0, 19512.0, 19607.0, 19604.0, 19602.0, 19540.0, 19610.0, 19602.0, 19607.0, 19543.0, 19567.0, 19526.0, 19601.0, 19605.0, 19601.0, 19601.0, 19607.0, 19560.0, 19610.0, 19602.0, 19606.0, 19610.0, 19540.0, 19607.0, 19606.0, 19602.0, 19567.0, 19607.0, 19601.0, 19518.0, 19602.0, 19512.0, 19505.0, 19602.0, 19512.0, 19606.0, 19604.0, 19601.0, 19540.0, 19602.0, 19551.0, 19518.0, 19512.0, 19540.0, 19605.0, 19605.0, 19606.0, 19530.0, 19602.0, 19565.0, 19526.0, 19567.0, 19601.0, 19601.0, 19606.0, 19607.0, 19607.0, 19604.0, 19602.0, 19518.0, 19604.0, 19512.0, 19512.0, 19602.0, 19606.0, 19540.0, 19605.0, 19611.0, 19565.0, 19543.0, 19601.0, 19508.0, 19610.0, 19602.0, 19605.0, 19540.0, 19605.0, 19606.0, 19606.0, 19518.0, 19602.0, 19604.0, 19610.0, 19540.0, 19606.0, 19567.0, 19567.0, 19602.0, 19560.0, 19611.0, 19518.0, 19560.0, 19560.0, 19601.0, 19510.0, 19605.0, 19605.0, 19560.0, 19606.0, 19604.0, 19601.0, 19567.0, 19604.0, 19606.0, 19602.0, 19604.0, 19606.0, 19606.0, 19606.0, 19607.0, 19543.0, 19512.0, 19518.0, 19601.0, 19604.0, 19510.0, 19602.0, 19606.0, 19602.0, 19606.0, 19530.0, 19540.0, 19608.0, 19605.0, 19609.0, 19606.0, 19606.0, 19601.0, 19606.0, 19567.0, 19609.0, 19601.0, 19609.0, 19604.0, 19607.0, 19601.0, 19567.0, 19530.0, 19609.0, 19601.0, 19610.0, 19611.0, 19611.0, 19606.0, 19601.0, 19602.0, 19604.0, 19606.0, 19604.0, 19604.0, 19512.0, 19607.0, 19608.0, 19610.0, 19567.0, 19567.0, 19522.0, 19601.0, 18056.0, 19602.0, 19607.0, 19606.0, 19604.0, 19605.0, 19543.0, 19606.0, 19518.0, 19560.0, 19606.0, 19606.0, 19605.0, 19610.0, 19510.0, 19604.0, 19506.0, 19540.0, 19610.0, 19601.0, 19610.0, 19530.0, 19522.0, 19560.0, 19530.0, 19543.0, 19567.0, 19607.0, 19606.0, 19522.0, 19609.0, 19601.0, 19602.0, 19601.0, 19512.0, 19530.0, 19607.0, 19608.0, 19526.0, 19601.0, 19606.0, 19605.0, 19522.0, 19609.0, 19604.0, 19543.0, 19530.0, 19534.0, 19562.0, 19611.0, 19530.0, 19567.0, 19607.0, 19606.0, 19526.0, 19611.0, 19607.0, 19609.0, 19540.0, 19609.0, 19602.0, 19526.0, 19604.0, 19607.0, 19567.0, 19606.0, 19602.0, 19518.0, 19604.0, 19565.0, 19540.0, 19522.0, 19522.0, 19506.0, 19606.0, 19606.0, 19540.0, 19601.0, 19562.0, 19534.0, 19602.0, 19526.0, 19604.0, 19526.0, 19565.0, 19565.0, 19607.0, 19565.0, 19604.0, 19601.0, 19611.0, 19543.0, 19526.0, 19607.0, 19540.0, 19611.0, 19607.0, 19534.0, 19562.0, 19526.0, 19602.0, 19604.0, 19529.0, 19601.0, 19565.0, 19601.0, 19601.0, 19602.0, 19506.0, 19506.0, 16602.0, 16602.0, 16648.0, 16602.0, 16648.0, 16686.0, 16601.0, 16602.0, 16648.0, 16601.0, 16602.0, 16648.0, 16602.0, 16602.0, 16602.0, 16602.0, 16635.0, 17724.0, 18848.0, 18848.0, 18848.0, 18810.0, 16925.0, 16947.0, 17724.0, 18833.0, 18840.0, 18848.0, 18810.0, 18840.0, 18810.0, 18810.0, 18848.0, 18840.0, 18853.0, 18840.0, 18840.0, 18810.0, 18853.0, 18840.0, 18810.0, 18810.0, 18833.0, 18840.0, 18848.0, 18810.0, 18833.0, 18944.0, 19067.0, 18901.0, 19047.0, 19056.0, 18925.0, 18960.0, 18976.0, 19047.0, 18974.0, 18974.0, 19053.0, 18976.0, 18938.0, 19020.0, 18976.0, 18951.0, 18960.0, 18976.0, 19047.0, 19020.0, 18902.0, 18976.0, 19020.0, 18901.0, 18938.0, 18944.0, 19054.0, 18901.0, 19047.0, 18938.0, 18901.0, 18901.0, 18976.0, 18976.0, 19047.0, 18960.0, 18901.0, 19053.0, 18960.0, 18974.0, 18976.0, 19020.0, 18925.0, 18944.0, 19067.0, 19047.0, 18901.0, 18942.0, 18925.0, 18974.0, 19020.0, 18901.0, 19047.0, 19053.0, 18951.0, 18902.0, 19047.0, 18901.0, 19047.0, 19067.0, 18901.0, 18960.0, 19053.0, 19047.0, 19007.0, 18925.0, 19057.0, 19057.0, 18942.0, 18938.0, 19047.0, 19007.0, 18976.0, 18951.0, 18902.0, 19053.0, 18976.0, 19067.0, 18974.0, 18938.0, 18976.0, 18902.0, 18960.0, 19047.0, 18901.0, 18902.0, 18976.0, 19057.0, 18947.0, 18951.0, 18976.0, 18944.0, 19056.0, 18960.0, 18914.0, 18902.0, 18944.0, 19047.0, 18940.0, 19054.0, 18974.0, 18940.0, 18902.0, 18902.0, 19047.0, 18951.0, 18902.0, 18976.0, 18925.0, 19047.0, 19053.0, 19055.0, 18925.0, 19057.0, 18976.0, 18938.0, 19007.0, 18938.0, 19047.0, 18960.0, 19057.0, 18901.0, 18944.0, 18974.0, 18901.0, 18944.0, 18976.0, 18976.0, 18938.0, 18923.0, 18923.0, 18901.0, 18960.0, 18940.0, 18976.0, 19053.0, 19054.0, 18902.0, 19020.0, 18925.0, 18944.0, 19057.0, 19007.0, 19057.0, 18960.0, 18925.0, 18951.0, 19053.0, 19053.0, 18901.0, 19053.0, 18951.0, 18944.0, 19047.0, 18960.0, 19057.0, 18976.0, 18976.0, 19047.0, 19007.0, 19007.0, 18902.0, 18942.0, 18974.0, 18938.0, 19053.0, 19047.0, 18930.0, 18902.0, 18951.0, 19053.0, 19067.0, 19047.0, 18944.0, 18938.0, 19053.0, 18974.0, 18976.0, 18974.0, 18901.0, 19053.0, 18938.0, 18944.0, 18902.0, 18940.0, 18914.0, 18901.0, 18951.0, 18938.0, 19067.0, 19055.0, 19020.0, 18925.0, 18902.0, 19007.0, 18951.0, 18940.0, 18940.0, 18972.0, 18901.0, 19053.0, 18942.0, 18914.0, 19047.0, 18901.0, 18944.0, 18902.0, 18960.0, 18951.0, 18902.0, 18081.0, 19020.0, 18081.0, 18976.0, 18901.0, 18902.0, 18960.0, 18938.0, 18944.0, 18942.0, 18938.0, 18951.0, 18944.0, 19047.0, 18940.0, 18944.0, 18976.0, 18951.0, 18938.0, 18951.0, 18974.0, 18944.0, 18901.0, 18902.0, 18901.0, 19053.0, 18976.0, 19067.0, 19020.0, 18938.0, 19057.0, 19054.0, 18940.0, 18960.0, 18940.0, 18940.0, 18940.0, 19047.0, 19047.0, 18938.0, 18944.0, 18960.0, 19057.0, 18960.0, 19047.0, 18976.0, 19057.0, 18944.0, 18930.0, 18940.0, 18940.0, 18938.0, 18938.0, 18914.0, 19007.0, 19053.0, 18914.0, 18951.0, 18938.0, 18960.0, 18951.0, 18914.0, 18914.0, 18901.0, 18940.0, 18901.0, 19057.0, 18914.0, 18944.0, 18951.0, 18938.0, 18951.0, 18901.0, 18940.0, 18938.0, 19053.0, 18972.0, 18951.0, 18901.0, 18951.0, 18938.0, 19057.0, 18938.0, 18914.0, 18944.0, 18944.0, 19020.0, 18901.0, 18902.0, 18901.0, 18966.0, 19047.0, 18940.0, 19020.0, 18944.0, 19057.0, 18944.0, 18925.0, 18925.0, 18938.0, 18951.0, 18925.0, 18925.0, 18947.0, 18944.0, 18976.0, 18951.0, 18901.0, 18940.0, 18917.0, 19057.0, 18944.0, 18940.0, 19053.0, 18902.0, 18938.0, 18951.0, 19053.0, 18914.0, 18914.0, 18951.0, 19067.0, 18929.0, 18938.0, 18929.0, 18974.0, 18901.0, 18901.0, 18951.0, 18938.0, 18976.0, 19053.0, 18972.0, 18944.0, 18940.0, 18938.0, 18938.0, 18955.0, 19067.0, 18955.0, 18938.0, 18938.0, 19067.0, 19067.0, 18938.0, 18944.0, 18966.0, 18974.0, 19020.0, 19020.0, 19056.0, 19054.0, 18940.0, 18940.0, 19020.0, 18960.0, 18960.0, 18960.0, 18960.0, 18960.0, 18902.0, 18951.0, 19057.0, 18901.0, 18938.0, 18947.0, 18938.0, 18901.0, 18901.0, 18976.0, 18976.0, 18927.0, 18914.0, 18938.0, 19020.0, 18944.0, 18914.0, 18951.0, 18940.0, 18951.0, 18901.0, 18914.0, 18902.0, 19067.0, 18940.0, 19020.0, 18914.0, 18966.0, 18974.0, 19053.0, 18951.0, 18951.0, 18902.0, 18940.0, 18951.0, 18938.0, 18972.0, 18944.0, 18902.0, 19067.0, 18913.0, 19020.0, 19054.0, 19020.0, 18940.0, 18966.0, 18940.0, 18974.0, 18940.0, 18940.0, 18966.0, 19055.0, 18940.0, 18951.0, 18951.0, 18925.0, 18944.0, 18960.0, 19020.0, 18944.0, 18925.0, 18938.0, 19057.0, 18944.0, 19007.0, 18901.0, 18077.0, 18940.0, 18940.0, 18927.0, 18938.0, 19007.0, 19007.0, 19007.0, 18914.0, 18940.0, 18940.0, 18940.0, 19067.0, 18914.0, 19067.0, 18966.0, 19020.0, 18914.0, 19067.0, 18929.0, 18974.0, 18940.0, 18901.0, 18944.0, 19067.0, 19067.0, 19021.0, 19067.0, 18974.0, 19021.0, 19054.0, 19057.0, 18902.0, 18966.0, 19067.0, 18902.0, 18901.0, 19020.0, 18940.0, 18974.0, 18901.0, 18940.0, 18951.0, 18951.0, 18966.0, 18966.0, 18966.0, 19057.0, 18901.0, 19020.0, 18901.0, 18938.0, 18944.0, 18951.0, 18947.0, 18902.0, 18901.0, 19007.0, 18974.0, 18940.0, 19055.0, 18940.0, 19067.0, 19067.0, 18938.0, 19067.0, 19067.0, 19067.0, 19020.0, 19020.0, 19020.0, 19020.0, 19020.0, 18974.0, 18974.0, 18901.0, 19067.0, 18944.0, 19030.0, 18940.0, 19030.0, 19020.0, 19021.0, 19021.0, 19021.0, 18951.0, 19020.0, 18966.0, 19067.0, 19056.0, 19055.0, 19020.0, 18966.0, 18966.0, 18974.0, 19020.0, 19020.0, 19067.0, 18974.0, 18940.0, 19057.0, 18944.0, 18951.0, 18951.0, 18920.0, 18960.0, 18901.0, 18929.0, 18077.0, 18901.0, 18960.0, 18944.0, 19053.0, 18944.0, 19020.0, 18940.0, 18944.0, 18974.0, 19020.0, 19067.0, 19020.0, 19055.0, 19020.0, 19067.0, 18951.0, 18929.0, 18966.0, 18966.0, 18901.0, 19067.0, 18966.0, 18914.0, 18940.0, 18974.0, 18914.0, 18940.0, 19067.0, 19020.0, 19030.0, 19020.0, 19021.0, 19021.0, 18966.0, 19054.0, 18974.0, 18902.0, 18940.0, 18938.0, 18901.0, 18966.0, 18944.0, 19067.0, 18914.0, 19053.0, 19067.0, 18944.0, 18966.0, 19020.0, 18902.0, 19020.0, 18951.0, 19020.0, 18901.0, 19056.0, 18966.0, 18951.0, 18976.0, 18940.0, 18901.0, 18929.0, 18966.0, 18938.0, 18940.0, 18944.0, 18914.0, 18914.0, 18944.0, 19067.0, 19055.0, 18920.0, 18902.0, 18938.0, 18901.0, 18940.0, 18940.0, 18966.0, 19020.0, 18966.0, 18966.0, 18976.0, 18977.0, 19053.0, 18974.0, 18944.0, 18974.0, 19030.0, 18974.0, 18944.0, 18974.0, 18920.0, 19055.0, 18940.0, 18951.0, 19020.0, 18951.0, 19020.0, 18940.0, 18944.0, 19067.0, 19020.0, 18966.0, 18940.0, 19020.0, 18951.0, 18902.0, 18940.0, 19055.0, 18974.0, 19054.0, 18966.0, 18902.0, 18944.0, 18951.0, 18974.0, 19020.0, 19054.0, 19067.0, 18940.0, 19030.0, 18951.0, 18966.0, 19020.0, 18901.0, 18901.0, 18940.0, 18940.0, 19020.0, 19067.0, 18951.0, 18966.0, 19020.0, 18077.0, 19053.0, 18940.0, 18960.0, 19067.0, 19020.0, 19055.0, 19020.0, 19020.0, 18944.0, 18940.0, 18914.0, 18902.0, 19067.0, 18901.0, 19020.0, 19020.0, 18951.0, 18974.0, 18914.0, 18940.0, 18940.0, 18944.0, 18940.0, 18940.0, 18966.0, 18901.0, 19054.0, 19054.0, 19057.0, 18966.0, 18966.0, 19067.0, 18940.0, 18901.0, 18940.0, 19020.0, 18940.0, 18944.0, 19020.0, 18914.0, 18974.0, 18914.0, 18966.0, 19020.0, 19007.0, 18966.0, 18902.0, 19020.0, 18944.0, 19020.0, 18966.0, 19020.0, 19020.0, 18077.0, 18966.0, 18944.0, 19007.0, 18077.0, 19007.0, 19020.0, 18974.0, 18940.0, 18966.0, 19007.0, 19020.0, 18966.0, 19020.0, 18940.0, 18974.0, 19020.0, 19007.0, 19056.0, 18944.0, 19020.0, 19020.0, 18966.0, 18944.0, 19020.0, 18966.0, 19020.0, 18966.0, 18940.0, 18966.0, 19067.0, 19057.0, 18940.0, 18966.0, 16046.0, 16046.0, 16061.0, 16066.0, 16046.0, 16046.0, 16046.0, 16066.0, 16001.0, 16056.0, 16066.0, 16063.0, 16046.0, 16066.0, 16045.0, 16066.0, 16066.0, 16066.0, 16059.0, 16001.0, 16046.0, 16066.0, 16046.0, 16033.0, 16046.0, 16066.0, 16066.0, 16040.0, 16061.0, 16046.0, 16063.0, 16046.0, 16066.0, 16046.0, 16066.0, 16001.0, 16046.0, 16066.0, 16063.0, 16063.0, 16046.0, 16066.0, 16063.0, 16063.0, 15905.0, 15904.0, 15904.0, 15905.0, 15902.0, 15904.0, 15904.0, 15904.0, 15921.0, 15905.0, 15905.0, 15904.0, 15904.0, 15905.0, 15921.0, 15904.0, 15921.0, 15902.0, 15902.0, 15906.0, 15905.0, 15904.0, 15921.0, 15905.0, 15921.0, 15905.0, 15905.0, 15904.0, 15904.0, 16630.0, 15921.0, 15904.0, 15904.0, 15904.0, 15905.0, 15921.0, 15925.0, 15904.0, 15905.0, 15904.0, 15905.0, 15904.0, 15956.0, 18232.0, 18030.0, 18232.0, 18235.0, 18235.0, 18229.0, 18232.0, 18235.0, 18624.0, 18210.0, 18624.0, 18232.0, 18071.0, 18030.0, 18210.0, 18071.0, 18624.0, 18229.0, 18232.0, 18210.0, 18235.0, 18071.0, 18030.0, 18210.0, 18250.0, 18210.0, 18030.0, 18235.0, 18071.0, 18624.0, 18624.0, 18624.0, 18250.0, 18030.0, 18232.0, 18210.0, 18210.0, 18235.0, 18071.0, 18229.0, 18210.0, 18235.0, 18071.0, 18232.0, 18235.0, 18235.0, 18229.0, 18229.0, 18235.0, 18071.0, 18210.0, 18210.0, 18210.0, 18210.0, 18235.0, 18210.0, 18210.0, 18229.0, 18210.0, 18210.0, 18210.0, 18235.0, 18071.0, 18210.0, 18235.0, 18235.0, 18624.0, 18229.0, 18210.0, 18255.0, 18255.0, 18210.0, 18210.0, 18210.0, 18229.0, 18210.0, 18210.0, 18210.0, 18235.0, 18071.0, 18210.0, 18210.0, 18210.0, 18232.0, 18229.0, 18210.0, 18210.0, 18210.0, 18210.0, 18229.0, 18210.0, 18071.0, 18210.0, 18210.0, 18210.0, 18240.0, 18071.0, 18229.0, 18210.0, 18229.0, 18210.0, 18210.0, 16823.0, 16823.0, 16803.0, 16801.0, 16803.0, 16801.0, 16803.0, 16803.0, 16801.0, 16803.0, 16801.0, 16801.0, 16823.0, 16801.0, 16801.0, 16803.0, 16866.0, 16801.0, 16801.0, 16803.0, 16801.0, 16823.0, 16801.0, 16801.0, 16801.0, 16823.0, 16803.0, 16801.0, 16801.0, 16801.0, 16823.0, 16803.0, 16823.0, 16827.0, 16803.0, 16801.0, 16801.0, 16803.0, 16803.0, 16823.0, 16823.0, 16801.0, 16801.0, 16801.0, 16803.0, 16801.0, 16801.0, 16828.0, 16801.0, 16801.0, 16803.0, 16872.0, 16801.0, 16823.0, 16801.0, 16823.0, 16801.0, 16801.0, 16803.0, 16803.0, 16803.0, 16803.0, 16801.0, 16803.0, 16803.0, 16801.0, 16874.0, 16803.0, 16803.0, 16803.0, 16803.0, 16801.0, 16803.0, 16801.0, 16868.0, 16801.0, 16801.0, 16866.0, 16803.0, 16801.0, 16801.0, 16803.0, 16803.0, 16823.0, 16823.0, 16801.0, 16882.0, 16801.0, 16870.0, 16803.0, 16803.0, 16801.0, 16803.0, 16827.0, 16803.0, 16801.0, 16823.0, 16803.0, 16803.0, 16801.0, 16803.0, 16803.0, 16803.0, 16801.0, 16803.0, 16803.0, 16801.0, 16801.0, 16801.0, 16803.0, 16803.0, 16865.0, 16801.0, 16801.0, 16866.0, 16801.0, 16823.0, 16801.0, 16802.0, 16801.0, 16801.0, 16801.0, 16801.0, 16801.0, 16801.0, 16801.0, 16801.0, 16801.0, 16823.0, 16801.0, 16803.0, 16803.0, 16803.0, 16866.0, 16801.0, 16853.0, 16803.0, 16803.0, 16803.0, 16803.0, 16801.0, 16801.0, 19380.0, 19301.0, 19301.0, 19348.0, 19355.0, 19355.0, 19380.0, 19355.0, 19382.0, 19320.0, 19425.0, 19382.0, 19380.0, 19348.0, 19355.0, 19320.0, 19320.0, 19301.0, 19348.0, 19382.0, 19343.0, 19380.0, 19355.0, 19341.0, 19380.0, 19348.0, 19320.0, 19382.0, 19320.0, 19348.0, 19382.0, 19343.0, 19355.0, 19343.0, 19320.0, 19301.0, 19301.0, 19355.0, 19320.0, 19301.0, 19348.0, 19382.0, 19343.0, 19465.0, 19301.0, 19382.0, 19380.0, 19320.0, 19380.0, 19380.0, 19320.0, 19343.0, 19301.0, 19320.0, 19341.0, 19425.0, 19362.0, 19382.0, 19343.0, 19348.0, 19301.0, 19341.0, 19382.0, 19301.0, 19382.0, 19465.0, 19365.0, 19320.0, 19320.0, 19382.0, 19343.0, 19355.0, 19382.0, 19341.0, 19320.0, 19312.0, 19380.0, 19301.0, 19301.0, 19301.0, 19460.0, 19380.0, 19320.0, 19460.0, 19465.0, 19341.0, 19382.0, 19320.0, 19348.0, 19355.0, 19380.0, 19355.0, 19348.0, 19355.0, 19348.0, 19355.0, 19320.0, 19320.0, 19348.0, 19350.0, 19320.0, 19355.0, 19301.0, 19320.0, 19382.0, 19425.0, 19382.0, 19382.0, 19380.0, 19355.0, 19380.0, 19382.0, 19343.0, 19380.0, 19320.0, 19382.0, 19341.0, 19382.0, 19355.0, 19382.0, 19355.0, 19320.0, 19320.0, 19343.0, 19382.0, 19348.0, 19382.0, 19382.0, 19341.0, 19382.0, 19362.0, 19362.0, 19380.0, 19382.0, 19355.0, 19425.0, 19425.0, 19348.0, 19301.0, 19382.0, 19348.0, 19465.0, 19380.0, 19341.0, 19320.0, 19348.0, 19343.0, 19320.0, 19355.0, 19475.0, 19382.0, 19390.0, 19380.0, 19320.0, 19312.0, 19475.0, 19425.0, 19320.0, 19460.0, 19382.0, 19382.0, 19355.0, 19301.0, 19460.0, 19425.0, 19365.0, 19348.0, 19380.0, 19320.0, 19382.0, 19312.0, 19425.0, 19355.0, 19382.0, 19355.0, 19320.0, 19312.0, 19380.0, 19301.0, 19380.0, 19355.0, 19341.0, 19348.0, 19380.0, 19320.0, 19380.0, 19312.0, 19362.0, 19320.0, 19355.0, 19320.0, 19355.0, 19382.0, 19312.0, 19380.0, 19312.0, 19382.0, 19380.0, 19460.0, 19312.0, 19320.0, 19382.0, 19382.0, 19382.0, 19348.0, 19355.0, 19365.0, 19320.0, 19348.0, 19320.0, 19460.0, 19355.0, 19380.0, 19460.0, 19460.0, 19380.0, 19320.0, 19382.0, 19355.0, 19362.0, 19320.0, 19382.0, 19382.0, 19425.0, 19425.0, 19380.0, 19460.0, 19320.0, 19355.0, 19380.0, 19355.0, 19301.0, 19380.0, 19380.0, 19460.0, 19320.0, 19343.0, 19465.0, 19460.0, 19382.0, 19341.0, 19355.0, 19465.0, 19363.0, 19425.0, 19382.0, 19382.0, 19348.0, 19348.0, 19348.0, 19350.0, 19348.0, 19425.0, 19320.0, 19380.0, 19348.0, 19355.0, 19355.0, 19460.0, 19460.0, 19460.0, 19475.0, 19460.0, 19365.0, 19382.0, 19320.0, 19380.0, 19380.0, 19355.0, 19348.0, 19465.0, 19382.0, 19355.0, 19355.0, 19320.0, 19380.0, 19382.0, 19382.0, 19348.0, 19362.0, 19320.0, 19425.0, 19380.0, 19348.0, 19312.0, 19382.0, 19425.0, 19355.0, 19460.0, 19382.0, 19380.0, 19460.0, 19460.0, 19460.0, 19341.0, 19355.0, 19520.0, 19460.0, 19348.0, 19363.0, 19320.0, 19320.0, 19348.0, 19320.0, 19350.0, 19341.0, 19460.0, 19301.0, 19380.0, 19348.0, 19355.0, 19460.0, 19355.0, 19382.0, 19348.0, 19382.0, 19352.0, 19320.0, 19355.0, 19465.0, 19382.0, 19460.0, 19365.0, 19335.0, 19382.0, 19382.0, 19341.0, 19390.0, 19460.0, 19380.0, 19390.0, 19355.0, 19320.0, 19341.0, 19320.0, 19330.0, 19425.0, 19382.0, 19460.0, 19382.0, 19475.0, 19320.0, 19363.0, 19475.0, 19475.0, 19335.0, 19301.0, 19380.0, 19348.0, 19335.0, 19425.0, 19335.0, 19460.0, 19382.0, 19365.0, 19380.0, 19335.0, 19355.0, 19355.0, 19465.0, 19335.0, 19320.0, 19355.0, 19382.0, 19355.0, 19365.0, 19460.0, 19312.0, 19341.0, 19460.0, 19335.0, 19311.0, 19311.0, 19311.0, 19380.0, 19460.0, 19348.0, 19382.0, 19380.0, 19460.0, 19341.0, 19460.0, 19335.0, 19355.0, 19320.0, 19341.0, 19382.0, 19335.0, 19320.0, 19460.0, 19380.0, 19425.0, 19335.0, 19460.0, 19460.0, 19380.0, 19475.0, 19382.0, 19380.0, 19355.0, 19348.0, 19363.0, 19380.0, 19350.0, 19330.0, 19335.0, 19333.0, 19460.0, 19365.0, 19352.0, 19352.0, 19352.0, 19320.0, 19460.0, 19335.0, 19320.0, 19380.0, 19341.0, 19341.0, 19382.0, 19320.0, 19335.0, 19382.0, 19460.0, 19341.0, 19460.0, 19341.0, 19425.0, 19460.0, 19355.0, 19382.0, 19425.0, 19348.0, 19355.0, 19335.0, 19333.0, 19390.0, 19341.0, 19355.0, 19382.0, 19355.0, 19520.0, 19382.0, 19460.0, 19363.0, 19382.0, 19350.0, 19348.0, 19348.0, 19344.0, 19380.0, 19355.0, 19350.0, 19363.0, 19320.0, 19330.0, 19380.0, 19355.0, 19344.0, 19348.0, 19320.0, 19382.0, 19348.0, 19320.0, 19355.0, 19330.0, 19382.0, 19312.0, 19348.0, 19348.0, 19330.0, 19372.0, 19380.0, 19460.0, 19380.0, 19380.0, 19460.0, 19380.0, 19460.0, 19348.0, 19320.0, 19465.0, 19333.0, 19460.0, 19330.0, 19380.0, 19380.0, 19355.0, 19335.0, 19465.0, 19460.0, 19382.0, 19335.0, 19341.0, 19380.0, 19330.0, 19330.0, 19330.0, 19382.0, 19355.0, 19380.0, 19460.0, 19475.0, 19363.0, 19475.0, 19320.0, 19320.0, 19475.0, 19380.0, 19335.0, 19350.0, 19320.0, 19363.0, 19330.0, 19382.0, 19355.0, 19330.0, 19382.0, 19348.0, 19335.0, 19330.0, 19348.0, 19335.0, 19330.0, 19335.0, 19330.0, 19380.0, 19460.0, 19335.0, 19365.0, 19341.0, 19380.0, 19460.0, 19355.0, 19425.0, 19333.0, 19335.0, 19320.0, 19311.0, 19460.0, 19380.0, 19333.0, 19475.0, 19382.0, 19335.0, 19355.0, 19460.0, 19355.0, 19460.0, 19330.0, 19344.0, 19335.0, 19460.0, 19320.0, 19475.0, 19475.0, 19380.0, 19380.0, 19330.0, 19350.0, 19372.0, 19335.0, 19348.0, 19363.0, 19363.0, 19335.0, 19320.0, 19382.0, 19382.0, 19341.0, 19320.0, 19382.0, 19460.0, 19382.0, 19372.0, 19341.0, 19460.0, 19382.0, 19341.0, 19335.0, 19341.0, 19460.0, 19341.0, 19330.0, 19341.0, 19335.0, 19355.0, 19355.0, 19355.0, 19341.0, 19350.0, 19320.0, 19460.0, 19333.0, 19320.0, 19460.0, 19460.0, 19333.0, 19475.0, 19330.0, 19460.0, 19330.0, 19380.0, 19380.0, 19355.0, 19341.0, 19333.0, 19320.0, 19355.0, 19382.0, 19520.0, 19335.0, 19460.0, 19335.0, 19335.0, 19380.0, 19341.0, 19475.0, 19363.0, 19465.0, 19335.0, 19348.0, 19341.0, 19355.0, 19348.0, 19380.0, 19320.0, 19380.0, 19363.0, 19330.0, 19341.0, 19335.0, 19460.0, 19382.0, 19330.0, 19320.0, 19330.0, 19341.0, 19335.0, 19333.0, 19380.0, 19380.0, 19333.0, 19460.0, 19475.0, 19372.0, 19335.0, 19460.0, 19380.0, 19460.0, 19380.0, 19335.0, 19460.0, 19335.0, 19363.0, 19365.0, 19320.0, 19344.0, 19380.0, 19335.0, 19335.0, 19382.0, 19320.0, 19460.0, 19460.0, 19341.0, 19335.0, 19465.0, 19465.0, 19380.0, 19460.0, 19335.0, 19365.0, 19344.0, 19460.0, 19320.0, 19465.0, 19335.0, 19335.0, 19380.0, 19335.0, 19341.0, 19380.0, 19382.0, 19320.0, 19341.0, 19335.0, 19330.0, 19335.0, 19460.0, 19335.0, 19460.0, 19355.0, 19310.0, 19335.0, 19348.0, 19341.0, 19460.0, 19460.0, 19382.0, 19372.0, 19382.0, 19460.0, 19372.0, 19380.0, 19460.0, 19382.0, 19333.0, 19330.0, 19333.0, 19330.0, 19365.0, 19355.0, 19380.0, 19335.0, 19335.0, 19475.0, 19460.0, 19382.0, 19460.0, 19460.0, 19320.0, 19460.0, 19350.0, 19460.0, 19460.0, 19460.0, 19330.0, 19460.0, 19350.0, 19333.0, 19372.0, 19355.0, 19335.0, 19460.0, 19460.0, 19460.0, 19460.0, 19335.0, 19380.0, 19335.0, 19350.0, 19350.0, 19460.0, 19335.0, 19335.0, 19330.0, 19341.0, 19380.0, 19380.0, 19460.0, 19382.0, 19460.0, 19335.0, 19382.0, 19330.0, 19380.0, 19382.0, 19335.0, 19460.0, 19520.0, 19335.0, 19460.0, 19344.0, 19320.0, 19380.0, 19333.0, 19382.0, 19335.0, 19520.0, 19382.0, 19382.0, 19320.0, 19465.0, 19320.0, 19382.0, 19335.0, 19372.0, 19460.0, 19460.0, 19333.0, 19310.0, 19460.0, 19380.0, 19335.0, 19333.0, 19355.0, 19372.0, 19460.0, 19341.0, 19320.0, 19465.0, 19320.0, 19460.0, 19335.0, 19460.0, 19320.0, 19372.0, 19460.0, 19320.0, 19341.0, 19333.0, 19460.0, 19475.0, 19460.0, 19335.0, 19341.0, 19372.0, 19460.0, 19335.0, 19341.0, 19460.0, 19348.0, 19460.0, 19341.0, 19382.0, 19341.0, 19520.0, 19460.0, 19382.0, 19382.0, 19341.0, 19460.0, 19335.0, 19372.0, 19341.0, 19460.0, 19520.0, 19335.0, 19372.0, 19341.0, 19460.0, 19320.0, 19380.0, 19460.0, 19520.0, 19341.0, 19520.0, 19460.0, 19520.0, 19520.0, 19460.0, 19460.0, 19335.0, 19341.0, 19382.0, 19460.0, 19320.0, 19520.0, 19465.0, 19460.0, 19341.0, 19520.0, 19520.0, 19341.0, 19344.0, 19382.0, 19460.0, 19465.0, 19372.0, 19520.0, 19460.0, 19341.0, 19372.0, 19460.0, 19460.0, 19335.0, 19341.0, 19372.0, 19355.0, 19520.0, 19520.0, 19372.0, 19341.0, 19520.0, 19372.0, 19341.0, 19372.0, 16326.0, 16326.0, 16326.0, 16326.0, 16233.0, 16326.0, 16214.0, 16326.0, 16054.0, 16326.0, 16326.0, 16326.0, 16326.0, 16326.0, 16326.0, 16326.0, 16326.0, 16850.0, 15801.0, 15801.0, 15801.0, 17745.0, 17745.0, 17721.0, 17745.0, 17745.0, 17745.0, 17745.0, 17745.0, 17745.0, 17745.0, 17745.0, 17745.0, 17745.0, 17751.0, 17745.0, 17745.0, 17745.0, 17779.0, 17745.0, 17745.0, 17745.0, 17745.0, 17745.0, 17745.0, 17745.0, 17721.0, 17751.0, 17745.0, 17745.0, 17745.0, 17745.0, 17745.0, 17751.0, 17745.0, 17745.0, 17747.0, 17745.0, 17745.0, 17745.0, 17745.0, 17778.0, 17745.0, 17745.0, 17745.0, 17745.0, 17745.0, 17745.0, 17745.0, 17745.0, 17745.0, 17745.0, 17745.0, 17745.0, 17745.0, 17745.0, 17745.0, 17745.0, 17745.0, 17751.0, 17745.0, 17745.0, 17745.0, 17745.0, 17745.0, 17745.0, 17745.0, 17745.0, 17745.0, 17815.0, 17815.0, 17815.0, 17815.0, 17815.0, 17815.0, 17846.0, 17815.0, 18603.0, 17846.0, 18603.0, 17815.0, 17815.0, 17815.0, 17815.0, 17815.0, 17815.0, 16316.0, 16435.0, 16335.0, 16316.0, 16433.0, 16316.0, 16435.0, 16335.0, 16314.0, 17013.0, 17050.0, 17011.0, 17015.0, 17013.0, 17055.0, 17013.0, 17011.0, 17050.0, 17015.0, 17043.0, 17055.0, 17011.0, 17257.0, 17011.0, 17043.0, 17043.0, 17013.0, 17050.0, 17050.0, 17025.0, 17055.0, 17050.0, 17050.0, 17013.0, 17055.0, 17013.0, 17257.0, 17015.0, 17050.0, 17050.0, 17011.0, 17013.0, 17011.0, 17013.0, 17013.0, 17025.0, 17055.0, 17070.0, 17013.0, 17050.0, 17257.0, 17013.0, 17055.0, 17013.0, 17025.0, 17013.0, 17050.0, 17013.0, 17015.0, 17070.0, 17013.0, 17055.0, 17011.0, 17013.0, 17070.0, 17050.0, 17011.0, 17013.0, 17043.0, 17257.0, 17011.0, 17011.0, 17043.0, 17055.0, 17011.0, 17050.0, 17055.0, 17257.0, 17070.0, 17070.0, 17070.0, 17241.0, 17050.0, 17007.0, 17050.0, 17050.0, 17011.0, 17043.0, 17011.0, 17025.0, 17011.0, 17055.0, 17050.0, 17055.0, 17025.0, 17011.0, 17070.0, 17015.0, 17241.0, 17013.0, 17257.0, 17011.0, 17011.0, 17025.0, 17013.0, 17050.0, 17055.0, 17055.0, 17043.0, 17013.0, 17025.0, 17013.0, 17055.0, 17011.0, 17013.0, 17257.0, 17013.0, 17013.0, 17011.0, 17050.0, 17013.0, 17055.0, 17055.0, 17055.0, 17055.0, 17070.0, 17257.0, 17013.0, 17050.0, 17013.0, 17050.0, 17257.0, 17050.0, 17013.0, 17055.0, 17055.0, 17055.0, 17013.0, 17011.0, 17257.0, 17055.0, 17050.0, 17013.0, 17050.0, 17050.0, 17050.0, 17050.0, 17055.0, 17240.0, 17025.0, 17055.0, 17013.0, 17011.0, 17011.0, 17011.0, 17015.0, 17025.0, 17013.0, 17055.0, 17050.0, 17050.0, 17011.0, 17015.0, 17011.0, 17050.0, 17013.0, 17025.0, 17050.0, 17025.0, 17025.0, 17050.0, 17257.0, 17050.0, 17011.0, 17055.0, 17013.0, 17015.0, 17050.0, 17013.0, 17257.0, 17070.0, 17055.0, 17050.0, 17257.0, 17240.0, 17050.0, 17050.0, 17050.0, 17257.0, 17257.0, 17050.0, 17011.0, 17013.0, 17050.0, 17015.0, 17257.0, 17055.0, 17050.0, 17257.0, 17013.0, 17025.0, 17257.0, 17013.0, 17011.0, 17015.0, 17013.0, 17070.0, 17055.0, 17050.0, 17050.0, 17257.0, 17050.0, 17070.0, 17070.0, 17070.0, 17050.0, 17055.0, 17050.0, 17257.0, 17055.0, 17013.0, 17050.0, 17050.0, 17050.0, 17257.0, 17050.0, 17050.0, 17050.0, 17070.0, 17257.0, 17025.0, 17257.0, 17025.0, 17257.0, 17050.0, 17257.0, 17025.0, 17050.0, 17257.0, 17050.0, 17257.0, 17050.0, 17050.0, 17070.0, 17050.0, 17055.0, 17050.0, 17257.0, 17257.0, 17111.0, 17101.0, 17110.0, 17110.0, 17111.0, 17036.0, 17036.0, 17110.0, 17057.0, 17036.0, 17102.0, 17036.0, 17057.0, 17103.0, 17036.0, 17102.0, 17036.0, 17036.0, 17109.0, 17036.0, 17113.0, 17102.0, 17110.0, 17057.0, 17057.0, 17109.0, 17057.0, 17110.0, 17057.0, 17036.0, 17111.0, 17034.0, 17057.0, 17057.0, 17111.0, 17104.0, 17036.0, 17036.0, 17036.0, 17036.0, 17110.0, 17057.0, 17036.0, 17057.0, 17104.0, 17057.0, 17110.0, 17036.0, 17104.0, 17036.0, 17057.0, 17110.0, 17110.0, 17018.0, 17036.0, 17111.0, 17036.0, 17057.0, 17111.0, 17113.0, 17036.0, 17057.0, 17110.0, 17036.0, 17036.0, 17101.0, 17104.0, 17036.0, 17111.0, 17057.0, 17110.0, 17110.0, 17110.0, 17110.0, 17110.0, 17057.0, 17104.0, 17034.0, 17102.0, 17104.0, 17057.0, 17109.0, 17102.0, 17109.0, 17111.0, 17018.0, 17111.0, 17033.0, 17111.0, 17111.0, 17110.0, 17109.0, 17109.0, 17033.0, 17033.0, 17102.0, 17033.0, 17036.0, 17102.0, 17111.0, 17033.0, 17036.0, 17104.0, 17103.0, 17103.0, 17110.0, 17036.0, 17036.0, 17110.0, 17101.0, 17111.0, 17112.0, 17101.0, 17109.0, 17111.0, 17101.0, 17033.0, 17104.0, 17102.0, 17110.0, 17112.0, 17111.0, 17028.0, 17057.0, 17036.0, 17102.0, 17103.0, 17111.0, 17057.0, 17111.0, 17110.0, 17109.0, 17032.0, 17103.0, 17110.0, 17111.0, 17057.0, 17110.0, 17112.0, 17057.0, 17057.0, 17036.0, 17057.0, 17104.0, 17110.0, 17034.0, 17036.0, 17036.0, 17109.0, 17110.0, 17102.0, 17110.0, 17033.0, 17036.0, 17113.0, 17018.0, 17034.0, 17057.0, 17111.0, 17057.0, 17109.0, 17057.0, 17104.0, 17109.0, 17109.0, 17111.0, 17110.0, 17102.0, 17109.0, 17033.0, 17110.0, 17033.0, 17036.0, 17110.0, 17111.0, 17111.0, 17109.0, 17102.0, 17109.0, 17111.0, 17102.0, 17112.0, 17110.0, 17111.0, 17111.0, 17103.0, 17109.0, 17109.0, 17111.0, 17104.0, 17110.0, 17036.0, 17111.0, 17110.0, 17110.0, 17109.0, 17104.0, 17111.0, 17036.0, 17034.0, 17113.0, 17110.0, 17036.0, 17057.0, 17101.0, 17110.0, 17109.0, 17057.0, 17036.0, 17033.0, 17111.0, 17102.0, 17111.0, 17109.0, 17102.0, 17033.0, 17111.0, 17102.0, 17036.0, 17111.0, 17036.0, 17036.0, 17103.0, 17110.0, 17102.0, 17101.0, 17110.0, 17109.0, 17057.0, 17112.0, 17109.0, 17104.0, 17111.0, 17104.0, 17110.0, 17104.0, 17102.0, 17111.0, 17111.0, 17112.0, 17110.0, 17102.0, 17036.0, 17109.0, 17113.0, 17111.0, 17102.0, 17104.0, 17109.0, 17110.0, 17102.0, 17057.0, 17102.0, 17110.0, 17057.0, 17109.0, 17057.0, 17109.0, 17057.0, 17113.0, 17113.0, 17104.0, 17110.0, 17101.0, 17112.0, 17102.0, 17109.0, 17109.0, 17103.0, 17101.0, 17109.0, 17111.0, 17109.0, 17102.0, 17102.0, 17102.0, 17111.0, 17103.0, 17102.0, 17110.0, 17110.0, 17110.0, 17112.0, 17104.0, 17036.0, 17103.0, 17102.0, 17110.0, 17061.0, 17109.0, 17102.0, 17111.0, 17110.0, 17102.0, 17110.0, 17110.0, 17033.0, 17033.0, 17104.0, 17102.0, 17110.0, 17057.0, 17033.0, 17113.0, 17110.0, 17102.0, 17102.0, 17112.0, 17112.0, 17104.0, 17110.0, 17110.0, 17101.0, 17102.0, 17112.0, 17036.0, 17102.0, 17033.0, 17112.0, 17036.0, 17110.0, 17112.0, 17109.0, 17101.0, 17112.0, 17113.0, 17102.0, 17109.0, 17109.0, 17109.0, 17111.0, 17057.0, 17102.0, 17102.0, 17034.0, 17112.0, 17111.0, 17110.0, 17112.0, 17110.0, 17102.0, 17110.0, 17036.0, 17109.0, 17113.0, 17111.0, 17101.0, 17111.0, 17113.0, 17110.0, 17112.0, 17111.0, 17110.0, 17110.0, 17103.0, 17104.0, 17101.0, 17104.0, 17111.0, 17110.0, 17110.0, 17101.0, 17109.0, 17110.0, 17112.0, 17112.0, 17112.0, 17103.0, 17112.0, 17111.0, 17111.0, 17110.0, 17113.0, 17109.0, 17103.0, 17103.0, 17110.0, 17110.0, 17102.0, 17110.0, 17111.0, 17104.0, 17110.0, 17057.0, 17104.0, 17113.0, 17102.0, 17111.0, 17111.0, 17102.0, 17113.0, 17033.0, 17110.0, 17111.0, 17104.0, 17110.0, 17110.0, 17028.0, 17101.0, 17102.0, 17110.0, 17104.0, 17109.0, 17033.0, 17112.0, 17102.0, 17104.0, 17111.0, 17110.0, 17112.0, 17036.0, 17033.0, 17113.0, 17111.0, 17036.0, 17111.0, 17036.0, 17110.0, 17109.0, 17101.0, 17110.0, 17110.0, 17033.0, 17102.0, 17110.0, 17033.0, 17112.0, 17111.0, 17033.0, 17102.0, 17102.0, 17109.0, 17111.0, 17111.0, 17103.0, 17112.0, 17101.0, 17102.0, 17111.0, 17102.0, 17110.0, 17112.0, 17102.0, 17103.0, 17102.0, 17103.0, 17104.0, 17111.0, 17101.0, 17102.0, 17110.0, 17102.0, 17033.0, 17036.0, 17104.0, 17101.0, 17109.0, 17102.0, 17033.0, 17036.0, 17111.0, 17057.0, 17110.0, 17113.0, 17110.0, 17036.0, 17111.0, 17109.0, 17110.0, 17111.0, 17110.0, 17110.0, 17102.0, 17110.0, 17033.0, 17111.0, 17033.0, 17102.0, 17112.0, 17110.0, 17113.0, 17102.0, 17110.0, 17104.0, 17036.0, 17104.0, 17111.0, 17109.0, 17110.0, 17102.0, 17110.0, 17104.0, 17110.0, 17104.0, 17111.0, 17102.0, 17111.0, 17102.0, 17110.0, 17110.0, 17102.0, 17109.0, 17111.0, 17111.0, 17111.0, 17111.0, 17110.0, 17104.0, 17102.0, 17111.0, 17103.0, 17111.0, 17102.0, 17110.0, 17113.0, 17111.0, 17057.0, 17033.0, 17103.0, 17104.0, 17103.0, 17110.0, 17033.0, 17104.0, 17102.0, 17104.0, 17110.0, 17112.0, 17102.0, 17102.0, 17109.0, 17101.0, 17102.0, 17111.0, 17103.0, 17102.0, 17111.0, 17102.0, 17110.0, 17111.0, 17111.0, 17110.0, 17036.0, 17103.0, 17110.0, 17109.0, 17113.0, 17104.0, 17110.0, 17033.0, 17102.0, 17103.0, 17057.0, 19073.0, 19036.0, 19083.0, 19073.0, 19076.0, 19064.0, 19064.0, 19082.0, 19082.0, 19082.0, 19087.0, 19082.0, 19073.0, 19083.0, 19083.0, 19082.0, 19050.0, 19073.0, 19063.0, 19082.0, 19087.0, 19083.0, 19083.0, 19063.0, 19008.0, 19087.0, 19073.0, 19073.0, 19073.0, 19073.0, 19063.0, 19010.0, 19050.0, 19342.0, 19064.0, 19063.0, 19073.0, 19063.0, 19073.0, 19087.0, 19342.0, 19010.0, 19064.0, 19014.0, 19073.0, 19073.0, 19082.0, 19070.0, 19081.0, 19022.0, 19010.0, 19050.0, 19026.0, 19342.0, 19008.0, 19064.0, 19073.0, 19063.0, 19082.0, 19081.0, 19083.0, 19015.0, 19050.0, 19331.0, 19010.0, 19081.0, 19083.0, 19023.0, 19026.0, 19023.0, 19014.0, 19026.0, 19083.0, 19063.0, 19036.0, 19082.0, 19010.0, 19050.0, 19083.0, 19342.0, 19010.0, 19331.0, 19342.0, 19013.0, 19063.0, 19342.0, 19008.0, 19083.0, 19063.0, 19050.0, 19083.0, 19015.0, 19010.0, 19083.0, 19014.0, 19083.0, 19064.0, 19010.0, 19010.0, 19073.0, 19050.0, 19050.0, 19083.0, 19073.0, 19082.0, 19064.0, 19082.0, 19081.0, 19023.0, 19083.0, 19083.0, 19073.0, 19082.0, 19026.0, 19073.0, 19050.0, 19026.0, 19010.0, 19050.0, 19083.0, 19023.0, 19083.0, 19073.0, 19023.0, 19010.0, 19082.0, 19342.0, 19083.0, 19083.0, 19014.0, 19014.0, 19081.0, 19015.0, 19342.0, 19043.0, 19050.0, 19074.0, 19073.0, 19036.0, 19010.0, 19063.0, 19082.0, 19331.0, 19015.0, 19023.0, 19083.0, 19064.0, 19083.0, 19008.0, 19043.0, 19087.0, 19064.0, 19026.0, 19082.0, 19082.0, 19036.0, 19064.0, 19063.0, 19050.0, 19073.0, 19083.0, 19010.0, 19023.0, 19083.0, 19010.0, 19015.0, 19008.0, 19023.0, 19083.0, 19087.0, 19082.0, 19073.0, 19050.0, 19026.0, 19074.0, 19050.0, 19063.0, 19087.0, 19036.0, 19342.0, 19036.0, 19083.0, 19082.0, 19087.0, 19342.0, 19010.0, 19087.0, 19087.0, 19082.0, 19010.0, 19061.0, 19050.0, 19014.0, 19331.0, 19342.0, 19036.0, 19064.0, 19082.0, 19073.0, 19036.0, 19050.0, 19023.0, 19087.0, 19087.0, 19082.0, 19083.0, 19083.0, 19064.0, 19010.0, 19064.0, 19078.0, 19087.0, 19087.0, 19010.0, 19073.0, 19331.0, 19331.0, 19010.0, 19082.0, 19087.0, 19015.0, 19036.0, 19014.0, 19023.0, 19087.0, 19023.0, 19083.0, 19342.0, 19010.0, 19010.0, 19083.0, 19036.0, 19082.0, 19342.0, 19036.0, 19036.0, 19331.0, 19082.0, 19010.0, 19010.0, 19050.0, 19050.0, 19036.0, 19087.0, 19014.0, 19010.0, 19010.0, 19015.0, 19050.0, 19061.0, 19063.0, 19342.0, 19061.0, 19010.0, 19083.0, 19082.0, 19087.0, 19010.0, 19010.0, 19063.0, 19023.0, 19026.0, 19342.0, 19063.0, 19081.0, 19036.0, 19050.0, 19082.0, 19008.0, 19064.0, 19043.0, 19050.0, 19087.0, 19043.0, 19064.0, 19331.0, 19050.0, 19073.0, 19087.0, 19082.0, 19087.0, 19082.0, 19342.0, 19087.0, 19081.0, 19023.0, 19015.0, 19010.0, 19036.0, 19023.0, 19082.0, 19073.0, 19073.0, 19081.0, 19331.0, 19010.0, 19087.0, 19073.0, 19087.0, 19073.0, 19078.0, 19331.0, 19015.0, 19087.0, 19023.0, 19010.0, 19014.0, 19087.0, 19015.0, 19050.0, 19083.0, 19026.0, 19331.0, 19082.0, 19086.0, 19023.0, 19086.0, 19079.0, 19342.0, 19087.0, 19010.0, 19023.0, 19026.0, 19043.0, 19026.0, 19043.0, 19026.0, 19076.0, 19087.0, 19010.0, 19010.0, 19074.0, 19087.0, 19079.0, 19331.0, 19331.0, 19342.0, 19061.0, 19050.0, 19036.0, 19050.0, 19010.0, 19083.0, 19342.0, 19331.0, 19087.0, 19079.0, 19013.0, 19082.0, 19050.0, 19023.0, 19087.0, 19086.0, 19014.0, 19087.0, 19082.0, 19087.0, 19083.0, 19015.0, 19050.0, 19082.0, 19010.0, 19087.0, 19342.0, 19023.0, 19087.0, 19010.0, 19087.0, 19015.0, 19342.0, 19087.0, 19070.0, 19026.0, 19073.0, 19087.0, 19023.0, 19050.0, 19079.0, 19032.0, 19063.0, 19026.0, 19023.0, 19010.0, 19087.0, 19050.0, 19050.0, 19063.0, 19087.0, 19022.0, 19026.0, 19086.0, 19076.0, 19026.0, 19023.0, 19331.0, 19342.0, 19086.0, 19032.0, 19013.0, 19087.0, 19014.0, 19050.0, 19010.0, 19073.0, 19081.0, 19331.0, 19073.0, 19050.0, 19050.0, 19010.0, 19050.0, 19342.0, 19331.0, 19087.0, 19010.0, 19010.0, 19014.0, 19342.0, 19018.0, 19032.0, 19026.0, 19331.0, 19026.0, 19013.0, 19032.0, 19018.0, 19026.0, 19018.0, 19050.0, 19015.0, 19050.0, 19010.0, 19050.0, 19050.0, 19015.0, 19014.0, 19082.0, 19050.0, 19070.0, 19087.0, 19010.0, 19050.0, 19023.0, 19082.0, 19026.0, 19010.0, 19023.0, 19008.0, 19022.0, 19026.0, 19010.0, 19010.0, 19026.0, 19026.0, 19076.0, 19043.0, 19087.0, 19086.0, 19074.0, 19087.0, 19078.0, 19023.0, 19317.0, 19010.0, 19078.0, 19026.0, 19086.0, 19063.0, 19050.0, 19086.0, 19082.0, 19073.0, 19087.0, 19036.0, 19073.0, 19081.0, 19036.0, 19050.0, 19050.0, 19082.0, 19018.0, 19087.0, 19079.0, 19073.0, 19087.0, 19087.0, 19079.0, 19050.0, 19342.0, 19026.0, 19032.0, 19013.0, 19087.0, 19015.0, 19032.0, 19026.0, 19026.0, 19014.0, 19342.0, 19023.0, 19010.0, 19061.0, 19087.0, 19043.0, 19087.0, 19015.0, 19015.0, 19010.0, 19342.0, 19083.0, 19026.0, 19013.0, 19043.0, 19023.0, 19064.0, 19026.0, 19087.0, 19022.0, 19022.0, 19022.0, 19317.0, 19022.0, 19070.0, 19082.0, 19013.0, 19010.0, 19018.0, 19010.0, 19087.0, 19079.0, 19010.0, 19086.0, 19331.0, 19078.0, 19082.0, 19086.0, 19073.0, 19023.0, 19010.0, 19010.0, 19082.0, 19050.0, 19079.0, 19087.0, 19079.0, 19086.0, 19078.0, 19010.0, 19050.0, 19018.0, 19032.0, 19018.0, 19018.0, 19026.0, 19013.0, 19082.0, 19032.0, 19018.0, 19032.0, 19015.0, 19063.0, 19023.0, 19050.0, 19342.0, 19050.0, 19043.0, 19079.0, 19342.0, 19050.0, 19342.0, 19043.0, 19087.0, 19010.0, 19023.0, 19063.0, 19050.0, 19026.0, 19087.0, 19085.0, 19063.0, 19087.0, 19342.0, 19018.0, 19078.0, 19022.0, 19022.0, 19086.0, 19317.0, 19013.0, 19082.0, 19317.0, 19317.0, 19026.0, 19078.0, 19018.0, 19079.0, 19026.0, 19026.0, 19082.0, 19073.0, 19010.0, 19010.0, 19331.0, 19050.0, 19026.0, 19013.0, 19018.0, 19013.0, 19026.0, 19018.0, 19018.0, 19083.0, 19032.0, 19043.0, 19013.0, 19018.0, 19032.0, 19015.0, 19050.0, 19013.0, 19063.0, 19010.0, 19342.0, 19082.0, 19082.0, 19010.0, 19015.0, 19083.0, 19079.0, 19008.0, 19013.0, 19022.0, 19026.0, 19342.0, 19013.0, 19087.0, 19026.0, 19076.0, 19013.0, 19078.0, 19086.0, 19317.0, 19087.0, 19013.0, 19317.0, 19026.0, 19010.0, 19013.0, 19073.0, 19087.0, 19073.0, 19073.0, 19087.0, 19013.0, 19013.0, 19043.0, 19026.0, 19050.0, 19018.0, 19018.0, 19018.0, 19018.0, 19317.0, 19078.0, 19013.0, 19087.0, 19373.0, 19082.0, 19018.0, 19063.0, 19085.0, 19061.0, 19087.0, 19087.0, 19076.0, 19061.0, 19023.0, 19043.0, 19078.0, 19087.0, 19061.0, 19342.0, 19087.0, 19083.0, 19043.0, 19015.0, 19043.0, 19018.0, 19082.0, 19078.0, 19317.0, 19373.0, 19018.0, 19063.0, 19373.0, 19087.0, 19083.0, 19050.0, 19032.0, 19029.0, 19013.0, 19078.0, 19013.0, 19086.0, 19018.0, 19013.0, 19317.0, 19018.0, 19083.0, 19023.0, 19023.0, 19317.0, 19064.0, 19082.0, 19083.0, 19087.0, 19087.0, 19032.0, 19033.0, 19013.0, 19023.0, 19023.0, 19094.0, 19043.0, 19342.0, 19094.0, 19023.0, 19013.0, 19050.0, 19087.0, 19018.0, 19043.0, 19373.0, 19013.0, 19087.0, 19076.0, 19032.0, 19032.0, 19014.0, 19087.0, 19082.0, 19010.0, 19013.0, 19013.0, 19342.0, 19026.0, 19026.0, 19013.0, 19087.0, 19087.0, 19083.0, 19087.0, 19026.0, 19023.0, 19010.0, 19086.0, 19076.0, 19085.0, 19022.0, 19061.0, 19032.0, 19087.0, 19087.0, 19050.0, 19083.0, 19018.0, 19026.0, 19079.0, 19087.0, 19087.0, 19342.0, 19087.0, 19087.0, 19026.0, 19079.0, 19063.0, 19087.0, 19032.0, 19061.0, 19050.0, 19085.0, 19013.0, 19032.0, 19317.0, 19317.0, 19014.0, 19010.0, 19061.0, 19043.0, 19063.0, 19342.0, 19050.0, 19076.0, 19013.0, 19018.0, 19013.0, 19078.0, 19018.0, 19061.0, 19033.0, 19342.0, 19010.0, 19083.0, 19085.0, 19015.0, 19026.0, 19026.0, 19010.0, 19342.0, 19076.0, 19085.0, 19026.0, 19013.0, 19078.0, 19063.0, 19087.0, 19087.0, 19050.0, 19085.0, 19013.0, 19086.0, 19022.0, 19026.0, 19087.0, 19085.0, 19082.0, 19026.0, 19013.0, 19026.0, 19013.0, 19087.0, 19013.0, 19087.0, 19342.0, 19085.0, 19085.0, 19085.0, 19033.0, 19026.0, 19032.0, 19085.0, 19029.0, 19022.0, 19026.0, 19026.0, 19023.0, 19087.0, 19013.0, 19013.0, 19013.0, 19026.0, 19013.0, 19061.0, 19064.0, 19022.0, 19026.0, 19033.0, 19082.0, 19342.0, 19013.0, 19026.0, 19013.0, 19061.0, 19018.0, 19022.0, 19087.0, 19029.0, 19013.0, 19026.0, 19064.0, 19087.0, 19013.0, 19087.0, 19085.0, 19033.0, 19008.0, 19008.0, 19026.0, 19013.0, 19033.0, 19022.0, 19050.0, 19050.0, 19082.0, 19085.0, 19087.0, 19026.0, 19082.0, 19087.0, 19013.0, 19087.0, 19085.0, 19013.0, 19085.0, 19013.0, 19008.0, 19085.0, 19033.0, 19082.0, 19026.0, 19063.0, 19063.0, 19013.0, 19013.0, 19013.0, 19085.0, 19087.0, 19085.0, 19013.0, 19085.0, 19087.0, 19033.0, 16502.0, 16504.0, 16507.0, 16507.0, 16507.0, 16511.0, 16508.0, 16504.0, 16506.0, 16421.0, 16504.0, 16510.0, 16502.0, 16502.0, 16504.0, 16502.0, 16510.0, 16502.0, 16507.0, 16502.0, 16507.0, 16506.0, 16507.0, 16502.0, 16507.0, 16507.0, 16507.0, 16502.0, 16504.0, 16504.0, 16506.0, 16504.0, 16509.0, 16506.0, 16508.0, 16505.0, 16507.0, 16504.0, 16511.0, 16506.0, 16511.0, 16508.0, 16441.0, 16506.0, 16504.0, 16510.0, 16412.0, 16504.0, 16511.0, 16507.0, 16507.0, 16507.0, 16510.0, 16507.0, 16507.0, 16509.0, 16504.0, 16502.0, 16507.0, 16506.0, 16505.0, 16510.0, 16504.0, 16502.0, 16504.0, 16507.0, 16509.0, 16510.0, 16505.0, 16504.0, 16502.0, 16501.0, 16506.0, 16503.0, 16504.0, 16504.0, 16507.0, 16506.0, 16507.0, 16412.0, 16505.0, 16507.0, 16509.0, 16412.0, 16502.0, 16412.0, 16504.0, 16510.0, 16509.0, 16506.0, 16506.0, 16507.0, 16507.0, 16507.0, 16507.0, 16508.0, 16426.0, 16426.0, 16511.0, 16511.0, 16507.0, 16507.0, 16441.0, 16412.0, 16505.0, 16507.0, 16507.0, 16506.0, 16504.0, 16505.0, 16508.0, 16508.0, 16508.0, 16507.0, 16502.0, 16505.0, 16502.0, 16502.0, 16412.0, 16508.0, 16507.0, 16504.0, 16506.0, 16506.0, 16502.0, 16504.0, 16505.0, 16509.0, 16507.0, 16505.0, 16507.0, 16504.0, 16511.0, 16503.0, 16504.0, 16505.0, 16506.0, 16508.0, 16511.0, 16505.0, 16505.0, 16502.0, 16502.0, 16506.0, 16504.0, 16502.0, 16507.0, 16505.0, 16428.0, 16415.0, 16504.0, 16504.0, 16504.0, 16507.0, 16509.0, 16511.0, 16505.0, 16506.0, 16503.0, 16504.0, 16507.0, 16508.0, 16415.0, 16507.0, 16506.0, 16507.0, 16507.0, 16510.0, 16507.0, 16506.0, 16502.0, 16505.0, 16502.0, 16502.0, 15401.0, 15445.0, 15401.0, 15401.0, 15012.0, 15425.0, 15401.0, 15425.0, 15478.0, 15401.0, 15458.0, 15451.0, 15486.0, 15401.0, 15445.0, 15425.0, 15438.0, 15425.0, 15401.0, 15480.0, 15445.0, 15401.0, 15401.0, 15417.0, 15401.0, 15401.0, 15401.0, 15401.0, 15480.0, 17201.0, 17225.0, 17221.0, 17201.0, 17201.0, 17201.0, 17268.0, 17268.0, 17221.0, 17201.0, 17221.0, 17252.0, 17201.0, 17201.0, 17225.0, 17236.0, 17236.0, 17252.0, 17225.0, 17201.0, 17201.0, 17201.0, 17268.0, 17201.0, 17201.0, 17221.0, 17268.0, 17201.0, 17221.0, 17221.0, 17236.0, 17201.0, 17268.0, 17221.0, 17222.0, 17271.0, 17268.0, 17201.0, 17222.0, 17268.0, 17222.0, 17201.0, 17222.0, 17202.0, 17225.0, 17202.0, 17222.0, 17222.0, 17268.0, 17201.0, 17268.0, 17222.0, 17214.0, 17268.0, 17268.0, 17201.0, 17201.0, 17268.0, 17201.0, 17220.0, 17225.0, 17268.0, 17222.0, 17268.0, 17268.0, 17201.0, 17268.0, 17268.0, 17201.0, 17268.0, 17268.0, 17201.0, 17202.0, 17201.0, 17201.0, 17268.0, 17268.0, 17222.0, 17201.0, 17221.0, 17222.0, 17202.0, 17268.0, 17236.0, 17220.0, 17268.0, 17225.0, 17201.0, 17201.0, 17214.0, 17201.0, 17221.0, 17202.0, 17268.0, 17268.0, 17268.0, 17201.0, 17220.0, 17225.0, 17220.0, 17268.0, 17220.0, 17225.0, 17225.0, 17225.0, 17225.0, 17225.0, 17225.0, 17268.0, 17268.0, 17236.0, 17268.0, 17201.0, 17202.0, 17268.0, 17202.0, 17225.0, 17201.0, 17268.0, 17201.0, 17233.0, 17233.0, 15341.0, 15341.0, 15322.0, 15322.0, 17243.0, 17243.0, 17243.0, 17243.0, 15748.0, 15748.0, 15748.0, 15701.0, 15748.0, 15701.0, 15748.0, 15701.0, 15681.0, 15748.0, 15748.0, 15748.0, 15748.0, 15748.0, 15701.0, 15770.0, 15825.0, 17059.0, 18512.0, 18504.0, 18505.0, 18505.0, 18503.0, 18512.0, 18509.0, 18510.0, 18512.0, 18504.0, 18509.0, 18510.0, 18508.0, 18510.0, 18512.0, 18504.0, 18505.0, 18510.0, 18510.0, 18507.0, 18504.0, 18411.0, 18411.0, 18509.0, 18508.0, 18510.0, 18507.0, 18517.0, 18518.0, 18507.0, 18505.0, 18509.0, 18411.0, 18508.0, 18411.0, 18517.0, 18504.0, 18510.0, 18505.0, 18510.0, 18505.0, 18517.0, 18508.0, 18510.0, 18510.0, 18518.0, 18512.0, 18411.0, 18508.0, 18503.0, 18504.0, 18503.0, 18505.0, 18504.0, 18510.0, 18444.0, 18433.0, 18510.0, 18504.0, 18503.0, 18504.0, 18503.0, 18503.0, 18510.0, 18518.0, 18505.0, 18508.0, 18509.0, 18508.0, 18510.0, 18518.0, 18510.0, 18509.0, 18509.0, 18411.0, 18503.0, 18510.0, 18510.0, 18447.0, 18510.0, 18504.0, 18510.0, 18510.0, 18504.0, 18504.0, 18504.0, 18504.0, 18509.0, 18510.0, 18510.0, 18510.0, 18510.0, 18411.0, 18510.0, 18411.0, 18510.0, 18507.0, 18504.0, 18509.0, 18508.0, 18504.0, 18447.0, 18504.0, 18507.0, 18510.0, 18510.0, 18505.0, 18505.0, 18504.0, 18510.0, 18510.0, 18509.0, 18507.0, 18505.0, 18452.0, 18505.0, 18510.0, 18510.0, 18504.0, 18504.0, 18510.0, 18518.0, 18444.0, 18411.0, 18505.0, 18510.0, 18447.0, 18512.0, 18504.0, 18508.0, 18508.0, 18447.0, 18504.0, 18504.0, 18509.0, 18505.0, 18509.0, 18512.0, 18508.0, 18447.0, 18452.0, 18510.0, 18509.0, 18509.0, 18444.0, 18411.0, 18510.0, 18504.0, 18509.0, 18503.0, 18509.0, 18517.0, 18510.0, 18504.0, 18509.0, 18510.0, 18508.0, 18519.0, 18504.0, 18504.0, 18503.0, 18504.0, 18518.0, 18414.0, 18510.0, 18518.0, 18518.0, 18507.0, 18507.0, 18519.0, 18444.0, 18510.0, 18508.0, 18505.0, 18518.0, 18509.0, 18505.0, 18510.0, 18508.0, 18505.0, 18518.0, 18411.0, 18411.0, 18510.0, 18505.0, 18505.0, 18505.0, 18518.0, 18505.0, 18504.0, 18452.0, 18518.0, 18444.0, 18507.0, 18507.0, 18504.0, 18508.0, 18508.0, 18447.0, 18504.0, 18503.0, 18509.0, 18504.0, 18504.0, 18444.0, 18407.0, 18510.0, 18509.0, 18510.0, 18510.0, 18507.0, 18411.0, 18510.0, 18411.0, 18411.0, 18505.0, 18510.0, 18512.0, 18411.0, 18504.0, 18510.0, 18510.0, 18509.0, 18508.0, 18503.0, 18444.0, 18504.0, 18505.0, 18510.0, 18505.0, 18508.0, 18509.0, 18411.0, 18505.0, 18505.0, 18508.0, 18504.0, 18505.0, 18509.0, 18503.0, 18509.0, 18510.0, 18505.0, 18510.0, 18505.0, 18510.0, 18505.0, 18509.0, 18507.0, 18411.0, 18510.0, 18510.0, 18503.0, 18504.0, 18504.0, 18447.0, 18447.0, 17022.0, 17501.0, 17552.0, 17022.0, 17501.0, 17502.0, 17602.0, 17602.0, 17603.0, 17552.0, 17601.0, 17552.0, 17602.0, 17501.0, 17602.0, 17601.0, 17602.0, 17519.0, 17501.0, 17552.0, 17552.0, 17603.0, 17602.0, 17601.0, 17602.0, 17516.0, 17552.0, 17501.0, 17552.0, 17552.0, 17552.0, 17022.0, 17603.0, 17566.0, 17552.0, 17602.0, 17552.0, 17547.0, 17603.0, 17603.0, 17022.0, 17509.0, 17601.0, 17603.0, 17602.0, 17602.0, 17602.0, 17547.0, 17022.0, 17602.0, 17601.0, 17552.0, 17022.0, 17602.0, 17522.0, 17601.0, 17022.0, 17602.0, 17552.0, 17603.0, 17602.0, 17557.0, 17547.0, 17603.0, 17552.0, 17502.0, 17519.0, 17022.0, 17602.0, 17022.0, 17522.0, 17519.0, 17519.0, 17522.0, 17603.0, 17552.0, 17022.0, 17552.0, 17552.0, 17552.0, 17555.0, 17547.0, 17602.0, 17557.0, 17529.0, 17552.0, 17547.0, 17522.0, 17603.0, 17552.0, 17602.0, 17512.0, 17603.0, 17022.0, 17603.0, 17022.0, 17509.0, 17601.0, 17555.0, 17557.0, 17601.0, 17501.0, 17022.0, 17519.0, 17602.0, 17547.0, 17522.0, 17601.0, 17022.0, 17552.0, 17522.0, 17603.0, 17509.0, 17547.0, 17509.0, 17601.0, 17519.0, 17552.0, 17516.0, 17584.0, 17552.0, 17022.0, 17603.0, 17022.0, 17603.0, 17603.0, 17022.0, 17022.0, 17601.0, 17602.0, 17603.0, 17022.0, 17603.0, 17601.0, 17603.0, 17505.0, 17576.0, 17022.0, 17601.0, 17552.0, 17512.0, 17602.0, 17522.0, 17578.0, 17022.0, 17552.0, 17602.0, 17603.0, 17555.0, 17557.0, 17552.0, 17602.0, 17522.0, 17022.0, 17603.0, 17602.0, 17540.0, 17603.0, 17022.0, 17603.0, 17601.0, 17603.0, 17601.0, 17603.0, 17603.0, 17552.0, 17022.0, 17601.0, 17601.0, 17540.0, 17572.0, 17552.0, 17602.0, 17602.0, 17603.0, 17601.0, 17547.0, 17022.0, 17552.0, 17540.0, 17555.0, 17578.0, 17602.0, 17545.0, 17601.0, 17522.0, 17522.0, 17601.0, 17584.0, 17603.0, 17602.0, 17522.0, 17022.0, 17022.0, 17552.0, 17603.0, 17522.0, 17603.0, 17601.0, 17603.0, 17601.0, 17522.0, 17603.0, 17552.0, 17522.0, 17603.0, 17601.0, 17022.0, 17557.0, 17547.0, 17512.0, 17572.0, 17603.0, 17572.0, 17547.0, 17557.0, 17557.0, 17602.0, 17522.0, 17569.0, 17601.0, 17601.0, 17501.0, 17555.0, 17603.0, 17603.0, 17547.0, 17603.0, 17602.0, 17519.0, 17603.0, 17603.0, 17603.0, 17552.0, 17502.0, 17603.0, 17601.0, 17601.0, 17540.0, 17581.0, 17603.0, 17543.0, 17522.0, 17540.0, 17022.0, 17538.0, 17522.0, 17540.0, 17603.0, 17557.0, 17022.0, 17022.0, 17552.0, 17547.0, 17603.0, 17512.0, 17603.0, 17022.0, 17557.0, 17602.0, 17557.0, 17557.0, 17602.0, 17522.0, 17603.0, 17566.0, 17547.0, 17602.0, 17569.0, 17540.0, 17540.0, 17603.0, 17022.0, 17547.0, 17543.0, 17603.0, 17566.0, 17603.0, 17603.0, 17551.0, 17603.0, 17543.0, 17522.0, 17603.0, 17603.0, 17602.0, 17603.0, 17543.0, 17602.0, 17547.0, 17552.0, 17557.0, 17603.0, 17601.0, 17557.0, 17547.0, 17522.0, 17543.0, 17022.0, 17547.0, 17555.0, 17543.0, 17601.0, 17578.0, 17603.0, 17601.0, 17532.0, 17603.0, 17601.0, 17522.0, 17547.0, 17584.0, 17584.0, 17584.0, 17547.0, 17547.0, 17540.0, 17601.0, 17602.0, 17603.0, 17603.0, 17602.0, 17581.0, 17601.0, 17022.0, 17022.0, 17603.0, 17601.0, 17512.0, 17603.0, 17522.0, 17562.0, 17602.0, 17562.0, 17584.0, 17603.0, 17603.0, 17603.0, 17557.0, 17603.0, 17601.0, 17522.0, 17555.0, 17545.0, 17603.0, 17519.0, 17547.0, 17601.0, 17584.0, 17522.0, 17603.0, 17022.0, 17602.0, 17603.0, 17602.0, 17603.0, 17602.0, 17540.0, 17601.0, 17529.0, 17529.0, 17543.0, 17554.0, 17601.0, 17603.0, 17603.0, 17603.0, 17512.0, 17547.0, 17562.0, 17603.0, 17603.0, 17602.0, 17022.0, 17512.0, 17557.0, 17554.0, 17554.0, 17601.0, 17603.0, 17022.0, 17522.0, 17022.0, 17545.0, 17569.0, 17547.0, 17522.0, 17603.0, 17602.0, 17602.0, 17522.0, 17522.0, 17601.0, 17603.0, 17522.0, 17512.0, 17601.0, 17603.0, 17602.0, 17602.0, 17602.0, 17603.0, 17522.0, 17540.0, 17540.0, 17543.0, 17602.0, 17603.0, 17603.0, 17603.0, 17584.0, 17602.0, 17554.0, 17584.0, 17522.0, 17601.0, 17547.0, 17022.0, 17532.0, 17603.0, 17522.0, 17602.0, 17022.0, 17603.0, 17603.0, 17602.0, 17603.0, 17602.0, 17602.0, 17547.0, 17584.0, 17538.0, 17603.0, 17603.0, 17545.0, 17602.0, 17601.0, 17522.0, 17602.0, 17603.0, 17522.0, 17522.0, 17602.0, 17602.0, 17603.0, 17522.0, 17551.0, 17554.0, 17602.0, 17555.0, 17603.0, 17602.0, 17529.0, 17601.0, 17603.0, 17603.0, 17601.0, 17601.0, 17603.0, 17603.0, 17545.0, 17517.0, 17603.0, 17522.0, 17601.0, 17603.0, 17603.0, 17551.0, 17602.0, 17601.0, 17562.0, 17603.0, 17602.0, 17551.0, 17554.0, 17602.0, 17517.0, 17602.0, 17520.0, 17554.0, 17520.0, 17522.0, 17545.0, 17601.0, 17603.0, 17522.0, 17602.0, 17522.0, 17522.0, 17522.0, 17603.0, 17603.0, 17543.0, 17603.0, 17602.0, 17602.0, 17545.0, 17603.0, 17603.0, 17560.0, 17602.0, 17603.0, 17601.0, 17545.0, 17603.0, 17602.0, 17603.0, 17517.0, 17602.0, 17602.0, 17579.0, 17517.0, 17603.0, 17603.0, 17543.0, 17545.0, 17603.0, 17545.0, 17554.0, 17522.0, 17602.0, 17527.0, 17551.0, 17602.0, 17543.0, 17603.0, 17522.0, 17603.0, 17543.0, 17602.0, 17522.0, 17522.0, 17522.0, 17562.0, 17522.0, 17603.0, 17603.0, 17557.0, 17603.0, 17522.0, 17602.0, 17529.0, 17543.0, 17603.0, 17602.0, 17543.0, 17601.0, 17520.0, 17602.0, 17603.0, 17603.0, 17602.0, 17529.0, 17522.0, 17603.0, 17602.0, 17545.0, 17543.0, 17603.0, 17603.0, 17543.0, 17543.0, 17602.0, 17579.0, 17522.0, 17601.0, 17543.0, 17545.0, 17603.0, 17543.0, 17602.0, 17601.0, 17520.0, 17579.0, 17543.0, 17543.0, 17522.0, 17522.0, 17602.0, 17603.0, 17602.0, 17543.0, 17543.0, 17543.0, 17545.0, 17540.0, 17602.0, 17601.0, 17545.0, 17602.0, 17602.0, 17522.0, 17603.0, 17560.0, 17601.0, 17551.0, 17522.0, 17545.0, 17529.0, 17603.0, 17603.0, 17551.0, 17545.0, 17601.0, 17579.0, 17545.0, 17551.0, 17603.0, 17543.0, 17602.0, 17601.0, 17603.0, 17603.0, 17543.0, 17545.0, 17601.0, 17543.0, 17601.0, 17551.0, 17601.0, 17603.0, 17551.0, 17551.0, 17601.0, 17545.0, 17543.0, 17603.0, 17517.0, 17602.0, 17551.0, 17602.0, 17545.0, 17543.0, 17543.0, 17601.0, 17545.0, 17522.0, 17543.0, 17582.0, 17543.0, 17545.0, 16112.0, 16160.0, 16105.0, 16112.0, 16112.0, 16112.0, 16112.0, 16112.0, 16101.0, 16105.0, 16112.0, 16105.0, 16117.0, 16102.0, 17078.0, 17078.0, 17078.0, 17042.0, 17042.0, 17042.0, 17042.0, 17046.0, 17042.0, 17067.0, 17042.0, 17042.0, 17042.0, 17042.0, 17042.0, 17042.0, 17067.0, 17042.0, 17078.0, 17003.0, 17042.0, 17078.0, 17042.0, 17078.0, 17042.0, 17042.0, 17042.0, 17067.0, 17067.0, 17003.0, 17046.0, 17042.0, 17042.0, 17042.0, 17042.0, 17042.0, 17042.0, 17042.0, 17042.0, 17042.0, 17042.0, 17046.0, 17078.0, 17042.0, 17042.0, 17067.0, 17042.0, 17078.0, 17042.0, 17042.0, 17042.0, 17003.0, 17073.0, 17067.0, 17042.0, 17042.0, 17067.0, 17042.0, 17042.0, 17042.0, 17078.0, 17078.0, 17042.0, 17042.0, 17042.0, 17042.0, 17042.0, 17003.0, 17042.0, 17042.0, 17042.0, 17078.0, 17042.0, 17042.0, 17042.0, 17046.0, 17042.0, 17042.0, 17078.0, 17042.0, 17078.0, 17042.0, 17042.0, 17067.0, 17042.0, 17042.0, 17042.0, 17042.0, 17042.0, 17042.0, 17042.0, 17042.0, 17042.0, 17042.0, 17042.0, 17042.0, 17042.0, 17042.0, 17042.0, 17067.0, 17042.0, 17038.0, 17042.0, 17042.0, 17046.0, 17042.0, 17042.0, 17067.0, 17003.0, 17042.0, 17042.0, 17042.0, 17042.0, 17026.0, 17042.0, 17042.0, 17067.0, 17042.0, 17046.0, 17073.0, 17067.0, 17067.0, 17067.0, 17042.0, 17042.0, 17042.0, 17042.0, 17038.0, 17067.0, 17042.0, 17042.0, 17042.0, 17003.0, 17042.0, 17042.0, 17067.0, 17042.0, 17042.0, 17078.0, 17042.0, 17067.0, 17042.0, 17042.0, 17042.0, 17067.0, 17042.0, 17042.0, 17042.0, 17067.0, 17067.0, 17042.0, 17038.0, 17042.0, 17042.0, 17042.0, 17067.0, 17078.0, 17042.0, 17042.0, 17067.0, 17042.0, 17067.0, 17042.0, 17067.0, 17042.0, 18102.0, 18036.0, 18101.0, 18106.0, 18102.0, 18069.0, 18102.0, 18109.0, 18102.0, 18104.0, 18062.0, 18104.0, 18103.0, 18104.0, 18101.0, 18104.0, 18103.0, 18104.0, 18104.0, 18049.0, 18102.0, 18104.0, 18102.0, 18104.0, 18062.0, 18101.0, 18051.0, 18104.0, 18104.0, 18049.0, 18062.0, 18069.0, 18103.0, 18103.0, 18102.0, 18103.0, 18104.0, 18104.0, 18102.0, 18052.0, 18052.0, 18101.0, 18062.0, 18062.0, 18109.0, 18102.0, 18104.0, 18101.0, 18062.0, 18103.0, 18101.0, 18104.0, 18102.0, 18104.0, 18106.0, 18103.0, 18062.0, 18062.0, 18052.0, 18080.0, 18103.0, 18103.0, 18102.0, 18103.0, 18109.0, 18052.0, 18103.0, 18102.0, 18104.0, 18049.0, 18103.0, 18102.0, 18102.0, 18104.0, 18069.0, 18036.0, 18102.0, 18106.0, 18062.0, 18103.0, 18031.0, 18103.0, 18032.0, 18102.0, 18102.0, 18103.0, 18101.0, 18080.0, 18036.0, 18049.0, 18103.0, 18087.0, 18101.0, 18062.0, 18104.0, 18109.0, 18102.0, 18104.0, 18101.0, 18062.0, 18052.0, 18062.0, 18102.0, 18109.0, 18109.0, 18031.0, 18062.0, 18104.0, 18104.0, 18102.0, 18062.0, 18109.0, 18102.0, 18102.0, 18103.0, 18052.0, 18052.0, 18102.0, 18103.0, 18036.0, 18062.0, 18062.0, 18062.0, 18062.0, 18103.0, 18103.0, 18104.0, 18062.0, 18102.0, 18104.0, 18102.0, 18102.0, 18062.0, 18069.0, 18102.0, 18109.0, 18080.0, 18103.0, 18062.0, 18066.0, 18103.0, 18102.0, 18102.0, 18052.0, 18031.0, 18049.0, 18049.0, 18103.0, 18101.0, 18036.0, 18104.0, 18062.0, 18069.0, 18104.0, 18102.0, 18062.0, 18102.0, 18052.0, 18104.0, 18103.0, 18052.0, 18102.0, 18032.0, 18104.0, 18106.0, 18069.0, 18103.0, 18102.0, 18102.0, 18052.0, 18052.0, 18036.0, 18102.0, 18036.0, 18102.0, 18080.0, 18102.0, 18052.0, 18104.0, 18102.0, 18104.0, 18066.0, 18104.0, 18104.0, 18102.0, 18031.0, 18034.0, 18062.0, 18102.0, 18052.0, 18102.0, 18102.0, 18103.0, 18037.0, 18037.0, 18102.0, 18032.0, 18102.0, 18103.0, 18069.0, 18069.0, 18032.0, 18103.0, 18034.0, 18069.0, 18031.0, 18036.0, 18052.0, 18104.0, 18049.0, 18104.0, 18069.0, 18104.0, 18052.0, 18052.0, 18106.0, 18104.0, 18036.0, 18049.0, 18102.0, 18031.0, 18104.0, 18103.0, 18106.0, 18031.0, 18052.0, 18062.0, 18052.0, 18102.0, 18062.0, 18104.0, 18103.0, 18102.0, 18069.0, 18103.0, 18102.0, 18052.0, 18104.0, 18052.0, 18102.0, 18101.0, 18080.0, 18102.0, 18052.0, 18102.0, 18031.0, 18062.0, 18104.0, 18052.0, 18104.0, 18106.0, 18104.0, 18104.0, 18102.0, 18032.0, 18032.0, 18103.0, 18032.0, 18031.0, 18034.0, 18034.0, 18011.0, 18049.0, 18052.0, 18104.0, 18049.0, 18062.0, 18104.0, 18106.0, 18103.0, 18104.0, 18036.0, 18102.0, 18102.0, 18052.0, 18062.0, 18103.0, 18102.0, 18102.0, 18036.0, 18031.0, 18049.0, 18102.0, 18031.0, 18062.0, 18052.0, 18102.0, 18032.0, 18102.0, 18102.0, 18102.0, 18080.0, 18103.0, 18102.0, 18109.0, 18080.0, 18031.0, 18031.0, 18103.0, 18102.0, 18052.0, 18109.0, 18052.0, 18102.0, 18102.0, 18080.0, 18102.0, 18103.0, 18031.0, 18049.0, 18031.0, 18103.0, 18103.0, 18102.0, 18103.0, 18102.0, 18031.0, 18032.0, 18032.0, 18031.0, 18032.0, 18102.0, 18102.0, 18037.0, 18031.0, 18031.0, 18103.0, 18069.0, 18069.0, 18101.0, 18102.0, 18036.0, 18034.0, 18109.0, 18103.0, 18062.0, 18052.0, 18102.0, 18104.0, 18011.0, 18102.0, 18103.0, 18052.0, 18052.0, 18080.0, 18032.0, 18052.0, 18080.0, 18080.0, 18102.0, 18092.0, 18104.0, 18109.0, 18052.0, 18092.0, 18052.0, 18102.0, 18104.0, 18052.0, 18103.0, 18104.0, 18080.0, 18102.0, 18103.0, 18104.0, 18069.0, 18103.0, 18102.0, 18034.0, 18051.0, 18034.0, 18052.0, 18106.0, 18036.0, 18031.0, 18032.0, 18049.0, 18031.0, 18031.0, 18103.0, 18104.0, 18102.0, 18102.0, 18049.0, 18102.0, 18062.0, 18092.0, 18051.0, 18102.0, 18036.0, 18104.0, 18102.0, 18102.0, 18034.0, 18104.0, 18106.0, 18037.0, 18052.0, 18034.0, 18052.0, 18106.0, 18104.0, 18052.0, 18102.0, 18052.0, 18103.0, 18031.0, 18051.0, 18104.0, 18052.0, 18102.0, 18052.0, 18102.0, 18101.0, 18104.0, 18104.0, 18032.0, 18032.0, 18049.0, 18049.0, 18062.0, 18102.0, 18031.0, 18101.0, 18031.0, 18011.0, 18031.0, 18031.0, 18109.0, 18102.0, 18106.0, 18049.0, 18052.0, 18102.0, 18062.0, 18011.0, 18103.0, 18069.0, 18102.0, 18102.0, 18102.0, 18051.0, 18092.0, 18052.0, 18092.0, 18031.0, 18031.0, 18103.0, 18034.0, 18034.0, 18052.0, 18102.0, 18104.0, 18102.0, 18102.0, 18104.0, 18103.0, 18102.0, 18052.0, 18104.0, 18052.0, 18102.0, 18104.0, 18101.0, 18103.0, 18103.0, 18080.0, 18069.0, 18104.0, 18103.0, 18109.0, 18104.0, 18032.0, 18102.0, 18062.0, 18036.0, 18034.0, 18101.0, 18101.0, 18103.0, 18104.0, 18031.0, 18052.0, 18052.0, 18031.0, 18104.0, 18036.0, 18102.0, 18034.0, 18092.0, 18101.0, 18102.0, 18104.0, 18102.0, 18102.0, 18104.0, 18031.0, 18104.0, 18069.0, 18102.0, 18062.0, 18103.0, 18036.0, 18032.0, 18104.0, 18104.0, 18102.0, 18102.0, 18052.0, 18031.0, 18103.0, 18102.0, 18031.0, 18069.0, 18011.0, 18052.0, 18052.0, 18031.0, 18103.0, 18036.0, 18101.0, 18031.0, 18034.0, 18032.0, 18104.0, 18031.0, 18011.0, 18011.0, 18104.0, 18031.0, 18102.0, 18069.0, 18103.0, 18036.0, 18069.0, 18037.0, 18104.0, 18049.0, 18036.0, 18011.0, 18102.0, 18011.0, 18036.0, 18102.0, 18052.0, 18069.0, 18109.0, 18103.0, 18036.0, 18031.0, 18031.0, 18034.0, 18052.0, 18106.0, 18103.0, 18062.0, 18011.0, 18102.0, 18103.0, 18052.0, 18104.0, 18102.0, 18078.0, 18031.0, 18036.0, 18049.0, 18102.0, 18078.0, 18011.0, 18034.0, 18078.0, 18102.0, 18106.0, 18104.0, 18052.0, 18049.0, 18032.0, 18103.0, 18062.0, 18032.0, 18104.0, 18049.0, 18104.0, 18106.0, 18062.0, 18103.0, 18052.0, 18640.0, 18640.0, 18704.0, 18643.0, 18651.0, 18704.0, 18249.0, 18702.0, 18661.0, 18701.0, 18702.0, 18640.0, 18249.0, 18640.0, 18640.0, 18651.0, 18704.0, 18643.0, 18704.0, 18704.0, 18704.0, 18704.0, 18704.0, 18704.0, 18661.0, 18702.0, 18702.0, 18640.0, 18612.0, 18634.0, 18704.0, 18661.0, 18640.0, 18704.0, 18702.0, 18704.0, 18704.0, 18704.0, 18643.0, 18640.0, 18642.0, 18702.0, 18222.0, 18201.0, 18634.0, 18201.0, 18704.0, 18702.0, 18701.0, 18640.0, 18634.0, 18640.0, 18704.0, 18643.0, 18202.0, 18705.0, 18640.0, 18201.0, 18702.0, 18702.0, 18704.0, 18704.0, 18621.0, 18707.0, 18702.0, 18704.0, 18702.0, 18201.0, 18201.0, 18702.0, 18640.0, 18641.0, 18704.0, 18201.0, 18704.0, 18705.0, 18702.0, 18202.0, 18640.0, 18704.0, 18701.0, 18222.0, 18202.0, 18702.0, 18705.0, 18702.0, 18640.0, 18634.0, 18202.0, 18707.0, 18707.0, 18640.0, 18612.0, 18634.0, 18704.0, 18704.0, 18640.0, 18640.0, 18640.0, 18701.0, 18702.0, 18702.0, 18702.0, 18202.0, 18641.0, 18702.0, 18202.0, 18705.0, 18612.0, 18634.0, 18704.0, 18702.0, 18702.0, 18702.0, 18705.0, 18640.0, 18702.0, 18222.0, 18701.0, 18704.0, 18224.0, 18704.0, 18705.0, 18644.0, 18702.0, 18704.0, 18704.0, 18219.0, 18640.0, 18705.0, 18702.0, 18643.0, 18706.0, 18702.0, 18704.0, 18704.0, 18704.0, 18702.0, 18705.0, 18705.0, 18706.0, 18612.0, 18702.0, 18644.0, 18702.0, 18640.0, 18702.0, 18612.0, 18705.0, 18702.0, 18702.0, 18612.0, 18612.0, 18612.0, 18702.0, 18702.0, 18704.0, 18612.0, 18201.0, 18706.0, 18201.0, 18701.0, 18708.0, 18706.0, 18644.0, 18640.0, 18640.0, 18704.0, 18201.0, 18708.0, 18702.0, 18705.0, 18702.0, 18202.0, 17701.0, 17754.0, 17702.0, 17701.0, 17701.0, 17701.0, 17701.0, 17701.0, 17752.0, 17754.0, 17701.0, 17701.0, 17756.0, 17752.0, 17754.0, 17744.0, 17756.0, 17701.0, 17702.0, 17756.0, 17702.0, 17701.0, 17701.0, 17701.0, 17701.0, 17701.0, 17701.0, 17756.0, 17756.0, 17702.0, 17701.0, 17728.0, 17701.0, 17701.0, 17702.0, 17701.0, 17701.0, 17701.0, 17701.0, 17756.0, 17701.0, 17701.0, 17701.0, 17754.0, 17740.0, 17701.0, 17754.0, 17701.0, 17701.0, 17701.0, 17701.0, 17701.0, 17754.0, 17754.0, 17752.0, 17701.0, 17701.0, 17701.0, 17754.0, 17754.0, 17756.0, 17740.0, 17756.0, 17701.0, 17701.0, 17701.0, 17701.0, 17701.0, 17701.0, 17702.0, 17752.0, 17701.0, 17701.0, 17754.0, 17752.0, 17701.0, 17728.0, 17701.0, 17701.0, 17701.0, 17701.0, 17756.0, 17701.0, 17754.0, 17701.0, 17701.0, 17701.0, 17752.0, 17701.0, 17701.0, 17701.0, 17740.0, 17756.0, 17701.0, 17752.0, 17754.0, 17701.0, 17701.0, 17754.0, 17754.0, 17701.0, 17701.0, 17702.0, 17701.0, 17701.0, 17701.0, 17701.0, 17754.0, 17702.0, 17701.0, 17740.0, 17702.0, 17701.0, 17754.0, 17701.0, 17754.0, 17752.0, 17701.0, 17754.0, 17701.0, 17701.0, 17756.0, 17701.0, 17701.0, 17701.0, 17701.0, 17701.0, 17701.0, 17701.0, 17701.0, 17701.0, 17701.0, 17701.0, 17701.0, 17754.0, 17754.0, 17701.0, 17701.0, 17701.0, 17701.0, 17737.0, 17701.0, 17701.0, 17701.0, 17701.0, 17701.0, 17740.0, 17701.0, 17701.0, 17701.0, 17740.0, 17701.0, 17740.0, 17701.0, 17701.0, 17752.0, 17701.0, 17771.0, 17701.0, 17701.0, 17754.0, 17701.0, 16733.0, 16701.0, 16701.0, 16701.0, 16134.0, 16134.0, 16134.0, 16134.0, 16134.0, 16134.0, 16134.0, 16121.0, 16127.0, 16133.0, 16134.0, 16134.0, 16134.0, 16134.0, 16134.0, 16134.0, 16127.0, 16134.0, 16134.0, 16146.0, 16134.0, 16127.0, 16134.0, 16150.0, 16134.0, 16134.0, 16127.0, 16134.0, 16134.0, 16134.0, 16134.0, 16134.0, 16134.0, 16134.0, 16134.0, 16127.0, 17099.0, 17099.0, 17044.0, 17044.0, 17044.0, 17044.0, 17044.0, 17044.0, 17044.0, 17044.0, 17044.0, 17044.0, 17044.0, 17044.0, 17044.0, 17044.0, 17044.0, 17044.0, 17044.0, 17044.0, 17044.0, 17044.0, 17099.0, 17044.0, 17044.0, 18344.0, 18344.0, 18466.0, 18301.0, 18466.0, 18302.0, 18344.0, 18466.0, 18466.0, 18466.0, 18466.0, 18344.0, 18466.0, 18466.0, 18344.0, 18322.0, 18466.0, 18333.0, 18466.0, 18301.0, 18302.0, 18344.0, 18466.0, 18344.0, 18360.0, 18301.0, 18301.0, 18466.0, 18301.0, 18466.0, 18353.0, 18466.0, 18302.0, 18302.0, 18466.0, 18301.0, 18360.0, 18360.0, 18466.0, 18333.0, 18466.0, 18301.0, 18466.0, 18302.0, 18344.0, 18344.0, 18360.0, 18301.0, 18301.0, 18360.0, 18302.0, 18302.0, 18301.0, 18301.0, 18302.0, 18466.0, 18302.0, 18344.0, 18466.0, 18301.0, 18344.0, 18322.0, 18344.0, 18466.0, 18360.0, 18360.0, 18344.0, 18301.0, 18301.0, 18360.0, 18058.0, 18301.0, 18466.0, 18466.0, 18302.0, 18330.0, 18301.0, 18326.0, 18466.0, 18353.0, 18466.0, 18466.0, 18360.0, 18466.0, 18333.0, 18466.0, 18354.0, 18355.0, 18301.0, 18330.0, 18301.0, 18301.0, 18466.0, 18344.0, 18360.0, 18330.0, 18360.0, 18301.0, 18466.0, 18353.0, 18347.0, 18301.0, 18301.0, 18466.0, 18353.0, 18344.0, 18356.0, 18344.0, 18330.0, 18466.0, 18334.0, 18302.0, 18466.0, 18330.0, 18360.0, 18330.0, 18466.0, 18466.0, 18301.0, 18370.0, 18360.0, 18301.0, 18331.0, 18466.0, 18360.0, 18334.0, 18058.0, 18302.0, 18330.0, 18360.0, 18466.0, 18344.0, 18330.0, 18344.0, 18466.0, 18466.0, 18360.0, 18353.0, 18347.0, 18360.0, 18353.0, 18301.0, 18301.0, 18360.0, 18301.0, 18466.0, 18466.0, 18466.0, 18466.0, 18301.0, 18331.0, 18347.0, 18347.0, 18333.0, 18466.0, 18058.0, 18466.0, 18334.0, 18301.0, 18334.0, 18466.0, 18466.0, 18466.0, 18301.0, 18302.0, 18301.0, 18370.0, 18466.0, 18356.0, 18360.0, 18347.0, 18360.0, 18302.0, 18301.0, 18302.0, 18347.0, 18353.0, 18353.0, 18466.0, 18302.0, 18466.0, 18360.0, 18360.0, 18334.0, 18360.0, 18330.0, 18302.0, 18360.0, 18302.0, 18466.0, 18360.0, 18302.0, 18302.0, 18302.0, 18301.0, 18353.0, 18327.0, 18347.0, 18347.0, 18301.0, 18347.0, 18326.0, 18301.0, 18301.0, 18334.0, 18360.0, 18331.0, 18466.0, 18466.0, 18301.0, 18331.0, 18360.0, 18360.0, 18346.0, 18466.0, 18466.0, 18466.0, 18372.0, 18360.0, 18301.0, 18347.0, 18302.0, 18360.0, 18301.0, 18331.0, 18353.0, 18334.0, 18334.0, 18302.0, 18330.0, 18466.0, 18323.0, 18466.0, 18302.0, 18301.0, 18353.0, 18353.0, 18302.0, 18301.0, 18302.0, 18360.0, 18301.0, 18327.0, 18331.0, 18326.0, 18331.0, 18301.0, 18302.0, 18466.0, 18360.0, 18301.0, 18058.0, 18302.0, 18360.0, 18302.0, 18302.0, 18466.0, 18302.0, 18302.0, 18302.0, 18360.0, 18302.0, 18334.0, 18331.0, 18301.0, 18466.0, 18301.0, 18466.0, 18466.0, 18301.0, 18058.0, 18302.0, 18301.0, 18302.0, 18332.0, 18301.0, 18360.0, 18327.0, 18347.0, 18302.0, 18466.0, 18466.0, 18466.0, 18466.0, 18302.0, 18323.0, 18360.0, 18301.0, 18466.0, 18360.0, 18360.0, 18302.0, 18302.0, 18372.0, 18332.0, 18466.0, 18360.0, 18360.0, 18347.0, 18346.0, 18331.0, 18331.0, 18353.0, 18360.0, 18360.0, 18466.0, 18326.0, 18302.0, 18466.0, 18466.0, 18372.0, 18466.0, 18302.0, 18360.0, 18301.0, 18360.0, 18360.0, 18301.0, 18302.0, 18466.0, 18360.0, 18466.0, 18301.0, 18326.0, 18360.0, 18360.0, 18301.0, 18302.0, 18301.0, 18058.0, 18372.0, 18301.0, 18372.0, 18302.0, 18466.0, 18360.0, 18301.0, 18335.0, 18466.0, 18347.0, 18302.0, 18466.0, 18466.0, 18355.0, 18301.0, 18321.0, 18302.0, 18302.0, 18332.0, 18610.0, 18325.0, 18346.0, 18360.0, 18301.0, 18301.0, 18466.0, 18610.0, 18326.0, 18302.0, 18360.0, 18466.0, 18466.0, 18360.0, 18058.0, 18360.0, 18301.0, 18360.0, 18332.0, 18302.0, 18466.0, 18466.0, 18301.0, 18360.0, 18360.0, 18466.0, 18301.0, 18301.0, 18302.0, 18301.0, 18466.0, 18347.0, 18360.0, 18326.0, 18301.0, 18360.0, 18466.0, 18360.0, 18466.0, 18332.0, 18466.0, 18360.0, 18466.0, 18610.0, 18302.0, 18346.0, 18346.0, 18301.0, 18332.0, 18372.0, 18302.0, 18360.0, 18372.0, 18325.0, 18466.0, 18360.0, 18466.0, 18360.0, 18466.0, 18301.0, 18360.0, 18302.0, 18301.0, 18302.0, 18350.0, 18302.0, 18466.0, 18301.0, 18372.0, 18350.0, 18325.0, 18302.0, 18466.0, 18346.0, 18466.0, 18301.0, 18372.0, 18610.0, 18302.0, 18360.0, 18372.0, 18466.0, 18302.0, 18347.0, 18350.0, 18301.0, 18360.0, 18301.0, 18360.0, 18301.0, 18301.0, 18350.0, 18301.0, 18350.0, 18466.0, 18346.0, 18360.0, 18360.0, 18466.0, 18466.0, 18301.0, 18350.0, 18346.0, 18360.0, 18302.0, 18360.0, 18466.0, 18466.0, 18302.0, 18301.0, 18346.0, 18301.0, 18466.0, 18466.0, 18301.0, 18350.0, 18302.0, 18360.0, 18301.0, 18350.0, 18301.0, 18350.0, 18301.0, 19454.0, 19044.0, 19044.0, 19446.0, 19040.0, 19002.0, 19002.0, 19438.0, 19428.0, 19040.0, 19405.0, 19468.0, 19464.0, 19454.0, 19468.0, 19403.0, 19464.0, 19468.0, 19454.0, 19428.0, 19454.0, 19454.0, 19090.0, 19454.0, 19438.0, 19002.0, 19438.0, 19438.0, 19002.0, 19401.0, 19438.0, 19454.0, 19002.0, 19044.0, 19002.0, 19004.0, 19072.0, 19438.0, 19422.0, 19002.0, 19464.0, 19401.0, 19406.0, 19401.0, 19072.0, 19401.0, 19454.0, 19438.0, 19454.0, 19401.0, 19406.0, 19002.0, 19438.0, 19401.0, 19454.0, 19454.0, 19031.0, 19004.0, 19072.0, 19006.0, 19464.0, 19031.0, 19401.0, 19038.0, 19454.0, 19004.0, 19438.0, 19041.0, 19401.0, 19004.0, 19403.0, 19001.0, 19492.0, 19454.0, 19031.0, 19468.0, 19401.0, 19438.0, 19438.0, 19446.0, 19002.0, 19040.0, 19044.0, 19072.0, 19004.0, 19401.0, 19468.0, 19454.0, 19428.0, 19072.0, 19464.0, 19464.0, 19403.0, 19464.0, 19004.0, 19468.0, 19446.0, 19401.0, 19464.0, 19027.0, 19401.0, 19403.0, 19428.0, 19428.0, 19072.0, 19403.0, 19044.0, 19403.0, 19464.0, 19454.0, 19401.0, 19090.0, 19464.0, 19428.0, 19002.0, 19006.0, 19038.0, 19006.0, 19464.0, 19401.0, 19002.0, 19468.0, 19403.0, 19031.0, 19001.0, 19428.0, 19468.0, 19454.0, 19002.0, 18076.0, 19464.0, 19468.0, 19401.0, 19401.0, 19468.0, 19002.0, 19428.0, 19468.0, 19004.0, 19464.0, 19428.0, 19002.0, 19403.0, 18964.0, 19464.0, 19438.0, 19040.0, 19403.0, 19002.0, 19464.0, 19428.0, 19401.0, 19004.0, 19446.0, 19438.0, 19001.0, 19422.0, 19006.0, 19403.0, 19426.0, 19422.0, 19428.0, 19401.0, 19038.0, 19454.0, 19038.0, 19072.0, 19464.0, 19090.0, 19004.0, 19401.0, 19002.0, 19422.0, 19004.0, 19464.0, 19464.0, 19446.0, 19428.0, 19428.0, 19428.0, 19003.0, 19426.0, 19428.0, 19426.0, 19401.0, 19446.0, 19446.0, 19002.0, 19031.0, 19468.0, 18074.0, 19454.0, 19401.0, 19525.0, 19428.0, 19454.0, 19403.0, 19044.0, 19401.0, 19044.0, 19428.0, 19464.0, 19454.0, 19426.0, 19446.0, 19428.0, 19044.0, 19422.0, 19454.0, 19401.0, 19403.0, 19464.0, 19401.0, 19446.0, 19035.0, 19038.0, 19004.0, 19428.0, 19454.0, 19492.0, 19454.0, 19403.0, 19464.0, 19401.0, 19038.0, 19428.0, 19090.0, 18074.0, 19464.0, 19041.0, 19403.0, 19001.0, 19438.0, 19428.0, 19426.0, 19401.0, 19002.0, 19464.0, 19002.0, 19446.0, 19464.0, 19464.0, 19468.0, 19403.0, 19468.0, 19031.0, 19004.0, 19422.0, 19401.0, 19464.0, 19464.0, 18054.0, 19464.0, 19464.0, 19403.0, 19405.0, 19072.0, 19401.0, 19464.0, 19002.0, 18076.0, 19464.0, 19525.0, 19035.0, 19038.0, 19006.0, 19006.0, 19004.0, 19464.0, 19401.0, 19464.0, 19468.0, 19090.0, 19446.0, 19468.0, 19464.0, 19006.0, 19403.0, 19428.0, 19038.0, 19454.0, 19072.0, 19426.0, 19403.0, 19464.0, 19464.0, 19401.0, 19004.0, 19004.0, 19428.0, 18958.0, 19090.0, 19038.0, 19090.0, 19038.0, 19031.0, 19468.0, 19002.0, 19454.0, 19468.0, 19401.0, 19468.0, 19453.0, 19454.0, 19454.0, 19401.0, 19001.0, 19454.0, 19401.0, 19401.0, 19454.0, 19468.0, 19462.0, 19003.0, 19464.0, 19454.0, 19428.0, 19428.0, 19405.0, 19040.0, 19405.0, 19440.0, 19403.0, 19003.0, 19428.0, 19401.0, 19428.0, 19403.0, 19403.0, 19428.0, 19422.0, 19446.0, 19422.0, 19464.0, 19454.0, 19403.0, 19422.0, 19428.0, 19401.0, 19428.0, 19401.0, 19035.0, 19428.0, 19403.0, 19428.0, 19428.0, 19401.0, 19428.0, 19422.0, 19035.0, 19034.0, 19006.0, 19401.0, 19454.0, 19428.0, 19428.0, 19002.0, 18041.0, 19454.0, 19464.0, 19044.0, 19422.0, 19406.0, 19426.0, 19406.0, 19403.0, 19044.0, 19044.0, 19422.0, 19072.0, 19072.0, 19403.0, 19041.0, 19454.0, 19401.0, 19464.0, 19422.0, 19464.0, 19464.0, 19454.0, 19403.0, 19090.0, 19072.0, 19454.0, 19401.0, 19464.0, 19401.0, 19401.0, 19090.0, 19403.0, 19401.0, 19428.0, 19446.0, 18074.0, 19072.0, 19468.0, 19428.0, 19454.0, 19002.0, 19002.0, 19438.0, 19438.0, 19090.0, 19464.0, 19468.0, 19002.0, 19403.0, 19001.0, 19406.0, 19464.0, 19031.0, 18041.0, 19002.0, 19468.0, 19438.0, 18041.0, 19401.0, 19438.0, 19438.0, 19464.0, 19003.0, 19403.0, 19004.0, 19401.0, 19468.0, 19004.0, 19468.0, 19468.0, 19004.0, 19468.0, 19428.0, 19446.0, 19428.0, 19464.0, 19428.0, 19525.0, 19422.0, 19006.0, 19426.0, 19006.0, 19004.0, 19006.0, 19006.0, 19428.0, 19464.0, 19090.0, 19004.0, 19027.0, 19446.0, 19428.0, 19090.0, 19403.0, 19403.0, 19422.0, 19403.0, 19401.0, 19403.0, 19403.0, 19428.0, 19401.0, 19031.0, 19006.0, 19428.0, 19006.0, 19406.0, 19438.0, 18958.0, 19406.0, 18958.0, 19401.0, 19468.0, 19401.0, 19468.0, 19428.0, 19454.0, 19403.0, 19401.0, 19401.0, 19464.0, 19462.0, 19406.0, 19003.0, 19403.0, 19401.0, 19428.0, 19040.0, 19406.0, 19464.0, 19401.0, 19403.0, 19040.0, 19446.0, 19446.0, 19040.0, 19403.0, 19426.0, 19405.0, 19003.0, 19003.0, 19422.0, 19525.0, 19072.0, 19473.0, 19446.0, 19525.0, 19428.0, 19401.0, 19428.0, 19428.0, 19003.0, 19464.0, 19446.0, 19440.0, 19003.0, 19446.0, 19403.0, 19406.0, 19003.0, 19003.0, 19035.0, 19426.0, 19035.0, 19035.0, 19003.0, 19426.0, 19446.0, 19446.0, 19034.0, 19002.0, 19468.0, 19464.0, 19464.0, 19464.0, 19422.0, 19002.0, 19438.0, 19406.0, 19464.0, 19044.0, 19426.0, 19464.0, 19464.0, 19464.0, 19072.0, 19464.0, 19403.0, 19422.0, 19044.0, 19422.0, 19464.0, 19041.0, 19041.0, 19473.0, 19072.0, 19473.0, 19468.0, 19446.0, 19004.0, 19006.0, 19464.0, 19401.0, 19403.0, 19090.0, 19090.0, 19401.0, 19454.0, 19464.0, 19038.0, 19428.0, 19464.0, 19454.0, 19002.0, 19464.0, 19464.0, 19468.0, 19002.0, 19002.0, 19403.0, 19038.0, 19002.0, 19401.0, 19401.0, 19406.0, 19454.0, 19464.0, 19002.0, 19038.0, 19464.0, 19403.0, 19002.0, 18041.0, 19403.0, 19428.0, 19002.0, 19401.0, 19401.0, 19468.0, 19468.0, 19454.0, 19468.0, 19468.0, 19468.0, 19004.0, 19004.0, 19002.0, 18076.0, 19403.0, 19004.0, 19406.0, 19002.0, 19002.0, 19406.0, 19406.0, 19428.0, 19027.0, 19446.0, 19027.0, 19468.0, 19428.0, 19446.0, 19426.0, 19403.0, 19468.0, 19446.0, 19422.0, 19403.0, 19403.0, 19401.0, 19464.0, 19428.0, 19027.0, 19403.0, 19403.0, 19027.0, 19038.0, 19428.0, 19004.0, 19446.0, 19006.0, 19403.0, 19406.0, 18969.0, 19034.0, 19401.0, 19038.0, 19428.0, 19454.0, 19406.0, 18958.0, 19040.0, 19002.0, 19428.0, 19464.0, 19464.0, 19401.0, 19406.0, 18964.0, 18964.0, 19003.0, 19405.0, 18964.0, 19406.0, 19003.0, 19444.0, 19406.0, 19444.0, 19428.0, 19003.0, 19446.0, 19405.0, 19446.0, 19454.0, 19440.0, 19401.0, 19403.0, 19403.0, 19422.0, 19006.0, 19428.0, 19422.0, 19406.0, 19422.0, 19403.0, 19406.0, 19428.0, 19446.0, 19046.0, 19446.0, 19090.0, 19446.0, 19446.0, 19003.0, 19034.0, 19034.0, 19464.0, 19464.0, 19004.0, 19004.0, 19446.0, 19453.0, 19446.0, 19446.0, 19453.0, 19453.0, 19041.0, 19454.0, 19422.0, 19041.0, 19454.0, 19422.0, 19044.0, 19454.0, 19454.0, 19422.0, 19454.0, 19473.0, 19401.0, 19464.0, 19002.0, 19403.0, 19401.0, 19525.0, 19464.0, 19426.0, 19401.0, 19004.0, 19401.0, 19090.0, 19401.0, 19428.0, 19027.0, 19401.0, 19090.0, 19090.0, 19468.0, 18074.0, 19403.0, 19406.0, 19004.0, 19428.0, 19454.0, 19468.0, 19426.0, 19004.0, 19446.0, 19075.0, 19004.0, 19004.0, 18958.0, 18041.0, 19464.0, 18936.0, 19002.0, 19454.0, 19468.0, 19464.0, 19401.0, 19454.0, 19002.0, 18041.0, 19438.0, 19401.0, 19002.0, 19002.0, 19406.0, 19464.0, 19401.0, 19066.0, 19004.0, 19403.0, 19002.0, 19446.0, 19401.0, 19525.0, 19446.0, 19004.0, 19422.0, 19004.0, 19038.0, 19468.0, 19403.0, 19428.0, 19426.0, 19406.0, 19403.0, 19038.0, 19428.0, 19464.0, 19428.0, 19401.0, 19038.0, 19038.0, 19401.0, 19446.0, 19027.0, 19406.0, 19401.0, 19004.0, 19403.0, 19090.0, 19035.0, 19035.0, 19406.0, 19403.0, 19075.0, 19004.0, 19406.0, 19464.0, 19428.0, 19040.0, 19464.0, 19406.0, 19464.0, 19403.0, 19428.0, 19464.0, 19405.0, 19403.0, 19426.0, 19444.0, 19426.0, 19406.0, 19426.0, 19095.0, 19473.0, 19440.0, 19405.0, 19401.0, 19095.0, 19401.0, 19428.0, 19428.0, 19006.0, 19446.0, 19444.0, 18073.0, 19428.0, 19038.0, 19446.0, 19406.0, 19406.0, 19406.0, 19406.0, 19426.0, 19006.0, 19038.0, 19428.0, 18958.0, 19006.0, 19401.0, 19034.0, 19003.0, 19096.0, 19426.0, 19454.0, 19044.0, 19464.0, 19446.0, 18969.0, 19038.0, 19406.0, 19075.0, 19044.0, 19453.0, 19426.0, 19422.0, 19044.0, 19406.0, 19406.0, 19464.0, 19468.0, 19403.0, 19403.0, 19468.0, 19464.0, 19044.0, 19426.0, 19468.0, 19041.0, 19473.0, 18076.0, 19095.0, 19446.0, 19405.0, 19446.0, 19403.0, 19440.0, 19444.0, 19428.0, 19454.0, 19464.0, 19426.0, 19403.0, 19446.0, 18073.0, 19446.0, 19428.0, 19468.0, 19401.0, 19090.0, 19090.0, 19090.0, 19454.0, 19446.0, 19406.0, 19027.0, 19003.0, 19006.0, 19468.0, 18958.0, 19046.0, 19038.0, 19403.0, 19034.0, 19038.0, 18969.0, 18969.0, 19035.0, 19075.0, 19001.0, 19454.0, 19468.0, 19401.0, 19438.0, 19468.0, 19468.0, 19406.0, 19428.0, 18964.0, 18964.0, 19438.0, 19446.0, 19444.0, 19003.0, 19066.0, 19401.0, 19401.0, 19002.0, 19006.0, 19406.0, 19003.0, 19095.0, 19401.0, 19446.0, 19406.0, 19444.0, 19003.0, 19525.0, 19003.0, 19422.0, 19006.0, 19468.0, 19004.0, 19428.0, 19006.0, 19006.0, 19406.0, 19027.0, 19038.0, 19406.0, 19440.0, 19428.0, 19027.0, 19040.0, 19403.0, 19403.0, 19426.0, 19003.0, 19090.0, 19403.0, 19038.0, 19403.0, 19096.0, 19096.0, 19006.0, 19096.0, 19044.0, 19044.0, 19038.0, 19462.0, 19446.0, 19035.0, 19406.0, 19428.0, 19426.0, 19462.0, 19040.0, 19403.0, 19403.0, 19403.0, 19422.0, 19406.0, 19464.0, 19454.0, 19426.0, 19422.0, 19044.0, 19446.0, 19002.0, 19426.0, 19428.0, 19422.0, 19426.0, 19403.0, 19440.0, 19095.0, 19422.0, 19446.0, 19426.0, 19401.0, 19025.0, 19038.0, 19401.0, 19025.0, 19012.0, 19406.0, 19006.0, 19453.0, 19403.0, 19046.0, 19446.0, 19046.0, 19464.0, 19046.0, 19446.0, 19406.0, 19422.0, 19403.0, 18969.0, 19401.0, 19004.0, 18958.0, 19044.0, 19446.0, 19406.0, 19428.0, 19003.0, 19473.0, 19453.0, 19446.0, 19426.0, 19454.0, 19422.0, 19401.0, 19003.0, 19041.0, 19003.0, 19446.0, 19406.0, 19446.0, 19072.0, 19405.0, 19405.0, 18964.0, 19006.0, 19428.0, 19027.0, 19446.0, 19444.0, 19422.0, 19446.0, 19444.0, 19440.0, 19004.0, 19090.0, 19422.0, 18073.0, 19446.0, 19422.0, 19428.0, 19002.0, 19403.0, 18964.0, 19440.0, 19446.0, 19446.0, 19440.0, 19027.0, 19401.0, 19401.0, 19403.0, 19006.0, 19422.0, 19027.0, 19446.0, 19096.0, 19401.0, 19406.0, 19403.0, 19446.0, 19426.0, 19406.0, 18041.0, 19041.0, 19401.0, 19401.0, 19426.0, 19422.0, 19422.0, 19044.0, 19473.0, 19405.0, 19444.0, 19403.0, 19406.0, 18073.0, 19464.0, 19044.0, 19440.0, 19444.0, 19006.0, 19440.0, 18073.0, 19403.0, 19428.0, 19096.0, 19025.0, 18073.0, 19468.0, 19406.0, 19462.0, 19426.0, 19004.0, 19002.0, 19401.0, 19426.0, 19038.0, 19096.0, 19426.0, 19422.0, 18969.0, 18958.0, 19401.0, 18958.0, 19422.0, 19406.0, 19006.0, 19422.0, 19426.0, 19446.0, 19027.0, 19401.0, 19003.0, 19464.0, 18936.0, 19406.0, 19006.0, 19464.0, 19041.0, 19072.0, 19403.0, 19401.0, 19401.0, 19473.0, 19446.0, 19426.0, 19473.0, 19006.0, 19446.0, 19446.0, 19006.0, 18073.0, 19401.0, 19004.0, 19444.0, 19444.0, 19406.0, 19446.0, 19428.0, 19406.0, 19095.0, 19446.0, 19006.0, 19006.0, 19446.0, 19444.0, 18958.0, 19041.0, 19426.0, 18969.0, 19422.0, 18073.0, 19040.0, 19440.0, 19003.0, 19041.0, 19440.0, 19406.0, 18958.0, 19027.0, 19446.0, 19003.0, 19446.0, 19462.0, 19406.0, 19003.0, 19440.0, 19446.0, 19038.0, 19406.0, 18969.0, 19440.0, 19464.0, 19446.0, 19046.0, 19401.0, 19428.0, 19426.0, 18054.0, 19004.0, 18958.0, 19446.0, 19406.0, 19403.0, 19403.0, 19095.0, 19403.0, 19426.0, 19473.0, 19422.0, 18964.0, 19003.0, 19046.0, 19406.0, 19446.0, 19038.0, 19464.0, 19446.0, 19401.0, 19006.0, 19044.0, 19038.0, 19006.0, 19446.0, 19006.0, 19426.0, 19405.0, 19406.0, 19426.0, 19428.0, 18958.0, 19444.0, 19426.0, 19444.0, 19446.0, 19027.0, 19041.0, 19426.0, 19422.0, 18073.0, 19462.0, 19075.0, 19027.0, 19012.0, 18964.0, 19406.0, 19462.0, 18054.0, 19446.0, 19403.0, 19440.0, 19401.0, 19401.0, 19403.0, 19096.0, 19027.0, 19025.0, 19440.0, 19422.0, 19440.0, 19464.0, 19401.0, 19464.0, 18054.0, 19003.0, 19426.0, 18958.0, 19446.0, 19403.0, 19003.0, 19095.0, 18073.0, 19041.0, 19041.0, 19444.0, 18964.0, 19027.0, 19426.0, 19096.0, 19027.0, 19401.0, 19027.0, 19401.0, 19426.0, 19096.0, 19027.0, 19422.0, 19446.0, 19444.0, 19446.0, 19406.0, 19096.0, 19046.0, 19035.0, 19401.0, 19446.0, 19444.0, 19462.0, 19025.0, 19444.0, 19096.0, 19440.0, 19422.0, 19096.0, 19403.0, 19426.0, 19428.0, 19422.0, 19468.0, 19046.0, 19403.0, 19095.0, 19525.0, 19444.0, 19401.0, 19440.0, 18073.0, 19035.0, 19003.0, 19401.0, 18958.0, 19446.0, 19004.0, 19096.0, 19002.0, 19096.0, 19406.0, 19446.0, 19444.0, 19446.0, 19003.0, 19422.0, 19446.0, 19446.0, 19044.0, 19446.0, 19422.0, 18958.0, 19446.0, 19403.0, 19444.0, 19095.0, 18073.0, 19095.0, 19401.0, 19444.0, 19406.0, 19462.0, 18958.0, 19401.0, 19003.0, 18073.0, 19027.0, 19096.0, 19096.0, 19403.0, 19096.0, 18958.0, 19406.0, 19004.0, 19440.0, 19095.0, 19401.0, 19422.0, 19035.0, 19444.0, 18969.0, 19406.0, 19446.0, 19406.0, 19462.0, 19446.0, 19406.0, 19426.0, 19422.0, 19405.0, 19096.0, 18054.0, 19403.0, 19440.0, 18964.0, 19096.0, 19027.0, 19046.0, 19003.0, 19422.0, 19006.0, 19426.0, 19401.0, 18958.0, 18964.0, 19027.0, 19096.0, 19041.0, 19462.0, 19406.0, 19446.0, 19046.0, 19027.0, 18073.0, 18958.0, 19041.0, 18958.0, 19041.0, 18964.0, 19027.0, 19446.0, 19035.0, 19422.0, 19046.0, 19446.0, 19446.0, 19041.0, 19096.0, 19422.0, 19446.0, 19403.0, 19401.0, 19422.0, 19406.0, 19426.0, 19422.0, 19041.0, 19035.0, 19041.0, 19096.0, 19446.0, 19096.0, 18958.0, 19446.0, 19446.0, 19462.0, 19446.0, 19401.0, 19041.0, 19446.0, 18964.0, 19403.0, 19401.0, 19096.0, 19096.0, 17821.0, 17821.0, 17821.0, 17821.0, 17821.0, 17821.0, 17821.0, 17821.0, 17821.0, 17821.0, 17821.0, 17821.0, 17821.0, 17821.0, 17821.0, 17821.0, 17821.0, 17821.0, 17821.0, 18042.0, 18042.0, 18045.0, 18017.0, 18042.0, 18042.0, 18042.0, 18015.0, 18017.0, 18042.0, 18020.0, 18064.0, 18042.0, 18064.0, 18042.0, 18018.0, 18064.0, 18064.0, 18040.0, 18064.0, 18042.0, 18042.0, 18015.0, 18064.0, 18040.0, 18017.0, 18015.0, 18042.0, 18013.0, 18042.0, 18091.0, 18017.0, 18015.0, 18013.0, 18072.0, 18040.0, 18064.0, 18020.0, 18018.0, 18038.0, 18042.0, 18018.0, 18064.0, 18018.0, 18018.0, 18017.0, 18042.0, 18042.0, 18020.0, 18072.0, 18064.0, 18045.0, 18040.0, 18042.0, 18040.0, 18013.0, 18017.0, 18020.0, 18042.0, 18064.0, 18038.0, 18017.0, 18042.0, 18020.0, 18042.0, 18045.0, 18015.0, 18020.0, 18018.0, 18040.0, 18091.0, 18064.0, 18015.0, 18018.0, 18017.0, 18042.0, 18018.0, 18015.0, 18020.0, 18042.0, 18015.0, 18042.0, 18042.0, 18045.0, 18064.0, 18042.0, 18042.0, 18064.0, 18064.0, 18042.0, 18042.0, 18040.0, 18013.0, 18015.0, 18042.0, 18045.0, 18042.0, 18072.0, 18067.0, 18018.0, 18013.0, 18017.0, 18015.0, 18045.0, 18018.0, 18018.0, 18017.0, 18015.0, 18045.0, 18042.0, 18018.0, 18042.0, 18042.0, 18045.0, 18017.0, 18018.0, 18042.0, 18015.0, 18017.0, 18042.0, 18042.0, 18018.0, 18064.0, 18018.0, 18042.0, 18042.0, 18017.0, 18018.0, 18042.0, 18042.0, 18015.0, 18045.0, 18017.0, 18042.0, 18020.0, 18020.0, 18042.0, 18015.0, 18045.0, 18042.0, 18064.0, 18015.0, 18042.0, 18072.0, 18018.0, 18042.0, 18064.0, 18018.0, 18017.0, 18040.0, 18015.0, 18020.0, 18067.0, 18015.0, 18015.0, 18013.0, 18017.0, 18042.0, 18042.0, 18045.0, 18013.0, 18040.0, 18017.0, 18064.0, 18015.0, 18091.0, 18064.0, 18091.0, 18042.0, 18042.0, 18018.0, 18072.0, 18015.0, 18042.0, 18015.0, 18042.0, 18018.0, 18091.0, 18018.0, 18064.0, 18018.0, 18045.0, 18042.0, 18015.0, 18015.0, 18018.0, 18017.0, 18018.0, 18038.0, 18055.0, 18042.0, 18042.0, 18045.0, 18020.0, 18017.0, 18015.0, 18045.0, 18017.0, 18020.0, 18018.0, 18020.0, 18020.0, 18018.0, 18018.0, 18042.0, 18045.0, 18018.0, 18018.0, 18038.0, 18040.0, 18042.0, 18091.0, 18064.0, 18015.0, 18042.0, 18015.0, 18045.0, 18018.0, 18045.0, 18055.0, 18040.0, 18064.0, 18013.0, 18040.0, 18064.0, 18045.0, 18015.0, 18020.0, 18018.0, 18015.0, 18042.0, 18018.0, 18042.0, 18014.0, 18045.0, 18020.0, 18015.0, 18042.0, 18042.0, 18072.0, 18015.0, 18067.0, 18013.0, 18015.0, 18017.0, 18015.0, 18042.0, 18015.0, 18042.0, 18042.0, 18343.0, 18042.0, 18042.0, 18015.0, 18042.0, 18018.0, 18020.0, 18015.0, 18042.0, 18018.0, 18015.0, 18042.0, 18055.0, 18042.0, 18020.0, 18017.0, 18040.0, 18042.0, 18045.0, 18042.0, 18018.0, 18015.0, 18013.0, 18042.0, 18064.0, 18015.0, 18072.0, 18015.0, 18045.0, 18020.0, 18018.0, 18055.0, 18018.0, 18017.0, 18088.0, 18020.0, 18042.0, 18045.0, 18015.0, 18018.0, 18042.0, 18015.0, 18040.0, 18020.0, 18042.0, 18072.0, 18013.0, 18042.0, 18343.0, 18040.0, 18042.0, 18042.0, 18067.0, 18018.0, 18042.0, 18018.0, 18055.0, 18017.0, 18013.0, 18015.0, 18042.0, 18018.0, 18020.0, 18055.0, 18055.0, 18042.0, 18042.0, 18013.0, 18015.0, 18045.0, 18015.0, 18013.0, 18020.0, 18020.0, 18013.0, 18018.0, 18042.0, 18015.0, 18018.0, 18015.0, 18042.0, 18020.0, 18018.0, 18064.0, 18042.0, 18018.0, 18018.0, 18042.0, 18042.0, 18351.0, 18020.0, 18018.0, 18018.0, 18017.0, 18083.0, 18042.0, 18018.0, 18040.0, 18017.0, 18042.0, 18045.0, 18020.0, 18067.0, 18017.0, 18015.0, 18020.0, 18343.0, 18042.0, 18042.0, 18013.0, 18013.0, 18042.0, 18042.0, 18055.0, 18015.0, 18020.0, 18020.0, 18042.0, 18020.0, 18040.0, 18013.0, 18064.0, 18064.0, 18015.0, 18018.0, 18013.0, 18064.0, 18040.0, 18042.0, 18015.0, 18042.0, 18055.0, 18042.0, 18018.0, 18067.0, 18020.0, 18018.0, 18018.0, 18013.0, 18018.0, 18042.0, 18042.0, 18018.0, 18013.0, 18018.0, 18042.0, 18067.0, 18042.0, 18042.0, 18045.0, 18055.0, 18017.0, 18045.0, 18015.0, 18015.0, 18045.0, 18042.0, 18072.0, 18055.0, 18020.0, 18018.0, 18042.0, 18042.0, 18042.0, 18020.0, 18040.0, 18017.0, 18042.0, 18042.0, 18018.0, 18040.0, 18045.0, 18055.0, 18015.0, 18042.0, 18042.0, 18015.0, 18042.0, 18015.0, 18042.0, 18018.0, 18017.0, 18015.0, 18055.0, 18042.0, 18015.0, 18042.0, 18015.0, 18042.0, 18067.0, 18055.0, 18042.0, 18020.0, 18040.0, 18013.0, 18042.0, 18017.0, 18017.0, 18042.0, 18042.0, 18017.0, 18018.0, 18055.0, 18042.0, 18067.0, 18015.0, 18040.0, 18015.0, 18045.0, 18040.0, 18042.0, 18013.0, 18015.0, 18018.0, 18042.0, 18042.0, 18015.0, 18018.0, 18055.0, 18018.0, 18018.0, 18045.0, 18042.0, 18015.0, 18042.0, 18042.0, 18067.0, 18042.0, 18013.0, 18013.0, 18040.0, 18018.0, 18042.0, 18067.0, 18013.0, 18042.0, 18042.0, 18018.0, 18015.0, 18040.0, 18015.0, 18042.0, 18015.0, 18042.0, 18067.0, 18064.0, 18064.0, 18013.0, 18055.0, 18088.0, 18045.0, 18018.0, 18040.0, 18045.0, 18017.0, 18055.0, 18017.0, 18017.0, 18067.0, 18017.0, 18020.0, 18018.0, 18015.0, 18042.0, 18018.0, 18343.0, 18042.0, 18055.0, 18067.0, 18017.0, 18020.0, 18045.0, 18042.0, 18055.0, 18042.0, 18020.0, 18045.0, 18042.0, 18018.0, 18055.0, 18042.0, 18055.0, 18020.0, 18042.0, 18042.0, 18088.0, 18020.0, 18042.0, 18015.0, 18042.0, 18042.0, 18018.0, 18088.0, 18045.0, 18018.0, 18042.0, 18055.0, 18018.0, 18020.0, 18042.0, 18018.0, 18015.0, 18014.0, 18018.0, 18020.0, 18015.0, 18042.0, 18042.0, 18015.0, 18042.0, 18042.0, 18088.0, 18015.0, 18055.0, 18055.0, 18018.0, 18020.0, 18015.0, 18088.0, 18018.0, 18020.0, 18042.0, 18042.0, 18018.0, 18045.0, 18055.0, 18042.0, 18018.0, 18018.0, 18017.0, 18042.0, 18042.0, 18017.0, 18018.0, 18015.0, 18018.0, 18055.0, 18045.0, 18014.0, 18067.0, 18020.0, 18045.0, 18015.0, 18067.0, 18042.0, 18020.0, 18015.0, 18020.0, 18042.0, 18042.0, 18017.0, 18042.0, 18014.0, 18014.0, 18014.0, 18014.0, 18020.0, 18014.0, 18067.0, 18015.0, 17851.0, 17857.0, 17850.0, 17850.0, 17850.0, 17872.0, 17872.0, 17857.0, 17777.0, 17847.0, 17872.0, 17801.0, 17777.0, 17857.0, 17777.0, 17053.0, 17053.0, 17024.0, 17053.0, 17053.0, 17053.0, 17074.0, 17053.0, 17037.0, 17040.0, 17020.0, 17074.0, 17074.0, 17074.0, 17020.0, 17074.0, 17020.0, 17074.0, 19134.0, 19134.0, 19134.0, 19136.0, 19135.0, 19132.0, 19139.0, 19139.0, 19138.0, 19134.0, 19134.0, 19134.0, 19135.0, 19132.0, 19138.0, 19135.0, 19135.0, 19134.0, 19132.0, 19136.0, 19134.0, 19136.0, 19139.0, 19132.0, 19134.0, 19134.0, 19132.0, 19132.0, 19132.0, 19134.0, 19139.0, 19135.0, 19132.0, 19137.0, 19135.0, 19135.0, 19134.0, 19132.0, 19135.0, 19143.0, 19132.0, 19139.0, 19135.0, 19132.0, 19143.0, 19135.0, 19132.0, 19143.0, 19136.0, 19138.0, 19139.0, 19134.0, 19143.0, 19138.0, 19138.0, 19132.0, 19132.0, 19136.0, 19143.0, 19132.0, 19132.0, 19132.0, 19139.0, 19136.0, 19134.0, 19143.0, 19132.0, 19132.0, 19143.0, 19139.0, 19134.0, 19136.0, 19134.0, 19136.0, 19134.0, 19135.0, 19143.0, 19132.0, 19136.0, 19143.0, 19132.0, 19132.0, 19132.0, 19132.0, 19134.0, 19136.0, 19135.0, 19137.0, 19143.0, 19143.0, 19135.0, 19143.0, 19138.0, 19143.0, 19138.0, 19132.0, 19132.0, 19132.0, 19138.0, 19138.0, 19132.0, 19143.0, 19143.0, 19135.0, 19143.0, 19138.0, 19143.0, 19138.0, 19143.0, 19134.0, 19139.0, 19143.0, 19139.0, 19132.0, 19132.0, 19132.0, 19139.0, 19135.0, 19136.0, 19139.0, 19143.0, 19143.0, 19132.0, 19132.0, 19132.0, 19132.0, 19139.0, 19143.0, 19143.0, 19143.0, 19132.0, 19136.0, 19135.0, 19143.0, 19135.0, 19136.0, 19143.0, 19135.0, 19137.0, 19143.0, 19143.0, 19139.0, 19143.0, 19135.0, 19135.0, 19138.0, 19138.0, 19143.0, 19143.0, 19138.0, 19143.0, 19143.0, 19143.0, 19132.0, 19143.0, 19143.0, 19138.0, 19143.0, 19143.0, 19143.0, 19143.0, 19132.0, 19143.0, 19143.0, 19139.0, 19135.0, 19139.0, 19134.0, 19134.0, 19143.0, 19134.0, 19139.0, 19144.0, 19144.0, 19136.0, 19136.0, 19132.0, 19134.0, 19144.0, 19132.0, 19144.0, 19144.0, 19144.0, 19144.0, 19144.0, 19134.0, 19143.0, 19143.0, 19144.0, 19143.0, 19134.0, 19144.0, 19144.0, 19143.0, 19144.0, 19144.0, 19132.0, 19134.0, 19144.0, 19134.0, 19144.0, 19134.0, 19143.0, 19144.0, 19144.0, 19144.0, 19144.0, 19144.0, 19144.0, 19144.0, 19135.0, 19144.0, 19132.0, 19144.0, 19135.0, 19144.0, 19144.0, 19144.0, 19132.0, 19143.0, 19144.0, 19144.0, 19144.0, 19144.0, 19144.0, 19144.0, 19144.0, 19143.0, 19134.0, 19133.0, 19143.0, 19133.0, 19144.0, 19134.0, 19134.0, 19134.0, 19136.0, 19144.0, 19134.0, 19136.0, 19143.0, 19134.0, 19132.0, 19144.0, 19132.0, 19135.0, 19144.0, 19134.0, 19143.0, 19143.0, 19135.0, 19143.0, 19133.0, 19133.0, 19132.0, 19143.0, 19133.0, 19132.0, 19143.0, 19143.0, 19143.0, 19143.0, 19143.0, 19143.0, 19133.0, 19143.0, 19133.0, 19138.0, 19143.0, 19143.0, 19144.0, 19133.0, 19133.0, 19133.0, 19143.0, 19133.0, 19133.0, 19133.0, 19133.0, 19133.0, 19143.0, 19144.0, 19134.0, 19139.0, 19134.0, 19134.0, 19134.0, 19133.0, 19132.0, 19134.0, 19143.0, 19134.0, 19136.0, 19139.0, 19143.0, 19143.0, 19143.0, 19139.0, 19143.0, 19133.0, 19143.0, 19139.0, 19139.0, 19139.0, 19139.0, 19139.0, 19143.0, 19139.0, 19133.0, 19143.0, 19133.0, 19143.0, 19120.0, 19139.0, 19139.0, 19139.0, 19120.0, 19120.0, 19120.0, 19120.0, 19120.0, 19120.0, 19120.0, 19139.0, 19120.0, 19120.0, 19139.0, 19120.0, 19120.0, 19139.0, 19121.0, 19133.0, 19121.0, 19121.0, 19121.0, 19134.0, 19121.0, 19143.0, 19121.0, 19139.0, 19121.0, 19121.0, 19121.0, 19132.0, 19121.0, 19121.0, 19135.0, 19121.0, 19121.0, 19135.0, 19121.0, 19135.0, 19121.0, 19135.0, 19135.0, 19121.0, 19121.0, 19132.0, 19121.0, 19121.0, 19135.0, 19121.0, 19135.0, 19121.0, 19121.0, 19121.0, 19135.0, 19121.0, 19135.0, 19121.0, 19121.0, 19135.0, 19121.0, 19135.0, 19121.0, 19121.0, 19121.0, 19135.0, 19121.0, 19135.0, 19121.0, 19121.0, 19136.0, 19121.0, 19121.0, 19136.0, 19136.0, 19121.0, 19136.0, 19121.0, 19121.0, 19121.0, 19121.0, 19121.0, 19121.0, 19136.0, 19139.0, 19121.0, 19136.0, 19121.0, 19136.0, 19121.0, 19121.0, 19133.0, 19133.0, 19133.0, 19143.0, 19135.0, 19121.0, 19121.0, 19121.0, 19121.0, 19121.0, 19121.0, 19137.0, 19143.0, 19121.0, 19132.0, 19121.0, 19135.0, 19138.0, 19121.0, 19121.0, 19138.0, 19121.0, 19138.0, 19121.0, 19138.0, 19138.0, 19121.0, 19138.0, 19138.0, 19121.0, 19138.0, 19121.0, 19121.0, 19121.0, 19138.0, 19121.0, 19139.0, 19139.0, 19121.0, 19139.0, 19139.0, 19121.0, 19121.0, 19121.0, 19139.0, 19139.0, 19139.0, 19133.0, 19134.0, 19121.0, 19121.0, 19143.0, 19121.0, 19121.0, 19139.0, 19134.0, 19121.0, 19121.0, 19139.0, 19139.0, 19121.0, 19121.0, 19143.0, 19121.0, 19134.0, 19134.0, 19143.0, 19121.0, 19121.0, 19121.0, 19121.0, 19121.0, 19139.0, 19121.0, 19132.0, 19121.0, 19121.0, 19121.0, 19121.0, 19121.0, 19121.0, 19121.0, 19121.0, 19143.0, 19132.0, 19121.0, 19121.0, 19121.0, 19121.0, 19121.0, 19132.0, 19132.0, 19121.0, 19121.0, 19132.0, 19121.0, 19121.0, 19121.0, 19121.0, 19121.0, 19121.0, 19121.0, 19121.0, 19121.0, 19121.0, 19121.0, 19121.0, 19121.0, 19121.0, 19121.0, 19121.0, 19121.0, 19121.0, 19121.0, 19121.0, 19121.0, 19121.0, 19121.0, 19121.0, 19121.0, 19121.0, 19121.0, 19121.0, 19121.0, 19121.0, 19121.0, 19135.0, 19121.0, 19121.0, 19121.0, 19121.0, 19121.0, 19121.0, 19121.0, 19121.0, 19121.0, 19121.0, 19121.0, 19121.0, 19121.0, 19121.0, 19121.0, 19121.0, 19121.0, 19121.0, 19121.0, 19121.0, 19121.0, 19121.0, 19121.0, 19121.0, 19121.0, 19121.0, 19121.0, 19121.0, 19121.0, 19121.0, 19121.0, 19121.0, 19121.0, 19121.0, 19121.0, 19121.0, 19121.0, 19121.0, 19121.0, 19121.0, 19121.0, 19121.0, 19121.0, 19121.0, 19121.0, 19121.0, 19121.0, 19121.0, 19121.0, 19121.0, 19121.0, 19121.0, 19121.0, 19121.0, 19121.0, 19121.0, 19121.0, 19121.0, 19121.0, 19121.0, 19121.0, 19121.0, 19121.0, 19121.0, 19121.0, 19121.0, 19121.0, 19121.0, 19121.0, 19121.0, 19121.0, 19121.0, 19121.0, 19121.0, 19121.0, 19121.0, 19121.0, 19121.0, 19121.0, 19121.0, 19121.0, 19121.0, 19121.0, 19121.0, 19121.0, 19121.0, 19121.0, 19121.0, 19121.0, 19121.0, 19121.0, 19121.0, 19121.0, 19121.0, 19121.0, 19121.0, 19121.0, 19121.0, 19121.0, 19121.0, 19121.0, 19121.0, 19121.0, 19121.0, 19121.0, 19121.0, 19121.0, 19121.0, 19121.0, 19134.0, 19121.0, 19121.0, 19121.0, 19121.0, 19121.0, 19121.0, 19121.0, 19121.0, 19121.0, 19121.0, 19143.0, 19121.0, 19121.0, 19121.0, 19121.0, 19121.0, 19121.0, 19121.0, 19121.0, 19121.0, 19121.0, 19139.0, 19121.0, 19121.0, 19121.0, 19121.0, 19121.0, 19121.0, 19121.0, 19121.0, 19121.0, 19121.0, 19121.0, 19121.0, 19121.0, 19121.0, 19121.0, 19121.0, 19121.0, 19121.0, 19121.0, 19121.0, 19121.0, 19121.0, 19121.0, 19121.0, 19121.0, 19121.0, 19121.0, 19121.0, 19121.0, 19121.0, 19121.0, 19121.0, 19121.0, 19121.0, 19121.0, 19121.0, 19121.0, 19121.0, 19121.0, 19121.0, 19144.0, 19121.0, 19121.0, 19121.0, 19121.0, 19121.0, 19121.0, 19121.0, 19121.0, 19121.0, 19121.0, 19121.0, 19121.0, 19121.0, 19121.0, 19121.0, 19121.0, 19121.0, 19121.0, 19121.0, 19121.0, 19121.0, 19121.0, 19121.0, 19121.0, 19121.0, 19121.0, 19121.0, 19121.0, 19121.0, 19121.0, 19121.0, 19121.0, 19121.0, 19121.0, 19121.0, 19121.0, 19121.0, 19133.0, 19121.0, 19121.0, 19121.0, 19121.0, 19121.0, 19121.0, 19121.0, 19121.0, 19121.0, 19121.0, 19121.0, 19121.0, 19132.0, 19121.0, 19121.0, 19133.0, 19121.0, 19121.0, 19121.0, 19121.0, 19121.0, 19133.0, 19121.0, 19121.0, 19121.0, 19121.0, 19121.0, 19121.0, 19121.0, 19121.0, 19121.0, 19121.0, 19133.0, 19132.0, 19121.0, 19121.0, 19121.0, 19121.0, 19121.0, 19121.0, 19121.0, 19121.0, 19121.0, 19121.0, 19122.0, 19122.0, 19122.0, 19122.0, 19122.0, 19122.0, 19133.0, 19122.0, 19122.0, 19121.0, 19122.0, 19122.0, 19122.0, 19133.0, 19122.0, 19122.0, 19122.0, 19122.0, 19122.0, 19122.0, 19134.0, 19121.0, 19134.0, 19122.0, 19121.0, 19122.0, 19122.0, 19122.0, 19121.0, 19122.0, 19122.0, 19134.0, 19122.0, 19134.0, 19134.0, 19122.0, 19122.0, 19121.0, 19122.0, 19122.0, 19122.0, 19133.0, 19134.0, 19121.0, 19122.0, 19122.0, 19122.0, 19122.0, 19122.0, 19122.0, 19122.0, 19122.0, 19122.0, 19122.0, 19121.0, 19122.0, 19122.0, 19120.0, 19122.0, 19122.0, 19122.0, 19122.0, 19122.0, 19122.0, 19122.0, 19122.0, 19122.0, 19122.0, 19122.0, 19122.0, 19120.0, 19122.0, 19120.0, 19122.0, 19122.0, 19121.0, 19121.0, 19122.0, 19122.0, 19122.0, 19122.0, 19122.0, 19122.0, 19122.0, 19123.0, 19123.0, 19123.0, 19123.0, 19123.0, 19123.0, 19121.0, 19123.0, 19121.0, 19123.0, 19123.0, 19121.0, 19121.0, 19123.0, 19123.0, 19123.0, 19123.0, 19123.0, 19121.0, 19123.0, 19123.0, 19121.0, 19121.0, 19121.0, 19121.0, 19123.0, 19123.0, 19121.0, 19123.0, 19123.0, 19123.0, 19123.0, 19123.0, 19121.0, 19123.0, 19121.0, 19123.0, 19123.0, 19121.0, 19123.0, 19123.0, 19123.0, 19123.0, 19121.0, 19121.0, 19123.0, 19121.0, 19121.0, 19123.0, 19121.0, 19121.0, 19123.0, 19123.0, 19123.0, 19123.0, 19123.0, 19121.0, 19123.0, 19121.0, 19123.0, 19121.0, 19121.0, 19121.0, 19123.0, 19121.0, 19123.0, 19123.0, 19123.0, 19123.0, 19121.0, 19123.0, 19123.0, 19121.0, 19123.0, 19121.0, 19123.0, 19123.0, 19123.0, 19121.0, 19123.0, 19123.0, 19123.0, 19123.0, 19123.0, 19123.0, 19121.0, 19123.0, 19123.0, 19121.0, 19123.0, 19123.0, 19123.0, 19123.0, 19123.0, 19123.0, 19123.0, 19123.0, 19123.0, 19121.0, 19123.0, 19123.0, 19121.0, 19121.0, 19121.0, 19138.0, 19123.0, 19121.0, 19123.0, 19123.0, 19121.0, 19123.0, 19121.0, 19123.0, 19121.0, 19121.0, 19121.0, 19123.0, 19139.0, 19123.0, 19121.0, 19123.0, 19123.0, 19123.0, 19123.0, 19121.0, 19123.0, 19121.0, 19123.0, 19123.0, 19122.0, 19123.0, 19121.0, 19121.0, 19123.0, 19123.0, 19123.0, 19123.0, 19123.0, 19123.0, 19123.0, 19123.0, 19123.0, 19121.0, 19123.0, 19121.0, 19123.0, 19123.0, 19123.0, 19123.0, 19123.0, 19121.0, 19123.0, 19123.0, 19123.0, 19123.0, 19123.0, 19123.0, 19123.0, 19123.0, 19121.0, 19123.0, 19123.0, 19123.0, 19123.0, 19123.0, 19123.0, 19123.0, 19123.0, 19123.0, 19123.0, 19123.0, 19123.0, 19123.0, 19123.0, 19123.0, 19123.0, 19123.0, 19123.0, 19123.0, 19123.0, 19123.0, 19123.0, 19124.0, 19124.0, 19124.0, 19124.0, 19124.0, 19124.0, 19124.0, 19124.0, 19124.0, 19124.0, 19124.0, 19124.0, 19124.0, 19124.0, 19124.0, 19124.0, 19124.0, 19124.0, 19124.0, 19124.0, 19124.0, 19124.0, 19124.0, 19124.0, 19124.0, 19124.0, 19124.0, 19124.0, 19124.0, 19124.0, 19124.0, 19124.0, 19124.0, 19124.0, 19124.0, 19124.0, 19124.0, 19124.0, 19124.0, 19124.0, 19124.0, 19124.0, 19124.0, 19124.0, 19124.0, 19124.0, 19124.0, 19124.0, 19124.0, 19124.0, 19124.0, 19124.0, 19124.0, 19125.0, 19125.0, 19125.0, 19125.0, 19125.0, 19125.0, 19125.0, 19125.0, 19125.0, 19125.0, 19125.0, 19125.0, 19125.0, 19125.0, 19125.0, 19125.0, 19125.0, 19125.0, 19125.0, 19125.0, 19125.0, 19125.0, 19125.0, 19125.0, 19125.0, 19125.0, 19125.0, 19125.0, 19125.0, 19125.0, 19125.0, 19125.0, 19125.0, 19125.0, 19125.0, 19125.0, 19125.0, 19125.0, 19125.0, 19125.0, 19125.0, 19125.0, 19125.0, 19125.0, 19125.0, 19125.0, 19125.0, 19125.0, 19125.0, 19125.0, 19125.0, 19139.0, 19125.0, 19125.0, 19125.0, 19125.0, 19125.0, 19125.0, 19125.0, 19125.0, 19125.0, 19125.0, 19125.0, 19125.0, 19125.0, 19121.0, 19125.0, 19125.0, 19125.0, 19125.0, 19125.0, 19125.0, 19125.0, 19125.0, 19125.0, 19125.0, 19125.0, 19125.0, 19125.0, 19125.0, 19125.0, 19121.0, 19125.0, 19125.0, 19125.0, 19125.0, 19125.0, 19125.0, 19125.0, 19125.0, 19125.0, 19125.0, 19125.0, 19125.0, 19125.0, 19125.0, 19125.0, 19125.0, 19125.0, 19125.0, 19125.0, 19125.0, 19125.0, 19125.0, 19121.0, 19125.0, 19125.0, 19125.0, 19125.0, 19125.0, 19125.0, 19125.0, 19125.0, 19125.0, 19125.0, 19125.0, 19125.0, 19126.0, 19126.0, 19126.0, 19126.0, 19126.0, 19126.0, 19121.0, 19126.0, 19126.0, 19126.0, 19126.0, 19127.0, 19127.0, 19127.0, 19127.0, 19127.0, 19127.0, 19127.0, 19127.0, 19127.0, 19127.0, 19127.0, 19127.0, 19127.0, 19127.0, 19127.0, 19127.0, 19127.0, 19127.0, 19127.0, 19127.0, 19127.0, 19127.0, 19127.0, 19127.0, 19127.0, 19127.0, 19127.0, 19127.0, 19127.0, 19127.0, 19127.0, 19127.0, 19127.0, 19127.0, 19127.0, 19127.0, 19127.0, 19127.0, 19127.0, 19127.0, 19127.0, 19127.0, 19127.0, 19121.0, 19121.0, 19127.0, 19127.0, 19127.0, 19127.0, 19127.0, 19121.0, 19127.0, 19127.0, 19127.0, 19121.0, 19127.0, 19127.0, 19127.0, 19127.0, 19127.0, 19127.0, 19121.0, 19127.0, 19127.0, 19127.0, 19127.0, 19121.0, 19127.0, 19127.0, 19121.0, 19127.0, 19127.0, 19127.0, 19127.0, 19127.0, 19127.0, 19127.0, 19127.0, 19122.0, 19127.0, 19127.0, 19127.0, 19127.0, 19127.0, 19127.0, 19127.0, 19127.0, 19122.0, 19122.0, 19127.0, 19127.0, 19127.0, 19122.0, 19127.0, 19127.0, 19122.0, 19122.0, 19127.0, 19127.0, 19122.0, 19127.0, 19127.0, 19127.0, 19122.0, 19122.0, 19122.0, 19127.0, 19127.0, 19127.0, 19127.0, 19127.0, 19127.0, 19127.0, 19122.0, 19122.0, 19122.0, 19127.0, 19127.0, 19122.0, 19127.0, 19127.0, 19122.0, 19122.0, 19127.0, 19122.0, 19127.0, 19127.0, 19127.0, 19127.0, 19127.0, 19127.0, 19127.0, 19122.0, 19127.0, 19127.0, 19127.0, 19127.0, 19122.0, 19127.0, 19122.0, 19127.0, 19127.0, 19127.0, 19127.0, 19127.0, 19127.0, 19127.0, 19127.0, 19128.0, 19128.0, 19128.0, 19128.0, 19128.0, 19128.0, 19128.0, 19122.0, 19128.0, 19128.0, 19122.0, 19122.0, 19128.0, 19122.0, 19128.0, 19122.0, 19128.0, 19122.0, 19128.0, 19128.0, 19128.0, 19128.0, 19104.0, 19128.0, 19128.0, 19128.0, 19128.0, 19128.0, 19128.0, 19123.0, 19128.0, 19128.0, 19128.0, 19123.0, 19128.0, 19123.0, 19128.0, 19128.0, 19128.0, 19128.0, 19123.0, 19123.0, 19128.0, 19123.0, 19123.0, 19128.0, 19128.0, 19128.0, 19128.0, 19128.0, 19123.0, 19128.0, 19123.0, 19128.0, 19128.0, 19123.0, 19128.0, 19128.0, 19128.0, 19123.0, 19128.0, 19128.0, 19123.0, 19123.0, 19128.0, 19128.0, 19123.0, 19128.0, 19128.0, 19123.0, 19128.0, 19123.0, 19123.0, 19128.0, 19128.0, 19128.0, 19128.0, 19128.0, 19128.0, 19128.0, 19123.0, 19123.0, 19128.0, 19123.0, 19123.0, 19128.0, 19128.0, 19123.0, 19128.0, 19128.0, 19128.0, 19128.0, 19128.0, 19123.0, 19128.0, 19128.0, 19128.0, 19128.0, 19128.0, 19128.0, 19128.0, 19128.0, 19123.0, 19128.0, 19128.0, 19123.0, 19123.0, 19128.0, 19128.0, 19123.0, 19123.0, 19128.0, 19128.0, 19128.0, 19128.0, 19128.0, 19128.0, 19128.0, 19128.0, 19128.0, 19128.0, 19123.0, 19123.0, 19128.0, 19123.0, 19128.0, 19128.0, 19123.0, 19128.0, 19128.0, 19128.0, 19128.0, 19123.0, 19123.0, 19123.0, 19121.0, 19128.0, 19128.0, 19121.0, 19128.0, 19128.0, 19128.0, 19123.0, 19123.0, 19123.0, 19123.0, 19128.0, 19121.0, 19128.0, 19128.0, 19128.0, 19128.0, 19121.0, 19128.0, 19128.0, 19123.0, 19128.0, 19128.0, 19128.0, 19123.0, 19123.0, 19128.0, 19123.0, 19128.0, 19128.0, 19123.0, 19128.0, 19128.0, 19128.0, 19128.0, 19128.0, 19128.0, 19128.0, 19128.0, 19128.0, 19128.0, 19128.0, 19128.0, 19128.0, 19128.0, 19128.0, 19128.0, 19128.0, 19128.0, 19128.0, 19128.0, 19128.0, 19123.0, 19128.0, 19128.0, 19128.0, 19128.0, 19128.0, 19128.0, 19128.0, 19128.0, 19128.0, 19128.0, 19128.0, 19128.0, 19128.0, 19128.0, 19128.0, 19128.0, 19128.0, 19128.0, 19128.0, 19128.0, 19128.0, 19128.0, 19128.0, 19128.0, 19128.0, 19128.0, 19128.0, 19128.0, 19128.0, 19128.0, 19128.0, 19128.0, 19128.0, 19128.0, 19128.0, 19128.0, 19128.0, 19128.0, 19128.0, 19128.0, 19128.0, 19128.0, 19128.0, 19128.0, 19128.0, 19128.0, 19128.0, 19128.0, 19128.0, 19128.0, 19128.0, 19128.0, 19128.0, 19128.0, 19128.0, 19128.0, 19128.0, 19128.0, 19128.0, 19128.0, 19128.0, 19128.0, 19128.0, 19128.0, 19128.0, 19128.0, 19128.0, 19128.0, 19128.0, 19128.0, 19128.0, 19128.0, 19128.0, 19128.0, 19128.0, 19128.0, 19128.0, 19128.0, 19128.0, 19128.0, 19128.0, 19128.0, 19128.0, 19129.0, 19129.0, 19129.0, 19129.0, 19129.0, 19129.0, 19129.0, 19129.0, 19129.0, 19129.0, 19129.0, 19129.0, 19129.0, 19129.0, 19129.0, 19129.0, 19129.0, 19129.0, 19129.0, 19129.0, 19129.0, 19129.0, 19129.0, 19129.0, 19129.0, 19129.0, 19129.0, 19129.0, 19129.0, 19129.0, 19129.0, 19129.0, 19129.0, 19129.0, 19129.0, 19129.0, 19129.0, 19129.0, 19129.0, 19129.0, 19129.0, 19129.0, 19129.0, 19129.0, 19129.0, 19125.0, 19129.0, 19129.0, 19129.0, 19129.0, 19129.0, 19129.0, 19129.0, 19129.0, 19129.0, 19129.0, 19129.0, 19129.0, 19129.0, 19129.0, 19129.0, 19125.0, 19129.0, 19129.0, 19129.0, 19129.0, 19129.0, 19129.0, 19129.0, 19129.0, 19130.0, 19130.0, 19130.0, 19125.0, 19130.0, 19130.0, 19130.0, 19130.0, 19130.0, 19130.0, 19130.0, 19130.0, 19130.0, 19130.0, 19130.0, 19130.0, 19130.0, 19130.0, 19130.0, 19130.0, 19130.0, 19130.0, 19125.0, 19130.0, 19130.0, 19130.0, 19130.0, 19130.0, 19130.0, 19130.0, 19130.0, 19130.0, 19130.0, 19130.0, 19130.0, 19130.0, 19130.0, 19130.0, 19130.0, 19130.0, 19126.0, 19130.0, 19130.0, 19130.0, 19130.0, 19130.0, 19130.0, 19130.0, 19130.0, 19130.0, 19130.0, 19130.0, 19130.0, 19130.0, 19130.0, 19130.0, 19130.0, 19130.0, 19130.0, 19130.0, 19130.0, 19130.0, 19130.0, 19130.0, 19130.0, 19130.0, 19130.0, 19130.0, 19130.0, 19130.0, 19130.0, 19130.0, 19130.0, 19130.0, 19130.0, 19130.0, 19130.0, 19130.0, 19130.0, 19130.0, 19130.0, 19130.0, 19130.0, 19130.0, 19130.0, 19130.0, 19130.0, 19130.0, 19130.0, 19130.0, 19130.0, 19130.0, 19130.0, 19130.0, 19130.0, 19130.0, 19130.0, 19130.0, 19130.0, 19130.0, 19130.0, 19130.0, 19130.0, 19130.0, 19130.0, 19130.0, 19130.0, 19130.0, 19130.0, 19130.0, 19130.0, 19130.0, 19130.0, 19130.0, 19130.0, 19130.0, 19130.0, 19130.0, 19130.0, 19130.0, 19130.0, 19130.0, 19130.0, 19130.0, 19130.0, 19130.0, 19130.0, 19130.0, 19130.0, 19130.0, 19130.0, 19130.0, 19130.0, 19130.0, 19130.0, 19130.0, 19130.0, 19130.0, 19130.0, 19130.0, 19130.0, 19130.0, 19130.0, 19130.0, 19130.0, 19130.0, 19130.0, 19130.0, 19130.0, 19130.0, 19130.0, 19127.0, 19130.0, 19130.0, 19130.0, 19130.0, 19130.0, 19130.0, 19130.0, 19130.0, 19127.0, 19130.0, 19130.0, 19130.0, 19130.0, 19130.0, 19130.0, 19130.0, 19130.0, 19130.0, 19130.0, 19130.0, 19130.0, 19130.0, 19130.0, 19130.0, 19130.0, 19130.0, 19130.0, 19130.0, 19130.0, 19127.0, 19130.0, 19130.0, 19130.0, 19130.0, 19130.0, 19130.0, 19130.0, 19130.0, 19130.0, 19130.0, 19130.0, 19130.0, 19130.0, 19130.0, 19130.0, 19130.0, 19130.0, 19130.0, 19130.0, 19130.0, 19120.0, 19130.0, 19130.0, 19130.0, 19130.0, 19130.0, 19130.0, 19130.0, 19130.0, 19130.0, 19130.0, 19130.0, 19130.0, 19130.0, 19130.0, 19130.0, 19130.0, 19130.0, 19130.0, 19130.0, 19130.0, 19130.0, 19130.0, 19130.0, 19130.0, 19130.0, 19130.0, 19130.0, 19130.0, 19130.0, 19130.0, 19130.0, 19130.0, 19130.0, 19130.0, 19130.0, 19130.0, 19130.0, 19130.0, 19130.0, 19130.0, 19130.0, 19130.0, 19130.0, 19130.0, 19130.0, 19130.0, 19130.0, 19130.0, 19131.0, 19131.0, 19131.0, 19131.0, 19131.0, 19131.0, 19131.0, 19131.0, 19131.0, 19131.0, 19131.0, 19131.0, 19131.0, 19131.0, 19131.0, 19131.0, 19131.0, 19131.0, 19131.0, 19131.0, 19131.0, 19131.0, 19131.0, 19131.0, 19131.0, 19131.0, 19131.0, 19131.0, 19131.0, 19131.0, 19131.0, 19131.0, 19131.0, 19131.0, 19131.0, 19131.0, 19131.0, 19131.0, 19131.0, 19131.0, 19131.0, 19131.0, 19131.0, 19131.0, 19131.0, 19131.0, 19131.0, 19131.0, 19131.0, 19131.0, 19131.0, 19131.0, 19131.0, 19131.0, 19131.0, 19131.0, 19131.0, 19131.0, 19131.0, 19131.0, 19131.0, 19131.0, 19131.0, 19131.0, 19131.0, 19131.0, 19131.0, 19131.0, 19131.0, 19131.0, 19131.0, 19131.0, 19131.0, 19131.0, 19131.0, 19131.0, 19131.0, 19131.0, 19131.0, 19131.0, 19131.0, 19131.0, 19131.0, 19131.0, 19131.0, 19131.0, 19131.0, 19131.0, 19131.0, 19131.0, 19131.0, 19131.0, 19131.0, 19131.0, 19131.0, 19131.0, 19131.0, 19131.0, 19131.0, 19132.0, 19132.0, 19132.0, 19132.0, 19132.0, 19132.0, 19132.0, 19132.0, 19132.0, 19132.0, 19132.0, 19132.0, 19132.0, 19132.0, 19132.0, 19132.0, 19132.0, 19132.0, 19132.0, 19132.0, 19132.0, 19132.0, 19132.0, 19132.0, 19148.0, 19148.0, 19148.0, 19148.0, 19148.0, 19148.0, 19148.0, 19148.0, 19148.0, 19148.0, 19148.0, 19148.0, 19148.0, 19148.0, 19148.0, 19148.0, 19148.0, 19148.0, 19148.0, 19148.0, 19148.0, 19148.0, 19148.0, 19148.0, 19148.0, 19148.0, 19132.0, 19132.0, 19149.0, 19149.0, 19149.0, 19149.0, 19149.0, 19132.0, 19149.0, 19149.0, 19149.0, 19149.0, 19149.0, 19149.0, 19132.0, 19149.0, 19149.0, 19149.0, 19149.0, 19149.0, 19149.0, 19149.0, 19149.0, 19149.0, 19149.0, 19149.0, 19132.0, 19149.0, 19149.0, 19149.0, 19149.0, 19149.0, 19132.0, 19149.0, 19149.0, 19149.0, 19132.0, 19132.0, 19132.0, 19132.0, 19149.0, 19150.0, 19150.0, 19150.0, 19150.0, 19150.0, 19150.0, 19150.0, 19150.0, 19132.0, 19150.0, 19132.0, 19150.0, 19150.0, 19132.0, 19151.0, 19151.0, 19132.0, 19151.0, 19151.0, 19151.0, 19151.0, 19151.0, 19151.0, 19151.0, 19151.0, 19151.0, 19151.0, 19151.0, 19151.0, 19151.0, 19151.0, 19151.0, 19151.0, 19151.0, 19151.0, 19133.0, 19151.0, 19133.0, 19133.0, 19151.0, 19151.0, 19133.0, 19133.0, 19151.0, 19151.0, 19151.0, 19151.0, 19151.0, 19151.0, 19151.0, 19151.0, 19133.0, 19151.0, 19151.0, 19151.0, 19151.0, 19151.0, 19133.0, 19133.0, 19152.0, 19152.0, 19152.0, 19152.0, 19152.0, 19152.0, 19152.0, 19152.0, 19152.0, 19152.0, 19152.0, 19152.0, 19152.0, 19152.0, 19152.0, 19152.0, 19152.0, 19152.0, 19133.0, 19152.0, 19152.0, 19133.0, 19152.0, 19152.0, 19152.0, 19152.0, 19152.0, 19152.0, 19152.0, 19152.0, 19152.0, 19152.0, 19152.0, 19152.0, 19152.0, 19152.0, 19153.0, 19153.0, 19153.0, 19153.0, 19153.0, 19153.0, 19134.0, 19153.0, 19153.0, 19153.0, 19153.0, 19153.0, 19153.0, 19153.0, 19153.0, 19154.0, 19154.0, 19154.0, 19154.0, 19154.0, 19154.0, 19154.0, 19154.0, 19154.0, 19154.0, 19154.0, 19154.0, 19154.0, 19154.0, 19154.0, 19154.0, 19154.0, 19154.0, 19154.0, 19154.0, 19154.0, 19142.0, 19145.0, 19147.0, 19147.0, 19144.0, 19144.0, 19144.0, 19147.0, 19147.0, 19147.0, 19147.0, 19145.0, 19145.0, 19145.0, 19144.0, 19144.0, 19134.0, 19139.0, 19139.0, 19139.0, 19139.0, 19144.0, 19144.0, 19139.0, 19144.0, 19139.0, 19139.0, 19139.0, 19144.0, 19139.0, 19121.0, 19139.0, 19139.0, 19144.0, 19144.0, 19139.0, 19139.0, 19139.0, 19144.0, 19139.0, 19139.0, 19139.0, 19139.0, 19144.0, 19144.0, 19139.0, 19139.0, 19132.0, 19139.0, 19139.0, 19144.0, 19134.0, 19132.0, 19144.0, 19139.0, 19134.0, 19139.0, 19139.0, 19139.0, 19132.0, 19139.0, 19144.0, 19139.0, 19144.0, 19139.0, 19144.0, 19139.0, 19139.0, 19139.0, 19144.0, 19140.0, 19140.0, 19140.0, 19144.0, 19140.0, 19140.0, 19140.0, 19140.0, 19136.0, 19136.0, 19136.0, 19136.0, 19136.0, 19144.0, 19140.0, 19144.0, 19140.0, 19140.0, 19133.0, 19144.0, 19133.0, 19133.0, 19140.0, 19144.0, 19140.0, 19144.0, 19140.0, 19140.0, 19140.0, 19133.0, 19133.0, 19133.0, 19140.0, 19140.0, 19140.0, 19140.0, 19140.0, 19140.0, 19138.0, 19140.0, 19144.0, 19140.0, 19133.0, 19138.0, 19140.0, 19133.0, 19144.0, 19144.0, 19133.0, 19140.0, 19144.0, 19141.0, 19139.0, 19139.0, 19139.0, 19139.0, 19139.0, 19141.0, 19141.0, 19145.0, 19139.0, 19141.0, 19145.0, 19147.0, 19145.0, 19141.0, 19139.0, 19139.0, 19139.0, 19139.0, 19139.0, 19134.0, 19134.0, 19141.0, 19141.0, 19139.0, 19141.0, 19141.0, 19139.0, 19141.0, 19142.0, 19139.0, 19142.0, 19142.0, 19142.0, 19142.0, 19139.0, 19142.0, 19145.0, 19139.0, 19142.0, 19142.0, 19139.0, 19142.0, 19147.0, 19147.0, 19147.0, 19147.0, 19142.0, 19142.0, 19145.0, 19139.0, 19143.0, 19139.0, 19143.0, 19143.0, 19145.0, 19147.0, 19145.0, 19143.0, 19143.0, 19147.0, 19145.0, 19143.0, 19143.0, 19143.0, 19143.0, 19139.0, 19135.0, 19143.0, 19143.0, 19139.0, 19135.0, 19135.0, 19139.0, 19147.0, 19139.0, 19149.0, 19149.0, 19149.0, 19149.0, 19147.0, 19150.0, 19143.0, 19143.0, 19139.0, 19139.0, 19143.0, 19145.0, 19143.0, 19147.0, 19143.0, 19143.0, 19143.0, 19143.0, 19139.0, 19147.0, 19143.0, 19150.0, 19150.0, 19143.0, 19139.0, 19145.0, 19135.0, 19143.0, 19147.0, 19146.0, 19146.0, 19146.0, 19139.0, 19147.0, 19146.0, 19136.0, 19139.0, 19147.0, 19146.0, 19147.0, 19146.0, 19143.0, 19151.0, 19140.0, 19143.0, 19151.0, 19140.0, 19140.0, 19140.0, 19146.0, 19136.0, 19151.0, 19148.0, 19140.0, 19148.0, 19140.0, 19151.0, 19148.0, 19151.0, 19148.0, 19148.0, 19146.0, 19148.0, 19148.0, 19151.0, 19151.0, 19151.0, 19140.0, 19148.0, 19146.0, 19148.0, 19140.0, 19148.0, 19148.0, 19146.0, 19148.0, 19143.0, 19148.0, 19148.0, 19148.0, 19140.0, 19144.0, 19148.0, 19138.0, 19148.0, 19140.0, 19141.0, 19148.0, 19148.0, 19141.0, 19146.0, 19123.0, 19141.0, 19141.0, 19123.0, 19143.0, 19141.0, 19123.0, 19141.0, 19143.0, 19143.0, 19143.0, 19139.0, 19141.0, 19141.0, 19141.0, 19134.0, 19141.0, 19146.0, 19148.0, 19148.0, 19146.0, 19148.0, 19146.0, 19143.0, 19146.0, 19141.0, 19141.0, 19146.0, 19141.0, 19142.0, 19142.0, 19140.0, 19145.0, 19146.0, 19142.0, 19142.0, 19142.0, 19146.0, 19142.0, 19132.0, 19142.0, 19147.0, 19146.0, 19151.0, 19147.0, 19146.0, 19147.0, 19151.0, 19142.0, 19146.0, 19142.0, 19142.0, 19147.0, 19142.0, 19147.0, 19142.0, 19147.0, 19142.0, 19146.0, 19143.0, 19147.0, 19147.0, 19147.0, 19143.0, 19143.0, 19143.0, 19147.0, 19147.0, 19145.0, 19147.0, 19143.0, 19147.0, 19143.0, 19143.0, 19124.0, 19143.0, 19147.0, 19145.0, 19147.0, 19149.0, 19147.0, 19148.0, 19143.0, 19147.0, 19148.0, 19145.0, 19148.0, 19147.0, 19145.0, 19147.0, 19148.0, 19146.0, 19145.0, 19146.0, 19147.0, 19148.0, 19143.0, 19145.0, 19147.0, 19145.0, 19147.0, 19147.0, 19145.0, 19147.0, 19148.0, 19143.0, 19145.0, 19147.0, 19145.0, 19147.0, 19143.0, 19143.0, 19147.0, 19139.0, 19143.0, 19148.0, 19146.0, 19147.0, 19143.0, 19147.0, 19139.0, 19147.0, 19146.0, 19147.0, 19147.0, 19146.0, 19147.0, 19143.0, 19147.0, 19151.0, 19143.0, 19148.0, 19143.0, 19148.0, 19148.0, 19146.0, 19148.0, 19141.0, 19146.0, 19148.0, 19148.0, 19148.0, 19140.0, 19140.0, 19148.0, 19146.0, 19148.0, 19152.0, 19148.0, 19143.0, 19148.0, 19146.0, 19148.0, 19146.0, 19147.0, 19148.0, 19148.0, 19146.0, 19152.0, 19148.0, 19142.0, 19152.0, 19147.0, 19146.0, 19148.0, 19148.0, 19142.0, 19148.0, 19149.0, 19146.0, 19148.0, 19148.0, 19149.0, 19141.0, 19146.0, 19146.0, 19143.0, 19143.0, 19139.0, 19143.0, 19144.0, 19147.0, 19146.0, 19143.0, 19143.0, 19147.0, 19148.0, 19143.0, 19148.0, 19143.0, 19148.0, 19145.0, 19146.0, 19146.0, 19140.0, 19148.0, 19146.0, 19148.0, 19141.0, 19147.0, 19146.0, 19147.0, 19146.0, 19147.0, 19147.0, 19141.0, 19148.0, 19148.0, 19148.0, 19147.0, 19146.0, 19146.0, 19147.0, 19146.0, 19147.0, 19148.0, 19147.0, 19147.0, 19140.0, 19150.0, 19145.0, 19148.0, 19148.0, 19147.0, 19147.0, 19147.0, 19147.0, 19148.0, 19148.0, 19148.0, 19139.0, 19148.0, 19147.0, 19140.0, 19146.0, 19146.0, 19147.0, 19147.0, 19148.0, 19147.0, 19147.0, 19148.0, 19143.0, 19147.0, 19147.0, 19147.0, 19141.0, 19139.0, 19148.0, 19146.0, 19149.0, 19143.0, 19153.0, 19148.0, 19147.0, 19148.0, 19148.0, 19147.0, 19148.0, 19147.0, 19148.0, 19148.0, 19140.0, 19140.0, 19140.0, 19141.0, 19148.0, 19148.0, 19146.0, 19147.0, 19153.0, 19147.0, 19146.0, 19146.0, 19140.0, 19148.0, 19145.0, 19141.0, 19148.0, 19139.0, 19147.0, 19148.0, 19149.0, 19147.0, 19141.0, 19148.0, 19146.0, 19149.0, 19148.0, 19148.0, 19143.0, 19147.0, 19146.0, 19141.0, 19148.0, 19144.0, 19127.0, 19144.0, 19144.0, 19127.0, 19144.0, 19144.0, 19144.0, 19144.0, 19143.0, 19144.0, 19144.0, 19127.0, 19144.0, 19144.0, 19144.0, 19144.0, 19144.0, 19144.0, 19144.0, 19144.0, 19144.0, 19144.0, 19144.0, 19127.0, 19144.0, 19144.0, 19144.0, 19144.0, 19127.0, 19127.0, 19144.0, 19144.0, 19144.0, 19144.0, 19144.0, 19144.0, 19144.0, 19144.0, 19144.0, 19144.0, 19127.0, 19144.0, 19144.0, 19144.0, 19144.0, 19144.0, 19144.0, 19144.0, 19144.0, 19144.0, 19144.0, 19144.0, 19143.0, 19144.0, 19144.0, 19144.0, 19144.0, 19127.0, 19144.0, 19127.0, 19127.0, 19127.0, 19144.0, 19127.0, 19144.0, 19144.0, 19144.0, 19144.0, 19144.0, 19127.0, 19144.0, 19127.0, 19144.0, 19127.0, 19144.0, 19144.0, 19144.0, 19127.0, 19127.0, 19145.0, 19145.0, 19145.0, 19127.0, 19127.0, 19127.0, 19145.0, 19145.0, 19127.0, 19127.0, 19145.0, 19145.0, 19145.0, 19145.0, 19145.0, 19145.0, 19145.0, 19145.0, 19145.0, 19145.0, 19145.0, 19145.0, 19145.0, 19127.0, 19145.0, 19145.0, 19145.0, 19127.0, 19145.0, 19145.0, 19145.0, 19145.0, 19145.0, 19128.0, 19145.0, 19145.0, 19145.0, 19145.0, 19145.0, 19145.0, 19145.0, 19145.0, 19145.0, 19128.0, 19128.0, 19145.0, 19145.0, 19145.0, 19128.0, 19128.0, 19128.0, 19128.0, 19128.0, 19145.0, 19145.0, 19145.0, 19145.0, 19128.0, 19128.0, 19145.0, 19145.0, 19145.0, 19145.0, 19145.0, 19145.0, 19145.0, 19128.0, 19145.0, 19145.0, 19128.0, 19145.0, 19145.0, 19128.0, 19145.0, 19128.0, 19145.0, 19145.0, 19145.0, 19145.0, 19128.0, 19145.0, 19145.0, 19128.0, 19128.0, 19145.0, 19145.0, 19128.0, 19145.0, 19145.0, 19145.0, 19145.0, 19145.0, 19128.0, 19145.0, 19145.0, 19145.0, 19145.0, 19144.0, 19145.0, 19128.0, 19146.0, 19146.0, 19146.0, 19128.0, 19128.0, 19128.0, 19128.0, 19128.0, 19146.0, 19146.0, 19146.0, 19146.0, 19146.0, 19146.0, 19146.0, 19146.0, 19146.0, 19146.0, 19128.0, 19128.0, 19128.0, 19128.0, 19146.0, 19146.0, 19128.0, 19128.0, 19128.0, 19146.0, 19146.0, 19146.0, 19146.0, 19146.0, 19146.0, 19146.0, 19128.0, 19146.0, 19146.0, 19146.0, 19146.0, 19146.0, 19146.0, 19146.0, 19128.0, 19146.0, 19146.0, 19128.0, 19128.0, 19146.0, 19146.0, 19128.0, 19146.0, 19146.0, 19146.0, 19146.0, 19128.0, 19128.0, 19128.0, 19128.0, 19146.0, 19128.0, 19146.0, 19128.0, 19146.0, 19146.0, 19128.0, 19146.0, 19146.0, 19146.0, 19128.0, 19128.0, 19146.0, 19146.0, 19146.0, 19128.0, 19128.0, 19146.0, 19128.0, 19146.0, 19128.0, 19128.0, 19146.0, 19146.0, 19146.0, 19146.0, 19128.0, 19146.0, 19128.0, 19128.0, 19146.0, 19145.0, 19146.0, 19128.0, 19128.0, 19128.0, 19146.0, 19146.0, 19145.0, 19146.0, 19146.0, 19128.0, 19128.0, 19146.0, 19128.0, 19146.0, 19128.0, 19146.0, 19146.0, 19146.0, 19146.0, 19146.0, 19146.0, 19146.0, 19146.0, 19146.0, 19128.0, 19146.0, 19128.0, 19146.0, 19146.0, 19146.0, 19146.0, 19146.0, 19128.0, 19146.0, 19146.0, 19128.0, 19146.0, 19146.0, 19146.0, 19146.0, 19146.0, 19146.0, 19146.0, 19146.0, 19146.0, 19146.0, 19146.0, 19146.0, 19146.0, 19146.0, 19146.0, 19146.0, 19146.0, 19146.0, 19146.0, 19146.0, 19146.0, 19146.0, 19146.0, 19146.0, 19146.0, 19146.0, 19146.0, 19146.0, 19146.0, 19146.0, 19146.0, 19146.0, 19146.0, 19146.0, 19146.0, 19146.0, 19146.0, 19146.0, 19146.0, 19146.0, 19146.0, 19146.0, 19146.0, 19146.0, 19146.0, 19146.0, 19146.0, 19146.0, 19146.0, 19146.0, 19146.0, 19146.0, 19146.0, 19146.0, 19146.0, 19146.0, 19146.0, 19146.0, 19146.0, 19146.0, 19146.0, 19146.0, 19146.0, 19146.0, 19146.0, 19146.0, 19146.0, 19146.0, 19146.0, 19146.0, 19146.0, 19146.0, 19146.0, 19146.0, 19146.0, 19146.0, 19146.0, 19146.0, 19146.0, 19146.0, 19146.0, 19146.0, 19146.0, 19146.0, 19146.0, 19146.0, 19146.0, 19146.0, 19146.0, 19146.0, 19146.0, 19146.0, 19146.0, 19146.0, 19146.0, 19146.0, 19146.0, 19146.0, 19146.0, 19146.0, 19146.0, 19146.0, 19146.0, 19146.0, 19146.0, 19146.0, 19146.0, 19146.0, 19146.0, 19146.0, 19146.0, 19146.0, 19146.0, 19146.0, 19146.0, 19146.0, 19146.0, 19146.0, 19146.0, 19146.0, 19146.0, 19146.0, 19146.0, 19146.0, 19146.0, 19146.0, 19146.0, 19146.0, 19146.0, 19146.0, 19146.0, 19146.0, 19146.0, 19146.0, 19146.0, 19146.0, 19146.0, 19146.0, 19146.0, 19146.0, 19146.0, 19146.0, 19146.0, 19146.0, 19129.0, 19146.0, 19146.0, 19146.0, 19146.0, 19146.0, 19146.0, 19146.0, 19146.0, 19146.0, 19146.0, 19146.0, 19146.0, 19146.0, 19130.0, 19146.0, 19146.0, 19147.0, 19147.0, 19147.0, 19147.0, 19147.0, 19147.0, 19147.0, 19147.0, 19147.0, 19147.0, 19147.0, 19147.0, 19147.0, 19147.0, 19130.0, 19147.0, 19147.0, 19147.0, 19147.0, 19147.0, 19147.0, 19147.0, 19147.0, 19147.0, 19147.0, 19147.0, 19147.0, 19147.0, 19147.0, 19147.0, 19147.0, 19147.0, 19130.0, 19147.0, 19147.0, 19147.0, 19147.0, 19147.0, 19147.0, 19147.0, 19147.0, 19147.0, 19147.0, 19147.0, 19147.0, 19147.0, 19147.0, 19147.0, 19147.0, 19147.0, 19147.0, 19147.0, 19147.0, 19147.0, 19147.0, 19147.0, 19147.0, 19147.0, 19147.0, 19147.0, 19147.0, 19147.0, 19147.0, 19147.0, 19147.0, 19147.0, 19147.0, 19147.0, 19147.0, 19147.0, 19147.0, 19147.0, 19147.0, 19147.0, 19147.0, 19147.0, 19147.0, 19147.0, 19147.0, 19147.0, 19147.0, 19147.0, 19147.0, 19147.0, 19147.0, 19147.0, 19147.0, 19147.0, 19147.0, 19147.0, 19147.0, 19147.0, 19147.0, 19147.0, 19147.0, 19147.0, 19147.0, 19147.0, 19147.0, 19147.0, 19147.0, 19147.0, 19147.0, 19147.0, 19147.0, 19147.0, 19147.0, 19147.0, 19147.0, 19147.0, 19147.0, 19147.0, 19147.0, 19147.0, 19147.0, 19147.0, 19147.0, 19147.0, 19147.0, 19147.0, 19147.0, 19147.0, 19147.0, 19147.0, 19147.0, 19147.0, 19147.0, 19147.0, 19147.0, 19147.0, 19147.0, 19147.0, 19147.0, 19147.0, 19147.0, 19147.0, 19147.0, 19147.0, 19147.0, 19147.0, 19147.0, 19147.0, 19147.0, 19147.0, 19147.0, 19147.0, 19147.0, 19147.0, 19147.0, 19147.0, 19147.0, 19130.0, 19147.0, 19147.0, 19147.0, 19147.0, 19147.0, 19147.0, 19147.0, 19147.0, 19147.0, 19147.0, 19147.0, 19147.0, 19147.0, 19147.0, 19147.0, 19147.0, 19147.0, 19147.0, 19130.0, 19147.0, 19147.0, 19147.0, 19147.0, 19147.0, 19147.0, 19147.0, 19147.0, 19147.0, 19147.0, 19147.0, 19147.0, 19147.0, 19147.0, 19147.0, 19147.0, 19147.0, 19147.0, 19147.0, 19147.0, 19147.0, 19147.0, 19147.0, 19147.0, 19147.0, 19147.0, 19147.0, 19147.0, 19147.0, 19147.0, 19130.0, 19130.0, 19147.0, 19147.0, 19102.0, 19102.0, 19102.0, 19102.0, 19102.0, 19102.0, 19102.0, 19102.0, 19102.0, 19102.0, 19102.0, 19102.0, 19102.0, 19102.0, 19102.0, 19102.0, 19102.0, 19102.0, 19102.0, 19102.0, 19102.0, 19145.0, 19102.0, 19102.0, 19102.0, 19102.0, 19102.0, 19102.0, 19102.0, 19102.0, 19102.0, 19102.0, 19102.0, 19102.0, 19102.0, 19102.0, 19102.0, 19102.0, 19102.0, 19102.0, 19102.0, 19102.0, 19102.0, 19102.0, 19102.0, 19102.0, 19102.0, 19102.0, 19102.0, 19102.0, 19102.0, 19102.0, 19102.0, 19102.0, 19102.0, 19102.0, 19102.0, 19102.0, 19102.0, 19102.0, 19102.0, 19102.0, 19102.0, 19131.0, 19102.0, 19102.0, 19102.0, 19102.0, 19102.0, 19102.0, 19102.0, 19102.0, 19102.0, 19102.0, 19102.0, 19102.0, 19102.0, 19102.0, 19103.0, 19103.0, 19103.0, 19103.0, 19103.0, 19103.0, 19103.0, 19103.0, 19103.0, 19103.0, 19103.0, 19103.0, 19103.0, 19103.0, 19103.0, 19103.0, 19103.0, 19103.0, 19103.0, 19103.0, 19103.0, 19103.0, 19103.0, 19131.0, 19103.0, 19103.0, 19103.0, 19103.0, 19103.0, 19103.0, 19103.0, 19103.0, 19103.0, 19103.0, 19103.0, 19103.0, 19103.0, 19103.0, 19103.0, 19103.0, 19103.0, 19103.0, 19103.0, 19103.0, 19103.0, 19103.0, 19103.0, 19103.0, 19103.0, 19103.0, 19103.0, 19103.0, 19103.0, 19103.0, 19103.0, 19103.0, 19103.0, 19103.0, 19103.0, 19103.0, 19103.0, 19103.0, 19103.0, 19103.0, 19103.0, 19103.0, 19103.0, 19103.0, 19103.0, 19103.0, 19103.0, 19103.0, 19103.0, 19103.0, 19103.0, 19103.0, 19103.0, 19103.0, 19103.0, 19103.0, 19103.0, 19103.0, 19103.0, 19103.0, 19103.0, 19103.0, 19103.0, 19103.0, 19103.0, 19103.0, 19103.0, 19103.0, 19103.0, 19103.0, 19103.0, 19103.0, 19103.0, 19103.0, 19103.0, 19103.0, 19103.0, 19103.0, 19103.0, 19103.0, 19103.0, 19103.0, 19103.0, 19103.0, 19103.0, 19103.0, 19103.0, 19103.0, 19103.0, 19103.0, 19103.0, 19103.0, 19103.0, 19103.0, 19103.0, 19103.0, 19103.0, 19103.0, 19103.0, 19103.0, 19103.0, 19103.0, 19103.0, 19103.0, 19103.0, 19103.0, 19103.0, 19103.0, 19103.0, 19103.0, 19103.0, 19103.0, 19103.0, 19103.0, 19103.0, 19103.0, 19103.0, 19103.0, 19103.0, 19103.0, 19103.0, 19103.0, 19103.0, 19103.0, 19103.0, 19103.0, 19103.0, 19103.0, 19103.0, 19103.0, 19103.0, 19103.0, 19103.0, 19103.0, 19103.0, 19103.0, 19103.0, 19103.0, 19103.0, 19103.0, 19103.0, 19103.0, 19103.0, 19103.0, 19103.0, 19103.0, 19103.0, 19103.0, 19103.0, 19103.0, 19103.0, 19103.0, 19103.0, 19103.0, 19103.0, 19103.0, 19103.0, 19103.0, 19103.0, 19103.0, 19103.0, 19103.0, 19103.0, 19103.0, 19103.0, 19103.0, 19103.0, 19103.0, 19103.0, 19103.0, 19103.0, 19103.0, 19103.0, 19103.0, 19103.0, 19103.0, 19103.0, 19103.0, 19103.0, 19103.0, 19103.0, 19103.0, 19103.0, 19103.0, 19103.0, 19103.0, 19103.0, 19103.0, 19103.0, 19103.0, 19103.0, 19103.0, 19103.0, 19103.0, 19103.0, 19103.0, 19103.0, 19103.0, 19103.0, 19103.0, 19103.0, 19103.0, 19103.0, 19103.0, 19103.0, 19103.0, 19103.0, 19103.0, 19103.0, 19103.0, 19103.0, 19103.0, 19103.0, 19103.0, 19103.0, 19103.0, 19103.0, 19103.0, 19103.0, 19103.0, 19103.0, 19103.0, 19103.0, 19103.0, 19103.0, 19103.0, 19103.0, 19103.0, 19103.0, 19103.0, 19103.0, 19103.0, 19103.0, 19103.0, 19103.0, 19103.0, 19103.0, 19103.0, 19103.0, 19103.0, 19103.0, 19103.0, 19103.0, 19103.0, 19103.0, 19103.0, 19103.0, 19103.0, 19103.0, 19103.0, 19103.0, 19103.0, 19103.0, 19103.0, 19103.0, 19103.0, 19103.0, 19103.0, 19103.0, 19103.0, 19103.0, 19103.0, 19103.0, 19103.0, 19103.0, 19103.0, 19103.0, 19103.0, 19103.0, 19103.0, 19103.0, 19103.0, 19103.0, 19103.0, 19103.0, 19103.0, 19103.0, 19103.0, 19103.0, 19103.0, 19103.0, 19103.0, 19103.0, 19103.0, 19103.0, 19103.0, 19103.0, 19103.0, 19103.0, 19103.0, 19103.0, 19103.0, 19103.0, 19103.0, 19103.0, 19103.0, 19103.0, 19103.0, 19103.0, 19103.0, 19103.0, 19103.0, 19103.0, 19103.0, 19103.0, 19103.0, 19103.0, 19103.0, 19103.0, 19103.0, 19103.0, 19103.0, 19103.0, 19103.0, 19103.0, 19103.0, 19103.0, 19103.0, 19103.0, 19103.0, 19103.0, 19103.0, 19103.0, 19103.0, 19103.0, 19103.0, 19103.0, 19103.0, 19103.0, 19103.0, 19103.0, 19103.0, 19103.0, 19103.0, 19103.0, 19103.0, 19103.0, 19103.0, 19103.0, 19103.0, 19103.0, 19103.0, 19103.0, 19103.0, 19103.0, 19103.0, 19103.0, 19103.0, 19103.0, 19103.0, 19103.0, 19103.0, 19103.0, 19103.0, 19103.0, 19103.0, 19103.0, 19103.0, 19103.0, 19103.0, 19103.0, 19103.0, 19103.0, 19103.0, 19103.0, 19103.0, 19103.0, 19103.0, 19103.0, 19103.0, 19103.0, 19103.0, 19103.0, 19103.0, 19103.0, 19103.0, 19103.0, 19103.0, 19103.0, 19103.0, 19103.0, 19103.0, 19103.0, 19103.0, 19103.0, 19103.0, 19103.0, 19103.0, 19103.0, 19103.0, 19103.0, 19103.0, 19103.0, 19103.0, 19104.0, 19104.0, 19104.0, 19104.0, 19104.0, 19104.0, 19104.0, 19104.0, 19104.0, 19104.0, 19104.0, 19104.0, 19104.0, 19104.0, 19104.0, 19104.0, 19104.0, 19104.0, 19104.0, 19104.0, 19104.0, 19104.0, 19102.0, 19104.0, 19104.0, 19104.0, 19104.0, 19104.0, 19104.0, 19104.0, 19104.0, 19104.0, 19104.0, 19104.0, 19104.0, 19104.0, 19104.0, 19104.0, 19104.0, 19104.0, 19104.0, 19104.0, 19104.0, 19104.0, 19104.0, 19104.0, 19104.0, 19104.0, 19104.0, 19104.0, 19104.0, 19104.0, 19104.0, 19104.0, 19104.0, 19104.0, 19104.0, 19104.0, 19104.0, 19104.0, 19104.0, 19104.0, 19104.0, 19104.0, 19104.0, 19104.0, 19104.0, 19104.0, 19104.0, 19104.0, 19104.0, 19104.0, 19104.0, 19104.0, 19104.0, 19104.0, 19104.0, 19104.0, 19104.0, 19104.0, 19102.0, 19104.0, 19104.0, 19104.0, 19104.0, 19104.0, 19104.0, 19104.0, 19104.0, 19104.0, 19104.0, 19104.0, 19104.0, 19104.0, 19104.0, 19104.0, 19104.0, 19104.0, 19104.0, 19104.0, 19104.0, 19104.0, 19104.0, 19104.0, 19104.0, 19104.0, 19104.0, 19104.0, 19104.0, 19104.0, 19103.0, 19104.0, 19104.0, 19104.0, 19104.0, 19104.0, 19104.0, 19104.0, 19104.0, 19104.0, 19104.0, 19104.0, 19104.0, 19104.0, 19104.0, 19104.0, 19104.0, 19104.0, 19104.0, 19104.0, 19104.0, 19104.0, 19104.0, 19104.0, 19104.0, 19104.0, 19104.0, 19104.0, 19104.0, 19104.0, 19104.0, 19104.0, 19104.0, 19104.0, 19104.0, 19104.0, 19104.0, 19104.0, 19104.0, 19104.0, 19104.0, 19104.0, 19104.0, 19104.0, 19104.0, 19104.0, 19104.0, 19104.0, 19104.0, 19104.0, 19104.0, 19104.0, 19104.0, 19104.0, 19104.0, 19104.0, 19104.0, 19104.0, 19104.0, 19104.0, 19104.0, 19104.0, 19104.0, 19104.0, 19104.0, 19104.0, 19104.0, 19104.0, 19104.0, 19104.0, 19104.0, 19104.0, 19104.0, 19104.0, 19104.0, 19104.0, 19104.0, 19104.0, 19104.0, 19104.0, 19104.0, 19104.0, 19104.0, 19104.0, 19104.0, 19104.0, 19104.0, 19104.0, 19104.0, 19104.0, 19104.0, 19104.0, 19104.0, 19104.0, 19104.0, 19104.0, 19104.0, 19104.0, 19104.0, 19104.0, 19104.0, 19104.0, 19104.0, 19104.0, 19104.0, 19104.0, 19104.0, 19104.0, 19104.0, 19104.0, 19104.0, 19104.0, 19104.0, 19104.0, 19104.0, 19104.0, 19104.0, 19104.0, 19104.0, 19104.0, 19104.0, 19104.0, 19104.0, 19104.0, 19104.0, 19104.0, 19104.0, 19104.0, 19104.0, 19104.0, 19104.0, 19104.0, 19104.0, 19104.0, 19104.0, 19104.0, 19104.0, 19104.0, 19104.0, 19104.0, 19104.0, 19104.0, 19104.0, 19104.0, 19104.0, 19104.0, 19104.0, 19104.0, 19104.0, 19104.0, 19104.0, 19104.0, 19104.0, 19104.0, 19104.0, 19104.0, 19104.0, 19104.0, 19104.0, 19104.0, 19104.0, 19104.0, 19104.0, 19104.0, 19104.0, 19104.0, 19104.0, 19104.0, 19104.0, 19104.0, 19104.0, 19104.0, 19104.0, 19104.0, 19104.0, 19104.0, 19104.0, 19104.0, 19104.0, 19104.0, 19104.0, 19104.0, 19104.0, 19104.0, 19104.0, 19104.0, 19104.0, 19104.0, 19104.0, 19104.0, 19104.0, 19104.0, 19104.0, 19104.0, 19104.0, 19104.0, 19104.0, 19104.0, 19104.0, 19104.0, 19104.0, 19104.0, 19104.0, 19104.0, 19104.0, 19104.0, 19104.0, 19104.0, 19104.0, 19104.0, 19104.0, 19104.0, 19104.0, 19104.0, 19104.0, 19104.0, 19104.0, 19104.0, 19104.0, 19104.0, 19104.0, 19104.0, 19104.0, 19104.0, 19104.0, 19104.0, 19104.0, 19106.0, 19106.0, 19106.0, 19106.0, 19106.0, 19106.0, 19106.0, 19106.0, 19106.0, 19106.0, 19106.0, 19106.0, 19106.0, 19106.0, 19106.0, 19106.0, 19106.0, 19106.0, 19106.0, 19106.0, 19106.0, 19106.0, 19106.0, 19106.0, 19106.0, 19106.0, 19106.0, 19106.0, 19106.0, 19106.0, 19106.0, 19106.0, 19106.0, 19106.0, 19106.0, 19106.0, 19106.0, 19106.0, 19106.0, 19106.0, 19106.0, 19106.0, 19106.0, 19106.0, 19106.0, 19106.0, 19106.0, 19106.0, 19106.0, 19106.0, 19106.0, 19106.0, 19106.0, 19106.0, 19106.0, 19106.0, 19106.0, 19106.0, 19106.0, 19106.0, 19106.0, 19106.0, 19106.0, 19106.0, 19106.0, 19106.0, 19106.0, 19106.0, 19106.0, 19106.0, 19106.0, 19106.0, 19106.0, 19106.0, 19106.0, 19106.0, 19106.0, 19106.0, 19106.0, 19106.0, 19106.0, 19106.0, 19106.0, 19106.0, 19106.0, 19106.0, 19106.0, 19106.0, 19106.0, 19106.0, 19106.0, 19106.0, 19106.0, 19106.0, 19106.0, 19106.0, 19106.0, 19106.0, 19106.0, 19106.0, 19106.0, 19106.0, 19106.0, 19106.0, 19106.0, 19106.0, 19106.0, 19106.0, 19106.0, 19106.0, 19106.0, 19106.0, 19106.0, 19106.0, 19106.0, 19106.0, 19106.0, 19106.0, 19106.0, 19106.0, 19106.0, 19106.0, 19106.0, 19106.0, 19106.0, 19106.0, 19106.0, 19106.0, 19106.0, 19106.0, 19106.0, 19106.0, 19106.0, 19106.0, 19106.0, 19106.0, 19106.0, 19106.0, 19106.0, 19106.0, 19106.0, 19106.0, 19106.0, 19106.0, 19106.0, 19106.0, 19106.0, 19106.0, 19106.0, 19106.0, 19106.0, 19106.0, 19106.0, 19106.0, 19106.0, 19106.0, 19106.0, 19106.0, 19106.0, 19106.0, 19106.0, 19106.0, 19106.0, 19106.0, 19106.0, 19106.0, 19106.0, 19106.0, 19106.0, 19106.0, 19106.0, 19106.0, 19106.0, 19106.0, 19106.0, 19106.0, 19106.0, 19106.0, 19107.0, 19107.0, 19107.0, 19107.0, 19107.0, 19107.0, 19107.0, 19107.0, 19107.0, 19107.0, 19107.0, 19107.0, 19107.0, 19107.0, 19107.0, 19107.0, 19107.0, 19107.0, 19107.0, 19107.0, 19107.0, 19107.0, 19107.0, 19107.0, 19107.0, 19107.0, 19107.0, 19107.0, 19107.0, 19107.0, 19107.0, 19107.0, 19107.0, 19107.0, 19107.0, 19107.0, 19107.0, 19107.0, 19107.0, 19107.0, 19107.0, 19107.0, 19107.0, 19107.0, 19107.0, 19107.0, 19107.0, 19107.0, 19107.0, 19107.0, 19107.0, 19107.0, 19107.0, 19107.0, 19107.0, 19107.0, 19107.0, 19107.0, 19107.0, 19107.0, 19107.0, 19107.0, 19107.0, 19107.0, 19107.0, 19107.0, 19107.0, 19107.0, 19107.0, 19107.0, 19107.0, 19107.0, 19107.0, 19107.0, 19107.0, 19107.0, 19107.0, 19107.0, 19107.0, 19107.0, 19107.0, 19107.0, 19107.0, 19107.0, 19107.0, 19107.0, 19107.0, 19107.0, 19107.0, 19107.0, 19107.0, 19107.0, 19107.0, 19107.0, 19107.0, 19107.0, 19107.0, 19107.0, 19107.0, 19107.0, 19107.0, 19107.0, 19107.0, 19107.0, 19107.0, 19107.0, 19107.0, 19107.0, 19107.0, 19107.0, 19107.0, 19107.0, 19107.0, 19107.0, 19107.0, 19107.0, 19107.0, 19107.0, 19107.0, 19107.0, 19107.0, 19107.0, 19107.0, 19107.0, 19107.0, 19107.0, 19107.0, 19107.0, 19107.0, 19107.0, 19107.0, 19107.0, 19107.0, 19107.0, 19107.0, 19107.0, 19107.0, 19107.0, 19107.0, 19107.0, 19107.0, 19107.0, 19107.0, 19107.0, 19107.0, 19107.0, 19107.0, 19107.0, 19107.0, 19107.0, 19107.0, 19107.0, 19107.0, 19107.0, 19107.0, 19107.0, 19107.0, 19107.0, 19107.0, 19107.0, 19107.0, 19107.0, 19107.0, 19107.0, 19107.0, 19107.0, 19107.0, 19107.0, 19107.0, 19107.0, 19111.0, 19111.0, 19111.0, 19111.0, 19111.0, 19111.0, 19111.0, 19111.0, 19111.0, 19111.0, 19111.0, 19111.0, 19111.0, 19111.0, 19111.0, 19111.0, 19111.0, 19111.0, 19111.0, 19111.0, 19111.0, 19111.0, 19111.0, 19111.0, 19111.0, 19111.0, 19111.0, 19111.0, 19111.0, 19111.0, 19111.0, 19111.0, 19111.0, 19111.0, 19111.0, 19111.0, 19111.0, 19111.0, 19111.0, 19111.0, 19111.0, 19111.0, 19111.0, 19111.0, 19112.0, 19114.0, 19114.0, 19114.0, 19114.0, 19114.0, 19114.0, 19114.0, 19114.0, 19114.0, 19114.0, 19114.0, 19114.0, 19114.0, 19114.0, 19114.0, 19114.0, 19114.0, 19114.0, 19114.0, 19114.0, 19114.0, 19114.0, 19114.0, 19114.0, 19114.0, 19114.0, 19114.0, 19114.0, 19114.0, 19114.0, 19114.0, 19114.0, 19114.0, 19114.0, 19114.0, 19115.0, 19115.0, 19115.0, 19115.0, 19115.0, 19115.0, 19115.0, 19115.0, 19115.0, 19115.0, 19115.0, 19115.0, 19115.0, 19115.0, 19115.0, 19115.0, 19115.0, 19115.0, 19115.0, 19115.0, 19116.0, 19116.0, 19116.0, 19116.0, 19116.0, 19116.0, 19116.0, 19116.0, 19116.0, 19116.0, 19116.0, 19116.0, 19116.0, 19116.0, 19116.0, 19116.0, 19116.0, 19116.0, 19116.0, 19116.0, 19116.0, 19116.0, 19116.0, 19116.0, 19116.0, 19116.0, 19116.0, 19116.0, 19118.0, 19118.0, 19118.0, 19118.0, 19118.0, 19118.0, 19118.0, 19118.0, 19118.0, 19118.0, 19118.0, 19118.0, 19118.0, 19118.0, 19118.0, 19118.0, 19118.0, 19118.0, 19118.0, 19118.0, 19118.0, 19118.0, 19118.0, 19118.0, 19118.0, 19118.0, 19118.0, 19118.0, 19118.0, 19118.0, 19118.0, 19118.0, 19118.0, 19118.0, 19118.0, 19118.0, 19118.0, 19118.0, 19118.0, 19118.0, 19118.0, 19118.0, 19118.0, 19118.0, 19118.0, 19119.0, 19119.0, 19119.0, 19119.0, 19119.0, 19119.0, 19119.0, 19119.0, 19119.0, 19119.0, 19119.0, 19119.0, 19119.0, 19119.0, 19119.0, 19119.0, 19119.0, 19119.0, 19119.0, 19119.0, 19119.0, 19119.0, 19119.0, 19119.0, 19119.0, 19119.0, 19119.0, 19119.0, 19119.0, 19119.0, 19119.0, 19119.0, 19119.0, 19119.0, 19119.0, 19119.0, 19119.0, 19119.0, 19119.0, 19119.0, 19119.0, 19119.0, 19119.0, 19119.0, 19119.0, 19119.0, 19119.0, 19119.0, 19119.0, 19119.0, 19119.0, 19119.0, 19119.0, 19119.0, 19119.0, 19119.0, 19120.0, 19120.0, 19120.0, 19120.0, 19120.0, 19120.0, 19120.0, 19120.0, 19120.0, 19120.0, 19120.0, 19120.0, 18324.0, 18324.0, 18337.0, 18428.0, 18428.0, 18336.0, 18324.0, 18336.0, 18336.0, 18428.0, 18324.0, 18324.0, 18464.0, 18324.0, 18337.0, 18426.0, 18324.0, 18337.0, 18336.0, 18324.0, 18337.0, 18324.0, 18324.0, 18324.0, 18324.0, 18337.0, 18426.0, 18324.0, 18324.0, 18337.0, 18337.0, 18428.0, 18324.0, 18324.0, 18435.0, 18425.0, 18337.0, 18428.0, 18324.0, 18324.0, 18324.0, 18426.0, 18337.0, 18324.0, 18324.0, 18324.0, 18464.0, 18426.0, 18428.0, 18324.0, 18371.0, 18324.0, 18425.0, 18324.0, 18458.0, 18324.0, 18428.0, 18337.0, 18324.0, 18435.0, 18336.0, 18435.0, 18425.0, 18324.0, 18324.0, 18336.0, 18324.0, 18324.0, 18336.0, 18428.0, 18337.0, 18428.0, 18328.0, 18336.0, 18337.0, 18435.0, 18336.0, 18337.0, 18324.0, 18464.0, 18371.0, 18428.0, 18337.0, 18324.0, 18324.0, 18324.0, 18371.0, 16948.0, 16948.0, 17922.0, 17921.0, 17972.0, 17972.0, 17972.0, 17961.0, 17961.0, 17963.0, 17922.0, 17901.0, 17922.0, 17901.0, 18252.0, 17901.0, 17972.0, 17922.0, 17921.0, 17921.0, 18252.0, 17961.0, 17972.0, 17961.0, 17961.0, 18252.0, 18252.0, 17972.0, 17961.0, 17972.0, 17921.0, 18241.0, 17901.0, 17935.0, 17954.0, 17961.0, 17921.0, 17901.0, 17921.0, 17901.0, 17901.0, 18252.0, 17935.0, 17901.0, 17921.0, 17921.0, 17948.0, 17921.0, 17921.0, 17901.0, 18218.0, 17901.0, 17970.0, 18237.0, 17921.0, 17954.0, 17901.0, 17981.0, 18237.0, 17901.0, 17954.0, 17933.0, 17842.0, 17833.0, 17870.0, 17870.0, 15540.0, 15555.0, 15555.0, 15501.0, 15501.0, 15555.0, 15501.0, 15501.0, 15501.0, 15501.0, 15501.0, 15501.0, 15501.0, 15501.0, 15501.0, 15963.0, 15501.0, 15501.0, 15963.0, 15501.0, 15501.0, 15501.0, 15501.0, 15501.0, 15501.0, 15501.0, 15963.0, 15501.0, 15501.0, 15501.0, 15501.0, 15501.0, 15501.0, 15501.0, 15963.0, 15501.0, 15501.0, 15501.0, 15555.0, 15501.0, 15530.0, 15501.0, 15501.0, 15501.0, 18847.0, 18421.0, 18824.0, 18818.0, 18421.0, 18834.0, 18421.0, 18465.0, 18801.0, 18812.0, 18834.0, 18801.0, 18801.0, 18818.0, 18801.0, 18812.0, 16942.0, 16912.0, 16938.0, 16933.0, 16938.0, 16933.0, 16936.0, 16946.0, 16933.0, 16901.0, 16933.0, 16933.0, 16933.0, 16933.0, 16929.0, 16933.0, 16938.0, 16901.0, 16901.0, 16938.0, 16901.0, 16901.0, 16901.0, 16935.0, 16933.0, 16901.0, 16901.0, 16901.0, 16901.0, 16917.0, 16933.0, 16901.0, 16933.0, 16935.0, 16901.0, 16901.0, 16901.0, 16901.0, 16901.0, 16901.0, 16933.0, 16933.0, 16901.0, 16928.0, 16933.0, 17837.0, 17855.0, 17837.0, 17845.0, 17837.0, 17837.0, 17837.0, 17855.0, 17837.0, 17837.0, 17837.0, 17837.0, 17837.0, 17837.0, 16352.0, 16371.0, 16365.0, 16365.0, 15301.0, 15301.0, 15301.0, 15329.0, 15317.0, 15301.0, 15317.0, 15317.0, 15317.0, 15419.0, 15311.0, 15361.0, 15301.0, 15317.0, 15317.0, 15301.0, 15301.0, 15317.0, 15350.0, 15301.0, 15301.0, 15317.0, 15367.0, 15419.0, 15317.0, 15317.0, 15301.0, 15301.0, 15330.0, 15367.0, 15347.0, 15317.0, 15419.0, 15317.0, 15342.0, 15342.0, 15301.0, 15317.0, 15301.0, 15301.0, 15317.0, 15301.0, 15317.0, 15021.0, 15367.0, 15347.0, 15301.0, 15317.0, 15317.0, 15350.0, 15342.0, 15419.0, 15342.0, 15367.0, 15301.0, 15367.0, 15301.0, 15317.0, 15317.0, 15301.0, 15301.0, 15367.0, 15317.0, 15317.0, 15301.0, 15367.0, 15301.0, 15301.0, 15317.0, 15314.0, 15419.0, 15367.0, 15331.0, 15301.0, 15317.0, 15317.0, 15367.0, 15301.0, 15301.0, 15317.0, 15317.0, 15317.0, 15317.0, 15317.0, 15301.0, 15301.0, 15301.0, 15301.0, 15317.0, 15301.0, 15331.0, 15342.0, 15317.0, 15321.0, 15317.0, 15055.0, 15363.0, 15301.0, 15063.0, 15301.0, 15033.0, 15342.0, 15419.0, 15367.0, 15317.0, 15067.0, 15301.0, 15301.0, 15055.0, 15301.0, 15419.0, 15301.0, 15057.0, 15301.0, 15301.0, 15301.0, 15358.0, 15317.0, 15317.0, 15301.0, 15057.0, 15301.0, 15317.0, 15055.0, 15057.0, 15301.0, 15301.0, 15368.0, 15317.0, 15317.0, 15301.0, 15301.0, 15317.0, 15301.0, 15419.0, 15301.0, 15053.0, 15331.0, 15022.0, 15477.0, 15317.0, 15057.0, 15022.0, 15367.0, 15301.0, 15317.0, 15301.0, 15317.0, 15301.0, 15057.0, 15022.0, 15301.0, 15301.0, 15301.0, 15317.0, 18469.0, 18436.0, 18460.0, 18436.0, 18436.0, 18436.0, 18436.0, 18445.0, 18445.0, 18427.0, 18424.0, 18436.0, 18472.0, 18445.0, 18424.0, 18436.0, 18436.0, 18424.0, 18427.0, 18436.0, 18438.0, 18424.0, 18431.0, 18436.0, 18424.0, 18424.0, 18438.0, 18436.0, 18424.0, 18424.0, 18436.0, 18436.0, 18424.0, 18424.0, 18436.0, 18436.0, 18424.0, 18436.0, 18424.0, 18424.0, 18431.0, 18424.0, 18415.0, 18424.0, 18424.0, 18405.0, 18431.0, 18424.0, 18405.0, 15647.0, 15601.0, 15642.0, 15068.0, 15601.0, 15647.0, 15601.0, 15697.0, 15668.0, 15601.0, 15601.0, 15601.0, 15697.0, 15650.0, 15601.0, 15601.0, 15068.0, 15635.0, 15627.0, 15642.0, 15068.0, 15601.0, 15668.0, 15642.0, 15642.0, 15697.0, 15668.0, 15668.0, 15601.0, 15062.0, 15626.0, 15601.0, 15601.0, 15601.0, 15642.0, 15697.0, 15626.0, 15642.0, 15626.0, 15642.0, 15642.0, 15642.0, 15644.0, 15062.0, 15642.0, 15642.0, 15697.0, 15601.0, 15601.0, 15601.0, 15601.0, 15668.0, 15658.0, 15644.0, 15644.0, 15672.0, 15622.0, 15642.0, 15642.0, 15626.0, 15601.0, 15068.0, 15644.0, 15668.0, 15644.0, 15644.0, 15658.0, 15666.0, 15666.0, 15601.0, 15068.0, 15068.0, 15068.0, 15644.0, 15644.0, 15068.0, 15634.0, 15644.0, 15601.0, 15085.0, 15675.0, 15644.0, 15644.0, 15068.0, 15068.0, 15068.0, 15672.0, 15601.0, 15666.0, 18657.0, 18446.0, 18419.0, 18657.0, 18657.0, 18446.0, 18657.0, 18657.0, 18446.0, 18657.0, 18657.0, 18446.0, 18446.0, 17401.0, 17327.0, 17331.0, 17403.0, 17401.0, 17349.0, 17315.0, 17404.0, 17313.0, 17401.0, 17331.0, 17331.0, 17401.0, 17404.0, 17331.0, 17403.0, 17402.0, 17402.0, 17402.0, 17403.0, 17404.0, 17403.0, 17404.0, 17331.0, 17406.0, 17404.0, 17408.0, 17401.0, 17404.0, 17403.0, 17361.0, 17339.0, 17404.0, 17349.0, 17402.0, 17315.0, 17408.0, 17404.0, 17401.0, 17331.0, 17315.0, 17401.0, 17401.0, 17404.0, 17313.0, 17315.0, 17331.0, 17349.0, 17401.0, 17403.0, 17402.0, 17362.0, 17403.0, 17331.0, 17331.0, 17403.0, 17403.0, 17349.0, 17402.0, 17403.0, 17408.0, 17401.0, 17404.0, 17402.0, 17313.0, 17313.0, 17403.0, 17347.0, 17402.0, 17408.0, 17401.0, 17403.0, 17404.0, 17406.0, 17404.0, 17401.0, 17349.0, 17404.0, 17327.0, 17402.0, 17331.0, 17406.0, 17406.0, 17315.0, 17331.0, 17403.0, 17360.0, 17406.0, 17401.0, 17313.0, 17403.0, 17331.0, 17404.0, 17313.0, 17402.0, 17404.0, 17339.0, 17403.0, 17331.0, 17402.0, 17313.0, 17349.0, 17402.0, 17401.0, 17401.0, 17361.0, 17403.0, 17403.0, 17404.0, 17401.0, 17313.0, 17313.0, 17363.0, 17404.0, 17331.0, 17401.0, 17362.0, 17362.0, 17408.0, 17404.0, 17313.0, 17315.0, 17408.0, 17406.0, 17401.0, 17401.0, 17403.0, 17331.0, 17401.0, 17362.0, 17345.0, 17401.0, 17404.0, 17402.0, 17401.0, 17401.0, 17315.0, 17401.0, 17401.0, 17313.0, 17408.0, 17401.0, 17313.0, 17406.0, 17408.0, 17401.0, 17402.0, 17404.0, 17401.0, 17331.0, 17404.0, 17347.0, 17402.0, 17401.0, 17403.0, 17404.0, 17403.0, 17349.0, 17404.0, 17401.0, 17401.0, 17408.0, 17331.0, 17404.0, 17363.0, 17019.0, 17401.0, 17361.0, 17315.0, 17404.0, 17403.0, 17356.0, 17403.0, 17401.0, 17331.0, 17402.0, 17365.0, 17403.0, 17331.0, 17401.0, 17019.0, 17313.0, 17404.0, 17401.0, 17331.0, 17403.0, 17331.0, 17404.0, 17331.0, 17404.0, 17403.0, 17363.0, 17363.0, 17401.0, 17019.0, 17406.0, 17404.0, 17331.0, 17403.0, 17404.0, 17401.0, 17408.0, 17315.0, 17404.0, 17402.0, 17403.0, 17319.0, 17319.0, 17408.0, 17319.0, 17406.0, 17019.0, 17401.0, 17361.0, 17331.0, 17406.0, 17404.0, 17403.0, 17403.0, 17404.0, 17313.0, 17401.0, 17403.0, 17401.0, 17331.0, 17401.0, 17401.0, 17331.0, 17406.0, 17401.0, 17404.0, 17361.0, 17327.0, 17360.0, 17327.0, 17402.0, 17401.0, 17401.0, 17401.0, 17315.0, 17408.0, 17406.0, 17402.0, 17408.0, 17408.0, 17363.0, 17408.0, 17363.0, 17404.0, 17401.0, 17331.0, 17401.0, 17404.0, 17402.0, 17401.0, 17408.0, 17331.0, 17404.0, 17019.0, 17401.0, 17331.0, 17401.0, 17019.0, 17361.0, 17404.0, 17408.0, 17331.0, 17331.0, 17327.0, 17327.0, 17401.0, 17401.0, 17403.0, 17331.0, 17401.0, 17403.0, 17401.0, 17401.0, 17402.0, 17361.0, 17331.0, 17356.0, 17402.0, 17404.0, 17406.0, 17363.0, 17331.0, 17404.0, 17401.0, 17403.0, 17331.0, 17401.0, 17406.0, 17331.0, 17404.0, 17408.0, 17406.0, 17403.0, 17401.0, 17368.0, 17368.0, 17319.0, 17331.0, 17345.0, 17404.0, 17331.0, 17403.0, 17402.0, 17402.0, 17327.0, 17401.0, 17327.0, 17366.0, 17403.0, 17401.0, 17403.0, 17403.0, 17408.0, 17403.0, 17401.0, 17401.0, 17403.0, 17408.0, 17404.0, 17408.0, 17347.0, 17404.0, 17401.0, 17403.0, 17362.0, 17402.0, 17315.0, 17406.0, 17402.0, 17345.0, 17331.0, 17401.0, 17331.0, 17404.0, 17403.0, 17406.0, 17345.0, 17356.0, 17331.0, 17401.0, 17403.0, 17403.0, 17408.0, 17404.0, 17404.0, 17404.0, 17356.0, 17363.0, 17408.0, 17408.0, 17331.0, 17404.0, 17368.0, 17302.0, 17331.0, 17331.0, 17404.0, 17402.0, 17404.0, 17401.0, 17356.0, 17331.0, 17401.0, 17356.0, 17408.0, 17322.0, 17404.0, 17356.0, 17402.0, 17404.0, 17368.0, 17403.0, 17401.0, 17327.0, 17327.0, 17406.0, 17403.0, 17331.0, 17319.0, 17363.0, 17403.0, 17322.0, 17403.0, 17362.0, 17362.0, 17362.0, 17403.0, 17402.0, 17404.0, 17402.0, 17319.0, 17363.0, 17403.0, 17403.0, 17408.0, 17408.0, 17403.0, 17401.0, 17407.0, 17401.0, 17401.0, 17402.0, 17403.0, 17402.0, 17404.0, 17356.0, 17404.0, 17356.0, 17402.0, 17401.0, 17368.0, 17364.0, 17402.0, 17404.0, 17404.0, 17408.0, 17401.0, 17404.0, 17403.0, 17331.0, 17401.0, 17402.0, 17401.0, 17403.0, 17406.0, 17402.0, 17406.0, 17366.0, 17403.0, 17368.0, 17404.0, 17404.0, 17403.0, 17345.0, 17401.0, 17331.0, 17404.0, 17402.0, 17408.0, 17404.0, 17408.0, 17331.0, 17356.0, 17362.0, 17314.0, 17319.0, 17401.0, 17404.0, 17331.0, 17401.0, 17319.0, 17319.0, 17404.0, 17408.0, 17404.0, 17406.0, 17408.0, 17331.0, 17356.0, 17356.0, 17356.0, 17331.0, 17314.0, 17322.0, 17362.0, 17370.0, 17404.0, 17331.0, 17404.0, 17404.0, 17356.0, 17315.0, 17404.0, 17406.0, 17401.0, 17368.0, 17401.0, 17401.0, 17331.0, 17319.0, 17403.0, 17404.0, 17408.0, 17403.0, 17331.0, 17322.0, 17402.0, 17331.0, 17331.0, 17401.0, 17406.0, 17356.0, 17404.0, 17331.0, 17402.0, 17401.0, 17331.0, 17401.0, 17403.0, 17403.0, 17401.0, 17401.0, 17403.0, 17331.0, 17401.0, 17402.0, 17403.0, 17401.0, 17370.0, 17404.0, 17331.0, 17401.0, 17401.0, 17408.0, 17403.0, 17408.0, 17356.0, 17331.0, 17406.0, 17314.0, 17331.0, 17402.0, 17362.0, 17401.0, 17406.0, 17403.0, 17345.0, 17401.0, 17356.0, 17403.0, 17331.0, 17314.0, 17408.0, 17404.0, 17403.0, 17403.0, 17408.0, 17403.0, 17404.0, 17401.0, 17403.0, 17406.0, 17403.0, 17370.0, 17403.0, 17401.0, 17331.0]\n"
          ],
          "name": "stdout"
        }
      ]
    },
    {
      "cell_type": "code",
      "metadata": {
        "id": "2sDth6tTThKb",
        "colab_type": "code",
        "outputId": "7152842d-b01c-4165-de1d-cd13d45313c1",
        "colab": {
          "base_uri": "https://localhost:8080/",
          "height": 34
        }
      },
      "source": [
        "tips_df.npartitions"
      ],
      "execution_count": 0,
      "outputs": [
        {
          "output_type": "execute_result",
          "data": {
            "text/plain": [
              "1"
            ]
          },
          "metadata": {
            "tags": []
          },
          "execution_count": 17
        }
      ]
    },
    {
      "cell_type": "code",
      "metadata": {
        "id": "zTeWco4ZTp8Y",
        "colab_type": "code",
        "outputId": "1e24161f-d78c-4f1a-e228-6959bab0a04f",
        "colab": {
          "base_uri": "https://localhost:8080/",
          "height": 34
        }
      },
      "source": [
        "tips_df.divisions"
      ],
      "execution_count": 0,
      "outputs": [
        {
          "output_type": "execute_result",
          "data": {
            "text/plain": [
              "(None, None)"
            ]
          },
          "metadata": {
            "tags": []
          },
          "execution_count": 29
        }
      ]
    },
    {
      "cell_type": "code",
      "metadata": {
        "id": "CZloJ_FfFl4r",
        "colab_type": "code",
        "outputId": "5db9737a-a54b-44ee-c089-5a21b9f3d23e",
        "colab": {
          "base_uri": "https://localhost:8080/",
          "height": 185
        }
      },
      "source": [
        "tips_df.columns"
      ],
      "execution_count": 0,
      "outputs": [
        {
          "output_type": "execute_result",
          "data": {
            "text/plain": [
              "Index(['county', 'city', 'zipcode', 'address', 'state', 'rent', 'latitude',\n",
              "       'longitude', 'cemetery_dist_miles', 'nationalhighway_miles',\n",
              "       'railline_miles', 'starbucks_miles', 'walmart_miles', 'hospital_miles',\n",
              "       'physician_dist_miles', 'dentist_dist_miles', 'opt_dist_miles',\n",
              "       'vet_dist_miles', 'farmers_miles', 'time', 'bed', 'bath', 'halfbath',\n",
              "       'sqft', 'property_type', 'garage', 'yearbuilt', 'pool', 'fireplace',\n",
              "       'patio', 'lotsize', 'Census_MedianIncome', 'CollegeGrads',\n",
              "       'WhiteCollar', 'Schools', 'Unemployment', 'EmploymentDiversity',\n",
              "       'Census_Vacancy', 'Crime_Rate', 'HomePrice'],\n",
              "      dtype='object')"
            ]
          },
          "metadata": {
            "tags": []
          },
          "execution_count": 18
        }
      ]
    },
    {
      "cell_type": "code",
      "metadata": {
        "id": "kuaNPd4aFl1c",
        "colab_type": "code",
        "outputId": "8071acf3-8a28-4caa-a56d-00f1fdad5318",
        "colab": {
          "base_uri": "https://localhost:8080/",
          "height": 34
        }
      },
      "source": [
        "tips_df[tips_df.yearbuilt.isna()].compute().shape"
      ],
      "execution_count": 0,
      "outputs": [
        {
          "output_type": "execute_result",
          "data": {
            "text/plain": [
              "(0, 40)"
            ]
          },
          "metadata": {
            "tags": []
          },
          "execution_count": 25
        }
      ]
    },
    {
      "cell_type": "code",
      "metadata": {
        "id": "K1B-8T7FFlyd",
        "colab_type": "code",
        "outputId": "fcdd5b1d-41cf-41e8-f107-498a3066ef9a",
        "colab": {
          "base_uri": "https://localhost:8080/",
          "height": 190
        }
      },
      "source": [
        "tips_df.set_index(\"yearbuilt\")"
      ],
      "execution_count": 0,
      "outputs": [
        {
          "output_type": "execute_result",
          "data": {
            "text/html": [
              "<div><strong>Dask DataFrame Structure:</strong></div>\n",
              "<div>\n",
              "<style scoped>\n",
              "    .dataframe tbody tr th:only-of-type {\n",
              "        vertical-align: middle;\n",
              "    }\n",
              "\n",
              "    .dataframe tbody tr th {\n",
              "        vertical-align: top;\n",
              "    }\n",
              "\n",
              "    .dataframe thead th {\n",
              "        text-align: right;\n",
              "    }\n",
              "</style>\n",
              "<table border=\"1\" class=\"dataframe\">\n",
              "  <thead>\n",
              "    <tr style=\"text-align: right;\">\n",
              "      <th></th>\n",
              "      <th>county</th>\n",
              "      <th>city</th>\n",
              "      <th>zipcode</th>\n",
              "      <th>address</th>\n",
              "      <th>state</th>\n",
              "      <th>rent</th>\n",
              "      <th>latitude</th>\n",
              "      <th>longitude</th>\n",
              "      <th>cemetery_dist_miles</th>\n",
              "      <th>nationalhighway_miles</th>\n",
              "      <th>railline_miles</th>\n",
              "      <th>starbucks_miles</th>\n",
              "      <th>walmart_miles</th>\n",
              "      <th>hospital_miles</th>\n",
              "      <th>physician_dist_miles</th>\n",
              "      <th>dentist_dist_miles</th>\n",
              "      <th>opt_dist_miles</th>\n",
              "      <th>vet_dist_miles</th>\n",
              "      <th>farmers_miles</th>\n",
              "      <th>time</th>\n",
              "      <th>bed</th>\n",
              "      <th>bath</th>\n",
              "      <th>halfbath</th>\n",
              "      <th>sqft</th>\n",
              "      <th>property_type</th>\n",
              "      <th>garage</th>\n",
              "      <th>pool</th>\n",
              "      <th>fireplace</th>\n",
              "      <th>patio</th>\n",
              "      <th>lotsize</th>\n",
              "      <th>Census_MedianIncome</th>\n",
              "      <th>CollegeGrads</th>\n",
              "      <th>WhiteCollar</th>\n",
              "      <th>Schools</th>\n",
              "      <th>Unemployment</th>\n",
              "      <th>EmploymentDiversity</th>\n",
              "      <th>Census_Vacancy</th>\n",
              "      <th>Crime_Rate</th>\n",
              "      <th>HomePrice</th>\n",
              "    </tr>\n",
              "    <tr>\n",
              "      <th>npartitions=1</th>\n",
              "      <th></th>\n",
              "      <th></th>\n",
              "      <th></th>\n",
              "      <th></th>\n",
              "      <th></th>\n",
              "      <th></th>\n",
              "      <th></th>\n",
              "      <th></th>\n",
              "      <th></th>\n",
              "      <th></th>\n",
              "      <th></th>\n",
              "      <th></th>\n",
              "      <th></th>\n",
              "      <th></th>\n",
              "      <th></th>\n",
              "      <th></th>\n",
              "      <th></th>\n",
              "      <th></th>\n",
              "      <th></th>\n",
              "      <th></th>\n",
              "      <th></th>\n",
              "      <th></th>\n",
              "      <th></th>\n",
              "      <th></th>\n",
              "      <th></th>\n",
              "      <th></th>\n",
              "      <th></th>\n",
              "      <th></th>\n",
              "      <th></th>\n",
              "      <th></th>\n",
              "      <th></th>\n",
              "      <th></th>\n",
              "      <th></th>\n",
              "      <th></th>\n",
              "      <th></th>\n",
              "      <th></th>\n",
              "      <th></th>\n",
              "      <th></th>\n",
              "      <th></th>\n",
              "    </tr>\n",
              "  </thead>\n",
              "  <tbody>\n",
              "    <tr>\n",
              "      <th>1800.0</th>\n",
              "      <td>object</td>\n",
              "      <td>object</td>\n",
              "      <td>float64</td>\n",
              "      <td>object</td>\n",
              "      <td>object</td>\n",
              "      <td>float64</td>\n",
              "      <td>float64</td>\n",
              "      <td>float64</td>\n",
              "      <td>float64</td>\n",
              "      <td>float64</td>\n",
              "      <td>float64</td>\n",
              "      <td>float64</td>\n",
              "      <td>float64</td>\n",
              "      <td>float64</td>\n",
              "      <td>float64</td>\n",
              "      <td>float64</td>\n",
              "      <td>float64</td>\n",
              "      <td>float64</td>\n",
              "      <td>float64</td>\n",
              "      <td>float64</td>\n",
              "      <td>float64</td>\n",
              "      <td>float64</td>\n",
              "      <td>float64</td>\n",
              "      <td>float64</td>\n",
              "      <td>object</td>\n",
              "      <td>float64</td>\n",
              "      <td>float64</td>\n",
              "      <td>float64</td>\n",
              "      <td>float64</td>\n",
              "      <td>float64</td>\n",
              "      <td>float64</td>\n",
              "      <td>float64</td>\n",
              "      <td>float64</td>\n",
              "      <td>float64</td>\n",
              "      <td>float64</td>\n",
              "      <td>float64</td>\n",
              "      <td>float64</td>\n",
              "      <td>float64</td>\n",
              "      <td>float64</td>\n",
              "    </tr>\n",
              "    <tr>\n",
              "      <th>2016.0</th>\n",
              "      <td>...</td>\n",
              "      <td>...</td>\n",
              "      <td>...</td>\n",
              "      <td>...</td>\n",
              "      <td>...</td>\n",
              "      <td>...</td>\n",
              "      <td>...</td>\n",
              "      <td>...</td>\n",
              "      <td>...</td>\n",
              "      <td>...</td>\n",
              "      <td>...</td>\n",
              "      <td>...</td>\n",
              "      <td>...</td>\n",
              "      <td>...</td>\n",
              "      <td>...</td>\n",
              "      <td>...</td>\n",
              "      <td>...</td>\n",
              "      <td>...</td>\n",
              "      <td>...</td>\n",
              "      <td>...</td>\n",
              "      <td>...</td>\n",
              "      <td>...</td>\n",
              "      <td>...</td>\n",
              "      <td>...</td>\n",
              "      <td>...</td>\n",
              "      <td>...</td>\n",
              "      <td>...</td>\n",
              "      <td>...</td>\n",
              "      <td>...</td>\n",
              "      <td>...</td>\n",
              "      <td>...</td>\n",
              "      <td>...</td>\n",
              "      <td>...</td>\n",
              "      <td>...</td>\n",
              "      <td>...</td>\n",
              "      <td>...</td>\n",
              "      <td>...</td>\n",
              "      <td>...</td>\n",
              "      <td>...</td>\n",
              "    </tr>\n",
              "  </tbody>\n",
              "</table>\n",
              "</div>\n",
              "<div>Dask Name: sort_index, 5 tasks</div>"
            ],
            "text/plain": [
              "Dask DataFrame Structure:\n",
              "               county    city  zipcode address   state     rent latitude longitude cemetery_dist_miles nationalhighway_miles railline_miles starbucks_miles walmart_miles hospital_miles physician_dist_miles dentist_dist_miles opt_dist_miles vet_dist_miles farmers_miles     time      bed     bath halfbath     sqft property_type   garage     pool fireplace    patio  lotsize Census_MedianIncome CollegeGrads WhiteCollar  Schools Unemployment EmploymentDiversity Census_Vacancy Crime_Rate HomePrice\n",
              "npartitions=1                                                                                                                                                                                                                                                                                                                                                                                                                                                                                                   \n",
              "1800.0         object  object  float64  object  object  float64  float64   float64             float64               float64        float64         float64       float64        float64              float64            float64        float64        float64       float64  float64  float64  float64  float64  float64        object  float64  float64   float64  float64  float64             float64      float64     float64  float64      float64             float64        float64    float64   float64\n",
              "2016.0            ...     ...      ...     ...     ...      ...      ...       ...                 ...                   ...            ...             ...           ...            ...                  ...                ...            ...            ...           ...      ...      ...      ...      ...      ...           ...      ...      ...       ...      ...      ...                 ...          ...         ...      ...          ...                 ...            ...        ...       ...\n",
              "Dask Name: sort_index, 5 tasks"
            ]
          },
          "metadata": {
            "tags": []
          },
          "execution_count": 26
        }
      ]
    },
    {
      "cell_type": "code",
      "metadata": {
        "id": "S0PbKy-JFlvh",
        "colab_type": "code",
        "outputId": "64f3fc6b-5069-4a3c-bd10-8da14d5c73d3",
        "colab": {
          "base_uri": "https://localhost:8080/",
          "height": 34
        }
      },
      "source": [
        "tips_df.npartitions"
      ],
      "execution_count": 0,
      "outputs": [
        {
          "output_type": "execute_result",
          "data": {
            "text/plain": [
              "1"
            ]
          },
          "metadata": {
            "tags": []
          },
          "execution_count": 27
        }
      ]
    },
    {
      "cell_type": "code",
      "metadata": {
        "id": "H_ziwWmOFlsu",
        "colab_type": "code",
        "outputId": "efd2b578-3526-4b63-c782-79396b9e4776",
        "colab": {
          "base_uri": "https://localhost:8080/",
          "height": 34
        }
      },
      "source": [
        "tips_df.divisions"
      ],
      "execution_count": 0,
      "outputs": [
        {
          "output_type": "execute_result",
          "data": {
            "text/plain": [
              "(None, None)"
            ]
          },
          "metadata": {
            "tags": []
          },
          "execution_count": 28
        }
      ]
    },
    {
      "cell_type": "code",
      "metadata": {
        "id": "EU5wsgdpFlp-",
        "colab_type": "code",
        "colab": {}
      },
      "source": [
        "tips_df= tips_df.repartition(npartitions=4)"
      ],
      "execution_count": 0,
      "outputs": []
    },
    {
      "cell_type": "code",
      "metadata": {
        "id": "2X2EOzzJFlmu",
        "colab_type": "code",
        "outputId": "4e83cd16-66c3-4392-9574-1dc21a18bf14",
        "colab": {
          "base_uri": "https://localhost:8080/",
          "height": 34
        }
      },
      "source": [
        "tips_df.npartitions"
      ],
      "execution_count": 0,
      "outputs": [
        {
          "output_type": "execute_result",
          "data": {
            "text/plain": [
              "4"
            ]
          },
          "metadata": {
            "tags": []
          },
          "execution_count": 38
        }
      ]
    },
    {
      "cell_type": "markdown",
      "metadata": {
        "id": "uNICzorc6O7I",
        "colab_type": "text"
      },
      "source": [
        "Some Readings:\n",
        "* https://docs.dask.org/en/latest/why.html\n",
        "* https://hub.gke.mybinder.org/user/dask-dask-examples-vfc23dy2/lab\n",
        "* https://www.youtube.com/watch?v=ods97a5Pzw0\n",
        "\n",
        "Awesome Article: https://docs.dask.org/en/latest/spark.html\n",
        "\n",
        "\n",
        "Above articles tell you about how DASK and SPARK are related and How PySpark and Dask distributed can be compared !!!\n",
        "\n",
        "But the one below shows the awesome speed factor compared to that of SPARK\n",
        "\n",
        "https://docs.dask.org/en/latest/gpu.html"
      ]
    },
    {
      "cell_type": "code",
      "metadata": {
        "id": "u98xTRLYFlj2",
        "colab_type": "code",
        "colab": {}
      },
      "source": [
        ""
      ],
      "execution_count": 0,
      "outputs": []
    },
    {
      "cell_type": "code",
      "metadata": {
        "id": "vQMddlpbFlg7",
        "colab_type": "code",
        "colab": {}
      },
      "source": [
        ""
      ],
      "execution_count": 0,
      "outputs": []
    },
    {
      "cell_type": "code",
      "metadata": {
        "id": "9leqYlxwFld4",
        "colab_type": "code",
        "colab": {}
      },
      "source": [
        ""
      ],
      "execution_count": 0,
      "outputs": []
    },
    {
      "cell_type": "code",
      "metadata": {
        "id": "vWrv8CVuFlYm",
        "colab_type": "code",
        "colab": {}
      },
      "source": [
        ""
      ],
      "execution_count": 0,
      "outputs": []
    },
    {
      "cell_type": "code",
      "metadata": {
        "id": "Jxn1UGELFlQy",
        "colab_type": "code",
        "colab": {}
      },
      "source": [
        ""
      ],
      "execution_count": 0,
      "outputs": []
    },
    {
      "cell_type": "code",
      "metadata": {
        "id": "wiE7IUPHFlFI",
        "colab_type": "code",
        "colab": {}
      },
      "source": [
        ""
      ],
      "execution_count": 0,
      "outputs": []
    },
    {
      "cell_type": "code",
      "metadata": {
        "id": "zxC_KZaMFk3H",
        "colab_type": "code",
        "colab": {}
      },
      "source": [
        ""
      ],
      "execution_count": 0,
      "outputs": []
    },
    {
      "cell_type": "markdown",
      "metadata": {
        "id": "Dlsyk9m9NN2K",
        "colab_type": "text"
      },
      "source": [
        "# Next Steps #\n",
        "\n",
        "For an overview of how you can access and work with your own datasets in Colab, check out [this guide](https://towardsdatascience.com/3-ways-to-load-csv-files-into-colab-7c14fcbdcb92).\n",
        "\n",
        "For more RAPIDS examples, check out our RAPIDS notebooks repos:\n",
        "1. https://github.com/rapidsai/notebooks\n",
        "2. https://github.com/rapidsai/notebooks-extended"
      ]
    }
  ]
}