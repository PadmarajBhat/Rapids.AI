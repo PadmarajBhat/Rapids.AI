{
  "nbformat": 4,
  "nbformat_minor": 0,
  "metadata": {
    "colab": {
      "name": "rapids-colab.ipynb",
      "version": "0.3.2",
      "provenance": [],
      "collapsed_sections": [],
      "include_colab_link": true
    },
    "kernelspec": {
      "name": "python3",
      "display_name": "Python 3"
    },
    "accelerator": "GPU"
  },
  "cells": [
    {
      "cell_type": "markdown",
      "metadata": {
        "id": "view-in-github",
        "colab_type": "text"
      },
      "source": [
        "<a href=\"https://colab.research.google.com/github/PadmarajBhat/Rapids.AI/blob/master/rapids_colab.ipynb\" target=\"_parent\"><img src=\"https://colab.research.google.com/assets/colab-badge.svg\" alt=\"Open In Colab\"/></a>"
      ]
    },
    {
      "cell_type": "markdown",
      "metadata": {
        "id": "scfLT2i0MLyD",
        "colab_type": "text"
      },
      "source": [
        "# Environment Sanity Check #\n",
        "\n",
        "Click the _Runtime_ dropdown at the top of the page, then _Change Runtime Type_ and confirm the instance type is _GPU_.\n",
        "\n",
        "Check the output of `!nvidia-smi` to make sure you've been allocated a Tesla T4."
      ]
    },
    {
      "cell_type": "code",
      "metadata": {
        "id": "B0C8IV5TQnjN",
        "colab_type": "code",
        "outputId": "f24cef66-7ef8-4314-bb06-4c7c86023d09",
        "colab": {
          "base_uri": "https://localhost:8080/",
          "height": 302
        }
      },
      "source": [
        "!nvidia-smi"
      ],
      "execution_count": 1,
      "outputs": [
        {
          "output_type": "stream",
          "text": [
            "Fri Jul 19 15:18:27 2019       \n",
            "+-----------------------------------------------------------------------------+\n",
            "| NVIDIA-SMI 418.67       Driver Version: 410.79       CUDA Version: 10.0     |\n",
            "|-------------------------------+----------------------+----------------------+\n",
            "| GPU  Name        Persistence-M| Bus-Id        Disp.A | Volatile Uncorr. ECC |\n",
            "| Fan  Temp  Perf  Pwr:Usage/Cap|         Memory-Usage | GPU-Util  Compute M. |\n",
            "|===============================+======================+======================|\n",
            "|   0  Tesla T4            Off  | 00000000:00:04.0 Off |                    0 |\n",
            "| N/A   54C    P8    16W /  70W |      0MiB / 15079MiB |      0%      Default |\n",
            "+-------------------------------+----------------------+----------------------+\n",
            "                                                                               \n",
            "+-----------------------------------------------------------------------------+\n",
            "| Processes:                                                       GPU Memory |\n",
            "|  GPU       PID   Type   Process name                             Usage      |\n",
            "|=============================================================================|\n",
            "|  No running processes found                                                 |\n",
            "+-----------------------------------------------------------------------------+\n"
          ],
          "name": "stdout"
        }
      ]
    },
    {
      "cell_type": "code",
      "metadata": {
        "id": "ik8Wv2K0uDfx",
        "colab_type": "code",
        "outputId": "366bb723-03ef-440f-98b9-18ab835cd123",
        "colab": {
          "base_uri": "https://localhost:8080/",
          "height": 50
        }
      },
      "source": [
        "import pynvml\n",
        "\n",
        "pynvml.nvmlInit()\n",
        "handle = pynvml.nvmlDeviceGetHandleByIndex(0)\n",
        "device_name = pynvml.nvmlDeviceGetName(handle)\n",
        "print(device_name)\n",
        "if device_name != b'Tesla T4':\n",
        "  raise Exception(\"\"\"\n",
        "    Unfortunately this instance does not have a T4 GPU.\n",
        "    \n",
        "    Please make sure you've configured Colab to request a GPU instance type.\n",
        "    \n",
        "    Sometimes Colab allocates a Tesla K80 instead of a T4. Resetting the instance.\n",
        "\n",
        "    If you get a K80 GPU, try Runtime -> Reset all runtimes...\n",
        "  \"\"\")\n",
        "else:\n",
        "  print('Woo! You got the right kind of GPU!')"
      ],
      "execution_count": 2,
      "outputs": [
        {
          "output_type": "stream",
          "text": [
            "b'Tesla T4'\n",
            "Woo! You got the right kind of GPU!\n"
          ],
          "name": "stdout"
        }
      ]
    },
    {
      "cell_type": "markdown",
      "metadata": {
        "id": "CtNdk7PSafKP",
        "colab_type": "text"
      },
      "source": [
        "#Setup:\n",
        "\n",
        "1. Install most recent Miniconda release compatible with Google Colab's Python install  (3.6.7)\n",
        "2. Install RAPIDS libraries\n",
        "3. Set necessary environment variables\n",
        "4. Copy RAPIDS .so files into current working directory, a workaround for conda/colab interactions"
      ]
    },
    {
      "cell_type": "code",
      "metadata": {
        "id": "m0jdXBRiDSzj",
        "colab_type": "code",
        "outputId": "aa321dcd-7071-4090-8630-2ace1337259f",
        "colab": {
          "base_uri": "https://localhost:8080/",
          "height": 1000
        }
      },
      "source": [
        "# intall miniconda\n",
        "!wget -c https://repo.continuum.io/miniconda/Miniconda3-4.5.4-Linux-x86_64.sh\n",
        "!chmod +x Miniconda3-4.5.4-Linux-x86_64.sh\n",
        "!bash ./Miniconda3-4.5.4-Linux-x86_64.sh -b -f -p /usr/local\n",
        "\n",
        "# install RAPIDS packages\n",
        "!conda install -q -y --prefix /usr/local -c conda-forge \\\n",
        "  -c rapidsai-nightly/label/cuda10.0 -c nvidia/label/cuda10.0 \\\n",
        "  cudf cuml\n",
        "\n",
        "!bash ./Miniconda3-4.5.4-Linux-x86_64.sh -b -f -p /usr/local\n",
        "!conda install -q -y --prefix /usr/local -c nvidia -c rapidsai \\\n",
        "  -c numba -c conda-forge -c defaults nvstrings=0.8 python=3.6 cudatoolkit=10.0\n",
        "\n",
        "# set environment vars\n",
        "import sys, os, shutil\n",
        "sys.path.append('/usr/local/lib/python3.6/site-packages/')\n",
        "os.environ['NUMBAPRO_NVVM'] = '/usr/local/cuda/nvvm/lib64/libnvvm.so'\n",
        "os.environ['NUMBAPRO_LIBDEVICE'] = '/usr/local/cuda/nvvm/libdevice/'\n",
        "\n",
        "# copy .so files to current working dir\n",
        "for fn in ['libcudf.so', 'librmm.so']:\n",
        "  shutil.copy('/usr/local/lib/'+fn, os.getcwd())"
      ],
      "execution_count": 0,
      "outputs": [
        {
          "output_type": "stream",
          "text": [
            "--2019-07-19 15:18:37--  https://repo.continuum.io/miniconda/Miniconda3-4.5.4-Linux-x86_64.sh\n",
            "Resolving repo.continuum.io (repo.continuum.io)... 104.18.200.79, 104.18.201.79, 2606:4700::6812:c94f, ...\n",
            "Connecting to repo.continuum.io (repo.continuum.io)|104.18.200.79|:443... connected.\n",
            "HTTP request sent, awaiting response... 200 OK\n",
            "Length: 58468498 (56M) [application/x-sh]\n",
            "Saving to: ‘Miniconda3-4.5.4-Linux-x86_64.sh’\n",
            "\n",
            "\r          Miniconda   0%[                    ]       0  --.-KB/s               \r         Miniconda3  58%[==========>         ]  32.44M   162MB/s               \rMiniconda3-4.5.4-Li 100%[===================>]  55.76M   187MB/s    in 0.3s    \n",
            "\n",
            "2019-07-19 15:18:38 (187 MB/s) - ‘Miniconda3-4.5.4-Linux-x86_64.sh’ saved [58468498/58468498]\n",
            "\n",
            "PREFIX=/usr/local\n",
            "installing: python-3.6.5-hc3d631a_2 ...\n",
            "Python 3.6.5 :: Anaconda, Inc.\n",
            "installing: ca-certificates-2018.03.07-0 ...\n",
            "installing: conda-env-2.6.0-h36134e3_1 ...\n",
            "installing: libgcc-ng-7.2.0-hdf63c60_3 ...\n",
            "installing: libstdcxx-ng-7.2.0-hdf63c60_3 ...\n",
            "installing: libffi-3.2.1-hd88cf55_4 ...\n",
            "installing: ncurses-6.1-hf484d3e_0 ...\n",
            "installing: openssl-1.0.2o-h20670df_0 ...\n",
            "installing: tk-8.6.7-hc745277_3 ...\n",
            "installing: xz-5.2.4-h14c3975_4 ...\n",
            "installing: yaml-0.1.7-had09818_2 ...\n",
            "installing: zlib-1.2.11-ha838bed_2 ...\n",
            "installing: libedit-3.1.20170329-h6b74fdf_2 ...\n",
            "installing: readline-7.0-ha6073c6_4 ...\n",
            "installing: sqlite-3.23.1-he433501_0 ...\n",
            "installing: asn1crypto-0.24.0-py36_0 ...\n",
            "installing: certifi-2018.4.16-py36_0 ...\n",
            "installing: chardet-3.0.4-py36h0f667ec_1 ...\n",
            "installing: idna-2.6-py36h82fb2a8_1 ...\n",
            "installing: pycosat-0.6.3-py36h0a5515d_0 ...\n",
            "installing: pycparser-2.18-py36hf9f622e_1 ...\n",
            "installing: pysocks-1.6.8-py36_0 ...\n",
            "installing: ruamel_yaml-0.15.37-py36h14c3975_2 ...\n",
            "installing: six-1.11.0-py36h372c433_1 ...\n",
            "installing: cffi-1.11.5-py36h9745a5d_0 ...\n",
            "installing: setuptools-39.2.0-py36_0 ...\n",
            "installing: cryptography-2.2.2-py36h14c3975_0 ...\n",
            "installing: wheel-0.31.1-py36_0 ...\n",
            "installing: pip-10.0.1-py36_0 ...\n",
            "installing: pyopenssl-18.0.0-py36_0 ...\n",
            "installing: urllib3-1.22-py36hbe7ace6_0 ...\n",
            "installing: requests-2.18.4-py36he2e5f8d_1 ...\n",
            "installing: conda-4.5.4-py36_0 ...\n",
            "installation finished.\n",
            "WARNING:\n",
            "    You currently have a PYTHONPATH environment variable set. This may cause\n",
            "    unexpected behavior when running the Python interpreter in Miniconda3.\n",
            "    For best results, please verify that your PYTHONPATH only points to\n",
            "    directories of packages that are compatible with the Python interpreter\n",
            "    in Miniconda3: /usr/local\n",
            "Solving environment: ...working... done\n",
            "\n",
            "## Package Plan ##\n",
            "\n",
            "  environment location: /usr/local\n",
            "\n",
            "  added / updated specs: \n",
            "    - cudf\n",
            "    - cuml\n",
            "\n",
            "\n",
            "The following packages will be downloaded:\n",
            "\n",
            "    package                    |            build\n",
            "    ---------------------------|-----------------\n",
            "    icu-58.2                   |    hf484d3e_1000        22.6 MB  conda-forge\n",
            "    libcudf-0.9.0a             |    cuda10.0_1469        31.9 MB  rapidsai-nightly/label/cuda10.0\n",
            "    cffi-1.12.3                |   py37h8022711_0         218 KB  conda-forge\n",
            "    libopenblas-0.3.6          |       h6e990d7_4         7.7 MB  conda-forge\n",
            "    libcumlmg-0.0.0.dev0       |     cuda10.0_373         955 KB  nvidia/label/cuda10.0\n",
            "    readline-8.0               |       hf8c457e_0         441 KB  conda-forge\n",
            "    pandas-0.25.0              |   py37hb3f55d8_0        11.4 MB  conda-forge\n",
            "    pyarrow-0.12.1             |   py37hbbcf98d_0         2.2 MB  conda-forge\n",
            "    xz-5.2.4                   |    h14c3975_1001         366 KB  conda-forge\n",
            "    nvstrings-0.9.0a1          |          py37_16         122 KB  rapidsai-nightly/label/cuda10.0\n",
            "    openssl-1.1.1c             |       h516909a_0         2.1 MB  conda-forge\n",
            "    numpy-1.16.4               |   py37h95a1406_0         4.3 MB  conda-forge\n",
            "    python-3.7.3               |       h33d41f4_1        36.0 MB  conda-forge\n",
            "    pytz-2019.1                |             py_0         227 KB  conda-forge\n",
            "    openblas-0.3.6             |       h6e990d7_4         8.2 MB  conda-forge\n",
            "    tk-8.6.9                   |    hed695b0_1002         3.2 MB  conda-forge\n",
            "    pycparser-2.19             |           py37_1         171 KB  conda-forge\n",
            "    parquet-cpp-1.5.1          |                4           3 KB  conda-forge\n",
            "    cuml-0.9.0a1               |cuda10.0_py37_200         4.7 MB  rapidsai-nightly/label/cuda10.0\n",
            "    thrift-cpp-0.12.0          |    h0a07b25_1002         2.4 MB  conda-forge\n",
            "    ca-certificates-2019.6.16  |       hecc5488_0         145 KB  conda-forge\n",
            "    bzip2-1.0.8                |       h516909a_0         396 KB  conda-forge\n",
            "    libblas-3.8.0              |      10_openblas           6 KB  conda-forge\n",
            "    _libgcc_mutex-0.1          |             main           3 KB\n",
            "    libcuml-0.9.0a1            |     cuda10.0_200        27.6 MB  rapidsai-nightly/label/cuda10.0\n",
            "    libgfortran-ng-7.3.0       |       hdf63c60_0         1.3 MB\n",
            "    cudatoolkit-10.0.130       |                0       380.0 MB\n",
            "    zlib-1.2.11                |    h516909a_1005         105 KB  conda-forge\n",
            "    arrow-cpp-0.12.1           |   py37h0e61e49_0         6.9 MB  conda-forge\n",
            "    setuptools-41.0.1          |           py37_0         616 KB  conda-forge\n",
            "    librmm-0.9.0a1             |       cuda10.0_0          44 KB  rapidsai-nightly/label/cuda10.0\n",
            "    pip-19.1.1                 |           py37_0         1.8 MB  conda-forge\n",
            "    llvmlite-0.29.0            |   py37hfd453ef_1        19.9 MB  conda-forge\n",
            "    numba-0.45.0               |   py37hb3f55d8_0         3.1 MB  conda-forge\n",
            "    cudf-0.9.0a                |        py37_1469         3.8 MB  rapidsai-nightly/label/cuda10.0\n",
            "    liblapack-3.8.0            |      10_openblas           6 KB  conda-forge\n",
            "    wheel-0.33.4               |           py37_0          34 KB  conda-forge\n",
            "    libgcc-ng-9.1.0            |       hdf63c60_0         8.1 MB\n",
            "    libffi-3.2.1               |    he1b5a44_1006          46 KB  conda-forge\n",
            "    rmm-0.9.0a1                |           py37_0          14 KB  rapidsai-nightly/label/cuda10.0\n",
            "    libstdcxx-ng-9.1.0         |       hdf63c60_0         4.0 MB\n",
            "    python-dateutil-2.8.0      |             py_0         219 KB  conda-forge\n",
            "    libprotobuf-3.6.1          |    hdbcaa40_1001         4.0 MB  conda-forge\n",
            "    certifi-2019.6.16          |           py37_1         149 KB  conda-forge\n",
            "    sqlite-3.29.0              |       hcee41ef_0         2.0 MB  conda-forge\n",
            "    libcblas-3.8.0             |      10_openblas           6 KB  conda-forge\n",
            "    ncurses-6.1                |    hf484d3e_1002         1.3 MB  conda-forge\n",
            "    libnvstrings-0.9.0a1       |      cuda10.0_16        16.7 MB  rapidsai-nightly/label/cuda10.0\n",
            "    boost-cpp-1.68.0           |    h11c811c_1000        20.5 MB  conda-forge\n",
            "    cython-0.29.12             |   py37he1b5a44_0         2.2 MB  conda-forge\n",
            "    six-1.12.0                 |        py37_1000          22 KB  conda-forge\n",
            "    ------------------------------------------------------------\n",
            "                                           Total:       643.8 MB\n",
            "\n",
            "The following NEW packages will be INSTALLED:\n",
            "\n",
            "    _libgcc_mutex:   0.1-main                                                 \n",
            "    arrow-cpp:       0.12.1-py37h0e61e49_0     conda-forge                    \n",
            "    boost-cpp:       1.68.0-h11c811c_1000      conda-forge                    \n",
            "    bzip2:           1.0.8-h516909a_0          conda-forge                    \n",
            "    cudatoolkit:     10.0.130-0                                               \n",
            "    cudf:            0.9.0a-py37_1469          rapidsai-nightly/label/cuda10.0\n",
            "    cuml:            0.9.0a1-cuda10.0_py37_200 rapidsai-nightly/label/cuda10.0\n",
            "    cython:          0.29.12-py37he1b5a44_0    conda-forge                    \n",
            "    icu:             58.2-hf484d3e_1000        conda-forge                    \n",
            "    libblas:         3.8.0-10_openblas         conda-forge                    \n",
            "    libcblas:        3.8.0-10_openblas         conda-forge                    \n",
            "    libcudf:         0.9.0a-cuda10.0_1469      rapidsai-nightly/label/cuda10.0\n",
            "    libcuml:         0.9.0a1-cuda10.0_200      rapidsai-nightly/label/cuda10.0\n",
            "    libcumlmg:       0.0.0.dev0-cuda10.0_373   nvidia/label/cuda10.0          \n",
            "    libgfortran-ng:  7.3.0-hdf63c60_0                                         \n",
            "    liblapack:       3.8.0-10_openblas         conda-forge                    \n",
            "    libnvstrings:    0.9.0a1-cuda10.0_16       rapidsai-nightly/label/cuda10.0\n",
            "    libopenblas:     0.3.6-h6e990d7_4          conda-forge                    \n",
            "    libprotobuf:     3.6.1-hdbcaa40_1001       conda-forge                    \n",
            "    librmm:          0.9.0a1-cuda10.0_0        rapidsai-nightly/label/cuda10.0\n",
            "    llvmlite:        0.29.0-py37hfd453ef_1     conda-forge                    \n",
            "    numba:           0.45.0-py37hb3f55d8_0     conda-forge                    \n",
            "    numpy:           1.16.4-py37h95a1406_0     conda-forge                    \n",
            "    nvstrings:       0.9.0a1-py37_16           rapidsai-nightly/label/cuda10.0\n",
            "    openblas:        0.3.6-h6e990d7_4          conda-forge                    \n",
            "    pandas:          0.25.0-py37hb3f55d8_0     conda-forge                    \n",
            "    parquet-cpp:     1.5.1-4                   conda-forge                    \n",
            "    pyarrow:         0.12.1-py37hbbcf98d_0     conda-forge                    \n",
            "    python-dateutil: 2.8.0-py_0                conda-forge                    \n",
            "    pytz:            2019.1-py_0               conda-forge                    \n",
            "    rmm:             0.9.0a1-py37_0            rapidsai-nightly/label/cuda10.0\n",
            "    thrift-cpp:      0.12.0-h0a07b25_1002      conda-forge                    \n",
            "\n",
            "The following packages will be UPDATED:\n",
            "\n",
            "    ca-certificates: 2018.03.07-0                                              --> 2019.6.16-hecc5488_0  conda-forge\n",
            "    certifi:         2018.4.16-py36_0                                          --> 2019.6.16-py37_1      conda-forge\n",
            "    cffi:            1.11.5-py36h9745a5d_0                                     --> 1.12.3-py37h8022711_0 conda-forge\n",
            "    libffi:          3.2.1-hd88cf55_4                                          --> 3.2.1-he1b5a44_1006   conda-forge\n",
            "    libgcc-ng:       7.2.0-hdf63c60_3                                          --> 9.1.0-hdf63c60_0                 \n",
            "    libstdcxx-ng:    7.2.0-hdf63c60_3                                          --> 9.1.0-hdf63c60_0                 \n",
            "    ncurses:         6.1-hf484d3e_0                                            --> 6.1-hf484d3e_1002     conda-forge\n",
            "    openssl:         1.0.2o-h20670df_0                                         --> 1.1.1c-h516909a_0     conda-forge\n",
            "    pip:             10.0.1-py36_0                                             --> 19.1.1-py37_0         conda-forge\n",
            "    pycparser:       2.18-py36hf9f622e_1                                       --> 2.19-py37_1           conda-forge\n",
            "    python:          3.6.5-hc3d631a_2                                          --> 3.7.3-h33d41f4_1      conda-forge\n",
            "    readline:        7.0-ha6073c6_4                                            --> 8.0-hf8c457e_0        conda-forge\n",
            "    setuptools:      39.2.0-py36_0                                             --> 41.0.1-py37_0         conda-forge\n",
            "    six:             1.11.0-py36h372c433_1                                     --> 1.12.0-py37_1000      conda-forge\n",
            "    sqlite:          3.23.1-he433501_0                                         --> 3.29.0-hcee41ef_0     conda-forge\n",
            "    tk:              8.6.7-hc745277_3                                          --> 8.6.9-hed695b0_1002   conda-forge\n",
            "    wheel:           0.31.1-py36_0                                             --> 0.33.4-py37_0         conda-forge\n",
            "    xz:              5.2.4-h14c3975_4                                          --> 5.2.4-h14c3975_1001   conda-forge\n",
            "    zlib:            1.2.11-ha838bed_2                                         --> 1.2.11-h516909a_1005  conda-forge\n",
            "\n",
            "Preparing transaction: ...working... done\n",
            "Verifying transaction: ...working... done\n",
            "Executing transaction: ...working... done\n",
            "PREFIX=/usr/local\n",
            "installing: python-3.6.5-hc3d631a_2 ...\n",
            "Python 3.6.5 :: Anaconda, Inc.\n",
            "installing: ca-certificates-2018.03.07-0 ...\n",
            "installing: conda-env-2.6.0-h36134e3_1 ...\n",
            "installing: libgcc-ng-7.2.0-hdf63c60_3 ...\n",
            "installing: libstdcxx-ng-7.2.0-hdf63c60_3 ...\n",
            "installing: libffi-3.2.1-hd88cf55_4 ...\n",
            "installing: ncurses-6.1-hf484d3e_0 ...\n",
            "installing: openssl-1.0.2o-h20670df_0 ...\n",
            "installing: tk-8.6.7-hc745277_3 ...\n",
            "installing: xz-5.2.4-h14c3975_4 ...\n",
            "installing: yaml-0.1.7-had09818_2 ...\n",
            "installing: zlib-1.2.11-ha838bed_2 ...\n",
            "installing: libedit-3.1.20170329-h6b74fdf_2 ...\n",
            "installing: readline-7.0-ha6073c6_4 ...\n",
            "installing: sqlite-3.23.1-he433501_0 ...\n",
            "installing: asn1crypto-0.24.0-py36_0 ...\n",
            "installing: certifi-2018.4.16-py36_0 ...\n",
            "installing: chardet-3.0.4-py36h0f667ec_1 ...\n",
            "installing: idna-2.6-py36h82fb2a8_1 ...\n",
            "installing: pycosat-0.6.3-py36h0a5515d_0 ...\n",
            "installing: pycparser-2.18-py36hf9f622e_1 ...\n",
            "installing: pysocks-1.6.8-py36_0 ...\n",
            "installing: ruamel_yaml-0.15.37-py36h14c3975_2 ...\n",
            "installing: six-1.11.0-py36h372c433_1 ...\n",
            "installing: cffi-1.11.5-py36h9745a5d_0 ...\n",
            "installing: setuptools-39.2.0-py36_0 ...\n",
            "installing: cryptography-2.2.2-py36h14c3975_0 ...\n",
            "installing: wheel-0.31.1-py36_0 ...\n",
            "installing: pip-10.0.1-py36_0 ...\n",
            "installing: pyopenssl-18.0.0-py36_0 ...\n",
            "installing: urllib3-1.22-py36hbe7ace6_0 ...\n",
            "installing: requests-2.18.4-py36he2e5f8d_1 ...\n",
            "installing: conda-4.5.4-py36_0 ...\n",
            "unlinking: ca-certificates-2019.6.16-hecc5488_0\n",
            "unlinking: certifi-2019.6.16-py37_1\n",
            "unlinking: cffi-1.12.3-py37h8022711_0\n",
            "unlinking: libffi-3.2.1-he1b5a44_1006\n",
            "unlinking: libgcc-ng-9.1.0-hdf63c60_0\n",
            "unlinking: libstdcxx-ng-9.1.0-hdf63c60_0\n",
            "unlinking: ncurses-6.1-hf484d3e_1002\n",
            "unlinking: openssl-1.1.1c-h516909a_0\n",
            "unlinking: pip-19.1.1-py37_0\n",
            "unlinking: pycparser-2.19-py37_1\n",
            "unlinking: python-3.7.3-h33d41f4_1\n",
            "unlinking: readline-8.0-hf8c457e_0\n",
            "unlinking: setuptools-41.0.1-py37_0\n",
            "unlinking: six-1.12.0-py37_1000\n",
            "unlinking: sqlite-3.29.0-hcee41ef_0\n",
            "unlinking: tk-8.6.9-hed695b0_1002\n",
            "unlinking: wheel-0.33.4-py37_0\n",
            "unlinking: xz-5.2.4-h14c3975_1001\n",
            "unlinking: zlib-1.2.11-h516909a_1005\n",
            "installation finished.\n",
            "WARNING:\n",
            "    You currently have a PYTHONPATH environment variable set. This may cause\n",
            "    unexpected behavior when running the Python interpreter in Miniconda3.\n",
            "    For best results, please verify that your PYTHONPATH only points to\n",
            "    directories of packages that are compatible with the Python interpreter\n",
            "    in Miniconda3: /usr/local\n",
            "Solving environment: ...working... "
          ],
          "name": "stdout"
        }
      ]
    },
    {
      "cell_type": "markdown",
      "metadata": {
        "id": "9oOCJ4NYMjY7",
        "colab_type": "text"
      },
      "source": [
        "# cuDF and cuML Examples #\n",
        "\n",
        "Now you can run code! \n",
        "\n",
        "What follows are basic examples where all processing takes place on the GPU."
      ]
    },
    {
      "cell_type": "markdown",
      "metadata": {
        "id": "V38dg-oUJtEO",
        "colab_type": "text"
      },
      "source": [
        "#[cuDF](https://github.com/rapidsai/cudf)#\n",
        "\n",
        "Load a dataset into a GPU memory resident DataFrame and perform a basic calculation.\n",
        "\n",
        "Everything from CSV parsing to calculating tip percentage and computing a grouped average is done on the GPU.\n",
        "\n",
        "_Note_: You must import nvstrings and nvcategory before cudf, else you'll get errors."
      ]
    },
    {
      "cell_type": "code",
      "metadata": {
        "id": "r2YMbK2YGnqg",
        "colab_type": "code",
        "colab": {}
      },
      "source": [
        "from google.colab import drive\n",
        "drive.mount('/content/drive')"
      ],
      "execution_count": 0,
      "outputs": []
    },
    {
      "cell_type": "code",
      "metadata": {
        "id": "z6m6SY36G-o7",
        "colab_type": "code",
        "outputId": "eedc7cb1-f4ec-405c-b83f-10bccc4fa283",
        "colab": {
          "base_uri": "https://localhost:8080/",
          "height": 34
        }
      },
      "source": [
        "!ls -l \"/content/drive/My Drive/Colab Notebooks/TrainData_PA.csv\""
      ],
      "execution_count": 9,
      "outputs": [
        {
          "output_type": "stream",
          "text": [
            "-rw------- 1 root root 5493629 Jul 16 23:19 '/content/drive/My Drive/Colab Notebooks/TrainData_PA.csv'\n"
          ],
          "name": "stdout"
        }
      ]
    },
    {
      "cell_type": "code",
      "metadata": {
        "id": "1z3XUNFbIl_Q",
        "colab_type": "code",
        "outputId": "8b934b64-64ff-4c0f-d9e9-439f950cf756",
        "colab": {
          "base_uri": "https://localhost:8080/",
          "height": 34
        }
      },
      "source": [
        "import nvstrings, nvcategory, cudf\n",
        "import io, requests\n",
        "tips_df = cudf.read_csv(\"/content/drive/My Drive/Colab Notebooks/TrainData_PA.csv\")\n",
        "tips_df.head()"
      ],
      "execution_count": 10,
      "outputs": [
        {
          "output_type": "execute_result",
          "data": {
            "text/plain": [
              "<cudf.DataFrame ncols=40 nrows=5 >"
            ]
          },
          "metadata": {
            "tags": []
          },
          "execution_count": 10
        }
      ]
    },
    {
      "cell_type": "code",
      "metadata": {
        "id": "gz_fivnUPfzI",
        "colab_type": "code",
        "colab": {
          "base_uri": "https://localhost:8080/",
          "height": 286
        },
        "outputId": "348fdaa0-8330-49e2-f010-44c2366d7991"
      },
      "source": [
        "print(tips_df.head(), tips_df.shape, tips_df.columns)"
      ],
      "execution_count": 11,
      "outputs": [
        {
          "output_type": "stream",
          "text": [
            "   county        city  zipcode                            address  state  rent            latitude ...  HomePrice\n",
            "0    None     WEXFORD            266 Clematis Dr Allegheny County     PA  2400             40.6182 ...     158051\n",
            "1    None   WHITEHALL                2310 N 1st Ave Lehigh County     PA   995           40.649906 ...     158051\n",
            "2    None   WHITEHALL           3338 St Stephens Ln Lehigh County     PA  1740           40.646282 ...     158051\n",
            "3    None  WAYNESBORO                97 W Main St Franklin County     PA   675  39.756992000000004 ...     158051\n",
            "4    None  QUAKERTOWN                 200 E Broad St Bucks County     PA  1300  40.441176999999996 ...     158051\n",
            "[32 more columns] (18203, 40) Index(['county', 'city', 'zipcode', 'address', 'state', 'rent', 'latitude',\n",
            "       'longitude', 'cemetery_dist_miles', 'nationalhighway_miles',\n",
            "       'railline_miles', 'starbucks_miles', 'walmart_miles', 'hospital_miles',\n",
            "       'physician_dist_miles', 'dentist_dist_miles', 'opt_dist_miles',\n",
            "       'vet_dist_miles', 'farmers_miles', 'time', 'bed', 'bath', 'halfbath',\n",
            "       'sqft', 'property_type', 'garage', 'yearbuilt', 'pool', 'fireplace',\n",
            "       'patio', 'lotsize', 'Census_MedianIncome', 'CollegeGrads',\n",
            "       'WhiteCollar', 'Schools', 'Unemployment', 'EmploymentDiversity',\n",
            "       'Census_Vacancy', 'Crime_Rate', 'HomePrice'],\n",
            "      dtype='object')\n"
          ],
          "name": "stdout"
        }
      ]
    },
    {
      "cell_type": "code",
      "metadata": {
        "id": "-_9nQJmzVMRV",
        "colab_type": "code",
        "colab": {
          "base_uri": "https://localhost:8080/",
          "height": 235
        },
        "outputId": "ed852372-ae6e-46d0-c10c-39adad67910d"
      },
      "source": [
        "print(tips_df[tips_df.columns[:-1]])"
      ],
      "execution_count": 12,
      "outputs": [
        {
          "output_type": "stream",
          "text": [
            "    county         city  zipcode                            address  state  rent            latitude ...  Crime_Rate\n",
            "0    None      WEXFORD            266 Clematis Dr Allegheny County     PA  2400             40.6182 ...         2.4\n",
            "1    None    WHITEHALL                2310 N 1st Ave Lehigh County     PA   995           40.649906 ...         2.4\n",
            "2    None    WHITEHALL           3338 St Stephens Ln Lehigh County     PA  1740           40.646282 ...         2.4\n",
            "3    None   WAYNESBORO                97 W Main St Franklin County     PA   675  39.756992000000004 ...         2.4\n",
            "4    None   QUAKERTOWN                 200 E Broad St Bucks County     PA  1300  40.441176999999996 ...         2.4\n",
            "5    None   WAYNESBORO           407 Viewpoint Way Franklin County     PA  1025  39.766594000000005 ...         2.4\n",
            "6    None   WAYNESBORO           403 Viewpoint Way Franklin County     PA  1025  39.766580000000005 ...         2.4\n",
            "7    None   WAYNESBORO                240 Crown Ct Franklin County     PA  1025  39.759662999999996 ...         2.4\n",
            "8    None   WAYNESBORO            101 S Potomac St Franklin County     PA   795   39.75553000000001 ...         2.4\n",
            "9    None  UPPER DARBY           446 Woodcliffe Rd Delaware County     PA   925            39.95801 ...         2.4\n",
            "[18193 more rows]\n",
            "[31 more columns]\n"
          ],
          "name": "stdout"
        }
      ]
    },
    {
      "cell_type": "code",
      "metadata": {
        "id": "LRL0ZuV4QA-0",
        "colab_type": "code",
        "colab": {
          "base_uri": "https://localhost:8080/",
          "height": 218
        },
        "outputId": "51a71e58-cc8a-4437-8d94-f44939ea7680"
      },
      "source": [
        "print(tips_df.groupby('city').HomePrice.mean().reset_index())"
      ],
      "execution_count": 13,
      "outputs": [
        {
          "output_type": "stream",
          "text": [
            "              city           HomePrice\n",
            "0        ABINGTON   165602.2857142857\n",
            "1        AIRVILLE            158051.0\n",
            "2           AKRON  170204.57142857142\n",
            "3  ALBRIGHTSVILLE  111965.84615384616\n",
            "4        ALBURTIS  194317.18181818182\n",
            "5       ALIQUIPPA   90321.06666666667\n",
            "6       ALLENTOWN  144091.08250825084\n",
            "7    ALLISON PARK  185304.86956521738\n",
            "8         ALTOONA  141058.81818181818\n",
            "9          AMBLER           259464.06\n",
            "[664 more rows]\n"
          ],
          "name": "stdout"
        }
      ]
    },
    {
      "cell_type": "code",
      "metadata": {
        "id": "Z_oXoMGNUV_0",
        "colab_type": "code",
        "colab": {
          "base_uri": "https://localhost:8080/",
          "height": 370
        },
        "outputId": "07ff493a-9104-4cdb-cb9f-5513350476e2"
      },
      "source": [
        "from cuml import SGD\n",
        "\n",
        "sgd = SGD(eta0=0.1)\n",
        "\n",
        "result_sgd = sgd.fit(tips_df[tips_df.columns[:-1]], tips_df[tips_df.columns[-1]])"
      ],
      "execution_count": 14,
      "outputs": [
        {
          "output_type": "error",
          "ename": "ValueError",
          "evalue": "ignored",
          "traceback": [
            "\u001b[0;31m---------------------------------------------------------------------------\u001b[0m",
            "\u001b[0;31mValueError\u001b[0m                                Traceback (most recent call last)",
            "\u001b[0;32m<ipython-input-14-8f86fdb54907>\u001b[0m in \u001b[0;36m<module>\u001b[0;34m()\u001b[0m\n\u001b[1;32m      3\u001b[0m \u001b[0msgd\u001b[0m \u001b[0;34m=\u001b[0m \u001b[0mSGD\u001b[0m\u001b[0;34m(\u001b[0m\u001b[0meta0\u001b[0m\u001b[0;34m=\u001b[0m\u001b[0;36m0.1\u001b[0m\u001b[0;34m)\u001b[0m\u001b[0;34m\u001b[0m\u001b[0;34m\u001b[0m\u001b[0m\n\u001b[1;32m      4\u001b[0m \u001b[0;34m\u001b[0m\u001b[0m\n\u001b[0;32m----> 5\u001b[0;31m \u001b[0mresult_sgd\u001b[0m \u001b[0;34m=\u001b[0m \u001b[0msgd\u001b[0m\u001b[0;34m.\u001b[0m\u001b[0mfit\u001b[0m\u001b[0;34m(\u001b[0m\u001b[0mtips_df\u001b[0m\u001b[0;34m[\u001b[0m\u001b[0mtips_df\u001b[0m\u001b[0;34m.\u001b[0m\u001b[0mcolumns\u001b[0m\u001b[0;34m[\u001b[0m\u001b[0;34m:\u001b[0m\u001b[0;34m-\u001b[0m\u001b[0;36m1\u001b[0m\u001b[0;34m]\u001b[0m\u001b[0;34m]\u001b[0m\u001b[0;34m,\u001b[0m \u001b[0mtips_df\u001b[0m\u001b[0;34m[\u001b[0m\u001b[0mtips_df\u001b[0m\u001b[0;34m.\u001b[0m\u001b[0mcolumns\u001b[0m\u001b[0;34m[\u001b[0m\u001b[0;34m-\u001b[0m\u001b[0;36m1\u001b[0m\u001b[0;34m]\u001b[0m\u001b[0;34m]\u001b[0m\u001b[0;34m)\u001b[0m\u001b[0;34m\u001b[0m\u001b[0;34m\u001b[0m\u001b[0m\n\u001b[0m",
            "\u001b[0;32mcuml/solvers/sgd.pyx\u001b[0m in \u001b[0;36mcuml.solvers.sgd.SGD.fit\u001b[0;34m()\u001b[0m\n",
            "\u001b[0;32m/usr/local/lib/python3.6/site-packages/cuml/utils/input_utils.py\u001b[0m in \u001b[0;36minput_to_dev_array\u001b[0;34m(X, order, deepcopy, check_dtype, convert_to_dtype, check_cols, check_rows, fail_on_order)\u001b[0m\n\u001b[1;32m     90\u001b[0m         \u001b[0mdtype\u001b[0m \u001b[0;34m=\u001b[0m \u001b[0mnp\u001b[0m\u001b[0;34m.\u001b[0m\u001b[0mdtype\u001b[0m\u001b[0;34m(\u001b[0m\u001b[0mX\u001b[0m\u001b[0;34m[\u001b[0m\u001b[0mX\u001b[0m\u001b[0;34m.\u001b[0m\u001b[0mcolumns\u001b[0m\u001b[0;34m[\u001b[0m\u001b[0;36m0\u001b[0m\u001b[0;34m]\u001b[0m\u001b[0;34m]\u001b[0m\u001b[0;34m.\u001b[0m\u001b[0m_column\u001b[0m\u001b[0;34m.\u001b[0m\u001b[0mdtype\u001b[0m\u001b[0;34m)\u001b[0m\u001b[0;34m\u001b[0m\u001b[0;34m\u001b[0m\u001b[0m\n\u001b[1;32m     91\u001b[0m         \u001b[0;32mif\u001b[0m \u001b[0morder\u001b[0m \u001b[0;34m==\u001b[0m \u001b[0;34m'F'\u001b[0m\u001b[0;34m:\u001b[0m\u001b[0;34m\u001b[0m\u001b[0;34m\u001b[0m\u001b[0m\n\u001b[0;32m---> 92\u001b[0;31m             \u001b[0mX_m\u001b[0m \u001b[0;34m=\u001b[0m \u001b[0mX\u001b[0m\u001b[0;34m.\u001b[0m\u001b[0mas_gpu_matrix\u001b[0m\u001b[0;34m(\u001b[0m\u001b[0morder\u001b[0m\u001b[0;34m=\u001b[0m\u001b[0;34m'F'\u001b[0m\u001b[0;34m)\u001b[0m\u001b[0;34m\u001b[0m\u001b[0;34m\u001b[0m\u001b[0m\n\u001b[0m\u001b[1;32m     93\u001b[0m         \u001b[0;32melif\u001b[0m \u001b[0morder\u001b[0m \u001b[0;34m==\u001b[0m \u001b[0;34m'C'\u001b[0m\u001b[0;34m:\u001b[0m\u001b[0;34m\u001b[0m\u001b[0;34m\u001b[0m\u001b[0m\n\u001b[1;32m     94\u001b[0m             \u001b[0mX_m\u001b[0m \u001b[0;34m=\u001b[0m \u001b[0mcuml\u001b[0m\u001b[0;34m.\u001b[0m\u001b[0mutils\u001b[0m\u001b[0;34m.\u001b[0m\u001b[0mnumba_utils\u001b[0m\u001b[0;34m.\u001b[0m\u001b[0mrow_matrix\u001b[0m\u001b[0;34m(\u001b[0m\u001b[0mX\u001b[0m\u001b[0;34m)\u001b[0m\u001b[0;34m\u001b[0m\u001b[0;34m\u001b[0m\u001b[0m\n",
            "\u001b[0;32m/usr/local/lib/python3.6/site-packages/cudf/dataframe/dataframe.py\u001b[0m in \u001b[0;36mas_gpu_matrix\u001b[0;34m(self, columns, order)\u001b[0m\n\u001b[1;32m   1313\u001b[0m         \u001b[0mdtype\u001b[0m \u001b[0;34m=\u001b[0m \u001b[0mcols\u001b[0m\u001b[0;34m[\u001b[0m\u001b[0;36m0\u001b[0m\u001b[0;34m]\u001b[0m\u001b[0;34m.\u001b[0m\u001b[0mdtype\u001b[0m\u001b[0;34m\u001b[0m\u001b[0;34m\u001b[0m\u001b[0m\n\u001b[1;32m   1314\u001b[0m         \u001b[0;32mif\u001b[0m \u001b[0many\u001b[0m\u001b[0;34m(\u001b[0m\u001b[0mdtype\u001b[0m \u001b[0;34m!=\u001b[0m \u001b[0mc\u001b[0m\u001b[0;34m.\u001b[0m\u001b[0mdtype\u001b[0m \u001b[0;32mfor\u001b[0m \u001b[0mc\u001b[0m \u001b[0;32min\u001b[0m \u001b[0mcols\u001b[0m\u001b[0;34m)\u001b[0m\u001b[0;34m:\u001b[0m\u001b[0;34m\u001b[0m\u001b[0;34m\u001b[0m\u001b[0m\n\u001b[0;32m-> 1315\u001b[0;31m             \u001b[0;32mraise\u001b[0m \u001b[0mValueError\u001b[0m\u001b[0;34m(\u001b[0m\u001b[0;34m'all columns must have the same dtype'\u001b[0m\u001b[0;34m)\u001b[0m\u001b[0;34m\u001b[0m\u001b[0;34m\u001b[0m\u001b[0m\n\u001b[0m\u001b[1;32m   1316\u001b[0m         \u001b[0;32mfor\u001b[0m \u001b[0mk\u001b[0m\u001b[0;34m,\u001b[0m \u001b[0mc\u001b[0m \u001b[0;32min\u001b[0m \u001b[0mself\u001b[0m\u001b[0;34m.\u001b[0m\u001b[0m_cols\u001b[0m\u001b[0;34m.\u001b[0m\u001b[0mitems\u001b[0m\u001b[0;34m(\u001b[0m\u001b[0;34m)\u001b[0m\u001b[0;34m:\u001b[0m\u001b[0;34m\u001b[0m\u001b[0;34m\u001b[0m\u001b[0m\n\u001b[1;32m   1317\u001b[0m             \u001b[0;32mif\u001b[0m \u001b[0mc\u001b[0m\u001b[0;34m.\u001b[0m\u001b[0mnull_count\u001b[0m \u001b[0;34m>\u001b[0m \u001b[0;36m0\u001b[0m\u001b[0;34m:\u001b[0m\u001b[0;34m\u001b[0m\u001b[0;34m\u001b[0m\u001b[0m\n",
            "\u001b[0;31mValueError\u001b[0m: all columns must have the same dtype"
          ]
        }
      ]
    },
    {
      "cell_type": "code",
      "metadata": {
        "id": "-tHHR3dhYNSs",
        "colab_type": "code",
        "colab": {
          "base_uri": "https://localhost:8080/",
          "height": 437
        },
        "outputId": "0fb5811a-95be-4ec7-b32e-25d37f47bfc2"
      },
      "source": [
        "import numpy as np\n",
        "#print(filter(tips_df.columns,(tips_df.dtypes == np.float64)))\n",
        "#print(tips_df.select_dtypes(np.number).dtypes)\n",
        "\n",
        "tips_numeric = tips_df.select_dtypes(include=np.float64).fillna(0)\n",
        "print(tips_numeric.dtypes)\n",
        "result_sgd = sgd.fit(tips_numeric[tips_numeric.columns[:-1]], tips_numeric[tips_numeric.columns[-1]])"
      ],
      "execution_count": 15,
      "outputs": [
        {
          "output_type": "stream",
          "text": [
            "zipcode                  float64\n",
            "latitude                 float64\n",
            "longitude                float64\n",
            "cemetery_dist_miles      float64\n",
            "nationalhighway_miles    float64\n",
            "railline_miles           float64\n",
            "starbucks_miles          float64\n",
            "walmart_miles            float64\n",
            "hospital_miles           float64\n",
            "physician_dist_miles     float64\n",
            "dentist_dist_miles       float64\n",
            "opt_dist_miles           float64\n",
            "vet_dist_miles           float64\n",
            "farmers_miles            float64\n",
            "time                     float64\n",
            "lotsize                  float64\n",
            "Census_MedianIncome      float64\n",
            "CollegeGrads             float64\n",
            "WhiteCollar              float64\n",
            "Schools                  float64\n",
            "Unemployment             float64\n",
            "EmploymentDiversity      float64\n",
            "Census_Vacancy           float64\n",
            "Crime_Rate               float64\n",
            "dtype: object\n"
          ],
          "name": "stdout"
        }
      ]
    },
    {
      "cell_type": "markdown",
      "metadata": {
        "id": "_huYkQ1zrg6q",
        "colab_type": "text"
      },
      "source": [
        "Let us see the to and from Pandas trasformations; but it is not so clear if the pandas will be on local memory or on distributed memory. As in what if the data is huge for a cluster node."
      ]
    },
    {
      "cell_type": "code",
      "metadata": {
        "id": "mxP1R0NioibY",
        "colab_type": "code",
        "colab": {}
      },
      "source": [
        "pdf = tips_numeric.to_pandas()"
      ],
      "execution_count": 0,
      "outputs": []
    },
    {
      "cell_type": "code",
      "metadata": {
        "id": "0z7LPqWWqY4x",
        "colab_type": "code",
        "colab": {
          "base_uri": "https://localhost:8080/",
          "height": 34
        },
        "outputId": "37d83dad-d1a3-4ac3-aebe-cce87a60e54e"
      },
      "source": [
        "cudf.from_pandas(pdf)"
      ],
      "execution_count": 23,
      "outputs": [
        {
          "output_type": "execute_result",
          "data": {
            "text/plain": [
              "<cudf.DataFrame ncols=25 nrows=18203 >"
            ]
          },
          "metadata": {
            "tags": []
          },
          "execution_count": 23
        }
      ]
    },
    {
      "cell_type": "markdown",
      "metadata": {
        "id": "orLb0kZzskmT",
        "colab_type": "text"
      },
      "source": [
        "Apperantly, there is one more df called as dask_df which is for the distributed df computing. And this answers our last question. But how do we configure it ?"
      ]
    },
    {
      "cell_type": "code",
      "metadata": {
        "id": "U9tCMp5KzPvL",
        "colab_type": "code",
        "colab": {
          "base_uri": "https://localhost:8080/",
          "height": 50
        },
        "outputId": "30b0df14-734f-4fc5-a758-56c01ce7f9b8"
      },
      "source": [
        "!bash ./Miniconda3-4.5.4-Linux-x86_64.sh -b -f -p /usr/local\n",
        "!conda install dask"
      ],
      "execution_count": 2,
      "outputs": [
        {
          "output_type": "stream",
          "text": [
            "bash: ./Miniconda3-4.5.4-Linux-x86_64.sh: No such file or directory\n",
            "/bin/bash: conda: command not found\n"
          ],
          "name": "stdout"
        }
      ]
    },
    {
      "cell_type": "code",
      "metadata": {
        "id": "2iSe3Wo6szdn",
        "colab_type": "code",
        "colab": {
          "base_uri": "https://localhost:8080/",
          "height": 296
        },
        "outputId": "f8a6dcda-a2b8-491a-8d32-8df708115de8"
      },
      "source": [
        "import dask_cudf"
      ],
      "execution_count": 24,
      "outputs": [
        {
          "output_type": "error",
          "ename": "ModuleNotFoundError",
          "evalue": "ignored",
          "traceback": [
            "\u001b[0;31m---------------------------------------------------------------------------\u001b[0m",
            "\u001b[0;31mModuleNotFoundError\u001b[0m                       Traceback (most recent call last)",
            "\u001b[0;32m<ipython-input-24-3a20c05e5f97>\u001b[0m in \u001b[0;36m<module>\u001b[0;34m()\u001b[0m\n\u001b[0;32m----> 1\u001b[0;31m \u001b[0;32mimport\u001b[0m \u001b[0mdask_cudf\u001b[0m\u001b[0;34m\u001b[0m\u001b[0;34m\u001b[0m\u001b[0m\n\u001b[0m",
            "\u001b[0;31mModuleNotFoundError\u001b[0m: No module named 'dask_cudf'",
            "",
            "\u001b[0;31m---------------------------------------------------------------------------\u001b[0;32m\nNOTE: If your import is failing due to a missing package, you can\nmanually install dependencies using either !pip or !apt.\n\nTo view examples of installing some common dependencies, click the\n\"Open Examples\" button below.\n\u001b[0;31m---------------------------------------------------------------------------\u001b[0m\n"
          ]
        }
      ]
    },
    {
      "cell_type": "markdown",
      "metadata": {
        "id": "oWcPzX1U07Fe",
        "colab_type": "text"
      },
      "source": [
        "https://docs.dask.org/en/latest/install.html - for installation and other doc"
      ]
    },
    {
      "cell_type": "markdown",
      "metadata": {
        "id": "Ul3UZJdUJqlT",
        "colab_type": "text"
      },
      "source": [
        "#[cuML](https://github.com/rapidsai/cuml)#\n",
        "\n",
        "This snippet loads a \n",
        "\n",
        "As above, all calculations are performed on the GPU."
      ]
    },
    {
      "cell_type": "markdown",
      "metadata": {
        "id": "Dlsyk9m9NN2K",
        "colab_type": "text"
      },
      "source": [
        "# Next Steps #\n",
        "\n",
        "For an overview of how you can access and work with your own datasets in Colab, check out [this guide](https://towardsdatascience.com/3-ways-to-load-csv-files-into-colab-7c14fcbdcb92).\n",
        "\n",
        "For more RAPIDS examples, check out our RAPIDS notebooks repos:\n",
        "1. https://github.com/rapidsai/notebooks\n",
        "2. https://github.com/rapidsai/notebooks-extended"
      ]
    }
  ]
}