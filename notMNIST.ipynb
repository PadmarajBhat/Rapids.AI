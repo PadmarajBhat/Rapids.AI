{
  "nbformat": 4,
  "nbformat_minor": 0,
  "metadata": {
    "colab": {
      "name": "notMNIST.ipynb",
      "version": "0.3.2",
      "provenance": [],
      "include_colab_link": true
    },
    "kernelspec": {
      "name": "python3",
      "display_name": "Python 3"
    },
    "accelerator": "GPU"
  },
  "cells": [
    {
      "cell_type": "markdown",
      "metadata": {
        "id": "view-in-github",
        "colab_type": "text"
      },
      "source": [
        "<a href=\"https://colab.research.google.com/github/PadmarajBhat/Rapids.AI/blob/master/notMNIST.ipynb\" target=\"_parent\"><img src=\"https://colab.research.google.com/assets/colab-badge.svg\" alt=\"Open In Colab\"/></a>"
      ]
    },
    {
      "cell_type": "markdown",
      "metadata": {
        "id": "4lVLGVuUOf_1",
        "colab_type": "text"
      },
      "source": [
        "From : https://www.ritchieng.com/machine-learning/deep-learning/tensorflow/notmnist/\n",
        "\n",
        "import the downloading the notMNIST modules"
      ]
    },
    {
      "cell_type": "code",
      "metadata": {
        "id": "Fa4OujEkNlRM",
        "colab_type": "code",
        "outputId": "6d62bcda-522d-4d81-8ccd-b7caecca0942",
        "colab": {
          "base_uri": "https://localhost:8080/",
          "height": 151
        }
      },
      "source": [
        "# These are all the modules we'll be using later. Make sure you can import them\n",
        "# before proceeding further.\n",
        "from __future__ import print_function\n",
        "import matplotlib.pyplot as plt\n",
        "import numpy as np\n",
        "import os\n",
        "import sys\n",
        "import tarfile\n",
        "from IPython.display import display, Image\n",
        "from scipy import ndimage\n",
        "from sklearn.linear_model import LogisticRegression\n",
        "from six.moves.urllib.request import urlretrieve\n",
        "from six.moves import cPickle as pickle\n",
        "\n",
        "# Config the matlotlib backend as plotting inline in IPython\n",
        "%matplotlib inline\n",
        "\n",
        "url = 'http://commondatastorage.googleapis.com/books1000/'\n",
        "last_percent_reported = None\n",
        "\n",
        "def download_progress_hook(count, blockSize, totalSize):\n",
        "  \"\"\"A hook to report the progress of a download. This is mostly intended for users with\n",
        "  slow internet connections. Reports every 1% change in download progress.\n",
        "  \"\"\"\n",
        "  global last_percent_reported\n",
        "  percent = int(count * blockSize * 100 / totalSize)\n",
        "\n",
        "  if last_percent_reported != percent:\n",
        "    if percent % 5 == 0:\n",
        "      sys.stdout.write(\"%s%%\" % percent)\n",
        "      sys.stdout.flush()\n",
        "    else:\n",
        "      sys.stdout.write(\".\")\n",
        "      sys.stdout.flush()\n",
        "      \n",
        "    last_percent_reported = percent\n",
        "        \n",
        "def maybe_download(filename, expected_bytes, force=False):\n",
        "  \"\"\"Download a file if not present, and make sure it's the right size.\"\"\"\n",
        "  if force or not os.path.exists(filename):\n",
        "    print('Attempting to download:', filename) \n",
        "    filename, _ = urlretrieve(url + filename, filename, reporthook=download_progress_hook)\n",
        "    print('\\nDownload Complete!')\n",
        "  statinfo = os.stat(filename)\n",
        "  if statinfo.st_size == expected_bytes:\n",
        "    print('Found and verified', filename)\n",
        "  else:\n",
        "    raise Exception(\n",
        "      'Failed to verify ' + filename + '. Can you get to it with a browser?')\n",
        "  return filename\n",
        "\n",
        "train_filename = maybe_download('notMNIST_large.tar.gz', 247336696)\n",
        "test_filename = maybe_download('notMNIST_small.tar.gz', 8458043)"
      ],
      "execution_count": 0,
      "outputs": [
        {
          "output_type": "stream",
          "text": [
            "Attempting to download: notMNIST_large.tar.gz\n",
            "0%....5%....10%....15%....20%....25%....30%....35%....40%....45%....50%....55%....60%....65%....70%....75%....80%....85%....90%....95%....100%\n",
            "Download Complete!\n",
            "Found and verified notMNIST_large.tar.gz\n",
            "Attempting to download: notMNIST_small.tar.gz\n",
            "0%....5%....10%....15%....20%....25%....30%....35%....40%....45%....50%....55%....60%....65%....70%....75%....80%....85%....90%....95%....100%\n",
            "Download Complete!\n",
            "Found and verified notMNIST_small.tar.gz\n"
          ],
          "name": "stdout"
        }
      ]
    },
    {
      "cell_type": "markdown",
      "metadata": {
        "id": "UF8Zw2WSO5Po",
        "colab_type": "text"
      },
      "source": [
        "### Extract them"
      ]
    },
    {
      "cell_type": "code",
      "metadata": {
        "id": "j9SRbU9rOpxp",
        "colab_type": "code",
        "outputId": "3f90c518-16ba-4ad9-d36a-e3f7e5a9384f",
        "colab": {
          "base_uri": "https://localhost:8080/",
          "height": 104
        }
      },
      "source": [
        "num_classes = 10\n",
        "np.random.seed(133)\n",
        "\n",
        "def maybe_extract(filename, force=False):\n",
        "  root = os.path.splitext(os.path.splitext(filename)[0])[0]  # remove .tar.gz\n",
        "  if os.path.isdir(root) and not force:\n",
        "    # You may override by setting force=True.\n",
        "    print('%s already present - Skipping extraction of %s.' % (root, filename))\n",
        "  else:\n",
        "    print('Extracting data for %s. This may take a while. Please wait.' % root)\n",
        "    tar = tarfile.open(filename)\n",
        "    sys.stdout.flush()\n",
        "    tar.extractall()\n",
        "    tar.close()\n",
        "  data_folders = [\n",
        "    os.path.join(root, d) for d in sorted(os.listdir(root))\n",
        "    if os.path.isdir(os.path.join(root, d))]\n",
        "  if len(data_folders) != num_classes:\n",
        "    raise Exception(\n",
        "      'Expected %d folders, one per class. Found %d instead.' % (\n",
        "        num_classes, len(data_folders)))\n",
        "  print(data_folders)\n",
        "  return data_folders\n",
        "  \n",
        "train_folders = maybe_extract(train_filename)\n",
        "test_folders = maybe_extract(test_filename)"
      ],
      "execution_count": 0,
      "outputs": [
        {
          "output_type": "stream",
          "text": [
            "Extracting data for notMNIST_large. This may take a while. Please wait.\n",
            "['notMNIST_large/A', 'notMNIST_large/B', 'notMNIST_large/C', 'notMNIST_large/D', 'notMNIST_large/E', 'notMNIST_large/F', 'notMNIST_large/G', 'notMNIST_large/H', 'notMNIST_large/I', 'notMNIST_large/J']\n",
            "Extracting data for notMNIST_small. This may take a while. Please wait.\n",
            "['notMNIST_small/A', 'notMNIST_small/B', 'notMNIST_small/C', 'notMNIST_small/D', 'notMNIST_small/E', 'notMNIST_small/F', 'notMNIST_small/G', 'notMNIST_small/H', 'notMNIST_small/I', 'notMNIST_small/J']\n"
          ],
          "name": "stdout"
        }
      ]
    },
    {
      "cell_type": "code",
      "metadata": {
        "id": "oM0IwxYYO9aa",
        "colab_type": "code",
        "outputId": "e7ac161a-409b-49be-c64a-b866b288ca6a",
        "colab": {
          "base_uri": "https://localhost:8080/",
          "height": 45
        }
      },
      "source": [
        "Image(filename=\"notMNIST_small/A/Q0NXaWxkV29yZHMtQm9sZEl0YWxpYy50dGY=.png\")"
      ],
      "execution_count": 0,
      "outputs": [
        {
          "output_type": "execute_result",
          "data": {
            "image/png": "[encoded data removed]",
            "text/plain": [
              "<IPython.core.display.Image object>"
            ]
          },
          "metadata": {
            "tags": []
          },
          "execution_count": 3
        }
      ]
    },
    {
      "cell_type": "code",
      "metadata": {
        "id": "ElzBmYNEPStW",
        "colab_type": "code",
        "outputId": "42138266-e788-406a-d323-89ae6a55fc70",
        "colab": {
          "base_uri": "https://localhost:8080/",
          "height": 34
        }
      },
      "source": [
        "os.listdir(\"notMNIST_small/\")"
      ],
      "execution_count": 0,
      "outputs": [
        {
          "output_type": "execute_result",
          "data": {
            "text/plain": [
              "['E', 'D', 'C', 'G', 'I', 'A', 'H', 'F', 'J', 'B']"
            ]
          },
          "metadata": {
            "tags": []
          },
          "execution_count": 4
        }
      ]
    },
    {
      "cell_type": "markdown",
      "metadata": {
        "id": "H-Be9hYs_Hfp",
        "colab_type": "text"
      },
      "source": [
        "How to display multiple Images in a cell?\n",
        "https://stackoverflow.com/a/49487396/8693106"
      ]
    },
    {
      "cell_type": "code",
      "metadata": {
        "id": "3Q6Z67IXQ7Fj",
        "colab_type": "code",
        "outputId": "1fc85ef2-abec-4461-ee1d-085aa44487f6",
        "colab": {
          "base_uri": "https://localhost:8080/",
          "height": 1000
        }
      },
      "source": [
        "import random\n",
        "listOfFiles = []\n",
        "for (dirpath, dirnames, filenames) in os.walk(\"notMNIST_small/\"):\n",
        "  listOfFiles += [os.path.join(dirpath, file) for file in filenames]\n",
        "  \n",
        "  for f in listOfFiles:\n",
        "    if random.randint(0,1000) == random.randint(0,1000):\n",
        "      print(f)\n",
        "      display(Image(filename=f))\n",
        "      #break\n",
        "  #break"
      ],
      "execution_count": 0,
      "outputs": [
        {
          "output_type": "stream",
          "text": [
            "notMNIST_small/E/Q2xpY2hlZUNFLU9ibGlxdWUub3Rm.png\n"
          ],
          "name": "stdout"
        },
        {
          "output_type": "display_data",
          "data": {
            "image/png": "[encoded data removed]",
            "text/plain": [
              "<IPython.core.display.Image object>"
            ]
          },
          "metadata": {
            "tags": []
          }
        },
        {
          "output_type": "stream",
          "text": [
            "notMNIST_small/E/Q2FycGFsIFR1bm5lbC50dGY=.png\n"
          ],
          "name": "stdout"
        },
        {
          "output_type": "display_data",
          "data": {
            "image/png": "[encoded data removed]",
            "text/plain": [
              "<IPython.core.display.Image object>"
            ]
          },
          "metadata": {
            "tags": []
          }
        },
        {
          "output_type": "stream",
          "text": [
            "notMNIST_small/E/Q2FwaXRhbHMudHRm.png\n"
          ],
          "name": "stdout"
        },
        {
          "output_type": "display_data",
          "data": {
            "image/png": "[encoded data removed]",
            "text/plain": [
              "<IPython.core.display.Image object>"
            ]
          },
          "metadata": {
            "tags": []
          }
        },
        {
          "output_type": "stream",
          "text": [
            "notMNIST_small/E/RXJhc0JRLUJvb2sub3Rm.png\n"
          ],
          "name": "stdout"
        },
        {
          "output_type": "display_data",
          "data": {
            "image/png": "[encoded data removed]",
            "text/plain": [
              "<IPython.core.display.Image object>"
            ]
          },
          "metadata": {
            "tags": []
          }
        },
        {
          "output_type": "stream",
          "text": [
            "notMNIST_small/D/RGVtb2NyYXRpY2FCb2xkT2xkc3R5bGUub3Rm.png\n"
          ],
          "name": "stdout"
        },
        {
          "output_type": "display_data",
          "data": {
            "image/png": "[encoded data removed]",
            "text/plain": [
              "<IPython.core.display.Image object>"
            ]
          },
          "metadata": {
            "tags": []
          }
        },
        {
          "output_type": "stream",
          "text": [
            "notMNIST_small/E/QWN0aXZhIFRoKDEpLnR0Zg==.png\n"
          ],
          "name": "stdout"
        },
        {
          "output_type": "display_data",
          "data": {
            "image/png": "[encoded data removed]",
            "text/plain": [
              "<IPython.core.display.Image object>"
            ]
          },
          "metadata": {
            "tags": []
          }
        },
        {
          "output_type": "stream",
          "text": [
            "notMNIST_small/D/QWF1eCBQcm9NZWRpdW0gSXRhbGljIE9TRi50dGY=.png\n"
          ],
          "name": "stdout"
        },
        {
          "output_type": "display_data",
          "data": {
            "image/png": "[encoded data removed]",
            "text/plain": [
              "<IPython.core.display.Image object>"
            ]
          },
          "metadata": {
            "tags": []
          }
        },
        {
          "output_type": "stream",
          "text": [
            "notMNIST_small/E/Rm9ybWF0YS1JdGFsaWNTQy5vdGY=.png\n"
          ],
          "name": "stdout"
        },
        {
          "output_type": "display_data",
          "data": {
            "image/png": "[encoded data removed]",
            "text/plain": [
              "<IPython.core.display.Image object>"
            ]
          },
          "metadata": {
            "tags": []
          }
        },
        {
          "output_type": "stream",
          "text": [
            "notMNIST_small/E/QXVndXN0YUNhbmNlbGxhcmVzY2FTdGQtUmVnLm90Zg==.png\n"
          ],
          "name": "stdout"
        },
        {
          "output_type": "display_data",
          "data": {
            "image/png": "[encoded data removed]",
            "text/plain": [
              "<IPython.core.display.Image object>"
            ]
          },
          "metadata": {
            "tags": []
          }
        },
        {
          "output_type": "stream",
          "text": [
            "notMNIST_small/E/RmxhdCBCcnVzaCBUaGluIEJvbGRJdGFsaWMudHRm.png\n"
          ],
          "name": "stdout"
        },
        {
          "output_type": "display_data",
          "data": {
            "image/png": "[encoded data removed]",
            "text/plain": [
              "<IPython.core.display.Image object>"
            ]
          },
          "metadata": {
            "tags": []
          }
        },
        {
          "output_type": "stream",
          "text": [
            "notMNIST_small/C/QmFyY2Vsb25hIEJvbGQudHRm.png\n"
          ],
          "name": "stdout"
        },
        {
          "output_type": "display_data",
          "data": {
            "image/png": "[encoded data removed]",
            "text/plain": [
              "<IPython.core.display.Image object>"
            ]
          },
          "metadata": {
            "tags": []
          }
        },
        {
          "output_type": "stream",
          "text": [
            "notMNIST_small/C/SG91bmRzIEJvbGQudHRm.png\n"
          ],
          "name": "stdout"
        },
        {
          "output_type": "display_data",
          "data": {
            "image/png": "[encoded data removed]",
            "text/plain": [
              "<IPython.core.display.Image object>"
            ]
          },
          "metadata": {
            "tags": []
          }
        },
        {
          "output_type": "stream",
          "text": [
            "notMNIST_small/C/QXBvbGxvIFJlZ3VsYXIudHRm.png\n"
          ],
          "name": "stdout"
        },
        {
          "output_type": "display_data",
          "data": {
            "image/png": "[encoded data removed]",
            "text/plain": [
              "<IPython.core.display.Image object>"
            ]
          },
          "metadata": {
            "tags": []
          }
        },
        {
          "output_type": "stream",
          "text": [
            "notMNIST_small/G/QmFzZVR3ZWx2ZVNlcmlmU0NCLnR0Zg==.png\n"
          ],
          "name": "stdout"
        },
        {
          "output_type": "display_data",
          "data": {
            "image/png": "[encoded data removed]",
            "text/plain": [
              "<IPython.core.display.Image object>"
            ]
          },
          "metadata": {
            "tags": []
          }
        },
        {
          "output_type": "stream",
          "text": [
            "notMNIST_small/E/Qmxpc3MgQm9sZC50dGY=.png\n"
          ],
          "name": "stdout"
        },
        {
          "output_type": "display_data",
          "data": {
            "image/png": "[encoded data removed]",
            "text/plain": [
              "<IPython.core.display.Image object>"
            ]
          },
          "metadata": {
            "tags": []
          }
        },
        {
          "output_type": "stream",
          "text": [
            "notMNIST_small/E/Q2hvcmQtQmxhY2tJdGFsaWMub3Rm.png\n"
          ],
          "name": "stdout"
        },
        {
          "output_type": "display_data",
          "data": {
            "image/png": "[encoded data removed]",
            "text/plain": [
              "<IPython.core.display.Image object>"
            ]
          },
          "metadata": {
            "tags": []
          }
        },
        {
          "output_type": "stream",
          "text": [
            "notMNIST_small/E/RHJ1bW1lci50dGY=.png\n"
          ],
          "name": "stdout"
        },
        {
          "output_type": "display_data",
          "data": {
            "image/png": "[encoded data removed]",
            "text/plain": [
              "<IPython.core.display.Image object>"
            ]
          },
          "metadata": {
            "tags": []
          }
        },
        {
          "output_type": "stream",
          "text": [
            "notMNIST_small/D/QWFjaGVuIExUIEJvbGQudHRm.png\n"
          ],
          "name": "stdout"
        },
        {
          "output_type": "display_data",
          "data": {
            "image/png": "[encoded data removed]",
            "text/plain": [
              "<IPython.core.display.Image object>"
            ]
          },
          "metadata": {
            "tags": []
          }
        },
        {
          "output_type": "stream",
          "text": [
            "notMNIST_small/D/Q29ycG9yYXRlIEEgRXhwZXJ0IEl0YWxpYyBPc0YudHRm.png\n"
          ],
          "name": "stdout"
        },
        {
          "output_type": "display_data",
          "data": {
            "image/png": "[encoded data removed]",
            "text/plain": [
              "<IPython.core.display.Image object>"
            ]
          },
          "metadata": {
            "tags": []
          }
        },
        {
          "output_type": "stream",
          "text": [
            "notMNIST_small/D/RnJlbmNoMTExQlQtUmVndWxhci5vdGY=.png\n"
          ],
          "name": "stdout"
        },
        {
          "output_type": "display_data",
          "data": {
            "image/png": "[encoded data removed]",
            "text/plain": [
              "<IPython.core.display.Image object>"
            ]
          },
          "metadata": {
            "tags": []
          }
        },
        {
          "output_type": "stream",
          "text": [
            "notMNIST_small/D/Q2FzbG9uVHdvVHdlbnR5Rm91ckJRLU1lZGl1bS5vdGY=.png\n"
          ],
          "name": "stdout"
        },
        {
          "output_type": "display_data",
          "data": {
            "image/png": "[encoded data removed]",
            "text/plain": [
              "<IPython.core.display.Image object>"
            ]
          },
          "metadata": {
            "tags": []
          }
        },
        {
          "output_type": "stream",
          "text": [
            "notMNIST_small/D/RGVzdGlqbEV4cGVydC5vdGY=.png\n"
          ],
          "name": "stdout"
        },
        {
          "output_type": "display_data",
          "data": {
            "image/png": "[encoded data removed]",
            "text/plain": [
              "<IPython.core.display.Image object>"
            ]
          },
          "metadata": {
            "tags": []
          }
        },
        {
          "output_type": "stream",
          "text": [
            "notMNIST_small/G/QSBNb2JpbGUgTGlmZS50dGY=.png\n"
          ],
          "name": "stdout"
        },
        {
          "output_type": "display_data",
          "data": {
            "image/png": "[encoded data removed]",
            "text/plain": [
              "<IPython.core.display.Image object>"
            ]
          },
          "metadata": {
            "tags": []
          }
        },
        {
          "output_type": "stream",
          "text": [
            "notMNIST_small/E/RFRMUGFyYWRveFNULU1lZGl1bS5vdGY=.png\n"
          ],
          "name": "stdout"
        },
        {
          "output_type": "display_data",
          "data": {
            "image/png": "[encoded data removed]",
            "text/plain": [
              "<IPython.core.display.Image object>"
            ]
          },
          "metadata": {
            "tags": []
          }
        },
        {
          "output_type": "stream",
          "text": [
            "notMNIST_small/E/QXV0bzEtQmxhY2tJdGFsaWNMRi50dGY=.png\n"
          ],
          "name": "stdout"
        },
        {
          "output_type": "display_data",
          "data": {
            "image/png": "[encoded data removed]",
            "text/plain": [
              "<IPython.core.display.Image object>"
            ]
          },
          "metadata": {
            "tags": []
          }
        },
        {
          "output_type": "stream",
          "text": [
            "notMNIST_small/D/Q2xlYXJmYWNlQVRGQlEtQm9sZC5vdGY=.png\n"
          ],
          "name": "stdout"
        },
        {
          "output_type": "display_data",
          "data": {
            "image/png": "[encoded data removed]",
            "text/plain": [
              "<IPython.core.display.Image object>"
            ]
          },
          "metadata": {
            "tags": []
          }
        },
        {
          "output_type": "stream",
          "text": [
            "notMNIST_small/C/R2Vyc3RuZXJCUS1Cb2xkSXRhbGljLm90Zg==.png\n"
          ],
          "name": "stdout"
        },
        {
          "output_type": "display_data",
          "data": {
            "image/png": "[encoded data removed]",
            "text/plain": [
              "<IPython.core.display.Image object>"
            ]
          },
          "metadata": {
            "tags": []
          }
        },
        {
          "output_type": "stream",
          "text": [
            "notMNIST_small/G/SVRDIFRpZmZhbnkgTWVkaXVtLnBmYg==.png\n"
          ],
          "name": "stdout"
        },
        {
          "output_type": "display_data",
          "data": {
            "image/png": "[encoded data removed]",
            "text/plain": [
              "<IPython.core.display.Image object>"
            ]
          },
          "metadata": {
            "tags": []
          }
        },
        {
          "output_type": "stream",
          "text": [
            "notMNIST_small/G/SG9vZ2UwNDY2LnR0Zg==.png\n"
          ],
          "name": "stdout"
        },
        {
          "output_type": "display_data",
          "data": {
            "image/png": "[encoded data removed]",
            "text/plain": [
              "<IPython.core.display.Image object>"
            ]
          },
          "metadata": {
            "tags": []
          }
        },
        {
          "output_type": "stream",
          "text": [
            "notMNIST_small/I/Q29uc3RydWN0YS1UaGluLm90Zg==.png\n"
          ],
          "name": "stdout"
        },
        {
          "output_type": "display_data",
          "data": {
            "image/png": "[encoded data removed]",
            "text/plain": [
              "<IPython.core.display.Image object>"
            ]
          },
          "metadata": {
            "tags": []
          }
        },
        {
          "output_type": "stream",
          "text": [
            "notMNIST_small/I/Q29ycG9TTGlnIEJvbGQudHRm.png\n"
          ],
          "name": "stdout"
        },
        {
          "output_type": "display_data",
          "data": {
            "image/png": "[encoded data removed]",
            "text/plain": [
              "<IPython.core.display.Image object>"
            ]
          },
          "metadata": {
            "tags": []
          }
        },
        {
          "output_type": "stream",
          "text": [
            "notMNIST_small/A/QnJ1aXNlZCBUd2VudHlGaXZlLnR0Zg==.png\n"
          ],
          "name": "stdout"
        },
        {
          "output_type": "display_data",
          "data": {
            "image/png": "[encoded data removed]",
            "text/plain": [
              "<IPython.core.display.Image object>"
            ]
          },
          "metadata": {
            "tags": []
          }
        },
        {
          "output_type": "stream",
          "text": [
            "notMNIST_small/E/Q2FzbG9uQzM3LUxndEl0bEFsdC5vdGY=.png\n"
          ],
          "name": "stdout"
        },
        {
          "output_type": "display_data",
          "data": {
            "image/png": "[encoded data removed]",
            "text/plain": [
              "<IPython.core.display.Image object>"
            ]
          },
          "metadata": {
            "tags": []
          }
        },
        {
          "output_type": "stream",
          "text": [
            "notMNIST_small/D/QnJvYWR3YXlGb250Lm90Zg==.png\n"
          ],
          "name": "stdout"
        },
        {
          "output_type": "display_data",
          "data": {
            "image/png": "[encoded data removed]",
            "text/plain": [
              "<IPython.core.display.Image object>"
            ]
          },
          "metadata": {
            "tags": []
          }
        },
        {
          "output_type": "stream",
          "text": [
            "notMNIST_small/D/QmFzZU5pbmVCSS50dGY=.png\n"
          ],
          "name": "stdout"
        },
        {
          "output_type": "display_data",
          "data": {
            "image/png": "[encoded data removed]",
            "text/plain": [
              "<IPython.core.display.Image object>"
            ]
          },
          "metadata": {
            "tags": []
          }
        },
        {
          "output_type": "stream",
          "text": [
            "notMNIST_small/C/Q29vcGVyIEl0YWxpYy50dGY=.png\n"
          ],
          "name": "stdout"
        },
        {
          "output_type": "display_data",
          "data": {
            "image/png": "[encoded data removed]",
            "text/plain": [
              "<IPython.core.display.Image object>"
            ]
          },
          "metadata": {
            "tags": []
          }
        },
        {
          "output_type": "stream",
          "text": [
            "notMNIST_small/G/Q29uY29yZGVFeHBlcnRCUS1NZWRpdW0ub3Rm.png\n"
          ],
          "name": "stdout"
        },
        {
          "output_type": "display_data",
          "data": {
            "image/png": "[encoded data removed]",
            "text/plain": [
              "<IPython.core.display.Image object>"
            ]
          },
          "metadata": {
            "tags": []
          }
        },
        {
          "output_type": "stream",
          "text": [
            "notMNIST_small/I/RWxlbWVudGFTeW1ib2wtSXRhbGljLm90Zg==.png\n"
          ],
          "name": "stdout"
        },
        {
          "output_type": "display_data",
          "data": {
            "image/png": "[encoded data removed]",
            "text/plain": [
              "<IPython.core.display.Image object>"
            ]
          },
          "metadata": {
            "tags": []
          }
        },
        {
          "output_type": "stream",
          "text": [
            "notMNIST_small/I/R290aGljSWxsdW1pbmF0ZS50dGY=.png\n"
          ],
          "name": "stdout"
        },
        {
          "output_type": "display_data",
          "data": {
            "image/png": "[encoded data removed]",
            "text/plain": [
              "<IPython.core.display.Image object>"
            ]
          },
          "metadata": {
            "tags": []
          }
        },
        {
          "output_type": "stream",
          "text": [
            "notMNIST_small/I/Q29ucXVpc3RhIFNTaSBJdGFsaWMudHRm.png\n"
          ],
          "name": "stdout"
        },
        {
          "output_type": "display_data",
          "data": {
            "image/png": "[encoded data removed]",
            "text/plain": [
              "<IPython.core.display.Image object>"
            ]
          },
          "metadata": {
            "tags": []
          }
        },
        {
          "output_type": "stream",
          "text": [
            "notMNIST_small/A/RXNwcml0U0NFRi1Cb29rLm90Zg==.png\n"
          ],
          "name": "stdout"
        },
        {
          "output_type": "display_data",
          "data": {
            "image/png": "[encoded data removed]",
            "text/plain": [
              "<IPython.core.display.Image object>"
            ]
          },
          "metadata": {
            "tags": []
          }
        },
        {
          "output_type": "stream",
          "text": [
            "notMNIST_small/A/Q29sb255Lm90Zg==.png\n"
          ],
          "name": "stdout"
        },
        {
          "output_type": "display_data",
          "data": {
            "image/png": "[encoded data removed]",
            "text/plain": [
              "<IPython.core.display.Image object>"
            ]
          },
          "metadata": {
            "tags": []
          }
        },
        {
          "output_type": "stream",
          "text": [
            "notMNIST_small/A/RXBpcGhvbi5vdGY=.png\n"
          ],
          "name": "stdout"
        },
        {
          "output_type": "display_data",
          "data": {
            "image/png": "[encoded data removed]",
            "text/plain": [
              "<IPython.core.display.Image object>"
            ]
          },
          "metadata": {
            "tags": []
          }
        },
        {
          "output_type": "stream",
          "text": [
            "notMNIST_small/H/RmFybWhhdXNJVEMtTm9ybWFsLm90Zg==.png\n"
          ],
          "name": "stdout"
        },
        {
          "output_type": "display_data",
          "data": {
            "image/png": "[encoded data removed]",
            "text/plain": [
              "<IPython.core.display.Image object>"
            ]
          },
          "metadata": {
            "tags": []
          }
        },
        {
          "output_type": "stream",
          "text": [
            "notMNIST_small/H/QW1lcmlnbyBCVCBCb2xkLnR0Zg==.png\n"
          ],
          "name": "stdout"
        },
        {
          "output_type": "display_data",
          "data": {
            "image/png": "[encoded data removed]",
            "text/plain": [
              "<IPython.core.display.Image object>"
            ]
          },
          "metadata": {
            "tags": []
          }
        },
        {
          "output_type": "stream",
          "text": [
            "notMNIST_small/H/RHV0Y2g4MDFCVC1Cb2xkLm90Zg==.png\n"
          ],
          "name": "stdout"
        },
        {
          "output_type": "display_data",
          "data": {
            "image/png": "[encoded data removed]",
            "text/plain": [
              "<IPython.core.display.Image object>"
            ]
          },
          "metadata": {
            "tags": []
          }
        },
        {
          "output_type": "stream",
          "text": [
            "notMNIST_small/E/SGFwcHkgRGF5cyBVcHJpZ2h0LnR0Zg==.png\n"
          ],
          "name": "stdout"
        },
        {
          "output_type": "display_data",
          "data": {
            "image/png": "[encoded data removed]",
            "text/plain": [
              "<IPython.core.display.Image object>"
            ]
          },
          "metadata": {
            "tags": []
          }
        },
        {
          "output_type": "stream",
          "text": [
            "notMNIST_small/E/Q2FzbG9uQzM3LUxndEl0bEFsdC5vdGY=.png\n"
          ],
          "name": "stdout"
        },
        {
          "output_type": "display_data",
          "data": {
            "image/png": "[encoded data removed]",
            "text/plain": [
              "<IPython.core.display.Image object>"
            ]
          },
          "metadata": {
            "tags": []
          }
        },
        {
          "output_type": "stream",
          "text": [
            "notMNIST_small/E/R29sZGVuVHlwZVNDRUYtT3JpZ2luYWwub3Rm.png\n"
          ],
          "name": "stdout"
        },
        {
          "output_type": "display_data",
          "data": {
            "image/png": "[encoded data removed]",
            "text/plain": [
              "<IPython.core.display.Image object>"
            ]
          },
          "metadata": {
            "tags": []
          }
        },
        {
          "output_type": "stream",
          "text": [
            "notMNIST_small/D/Qm9kb25pT2xkRmFjZUJFLVJlZ3VsYXIub3Rm.png\n"
          ],
          "name": "stdout"
        },
        {
          "output_type": "display_data",
          "data": {
            "image/png": "[encoded data removed]",
            "text/plain": [
              "<IPython.core.display.Image object>"
            ]
          },
          "metadata": {
            "tags": []
          }
        },
        {
          "output_type": "stream",
          "text": [
            "notMNIST_small/C/QW4gaXJyaXRhdGluZyBzcGVjay50dGY=.png\n"
          ],
          "name": "stdout"
        },
        {
          "output_type": "display_data",
          "data": {
            "image/png": "[encoded data removed]",
            "text/plain": [
              "<IPython.core.display.Image object>"
            ]
          },
          "metadata": {
            "tags": []
          }
        },
        {
          "output_type": "stream",
          "text": [
            "notMNIST_small/I/Q29ycG9TTGlnIEJvbGQudHRm.png\n"
          ],
          "name": "stdout"
        },
        {
          "output_type": "display_data",
          "data": {
            "image/png": "[encoded data removed]",
            "text/plain": [
              "<IPython.core.display.Image object>"
            ]
          },
          "metadata": {
            "tags": []
          }
        },
        {
          "output_type": "stream",
          "text": [
            "notMNIST_small/I/RXJhc0lUQ2J5QlQtRGVtaS5vdGY=.png\n"
          ],
          "name": "stdout"
        },
        {
          "output_type": "display_data",
          "data": {
            "image/png": "[encoded data removed]",
            "text/plain": [
              "<IPython.core.display.Image object>"
            ]
          },
          "metadata": {
            "tags": []
          }
        },
        {
          "output_type": "stream",
          "text": [
            "notMNIST_small/A/QmFpbGV5IFNhbnMgSVRDIEJvb2sudHRm.png\n"
          ],
          "name": "stdout"
        },
        {
          "output_type": "display_data",
          "data": {
            "image/png": "[encoded data removed]",
            "text/plain": [
              "<IPython.core.display.Image object>"
            ]
          },
          "metadata": {
            "tags": []
          }
        },
        {
          "output_type": "stream",
          "text": [
            "notMNIST_small/H/RWlkZXRpY01vZGVybi1JdGFsaWMub3Rm.png\n"
          ],
          "name": "stdout"
        },
        {
          "output_type": "display_data",
          "data": {
            "image/png": "[encoded data removed]",
            "text/plain": [
              "<IPython.core.display.Image object>"
            ]
          },
          "metadata": {
            "tags": []
          }
        },
        {
          "output_type": "stream",
          "text": [
            "notMNIST_small/H/SHVtYW5pc3Q3NzdCVC1FeHRyYUJsYWNrQi5vdGY=.png\n"
          ],
          "name": "stdout"
        },
        {
          "output_type": "display_data",
          "data": {
            "image/png": "[encoded data removed]",
            "text/plain": [
              "<IPython.core.display.Image object>"
            ]
          },
          "metadata": {
            "tags": []
          }
        },
        {
          "output_type": "stream",
          "text": [
            "notMNIST_small/F/Q2l0eS1MaWdodC5vdGY=.png\n"
          ],
          "name": "stdout"
        },
        {
          "output_type": "display_data",
          "data": {
            "image/png": "[encoded data removed]",
            "text/plain": [
              "<IPython.core.display.Image object>"
            ]
          },
          "metadata": {
            "tags": []
          }
        },
        {
          "output_type": "stream",
          "text": [
            "notMNIST_small/F/Q09ERTNYLnR0Zg==.png\n"
          ],
          "name": "stdout"
        },
        {
          "output_type": "display_data",
          "data": {
            "image/png": "[encoded data removed]",
            "text/plain": [
              "<IPython.core.display.Image object>"
            ]
          },
          "metadata": {
            "tags": []
          }
        },
        {
          "output_type": "stream",
          "text": [
            "notMNIST_small/E/QmxldyBXaWRlIEJvbGQgSXRhbGljLnR0Zg==.png\n"
          ],
          "name": "stdout"
        },
        {
          "output_type": "display_data",
          "data": {
            "image/png": "[encoded data removed]",
            "text/plain": [
              "<IPython.core.display.Image object>"
            ]
          },
          "metadata": {
            "tags": []
          }
        },
        {
          "output_type": "stream",
          "text": [
            "notMNIST_small/D/RHVjaGFtcEJvbGQub3Rm.png\n"
          ],
          "name": "stdout"
        },
        {
          "output_type": "display_data",
          "data": {
            "image/png": "[encoded data removed]",
            "text/plain": [
              "<IPython.core.display.Image object>"
            ]
          },
          "metadata": {
            "tags": []
          }
        },
        {
          "output_type": "stream",
          "text": [
            "notMNIST_small/D/R2lsbFNhbnNNVFN0ZC1Cb2xkLm90Zg==.png\n"
          ],
          "name": "stdout"
        },
        {
          "output_type": "display_data",
          "data": {
            "image/png": "[encoded data removed]",
            "text/plain": [
              "<IPython.core.display.Image object>"
            ]
          },
          "metadata": {
            "tags": []
          }
        },
        {
          "output_type": "stream",
          "text": [
            "notMNIST_small/D/RnJpc2Fuc1N0ZC5vdGY=.png\n"
          ],
          "name": "stdout"
        },
        {
          "output_type": "display_data",
          "data": {
            "image/png": "[encoded data removed]",
            "text/plain": [
              "<IPython.core.display.Image object>"
            ]
          },
          "metadata": {
            "tags": []
          }
        },
        {
          "output_type": "stream",
          "text": [
            "notMNIST_small/D/RmxvcmlhdGVkIEdpbGwudHRm.png\n"
          ],
          "name": "stdout"
        },
        {
          "output_type": "display_data",
          "data": {
            "image/png": "[encoded data removed]",
            "text/plain": [
              "<IPython.core.display.Image object>"
            ]
          },
          "metadata": {
            "tags": []
          }
        },
        {
          "output_type": "stream",
          "text": [
            "notMNIST_small/C/Rm9ybXVsYS1FeHRyYUJvbGQub3Rm.png\n"
          ],
          "name": "stdout"
        },
        {
          "output_type": "display_data",
          "data": {
            "image/png": "[encoded data removed]",
            "text/plain": [
              "<IPython.core.display.Image object>"
            ]
          },
          "metadata": {
            "tags": []
          }
        },
        {
          "output_type": "stream",
          "text": [
            "notMNIST_small/G/R2FyYW1vbmRMVC1Cb2xkQ29uZGVuc2VkLm90Zg==.png\n"
          ],
          "name": "stdout"
        },
        {
          "output_type": "display_data",
          "data": {
            "image/png": "[encoded data removed]",
            "text/plain": [
              "<IPython.core.display.Image object>"
            ]
          },
          "metadata": {
            "tags": []
          }
        },
        {
          "output_type": "stream",
          "text": [
            "notMNIST_small/G/RnJhbmsgSXRhbGljLnR0Zg==.png\n"
          ],
          "name": "stdout"
        },
        {
          "output_type": "display_data",
          "data": {
            "image/png": "[encoded data removed]",
            "text/plain": [
              "<IPython.core.display.Image object>"
            ]
          },
          "metadata": {
            "tags": []
          }
        },
        {
          "output_type": "stream",
          "text": [
            "notMNIST_small/G/Qm9kb25pQmF1ZXJCUS1SZWd1bGFyLm90Zg==.png\n"
          ],
          "name": "stdout"
        },
        {
          "output_type": "display_data",
          "data": {
            "image/png": "[encoded data removed]",
            "text/plain": [
              "<IPython.core.display.Image object>"
            ]
          },
          "metadata": {
            "tags": []
          }
        },
        {
          "output_type": "stream",
          "text": [
            "notMNIST_small/A/Q2lyY3VsYXRlIChCUkspLnR0Zg==.png\n"
          ],
          "name": "stdout"
        },
        {
          "output_type": "display_data",
          "data": {
            "image/png": "[encoded data removed]",
            "text/plain": [
              "<IPython.core.display.Image object>"
            ]
          },
          "metadata": {
            "tags": []
          }
        },
        {
          "output_type": "stream",
          "text": [
            "notMNIST_small/A/QXRsYW50aXggU1NpIFNlbWkgQm9sZCBJdGFsaWMudHRm.png\n"
          ],
          "name": "stdout"
        },
        {
          "output_type": "display_data",
          "data": {
            "image/png": "[encoded data removed]",
            "text/plain": [
              "<IPython.core.display.Image object>"
            ]
          },
          "metadata": {
            "tags": []
          }
        },
        {
          "output_type": "stream",
          "text": [
            "notMNIST_small/A/Q291cmllciBOZXcgQ0UgQm9sZCBJdGFsaWMudHRm.png\n"
          ],
          "name": "stdout"
        },
        {
          "output_type": "display_data",
          "data": {
            "image/png": "[encoded data removed]",
            "text/plain": [
              "<IPython.core.display.Image object>"
            ]
          },
          "metadata": {
            "tags": []
          }
        },
        {
          "output_type": "stream",
          "text": [
            "notMNIST_small/A/Qm9yZGVhdXggSUNHLnR0Zg==.png\n"
          ],
          "name": "stdout"
        },
        {
          "output_type": "display_data",
          "data": {
            "image/png": "[encoded data removed]",
            "text/plain": [
              "<IPython.core.display.Image object>"
            ]
          },
          "metadata": {
            "tags": []
          }
        },
        {
          "output_type": "stream",
          "text": [
            "notMNIST_small/H/SG9lZmxlclRleHQtUm9tYW4tU21hbGxDYXBzLm90Zg==.png\n"
          ],
          "name": "stdout"
        },
        {
          "output_type": "display_data",
          "data": {
            "image/png": "[encoded data removed]",
            "text/plain": [
              "<IPython.core.display.Image object>"
            ]
          },
          "metadata": {
            "tags": []
          }
        },
        {
          "output_type": "stream",
          "text": [
            "notMNIST_small/F/RW5nbGlzY2hlU2NoVCBCb2xkLnR0Zg==.png\n"
          ],
          "name": "stdout"
        },
        {
          "output_type": "display_data",
          "data": {
            "image/png": "[encoded data removed]",
            "text/plain": [
              "<IPython.core.display.Image object>"
            ]
          },
          "metadata": {
            "tags": []
          }
        },
        {
          "output_type": "stream",
          "text": [
            "notMNIST_small/F/Q2hlbHRlbmhtIEJUIFJvbWFuLnR0Zg==.png\n"
          ],
          "name": "stdout"
        },
        {
          "output_type": "display_data",
          "data": {
            "image/png": "[encoded data removed]",
            "text/plain": [
              "<IPython.core.display.Image object>"
            ]
          },
          "metadata": {
            "tags": []
          }
        },
        {
          "output_type": "stream",
          "text": [
            "notMNIST_small/F/QnJpZW1Ba2FkZW1pU3RkLVJlZ3VsYXIub3Rm.png\n"
          ],
          "name": "stdout"
        },
        {
          "output_type": "display_data",
          "data": {
            "image/png": "[encoded data removed]",
            "text/plain": [
              "<IPython.core.display.Image object>"
            ]
          },
          "metadata": {
            "tags": []
          }
        },
        {
          "output_type": "stream",
          "text": [
            "notMNIST_small/J/QmVuZ3VpYXRHb3RoaWNCUS1Cb2xkSXRhbGljLm90Zg==.png\n"
          ],
          "name": "stdout"
        },
        {
          "output_type": "display_data",
          "data": {
            "image/png": "[encoded data removed]",
            "text/plain": [
              "<IPython.core.display.Image object>"
            ]
          },
          "metadata": {
            "tags": []
          }
        },
        {
          "output_type": "stream",
          "text": [
            "notMNIST_small/J/Q2l0eSAoUikgTGlnaHQudHRm.png\n"
          ],
          "name": "stdout"
        },
        {
          "output_type": "display_data",
          "data": {
            "image/png": "[encoded data removed]",
            "text/plain": [
              "<IPython.core.display.Image object>"
            ]
          },
          "metadata": {
            "tags": []
          }
        },
        {
          "output_type": "stream",
          "text": [
            "notMNIST_small/J/Q29tcGF0aWxMZXR0ZXIgTFQgQm9sZCBTbWFsbCBDYXBzLnR0Zg==.png\n"
          ],
          "name": "stdout"
        },
        {
          "output_type": "display_data",
          "data": {
            "image/png": "[encoded data removed]",
            "text/plain": [
              "<IPython.core.display.Image object>"
            ]
          },
          "metadata": {
            "tags": []
          }
        },
        {
          "output_type": "stream",
          "text": [
            "notMNIST_small/E/RFRMUGFyYWRveFNULm90Zg==.png\n"
          ],
          "name": "stdout"
        },
        {
          "output_type": "display_data",
          "data": {
            "image/png": "[encoded data removed]",
            "text/plain": [
              "<IPython.core.display.Image object>"
            ]
          },
          "metadata": {
            "tags": []
          }
        },
        {
          "output_type": "stream",
          "text": [
            "notMNIST_small/E/SVRDIEdvdWR5IFNhbnMgTWVkaXVtLnBmYg==.png\n"
          ],
          "name": "stdout"
        },
        {
          "output_type": "display_data",
          "data": {
            "image/png": "[encoded data removed]",
            "text/plain": [
              "<IPython.core.display.Image object>"
            ]
          },
          "metadata": {
            "tags": []
          }
        },
        {
          "output_type": "stream",
          "text": [
            "notMNIST_small/E/R2lsZ29uZ28gVGlraS50dGY=.png\n"
          ],
          "name": "stdout"
        },
        {
          "output_type": "display_data",
          "data": {
            "image/png": "[encoded data removed]",
            "text/plain": [
              "<IPython.core.display.Image object>"
            ]
          },
          "metadata": {
            "tags": []
          }
        },
        {
          "output_type": "stream",
          "text": [
            "notMNIST_small/D/RHluYW1vRGNEQy5vdGY=.png\n"
          ],
          "name": "stdout"
        },
        {
          "output_type": "display_data",
          "data": {
            "image/png": "[encoded data removed]",
            "text/plain": [
              "<IPython.core.display.Image object>"
            ]
          },
          "metadata": {
            "tags": []
          }
        },
        {
          "output_type": "stream",
          "text": [
            "notMNIST_small/D/RnJlaWdodEJpZ0JvbGRJdGFsaWMudHRm.png\n"
          ],
          "name": "stdout"
        },
        {
          "output_type": "display_data",
          "data": {
            "image/png": "[encoded data removed]",
            "text/plain": [
              "<IPython.core.display.Image object>"
            ]
          },
          "metadata": {
            "tags": []
          }
        },
        {
          "output_type": "stream",
          "text": [
            "notMNIST_small/C/RFRMUGFyYWRveFQtTWVkaXVtLm90Zg==.png\n"
          ],
          "name": "stdout"
        },
        {
          "output_type": "display_data",
          "data": {
            "image/png": "[encoded data removed]",
            "text/plain": [
              "<IPython.core.display.Image object>"
            ]
          },
          "metadata": {
            "tags": []
          }
        },
        {
          "output_type": "stream",
          "text": [
            "notMNIST_small/C/RnV0dXJhTFQtQm9va09ibGlxdWUub3Rm.png\n"
          ],
          "name": "stdout"
        },
        {
          "output_type": "display_data",
          "data": {
            "image/png": "[encoded data removed]",
            "text/plain": [
              "<IPython.core.display.Image object>"
            ]
          },
          "metadata": {
            "tags": []
          }
        },
        {
          "output_type": "stream",
          "text": [
            "notMNIST_small/G/QmFza2VydmlsbGVCUS1NZWRpdW0ub3Rm.png\n"
          ],
          "name": "stdout"
        },
        {
          "output_type": "display_data",
          "data": {
            "image/png": "[encoded data removed]",
            "text/plain": [
              "<IPython.core.display.Image object>"
            ]
          },
          "metadata": {
            "tags": []
          }
        },
        {
          "output_type": "stream",
          "text": [
            "notMNIST_small/G/SWNvbmUgTFQgTGlnaHQgSXRhbGljIE9zRi50dGY=.png\n"
          ],
          "name": "stdout"
        },
        {
          "output_type": "display_data",
          "data": {
            "image/png": "[encoded data removed]",
            "text/plain": [
              "<IPython.core.display.Image object>"
            ]
          },
          "metadata": {
            "tags": []
          }
        },
        {
          "output_type": "stream",
          "text": [
            "notMNIST_small/A/QXVyZWxpYUVGLUJvb2tJdGFsaWMub3Rm.png\n"
          ],
          "name": "stdout"
        },
        {
          "output_type": "display_data",
          "data": {
            "image/png": "[encoded data removed]",
            "text/plain": [
              "<IPython.core.display.Image object>"
            ]
          },
          "metadata": {
            "tags": []
          }
        },
        {
          "output_type": "stream",
          "text": [
            "notMNIST_small/A/QmVybGluZXIgR3JvdGVzayBNZWRpdW0udHRm.png\n"
          ],
          "name": "stdout"
        },
        {
          "output_type": "display_data",
          "data": {
            "image/png": "[encoded data removed]",
            "text/plain": [
              "<IPython.core.display.Image object>"
            ]
          },
          "metadata": {
            "tags": []
          }
        },
        {
          "output_type": "stream",
          "text": [
            "notMNIST_small/A/RWxla3Ryb24udHRm.png\n"
          ],
          "name": "stdout"
        },
        {
          "output_type": "display_data",
          "data": {
            "image/png": "[encoded data removed]",
            "text/plain": [
              "<IPython.core.display.Image object>"
            ]
          },
          "metadata": {
            "tags": []
          }
        },
        {
          "output_type": "stream",
          "text": [
            "notMNIST_small/H/RnJlZXplciBCVE4gQ29uZGVuc2VkIE9ibGlxdWUudHRm.png\n"
          ],
          "name": "stdout"
        },
        {
          "output_type": "display_data",
          "data": {
            "image/png": "[encoded data removed]",
            "text/plain": [
              "<IPython.core.display.Image object>"
            ]
          },
          "metadata": {
            "tags": []
          }
        },
        {
          "output_type": "stream",
          "text": [
            "notMNIST_small/H/QmFuZ2xlIENvbmRlbnNlZCBCb2xkIEl0YWxpYy50dGY=.png\n"
          ],
          "name": "stdout"
        },
        {
          "output_type": "display_data",
          "data": {
            "image/png": "[encoded data removed]",
            "text/plain": [
              "<IPython.core.display.Image object>"
            ]
          },
          "metadata": {
            "tags": []
          }
        },
        {
          "output_type": "stream",
          "text": [
            "notMNIST_small/F/RmluZUhhbmRQbGFpbi5vdGY=.png\n"
          ],
          "name": "stdout"
        },
        {
          "output_type": "display_data",
          "data": {
            "image/png": "[encoded data removed]",
            "text/plain": [
              "<IPython.core.display.Image object>"
            ]
          },
          "metadata": {
            "tags": []
          }
        },
        {
          "output_type": "stream",
          "text": [
            "notMNIST_small/F/QXRsYXMgb2YgdGhlIE1hZ2kudHRm.png\n"
          ],
          "name": "stdout"
        },
        {
          "output_type": "display_data",
          "data": {
            "image/png": "[encoded data removed]",
            "text/plain": [
              "<IPython.core.display.Image object>"
            ]
          },
          "metadata": {
            "tags": []
          }
        },
        {
          "output_type": "stream",
          "text": [
            "notMNIST_small/J/RnJhbmtUaW1lcy1JdGFsaWMudHRm.png\n"
          ],
          "name": "stdout"
        },
        {
          "output_type": "display_data",
          "data": {
            "image/png": "[encoded data removed]",
            "text/plain": [
              "<IPython.core.display.Image object>"
            ]
          },
          "metadata": {
            "tags": []
          }
        },
        {
          "output_type": "stream",
          "text": [
            "notMNIST_small/B/R291ZHkgSGFuZHRvb2xlZC5wZmI=.png\n"
          ],
          "name": "stdout"
        },
        {
          "output_type": "display_data",
          "data": {
            "image/png": "[encoded data removed]",
            "text/plain": [
              "<IPython.core.display.Image object>"
            ]
          },
          "metadata": {
            "tags": []
          }
        },
        {
          "output_type": "stream",
          "text": [
            "notMNIST_small/B/RGF5dHJpcHBlciBQbGFpbi50dGY=.png\n"
          ],
          "name": "stdout"
        },
        {
          "output_type": "display_data",
          "data": {
            "image/png": "[encoded data removed]",
            "text/plain": [
              "<IPython.core.display.Image object>"
            ]
          },
          "metadata": {
            "tags": []
          }
        }
      ]
    },
    {
      "cell_type": "code",
      "metadata": {
        "id": "eb7mDU9P9U26",
        "colab_type": "code",
        "outputId": "404c5737-73bf-48b5-801d-69445150828a",
        "colab": {
          "base_uri": "https://localhost:8080/",
          "height": 1000
        }
      },
      "source": [
        "import imageio\n",
        "\n",
        "image_size = 28  # Pixel width and height.\n",
        "pixel_depth = 255.0  # Number of levels per pixel.\n",
        "\n",
        "def load_letter(folder, min_num_images):\n",
        "  \"\"\"Load the data for a single letter label.\"\"\"\n",
        "  image_files = os.listdir(folder)\n",
        "  dataset = np.ndarray(shape=(len(image_files), image_size, image_size),\n",
        "                         dtype=np.float32)\n",
        "  print(folder)\n",
        "  num_images = 0\n",
        "  for image in image_files:\n",
        "    image_file = os.path.join(folder, image)\n",
        "    try:\n",
        "      image_data = (imageio.imread(image_file).astype(float) - \n",
        "                    pixel_depth / 2) / pixel_depth\n",
        "      if image_data.shape != (image_size, image_size):\n",
        "        raise Exception('Unexpected image shape: %s' % str(image_data.shape))\n",
        "      dataset[num_images, :, :] = image_data\n",
        "      num_images = num_images + 1\n",
        "    except (IOError, ValueError) as e:\n",
        "      print('Could not read:', image_file, ':', e, '- it\\'s ok, skipping.')\n",
        "    \n",
        "  dataset = dataset[0:num_images, :, :]\n",
        "  if num_images < min_num_images:\n",
        "    raise Exception('Many fewer images than expected: %d < %d' %\n",
        "                    (num_images, min_num_images))\n",
        "    \n",
        "  print('Full dataset tensor:', dataset.shape)\n",
        "  print('Mean:', np.mean(dataset))\n",
        "  print('Standard deviation:', np.std(dataset))\n",
        "  return dataset\n",
        "        \n",
        "def maybe_pickle(data_folders, min_num_images_per_class, force=False):\n",
        "  dataset_names = []\n",
        "  for folder in data_folders:\n",
        "    set_filename = folder + '.pickle'\n",
        "    dataset_names.append(set_filename)\n",
        "    if os.path.exists(set_filename) and not force:\n",
        "      # You may override by setting force=True.\n",
        "      print('%s already present - Skipping pickling.' % set_filename)\n",
        "    else:\n",
        "      print('Pickling %s.' % set_filename)\n",
        "      dataset = load_letter(folder, min_num_images_per_class)\n",
        "      try:\n",
        "        with open(set_filename, 'wb') as f:\n",
        "          pickle.dump(dataset, f, pickle.HIGHEST_PROTOCOL)\n",
        "      except Exception as e:\n",
        "        print('Unable to save data to', set_filename, ':', e)\n",
        "  \n",
        "  return dataset_names\n",
        "\n",
        "train_datasets = maybe_pickle(train_folders, 45000)\n",
        "test_datasets = maybe_pickle(test_folders, 1800)"
      ],
      "execution_count": 0,
      "outputs": [
        {
          "output_type": "stream",
          "text": [
            "Pickling notMNIST_large/A.pickle.\n",
            "notMNIST_large/A\n",
            "Could not read: notMNIST_large/A/SG90IE11c3RhcmQgQlROIFBvc3Rlci50dGY=.png : Could not find a format to read the specified file in mode 'i' - it's ok, skipping.\n",
            "Could not read: notMNIST_large/A/RnJlaWdodERpc3BCb29rSXRhbGljLnR0Zg==.png : Could not find a format to read the specified file in mode 'i' - it's ok, skipping.\n",
            "Could not read: notMNIST_large/A/Um9tYW5hIEJvbGQucGZi.png : Could not find a format to read the specified file in mode 'i' - it's ok, skipping.\n",
            "Full dataset tensor: (52909, 28, 28)\n",
            "Mean: -0.12825015\n",
            "Standard deviation: 0.4431204\n",
            "Pickling notMNIST_large/B.pickle.\n",
            "notMNIST_large/B\n",
            "Could not read: notMNIST_large/B/TmlraXNFRi1TZW1pQm9sZEl0YWxpYy5vdGY=.png : Could not find a format to read the specified file in mode 'i' - it's ok, skipping.\n",
            "Full dataset tensor: (52911, 28, 28)\n",
            "Mean: -0.0075630345\n",
            "Standard deviation: 0.45449153\n",
            "Pickling notMNIST_large/C.pickle.\n",
            "notMNIST_large/C\n",
            "Full dataset tensor: (52912, 28, 28)\n",
            "Mean: -0.14225785\n",
            "Standard deviation: 0.43980616\n",
            "Pickling notMNIST_large/D.pickle.\n",
            "notMNIST_large/D\n",
            "Could not read: notMNIST_large/D/VHJhbnNpdCBCb2xkLnR0Zg==.png : Could not find a format to read the specified file in mode 'i' - it's ok, skipping.\n",
            "Full dataset tensor: (52911, 28, 28)\n",
            "Mean: -0.05736782\n",
            "Standard deviation: 0.45564762\n",
            "Pickling notMNIST_large/E.pickle.\n",
            "notMNIST_large/E\n",
            "Full dataset tensor: (52912, 28, 28)\n",
            "Mean: -0.06989901\n",
            "Standard deviation: 0.4529415\n",
            "Pickling notMNIST_large/F.pickle.\n",
            "notMNIST_large/F\n",
            "Full dataset tensor: (52912, 28, 28)\n",
            "Mean: -0.12558319\n",
            "Standard deviation: 0.44708937\n",
            "Pickling notMNIST_large/G.pickle.\n",
            "notMNIST_large/G\n",
            "Full dataset tensor: (52912, 28, 28)\n",
            "Mean: -0.09458158\n",
            "Standard deviation: 0.4462402\n",
            "Pickling notMNIST_large/H.pickle.\n",
            "notMNIST_large/H\n",
            "Full dataset tensor: (52912, 28, 28)\n",
            "Mean: -0.0685222\n",
            "Standard deviation: 0.45423135\n",
            "Pickling notMNIST_large/I.pickle.\n",
            "notMNIST_large/I\n",
            "Full dataset tensor: (52912, 28, 28)\n",
            "Mean: 0.030786231\n",
            "Standard deviation: 0.46889836\n",
            "Pickling notMNIST_large/J.pickle.\n",
            "notMNIST_large/J\n",
            "Full dataset tensor: (52911, 28, 28)\n",
            "Mean: -0.1533584\n",
            "Standard deviation: 0.44365653\n",
            "Pickling notMNIST_small/A.pickle.\n",
            "notMNIST_small/A\n",
            "Could not read: notMNIST_small/A/RGVtb2NyYXRpY2FCb2xkT2xkc3R5bGUgQm9sZC50dGY=.png : Could not find a format to read the specified file in mode 'i' - it's ok, skipping.\n",
            "Full dataset tensor: (1872, 28, 28)\n",
            "Mean: -0.13262635\n",
            "Standard deviation: 0.445128\n",
            "Pickling notMNIST_small/B.pickle.\n",
            "notMNIST_small/B\n",
            "Full dataset tensor: (1873, 28, 28)\n",
            "Mean: 0.0053560813\n",
            "Standard deviation: 0.4571154\n",
            "Pickling notMNIST_small/C.pickle.\n",
            "notMNIST_small/C\n",
            "Full dataset tensor: (1873, 28, 28)\n",
            "Mean: -0.14152056\n",
            "Standard deviation: 0.44269025\n",
            "Pickling notMNIST_small/D.pickle.\n",
            "notMNIST_small/D\n",
            "Full dataset tensor: (1873, 28, 28)\n",
            "Mean: -0.049216688\n",
            "Standard deviation: 0.45975888\n",
            "Pickling notMNIST_small/E.pickle.\n",
            "notMNIST_small/E\n",
            "Full dataset tensor: (1873, 28, 28)\n",
            "Mean: -0.05991478\n",
            "Standard deviation: 0.4573497\n",
            "Pickling notMNIST_small/F.pickle.\n",
            "notMNIST_small/F\n",
            "Could not read: notMNIST_small/F/Q3Jvc3NvdmVyIEJvbGRPYmxpcXVlLnR0Zg==.png : Could not find a format to read the specified file in mode 'i' - it's ok, skipping.\n",
            "Full dataset tensor: (1872, 28, 28)\n",
            "Mean: -0.11818536\n",
            "Standard deviation: 0.45227855\n",
            "Pickling notMNIST_small/G.pickle.\n",
            "notMNIST_small/G\n",
            "Full dataset tensor: (1872, 28, 28)\n",
            "Mean: -0.09255034\n",
            "Standard deviation: 0.44900584\n",
            "Pickling notMNIST_small/H.pickle.\n",
            "notMNIST_small/H\n",
            "Full dataset tensor: (1872, 28, 28)\n",
            "Mean: -0.05868924\n",
            "Standard deviation: 0.458759\n",
            "Pickling notMNIST_small/I.pickle.\n",
            "notMNIST_small/I\n",
            "Full dataset tensor: (1872, 28, 28)\n",
            "Mean: 0.05264507\n",
            "Standard deviation: 0.4718936\n",
            "Pickling notMNIST_small/J.pickle.\n",
            "notMNIST_small/J\n",
            "Full dataset tensor: (1872, 28, 28)\n",
            "Mean: -0.15168917\n",
            "Standard deviation: 0.4480136\n"
          ],
          "name": "stdout"
        }
      ]
    },
    {
      "cell_type": "code",
      "metadata": {
        "id": "XGX-FcrwIscz",
        "colab_type": "code",
        "outputId": "453c70c5-a08e-4903-b4f2-fac36c636b45",
        "colab": {
          "base_uri": "https://localhost:8080/",
          "height": 1000
        }
      },
      "source": [
        "# intall miniconda\n",
        "!wget -c https://repo.continuum.io/miniconda/Miniconda3-4.5.4-Linux-x86_64.sh\n",
        "!chmod +x Miniconda3-4.5.4-Linux-x86_64.sh\n",
        "!bash ./Miniconda3-4.5.4-Linux-x86_64.sh -b -f -p /usr/local\n",
        "\n",
        "'''\n",
        "# install RAPIDS packages\n",
        "!conda install -q -y --prefix /usr/local -c conda-forge \\\n",
        "  -c rapidsai-nightly/label/cuda10.0 -c nvidia/label/cuda10.0 \\\n",
        "  cudf cuml\n",
        "'''\n",
        "\n",
        "!conda install -c nvidia/label/cuda10.0 -c rapidsai/label/cuda10.0 \\\n",
        "  -c numba -c conda-forge -c defaults cudf"
      ],
      "execution_count": 0,
      "outputs": [
        {
          "output_type": "stream",
          "text": [
            "--2019-07-24 23:59:35--  https://repo.continuum.io/miniconda/Miniconda3-4.5.4-Linux-x86_64.sh\n",
            "Resolving repo.continuum.io (repo.continuum.io)... 104.18.200.79, 104.18.201.79, 2606:4700::6812:c84f, ...\n",
            "Connecting to repo.continuum.io (repo.continuum.io)|104.18.200.79|:443... connected.\n",
            "HTTP request sent, awaiting response... 200 OK\n",
            "Length: 58468498 (56M) [application/x-sh]\n",
            "Saving to: ‘Miniconda3-4.5.4-Linux-x86_64.sh’\n",
            "\n",
            "\r          Miniconda   0%[                    ]       0  --.-KB/s               \r         Miniconda3  24%[===>                ]  13.72M  68.6MB/s               \r        Miniconda3-  89%[================>   ]  49.82M   125MB/s               \rMiniconda3-4.5.4-Li 100%[===================>]  55.76M   128MB/s    in 0.4s    \n",
            "\n",
            "2019-07-24 23:59:36 (128 MB/s) - ‘Miniconda3-4.5.4-Linux-x86_64.sh’ saved [58468498/58468498]\n",
            "\n",
            "PREFIX=/usr/local\n",
            "installing: python-3.6.5-hc3d631a_2 ...\n",
            "Python 3.6.5 :: Anaconda, Inc.\n",
            "installing: ca-certificates-2018.03.07-0 ...\n",
            "installing: conda-env-2.6.0-h36134e3_1 ...\n",
            "installing: libgcc-ng-7.2.0-hdf63c60_3 ...\n",
            "installing: libstdcxx-ng-7.2.0-hdf63c60_3 ...\n",
            "installing: libffi-3.2.1-hd88cf55_4 ...\n",
            "installing: ncurses-6.1-hf484d3e_0 ...\n",
            "installing: openssl-1.0.2o-h20670df_0 ...\n",
            "installing: tk-8.6.7-hc745277_3 ...\n",
            "installing: xz-5.2.4-h14c3975_4 ...\n",
            "installing: yaml-0.1.7-had09818_2 ...\n",
            "installing: zlib-1.2.11-ha838bed_2 ...\n",
            "installing: libedit-3.1.20170329-h6b74fdf_2 ...\n",
            "installing: readline-7.0-ha6073c6_4 ...\n",
            "installing: sqlite-3.23.1-he433501_0 ...\n",
            "installing: asn1crypto-0.24.0-py36_0 ...\n",
            "installing: certifi-2018.4.16-py36_0 ...\n",
            "installing: chardet-3.0.4-py36h0f667ec_1 ...\n",
            "installing: idna-2.6-py36h82fb2a8_1 ...\n",
            "installing: pycosat-0.6.3-py36h0a5515d_0 ...\n",
            "installing: pycparser-2.18-py36hf9f622e_1 ...\n",
            "installing: pysocks-1.6.8-py36_0 ...\n",
            "installing: ruamel_yaml-0.15.37-py36h14c3975_2 ...\n",
            "installing: six-1.11.0-py36h372c433_1 ...\n",
            "installing: cffi-1.11.5-py36h9745a5d_0 ...\n",
            "installing: setuptools-39.2.0-py36_0 ...\n",
            "installing: cryptography-2.2.2-py36h14c3975_0 ...\n",
            "installing: wheel-0.31.1-py36_0 ...\n",
            "installing: pip-10.0.1-py36_0 ...\n",
            "installing: pyopenssl-18.0.0-py36_0 ...\n",
            "installing: urllib3-1.22-py36hbe7ace6_0 ...\n",
            "installing: requests-2.18.4-py36he2e5f8d_1 ...\n",
            "installing: conda-4.5.4-py36_0 ...\n",
            "installation finished.\n",
            "WARNING:\n",
            "    You currently have a PYTHONPATH environment variable set. This may cause\n",
            "    unexpected behavior when running the Python interpreter in Miniconda3.\n",
            "    For best results, please verify that your PYTHONPATH only points to\n",
            "    directories of packages that are compatible with the Python interpreter\n",
            "    in Miniconda3: /usr/local\n",
            "Solving environment: - \b\b\\ \b\b| \b\b/ \b\b- \b\b\\ \b\b| \b\b/ \b\b- \b\b\\ \b\b| \b\b/ \b\b- \b\b\\ \b\b| \b\b/ \b\b- \b\b\\ \b\b| \b\b/ \b\b- \b\b\\ \b\b| \b\b/ \b\b- \b\b\\ \b\b| \b\b/ \b\b- \b\b\\ \b\b| \b\b/ \b\b- \b\b\\ \b\b| \b\b/ \b\b- \b\b\\ \b\b| \b\b/ \b\b- \b\b\\ \b\b| \b\b/ \b\b- \b\b\\ \b\b| \b\b/ \b\b- \b\b\\ \b\b| \b\b/ \b\b- \b\b\\ \b\b| \b\b/ \b\b- \b\b\\ \b\b| \b\b/ \b\b- \b\b\\ \b\b| \b\b/ \b\b- \b\b\\ \b\b| \b\b/ \b\b- \b\b\\ \b\b| \b\b/ \b\b- \b\b\\ \b\b| \b\b/ \b\b- \b\b\\ \b\b| \b\b/ \b\b- \b\b\\ \b\b| \b\b/ \b\b- \b\b\\ \b\b| \b\b/ \b\b- \b\b\\ \b\b| \b\b/ \b\b- \b\b\\ \b\b| \b\b/ \b\b- \b\b\\ \b\b| \b\b/ \b\b- \b\b\\ \b\b| \b\b/ \b\b- \b\b\\ \b\b| \b\b/ \b\b- \b\b\\ \b\b| \b\b/ \b\b- \b\b\\ \b\b| \b\b/ \b\b- \b\b\\ \b\b| \b\b/ \b\b- \b\b\\ \b\b| \b\b/ \b\b- \b\b\\ \b\b| \b\b/ \b\b- \b\b\\ \b\b| \b\b/ \b\b- \b\b\\ \b\b| \b\b/ \b\b- \b\b\\ \b\b| \b\b/ \b\b- \b\b\\ \b\b| \b\b/ \b\b- \b\b\\ \b\b| \b\b/ \b\b- \b\b\\ \b\b| \b\b/ \b\b- \b\b\\ \b\b| \b\b/ \b\b- \b\b\\ \b\b| \b\b/ \b\b- \b\b\\ \b\b| \b\b/ \b\b- \b\b\\ \b\b| \b\b/ \b\b- \b\b\\ \b\b| \b\b/ \b\b- \b\b\\ \b\b| \b\b/ \b\b- \b\b\\ \b\b| \b\b/ \b\b- \b\b\\ \b\b| \b\b/ \b\b- \b\b\\ \b\b| \b\b/ \b\b- \b\b\\ \b\b| \b\b/ \b\b- \b\b\\ \b\b| \b\b/ \b\b- \b\b\\ \b\b| \b\b/ \b\b- \b\b\\ \b\b| \b\b/ \b\b- \b\b\\ \b\b| \b\b/ \b\b- \b\b\\ \b\b| \b\b/ \b\b- \b\b\\ \b\b| \b\b/ \b\b- \b\b\\ \b\b| \b\b/ \b\b- \b\b\\ \b\b| \b\b/ \b\b- \b\b\\ \b\b| \b\b/ \b\b- \b\b\\ \b\b| \b\b/ \b\b- \b\b\\ \b\b| \b\b/ \b\b- \b\b\\ \b\b| \b\b/ \b\b- \b\b\\ \b\b| \b\b/ \b\b- \b\b\\ \b\b| \b\b/ \b\b- \b\b\\ \b\b| \b\b/ \b\b- \b\b\\ \b\b| \b\b/ \b\b- \b\b\\ \b\b| \b\b/ \b\b- \b\b\\ \b\b| \b\b/ \b\b- \b\b\\ \b\b| \b\b/ \b\b- \b\b\\ \b\b| \b\b/ \b\b- \b\b\\ \b\b| \b\b/ \b\b- \b\b\\ \b\b| \b\b/ \b\b- \b\b\\ \b\b| \b\b/ \b\b- \b\b\\ \b\b| \b\b/ \b\b- \b\b\\ \b\b| \b\b/ \b\b- \b\b\\ \b\b| \b\b/ \b\b- \b\b\\ \b\b| \b\b/ \b\b- \b\b\\ \b\b| \b\b/ \b\b- \b\b\\ \b\b| \b\b/ \b\b- \b\b\\ \b\b| \b\b/ \b\b- \b\b\\ \b\b| \b\b/ \b\b- \b\b\\ \b\b| \b\b/ \b\b- \b\b\\ \b\b| \b\b/ \b\b- \b\b\\ \b\b| \b\b/ \b\b- \b\b\\ \b\b| \b\b/ \b\b- \b\b\\ \b\b| \b\b/ \b\b- \b\b\\ \b\b| \b\b/ \b\b- \b\b\\ \b\b| \b\b/ \b\b- \b\b\\ \b\b| \b\b/ \b\b- \b\b\\ \b\b| \b\b/ \b\b- \b\b\\ \b\b| \b\b/ \b\b- \b\b\\ \b\b| \b\b/ \b\b- \b\b\\ \b\b| \b\b/ \b\b- \b\b\\ \b\b| \b\b/ \b\b- \b\b\\ \b\b| \b\b/ \b\b- \b\b\\ \b\b| \b\b/ \b\b- \b\b\\ \b\b| \b\b/ \b\b- \b\b\\ \b\b| \b\b/ \b\b- \b\b\\ \b\b| \b\b/ \b\b- \b\b\\ \b\b| \b\b/ \b\b- \b\b\\ \b\b| \b\b/ \b\b- \b\b\\ \b\b| \b\b/ \b\b- \b\b\\ \b\b| \b\b/ \b\b- \b\b\\ \b\b| \b\b/ \b\b- \b\b\\ \b\b| \b\b/ \b\b- \b\b\\ \b\b| \b\bdone\n",
            "\n",
            "\n",
            "==> WARNING: A newer version of conda exists. <==\n",
            "  current version: 4.5.4\n",
            "  latest version: 4.7.10\n",
            "\n",
            "Please update conda by running\n",
            "\n",
            "    $ conda update -n base conda\n",
            "\n",
            "\n",
            "\n",
            "## Package Plan ##\n",
            "\n",
            "  environment location: /usr/local\n",
            "\n",
            "  added / updated specs: \n",
            "    - cudf\n",
            "\n",
            "\n",
            "The following packages will be downloaded:\n",
            "\n",
            "    package                    |            build\n",
            "    ---------------------------|-----------------\n",
            "    libblas-3.8.0              |      10_openblas           6 KB  conda-forge\n",
            "    pandas-0.25.0              |   py37hb3f55d8_0        11.4 MB  conda-forge\n",
            "    ncurses-6.1                |    hf484d3e_1002         1.3 MB  conda-forge\n",
            "    zlib-1.2.11                |    h516909a_1005         105 KB  conda-forge\n",
            "    librmm-0.8.0               |       cuda10.0_0          39 KB  rapidsai/label/cuda10.0\n",
            "    libprotobuf-3.6.1          |    hdbcaa40_1001         4.0 MB  conda-forge\n",
            "    icu-58.2                   |    hf484d3e_1000        22.6 MB  conda-forge\n",
            "    parquet-cpp-1.5.1          |                4           3 KB  conda-forge\n",
            "    cudf-0.8.0                 |           py37_0         3.4 MB  rapidsai/label/cuda10.0\n",
            "    cudatoolkit-10.0.130       |                0       380.0 MB\n",
            "    libffi-3.2.1               |    he1b5a44_1006          46 KB  conda-forge\n",
            "    arrow-cpp-0.12.1           |   py37h0e61e49_0         6.9 MB  conda-forge\n",
            "    libcudf-0.8.0              |       cuda10.0_0        17.1 MB  rapidsai/label/cuda10.0\n",
            "    libopenblas-0.3.6          |       h6e990d7_5         7.7 MB  conda-forge\n",
            "    thrift-cpp-0.12.0          |    h0a07b25_1002         2.4 MB  conda-forge\n",
            "    liblapack-3.8.0            |      10_openblas           6 KB  conda-forge\n",
            "    sqlite-3.29.0              |       hcee41ef_0         2.0 MB  conda-forge\n",
            "    boost-cpp-1.68.0           |    h11c811c_1000        20.5 MB  conda-forge\n",
            "    readline-8.0               |       hf8c457e_0         441 KB  conda-forge\n",
            "    wheel-0.33.4               |           py37_0          34 KB  conda-forge\n",
            "    six-1.12.0                 |        py37_1000          22 KB  conda-forge\n",
            "    numpy-1.16.4               |   py37h95a1406_0         4.3 MB  conda-forge\n",
            "    libnvstrings-0.8.0         |       cuda10.0_0        19.7 MB  rapidsai/label/cuda10.0\n",
            "    pytz-2019.1                |             py_0         227 KB  conda-forge\n",
            "    cffi-1.12.3                |   py37h8022711_0         218 KB  conda-forge\n",
            "    rmm-0.8.0                  |           py37_0          14 KB  rapidsai/label/cuda10.0\n",
            "    libcblas-3.8.0             |      10_openblas           6 KB  conda-forge\n",
            "    libgcc-ng-9.1.0            |       hdf63c60_0         8.1 MB\n",
            "    _libgcc_mutex-0.1          |             main           3 KB\n",
            "    certifi-2019.6.16          |           py37_1         149 KB  conda-forge\n",
            "    llvmlite-0.29.0            |   py37hf484d3e_0        17.7 MB  numba\n",
            "    pyarrow-0.12.1             |   py37hbbcf98d_0         2.2 MB  conda-forge\n",
            "    cython-0.29.12             |   py37he1b5a44_0         2.2 MB  conda-forge\n",
            "    libgfortran-ng-7.3.0       |       hdf63c60_0         1.3 MB\n",
            "    numba-0.44.1               |np116py37hf484d3e_0         3.0 MB  numba\n",
            "    tk-8.6.9                   |    hed695b0_1002         3.2 MB  conda-forge\n",
            "    libstdcxx-ng-9.1.0         |       hdf63c60_0         4.0 MB\n",
            "    python-3.7.3               |       h33d41f4_1        36.0 MB  conda-forge\n",
            "    python-dateutil-2.8.0      |             py_0         219 KB  conda-forge\n",
            "    xz-5.2.4                   |    h14c3975_1001         366 KB  conda-forge\n",
            "    pip-19.2.1                 |           py37_0         1.9 MB  conda-forge\n",
            "    nvstrings-0.8.0            |           py37_0         119 KB  rapidsai/label/cuda10.0\n",
            "    setuptools-41.0.1          |           py37_0         616 KB  conda-forge\n",
            "    bzip2-1.0.8                |       h516909a_0         396 KB  conda-forge\n",
            "    ca-certificates-2019.6.16  |       hecc5488_0         145 KB  conda-forge\n",
            "    pycparser-2.19             |           py37_1         171 KB  conda-forge\n",
            "    openblas-0.3.6             |       h6e990d7_5         8.2 MB  conda-forge\n",
            "    openssl-1.1.1c             |       h516909a_0         2.1 MB  conda-forge\n",
            "    ------------------------------------------------------------\n",
            "                                           Total:       596.3 MB\n",
            "\n",
            "The following NEW packages will be INSTALLED:\n",
            "\n",
            "    _libgcc_mutex:   0.1-main                                          \n",
            "    arrow-cpp:       0.12.1-py37h0e61e49_0      conda-forge            \n",
            "    boost-cpp:       1.68.0-h11c811c_1000       conda-forge            \n",
            "    bzip2:           1.0.8-h516909a_0           conda-forge            \n",
            "    cudatoolkit:     10.0.130-0                                        \n",
            "    cudf:            0.8.0-py37_0               rapidsai/label/cuda10.0\n",
            "    cython:          0.29.12-py37he1b5a44_0     conda-forge            \n",
            "    icu:             58.2-hf484d3e_1000         conda-forge            \n",
            "    libblas:         3.8.0-10_openblas          conda-forge            \n",
            "    libcblas:        3.8.0-10_openblas          conda-forge            \n",
            "    libcudf:         0.8.0-cuda10.0_0           rapidsai/label/cuda10.0\n",
            "    libgfortran-ng:  7.3.0-hdf63c60_0                                  \n",
            "    liblapack:       3.8.0-10_openblas          conda-forge            \n",
            "    libnvstrings:    0.8.0-cuda10.0_0           rapidsai/label/cuda10.0\n",
            "    libopenblas:     0.3.6-h6e990d7_5           conda-forge            \n",
            "    libprotobuf:     3.6.1-hdbcaa40_1001        conda-forge            \n",
            "    librmm:          0.8.0-cuda10.0_0           rapidsai/label/cuda10.0\n",
            "    llvmlite:        0.29.0-py37hf484d3e_0      numba                  \n",
            "    numba:           0.44.1-np116py37hf484d3e_0 numba                  \n",
            "    numpy:           1.16.4-py37h95a1406_0      conda-forge            \n",
            "    nvstrings:       0.8.0-py37_0               rapidsai/label/cuda10.0\n",
            "    openblas:        0.3.6-h6e990d7_5           conda-forge            \n",
            "    pandas:          0.25.0-py37hb3f55d8_0      conda-forge            \n",
            "    parquet-cpp:     1.5.1-4                    conda-forge            \n",
            "    pyarrow:         0.12.1-py37hbbcf98d_0      conda-forge            \n",
            "    python-dateutil: 2.8.0-py_0                 conda-forge            \n",
            "    pytz:            2019.1-py_0                conda-forge            \n",
            "    rmm:             0.8.0-py37_0               rapidsai/label/cuda10.0\n",
            "    thrift-cpp:      0.12.0-h0a07b25_1002       conda-forge            \n",
            "\n",
            "The following packages will be UPDATED:\n",
            "\n",
            "    ca-certificates: 2018.03.07-0                                       --> 2019.6.16-hecc5488_0  conda-forge\n",
            "    certifi:         2018.4.16-py36_0                                   --> 2019.6.16-py37_1      conda-forge\n",
            "    cffi:            1.11.5-py36h9745a5d_0                              --> 1.12.3-py37h8022711_0 conda-forge\n",
            "    libffi:          3.2.1-hd88cf55_4                                   --> 3.2.1-he1b5a44_1006   conda-forge\n",
            "    libgcc-ng:       7.2.0-hdf63c60_3                                   --> 9.1.0-hdf63c60_0                 \n",
            "    libstdcxx-ng:    7.2.0-hdf63c60_3                                   --> 9.1.0-hdf63c60_0                 \n",
            "    ncurses:         6.1-hf484d3e_0                                     --> 6.1-hf484d3e_1002     conda-forge\n",
            "    openssl:         1.0.2o-h20670df_0                                  --> 1.1.1c-h516909a_0     conda-forge\n",
            "    pip:             10.0.1-py36_0                                      --> 19.2.1-py37_0         conda-forge\n",
            "    pycparser:       2.18-py36hf9f622e_1                                --> 2.19-py37_1           conda-forge\n",
            "    python:          3.6.5-hc3d631a_2                                   --> 3.7.3-h33d41f4_1      conda-forge\n",
            "    readline:        7.0-ha6073c6_4                                     --> 8.0-hf8c457e_0        conda-forge\n",
            "    setuptools:      39.2.0-py36_0                                      --> 41.0.1-py37_0         conda-forge\n",
            "    six:             1.11.0-py36h372c433_1                              --> 1.12.0-py37_1000      conda-forge\n",
            "    sqlite:          3.23.1-he433501_0                                  --> 3.29.0-hcee41ef_0     conda-forge\n",
            "    tk:              8.6.7-hc745277_3                                   --> 8.6.9-hed695b0_1002   conda-forge\n",
            "    wheel:           0.31.1-py36_0                                      --> 0.33.4-py37_0         conda-forge\n",
            "    xz:              5.2.4-h14c3975_4                                   --> 5.2.4-h14c3975_1001   conda-forge\n",
            "    zlib:            1.2.11-ha838bed_2                                  --> 1.2.11-h516909a_1005  conda-forge\n",
            "\n",
            "Proceed ([y]/n)? y\n",
            "\n",
            "\n",
            "Downloading and Extracting Packages\n",
            "libblas-3.8.0        |    6 KB | : 100% 1.0/1 [00:00<00:00, 16.25it/s]\n",
            "pandas-0.25.0        | 11.4 MB | : 100% 1.0/1 [00:02<00:00,  2.88s/it]               \n",
            "ncurses-6.1          |  1.3 MB | : 100% 1.0/1 [00:00<00:00,  1.06it/s]               \n",
            "zlib-1.2.11          |  105 KB | : 100% 1.0/1 [00:00<00:00, 15.04it/s]\n",
            "librmm-0.8.0         |   39 KB | : 100% 1.0/1 [00:00<00:00,  3.04it/s]               \n",
            "libprotobuf-3.6.1    |  4.0 MB | : 100% 1.0/1 [00:01<00:00,  1.04s/it]               \n",
            "icu-58.2             | 22.6 MB | : 100% 1.0/1 [00:04<00:00,  4.00s/it]               \n",
            "parquet-cpp-1.5.1    |    3 KB | : 100% 1.0/1 [00:00<00:00, 22.57it/s]\n",
            "cudf-0.8.0           |  3.4 MB | : 100% 1.0/1 [00:00<00:00,  1.02it/s]               \n",
            "cudatoolkit-10.0.130 | 380.0 MB | : 100% 1.0/1 [00:57<00:00, 57.66s/it]                \n",
            "libffi-3.2.1         |   46 KB | : 100% 1.0/1 [00:00<00:00, 16.11it/s]\n",
            "arrow-cpp-0.12.1     |  6.9 MB | : 100% 1.0/1 [00:01<00:00,  1.47s/it]               \n",
            "libcudf-0.8.0        | 17.1 MB | : 100% 1.0/1 [00:04<00:00,  4.31s/it]                \n",
            "libopenblas-0.3.6    |  7.7 MB | : 100% 1.0/1 [00:01<00:00,  1.56s/it]               \n",
            "thrift-cpp-0.12.0    |  2.4 MB | : 100% 1.0/1 [00:00<00:00,  1.68it/s]               \n",
            "liblapack-3.8.0      |    6 KB | : 100% 1.0/1 [00:00<00:00, 19.46it/s]\n",
            "sqlite-3.29.0        |  2.0 MB | : 100% 1.0/1 [00:00<00:00,  2.56it/s]               \n",
            "boost-cpp-1.68.0     | 20.5 MB | : 100% 1.0/1 [00:09<00:00,  9.46s/it]               \n",
            "readline-8.0         |  441 KB | : 100% 1.0/1 [00:00<00:00,  4.00s/it]                 \n",
            "wheel-0.33.4         |   34 KB | : 100% 1.0/1 [00:00<00:00, 16.28it/s]\n",
            "six-1.12.0           |   22 KB | : 100% 1.0/1 [00:00<00:00, 19.74it/s]\n",
            "numpy-1.16.4         |  4.3 MB | : 100% 1.0/1 [00:01<00:00,  1.28s/it]              \n",
            "libnvstrings-0.8.0   | 19.7 MB | : 100% 1.0/1 [00:06<00:00,  6.30s/it]                \n",
            "pytz-2019.1          |  227 KB | : 100% 1.0/1 [00:00<00:00,  4.23it/s]               \n",
            "cffi-1.12.3          |  218 KB | : 100% 1.0/1 [00:00<00:00, 11.16it/s]\n",
            "rmm-0.8.0            |   14 KB | : 100% 1.0/1 [00:00<00:00,  3.81it/s] \n",
            "libcblas-3.8.0       |    6 KB | : 100% 1.0/1 [00:00<00:00, 25.82it/s]\n",
            "libgcc-ng-9.1.0      |  8.1 MB | : 100% 1.0/1 [00:01<00:00,  1.53s/it]               \n",
            "_libgcc_mutex-0.1    |    3 KB | : 100% 1.0/1 [00:00<00:00, 28.78it/s]\n",
            "certifi-2019.6.16    |  149 KB | : 100% 1.0/1 [00:00<00:00, 12.98it/s]\n",
            "llvmlite-0.29.0      | 17.7 MB | : 100% 1.0/1 [00:03<00:00,  3.68s/it]               \n",
            "pyarrow-0.12.1       |  2.2 MB | : 100% 1.0/1 [00:00<00:00,  1.46it/s]               \n",
            "cython-0.29.12       |  2.2 MB | : 100% 1.0/1 [00:00<00:00,  1.64it/s]               \n",
            "libgfortran-ng-7.3.0 |  1.3 MB | : 100% 1.0/1 [00:00<00:00,  3.49it/s]               \n",
            "numba-0.44.1         |  3.0 MB | : 100% 1.0/1 [00:01<00:00,  1.11s/it]              \n",
            "tk-8.6.9             |  3.2 MB | : 100% 1.0/1 [00:00<00:00,  1.27it/s]               \n",
            "libstdcxx-ng-9.1.0   |  4.0 MB | : 100% 1.0/1 [00:00<00:00,  1.26it/s]              \n",
            "python-3.7.3         | 36.0 MB | : 100% 1.0/1 [00:06<00:00,  6.34s/it]               \n",
            "python-dateutil-2.8. |  219 KB | : 100% 1.0/1 [00:00<00:00, 12.46it/s]\n",
            "xz-5.2.4             |  366 KB | : 100% 1.0/1 [00:00<00:00,  7.84it/s]               \n",
            "pip-19.2.1           |  1.9 MB | : 100% 1.0/1 [00:00<00:00,  1.60it/s]               \n",
            "nvstrings-0.8.0      |  119 KB | : 100% 1.0/1 [00:00<00:00,  3.85it/s]                \n",
            "setuptools-41.0.1    |  616 KB | : 100% 1.0/1 [00:00<00:00,  4.11it/s]               \n",
            "bzip2-1.0.8          |  396 KB | : 100% 1.0/1 [00:00<00:00,  8.50it/s]\n",
            "ca-certificates-2019 |  145 KB | : 100% 1.0/1 [00:00<00:00, 16.51it/s]\n",
            "pycparser-2.19       |  171 KB | : 100% 1.0/1 [00:00<00:00, 11.38it/s]\n",
            "openblas-0.3.6       |  8.2 MB | : 100% 1.0/1 [00:02<00:00,  2.06s/it]               \n",
            "openssl-1.1.1c       |  2.1 MB | : 100% 1.0/1 [00:00<00:00,  2.41it/s]              \n",
            "Preparing transaction: - \b\b\\ \b\b| \b\b/ \b\b- \b\b\\ \b\b| \b\b/ \b\b- \b\b\\ \b\b| \b\b/ \b\b- \b\bdone\n",
            "Verifying transaction: | \b\b/ \b\b- \b\b\\ \b\b| \b\b/ \b\b- \b\b\\ \b\b| \b\b/ \b\b- \b\b\\ \b\b| \b\b/ \b\b- \b\b\\ \b\b| \b\b/ \b\b- \b\b\\ \b\b| \b\b/ \b\b- \b\b\\ \b\b| \b\b/ \b\b- \b\b\\ \b\b| \b\b/ \b\b- \b\b\\ \b\b| \b\b/ \b\b- \b\b\\ \b\b| \b\b/ \b\b- \b\b\\ \b\b| \b\b/ \b\b- \b\b\\ \b\b| \b\b/ \b\b- \b\b\\ \b\b| \b\b/ \b\b- \b\b\\ \b\b| \b\b/ \b\b- \b\b\\ \b\b| \b\b/ \b\b- \b\b\\ \b\b| \b\b/ \b\b- \b\b\\ \b\b| \b\b/ \b\b- \b\b\\ \b\b| \b\b/ \b\b- \b\b\\ \b\b| \b\b/ \b\b- \b\b\\ \b\b| \b\b/ \b\b- \b\b\\ \b\b| \b\b/ \b\b- \b\b\\ \b\b| \b\b/ \b\b- \b\b\\ \b\b| \b\b/ \b\b- \b\b\\ \b\b| \b\b/ \b\b- \b\b\\ \b\b| \b\b/ \b\b- \b\b\\ \b\b| \b\b/ \b\b- \b\b\\ \b\b| \b\b/ \b\b- \b\b\\ \b\b| \b\b/ \b\b- \b\b\\ \b\b| \b\b/ \b\b- \b\b\\ \b\b| \b\b/ \b\b- \b\b\\ \b\bdone\n",
            "Executing transaction: / \b\b- \b\b\\ \b\b| \b\b/ \b\b- \b\b\\ \b\b| \b\b/ \b\b- \b\b\\ \b\b| \b\b/ \b\b- \b\b\\ \b\b| \b\b/ \b\b- \b\b\\ \b\b| \b\b/ \b\b- \b\b\\ \b\b| \b\b/ \b\b- \b\b\\ \b\b| \b\b/ \b\b- \b\b\\ \b\b| \b\b/ \b\b- \b\b\\ \b\b| \b\b/ \b\b- \b\b\\ \b\b| \b\bdone\n"
          ],
          "name": "stdout"
        }
      ]
    },
    {
      "cell_type": "code",
      "metadata": {
        "id": "f0gykJ6ROt1t",
        "colab_type": "code",
        "colab": {}
      },
      "source": [
        "# set environment vars\n",
        "import sys, os, shutil\n",
        "sys.path.append('/usr/local/lib/python3.6/site-packages/')\n",
        "os.environ['NUMBAPRO_NVVM'] = '/usr/local/cuda/nvvm/lib64/libnvvm.so'\n",
        "os.environ['NUMBAPRO_LIBDEVICE'] = '/usr/local/cuda/nvvm/libdevice/'\n",
        "\n",
        "# copy .so files to current working dir\n",
        "for fn in ['libcudf.so', 'librmm.so']:\n",
        "  shutil.copy('/usr/local/lib/'+fn, os.getcwd())"
      ],
      "execution_count": 0,
      "outputs": []
    },
    {
      "cell_type": "code",
      "metadata": {
        "id": "kfuOuUUjPOcm",
        "colab_type": "code",
        "outputId": "e3330ece-0cea-402c-e1dc-e50bed517150",
        "colab": {
          "base_uri": "https://localhost:8080/",
          "height": 84
        }
      },
      "source": [
        "!conda install -c numba -c conda-forge -c nvidia -c rapidsai -c defaults cudf"
      ],
      "execution_count": 0,
      "outputs": [
        {
          "output_type": "stream",
          "text": [
            "Traceback (most recent call last):\n",
            "  File \"/usr/local/bin/conda\", line 7, in <module>\n",
            "    from conda.cli import main\n",
            "ModuleNotFoundError: No module named 'conda'\n"
          ],
          "name": "stdout"
        }
      ]
    },
    {
      "cell_type": "code",
      "metadata": {
        "id": "hNiwB5tCMMkf",
        "colab_type": "code",
        "outputId": "e5fbdf2b-9bd1-4d18-f997-33bb8dd02bbc",
        "colab": {
          "base_uri": "https://localhost:8080/",
          "height": 403
        }
      },
      "source": [
        "# intall miniconda\n",
        "'''!wget -c https://repo.continuum.io/miniconda/Miniconda3-4.5.4-Linux-x86_64.sh\n",
        "!chmod +x Miniconda3-4.5.4-Linux-x86_64.sh\n",
        "!bash ./Miniconda3-4.5.4-Linux-x86_64.sh -b -f -p /usr/local\n",
        "'''\n",
        "!wget  https://github.com/rapidsai/notebooks-extended/raw/master/utils/rapids-colab.sh\n",
        "!chmod +x rapids-colab.sh\n",
        "!bash ./rapids-colab.sh -b -f -p /usr/local"
      ],
      "execution_count": 0,
      "outputs": [
        {
          "output_type": "stream",
          "text": [
            "--2019-07-24 00:33:35--  https://github.com/rapidsai/notebooks-extended/raw/master/utils/rapids-colab.sh\n",
            "Resolving github.com (github.com)... 140.82.114.3\n",
            "Connecting to github.com (github.com)|140.82.114.3|:443... connected.\n",
            "HTTP request sent, awaiting response... 302 Found\n",
            "Location: https://raw.githubusercontent.com/rapidsai/notebooks-extended/master/utils/rapids-colab.sh [following]\n",
            "--2019-07-24 00:33:35--  https://raw.githubusercontent.com/rapidsai/notebooks-extended/master/utils/rapids-colab.sh\n",
            "Resolving raw.githubusercontent.com (raw.githubusercontent.com)... 151.101.0.133, 151.101.64.133, 151.101.128.133, ...\n",
            "Connecting to raw.githubusercontent.com (raw.githubusercontent.com)|151.101.0.133|:443... connected.\n",
            "HTTP request sent, awaiting response... 200 OK\n",
            "Length: 1548 (1.5K) [text/plain]\n",
            "Saving to: ‘rapids-colab.sh.1’\n",
            "\n",
            "\rrapids-colab.sh.1     0%[                    ]       0  --.-KB/s               \rrapids-colab.sh.1   100%[===================>]   1.51K  --.-KB/s    in 0s      \n",
            "\n",
            "2019-07-24 00:33:35 (285 MB/s) - ‘rapids-colab.sh.1’ saved [1548/1548]\n",
            "\n",
            "File ‘env-check.py’ already there; not retrieving.\n",
            "\n",
            "Checking for GPU type:\n",
            "Traceback (most recent call last):\n",
            "  File \"env-check.py\", line 7, in <module>\n",
            "    import pynvml\n",
            "ModuleNotFoundError: No module named 'pynvml'\n"
          ],
          "name": "stdout"
        }
      ]
    },
    {
      "cell_type": "code",
      "metadata": {
        "id": "5VDBtAucOf6J",
        "colab_type": "code",
        "outputId": "bc4a1ead-2341-4f77-c30e-2cd4e769013f",
        "colab": {
          "base_uri": "https://localhost:8080/",
          "height": 1000
        }
      },
      "source": [
        "!pip uninstall -y xgboost dask distributed\n",
        "!# intall miniconda\n",
        "!echo \"Installing conda\"\n",
        "!wget https://repo.continuum.io/miniconda/Miniconda3-4.5.4-Linux-x86_64.sh\n",
        "!chmod +x Miniconda3-4.5.4-Linux-x86_64.sh\n",
        "!bash ./Miniconda3-4.5.4-Linux-x86_64.sh -b -f -p /usr/local\n",
        "!\n",
        "!echo \"Installing RAPIDS packages\"\n",
        "!echo \"Please standby, this will take a few minutes...\"\n",
        "!# install RAPIDS packages\n",
        "!conda install -y --prefix /usr/local \\\n",
        "  -c rapidsai-nightly/label/xgboost -c rapidsai-nightly -c nvidia -c conda-forge \\\n",
        "  python=3.6 cudatoolkit=10.0 \\\n",
        "  cudf cuml cugraph gcsfs pynvml \\\n",
        "  dask-cudf dask-cuml \\\n",
        "  rapidsai/label/xgboost::xgboost=>0.9\n",
        "  \n",
        "!echo \"Copying shared object files to /usr/lib\"\n",
        "!# copy .so files to /usr/lib, where Colab's Python looks for libs\n",
        "!cp /usr/local/lib/libcudf.so /usr/lib/libcudf.so\n",
        "!cp /usr/local/lib/librmm.so /usr/lib/librmm.so\n",
        "!cp /usr/local/lib/libxgboost.so /usr/lib/libxgboost.so\n",
        "!cp /usr/local/lib/libnccl.so /usr/lib/libnccl.so"
      ],
      "execution_count": 0,
      "outputs": [
        {
          "output_type": "stream",
          "text": [
            "\u001b[33mSkipping xgboost as it is not installed.\u001b[0m\n",
            "\u001b[33mSkipping dask as it is not installed.\u001b[0m\n",
            "\u001b[33mSkipping distributed as it is not installed.\u001b[0m\n",
            "Installing conda\n",
            "--2019-07-24 00:41:08--  https://repo.continuum.io/miniconda/Miniconda3-4.5.4-Linux-x86_64.sh\n",
            "Resolving repo.continuum.io (repo.continuum.io)... 104.18.201.79, 104.18.200.79, 2606:4700::6812:c84f, ...\n",
            "Connecting to repo.continuum.io (repo.continuum.io)|104.18.201.79|:443... connected.\n",
            "HTTP request sent, awaiting response... 200 OK\n",
            "Length: 58468498 (56M) [application/x-sh]\n",
            "Saving to: ‘Miniconda3-4.5.4-Linux-x86_64.sh.2’\n",
            "\n",
            "Miniconda3-4.5.4-Li 100%[===================>]  55.76M   120MB/s    in 0.5s    \n",
            "\n",
            "2019-07-24 00:41:09 (120 MB/s) - ‘Miniconda3-4.5.4-Linux-x86_64.sh.2’ saved [58468498/58468498]\n",
            "\n",
            "PREFIX=/usr/local\n",
            "installing: python-3.6.5-hc3d631a_2 ...\n",
            "Python 3.6.5 :: Anaconda, Inc.\n",
            "installing: ca-certificates-2018.03.07-0 ...\n",
            "installing: conda-env-2.6.0-h36134e3_1 ...\n",
            "installing: libgcc-ng-7.2.0-hdf63c60_3 ...\n",
            "installing: libstdcxx-ng-7.2.0-hdf63c60_3 ...\n",
            "installing: libffi-3.2.1-hd88cf55_4 ...\n",
            "installing: ncurses-6.1-hf484d3e_0 ...\n",
            "installing: openssl-1.0.2o-h20670df_0 ...\n",
            "installing: tk-8.6.7-hc745277_3 ...\n",
            "installing: xz-5.2.4-h14c3975_4 ...\n",
            "installing: yaml-0.1.7-had09818_2 ...\n",
            "installing: zlib-1.2.11-ha838bed_2 ...\n",
            "installing: libedit-3.1.20170329-h6b74fdf_2 ...\n",
            "installing: readline-7.0-ha6073c6_4 ...\n",
            "installing: sqlite-3.23.1-he433501_0 ...\n",
            "installing: asn1crypto-0.24.0-py36_0 ...\n",
            "installing: certifi-2018.4.16-py36_0 ...\n",
            "installing: chardet-3.0.4-py36h0f667ec_1 ...\n",
            "installing: idna-2.6-py36h82fb2a8_1 ...\n",
            "installing: pycosat-0.6.3-py36h0a5515d_0 ...\n",
            "installing: pycparser-2.18-py36hf9f622e_1 ...\n",
            "installing: pysocks-1.6.8-py36_0 ...\n",
            "installing: ruamel_yaml-0.15.37-py36h14c3975_2 ...\n",
            "installing: six-1.11.0-py36h372c433_1 ...\n",
            "installing: cffi-1.11.5-py36h9745a5d_0 ...\n",
            "installing: setuptools-39.2.0-py36_0 ...\n",
            "installing: cryptography-2.2.2-py36h14c3975_0 ...\n",
            "installing: wheel-0.31.1-py36_0 ...\n",
            "installing: pip-10.0.1-py36_0 ...\n",
            "installing: pyopenssl-18.0.0-py36_0 ...\n",
            "installing: urllib3-1.22-py36hbe7ace6_0 ...\n",
            "installing: requests-2.18.4-py36he2e5f8d_1 ...\n",
            "installing: conda-4.5.4-py36_0 ...\n",
            "installation finished.\n",
            "WARNING:\n",
            "    You currently have a PYTHONPATH environment variable set. This may cause\n",
            "    unexpected behavior when running the Python interpreter in Miniconda3.\n",
            "    For best results, please verify that your PYTHONPATH only points to\n",
            "    directories of packages that are compatible with the Python interpreter\n",
            "    in Miniconda3: /usr/local\n",
            "Installing RAPIDS packages\n",
            "Please standby, this will take a few minutes...\n",
            "psutil-5.6.3         |  322 KB | : 100% 1.0/1 [00:00<00:00,  7.13it/s]               \n",
            "gcsfs-0.3.0          |   19 KB | : 100% 1.0/1 [00:00<00:00, 20.56it/s]\n",
            "requests-oauthlib-1. |   19 KB | : 100% 1.0/1 [00:00<00:00, 16.59it/s]\n",
            "cryptography-2.7     |  607 KB | : 100% 1.0/1 [00:00<00:00,  3.24it/s]               \n",
            "scipy-1.3.0          | 18.8 MB | : 100% 1.0/1 [00:03<00:00,  3.97s/it]               \n",
            "google-auth-oauthlib |   18 KB | : 100% 1.0/1 [00:00<00:00, 18.18it/s]\n",
            "jinja2-2.10.1        |   91 KB | : 100% 1.0/1 [00:00<00:00, 11.13it/s]\n",
            "google-auth-1.6.3    |   45 KB | : 100% 1.0/1 [00:00<00:00, 15.62it/s]\n",
            "pyasn1-modules-0.2.5 |   38 KB | : 100% 1.0/1 [00:00<00:00, 10.40it/s]\n",
            "cudf-0.9.0a          |  3.8 MB | : 100% 1.0/1 [00:01<00:00,  1.25s/it]              \n",
            "lz4-c-1.8.3          |  187 KB | : 100% 1.0/1 [00:00<00:00,  8.72it/s]\n",
            "pyyaml-5.1.1         |  184 KB | : 100% 1.0/1 [00:00<00:00, 12.55it/s]\n",
            "python-3.6.7         | 34.6 MB | : 100% 1.0/1 [00:06<00:00,  6.51s/it]              \n",
            "rsa-3.4.2            |   31 KB | : 100% 1.0/1 [00:00<00:00, 15.18it/s]\n",
            "pyasn1-0.4.5         |   49 KB | : 100% 1.0/1 [00:00<00:00, 15.44it/s]\n",
            "boost-1.68.0         |  325 KB | : 100% 1.0/1 [00:00<00:00,  5.38it/s]               \n",
            "xgboost-0.90.rapidsd |   12 KB | : 100% 1.0/1 [00:00<00:00,  3.69it/s] \n",
            "llvmlite-0.29.0      | 19.9 MB | : 100% 1.0/1 [00:03<00:00,  3.91s/it]               \n",
            "pyarrow-0.12.1       |  2.2 MB | : 100% 1.0/1 [00:00<00:00,  1.44it/s]               \n",
            "blinker-1.4          |   13 KB | : 100% 1.0/1 [00:00<00:00, 20.93it/s]\n",
            "libxgboost-0.90.rapi | 33.2 MB | : 100% 1.0/1 [00:09<00:00,  9.80s/it]               \n",
            "zict-1.0.0           |   10 KB | : 100% 1.0/1 [00:00<00:00, 18.19it/s]\n",
            "cloudpickle-1.2.1    |   22 KB | : 100% 1.0/1 [00:00<00:00, 22.94it/s]\n",
            "cython-0.29.12       |  2.2 MB | : 100% 1.0/1 [00:00<00:00,  1.33it/s]               \n",
            "click-7.0            |   61 KB | : 100% 1.0/1 [00:00<00:00, 16.84it/s]\n",
            "pyparsing-2.4.1      |   57 KB | : 100% 1.0/1 [00:00<00:00, 17.27it/s]\n",
            "bokeh-1.3.0          |  4.1 MB | : 100% 1.0/1 [00:01<00:00,  1.63s/it]               \n",
            "freetype-2.10.0      |  885 KB | : 100% 1.0/1 [00:00<00:00,  4.55it/s]               \n",
            "python-libarchive-c- |   21 KB | : 100% 1.0/1 [00:00<00:00, 11.57it/s]\n",
            "pandas-0.25.0        | 11.4 MB | : 100% 1.0/1 [00:02<00:00,  2.95s/it]               \n",
            "jpeg-9c              |  251 KB | : 100% 1.0/1 [00:00<00:00, 10.96it/s]\n",
            "py-xgboost-0.90.rapi |   87 KB | : 100% 1.0/1 [00:00<00:00,  2.11it/s]                \n",
            "libiconv-1.15        |  2.0 MB | : 100% 1.0/1 [00:00<00:00,  2.58it/s]               \n",
            "dask-cuda-0.9.0a     |  898 KB | : 100% 1.0/1 [00:00<00:00,  1.70it/s]               \n",
            "cugraph-0.9.0a1      |  1.2 MB | : 100% 1.0/1 [00:00<00:00,  1.77it/s]               \n",
            "msgpack-python-0.6.1 |   89 KB | : 100% 1.0/1 [00:00<00:00, 17.65it/s]\n",
            "cachetools-2.1.0     |   10 KB | : 100% 1.0/1 [00:00<00:00, 22.06it/s]\n",
            "conda-package-handli |  257 KB | : 100% 1.0/1 [00:00<00:00, 11.75it/s]\n",
            "locket-0.2.0         |    6 KB | : 100% 1.0/1 [00:00<00:00, 23.55it/s]\n",
            "numba-0.45.0         |  3.1 MB | : 100% 1.0/1 [00:01<00:00,  1.22s/it]               \n",
            "markupsafe-1.1.1     |   26 KB | : 100% 1.0/1 [00:00<00:00, 19.71it/s]\n",
            "distributed-2.1.0    |  363 KB | : 100% 1.0/1 [00:00<00:00,  4.92it/s]               \n",
            "tblib-1.4.0          |   12 KB | : 100% 1.0/1 [00:00<00:00, 17.98it/s]\n",
            "joblib-0.13.2        |  180 KB | : 100% 1.0/1 [00:00<00:00,  8.74it/s]\n",
            "libtiff-4.0.10       |  587 KB | : 100% 1.0/1 [00:00<00:00,  5.88it/s]               \n",
            "arrow-cpp-0.12.1     |  6.9 MB | : 100% 1.0/1 [00:01<00:00,  1.53s/it]               \n",
            "zstd-1.4.0           |  928 KB | : 100% 1.0/1 [00:00<00:00,  4.29it/s]               \n",
            "conda-4.7.10         |  3.0 MB | : 100% 1.0/1 [00:00<00:00,  1.19it/s]               \n",
            "toolz-0.10.0         |   46 KB | : 100% 1.0/1 [00:00<00:00, 15.33it/s]\n",
            "certifi-2019.6.16    |  149 KB | : 100% 1.0/1 [00:00<00:00,  1.53it/s]                \n",
            "dask-core-2.1.0      |  573 KB | : 100% 1.0/1 [00:00<00:00,  2.95it/s]               \n",
            "numpy-1.16.4         |  4.3 MB | : 100% 1.0/1 [00:01<00:00,  1.20s/it]               \n",
            "pynvml-8.0.1         |   28 KB | : 100% 1.0/1 [00:00<00:00, 20.36it/s]\n",
            "nvstrings-0.9.0a1    |  122 KB | : 100% 1.0/1 [00:00<00:00,  2.00it/s]               \n",
            "scikit-learn-0.21.2  |  6.7 MB | : 100% 1.0/1 [00:01<00:00,  1.92s/it]               \n",
            "dask-cuml-0.9.0a     |   30 KB | : 100% 1.0/1 [00:00<00:00,  5.59it/s]               \n",
            "partd-1.0.0          |   16 KB | : 100% 1.0/1 [00:00<00:00, 22.08it/s]\n",
            "cytoolz-0.10.0       |  429 KB | : 100% 1.0/1 [00:00<00:00,  6.63it/s]               \n",
            "sortedcontainers-2.1 |   25 KB | : 100% 1.0/1 [00:00<00:00, 20.80it/s]\n",
            "dask-2.1.0           |    4 KB | : 100% 1.0/1 [00:00<00:00, 21.12it/s]\n",
            "nccl-2.4.6.1         | 66.6 MB | : 100% 1.0/1 [00:13<00:00, 13.51s/it]               \n",
            "cuml-0.9.0a1         |  4.8 MB | : 100% 1.0/1 [00:01<00:00,  1.34s/it]              \n",
            "tqdm-4.32.2          |   41 KB | : 100% 1.0/1 [00:00<00:00,  9.91it/s]\n",
            "oauthlib-3.0.1       |   82 KB | : 100% 1.0/1 [00:00<00:00, 11.07it/s]\n",
            "rmm-0.9.0a1          |   14 KB | : 100% 1.0/1 [00:00<00:00,  7.57it/s] \n",
            "lzo-2.10             |  319 KB | : 100% 1.0/1 [00:00<00:00,  7.81it/s]               \n",
            "pillow-6.0.0         |  615 KB | : 100% 1.0/1 [00:00<00:00,  5.17it/s]               \n",
            "fsspec-0.3.4         |   38 KB | : 100% 1.0/1 [00:00<00:00, 17.39it/s]\n",
            "heapdict-1.0.0       |    7 KB | : 100% 1.0/1 [00:00<00:00, 20.67it/s]\n",
            "pyjwt-1.7.1          |   17 KB | : 100% 1.0/1 [00:00<00:00, 20.35it/s]\n",
            "libxml2-2.9.9        |  1.3 MB | : 100% 1.0/1 [00:00<00:00,  2.28it/s]               \n",
            "libpng-1.6.37        |  343 KB | : 100% 1.0/1 [00:00<00:00,  9.13it/s]               \n",
            "libarchive-3.3.3     |  1.4 MB | : 100% 1.0/1 [00:00<00:00,  3.06it/s]               \n",
            "dask-cudf-0.9.0a     |   61 KB | : 100% 1.0/1 [00:00<00:00,  4.36it/s]                \n",
            "olefile-0.46         |   31 KB | : 100% 1.0/1 [00:00<00:00, 19.89it/s]\n",
            "libcugraph-0.9.0a1   | 10.6 MB | : 100% 1.0/1 [00:02<00:00,  2.30s/it]               \n",
            "packaging-19.0       |   23 KB | : 100% 1.0/1 [00:00<00:00,  3.72it/s]               \n",
            "tornado-6.0.3        |  636 KB | : 100% 1.0/1 [00:00<00:00,  4.30it/s]              \n",
            "decorator-4.4.0      |   11 KB | : 100% 1.0/1 [00:00<00:00, 13.81it/s]\n",
            "Copying shared object files to /usr/lib\n"
          ],
          "name": "stdout"
        }
      ]
    },
    {
      "cell_type": "code",
      "metadata": {
        "id": "fdiap9hHdIWI",
        "colab_type": "code",
        "outputId": "ca4e1ece-859e-465e-e3fb-de0a59c596c6",
        "colab": {
          "base_uri": "https://localhost:8080/",
          "height": 70
        }
      },
      "source": [
        "!$PATH\n",
        "!$PYTHONPATH"
      ],
      "execution_count": 0,
      "outputs": [
        {
          "output_type": "stream",
          "text": [
            "/bin/bash: /usr/local/nvidia/bin:/usr/local/cuda/bin:/usr/local/sbin:/usr/local/bin:/usr/sbin:/usr/bin:/sbin:/bin:/tools/node/bin:/tools/google-cloud-sdk/bin:/opt/bin: No such file or directory\n",
            "/bin/bash: /env/python: No such file or directory\n"
          ],
          "name": "stdout"
        }
      ]
    },
    {
      "cell_type": "code",
      "metadata": {
        "id": "2aTckeyyd4fQ",
        "colab_type": "code",
        "outputId": "262e3ea7-c7a2-4c65-a1e8-0faa15ab5b9f",
        "colab": {
          "base_uri": "https://localhost:8080/",
          "height": 252
        }
      },
      "source": [
        "!ls /usr/local/bin/py*"
      ],
      "execution_count": 0,
      "outputs": [
        {
          "output_type": "stream",
          "text": [
            "/usr/local/bin/pyami_sendmail\t      /usr/local/bin/pyrsa-sign\n",
            "/usr/local/bin/pybabel\t\t      /usr/local/bin/pyrsa-verify\n",
            "/usr/local/bin/pycc\t\t      /usr/local/bin/pytest\n",
            "/usr/local/bin/pydoc\t\t      /usr/local/bin/py.test\n",
            "/usr/local/bin/pydoc3\t\t      /usr/local/bin/python\n",
            "/usr/local/bin/pydoc3.6\t\t      /usr/local/bin/python3\n",
            "/usr/local/bin/pygmentize\t      /usr/local/bin/python3.6\n",
            "/usr/local/bin/pyjwt\t\t      /usr/local/bin/python3.6-config\n",
            "/usr/local/bin/pyrsa-decrypt\t      /usr/local/bin/python3.6m\n",
            "/usr/local/bin/pyrsa-decrypt-bigfile  /usr/local/bin/python3.6m-config\n",
            "/usr/local/bin/pyrsa-encrypt\t      /usr/local/bin/python3-config\n",
            "/usr/local/bin/pyrsa-encrypt-bigfile  /usr/local/bin/pyvenv\n",
            "/usr/local/bin/pyrsa-keygen\t      /usr/local/bin/pyvenv-3.6\n",
            "/usr/local/bin/pyrsa-priv2pub\n"
          ],
          "name": "stdout"
        }
      ]
    },
    {
      "cell_type": "code",
      "metadata": {
        "id": "QDbkplOefxWv",
        "colab_type": "code",
        "outputId": "17edc127-9b62-4bfc-9132-7601536043b6",
        "colab": {
          "base_uri": "https://localhost:8080/",
          "height": 403
        }
      },
      "source": [
        "!python ; import cudf"
      ],
      "execution_count": 0,
      "outputs": [
        {
          "output_type": "stream",
          "text": [
            "Python 3.6.7 | packaged by conda-forge | (default, Jul  2 2019, 02:18:42) \n",
            "[GCC 7.3.0] on linux\n",
            "Type \"help\", \"copyright\", \"credits\" or \"license\" for more information.\n",
            ">>> import cudf\n",
            "Traceback (most recent call last):\n",
            "  File \"<stdin>\", line 1, in <module>\n",
            "  File \"/usr/local/lib/python3.6/site-packages/cudf/__init__.py\", line 5, in <module>\n",
            "    from cudf import dataframe, datasets\n",
            "  File \"/usr/local/lib/python3.6/site-packages/cudf/dataframe/__init__.py\", line 3, in <module>\n",
            "    from cudf.dataframe import (\n",
            "  File \"/usr/local/lib/python3.6/site-packages/cudf/dataframe/buffer.py\", line 6, in <module>\n",
            "    from cudf.utils import cudautils, utils\n",
            "  File \"/usr/local/lib/python3.6/site-packages/cudf/utils/cudautils.py\", line 11, in <module>\n",
            "    from cudf.utils.utils import (\n",
            "  File \"/usr/local/lib/python3.6/site-packages/cudf/utils/utils.py\", line 6, in <module>\n",
            "    import pandas as pd\n",
            "  File \"/usr/local/lib/python3.6/site-packages/pandas/__init__.py\", line 17, in <module>\n",
            "    \"Unable to import required dependencies:\\n\" + \"\\n\".join(missing_dependencies)\n",
            "ImportError: Unable to import required dependencies:\n",
            "pytz: No module named 'pytz'\n",
            "dateutil: No module named 'dateutil'\n",
            ">>> exit()\n",
            "/bin/bash: import: command not found\n"
          ],
          "name": "stdout"
        }
      ]
    },
    {
      "cell_type": "code",
      "metadata": {
        "id": "fnBkvgYebJgR",
        "colab_type": "code",
        "outputId": "f10e4294-e67f-4901-d86e-2f36bf43618e",
        "colab": {
          "base_uri": "https://localhost:8080/",
          "height": 363
        }
      },
      "source": [
        "import cudf\n",
        "df = dask-cudf.DataFrame()\n",
        "df['key'] = [0, 1, 2, 3, 4]\n",
        "df['val'] = [float(i + 10) for i in range(5)]  # insert column\n",
        "print(df)"
      ],
      "execution_count": 0,
      "outputs": [
        {
          "output_type": "error",
          "ename": "ModuleNotFoundError",
          "evalue": "ignored",
          "traceback": [
            "\u001b[0;31m---------------------------------------------------------------------------\u001b[0m",
            "\u001b[0;31mModuleNotFoundError\u001b[0m                       Traceback (most recent call last)",
            "\u001b[0;32m<ipython-input-12-b47e67134475>\u001b[0m in \u001b[0;36m<module>\u001b[0;34m()\u001b[0m\n\u001b[0;32m----> 1\u001b[0;31m \u001b[0;32mimport\u001b[0m \u001b[0mcudf\u001b[0m\u001b[0;34m\u001b[0m\u001b[0;34m\u001b[0m\u001b[0m\n\u001b[0m\u001b[1;32m      2\u001b[0m \u001b[0mdf\u001b[0m \u001b[0;34m=\u001b[0m \u001b[0mdask\u001b[0m\u001b[0;34m-\u001b[0m\u001b[0mcudf\u001b[0m\u001b[0;34m.\u001b[0m\u001b[0mDataFrame\u001b[0m\u001b[0;34m(\u001b[0m\u001b[0;34m)\u001b[0m\u001b[0;34m\u001b[0m\u001b[0;34m\u001b[0m\u001b[0m\n\u001b[1;32m      3\u001b[0m \u001b[0mdf\u001b[0m\u001b[0;34m[\u001b[0m\u001b[0;34m'key'\u001b[0m\u001b[0;34m]\u001b[0m \u001b[0;34m=\u001b[0m \u001b[0;34m[\u001b[0m\u001b[0;36m0\u001b[0m\u001b[0;34m,\u001b[0m \u001b[0;36m1\u001b[0m\u001b[0;34m,\u001b[0m \u001b[0;36m2\u001b[0m\u001b[0;34m,\u001b[0m \u001b[0;36m3\u001b[0m\u001b[0;34m,\u001b[0m \u001b[0;36m4\u001b[0m\u001b[0;34m]\u001b[0m\u001b[0;34m\u001b[0m\u001b[0;34m\u001b[0m\u001b[0m\n\u001b[1;32m      4\u001b[0m \u001b[0mdf\u001b[0m\u001b[0;34m[\u001b[0m\u001b[0;34m'val'\u001b[0m\u001b[0;34m]\u001b[0m \u001b[0;34m=\u001b[0m \u001b[0;34m[\u001b[0m\u001b[0mfloat\u001b[0m\u001b[0;34m(\u001b[0m\u001b[0mi\u001b[0m \u001b[0;34m+\u001b[0m \u001b[0;36m10\u001b[0m\u001b[0;34m)\u001b[0m \u001b[0;32mfor\u001b[0m \u001b[0mi\u001b[0m \u001b[0;32min\u001b[0m \u001b[0mrange\u001b[0m\u001b[0;34m(\u001b[0m\u001b[0;36m5\u001b[0m\u001b[0;34m)\u001b[0m\u001b[0;34m]\u001b[0m  \u001b[0;31m# insert column\u001b[0m\u001b[0;34m\u001b[0m\u001b[0;34m\u001b[0m\u001b[0m\n\u001b[1;32m      5\u001b[0m \u001b[0mprint\u001b[0m\u001b[0;34m(\u001b[0m\u001b[0mdf\u001b[0m\u001b[0;34m)\u001b[0m\u001b[0;34m\u001b[0m\u001b[0;34m\u001b[0m\u001b[0m\n",
            "\u001b[0;31mModuleNotFoundError\u001b[0m: No module named 'cudf'",
            "",
            "\u001b[0;31m---------------------------------------------------------------------------\u001b[0;32m\nNOTE: If your import is failing due to a missing package, you can\nmanually install dependencies using either !pip or !apt.\n\nTo view examples of installing some common dependencies, click the\n\"Open Examples\" button below.\n\u001b[0;31m---------------------------------------------------------------------------\u001b[0m\n"
          ]
        }
      ]
    },
    {
      "cell_type": "code",
      "metadata": {
        "id": "QAieNj7Pc4uN",
        "colab_type": "code",
        "outputId": "afe78a19-00b9-4c8f-c226-a6b981fd03e8",
        "colab": {
          "base_uri": "https://localhost:8080/",
          "height": 202
        }
      },
      "source": [
        "!wget https://repo.anaconda.com/archive/Anaconda3-2019.07-Linux-x86_64.sh"
      ],
      "execution_count": 1,
      "outputs": [
        {
          "output_type": "stream",
          "text": [
            "--2019-07-25 01:17:54--  https://repo.anaconda.com/archive/Anaconda3-2019.07-Linux-x86_64.sh\n",
            "Resolving repo.anaconda.com (repo.anaconda.com)... 104.16.130.3, 104.16.131.3, 2606:4700::6810:8303, ...\n",
            "Connecting to repo.anaconda.com (repo.anaconda.com)|104.16.130.3|:443... connected.\n",
            "HTTP request sent, awaiting response... 200 OK\n",
            "Length: 541906131 (517M) [application/x-sh]\n",
            "Saving to: ‘Anaconda3-2019.07-Linux-x86_64.sh’\n",
            "\n",
            "Anaconda3-2019.07-L 100%[===================>] 516.80M   134MB/s    in 3.9s    \n",
            "\n",
            "2019-07-25 01:17:58 (133 MB/s) - ‘Anaconda3-2019.07-Linux-x86_64.sh’ saved [541906131/541906131]\n",
            "\n"
          ],
          "name": "stdout"
        }
      ]
    },
    {
      "cell_type": "code",
      "metadata": {
        "id": "krfqBECHdLgd",
        "colab_type": "code",
        "colab": {}
      },
      "source": [
        "!chmod +x Anaconda3-2019.07-Linux-x86_64.sh"
      ],
      "execution_count": 0,
      "outputs": []
    },
    {
      "cell_type": "code",
      "metadata": {
        "id": "aluTEwXZdTT0",
        "colab_type": "code",
        "outputId": "dd4dcc67-1670-4d05-b585-d79c46ddc06f",
        "colab": {
          "base_uri": "https://localhost:8080/",
          "height": 1000
        }
      },
      "source": [
        "!./Anaconda3-2019.07-Linux-x86_64.sh \n"
      ],
      "execution_count": 3,
      "outputs": [
        {
          "output_type": "stream",
          "text": [
            "\n",
            "Welcome to Anaconda3 2019.07\n",
            "\n",
            "In order to continue the installation process, please review the license\n",
            "agreement.\n",
            "Please, press ENTER to continue\n",
            ">>> \n",
            "===================================\n",
            "Anaconda End User License Agreement\n",
            "===================================\n",
            "\n",
            "Copyright 2015, Anaconda, Inc.\n",
            "\n",
            "All rights reserved under the 3-clause BSD License:\n",
            "\n",
            "Redistribution and use in source and binary forms, with or without modification,\n",
            " are permitted provided that the following conditions are met:\n",
            "\n",
            "  * Redistributions of source code must retain the above copyright notice, this \n",
            "list of conditions and the following disclaimer.\n",
            "  * Redistributions in binary form must reproduce the above copyright notice, th\n",
            "is list of conditions and the following disclaimer in the documentation and/or o\n",
            "ther materials provided with the distribution.\n",
            "  * Neither the name of Anaconda, Inc. (\"Anaconda, Inc.\") nor the names of its c\n",
            "ontributors may be used to endorse or promote products derived from this softwar\n",
            "e without specific prior written permission.\n",
            "\n",
            "THIS SOFTWARE IS PROVIDED BY THE COPYRIGHT HOLDERS AND CONTRIBUTORS \"AS IS\" AND \n",
            "ANY EXPRESS OR IMPLIED WARRANTIES, INCLUDING, BUT NOT LIMITED TO, THE IMPLIED WA\n",
            "RRANTIES OF MERCHANTABILITY AND FITNESS FOR A PARTICULAR PURPOSE ARE DISCLAIMED.\n",
            " IN NO EVENT SHALL ANACONDA, INC. BE LIABLE FOR ANY DIRECT, INDIRECT, INCIDENTAL\n",
            ", SPECIAL, EXEMPLARY, OR CONSEQUENTIAL DAMAGES (INCLUDING, BUT NOT LIMITED TO, P\n",
            "ROCUREMENT OF SUBSTITUTE GOODS OR SERVICES; LOSS OF USE, DATA, OR PROFITS; OR BU\n",
            "SINESS INTERRUPTION) HOWEVER CAUSED AND ON ANY THEORY OF LIABILITY, WHETHER IN C\n",
            "ONTRACT, STRICT LIABILITY, OR TORT (INCLUDING NEGLIGENCE OR OTHERWISE) ARISING I\n",
            "N ANY WAY OUT OF THE USE OF THIS SOFTWARE, EVEN IF ADVISED OF THE POSSIBILITY OF\n",
            " SUCH DAMAGE.\n",
            "\n",
            "Notice of Third Party Software Licenses\n",
            "=======================================\n",
            "\n",
            "Anaconda Distribution contains open source software packages from third parties.\n",
            " These are available on an \"as is\" basis and subject to their individual license\n",
            " agreements. These licenses are available in Anaconda Distribution or at http://\n",
            "docs.anaconda.com/anaconda/pkg-docs. Any binary packages of these third party to\n",
            "ols you obtain via Anaconda Distribution are subject to their individual license\n",
            "s as well as the Anaconda license. Anaconda, Inc. reserves the right to change w\n",
            "hich third party tools are provided in Anaconda Distribution.\n",
            "\n",
            "In particular, Anaconda Distribution contains re-distributable, run-time, shared\n",
            "-library files from the Intel(TM) Math Kernel Library (\"MKL binaries\"). You are \n",
            "specifically authorized to use the MKL binaries with your installation of Anacon\n",
            "da Distribution. You are also authorized to redistribute the MKL binaries with A\n",
            "naconda Distribution or in the conda package that contains them. Use and redistr\n",
            "ibution of the MKL binaries are subject to the licensing terms located at https:\n",
            "//software.intel.com/en-us/license/intel-simplified-software-license. If needed,\n",
            " instructions for removing the MKL binaries after installation of Anaconda Distr\n",
            "ibution are available at http://www.anaconda.com.\n",
            "\n",
            "Anaconda Distribution also contains cuDNN software binaries from NVIDIA Corporat\n",
            "ion (\"cuDNN binaries\"). You are specifically authorized to use the cuDNN binarie\n",
            "s with your installation of Anaconda Distribution. You are also authorized to re\n",
            "distribute the cuDNN binaries with an Anaconda Distribution package that contain\n",
            "s them. If needed, instructions for removing the cuDNN binaries after installati\n",
            "on of Anaconda Distribution are available at http://www.anaconda.com.\n",
            "\n",
            "\n",
            "Anaconda Distribution also contains Visual Studio Code software binaries from Mi\n",
            "crosoft Corporation (\"VS Code\"). You are specifically authorized to use VS Code \n",
            "with your installation of Anaconda Distribution. Use of VS Code is subject to th\n",
            "e licensing terms located at https://code.visualstudio.com/License.\n",
            "\n",
            "Cryptography Notice\n",
            "===================\n",
            "\n",
            "This distribution includes cryptographic software. The country in which you curr\n",
            "ently reside may have restrictions on the import, possession, use, and/or re-exp\n",
            "ort to another country, of encryption software. BEFORE using any encryption soft\n",
            "ware, please check your country's laws, regulations and policies concerning the \n",
            "import, possession, or use, and re-export of encryption software, to see if this\n",
            " is permitted. See the Wassenaar Arrangement http://www.wassenaar.org/ for more \n",
            "information.\n",
            "\n",
            "Anaconda, Inc. has self-classified this software as Export Commodity Control Num\n",
            "ber (ECCN) 5D992b, which includes mass market information security software usin\n",
            "g or performing cryptographic functions with asymmetric algorithms. No license i\n",
            "s required for export of this software to non-embargoed countries. In addition, \n",
            "the Intel(TM) Math Kernel Library contained in Anaconda, Inc.'s software is clas\n",
            "sified by Intel(TM) as ECCN 5D992b with no license required for export to non-em\n",
            "bargoed countries and Microsoft's Visual Studio Code software is classified by M\n",
            "icrosoft as ECCN 5D992.c with no license required for export to non-embargoed co\n",
            "untries.\n",
            "\n",
            "The following packages are included in this distribution that relate to cryptogr\n",
            "aphy:\n",
            "\n",
            "openssl\n",
            "    The OpenSSL Project is a collaborative effort to develop a robust, commercia\n",
            "l-grade, full-featured, and Open Source toolkit implementing the Transport Layer\n",
            " Security (TLS) and Secure Sockets Layer (SSL) protocols as well as a full-stren\n",
            "gth general purpose cryptography library.\n",
            "\u001b[K\n",
            "pycrypto\n",
            "    A collection of both secure hash functions (such as SHA256 and RIPEMD160), a\n",
            "nd various encryption algorithms (AES, DES, RSA, ElGamal, etc.).\n",
            "\n",
            "pyopenssl\n",
            "    A thin Python wrapper around (a subset of) the OpenSSL library.\n",
            "\n",
            "kerberos (krb5, non-Windows platforms)\n",
            "    A network authentication protocol designed to provide strong authentication \n",
            "for client/server applications by using secret-key cryptography.\n",
            "\n",
            "cryptography\n",
            "    A Python library which exposes cryptographic recipes and primitives.\n",
            "\n",
            "\n",
            "Do you accept the license terms? [yes|no]\n",
            "[no] >>> Please answer 'yes' or 'no':'\n",
            ">>> yes\n",
            "\n",
            "Anaconda3 will now be installed into this location:\n",
            "/root/anaconda3\n",
            "\n",
            "  - Press ENTER to confirm the location\n",
            "  - Press CTRL-C to abort the installation\n",
            "  - Or specify a different location below\n",
            "\n",
            "[/root/anaconda3] >>> \n",
            "PREFIX=/root/anaconda3\n",
            "Unpacking payload ...\n",
            "Collecting package metadata (current_repodata.json): - \b\b\\ \b\b| \b\b/ \b\b- \b\b\\ \b\b| \b\b/ \b\bdone\n",
            "Solving environment: \\ \b\b| \b\b/ \b\b- \b\b\\ \b\b| \b\b/ \b\b- \b\b\\ \b\b| \b\b/ \b\b- \b\b\\ \b\b| \b\b/ \b\bdone\n",
            "\n",
            "## Package Plan ##\n",
            "\n",
            "  environment location: /root/anaconda3\n",
            "\n",
            "  added / updated specs:\n",
            "    - _ipyw_jlab_nb_ext_conf==0.1.0=py37_0\n",
            "    - _libgcc_mutex==0.1=main\n",
            "    - alabaster==0.7.12=py37_0\n",
            "    - anaconda-client==1.7.2=py37_0\n",
            "    - anaconda-navigator==1.9.7=py37_0\n",
            "    - anaconda-project==0.8.3=py_0\n",
            "    - anaconda==2019.07=py37_0\n",
            "    - asn1crypto==0.24.0=py37_0\n",
            "    - astroid==2.2.5=py37_0\n",
            "    - astropy==3.2.1=py37h7b6447c_0\n",
            "    - atomicwrites==1.3.0=py37_1\n",
            "    - attrs==19.1.0=py37_1\n",
            "    - babel==2.7.0=py_0\n",
            "    - backcall==0.1.0=py37_0\n",
            "    - backports.functools_lru_cache==1.5=py_2\n",
            "    - backports.os==0.1.1=py37_0\n",
            "    - backports.shutil_get_terminal_size==1.0.0=py37_2\n",
            "    - backports.tempfile==1.0=py_1\n",
            "    - backports.weakref==1.0.post1=py_1\n",
            "    - backports==1.0=py_2\n",
            "    - beautifulsoup4==4.7.1=py37_1\n",
            "    - bitarray==0.9.3=py37h7b6447c_0\n",
            "    - bkcharts==0.2=py37_0\n",
            "    - blas==1.0=mkl\n",
            "    - bleach==3.1.0=py37_0\n",
            "    - blosc==1.16.3=hd408876_0\n",
            "    - bokeh==1.2.0=py37_0\n",
            "    - boto==2.49.0=py37_0\n",
            "    - bottleneck==1.2.1=py37h035aef0_1\n",
            "    - bzip2==1.0.8=h7b6447c_0\n",
            "    - ca-certificates==2019.5.15=0\n",
            "    - cairo==1.14.12=h8948797_3\n",
            "    - certifi==2019.6.16=py37_0\n",
            "    - cffi==1.12.3=py37h2e261b9_0\n",
            "    - chardet==3.0.4=py37_1\n",
            "    - click==7.0=py37_0\n",
            "    - cloudpickle==1.2.1=py_0\n",
            "    - clyent==1.2.2=py37_1\n",
            "    - colorama==0.4.1=py37_0\n",
            "    - conda-build==3.18.8=py37_0\n",
            "    - conda-env==2.6.0=1\n",
            "    - conda-package-handling==1.3.11=py37_0\n",
            "    - conda-verify==3.4.2=py_1\n",
            "    - conda==4.7.10=py37_0\n",
            "    - contextlib2==0.5.5=py37_0\n",
            "    - cryptography==2.7=py37h1ba5d50_0\n",
            "    - curl==7.65.2=hbc83047_0\n",
            "    - cycler==0.10.0=py37_0\n",
            "    - cython==0.29.12=py37he6710b0_0\n",
            "    - cytoolz==0.10.0=py37h7b6447c_0\n",
            "    - dask-core==2.1.0=py_0\n",
            "    - dask==2.1.0=py_0\n",
            "    - dbus==1.13.6=h746ee38_0\n",
            "    - decorator==4.4.0=py37_1\n",
            "    - defusedxml==0.6.0=py_0\n",
            "    - distributed==2.1.0=py_0\n",
            "    - docutils==0.14=py37_0\n",
            "    - entrypoints==0.3=py37_0\n",
            "    - et_xmlfile==1.0.1=py37_0\n",
            "    - expat==2.2.6=he6710b0_0\n",
            "    - fastcache==1.1.0=py37h7b6447c_0\n",
            "    - filelock==3.0.12=py_0\n",
            "    - flask==1.1.1=py_0\n",
            "    - fontconfig==2.13.0=h9420a91_0\n",
            "    - freetype==2.9.1=h8a8886c_1\n",
            "    - fribidi==1.0.5=h7b6447c_0\n",
            "    - future==0.17.1=py37_0\n",
            "    - get_terminal_size==1.0.0=haa9412d_0\n",
            "    - gevent==1.4.0=py37h7b6447c_0\n",
            "    - glib==2.56.2=hd408876_0\n",
            "    - glob2==0.7=py_0\n",
            "    - gmp==6.1.2=h6c8ec71_1\n",
            "    - gmpy2==2.0.8=py37h10f8cd9_2\n",
            "    - graphite2==1.3.13=h23475e2_0\n",
            "    - greenlet==0.4.15=py37h7b6447c_0\n",
            "    - gst-plugins-base==1.14.0=hbbd80ab_1\n",
            "    - gstreamer==1.14.0=hb453b48_1\n",
            "    - h5py==2.9.0=py37h7918eee_0\n",
            "    - harfbuzz==1.8.8=hffaf4a1_0\n",
            "    - hdf5==1.10.4=hb1b8bf9_0\n",
            "    - heapdict==1.0.0=py37_2\n",
            "    - html5lib==1.0.1=py37_0\n",
            "    - icu==58.2=h9c2bf20_1\n",
            "    - idna==2.8=py37_0\n",
            "    - imageio==2.5.0=py37_0\n",
            "    - imagesize==1.1.0=py37_0\n",
            "    - importlib_metadata==0.17=py37_1\n",
            "    - intel-openmp==2019.4=243\n",
            "    - ipykernel==5.1.1=py37h39e3cac_0\n",
            "    - ipython==7.6.1=py37h39e3cac_0\n",
            "    - ipython_genutils==0.2.0=py37_0\n",
            "    - ipywidgets==7.5.0=py_0\n",
            "    - isort==4.3.21=py37_0\n",
            "    - itsdangerous==1.1.0=py37_0\n",
            "    - jbig==2.1=hdba287a_0\n",
            "    - jdcal==1.4.1=py_0\n",
            "    - jedi==0.13.3=py37_0\n",
            "    - jeepney==0.4=py37_0\n",
            "    - jinja2==2.10.1=py37_0\n",
            "    - joblib==0.13.2=py37_0\n",
            "    - jpeg==9b=h024ee3a_2\n",
            "    - json5==0.8.4=py_0\n",
            "    - jsonschema==3.0.1=py37_0\n",
            "    - jupyter==1.0.0=py37_7\n",
            "    - jupyter_client==5.3.1=py_0\n",
            "    - jupyter_console==6.0.0=py37_0\n",
            "    - jupyter_core==4.5.0=py_0\n",
            "    - jupyterlab==1.0.2=py37hf63ae98_0\n",
            "    - jupyterlab_server==1.0.0=py_0\n",
            "    - keyring==18.0.0=py37_0\n",
            "    - kiwisolver==1.1.0=py37he6710b0_0\n",
            "    - krb5==1.16.1=h173b8e3_7\n",
            "    - lazy-object-proxy==1.4.1=py37h7b6447c_0\n",
            "    - libarchive==3.3.3=h5d8350f_5\n",
            "    - libcurl==7.65.2=h20c2e04_0\n",
            "    - libedit==3.1.20181209=hc058e9b_0\n",
            "    - libffi==3.2.1=hd88cf55_4\n",
            "    - libgcc-ng==9.1.0=hdf63c60_0\n",
            "    - libgfortran-ng==7.3.0=hdf63c60_0\n",
            "    - liblief==0.9.0=h7725739_2\n",
            "    - libpng==1.6.37=hbc83047_0\n",
            "    - libsodium==1.0.16=h1bed415_0\n",
            "    - libssh2==1.8.2=h1ba5d50_0\n",
            "    - libstdcxx-ng==9.1.0=hdf63c60_0\n",
            "    - libtiff==4.0.10=h2733197_2\n",
            "    - libtool==2.4.6=h7b6447c_5\n",
            "    - libuuid==1.0.3=h1bed415_2\n",
            "    - libxcb==1.13=h1bed415_1\n",
            "    - libxml2==2.9.9=hea5a465_1\n",
            "    - libxslt==1.1.33=h7d1a2b0_0\n",
            "    - llvmlite==0.29.0=py37hd408876_0\n",
            "    - locket==0.2.0=py37_1\n",
            "    - lxml==4.3.4=py37hefd8a0e_0\n",
            "    - lz4-c==1.8.1.2=h14c3975_0\n",
            "    - lzo==2.10=h49e0be7_2\n",
            "    - markupsafe==1.1.1=py37h7b6447c_0\n",
            "    - matplotlib==3.1.0=py37h5429711_0\n",
            "    - mccabe==0.6.1=py37_1\n",
            "    - mistune==0.8.4=py37h7b6447c_0\n",
            "    - mkl-service==2.0.2=py37h7b6447c_0\n",
            "    - mkl==2019.4=243\n",
            "    - mkl_fft==1.0.12=py37ha843d7b_0\n",
            "    - mkl_random==1.0.2=py37hd81dba3_0\n",
            "    - mock==3.0.5=py37_0\n",
            "    - more-itertools==7.0.0=py37_0\n",
            "    - mpc==1.1.0=h10f8cd9_1\n",
            "    - mpfr==4.0.1=hdf1c602_3\n",
            "    - mpmath==1.1.0=py37_0\n",
            "    - msgpack-python==0.6.1=py37hfd86e86_1\n",
            "    - multipledispatch==0.6.0=py37_0\n",
            "    - navigator-updater==0.2.1=py37_0\n",
            "    - nbconvert==5.5.0=py_0\n",
            "    - nbformat==4.4.0=py37_0\n",
            "    - ncurses==6.1=he6710b0_1\n",
            "    - networkx==2.3=py_0\n",
            "    - nltk==3.4.4=py37_0\n",
            "    - nose==1.3.7=py37_2\n",
            "    - notebook==6.0.0=py37_0\n",
            "    - numba==0.44.1=py37h962f231_0\n",
            "    - numexpr==2.6.9=py37h9e4a6bb_0\n",
            "    - numpy-base==1.16.4=py37hde5b4d6_0\n",
            "    - numpy==1.16.4=py37h7e9f1db_0\n",
            "    - numpydoc==0.9.1=py_0\n",
            "    - olefile==0.46=py37_0\n",
            "    - openpyxl==2.6.2=py_0\n",
            "    - openssl==1.1.1c=h7b6447c_1\n",
            "    - packaging==19.0=py37_0\n",
            "    - pandas==0.24.2=py37he6710b0_0\n",
            "    - pandoc==2.2.3.2=0\n",
            "    - pandocfilters==1.4.2=py37_1\n",
            "    - pango==1.42.4=h049681c_0\n",
            "    - parso==0.5.0=py_0\n",
            "    - partd==1.0.0=py_0\n",
            "    - patchelf==0.9=he6710b0_3\n",
            "    - path.py==12.0.1=py_0\n",
            "    - pathlib2==2.3.4=py37_0\n",
            "    - patsy==0.5.1=py37_0\n",
            "    - pcre==8.43=he6710b0_0\n",
            "    - pep8==1.7.1=py37_0\n",
            "    - pexpect==4.7.0=py37_0\n",
            "    - pickleshare==0.7.5=py37_0\n",
            "    - pillow==6.1.0=py37h34e0f95_0\n",
            "    - pip==19.1.1=py37_0\n",
            "    - pixman==0.38.0=h7b6447c_0\n",
            "    - pkginfo==1.5.0.1=py37_0\n",
            "    - pluggy==0.12.0=py_0\n",
            "    - ply==3.11=py37_0\n",
            "    - prometheus_client==0.7.1=py_0\n",
            "    - prompt_toolkit==2.0.9=py37_0\n",
            "    - psutil==5.6.3=py37h7b6447c_0\n",
            "    - ptyprocess==0.6.0=py37_0\n",
            "    - py-lief==0.9.0=py37h7725739_2\n",
            "    - py==1.8.0=py37_0\n",
            "    - pycodestyle==2.5.0=py37_0\n",
            "    - pycosat==0.6.3=py37h14c3975_0\n",
            "    - pycparser==2.19=py37_0\n",
            "    - pycrypto==2.6.1=py37h14c3975_9\n",
            "    - pycurl==7.43.0.3=py37h1ba5d50_0\n",
            "    - pyflakes==2.1.1=py37_0\n",
            "    - pygments==2.4.2=py_0\n",
            "    - pylint==2.3.1=py37_0\n",
            "    - pyodbc==4.0.26=py37he6710b0_0\n",
            "    - pyopenssl==19.0.0=py37_0\n",
            "    - pyparsing==2.4.0=py_0\n",
            "    - pyqt==5.9.2=py37h05f1152_2\n",
            "    - pyrsistent==0.14.11=py37h7b6447c_0\n",
            "    - pysocks==1.7.0=py37_0\n",
            "    - pytables==3.5.2=py37h71ec239_1\n",
            "    - pytest-arraydiff==0.3=py37h39e3cac_0\n",
            "    - pytest-astropy==0.5.0=py37_0\n",
            "    - pytest-doctestplus==0.3.0=py37_0\n",
            "    - pytest-openfiles==0.3.2=py37_0\n",
            "    - pytest-remotedata==0.3.1=py37_0\n",
            "    - pytest==5.0.1=py37_0\n",
            "    - python-dateutil==2.8.0=py37_0\n",
            "    - python-libarchive-c==2.8=py37_11\n",
            "    - python==3.7.3=h0371630_0\n",
            "    - pytz==2019.1=py_0\n",
            "    - pywavelets==1.0.3=py37hdd07704_1\n",
            "    - pyyaml==5.1.1=py37h7b6447c_0\n",
            "    - pyzmq==18.0.0=py37he6710b0_0\n",
            "    - qt==5.9.7=h5867ecd_1\n",
            "    - qtawesome==0.5.7=py37_1\n",
            "    - qtconsole==4.5.1=py_0\n",
            "    - qtpy==1.8.0=py_0\n",
            "    - readline==7.0=h7b6447c_5\n",
            "    - requests==2.22.0=py37_0\n",
            "    - rope==0.14.0=py_0\n",
            "    - ruamel_yaml==0.15.46=py37h14c3975_0\n",
            "    - scikit-image==0.15.0=py37he6710b0_0\n",
            "    - scikit-learn==0.21.2=py37hd81dba3_0\n",
            "    - scipy==1.3.0=py37h7c811a0_0\n",
            "    - seaborn==0.9.0=py37_0\n",
            "    - secretstorage==3.1.1=py37_0\n",
            "    - send2trash==1.5.0=py37_0\n",
            "    - setuptools==41.0.1=py37_0\n",
            "    - simplegeneric==0.8.1=py37_2\n",
            "    - singledispatch==3.4.0.3=py37_0\n",
            "    - sip==4.19.8=py37hf484d3e_0\n",
            "    - six==1.12.0=py37_0\n",
            "    - snappy==1.1.7=hbae5bb6_3\n",
            "    - snowballstemmer==1.9.0=py_0\n",
            "    - sortedcollections==1.1.2=py37_0\n",
            "    - sortedcontainers==2.1.0=py37_0\n",
            "    - soupsieve==1.8=py37_0\n",
            "    - sphinx==2.1.2=py_0\n",
            "    - sphinxcontrib-applehelp==1.0.1=py_0\n",
            "    - sphinxcontrib-devhelp==1.0.1=py_0\n",
            "    - sphinxcontrib-htmlhelp==1.0.2=py_0\n",
            "    - sphinxcontrib-jsmath==1.0.1=py_0\n",
            "    - sphinxcontrib-qthelp==1.0.2=py_0\n",
            "    - sphinxcontrib-serializinghtml==1.1.3=py_0\n",
            "    - sphinxcontrib-websupport==1.1.2=py_0\n",
            "    - sphinxcontrib==1.0=py37_1\n",
            "    - spyder-kernels==0.5.1=py37_0\n",
            "    - spyder==3.3.6=py37_0\n",
            "    - sqlalchemy==1.3.5=py37h7b6447c_0\n",
            "    - sqlite==3.29.0=h7b6447c_0\n",
            "    - statsmodels==0.10.0=py37hdd07704_0\n",
            "    - sympy==1.4=py37_0\n",
            "    - tblib==1.4.0=py_0\n",
            "    - terminado==0.8.2=py37_0\n",
            "    - testpath==0.4.2=py37_0\n",
            "    - tk==8.6.8=hbc83047_0\n",
            "    - toolz==0.10.0=py_0\n",
            "    - tornado==6.0.3=py37h7b6447c_0\n",
            "    - tqdm==4.32.1=py_0\n",
            "    - traitlets==4.3.2=py37_0\n",
            "    - unicodecsv==0.14.1=py37_0\n",
            "    - unixodbc==2.3.7=h14c3975_0\n",
            "    - urllib3==1.24.2=py37_0\n",
            "    - wcwidth==0.1.7=py37_0\n",
            "    - webencodings==0.5.1=py37_1\n",
            "    - werkzeug==0.15.4=py_0\n",
            "    - wheel==0.33.4=py37_0\n",
            "    - widgetsnbextension==3.5.0=py37_0\n",
            "    - wrapt==1.11.2=py37h7b6447c_0\n",
            "    - wurlitzer==1.0.2=py37_0\n",
            "    - xlrd==1.2.0=py37_0\n",
            "    - xlsxwriter==1.1.8=py_0\n",
            "    - xlwt==1.3.0=py37_0\n",
            "    - xz==5.2.4=h14c3975_4\n",
            "    - yaml==0.1.7=had09818_2\n",
            "    - zeromq==4.3.1=he6710b0_3\n",
            "    - zict==1.0.0=py_0\n",
            "    - zipp==0.5.1=py_0\n",
            "    - zlib==1.2.11=h7b6447c_3\n",
            "    - zstd==1.3.7=h0b5b093_0\n",
            "\n",
            "\n",
            "The following NEW packages will be INSTALLED:\n",
            "\n",
            "  _ipyw_jlab_nb_ext~ pkgs/main/linux-64::_ipyw_jlab_nb_ext_conf-0.1.0-py37_0\n",
            "  _libgcc_mutex      pkgs/main/linux-64::_libgcc_mutex-0.1-main\n",
            "  alabaster          pkgs/main/linux-64::alabaster-0.7.12-py37_0\n",
            "  anaconda           pkgs/main/linux-64::anaconda-2019.07-py37_0\n",
            "  anaconda-client    pkgs/main/linux-64::anaconda-client-1.7.2-py37_0\n",
            "  anaconda-navigator pkgs/main/linux-64::anaconda-navigator-1.9.7-py37_0\n",
            "  anaconda-project   pkgs/main/noarch::anaconda-project-0.8.3-py_0\n",
            "  asn1crypto         pkgs/main/linux-64::asn1crypto-0.24.0-py37_0\n",
            "  astroid            pkgs/main/linux-64::astroid-2.2.5-py37_0\n",
            "  astropy            pkgs/main/linux-64::astropy-3.2.1-py37h7b6447c_0\n",
            "  atomicwrites       pkgs/main/linux-64::atomicwrites-1.3.0-py37_1\n",
            "  attrs              pkgs/main/linux-64::attrs-19.1.0-py37_1\n",
            "  babel              pkgs/main/noarch::babel-2.7.0-py_0\n",
            "  backcall           pkgs/main/linux-64::backcall-0.1.0-py37_0\n",
            "  backports          pkgs/main/noarch::backports-1.0-py_2\n",
            "  backports.functoo~ pkgs/main/noarch::backports.functools_lru_cache-1.5-py_2\n",
            "  backports.os       pkgs/main/linux-64::backports.os-0.1.1-py37_0\n",
            "  backports.shutil_~ pkgs/main/linux-64::backports.shutil_get_terminal_size-1.0.0-py37_2\n",
            "  backports.tempfile pkgs/main/noarch::backports.tempfile-1.0-py_1\n",
            "  backports.weakref  pkgs/main/noarch::backports.weakref-1.0.post1-py_1\n",
            "  beautifulsoup4     pkgs/main/linux-64::beautifulsoup4-4.7.1-py37_1\n",
            "  bitarray           pkgs/main/linux-64::bitarray-0.9.3-py37h7b6447c_0\n",
            "  bkcharts           pkgs/main/linux-64::bkcharts-0.2-py37_0\n",
            "  blas               pkgs/main/linux-64::blas-1.0-mkl\n",
            "  bleach             pkgs/main/linux-64::bleach-3.1.0-py37_0\n",
            "  blosc              pkgs/main/linux-64::blosc-1.16.3-hd408876_0\n",
            "  bokeh              pkgs/main/linux-64::bokeh-1.2.0-py37_0\n",
            "  boto               pkgs/main/linux-64::boto-2.49.0-py37_0\n",
            "  bottleneck         pkgs/main/linux-64::bottleneck-1.2.1-py37h035aef0_1\n",
            "  bzip2              pkgs/main/linux-64::bzip2-1.0.8-h7b6447c_0\n",
            "  ca-certificates    pkgs/main/linux-64::ca-certificates-2019.5.15-0\n",
            "  cairo              pkgs/main/linux-64::cairo-1.14.12-h8948797_3\n",
            "  certifi            pkgs/main/linux-64::certifi-2019.6.16-py37_0\n",
            "  cffi               pkgs/main/linux-64::cffi-1.12.3-py37h2e261b9_0\n",
            "  chardet            pkgs/main/linux-64::chardet-3.0.4-py37_1\n",
            "  click              pkgs/main/linux-64::click-7.0-py37_0\n",
            "  cloudpickle        pkgs/main/noarch::cloudpickle-1.2.1-py_0\n",
            "  clyent             pkgs/main/linux-64::clyent-1.2.2-py37_1\n",
            "  colorama           pkgs/main/linux-64::colorama-0.4.1-py37_0\n",
            "  conda              pkgs/main/linux-64::conda-4.7.10-py37_0\n",
            "  conda-build        pkgs/main/linux-64::conda-build-3.18.8-py37_0\n",
            "  conda-env          pkgs/main/linux-64::conda-env-2.6.0-1\n",
            "  conda-package-han~ pkgs/main/linux-64::conda-package-handling-1.3.11-py37_0\n",
            "  conda-verify       pkgs/main/noarch::conda-verify-3.4.2-py_1\n",
            "  contextlib2        pkgs/main/linux-64::contextlib2-0.5.5-py37_0\n",
            "  cryptography       pkgs/main/linux-64::cryptography-2.7-py37h1ba5d50_0\n",
            "  curl               pkgs/main/linux-64::curl-7.65.2-hbc83047_0\n",
            "  cycler             pkgs/main/linux-64::cycler-0.10.0-py37_0\n",
            "  cython             pkgs/main/linux-64::cython-0.29.12-py37he6710b0_0\n",
            "  cytoolz            pkgs/main/linux-64::cytoolz-0.10.0-py37h7b6447c_0\n",
            "  dask               pkgs/main/noarch::dask-2.1.0-py_0\n",
            "  dask-core          pkgs/main/noarch::dask-core-2.1.0-py_0\n",
            "  dbus               pkgs/main/linux-64::dbus-1.13.6-h746ee38_0\n",
            "  decorator          pkgs/main/linux-64::decorator-4.4.0-py37_1\n",
            "  defusedxml         pkgs/main/noarch::defusedxml-0.6.0-py_0\n",
            "  distributed        pkgs/main/noarch::distributed-2.1.0-py_0\n",
            "  docutils           pkgs/main/linux-64::docutils-0.14-py37_0\n",
            "  entrypoints        pkgs/main/linux-64::entrypoints-0.3-py37_0\n",
            "  et_xmlfile         pkgs/main/linux-64::et_xmlfile-1.0.1-py37_0\n",
            "  expat              pkgs/main/linux-64::expat-2.2.6-he6710b0_0\n",
            "  fastcache          pkgs/main/linux-64::fastcache-1.1.0-py37h7b6447c_0\n",
            "  filelock           pkgs/main/noarch::filelock-3.0.12-py_0\n",
            "  flask              pkgs/main/noarch::flask-1.1.1-py_0\n",
            "  fontconfig         pkgs/main/linux-64::fontconfig-2.13.0-h9420a91_0\n",
            "  freetype           pkgs/main/linux-64::freetype-2.9.1-h8a8886c_1\n",
            "  fribidi            pkgs/main/linux-64::fribidi-1.0.5-h7b6447c_0\n",
            "  future             pkgs/main/linux-64::future-0.17.1-py37_0\n",
            "  get_terminal_size  pkgs/main/linux-64::get_terminal_size-1.0.0-haa9412d_0\n",
            "  gevent             pkgs/main/linux-64::gevent-1.4.0-py37h7b6447c_0\n",
            "  glib               pkgs/main/linux-64::glib-2.56.2-hd408876_0\n",
            "  glob2              pkgs/main/noarch::glob2-0.7-py_0\n",
            "  gmp                pkgs/main/linux-64::gmp-6.1.2-h6c8ec71_1\n",
            "  gmpy2              pkgs/main/linux-64::gmpy2-2.0.8-py37h10f8cd9_2\n",
            "  graphite2          pkgs/main/linux-64::graphite2-1.3.13-h23475e2_0\n",
            "  greenlet           pkgs/main/linux-64::greenlet-0.4.15-py37h7b6447c_0\n",
            "  gst-plugins-base   pkgs/main/linux-64::gst-plugins-base-1.14.0-hbbd80ab_1\n",
            "  gstreamer          pkgs/main/linux-64::gstreamer-1.14.0-hb453b48_1\n",
            "  h5py               pkgs/main/linux-64::h5py-2.9.0-py37h7918eee_0\n",
            "  harfbuzz           pkgs/main/linux-64::harfbuzz-1.8.8-hffaf4a1_0\n",
            "  hdf5               pkgs/main/linux-64::hdf5-1.10.4-hb1b8bf9_0\n",
            "  heapdict           pkgs/main/linux-64::heapdict-1.0.0-py37_2\n",
            "  html5lib           pkgs/main/linux-64::html5lib-1.0.1-py37_0\n",
            "  icu                pkgs/main/linux-64::icu-58.2-h9c2bf20_1\n",
            "  idna               pkgs/main/linux-64::idna-2.8-py37_0\n",
            "  imageio            pkgs/main/linux-64::imageio-2.5.0-py37_0\n",
            "  imagesize          pkgs/main/linux-64::imagesize-1.1.0-py37_0\n",
            "  importlib_metadata pkgs/main/linux-64::importlib_metadata-0.17-py37_1\n",
            "  intel-openmp       pkgs/main/linux-64::intel-openmp-2019.4-243\n",
            "  ipykernel          pkgs/main/linux-64::ipykernel-5.1.1-py37h39e3cac_0\n",
            "  ipython            pkgs/main/linux-64::ipython-7.6.1-py37h39e3cac_0\n",
            "  ipython_genutils   pkgs/main/linux-64::ipython_genutils-0.2.0-py37_0\n",
            "  ipywidgets         pkgs/main/noarch::ipywidgets-7.5.0-py_0\n",
            "  isort              pkgs/main/linux-64::isort-4.3.21-py37_0\n",
            "  itsdangerous       pkgs/main/linux-64::itsdangerous-1.1.0-py37_0\n",
            "  jbig               pkgs/main/linux-64::jbig-2.1-hdba287a_0\n",
            "  jdcal              pkgs/main/noarch::jdcal-1.4.1-py_0\n",
            "  jedi               pkgs/main/linux-64::jedi-0.13.3-py37_0\n",
            "  jeepney            pkgs/main/linux-64::jeepney-0.4-py37_0\n",
            "  jinja2             pkgs/main/linux-64::jinja2-2.10.1-py37_0\n",
            "  joblib             pkgs/main/linux-64::joblib-0.13.2-py37_0\n",
            "  jpeg               pkgs/main/linux-64::jpeg-9b-h024ee3a_2\n",
            "  json5              pkgs/main/noarch::json5-0.8.4-py_0\n",
            "  jsonschema         pkgs/main/linux-64::jsonschema-3.0.1-py37_0\n",
            "  jupyter            pkgs/main/linux-64::jupyter-1.0.0-py37_7\n",
            "  jupyter_client     pkgs/main/noarch::jupyter_client-5.3.1-py_0\n",
            "  jupyter_console    pkgs/main/linux-64::jupyter_console-6.0.0-py37_0\n",
            "  jupyter_core       pkgs/main/noarch::jupyter_core-4.5.0-py_0\n",
            "  jupyterlab         pkgs/main/linux-64::jupyterlab-1.0.2-py37hf63ae98_0\n",
            "  jupyterlab_server  pkgs/main/noarch::jupyterlab_server-1.0.0-py_0\n",
            "  keyring            pkgs/main/linux-64::keyring-18.0.0-py37_0\n",
            "  kiwisolver         pkgs/main/linux-64::kiwisolver-1.1.0-py37he6710b0_0\n",
            "  krb5               pkgs/main/linux-64::krb5-1.16.1-h173b8e3_7\n",
            "  lazy-object-proxy  pkgs/main/linux-64::lazy-object-proxy-1.4.1-py37h7b6447c_0\n",
            "  libarchive         pkgs/main/linux-64::libarchive-3.3.3-h5d8350f_5\n",
            "  libcurl            pkgs/main/linux-64::libcurl-7.65.2-h20c2e04_0\n",
            "  libedit            pkgs/main/linux-64::libedit-3.1.20181209-hc058e9b_0\n",
            "  libffi             pkgs/main/linux-64::libffi-3.2.1-hd88cf55_4\n",
            "  libgcc-ng          pkgs/main/linux-64::libgcc-ng-9.1.0-hdf63c60_0\n",
            "  libgfortran-ng     pkgs/main/linux-64::libgfortran-ng-7.3.0-hdf63c60_0\n",
            "  liblief            pkgs/main/linux-64::liblief-0.9.0-h7725739_2\n",
            "  libpng             pkgs/main/linux-64::libpng-1.6.37-hbc83047_0\n",
            "  libsodium          pkgs/main/linux-64::libsodium-1.0.16-h1bed415_0\n",
            "  libssh2            pkgs/main/linux-64::libssh2-1.8.2-h1ba5d50_0\n",
            "  libstdcxx-ng       pkgs/main/linux-64::libstdcxx-ng-9.1.0-hdf63c60_0\n",
            "  libtiff            pkgs/main/linux-64::libtiff-4.0.10-h2733197_2\n",
            "  libtool            pkgs/main/linux-64::libtool-2.4.6-h7b6447c_5\n",
            "  libuuid            pkgs/main/linux-64::libuuid-1.0.3-h1bed415_2\n",
            "  libxcb             pkgs/main/linux-64::libxcb-1.13-h1bed415_1\n",
            "  libxml2            pkgs/main/linux-64::libxml2-2.9.9-hea5a465_1\n",
            "  libxslt            pkgs/main/linux-64::libxslt-1.1.33-h7d1a2b0_0\n",
            "  llvmlite           pkgs/main/linux-64::llvmlite-0.29.0-py37hd408876_0\n",
            "  locket             pkgs/main/linux-64::locket-0.2.0-py37_1\n",
            "  lxml               pkgs/main/linux-64::lxml-4.3.4-py37hefd8a0e_0\n",
            "  lz4-c              pkgs/main/linux-64::lz4-c-1.8.1.2-h14c3975_0\n",
            "  lzo                pkgs/main/linux-64::lzo-2.10-h49e0be7_2\n",
            "  markupsafe         pkgs/main/linux-64::markupsafe-1.1.1-py37h7b6447c_0\n",
            "  matplotlib         pkgs/main/linux-64::matplotlib-3.1.0-py37h5429711_0\n",
            "  mccabe             pkgs/main/linux-64::mccabe-0.6.1-py37_1\n",
            "  mistune            pkgs/main/linux-64::mistune-0.8.4-py37h7b6447c_0\n",
            "  mkl                pkgs/main/linux-64::mkl-2019.4-243\n",
            "  mkl-service        pkgs/main/linux-64::mkl-service-2.0.2-py37h7b6447c_0\n",
            "  mkl_fft            pkgs/main/linux-64::mkl_fft-1.0.12-py37ha843d7b_0\n",
            "  mkl_random         pkgs/main/linux-64::mkl_random-1.0.2-py37hd81dba3_0\n",
            "  mock               pkgs/main/linux-64::mock-3.0.5-py37_0\n",
            "  more-itertools     pkgs/main/linux-64::more-itertools-7.0.0-py37_0\n",
            "  mpc                pkgs/main/linux-64::mpc-1.1.0-h10f8cd9_1\n",
            "  mpfr               pkgs/main/linux-64::mpfr-4.0.1-hdf1c602_3\n",
            "  mpmath             pkgs/main/linux-64::mpmath-1.1.0-py37_0\n",
            "  msgpack-python     pkgs/main/linux-64::msgpack-python-0.6.1-py37hfd86e86_1\n",
            "  multipledispatch   pkgs/main/linux-64::multipledispatch-0.6.0-py37_0\n",
            "  navigator-updater  pkgs/main/linux-64::navigator-updater-0.2.1-py37_0\n",
            "  nbconvert          pkgs/main/noarch::nbconvert-5.5.0-py_0\n",
            "  nbformat           pkgs/main/linux-64::nbformat-4.4.0-py37_0\n",
            "  ncurses            pkgs/main/linux-64::ncurses-6.1-he6710b0_1\n",
            "  networkx           pkgs/main/noarch::networkx-2.3-py_0\n",
            "  nltk               pkgs/main/linux-64::nltk-3.4.4-py37_0\n",
            "  nose               pkgs/main/linux-64::nose-1.3.7-py37_2\n",
            "  notebook           pkgs/main/linux-64::notebook-6.0.0-py37_0\n",
            "  numba              pkgs/main/linux-64::numba-0.44.1-py37h962f231_0\n",
            "  numexpr            pkgs/main/linux-64::numexpr-2.6.9-py37h9e4a6bb_0\n",
            "  numpy              pkgs/main/linux-64::numpy-1.16.4-py37h7e9f1db_0\n",
            "  numpy-base         pkgs/main/linux-64::numpy-base-1.16.4-py37hde5b4d6_0\n",
            "  numpydoc           pkgs/main/noarch::numpydoc-0.9.1-py_0\n",
            "  olefile            pkgs/main/linux-64::olefile-0.46-py37_0\n",
            "  openpyxl           pkgs/main/noarch::openpyxl-2.6.2-py_0\n",
            "  openssl            pkgs/main/linux-64::openssl-1.1.1c-h7b6447c_1\n",
            "  packaging          pkgs/main/linux-64::packaging-19.0-py37_0\n",
            "  pandas             pkgs/main/linux-64::pandas-0.24.2-py37he6710b0_0\n",
            "  pandoc             pkgs/main/linux-64::pandoc-2.2.3.2-0\n",
            "  pandocfilters      pkgs/main/linux-64::pandocfilters-1.4.2-py37_1\n",
            "  pango              pkgs/main/linux-64::pango-1.42.4-h049681c_0\n",
            "  parso              pkgs/main/noarch::parso-0.5.0-py_0\n",
            "  partd              pkgs/main/noarch::partd-1.0.0-py_0\n",
            "  patchelf           pkgs/main/linux-64::patchelf-0.9-he6710b0_3\n",
            "  path.py            pkgs/main/noarch::path.py-12.0.1-py_0\n",
            "  pathlib2           pkgs/main/linux-64::pathlib2-2.3.4-py37_0\n",
            "  patsy              pkgs/main/linux-64::patsy-0.5.1-py37_0\n",
            "  pcre               pkgs/main/linux-64::pcre-8.43-he6710b0_0\n",
            "  pep8               pkgs/main/linux-64::pep8-1.7.1-py37_0\n",
            "  pexpect            pkgs/main/linux-64::pexpect-4.7.0-py37_0\n",
            "  pickleshare        pkgs/main/linux-64::pickleshare-0.7.5-py37_0\n",
            "  pillow             pkgs/main/linux-64::pillow-6.1.0-py37h34e0f95_0\n",
            "  pip                pkgs/main/linux-64::pip-19.1.1-py37_0\n",
            "  pixman             pkgs/main/linux-64::pixman-0.38.0-h7b6447c_0\n",
            "  pkginfo            pkgs/main/linux-64::pkginfo-1.5.0.1-py37_0\n",
            "  pluggy             pkgs/main/noarch::pluggy-0.12.0-py_0\n",
            "  ply                pkgs/main/linux-64::ply-3.11-py37_0\n",
            "  prometheus_client  pkgs/main/noarch::prometheus_client-0.7.1-py_0\n",
            "  prompt_toolkit     pkgs/main/linux-64::prompt_toolkit-2.0.9-py37_0\n",
            "  psutil             pkgs/main/linux-64::psutil-5.6.3-py37h7b6447c_0\n",
            "  ptyprocess         pkgs/main/linux-64::ptyprocess-0.6.0-py37_0\n",
            "  py                 pkgs/main/linux-64::py-1.8.0-py37_0\n",
            "  py-lief            pkgs/main/linux-64::py-lief-0.9.0-py37h7725739_2\n",
            "  pycodestyle        pkgs/main/linux-64::pycodestyle-2.5.0-py37_0\n",
            "  pycosat            pkgs/main/linux-64::pycosat-0.6.3-py37h14c3975_0\n",
            "  pycparser          pkgs/main/linux-64::pycparser-2.19-py37_0\n",
            "  pycrypto           pkgs/main/linux-64::pycrypto-2.6.1-py37h14c3975_9\n",
            "  pycurl             pkgs/main/linux-64::pycurl-7.43.0.3-py37h1ba5d50_0\n",
            "  pyflakes           pkgs/main/linux-64::pyflakes-2.1.1-py37_0\n",
            "  pygments           pkgs/main/noarch::pygments-2.4.2-py_0\n",
            "  pylint             pkgs/main/linux-64::pylint-2.3.1-py37_0\n",
            "  pyodbc             pkgs/main/linux-64::pyodbc-4.0.26-py37he6710b0_0\n",
            "  pyopenssl          pkgs/main/linux-64::pyopenssl-19.0.0-py37_0\n",
            "  pyparsing          pkgs/main/noarch::pyparsing-2.4.0-py_0\n",
            "  pyqt               pkgs/main/linux-64::pyqt-5.9.2-py37h05f1152_2\n",
            "  pyrsistent         pkgs/main/linux-64::pyrsistent-0.14.11-py37h7b6447c_0\n",
            "  pysocks            pkgs/main/linux-64::pysocks-1.7.0-py37_0\n",
            "  pytables           pkgs/main/linux-64::pytables-3.5.2-py37h71ec239_1\n",
            "  pytest             pkgs/main/linux-64::pytest-5.0.1-py37_0\n",
            "  pytest-arraydiff   pkgs/main/linux-64::pytest-arraydiff-0.3-py37h39e3cac_0\n",
            "  pytest-astropy     pkgs/main/linux-64::pytest-astropy-0.5.0-py37_0\n",
            "  pytest-doctestplus pkgs/main/linux-64::pytest-doctestplus-0.3.0-py37_0\n",
            "  pytest-openfiles   pkgs/main/linux-64::pytest-openfiles-0.3.2-py37_0\n",
            "  pytest-remotedata  pkgs/main/linux-64::pytest-remotedata-0.3.1-py37_0\n",
            "  python             pkgs/main/linux-64::python-3.7.3-h0371630_0\n",
            "  python-dateutil    pkgs/main/linux-64::python-dateutil-2.8.0-py37_0\n",
            "  python-libarchive~ pkgs/main/linux-64::python-libarchive-c-2.8-py37_11\n",
            "  pytz               pkgs/main/noarch::pytz-2019.1-py_0\n",
            "  pywavelets         pkgs/main/linux-64::pywavelets-1.0.3-py37hdd07704_1\n",
            "  pyyaml             pkgs/main/linux-64::pyyaml-5.1.1-py37h7b6447c_0\n",
            "  pyzmq              pkgs/main/linux-64::pyzmq-18.0.0-py37he6710b0_0\n",
            "  qt                 pkgs/main/linux-64::qt-5.9.7-h5867ecd_1\n",
            "  qtawesome          pkgs/main/linux-64::qtawesome-0.5.7-py37_1\n",
            "  qtconsole          pkgs/main/noarch::qtconsole-4.5.1-py_0\n",
            "  qtpy               pkgs/main/noarch::qtpy-1.8.0-py_0\n",
            "  readline           pkgs/main/linux-64::readline-7.0-h7b6447c_5\n",
            "  requests           pkgs/main/linux-64::requests-2.22.0-py37_0\n",
            "  rope               pkgs/main/noarch::rope-0.14.0-py_0\n",
            "  ruamel_yaml        pkgs/main/linux-64::ruamel_yaml-0.15.46-py37h14c3975_0\n",
            "  scikit-image       pkgs/main/linux-64::scikit-image-0.15.0-py37he6710b0_0\n",
            "  scikit-learn       pkgs/main/linux-64::scikit-learn-0.21.2-py37hd81dba3_0\n",
            "  scipy              pkgs/main/linux-64::scipy-1.3.0-py37h7c811a0_0\n",
            "  seaborn            pkgs/main/linux-64::seaborn-0.9.0-py37_0\n",
            "  secretstorage      pkgs/main/linux-64::secretstorage-3.1.1-py37_0\n",
            "  send2trash         pkgs/main/linux-64::send2trash-1.5.0-py37_0\n",
            "  setuptools         pkgs/main/linux-64::setuptools-41.0.1-py37_0\n",
            "  simplegeneric      pkgs/main/linux-64::simplegeneric-0.8.1-py37_2\n",
            "  singledispatch     pkgs/main/linux-64::singledispatch-3.4.0.3-py37_0\n",
            "  sip                pkgs/main/linux-64::sip-4.19.8-py37hf484d3e_0\n",
            "  six                pkgs/main/linux-64::six-1.12.0-py37_0\n",
            "  snappy             pkgs/main/linux-64::snappy-1.1.7-hbae5bb6_3\n",
            "  snowballstemmer    pkgs/main/noarch::snowballstemmer-1.9.0-py_0\n",
            "  sortedcollections  pkgs/main/linux-64::sortedcollections-1.1.2-py37_0\n",
            "  sortedcontainers   pkgs/main/linux-64::sortedcontainers-2.1.0-py37_0\n",
            "  soupsieve          pkgs/main/linux-64::soupsieve-1.8-py37_0\n",
            "  sphinx             pkgs/main/noarch::sphinx-2.1.2-py_0\n",
            "  sphinxcontrib      pkgs/main/linux-64::sphinxcontrib-1.0-py37_1\n",
            "  sphinxcontrib-app~ pkgs/main/noarch::sphinxcontrib-applehelp-1.0.1-py_0\n",
            "  sphinxcontrib-dev~ pkgs/main/noarch::sphinxcontrib-devhelp-1.0.1-py_0\n",
            "  sphinxcontrib-htm~ pkgs/main/noarch::sphinxcontrib-htmlhelp-1.0.2-py_0\n",
            "  sphinxcontrib-jsm~ pkgs/main/noarch::sphinxcontrib-jsmath-1.0.1-py_0\n",
            "  sphinxcontrib-qth~ pkgs/main/noarch::sphinxcontrib-qthelp-1.0.2-py_0\n",
            "  sphinxcontrib-ser~ pkgs/main/noarch::sphinxcontrib-serializinghtml-1.1.3-py_0\n",
            "  sphinxcontrib-web~ pkgs/main/noarch::sphinxcontrib-websupport-1.1.2-py_0\n",
            "  spyder             pkgs/main/linux-64::spyder-3.3.6-py37_0\n",
            "  spyder-kernels     pkgs/main/linux-64::spyder-kernels-0.5.1-py37_0\n",
            "  sqlalchemy         pkgs/main/linux-64::sqlalchemy-1.3.5-py37h7b6447c_0\n",
            "  sqlite             pkgs/main/linux-64::sqlite-3.29.0-h7b6447c_0\n",
            "  statsmodels        pkgs/main/linux-64::statsmodels-0.10.0-py37hdd07704_0\n",
            "  sympy              pkgs/main/linux-64::sympy-1.4-py37_0\n",
            "  tblib              pkgs/main/noarch::tblib-1.4.0-py_0\n",
            "  terminado          pkgs/main/linux-64::terminado-0.8.2-py37_0\n",
            "  testpath           pkgs/main/linux-64::testpath-0.4.2-py37_0\n",
            "  tk                 pkgs/main/linux-64::tk-8.6.8-hbc83047_0\n",
            "  toolz              pkgs/main/noarch::toolz-0.10.0-py_0\n",
            "  tornado            pkgs/main/linux-64::tornado-6.0.3-py37h7b6447c_0\n",
            "  tqdm               pkgs/main/noarch::tqdm-4.32.1-py_0\n",
            "  traitlets          pkgs/main/linux-64::traitlets-4.3.2-py37_0\n",
            "  unicodecsv         pkgs/main/linux-64::unicodecsv-0.14.1-py37_0\n",
            "  unixodbc           pkgs/main/linux-64::unixodbc-2.3.7-h14c3975_0\n",
            "  urllib3            pkgs/main/linux-64::urllib3-1.24.2-py37_0\n",
            "  wcwidth            pkgs/main/linux-64::wcwidth-0.1.7-py37_0\n",
            "  webencodings       pkgs/main/linux-64::webencodings-0.5.1-py37_1\n",
            "  werkzeug           pkgs/main/noarch::werkzeug-0.15.4-py_0\n",
            "  wheel              pkgs/main/linux-64::wheel-0.33.4-py37_0\n",
            "  widgetsnbextension pkgs/main/linux-64::widgetsnbextension-3.5.0-py37_0\n",
            "  wrapt              pkgs/main/linux-64::wrapt-1.11.2-py37h7b6447c_0\n",
            "  wurlitzer          pkgs/main/linux-64::wurlitzer-1.0.2-py37_0\n",
            "  xlrd               pkgs/main/linux-64::xlrd-1.2.0-py37_0\n",
            "  xlsxwriter         pkgs/main/noarch::xlsxwriter-1.1.8-py_0\n",
            "  xlwt               pkgs/main/linux-64::xlwt-1.3.0-py37_0\n",
            "  xz                 pkgs/main/linux-64::xz-5.2.4-h14c3975_4\n",
            "  yaml               pkgs/main/linux-64::yaml-0.1.7-had09818_2\n",
            "  zeromq             pkgs/main/linux-64::zeromq-4.3.1-he6710b0_3\n",
            "  zict               pkgs/main/noarch::zict-1.0.0-py_0\n",
            "  zipp               pkgs/main/noarch::zipp-0.5.1-py_0\n",
            "  zlib               pkgs/main/linux-64::zlib-1.2.11-h7b6447c_3\n",
            "  zstd               pkgs/main/linux-64::zstd-1.3.7-h0b5b093_0\n",
            "\n",
            "\n",
            "Preparing transaction: \\ \b\b| \b\b/ \b\b- \b\b\\ \b\b| \b\b/ \b\b- \b\b\\ \b\b| \b\b/ \b\b- \b\b\\ \b\b| \b\b/ \b\b- \b\b\\ \b\b| \b\b/ \b\b- \b\b\\ \b\b| \b\b/ \b\b- \b\b\\ \b\b| \b\b/ \b\b- \b\b\\ \b\b| \b\b/ \b\b- \b\b\\ \b\b| \b\b/ \b\b- \b\b\\ \b\b| \b\b/ \b\b- \b\b\\ \b\b| \b\b/ \b\b- \b\b\\ \b\b| \b\b/ \b\bdone\n",
            "Executing transaction: \\ \b\b| \b\b/ \b\b- \b\b\\ \b\b| \b\b/ \b\b- \b\b\\ \b\b| \b\b/ \b\b- \b\b\\ \b\b| \b\b/ \b\b- \b\b\\ \b\b| \b\b/ \b\b- \b\b\\ \b\b| \b\b/ \b\b- \b\b\\ \b\b| \b\b/ \b\b- \b\b\\ \b\b| \b\b/ \b\b- \b\b\\ \b\b| \b\b/ \b\b- \b\b\\ \b\b| \b\b/ \b\b- \b\b\\ \b\b| \b\b/ \b\b- \b\b\\ \b\b| \b\b/ \b\b- \b\b\\ \b\b| \b\b/ \b\b- \b\b\\ \b\b| \b\b/ \b\b- \b\b\\ \b\b| \b\b/ \b\b- \b\b\\ \b\b| \b\b/ \b\b- \b\b\\ \b\b| \b\b/ \b\b- \b\b\\ \b\b| \b\b/ \b\b- \b\b\\ \b\b| \b\b/ \b\b- \b\b\\ \b\b| \b\b/ \b\b- \b\b\\ \b\b| \b\b/ \b\b- \b\b\\ \b\b| \b\b/ \b\b- \b\b\\ \b\b| \b\b/ \b\b- \b\b\\ \b\b| \b\b/ \b\b- \b\b\\ \b\b| \b\b/ \b\b- \b\b\\ \b\b| \b\b/ \b\b- \b\b\\ \b\b| \b\b/ \b\b- \b\b\\ \b\b| \b\b/ \b\b- \b\b\\ \b\b| \b\b/ \b\b- \b\b\\ \b\b| WARNING conda.core.envs_manager:register_env(46): Unable to register environment. Path not writable or missing.\n",
            "  environment location: /root/anaconda3\n",
            "  registry file: /root/.conda/environments.txt\n",
            "\b\bdone\n",
            "installation finished.\n",
            "WARNING:\n",
            "    You currently have a PYTHONPATH environment variable set. This may cause\n",
            "    unexpected behavior when running the Python interpreter in Anaconda3.\n",
            "    For best results, please verify that your PYTHONPATH only points to\n",
            "    directories of packages that are compatible with the Python interpreter\n",
            "    in Anaconda3: /root/anaconda3\n",
            "Do you wish the installer to initialize Anaconda3\n",
            "by running conda init? [yes|no]\n",
            "[no] >>> yes\n",
            "no change     /root/anaconda3/condabin/conda\n",
            "no change     /root/anaconda3/bin/conda\n",
            "no change     /root/anaconda3/bin/conda-env\n",
            "no change     /root/anaconda3/bin/activate\n",
            "no change     /root/anaconda3/bin/deactivate\n",
            "no change     /root/anaconda3/etc/profile.d/conda.sh\n",
            "no change     /root/anaconda3/etc/fish/conf.d/conda.fish\n",
            "no change     /root/anaconda3/shell/condabin/Conda.psm1\n",
            "no change     /root/anaconda3/shell/condabin/conda-hook.ps1\n",
            "no change     /root/anaconda3/lib/python3.7/site-packages/xontrib/conda.xsh\n",
            "no change     /root/anaconda3/etc/profile.d/conda.csh\n",
            "modified      /root/.bashrc\n",
            "\n",
            "==> For changes to take effect, close and re-open your current shell. <==\n",
            "\n",
            "If you'd prefer that conda's base environment not be activated on startup, \n",
            "   set the auto_activate_base parameter to false: \n",
            "\n",
            "conda config --set auto_activate_base false\n",
            "\n",
            "Thank you for installing Anaconda3!\n",
            "\n",
            "===========================================================================\n",
            "\n",
            "Anaconda and JetBrains are working together to bring you Anaconda-powered\n",
            "environments tightly integrated in the PyCharm IDE.\n",
            "\n",
            "PyCharm for Anaconda is available at:\n",
            "https://www.anaconda.com/pycharm\n",
            "\n"
          ],
          "name": "stdout"
        }
      ]
    },
    {
      "cell_type": "code",
      "metadata": {
        "id": "jnnFhXEies5s",
        "colab_type": "code",
        "outputId": "f93a7775-08cf-4d7a-c08d-90150ab49aaa",
        "colab": {
          "base_uri": "https://localhost:8080/",
          "height": 34
        }
      },
      "source": [
        "!echo $PATH"
      ],
      "execution_count": 4,
      "outputs": [
        {
          "output_type": "stream",
          "text": [
            "/usr/local/nvidia/bin:/usr/local/cuda/bin:/usr/local/sbin:/usr/local/bin:/usr/sbin:/usr/bin:/sbin:/bin:/tools/node/bin:/tools/google-cloud-sdk/bin:/opt/bin\n"
          ],
          "name": "stdout"
        }
      ]
    },
    {
      "cell_type": "code",
      "metadata": {
        "id": "AiSAobmgfDB1",
        "colab_type": "code",
        "outputId": "5e6ab0d6-6140-4190-e2a1-fd5adc1afc43",
        "colab": {
          "base_uri": "https://localhost:8080/",
          "height": 34
        }
      },
      "source": [
        "import os\n",
        "os.environ['PATH'] = \":/root/anaconda3/bin:\" +os.environ['PATH']\n",
        "!echo $PATH"
      ],
      "execution_count": 5,
      "outputs": [
        {
          "output_type": "stream",
          "text": [
            ":/root/anaconda3/bin:/usr/local/nvidia/bin:/usr/local/cuda/bin:/usr/local/sbin:/usr/local/bin:/usr/sbin:/usr/bin:/sbin:/bin:/tools/node/bin:/tools/google-cloud-sdk/bin:/opt/bin\n"
          ],
          "name": "stdout"
        }
      ]
    },
    {
      "cell_type": "code",
      "metadata": {
        "id": "7kBZA7iJhKP2",
        "colab_type": "code",
        "colab": {
          "base_uri": "https://localhost:8080/",
          "height": 1000
        },
        "outputId": "35344602-eec7-4e25-8507-0cc990d1d96f"
      },
      "source": [
        "!conda install -y --prefix /root/anaconda3 \\\n",
        "  -c rapidsai-nightly/label/xgboost -c rapidsai-nightly -c nvidia -c conda-forge \\\n",
        "  python=3.6 cudatoolkit=10.0 \\\n",
        "  cudf cuml cugraph gcsfs pynvml \\\n",
        "  dask-cudf dask-cuml \\\n",
        "  rapidsai/label/xgboost::xgboost=>0.9"
      ],
      "execution_count": 6,
      "outputs": [
        {
          "output_type": "stream",
          "text": [
            "\n",
            "UnsatisfiableError: The following specifications were found to be incompatible with a past\n",
            "explicit spec that is not an explicit spec in this operation (python):\n",
            "\n",
            "  - cudf -> pyarrow=0.12.1 -> parquet-cpp=1.5.1 -> arrow-cpp[version='>=0.11.0,>=0.11.1,<0.12.0a0,>=0.12.0,>=0.12.0,<0.13.0a0'] -> numpy[version='>=1.11.3,<2.0a0,>=1.14,<2.0a0'] -> python[version='>=3.6,<3.7.0a0,>=3.7,<3.8.0a0']\n",
            "  - cugraph -> cudf[version='0.7.*,0.8.*,0.9.*'] -> pyarrow=0.12.1 -> parquet-cpp=1.5.1 -> arrow-cpp[version='>=0.11.0,>=0.11.1,<0.12.0a0,>=0.12.0,>=0.12.0,<0.13.0a0'] -> numpy[version='>=1.11.3,<2.0a0,>=1.14,<2.0a0'] -> python[version='>=3.6,<3.7.0a0,>=3.7,<3.8.0a0']\n",
            "  - cuml -> libcuml[version='0.7.0.dev0.*,0.8.0a.*,0.9.0a.*'] -> cudf[version='0.7.*,0.8.*,0.9.*'] -> pyarrow=0.12.1 -> parquet-cpp=1.5.1 -> arrow-cpp[version='>=0.11.0,>=0.11.1,<0.12.0a0,>=0.12.0,>=0.12.0,<0.13.0a0'] -> numpy[version='>=1.11.3,<2.0a0,>=1.14,<2.0a0'] -> python[version='>=3.6,<3.7.0a0,>=3.7,<3.8.0a0']\n",
            "  - dask-cudf -> distributed[version='>=1.23.0,>=2.0.0'] -> dask[version='>=0.10.0'] -> bokeh[version='>=0.13.0'] -> pandas -> numpy[version='>=1.12.1,<2.0a0,>=1.9,>=1.9.*,>=1.9.3,<2.0a0'] -> python[version='>=3.6,<3.7.0a0,>=3.7,<3.8.0a0']\n",
            "  - dask-cuml -> distributed[version='>=1.23.0'] -> dask[version='>=0.10.0'] -> bokeh[version='>=0.13.0'] -> pandas -> numpy[version='>=1.12.1,<2.0a0,>=1.9,>=1.9.*,>=1.9.3,<2.0a0'] -> python[version='>=3.6,<3.7.0a0,>=3.7,<3.8.0a0']\n",
            "  - gcsfs -> google-auth-oauthlib -> requests-oauthlib[version='>=0.7.0,>=0.7.0,<1dev'] -> requests[version='>=2.0.0'] -> urllib3[version='>=1.21.1,<1.24,>=1.21.1,<1.25'] -> pyopenssl[version='>=0.14'] -> cryptography[version='>=1.3.4,>=1.9,>=2.1.4,>=2.2.1'] -> cffi[version='>=1.7'] -> pycparser -> python[version='3.4.*,3.5.*,>=3.5,<3.6.0a0,>=3.6,<3.7.0a0']\n",
            "  - pynvml -> python[version='>=3.5']\n",
            "  - python=3.6\n",
            "  - rapidsai/label/xgboost::xgboost -> py-xgboost==0.83.dev43=py37he6ff8a9_1 -> scikit-learn -> scipy -> numpy[version='1.10.*,1.11.*,1.12.*,>=1.11.3,<2.0a0,>=1.9.3,<2.0a0'] -> python[version='>=3.6,<3.7.0a0,>=3.7,<3.8.0a0']\n",
            "  - rapidsai/label/xgboost::xgboost -> py-xgboost==0.90.rapidsdev1=cuda10.0py36_1 -> scikit-learn -> scipy -> numpy[version='1.10.*,1.11.*,1.12.*,>=1.11.3,<2.0a0,>=1.9.3,<2.0a0'] -> python[version='>=3.6,<3.7.0a0,>=3.7,<3.8.0a0']\n",
            "  - rapidsai/label/xgboost::xgboost -> py-xgboost==0.90.rapidsdev1=cuda10.0py37_1 -> scikit-learn -> scipy -> numpy[version='1.10.*,1.11.*,1.12.*,>=1.11.3,<2.0a0,>=1.9.3,<2.0a0'] -> python[version='>=3.6,<3.7.0a0,>=3.7,<3.8.0a0']\n",
            "  - rapidsai/label/xgboost::xgboost -> py-xgboost==0.90.rapidsdev1=cuda9.2py36_1 -> scikit-learn -> scipy -> numpy[version='1.10.*,1.11.*,1.12.*,>=1.11.3,<2.0a0,>=1.9.3,<2.0a0'] -> python[version='>=3.6,<3.7.0a0,>=3.7,<3.8.0a0']\n",
            "  - rapidsai/label/xgboost::xgboost -> py-xgboost==0.90.rapidsdev1=cuda9.2py37_1 -> scikit-learn -> scipy -> numpy[version='1.10.*,1.11.*,1.12.*,>=1.11.3,<2.0a0,>=1.9.3,<2.0a0'] -> python[version='>=3.6,<3.7.0a0,>=3.7,<3.8.0a0']\n",
            "  - rapidsai/label/xgboost::xgboost -> py-xgboost==0.90.rapidsdev1=py36he6ff8a9_1 -> scikit-learn -> scipy -> numpy[version='1.10.*,1.11.*,1.12.*,>=1.11.3,<2.0a0,>=1.9.3,<2.0a0'] -> python[version='>=3.6,<3.7.0a0,>=3.7,<3.8.0a0']\n",
            "  - rapidsai/label/xgboost::xgboost -> py-xgboost==0.90.rapidsdev1=py37he6ff8a9_1 -> scikit-learn -> scipy -> numpy[version='1.10.*,1.11.*,1.12.*,>=1.11.3,<2.0a0,>=1.9.3,<2.0a0'] -> python[version='>=3.6,<3.7.0a0,>=3.7,<3.8.0a0']\n",
            "\n",
            "The following specifications were found to be incompatible with each other:\n",
            "\n",
            "\n",
            "\n",
            "Package wheel conflicts for:\n",
            "cffi -> pycparser -> python[version='3.4.*,3.5.*,>=3.5,<3.6.0a0,>=3.6,<3.7.0a0'] -> pip -> wheel\n",
            "click -> python[version='2.7.*,3.4.*,3.5.*,>=2.7,<2.8.0a0,>=3.6,<3.7.0a0,>=3.7,<3.8.0a0'] -> pip -> wheel\n",
            "xlsxwriter -> python[version='3.5.*,>=2.7,<2.8.0a0,>=3.5,<3.6.0a0,>=3.6,<3.7.0a0'] -> pip -> wheel\n",
            "jupyter -> notebook -> prometheus_client -> twisted -> service_identity[version='>=18.1.0'] -> attrs[version='>=16.0.0'] -> python[version='2.7.*,3.5.*,>=3.6,<3.7.0a0'] -> pip -> wheel\n",
            "get_terminal_size -> backports.shutil_get_terminal_size -> backports -> python[version='2.7.*,3.5.*,3.6.*,>=2.7,<2.8.0a0,>=3.5,<3.6.0a0,>=3.6,<3.7.0a0'] -> pip -> wheel\n",
            "requests -> urllib3[version='>=1.21.1,<1.24,>=1.21.1,<1.25'] -> pyopenssl[version='>=0.14'] -> cryptography[version='>=1.3.4,>=1.9,>=2.1.4,>=2.2.1'] -> cffi[version='>=1.7'] -> pycparser -> python[version='3.4.*,3.5.*,>=3.5,<3.6.0a0,>=3.6,<3.7.0a0'] -> pip -> wheel\n",
            "json5 -> python -> pip -> wheel\n",
            "pytest-arraydiff -> pytest -> attrs[version='>=17.2.0,>=17.4.0'] -> python[version='2.7.*,3.4.*,3.5.*,>=3.6,<3.7.0a0'] -> pip -> wheel\n",
            "asn1crypto -> python[version='3.5.*,3.6.*,>=2.7,<2.8.0a0,>=3.5,<3.6.0a0,>=3.6,<3.7.0a0,>=3.7,<3.8.0a0'] -> pip -> wheel\n",
            "sqlalchemy -> python[version='3.6.*,>=2.7,<2.8.0a0,>=3.6,<3.7.0a0,>=3.7,<3.8.0a0'] -> pip -> wheel\n",
            "pylint -> astroid[version='>=1.4.5,<1.5.0,>=1.5.1,>=2.0.0,>=2.2.0'] -> backports.functools_lru_cache -> setuptools -> certifi[version='>=2016.09'] -> python[version='2.7.*,3.4.*,>=2.7,<2.8.0a0,>=3.5,<3.6.0a0,>=3.6,<3.7.0a0,>=3.7,<3.8.0a0'] -> pip -> wheel\n",
            "pandas -> numpy[version='1.10.*,>=1.12.1,<2.0a0,>=1.9,>=1.9.*,>=1.9.3,<2.0a0'] -> python[version='>=2.7,<2.8.0a0,>=3.5,<3.6.0a0,>=3.6,<3.7.0a0,>=3.7,<3.8.0a0'] -> pip -> wheel\n",
            "ipython_genutils -> python[version='2.7.*,3.4.*,>=2.7,<2.8.0a0,>=3.5,<3.6.0a0,>=3.6,<3.7.0a0'] -> pip -> wheel\n",
            "qtpy -> python[version='2.7.*,3.6.*,>=2.7,<2.8.0a0,>=3.5,<3.6.0a0,>=3.6,<3.7.0a0'] -> pip -> wheel\n",
            "bokeh -> pandas -> numpy[version='1.10.*,>=1.12.1,<2.0a0,>=1.9,>=1.9.*,>=1.9.3,<2.0a0'] -> python[version='>=2.7,<2.8.0a0,>=3.5,<3.6.0a0,>=3.6,<3.7.0a0,>=3.7,<3.8.0a0'] -> pip -> wheel\n",
            "setuptools -> certifi[version='>=2016.09'] -> python[version='2.7.*,3.4.*,>=2.7,<2.8.0a0,>=3.5,<3.6.0a0,>=3.6,<3.7.0a0,>=3.7,<3.8.0a0'] -> pip -> wheel\n",
            "sphinx -> requests[version='>2.0.0,>=2.0.0,>=2.5.0'] -> urllib3[version='>=1.21.1,<1.24,>=1.21.1,<1.25'] -> pyopenssl[version='>=0.14'] -> cryptography[version='>=1.3.4,>=1.9,>=2.1.4,>=2.2.1'] -> cffi[version='>=1.7'] -> pycparser -> python[version='3.4.*,3.5.*,>=3.5,<3.6.0a0,>=3.6,<3.7.0a0'] -> pip -> wheel\n",
            "sphinxcontrib-devhelp -> python[version='>=3.5'] -> pip -> wheel\n",
            "jeepney -> python[version='>=3.5,>=3.5,<3.6.0a0,>=3.6,<3.7.0a0,>=3.7,<3.8.0a0'] -> pip -> wheel\n",
            "singledispatch -> six -> python[version='3.5.*,3.6.*,>=3.6,<3.7.0a0,>=3.7,<3.8.0a0'] -> pip -> wheel\n",
            "openpyxl -> jdcal -> python[version='2.7.*,3.5.*,3.6.*,>=2.7,<2.8.0a0,>=3.6,<3.7.0a0,>=3.7,<3.8.0a0'] -> pip -> wheel\n",
            "soupsieve -> backports.functools_lru_cache -> setuptools -> certifi[version='>=2016.09'] -> python[version='2.7.*,>=2.7,<2.8.0a0,>=3.6,<3.7.0a0,>=3.7,<3.8.0a0'] -> pip -> wheel\n",
            "path.py -> importlib_metadata[version='>=0.5'] -> pathlib2 -> six -> python[version='3.5.*,3.6.*,>=3.6,<3.7.0a0,>=3.7,<3.8.0a0'] -> pip -> wheel\n",
            "pysocks -> python[version='2.7.*,3.6.*,>=2.7,<2.8.0a0,>=3.6,<3.7.0a0,>=3.7,<3.8.0a0'] -> pip -> wheel\n",
            "pycparser -> python[version='3.4.*,3.5.*,>=3.5,<3.6.0a0,>=3.6,<3.7.0a0'] -> pip -> wheel\n",
            "python-dateutil -> six[version='>=1.5'] -> python[version='3.5.*,3.6.*,>=3.6,<3.7.0a0,>=3.7,<3.8.0a0'] -> pip -> wheel\n",
            "sphinxcontrib-htmlhelp -> python[version='>=3.5'] -> pip -> wheel\n",
            "dask-core -> python[version='>=2.7,<2.8.0a0,>=3.5,<3.6.0a0,>=3.6,<3.7.0a0'] -> pip -> wheel\n",
            "alabaster -> python[version='2.7.*,3.6.*,>=2.7,<2.8.0a0,>=3.5,<3.6.0a0,>=3.6,<3.7.0a0,>=3.7,<3.8.0a0'] -> pip -> wheel\n",
            "bottleneck -> numpy[version='1.10.*,1.11.*,>=1.11.3,<2.0a0,>=1.9.3,<2.0a0'] -> python[version='>=2.7,<2.8.0a0,>=3.5,<3.6.0a0,>=3.6,<3.7.0a0,>=3.7,<3.8.0a0'] -> pip -> wheel\n",
            "packaging -> six -> python[version='3.5.*,3.6.*,>=3.6,<3.7.0a0,>=3.7,<3.8.0a0'] -> pip -> wheel\n",
            "testpath -> pathlib2 -> six -> python[version='3.5.*,3.6.*,>=3.6,<3.7.0a0,>=3.7,<3.8.0a0'] -> pip -> wheel\n",
            "dask -> distributed[version='>=1.11.0,>=1.16.0,>=1.20.0,>=1.21.0,>=1.23.3,>=1.27.0'] -> bokeh -> pandas -> numpy[version='1.10.*,>=1.12.1,<2.0a0,>=1.9,>=1.9.*,>=1.9.3,<2.0a0'] -> python[version='>=2.7,<2.8.0a0,>=3.5,<3.6.0a0,>=3.6,<3.7.0a0,>=3.7,<3.8.0a0'] -> pip -> wheel\n",
            "joblib -> python[version='2.7.*,3.5.*,>=2.7,<2.8.0a0,>=3.5,<3.6.0a0'] -> pip -> wheel\n",
            "filelock -> python[version='3.4.*,3.6.*,>=3.5,<3.6.0a0,>=3.6,<3.7.0a0'] -> pip -> wheel\n",
            "ipython -> jedi[version='>=0.10'] -> python[version='3.4.*,3.5.*,>=3.5,<3.6.0a0,>=3.6,<3.7.0a0'] -> pip -> wheel\n",
            "anaconda-project -> anaconda-client -> requests[version='>=2.9.1'] -> urllib3[version='>=1.21.1,<1.24,>=1.21.1,<1.25'] -> pyopenssl[version='>=0.14'] -> cryptography[version='>=1.3.4,>=1.9,>=2.1.4,>=2.2.1'] -> cffi[version='>=1.7'] -> pycparser -> python[version='3.4.*,3.5.*,>=3.5,<3.6.0a0,>=3.6,<3.7.0a0'] -> pip -> wheel\n",
            "_ipyw_jlab_nb_ext_conf -> jupyterlab -> notebook[version='>=4.2,>=4.3,>=4.3.1'] -> prometheus_client -> twisted -> service_identity[version='>=18.1.0'] -> attrs[version='>=16.0.0'] -> python[version='2.7.*,3.5.*,>=3.6,<3.7.0a0'] -> pip -> wheel\n",
            "glob2 -> python[version='2.7.*,3.5.*,>=2.7,<2.8.0a0,>=3.5,<3.6.0a0,>=3.7,<3.8.0a0'] -> pip -> wheel\n",
            "boto -> python[version='>=2.7,<2.8.0a0,>=3.6,<3.7.0a0,>=3.7,<3.8.0a0'] -> pip -> wheel\n",
            "prompt_toolkit -> pygments -> setuptools -> certifi[version='>=2016.09'] -> python[version='2.7.*,3.4.*,>=2.7,<2.8.0a0,>=3.5,<3.6.0a0,>=3.6,<3.7.0a0,>=3.7,<3.8.0a0'] -> pip -> wheel\n",
            "locket -> python[version='3.4.*,3.5.*,>=2.7,<2.8.0a0,>=3.5,<3.6.0a0,>=3.6,<3.7.0a0,>=3.7,<3.8.0a0'] -> pip -> wheel\n",
            "backports.shutil_get_terminal_size -> backports -> python[version='2.7.*,3.5.*,3.6.*,>=2.7,<2.8.0a0,>=3.5,<3.6.0a0,>=3.6,<3.7.0a0'] -> pip -> wheel\n",
            "secretstorage -> cryptography -> cffi[version='>=1.7'] -> pycparser -> python[version='3.5.*,>=3.5,<3.6.0a0,>=3.6,<3.7.0a0'] -> pip -> wheel\n",
            "conda[version='>=4.7.10'] -> requests[version='>=2.12.4,<3,>=2.18.4,<3'] -> urllib3[version='>=1.21.1,<1.24,>=1.21.1,<1.25'] -> pyopenssl[version='>=0.14'] -> cryptography[version='>=1.3.4,>=1.9,>=2.1.4,>=2.2.1'] -> cffi[version='>=1.7'] -> pycparser -> python[version='>=3.6,<3.7.0a0'] -> pip -> wheel\n",
            "conda-package-handling -> tqdm -> python[version='3.5.*,3.6.*,>=3.7,<3.8.0a0'] -> pip -> wheel\n",
            "tqdm -> python[version='3.5.*,3.6.*,>=3.7,<3.8.0a0'] -> pip -> wheel\n",
            "html5lib -> webencodings -> python[version='3.5.*,3.6.*,>=2.7,<2.8.0a0,>=3.5,<3.6.0a0,>=3.6,<3.7.0a0'] -> pip -> wheel\n",
            "jinja2 -> setuptools -> certifi[version='>=2016.09'] -> python[version='2.7.*,3.4.*,>=2.7,<2.8.0a0,>=3.5,<3.6.0a0,>=3.6,<3.7.0a0,>=3.7,<3.8.0a0'] -> pip -> wheel\n",
            "cycler -> six -> python[version='3.5.*,3.6.*,>=3.6,<3.7.0a0,>=3.7,<3.8.0a0'] -> pip -> wheel\n",
            "attrs -> hypothesis -> coverage -> python[version='2.7.*,3.4.*,3.5.*,>=3.6,<3.7.0a0'] -> pip -> wheel\n",
            "numpy-base -> python[version='>=2.7,<2.8.0a0,>=3.5,<3.6.0a0,>=3.6,<3.7.0a0,>=3.7,<3.8.0a0'] -> pip -> wheel\n",
            "pluggy -> python[version='>=3.5,<3.6.0a0,>=3.6,<3.7.0a0,>=3.7,<3.8.0a0'] -> pip -> wheel\n",
            "ipykernel -> ipython[version='>=4.0,>=4.0.0,>=5.0'] -> jedi[version='>=0.10'] -> python[version='3.4.*,3.5.*,>=3.5,<3.6.0a0,>=3.6,<3.7.0a0'] -> pip -> wheel\n",
            "rope -> python[version='3.5.*,3.6.*,>=2.7,<2.8.0a0,>=3.5,<3.6.0a0,>=3.6,<3.7.0a0'] -> pip -> wheel\n",
            "jdcal -> python[version='2.7.*,3.5.*,3.6.*,>=2.7,<2.8.0a0,>=3.6,<3.7.0a0,>=3.7,<3.8.0a0'] -> pip -> wheel\n",
            "wrapt -> python[version='3.5.*,>=2.7,<2.8.0a0,>=3.6,<3.7.0a0,>=3.7,<3.8.0a0'] -> pip -> wheel\n",
            "pickleshare -> pathlib2 -> six -> python[version='3.5.*,3.6.*,>=3.6,<3.7.0a0,>=3.7,<3.8.0a0'] -> pip -> wheel\n",
            "pip -> wheel\n",
            "contextlib2 -> python[version='3.4.*,3.5.*,3.6.*,>=2.7,<2.8.0a0,>=3.6,<3.7.0a0'] -> pip -> wheel\n",
            "mistune -> python[version='>=2.7,<2.8.0a0,>=3.5,<3.6.0a0,>=3.6,<3.7.0a0,>=3.7,<3.8.0a0'] -> pip -> wheel\n",
            "qtconsole -> ipykernel[version='>=4.1'] -> ipython[version='>=4.0,>=4.0.0,>=5.0'] -> jedi[version='>=0.10'] -> python[version='3.5.*,>=3.5,<3.6.0a0,>=3.6,<3.7.0a0'] -> pip -> wheel\n",
            "multipledispatch -> six -> python[version='3.5.*,3.6.*,>=3.6,<3.7.0a0,>=3.7,<3.8.0a0'] -> pip -> wheel\n",
            "cuml -> libcuml[version='0.7.0.dev0.*,0.8.0a.*,0.9.0a.*'] -> cudf[version='0.7.*,0.8.*,0.9.*'] -> pyarrow=0.12.1 -> parquet-cpp=1.5.1 -> arrow-cpp[version='>=0.11.0,>=0.11.1,<0.12.0a0,>=0.12.0,>=0.12.0,<0.13.0a0'] -> numpy[version='>=1.11.3,<2.0a0,>=1.14,<2.0a0'] -> python[version='>=3.6,<3.7.0a0,>=3.7,<3.8.0a0'] -> pip -> wheel\n",
            "pytest-doctestplus -> pytest[version='>=2.8'] -> attrs[version='>=17.2.0,>=17.4.0'] -> python[version='2.7.*,3.4.*,3.5.*,>=3.6,<3.7.0a0'] -> pip -> wheel\n",
            "clyent -> setuptools -> certifi[version='>=2016.09'] -> python[version='2.7.*,3.4.*,>=2.7,<2.8.0a0,>=3.5,<3.6.0a0,>=3.6,<3.7.0a0,>=3.7,<3.8.0a0'] -> pip -> wheel\n",
            "lxml -> python[version='2.7.*,3.5.*,3.6.*,>=2.7,<2.8.0a0,>=3.6,<3.7.0a0'] -> pip -> wheel\n",
            "six -> python[version='3.5.*,3.6.*,>=3.6,<3.7.0a0,>=3.7,<3.8.0a0'] -> pip -> wheel\n",
            "cytoolz -> toolz[version='>=0.10.0,>=0.8.0'] -> python[version='3.4.*,3.5.*,>=2.7,<2.8.0a0,>=3.5,<3.6.0a0'] -> pip -> wheel\n",
            "sip -> python[version='2.7.*,3.6.*,>=2.7,<2.8.0a0,>=3.6,<3.7.0a0,>=3.7,<3.8.0a0'] -> pip -> wheel\n",
            "gcsfs -> google-auth-oauthlib -> requests-oauthlib[version='>=0.7.0,>=0.7.0,<1dev'] -> requests[version='>=2.0.0'] -> urllib3[version='>=1.21.1,<1.24,>=1.21.1,<1.25'] -> pyopenssl[version='>=0.14'] -> cryptography[version='>=1.3.4,>=1.9,>=2.1.4,>=2.2.1'] -> cffi[version='>=1.7'] -> pycparser -> python[version='3.4.*,3.5.*,>=3.5,<3.6.0a0,>=3.6,<3.7.0a0'] -> pip -> wheel\n",
            "kiwisolver -> python[version='2.7.*,>=2.7,<2.8.0a0,>=3.5,<3.6.0a0,>=3.6,<3.7.0a0,>=3.7,<3.8.0a0'] -> pip -> wheel\n",
            "astroid -> backports.functools_lru_cache -> setuptools -> certifi[version='>=2016.09'] -> python[version='2.7.*,3.4.*,>=2.7,<2.8.0a0,>=3.5,<3.6.0a0,>=3.6,<3.7.0a0,>=3.7,<3.8.0a0'] -> pip -> wheel\n",
            "ipywidgets -> widgetsnbextension[version='>=1.2.6,<2,>=2.0.0,<3.0.0,>=3.1.0,<3.2.0,>=3.3.0,<3.4.0,>=3.4.0,<3.5.0'] -> notebook[version='>=4.2.0,>=4.4.1'] -> prometheus_client -> twisted -> service_identity[version='>=18.1.0'] -> attrs[version='>=16.0.0'] -> python[version='2.7.*,3.4.*,3.5.*,>=3.6,<3.7.0a0'] -> pip -> wheel\n",
            "cryptography -> cffi[version='>=1.7'] -> pycparser -> python[version='3.5.*,>=3.5,<3.6.0a0,>=3.6,<3.7.0a0'] -> pip -> wheel\n",
            "matplotlib -> matplotlib-base==2.2.3=py27h60b886d_1 -> numpy[version='>=1.11.3,<2.0a0,>=1.14.6,<2.0a0,>=1.9.3,<2.0a0'] -> python[version='>=2.7,<2.8.0a0,>=3.5,<3.6.0a0,>=3.6,<3.7.0a0,>=3.7,<3.8.0a0'] -> pip -> wheel\n",
            "webencodings -> python[version='3.5.*,3.6.*,>=2.7,<2.8.0a0,>=3.5,<3.6.0a0,>=3.6,<3.7.0a0'] -> pip -> wheel\n",
            "markupsafe -> python[version='3.4.*,>=2.7,<2.8.0a0,>=3.5,<3.6.0a0,>=3.6,<3.7.0a0,>=3.7,<3.8.0a0'] -> pip -> wheel\n",
            "werkzeug -> python[version='2.7.*,3.6.*,>=3.6,<3.7.0a0'] -> pip -> wheel\n",
            "numexpr -> numpy[version='>=1.11,>=1.11.3,<2.0a0,>=1.9.3,<2.0a0'] -> python[version='>=2.7,<2.8.0a0,>=3.5,<3.6.0a0,>=3.6,<3.7.0a0,>=3.7,<3.8.0a0'] -> pip -> wheel\n",
            "pyrsistent -> six -> python[version='3.6.*,>=3.6,<3.7.0a0,>=3.7,<3.8.0a0'] -> pip -> wheel\n",
            "anaconda-navigator -> anaconda-project[version='>=0.4'] -> anaconda-client -> requests[version='>=2.9.1'] -> urllib3[version='>=1.21.1,<1.24,>=1.21.1,<1.25'] -> pyopenssl[version='>=0.14'] -> cryptography[version='>=1.3.4,>=1.9,>=2.1.4,>=2.2.1'] -> cffi[version='>=1.7'] -> pycparser -> python[version='3.5.*,>=3.5,<3.6.0a0,>=3.6,<3.7.0a0'] -> pip -> wheel\n",
            "pycosat -> python[version='2.7.*,3.5.*,>=2.7,<2.8.0a0,>=3.5,<3.6.0a0,>=3.7,<3.8.0a0'] -> pip -> wheel\n",
            "wurlitzer -> python[version='>=2.7,<2.8.0a0,>=3.6,<3.7.0a0,>=3.7,<3.8.0a0'] -> pip -> wheel\n",
            "greenlet -> python[version='3.5.*,3.6.*,>=3.5,<3.6.0a0,>=3.6,<3.7.0a0,>=3.7,<3.8.0a0'] -> pip -> wheel\n",
            "backports.tempfile -> backports.weakref -> backports -> python[version='2.7.*,3.5.*,3.6.*,>=2.7,<2.8.0a0,>=3.5,<3.6.0a0,>=3.6,<3.7.0a0'] -> pip -> wheel\n",
            "qtawesome -> six -> python[version='3.5.*,3.6.*,>=3.6,<3.7.0a0,>=3.7,<3.8.0a0'] -> pip -> wheel\n",
            "python=3.6 -> pip -> wheel\n",
            "nose -> setuptools -> certifi[version='>=2016.09'] -> python[version='2.7.*,3.4.*,>=2.7,<2.8.0a0,>=3.5,<3.6.0a0,>=3.6,<3.7.0a0,>=3.7,<3.8.0a0'] -> pip -> wheel\n",
            "chardet -> python[version='2.7.*,3.5.*,3.6.*,>=3.7,<3.8.0a0'] -> pip -> wheel\n",
            "bkcharts -> pandas -> numpy[version='1.10.*,>=1.12.1,<2.0a0,>=1.9,>=1.9.*,>=1.9.3,<2.0a0'] -> python[version='>=2.7,<2.8.0a0,>=3.5,<3.6.0a0,>=3.6,<3.7.0a0,>=3.7,<3.8.0a0'] -> pip -> wheel\n",
            "cugraph -> cudf[version='0.7.*,0.8.*,0.9.*'] -> pyarrow=0.12.1 -> parquet-cpp=1.5.1 -> arrow-cpp[version='>=0.11.0,>=0.11.1,<0.12.0a0,>=0.12.0,>=0.12.0,<0.13.0a0'] -> numpy[version='>=1.11.3,<2.0a0,>=1.14,<2.0a0'] -> python[version='>=3.6,<3.7.0a0,>=3.7,<3.8.0a0'] -> pip -> wheel\n",
            "imagesize -> python[version='2.7.*,>=2.7,<2.8.0a0,>=3.5,<3.6.0a0,>=3.6,<3.7.0a0,>=3.7,<3.8.0a0'] -> pip -> wheel\n",
            "conda-verify -> jinja2 -> setuptools -> certifi[version='>=2016.09'] -> python[version='2.7.*,3.4.*,>=2.7,<2.8.0a0,>=3.5,<3.6.0a0,>=3.6,<3.7.0a0,>=3.7,<3.8.0a0'] -> pip -> wheel\n",
            "colorama -> python[version='3.6.*,>=3.6,<3.7.0a0,>=3.7,<3.8.0a0'] -> pip -> wheel\n",
            "conda-env -> python[version='2.7.*,3.4.*,3.5.*'] -> pip -> wheel\n",
            "tblib -> python[version='3.6.*,>=2.7,<2.8.0a0,>=3.6,<3.7.0a0,>=3.7,<3.8.0a0'] -> pip -> wheel\n",
            "pytables -> numexpr -> numpy[version='>=1.11,>=1.11.3,<2.0a0,>=1.9.3,<2.0a0'] -> python[version='>=2.7,<2.8.0a0,>=3.5,<3.6.0a0,>=3.6,<3.7.0a0,>=3.7,<3.8.0a0'] -> pip -> wheel\n",
            "docutils -> python[version='2.7.*,3.6.*,>=2.7,<2.8.0a0,>=3.6,<3.7.0a0,>=3.7,<3.8.0a0'] -> pip -> wheel\n",
            "scikit-image -> dask[version='>=0.5'] -> distributed[version='>=1.11.0,>=1.16.0,>=1.20.0,>=1.21.0,>=1.23.3,>=1.27.0'] -> bokeh -> pandas -> numpy[version='1.10.*,>=1.12.1,<2.0a0,>=1.9,>=1.9.*,>=1.9.3,<2.0a0'] -> python[version='>=2.7,<2.8.0a0,>=3.5,<3.6.0a0,>=3.6,<3.7.0a0,>=3.7,<3.8.0a0'] -> pip -> wheel\n",
            "certifi -> python[version='2.7.*,3.4.*,>=2.7,<2.8.0a0,>=3.5,<3.6.0a0,>=3.6,<3.7.0a0,>=3.7,<3.8.0a0'] -> pip -> wheel\n",
            "widgetsnbextension -> notebook[version='>=4.2.0,>=4.4.1'] -> prometheus_client -> twisted -> service_identity[version='>=18.1.0'] -> attrs[version='>=16.0.0'] -> python[version='2.7.*,3.4.*,3.5.*,>=3.6,<3.7.0a0'] -> pip -> wheel\n",
            "msgpack-python -> python[version='2.7.*,3.5.*,3.6.*,>=2.7,<2.8.0a0,>=3.6,<3.7.0a0,>=3.7,<3.8.0a0'] -> pip -> wheel\n",
            "patsy -> scipy -> numpy[version='1.10.*,1.11.*,1.12.*,>=1.11.3,<2.0a0,>=1.9.3,<2.0a0'] -> python[version='>=2.7,<2.8.0a0,>=3.5,<3.6.0a0,>=3.6,<3.7.0a0,>=3.7,<3.8.0a0'] -> pip -> wheel\n",
            "simplegeneric -> python[version='>=2.7,<2.8.0a0,>=3.5,<3.6.0a0,>=3.6,<3.7.0a0,>=3.7,<3.8.0a0'] -> pip -> wheel\n",
            "zict -> heapdict -> python[version='2.7.*,3.4.*,>=2.7,<2.8.0a0,>=3.5,<3.6.0a0,>=3.6,<3.7.0a0,>=3.7,<3.8.0a0'] -> pip -> wheel\n",
            "navigator-updater -> pyqt[version='>=5.6'] -> qt[version='5.6.*,5.9.*,>=5.6.2,<5.7.0a0,>=5.9.6,<5.10.0a0'] -> gtk2 -> gdk-pixbuf -> gobject-introspection -> python[version='>=3.7,<3.8.0a0'] -> pip -> wheel\n",
            "psutil -> python[version='>=2.7,<2.8.0a0,>=3.5,<3.6.0a0,>=3.6,<3.7.0a0,>=3.7,<3.8.0a0'] -> pip -> wheel\n",
            "mkl_fft -> numpy[version='>=1.11,>=1.11.3,<2.0a0'] -> python[version='>=2.7,<2.8.0a0,>=3.5,<3.6.0a0,>=3.6,<3.7.0a0,>=3.7,<3.8.0a0'] -> pip -> wheel\n",
            "heapdict -> python[version='2.7.*,3.4.*,>=2.7,<2.8.0a0,>=3.5,<3.6.0a0,>=3.6,<3.7.0a0,>=3.7,<3.8.0a0'] -> pip -> wheel\n",
            "gevent -> cffi[version='>=1.11.5,>=1.3.0'] -> pycparser -> python[version='3.5.*,>=3.5,<3.6.0a0,>=3.6,<3.7.0a0'] -> pip -> wheel\n",
            "pyqt -> qt[version='5.6.*,5.9.*,>=5.6.2,<5.7.0a0,>=5.9.6,<5.10.0a0'] -> gtk2 -> gdk-pixbuf -> gobject-introspection -> python[version='>=3.7,<3.8.0a0'] -> pip -> wheel\n",
            "nbformat -> jupyter_core -> traitlets -> six -> python[version='3.5.*,3.6.*,>=3.6,<3.7.0a0,>=3.7,<3.8.0a0'] -> pip -> wheel\n",
            "backcall -> python[version='>=2.7,<2.8.0a0,>=3.5,<3.6.0a0,>=3.6,<3.7.0a0,>=3.7,<3.8.0a0'] -> pip -> wheel\n",
            "xlrd -> python[version='2.7.*,3.6.*,>=2.7,<2.8.0a0,>=3.5,<3.6.0a0,>=3.6,<3.7.0a0,>=3.7,<3.8.0a0'] -> pip -> wheel\n",
            "nltk -> singledispatch -> six -> python[version='3.5.*,3.6.*,>=3.6,<3.7.0a0,>=3.7,<3.8.0a0'] -> pip -> wheel\n",
            "backports.weakref -> backports -> python[version='2.7.*,3.5.*,3.6.*,>=2.7,<2.8.0a0,>=3.5,<3.6.0a0,>=3.6,<3.7.0a0'] -> pip -> wheel\n",
            "pycodestyle -> python[version='2.7.*,3.4.*,3.5.*,>=2.7,<2.8.0a0,>=3.5,<3.6.0a0'] -> pip -> wheel\n",
            "imageio -> numpy -> python[version='>=2.7,<2.8.0a0,>=3.5,<3.6.0a0,>=3.6,<3.7.0a0,>=3.7,<3.8.0a0'] -> pip -> wheel\n",
            "sphinxcontrib -> python[version='>=2.7,<2.8.0a0,>=3.5,<3.6.0a0,>=3.6,<3.7.0a0,>=3.7,<3.8.0a0'] -> pip -> wheel\n",
            "anaconda-client -> requests[version='>=2.9.1'] -> urllib3[version='>=1.21.1,<1.24,>=1.21.1,<1.25'] -> pyopenssl[version='>=0.14'] -> cryptography[version='>=1.3.4,>=1.9,>=2.1.4,>=2.2.1'] -> cffi[version='>=1.7'] -> pycparser -> python[version='3.4.*,3.5.*,>=3.5,<3.6.0a0,>=3.6,<3.7.0a0'] -> pip -> wheel\n",
            "wcwidth -> python[version='2.7.*,3.4.*,3.5.*,3.6.*,>=2.7,<2.8.0a0,>=3.6,<3.7.0a0'] -> pip -> wheel\n",
            "lazy-object-proxy -> python[version='2.7.*,3.5.*,3.6.*,>=2.7,<2.8.0a0,>=3.6,<3.7.0a0,>=3.7,<3.8.0a0'] -> pip -> wheel\n",
            "nbconvert -> nbformat[version='>=4.4'] -> jupyter_core -> traitlets -> six -> python[version='3.5.*,3.6.*,>=3.6,<3.7.0a0,>=3.7,<3.8.0a0'] -> pip -> wheel\n",
            "pyopenssl -> cryptography[version='>=1.3.4,>=1.9,>=2.1.4,>=2.2.1'] -> cffi[version='>=1.7'] -> pycparser -> python[version='3.5.*,>=3.5,<3.6.0a0,>=3.6,<3.7.0a0'] -> pip -> wheel\n",
            "numpydoc -> sphinx -> requests[version='>2.0.0,>=2.0.0,>=2.5.0'] -> urllib3[version='>=1.21.1,<1.24,>=1.21.1,<1.25'] -> pyopenssl[version='>=0.14'] -> cryptography[version='>=1.3.4,>=1.9,>=2.1.4,>=2.2.1'] -> cffi[version='>=1.7'] -> pycparser -> python[version='3.4.*,3.5.*,>=3.5,<3.6.0a0,>=3.6,<3.7.0a0'] -> pip -> wheel\n",
            "jupyterlab_server -> notebook -> prometheus_client -> twisted -> service_identity[version='>=18.1.0'] -> attrs[version='>=16.0.0'] -> python[version='3.5.*,>=3.6,<3.7.0a0'] -> pip -> wheel\n",
            "libarchive -> zstd[version='>=1.3.3,<1.3.4.0a0'] -> lz4 -> python[version='>=3.6,<3.7.0a0'] -> pip -> wheel\n",
            "networkx -> setuptools -> certifi[version='>=2016.09'] -> python[version='2.7.*,3.4.*,>=2.7,<2.8.0a0,>=3.5,<3.6.0a0,>=3.6,<3.7.0a0,>=3.7,<3.8.0a0'] -> pip -> wheel\n",
            "distributed -> dask[version='>=0.10.0'] -> bokeh[version='>=0.13.0'] -> pandas -> numpy[version='1.10.*,>=1.12.1,<2.0a0,>=1.9,>=1.9.*,>=1.9.3,<2.0a0'] -> python[version='>=2.7,<2.8.0a0,>=3.5,<3.6.0a0,>=3.6,<3.7.0a0,>=3.7,<3.8.0a0'] -> pip -> wheel\n",
            "sphinxcontrib-websupport -> sphinxcontrib -> python[version='>=2.7,<2.8.0a0,>=3.5,<3.6.0a0,>=3.6,<3.7.0a0,>=3.7,<3.8.0a0'] -> pip -> wheel\n",
            "pkginfo -> python[version='2.7.*,3.5.*,3.6.*,>=3.5,<3.6.0a0'] -> pip -> wheel\n",
            "conda-build -> conda[version='>=4.3'] -> requests[version='>=2.12.4,<3,>=2.18.4,<3'] -> urllib3[version='>=1.21.1,<1.24,>=1.21.1,<1.25'] -> pyopenssl[version='>=0.14'] -> cryptography[version='>=1.3.4,>=1.9,>=2.1.4,>=2.2.1'] -> cffi[version='>=1.7'] -> pycparser -> python[version='3.4.*,3.5.*,>=3.5,<3.6.0a0,>=3.6,<3.7.0a0'] -> pip -> wheel\n",
            "ruamel_yaml -> setuptools -> certifi[version='>=2016.09'] -> python[version='2.7.*,3.4.*,>=2.7,<2.8.0a0,>=3.5,<3.6.0a0,>=3.6,<3.7.0a0,>=3.7,<3.8.0a0'] -> pip -> wheel\n",
            "defusedxml -> python[version='2.7.*,3.4.*,3.5.*,>=2.7,<2.8.0a0,>=3.5,<3.6.0a0,>=3.6,<3.7.0a0'] -> pip -> wheel\n",
            "isort -> setuptools -> certifi[version='>=2016.09'] -> python[version='2.7.*,3.4.*,>=2.7,<2.8.0a0,>=3.5,<3.6.0a0,>=3.6,<3.7.0a0,>=3.7,<3.8.0a0'] -> pip -> wheel\n",
            "scikit-learn -> scipy -> numpy[version='1.10.*,1.11.*,1.12.*,>=1.11.3,<2.0a0,>=1.9.3,<2.0a0'] -> python[version='>=2.7,<2.8.0a0,>=3.5,<3.6.0a0,>=3.6,<3.7.0a0,>=3.7,<3.8.0a0'] -> pip -> wheel\n",
            "h5py -> numpy[version='1.12.*,1.13.*,>=1.8,>=1.9.3,<2.0a0'] -> python[version='>=2.7,<2.8.0a0,>=3.5,<3.6.0a0,>=3.6,<3.7.0a0,>=3.7,<3.8.0a0'] -> pip -> wheel\n",
            "pep8 -> python[version='3.4.*,3.5.*,3.6.*,>=2.7,<2.8.0a0,>=3.6,<3.7.0a0,>=3.7,<3.8.0a0'] -> pip -> wheel\n",
            "pexpect -> ptyprocess[version='>=0.5'] -> python[version='2.7.*,3.5.*,>=3.5,<3.6.0a0,>=3.6,<3.7.0a0'] -> pip -> wheel\n",
            "mccabe -> python[version='2.7.*,3.5.*,3.6.*,>=3.6,<3.7.0a0'] -> pip -> wheel\n",
            "pytest-remotedata -> pytest[version='>=3.1'] -> attrs[version='>=17.2.0,>=17.4.0'] -> python[version='2.7.*,3.4.*,3.5.*,>=3.6,<3.7.0a0'] -> pip -> wheel\n",
            "pyparsing -> python[version='2.7.*,3.5.*,>=3.5,<3.6.0a0,>=3.6,<3.7.0a0,>=3.7,<3.8.0a0'] -> pip -> wheel\n",
            "sympy -> setuptools -> certifi[version='>=2016.09'] -> python[version='2.7.*,>=2.7,<2.8.0a0,>=3.5,<3.6.0a0,>=3.6,<3.7.0a0,>=3.7,<3.8.0a0'] -> pip -> wheel\n",
            "traitlets -> six -> python[version='3.5.*,3.6.*,>=3.6,<3.7.0a0,>=3.7,<3.8.0a0'] -> pip -> wheel\n",
            "zstd -> lz4 -> python[version='>=3.6,<3.7.0a0'] -> pip -> wheel\n",
            "jupyter_console -> ipykernel -> ipython[version='>=4.0,>=4.0.0,>=5.0'] -> jedi[version='>=0.10'] -> python[version='3.4.*,3.5.*,>=3.5,<3.6.0a0,>=3.6,<3.7.0a0'] -> pip -> wheel\n",
            "future -> python[version='3.4.*,3.5.*,>=2.7,<2.8.0a0,>=3.5,<3.6.0a0,>=3.6,<3.7.0a0'] -> pip -> wheel\n",
            "pyyaml -> python[version='3.4.*,3.5.*,>=3.6,<3.7.0a0,>=3.7,<3.8.0a0'] -> pip -> wheel\n",
            "backports.os -> future -> python[version='3.5.*,>=2.7,<2.8.0a0,>=3.5,<3.6.0a0,>=3.6,<3.7.0a0'] -> pip -> wheel\n",
            "mkl-service -> numpy[version='>=1.11.3,<2.0a0'] -> python[version='>=2.7,<2.8.0a0,>=3.5,<3.6.0a0,>=3.6,<3.7.0a0,>=3.7,<3.8.0a0'] -> pip -> wheel\n",
            "py-lief -> python[version='>=2.7,<2.8.0a0,>=3.6,<3.7.0a0,>=3.7,<3.8.0a0'] -> pip -> wheel\n",
            "pillow -> olefile -> python[version='2.7.*,3.5.*,>=2.7,<2.8.0a0,>=3.6,<3.7.0a0,>=3.7,<3.8.0a0'] -> pip -> wheel\n",
            "astropy -> pytest[version='<3.7'] -> attrs[version='>=17.2.0,>=17.4.0'] -> python[version='2.7.*,3.5.*,>=3.6,<3.7.0a0'] -> pip -> wheel\n",
            "zipp -> python[version='>=2.7,<2.8.0a0,>=3.6,<3.7.0a0'] -> pip -> wheel\n",
            "decorator -> python[version='2.7.*,3.4.*,3.5.*,3.6.*,>=2.7,<2.8.0a0,>=3.6,<3.7.0a0,>=3.7,<3.8.0a0'] -> pip -> wheel\n",
            "olefile -> python[version='2.7.*,3.5.*,>=2.7,<2.8.0a0,>=3.6,<3.7.0a0,>=3.7,<3.8.0a0'] -> pip -> wheel\n",
            "qt -> gtk2 -> gdk-pixbuf -> gobject-introspection -> python[version='>=3.7,<3.8.0a0'] -> pip -> wheel\n",
            "jupyterlab -> notebook[version='>=4.2,>=4.3,>=4.3.1'] -> prometheus_client -> twisted -> service_identity[version='>=18.1.0'] -> attrs[version='>=16.0.0'] -> python[version='2.7.*,3.4.*,3.5.*,>=3.6,<3.7.0a0'] -> pip -> wheel\n",
            "sphinxcontrib-jsmath -> python[version='>=3.5'] -> pip -> wheel\n",
            "pycrypto -> python[version='2.7.*,3.5.*,3.6.*,>=2.7,<2.8.0a0,>=3.6,<3.7.0a0'] -> pip -> wheel\n",
            "rapidsai/label/xgboost::xgboost -> py-xgboost==0.90.rapidsdev1=cuda10.0py36_1 -> scikit-learn -> scipy -> numpy[version='1.10.*,1.11.*,1.12.*,>=1.11.3,<2.0a0,>=1.9.3,<2.0a0'] -> python[version='>=3.6,<3.7.0a0,>=3.7,<3.8.0a0'] -> pip -> wheel\n",
            "xlwt -> python[version='2.7.*,3.5.*,3.6.*,>=2.7,<2.8.0a0'] -> pip -> wheel\n",
            "pytest-astropy -> pytest[version='>=3.1,>=3.1.0'] -> attrs[version='>=17.2.0,>=17.4.0'] -> python[version='2.7.*,3.4.*,3.5.*,>=3.6,<3.7.0a0'] -> pip -> wheel\n",
            "prometheus_client -> twisted -> service_identity[version='>=18.1.0'] -> attrs[version='>=16.0.0'] -> python[version='2.7.*,3.4.*,3.5.*,>=3.6,<3.7.0a0'] -> pip -> wheel\n",
            "pygments -> setuptools -> certifi[version='>=2016.09'] -> python[version='2.7.*,3.4.*,>=2.7,<2.8.0a0,>=3.5,<3.6.0a0,>=3.6,<3.7.0a0,>=3.7,<3.8.0a0'] -> pip -> wheel\n",
            "urllib3 -> pyopenssl[version='>=0.14'] -> cryptography[version='>=1.3.4,>=1.9,>=2.1.4,>=2.2.1'] -> cffi[version='>=1.7'] -> pycparser -> python[version='3.4.*,3.5.*,>=3.5,<3.6.0a0,>=3.6,<3.7.0a0'] -> pip -> wheel\n",
            "mpmath -> gmpy2 -> python[version='3.4.*,3.5.*,3.6.*,>=2.7,<2.8.0a0,>=3.5,<3.6.0a0,>=3.7,<3.8.0a0'] -> pip -> wheel\n",
            "numpy -> python[version='>=2.7,<2.8.0a0,>=3.5,<3.6.0a0,>=3.6,<3.7.0a0,>=3.7,<3.8.0a0'] -> pip -> wheel\n",
            "blosc -> zstd[version='>=1.3.7,<1.3.8.0a0'] -> lz4 -> python[version='>=3.6,<3.7.0a0'] -> pip -> wheel\n",
            "jupyter_client -> tornado -> python[version='2.7.*,3.5.*,3.6.*,>=2.7,<2.8.0a0,>=3.5,<3.6.0a0,>=3.6,<3.7.0a0'] -> pip -> wheel\n",
            "cudf -> pyarrow=0.12.1 -> parquet-cpp=1.5.1 -> arrow-cpp[version='>=0.11.0,>=0.11.1,<0.12.0a0,>=0.12.0,>=0.12.0,<0.13.0a0'] -> numpy[version='>=1.11.3,<2.0a0,>=1.14,<2.0a0'] -> python[version='>=3.6,<3.7.0a0,>=3.7,<3.8.0a0'] -> pip -> wheel\n",
            "pandocfilters -> python[version='2.7.*,3.4.*,3.5.*,3.6.*,>=2.7,<2.8.0a0,>=3.7,<3.8.0a0'] -> pip -> wheel\n",
            "send2trash -> python[version='>=2.7,<2.8.0a0,>=3.5,<3.6.0a0,>=3.6,<3.7.0a0,>=3.7,<3.8.0a0'] -> pip -> wheel\n",
            "parso -> python[version='>=2.7,<2.8.0a0,>=3.6,<3.7.0a0,>=3.7,<3.8.0a0'] -> pip -> wheel\n",
            "pycurl -> python[version='>=2.7,<2.8.0a0,>=3.5,<3.6.0a0,>=3.6,<3.7.0a0,>=3.7,<3.8.0a0'] -> pip -> wheel\n",
            "rapidsai/label/xgboost::xgboost -> py-xgboost==0.90.rapidsdev1=py36he6ff8a9_1 -> scikit-learn -> scipy -> numpy[version='1.10.*,1.11.*,1.12.*,>=1.11.3,<2.0a0,>=1.9.3,<2.0a0'] -> python[version='>=3.6,<3.7.0a0,>=3.7,<3.8.0a0'] -> pip -> wheel\n",
            "notebook -> prometheus_client -> twisted -> service_identity[version='>=18.1.0'] -> attrs[version='>=16.0.0'] -> python[version='2.7.*,3.4.*,3.5.*,>=3.6,<3.7.0a0'] -> pip -> wheel\n",
            "jsonschema -> attrs[version='>=17.4.0'] -> python[version='2.7.*,3.4.*,3.5.*,>=3.6,<3.7.0a0'] -> pip -> wheel\n",
            "py -> python[version='2.7.*,3.6.*,>=2.7,<2.8.0a0,>=3.5,<3.6.0a0'] -> pip -> wheel\n",
            "rapidsai/label/xgboost::xgboost -> py-xgboost==0.90.rapidsdev1=cuda9.2py37_1 -> scikit-learn -> scipy -> numpy[version='1.10.*,1.11.*,1.12.*,>=1.11.3,<2.0a0,>=1.9.3,<2.0a0'] -> python[version='>=3.6,<3.7.0a0,>=3.7,<3.8.0a0'] -> pip -> wheel\n",
            "pyflakes -> python[version='2.7.*,3.5.*,3.6.*,>=2.7,<2.8.0a0'] -> pip -> wheel\n",
            "bleach -> setuptools -> certifi[version='>=2016.09'] -> python[version='2.7.*,3.4.*,>=2.7,<2.8.0a0,>=3.5,<3.6.0a0,>=3.6,<3.7.0a0,>=3.7,<3.8.0a0'] -> pip -> wheel\n",
            "backports.functools_lru_cache -> setuptools -> certifi[version='>=2016.09'] -> python[version='2.7.*,3.4.*,>=2.7,<2.8.0a0,>=3.5,<3.6.0a0,>=3.6,<3.7.0a0,>=3.7,<3.8.0a0'] -> pip -> wheel\n",
            "jedi -> numpydoc -> sphinx -> requests[version='>2.0.0,>=2.0.0,>=2.5.0'] -> urllib3[version='>=1.21.1,<1.24,>=1.21.1,<1.25'] -> pyopenssl[version='>=0.14'] -> cryptography[version='>=1.3.4,>=1.9,>=2.1.4,>=2.2.1'] -> cffi[version='>=1.7'] -> pycparser -> python[version='3.4.*,3.5.*,>=3.5,<3.6.0a0,>=3.6,<3.7.0a0'] -> pip -> wheel\n",
            "partd -> toolz -> python[version='3.4.*,3.5.*,>=2.7,<2.8.0a0,>=3.5,<3.6.0a0'] -> pip -> wheel\n",
            "python-libarchive-c -> python[version='>=2.7,<2.8.0a0,>=3.6,<3.7.0a0,>=3.7,<3.8.0a0'] -> pip -> wheel\n",
            "rapidsai/label/xgboost::xgboost -> py-xgboost==0.90.rapidsdev1=cuda10.0py37_1 -> scikit-learn -> scipy -> numpy[version='1.10.*,1.11.*,1.12.*,>=1.11.3,<2.0a0,>=1.9.3,<2.0a0'] -> python[version='>=3.6,<3.7.0a0,>=3.7,<3.8.0a0'] -> pip -> wheel\n",
            "scipy -> numpy[version='1.10.*,1.11.*,1.12.*,>=1.11.3,<2.0a0,>=1.9.3,<2.0a0'] -> python[version='>=2.7,<2.8.0a0,>=3.5,<3.6.0a0,>=3.6,<3.7.0a0,>=3.7,<3.8.0a0'] -> pip -> wheel\n",
            "llvmlite -> python[version='3.5.*,>=2.7,<2.8.0a0,>=3.5,<3.6.0a0,>=3.6,<3.7.0a0,>=3.7,<3.8.0a0'] -> pip -> wheel\n",
            "mkl_random -> numpy[version='>=1.11,>=1.11.3,<2.0a0,>=1.9.3,<2.0a0'] -> python[version='>=2.7,<2.8.0a0,>=3.5,<3.6.0a0,>=3.6,<3.7.0a0,>=3.7,<3.8.0a0'] -> pip -> wheel\n",
            "cloudpickle -> python[version='3.5.*,>=3.5,<3.6.0a0,>=3.7,<3.8.0a0'] -> pip -> wheel\n",
            "dask-cudf -> distributed[version='>=1.23.0,>=2.0.0'] -> dask[version='>=0.10.0'] -> bokeh[version='>=0.13.0'] -> pandas -> numpy[version='>=1.12.1,<2.0a0,>=1.9,>=1.9.*,>=1.9.3,<2.0a0'] -> python[version='>=3.6,<3.7.0a0,>=3.7,<3.8.0a0'] -> pip -> wheel\n",
            "bitarray -> python[version='3.6.*,>=2.7,<2.8.0a0,>=3.5,<3.6.0a0,>=3.6,<3.7.0a0,>=3.7,<3.8.0a0'] -> pip -> wheel\n",
            "spyder-kernels -> ipykernel[version='>4.9.0,>=4.8.2'] -> ipython[version='>=4.0,>=4.0.0,>=5.0'] -> jedi[version='>=0.10'] -> python[version='3.4.*,3.5.*,>=3.5,<3.6.0a0,>=3.6,<3.7.0a0'] -> pip -> wheel\n",
            "pyodbc -> python[version='>=3.5,<3.6.0a0,>=3.6,<3.7.0a0,>=3.7,<3.8.0a0'] -> pip -> wheel\n",
            "rapidsai/label/xgboost::xgboost -> py-xgboost==0.90.rapidsdev1=cuda9.2py36_1 -> scikit-learn -> scipy -> numpy[version='1.10.*,1.11.*,1.12.*,>=1.11.3,<2.0a0,>=1.9.3,<2.0a0'] -> python[version='>=3.6,<3.7.0a0,>=3.7,<3.8.0a0'] -> pip -> wheel\n",
            "pyzmq -> python[version='3.6.*,>=2.7,<2.8.0a0,>=3.5,<3.6.0a0,>=3.6,<3.7.0a0,>=3.7,<3.8.0a0'] -> pip -> wheel\n",
            "numba -> numpy[version='1.15.*,>=1.11.3,<2.0a0,>=1.12,<1.13.0a0,>=1.13,<1.14.0a0,>=1.15.4,<2.0a0,>=1.9.3,<2.0a0'] -> python[version='>=2.7,<2.8.0a0,>=3.5,<3.6.0a0,>=3.6,<3.7.0a0,>=3.7,<3.8.0a0'] -> pip -> wheel\n",
            "anaconda==2019.07=py37_0 -> prometheus_client==0.7.1=py_0 -> attrs[version='>=16.0.0'] -> pip -> wheel\n",
            "tornado -> ssl_match_hostname -> backports -> python[version='2.7.*,3.5.*,3.6.*,>=2.7,<2.8.0a0,>=3.5,<3.6.0a0,>=3.6,<3.7.0a0'] -> pip -> wheel\n",
            "itsdangerous -> python[version='3.5.*,>=2.7,<2.8.0a0,>=3.6,<3.7.0a0,>=3.7,<3.8.0a0'] -> pip -> wheel\n",
            "snowballstemmer -> python[version='2.7.*,3.5.*,>=3.6,<3.7.0a0'] -> pip -> wheel\n",
            "sphinxcontrib-qthelp -> python[version='>=3.5'] -> pip -> wheel\n",
            "flask -> jinja2[version='>=2.10,>=2.4'] -> setuptools -> certifi[version='>=2016.09'] -> python[version='2.7.*,3.4.*,>=2.7,<2.8.0a0,>=3.5,<3.6.0a0,>=3.6,<3.7.0a0,>=3.7,<3.8.0a0'] -> pip -> wheel\n",
            "keyring -> secretstorage -> cryptography -> cffi[version='>=1.7'] -> pycparser -> python[version='3.4.*,3.5.*,>=3.5,<3.6.0a0,>=3.6,<3.7.0a0'] -> pip -> wheel\n",
            "more-itertools -> six[version='>=1.0.0,<2.0.0'] -> python[version='3.5.*,3.6.*,>=3.6,<3.7.0a0,>=3.7,<3.8.0a0'] -> pip -> wheel\n",
            "atomicwrites -> python[version='2.7.*,>=2.7,<2.8.0a0,>=3.7,<3.8.0a0'] -> pip -> wheel\n",
            "pytz -> python[version='3.5.*,3.6.*,>=3.6,<3.7.0a0,>=3.7,<3.8.0a0'] -> pip -> wheel\n",
            "terminado -> tornado[version='>=4'] -> ssl_match_hostname -> backports -> python[version='2.7.*,3.5.*,3.6.*,>=2.7,<2.8.0a0,>=3.5,<3.6.0a0,>=3.6,<3.7.0a0'] -> pip -> wheel\n",
            "cython -> setuptools -> certifi[version='>=2016.09'] -> python[version='2.7.*,3.4.*,>=2.7,<2.8.0a0,>=3.5,<3.6.0a0,>=3.6,<3.7.0a0,>=3.7,<3.8.0a0'] -> pip -> wheel\n",
            "toolz -> python[version='3.4.*,3.5.*,>=2.7,<2.8.0a0,>=3.5,<3.6.0a0'] -> pip -> wheel\n",
            "mock -> pbr[version='>=1.3'] -> pip -> wheel\n",
            "pytest-openfiles -> pytest[version='>=2.8.0,>=3.1'] -> attrs[version='>=17.2.0,>=17.4.0'] -> python[version='2.7.*,3.4.*,3.5.*,>=3.6,<3.7.0a0'] -> pip -> wheel\n",
            "ptyprocess -> python[version='2.7.*,3.5.*,>=3.5,<3.6.0a0,>=3.6,<3.7.0a0'] -> pip -> wheel\n",
            "pynvml -> python[version='>=3.5'] -> pip -> wheel\n",
            "backports -> python[version='2.7.*,3.5.*,3.6.*,>=2.7,<2.8.0a0,>=3.5,<3.6.0a0,>=3.6,<3.7.0a0'] -> pip -> wheel\n",
            "sphinxcontrib-applehelp -> python[version='>=3.5'] -> pip -> wheel\n",
            "jupyter_core -> traitlets -> six -> python[version='3.5.*,3.6.*,>=3.6,<3.7.0a0,>=3.7,<3.8.0a0'] -> pip -> wheel\n",
            "pytest -> attrs[version='>=17.2.0,>=17.4.0'] -> python[version='2.7.*,3.4.*,3.5.*,>=3.6,<3.7.0a0'] -> pip -> wheel\n",
            "et_xmlfile -> python[version='3.5.*,3.6.*,>=2.7,<2.8.0a0,>=3.5,<3.6.0a0,>=3.6,<3.7.0a0,>=3.7,<3.8.0a0'] -> pip -> wheel\n",
            "rapidsai/label/xgboost::xgboost -> py-xgboost==0.83.dev43=py37he6ff8a9_1 -> scikit-learn -> scipy -> numpy[version='1.10.*,1.11.*,1.12.*,>=1.11.3,<2.0a0,>=1.9.3,<2.0a0'] -> python[version='>=3.6,<3.7.0a0,>=3.7,<3.8.0a0'] -> pip -> wheel\n",
            "beautifulsoup4 -> soupsieve[version='>=1.2'] -> setuptools -> certifi[version='>=2016.09'] -> python[version='2.7.*,>=2.7,<2.8.0a0,>=3.5,<3.6.0a0,>=3.6,<3.7.0a0,>=3.7,<3.8.0a0'] -> pip -> wheel\n",
            "gmpy2 -> python[version='3.4.*,3.5.*,3.6.*,>=2.7,<2.8.0a0,>=3.5,<3.6.0a0,>=3.7,<3.8.0a0'] -> pip -> wheel\n",
            "unicodecsv -> python[version='2.7.*,3.6.*,>=2.7,<2.8.0a0,>=3.6,<3.7.0a0'] -> pip -> wheel\n",
            "matplotlib -> matplotlib-base==3.1.1=py36he7580a8_1 -> numpy[version='>=1.11.3,<2.0a0,>=1.14.6,<2.0a0,>=1.9.3,<2.0a0'] -> python[version='>=2.7,<2.8.0a0,>=3.5,<3.6.0a0,>=3.6,<3.7.0a0,>=3.7,<3.8.0a0'] -> pip -> wheel\n",
            "spyder -> spyder-kernels[version='0.*,>=0.5.0,<1'] -> ipykernel[version='>4.9.0,>=4.8.2'] -> ipython[version='>=4.0,>=4.0.0,>=5.0'] -> jedi[version='>=0.10'] -> numpydoc -> sphinx -> requests[version='>2.0.0,>=2.0.0,>=2.5.0'] -> urllib3[version='>=1.21.1,<1.24,>=1.21.1,<1.25'] -> pyopenssl[version='>=0.14'] -> cryptography[version='>=1.3.4,>=1.9,>=2.1.4,>=2.2.1'] -> cffi[version='>=1.7'] -> pycparser -> python[version='3.5.*,>=3.5,<3.6.0a0,>=3.6,<3.7.0a0'] -> pip -> wheel\n",
            "babel -> pytz -> python[version='3.5.*,3.6.*,>=3.6,<3.7.0a0,>=3.7,<3.8.0a0'] -> pip -> wheel\n",
            "sphinxcontrib-serializinghtml -> python[version='>=3.5'] -> pip -> wheel\n",
            "rapidsai/label/xgboost::xgboost -> py-xgboost==0.90.rapidsdev1=py37he6ff8a9_1 -> scikit-learn -> scipy -> numpy[version='1.10.*,1.11.*,1.12.*,>=1.11.3,<2.0a0,>=1.9.3,<2.0a0'] -> python[version='>=3.6,<3.7.0a0,>=3.7,<3.8.0a0'] -> pip -> wheel\n",
            "pywavelets -> numpy[version='1.13.*,>=1.11.3,<2.0a0'] -> python[version='>=2.7,<2.8.0a0,>=3.5,<3.6.0a0,>=3.6,<3.7.0a0,>=3.7,<3.8.0a0'] -> pip -> wheel\n",
            "importlib_metadata -> pathlib2 -> six -> python[version='3.5.*,3.6.*,>=3.6,<3.7.0a0,>=3.7,<3.8.0a0'] -> pip -> wheel\n",
            "fastcache -> python[version='>=2.7,<2.8.0a0,>=3.5,<3.6.0a0,>=3.6,<3.7.0a0,>=3.7,<3.8.0a0'] -> pip -> wheel\n",
            "statsmodels -> patsy[version='>=0.4.0'] -> scipy -> numpy[version='1.10.*,1.11.*,1.12.*,>=1.11.3,<2.0a0,>=1.9.3,<2.0a0'] -> python[version='>=2.7,<2.8.0a0,>=3.5,<3.6.0a0,>=3.6,<3.7.0a0,>=3.7,<3.8.0a0'] -> pip -> wheel\n",
            "ply -> python[version='2.7.*,3.5.*,>=3.6,<3.7.0a0'] -> pip -> wheel\n",
            "idna -> python[version='2.7.*,3.5.*,>=2.7,<2.8.0a0,>=3.6,<3.7.0a0,>=3.7,<3.8.0a0'] -> pip -> wheel\n",
            "dask-cuml -> distributed[version='>=1.23.0'] -> dask[version='>=0.10.0'] -> bokeh[version='>=0.13.0'] -> pandas -> numpy[version='>=1.12.1,<2.0a0,>=1.9,>=1.9.*,>=1.9.3,<2.0a0'] -> python[version='>=3.6,<3.7.0a0,>=3.7,<3.8.0a0'] -> pip -> wheel\n",
            "sortedcollections -> sortedcontainers[version='>=2.0'] -> python[version='3.6.*,>=2.7,<2.8.0a0,>=3.5,<3.6.0a0,>=3.6,<3.7.0a0,>=3.7,<3.8.0a0'] -> pip -> wheel\n",
            "pathlib2 -> six -> python[version='3.5.*,3.6.*,>=3.6,<3.7.0a0,>=3.7,<3.8.0a0'] -> pip -> wheel\n",
            "seaborn -> statsmodels[version='>=0.5.0'] -> patsy[version='>=0.4.0'] -> scipy -> numpy[version='1.10.*,1.11.*,1.12.*,>=1.11.3,<2.0a0,>=1.9.3,<2.0a0'] -> python[version='>=2.7,<2.8.0a0,>=3.5,<3.6.0a0,>=3.6,<3.7.0a0,>=3.7,<3.8.0a0'] -> pip -> wheel\n",
            "sortedcontainers -> python[version='3.6.*,>=2.7,<2.8.0a0,>=3.5,<3.6.0a0,>=3.6,<3.7.0a0,>=3.7,<3.8.0a0'] -> pip -> wheel\n",
            "entrypoints -> configparser[version='>=3.5'] -> backports -> python[version='2.7.*,3.5.*,3.6.*,>=2.7,<2.8.0a0,>=3.5,<3.6.0a0,>=3.6,<3.7.0a0'] -> pip -> wheel\n",
            "Package mkl_random conflicts for:\n",
            "cugraph -> cudf[version='0.7.*,0.8.*,0.9.*'] -> rmm[version='0.7.*,0.8.*,0.9.*'] -> numba[version='>=0.41'] -> numpy[version='1.15.*,>=1.10,<1.11.0a0,>=1.11.3,<2.0a0,>=1.13,<1.14.0a0,>=1.14,<1.15.0a0,>=1.15.4,<2.0a0'] -> mkl_random[version='>=1.0.2,<2.0a0']\n",
            "seaborn -> statsmodels[version='>=0.5.0'] -> patsy[version='>=0.4.0'] -> scipy -> numpy[version='1.10.*,1.11.*,1.12.*,>=1.11.3,<2.0a0,>=1.9.3,<2.0a0'] -> mkl_random[version='>=1.0.2,<2.0a0']\n",
            "dask -> distributed[version='>=1.11.0,>=1.16.0,>=1.22.0,>=1.26.0,>=1.27.0'] -> bokeh -> numpy[version='>=1.7.1'] -> mkl_random[version='>=1.0.2,<2.0a0']\n",
            "dask-cudf -> distributed[version='>=1.23.0,>=2.0.0'] -> dask[version='>=0.10.0'] -> pandas[version='>=0.18.0,>=0.19.0'] -> numpy[version='1.11.*,>=1.11.*,>=1.14.6,<2.0a0,>=1.9.*,>=1.9.3,<2.0a0'] -> mkl_random[version='>=1.0.2,<2.0a0']\n",
            "pytest-doctestplus -> numpy[version='>=1.10'] -> mkl_random[version='>=1.0.2,<2.0a0']\n",
            "h5py -> numpy[version='>=1.9.3,<2.0a0'] -> mkl_random[version='>=1.0.2,<2.0a0']\n",
            "rapidsai/label/xgboost::xgboost -> py-xgboost==0.90.rapidsdev1=cuda10.0py37_1 -> scikit-learn -> scipy -> numpy[version='1.10.*,1.11.*,1.12.*,>=1.11.3,<2.0a0,>=1.9.3,<2.0a0'] -> mkl_random[version='>=1.0.2,<2.0a0']\n",
            "cuml -> libcuml[version='0.8.0a.*,0.9.0a.*,0.9.0a1.*'] -> cudf[version='0.7.*,0.8.*,0.9.*'] -> rmm[version='0.7.*,0.8.*,0.9.*'] -> numba[version='>=0.41'] -> numpy[version='1.15.*,>=1.10,<1.11.0a0,>=1.11.3,<2.0a0,>=1.13,<1.14.0a0,>=1.14,<1.15.0a0,>=1.15.4,<2.0a0'] -> mkl_random[version='>=1.0.2,<2.0a0']\n",
            "anaconda==2019.07=py37_0 -> distributed==2.1.0=py_0 -> dask[version='>=0.10.0'] -> pandas[version='>=0.18.0,>=0.19.0'] -> numpy[version='>=1.11.*,>=1.14.6,<2.0a0,>=1.9.*,>=1.9.3,<2.0a0'] -> mkl_random[version='>=1.0.2,<2.0a0']\n",
            "pytest-arraydiff -> numpy -> mkl_random[version='>=1.0.2,<2.0a0']\n",
            "rapidsai/label/xgboost::xgboost -> py-xgboost==0.90.rapidsdev1=cuda9.2py36_1 -> scikit-learn -> scipy -> numpy[version='1.10.*,1.11.*,1.12.*,>=1.11.3,<2.0a0,>=1.9.3,<2.0a0'] -> mkl_random[version='>=1.0.2,<2.0a0']\n",
            "rapidsai/label/xgboost::xgboost -> py-xgboost==0.90.rapidsdev1=py36he6ff8a9_1 -> scikit-learn -> scipy -> numpy[version='1.10.*,1.11.*,1.12.*,>=1.11.3,<2.0a0,>=1.9.3,<2.0a0'] -> mkl_random[version='>=1.0.2,<2.0a0']\n",
            "patsy -> scipy -> numpy[version='1.10.*,1.11.*,1.12.*,>=1.11.3,<2.0a0,>=1.9.3,<2.0a0'] -> mkl_random[version='>=1.0.2,<2.0a0']\n",
            "bottleneck -> numpy[version='1.10.*,1.11.*,>=1.11.3,<2.0a0,>=1.9.3,<2.0a0'] -> mkl_random[version='>=1.0.2,<2.0a0']\n",
            "rapidsai/label/xgboost::xgboost -> py-xgboost==0.83.dev43=py37he6ff8a9_1 -> scikit-learn -> scipy -> numpy[version='1.10.*,1.11.*,1.12.*,>=1.11.3,<2.0a0,>=1.9.3,<2.0a0'] -> mkl_random[version='>=1.0.2,<2.0a0']\n",
            "bokeh -> numpy[version='>=1.7.1'] -> mkl_random[version='>=1.0.2,<2.0a0']\n",
            "rapidsai/label/xgboost::xgboost -> py-xgboost==0.90.rapidsdev1=py37he6ff8a9_1 -> scikit-learn -> scipy -> numpy[version='1.10.*,1.11.*,1.12.*,>=1.11.3,<2.0a0,>=1.9.3,<2.0a0'] -> mkl_random[version='>=1.0.2,<2.0a0']\n",
            "imageio -> numpy -> mkl_random[version='>=1.0.2,<2.0a0']\n",
            "pandas -> numpy[version='1.11.*,>=1.11.*,>=1.14.6,<2.0a0,>=1.9.*,>=1.9.3,<2.0a0'] -> mkl_random[version='>=1.0.2,<2.0a0']\n",
            "statsmodels -> patsy[version='>=0.4.0'] -> scipy -> numpy[version='1.10.*,1.11.*,1.12.*,>=1.11.3,<2.0a0,>=1.9.3,<2.0a0'] -> mkl_random[version='>=1.0.2,<2.0a0']\n",
            "bkcharts -> pandas -> numpy[version='1.11.*,>=1.11.*,>=1.14.6,<2.0a0,>=1.9.*,>=1.9.3,<2.0a0'] -> mkl_random[version='>=1.0.2,<2.0a0']\n",
            "numpy -> mkl_random[version='>=1.0.2,<2.0a0']\n",
            "astropy -> numpy[version='1.11.*,1.12.*,1.13.*,>=1.9'] -> mkl_random[version='>=1.0.2,<2.0a0']\n",
            "scikit-image -> dask[version='>=0.5'] -> distributed[version='>=1.11.0,>=1.16.0,>=1.22.0,>=1.26.0,>=1.27.0'] -> bokeh -> numpy[version='>=1.7.1'] -> mkl_random[version='>=1.0.2,<2.0a0']\n",
            "numba -> numpy[version='1.15.*,>=1.10,<1.11.0a0,>=1.11.3,<2.0a0,>=1.13,<1.14.0a0,>=1.14,<1.15.0a0,>=1.15.4,<2.0a0'] -> mkl_random[version='>=1.0.2,<2.0a0']\n",
            "scikit-learn -> scipy -> numpy[version='1.10.*,1.11.*,1.12.*,>=1.11.3,<2.0a0,>=1.9.3,<2.0a0'] -> mkl_random[version='>=1.0.2,<2.0a0']\n",
            "pywavelets -> numpy[version='1.11.*,1.13.*,>=1.11.3,<2.0a0,>=1.9.3,<2.0a0'] -> mkl_random[version='>=1.0.2,<2.0a0']\n",
            "rapidsai/label/xgboost::xgboost -> py-xgboost==0.90.rapidsdev1=cuda10.0py36_1 -> scikit-learn -> scipy -> numpy[version='1.10.*,1.11.*,1.12.*,>=1.11.3,<2.0a0,>=1.9.3,<2.0a0'] -> mkl_random[version='>=1.0.2,<2.0a0']\n",
            "rapidsai/label/xgboost::xgboost -> py-xgboost==0.90.rapidsdev1=cuda9.2py37_1 -> scikit-learn -> scipy -> numpy[version='1.10.*,1.11.*,1.12.*,>=1.11.3,<2.0a0,>=1.9.3,<2.0a0'] -> mkl_random[version='>=1.0.2,<2.0a0']\n",
            "matplotlib -> numpy=1.11 -> mkl_random[version='>=1.0.2,<2.0a0']\n",
            "cudf -> rmm[version='0.7.*,0.8.*,0.9.*'] -> numba[version='>=0.41'] -> numpy[version='1.15.*,>=1.10,<1.11.0a0,>=1.11.3,<2.0a0,>=1.13,<1.14.0a0,>=1.14,<1.15.0a0,>=1.15.4,<2.0a0'] -> mkl_random[version='>=1.0.2,<2.0a0']\n",
            "scipy -> numpy[version='1.10.*,1.11.*,1.12.*,>=1.11.3,<2.0a0,>=1.9.3,<2.0a0'] -> mkl_random[version='>=1.0.2,<2.0a0']\n",
            "numexpr -> numpy[version='1.10.*,>=1.11,>=1.11.3,<2.0a0,>=1.9.3,<2.0a0'] -> mkl_random[version='>=1.0.2,<2.0a0']\n",
            "pytest-astropy -> pytest-doctestplus[version='>=0.1.2,>=0.1.3,>=0.2.0'] -> numpy[version='>=1.10'] -> mkl_random[version='>=1.0.2,<2.0a0']\n",
            "mkl_fft -> numpy[version='>=1.11,>=1.11.3,<2.0a0'] -> mkl_random[version='>=1.0.2,<2.0a0']\n",
            "distributed -> dask[version='>=0.10.0'] -> pandas[version='>=0.18.0,>=0.19.0'] -> numpy[version='1.11.*,>=1.11.*,>=1.14.6,<2.0a0,>=1.9.*,>=1.9.3,<2.0a0'] -> mkl_random[version='>=1.0.2,<2.0a0']\n",
            "dask-cuml -> distributed[version='>=1.23.0'] -> dask[version='>=0.10.0'] -> pandas[version='>=0.18.0,>=0.19.0'] -> numpy[version='1.11.*,>=1.11.*,>=1.14.6,<2.0a0,>=1.9.*,>=1.9.3,<2.0a0'] -> mkl_random[version='>=1.0.2,<2.0a0']\n",
            "mkl-service -> numpy[version='>=1.11.3,<2.0a0'] -> mkl_random[version='>=1.0.2,<2.0a0']\n",
            "pytables -> numexpr -> numpy[version='1.10.*,>=1.11,>=1.11.3,<2.0a0,>=1.9.3,<2.0a0'] -> mkl_random[version='>=1.0.2,<2.0a0']\n",
            "Package python conflicts for:\n",
            "sphinxcontrib-htmlhelp -> python[version='>=3.5']\n",
            "pickleshare -> pathlib2 -> six -> python[version='3.5.*,3.6.*,>=3.6,<3.7.0a0,>=3.7,<3.8.0a0']\n",
            "sympy -> setuptools -> certifi[version='>=2016.09'] -> python[version='2.7.*,>=2.7,<2.8.0a0,>=3.5,<3.6.0a0,>=3.6,<3.7.0a0,>=3.7,<3.8.0a0']\n",
            "cython -> setuptools -> certifi[version='>=2016.09'] -> python[version='2.7.*,3.4.*,>=2.7,<2.8.0a0,>=3.5,<3.6.0a0,>=3.6,<3.7.0a0,>=3.7,<3.8.0a0']\n",
            "simplegeneric -> python[version='>=2.7,<2.8.0a0,>=3.5,<3.6.0a0,>=3.6,<3.7.0a0,>=3.7,<3.8.0a0']\n",
            "click -> python[version='2.7.*,3.4.*,3.5.*,>=2.7,<2.8.0a0,>=3.6,<3.7.0a0,>=3.7,<3.8.0a0']\n",
            "boto -> python[version='>=2.7,<2.8.0a0,>=3.6,<3.7.0a0,>=3.7,<3.8.0a0']\n",
            "json5 -> python\n",
            "pytest-remotedata -> pytest[version='>=3.1'] -> attrs[version='>=17.2.0,>=17.4.0'] -> python[version='2.7.*,3.4.*,3.5.*,>=3.6,<3.7.0a0']\n",
            "snowballstemmer -> python[version='2.7.*,3.5.*,>=3.6,<3.7.0a0']\n",
            "future -> python[version='3.4.*,3.5.*,>=2.7,<2.8.0a0,>=3.5,<3.6.0a0,>=3.6,<3.7.0a0']\n",
            "backcall -> python[version='>=2.7,<2.8.0a0,>=3.5,<3.6.0a0,>=3.6,<3.7.0a0,>=3.7,<3.8.0a0']\n",
            "flask -> jinja2[version='>=2.10,>=2.4'] -> setuptools -> certifi[version='>=2016.09'] -> python[version='2.7.*,3.4.*,>=2.7,<2.8.0a0,>=3.5,<3.6.0a0,>=3.6,<3.7.0a0,>=3.7,<3.8.0a0']\n",
            "backports.shutil_get_terminal_size -> backports -> python[version='2.7.*,3.5.*,3.6.*,>=2.7,<2.8.0a0,>=3.5,<3.6.0a0,>=3.6,<3.7.0a0']\n",
            "rope -> python[version='3.5.*,3.6.*,>=2.7,<2.8.0a0,>=3.5,<3.6.0a0,>=3.6,<3.7.0a0']\n",
            "conda[version='>=4.7.10'] -> requests[version='>=2.12.4,<3,>=2.18.4,<3'] -> urllib3[version='>=1.21.1,<1.24,>=1.21.1,<1.25'] -> pyopenssl[version='>=0.14'] -> cryptography[version='>=1.3.4,>=1.9,>=2.1.4,>=2.2.1'] -> cffi[version='>=1.7'] -> pycparser -> python[version='>=3.6,<3.7.0a0']\n",
            "glob2 -> python[version='2.7.*,3.5.*,>=2.7,<2.8.0a0,>=3.5,<3.6.0a0,>=3.7,<3.8.0a0']\n",
            "unicodecsv -> python[version='2.7.*,3.6.*,>=2.7,<2.8.0a0,>=3.6,<3.7.0a0']\n",
            "contextlib2 -> python[version='3.4.*,3.5.*,3.6.*,>=2.7,<2.8.0a0,>=3.6,<3.7.0a0']\n",
            "six -> python[version='3.5.*,3.6.*,>=3.6,<3.7.0a0,>=3.7,<3.8.0a0']\n",
            "locket -> python[version='3.4.*,3.5.*,>=2.7,<2.8.0a0,>=3.5,<3.6.0a0,>=3.6,<3.7.0a0,>=3.7,<3.8.0a0']\n",
            "jupyter_console -> ipykernel -> ipython[version='>=4.0,>=4.0.0,>=5.0'] -> jedi[version='>=0.10'] -> python[version='3.4.*,3.5.*,>=3.5,<3.6.0a0,>=3.6,<3.7.0a0']\n",
            "ruamel_yaml -> setuptools -> certifi[version='>=2016.09'] -> python[version='2.7.*,3.4.*,>=2.7,<2.8.0a0,>=3.5,<3.6.0a0,>=3.6,<3.7.0a0,>=3.7,<3.8.0a0']\n",
            "bokeh -> pandas -> numpy[version='1.10.*,>=1.12.1,<2.0a0,>=1.9,>=1.9.*,>=1.9.3,<2.0a0'] -> python[version='>=2.7,<2.8.0a0,>=3.5,<3.6.0a0,>=3.6,<3.7.0a0,>=3.7,<3.8.0a0']\n",
            "blosc -> zstd[version='>=1.3.7,<1.3.8.0a0'] -> lz4 -> python[version='>=3.6,<3.7.0a0']\n",
            "multipledispatch -> six -> python[version='3.5.*,3.6.*,>=3.6,<3.7.0a0,>=3.7,<3.8.0a0']\n",
            "soupsieve -> backports.functools_lru_cache -> setuptools -> certifi[version='>=2016.09'] -> python[version='2.7.*,>=2.7,<2.8.0a0,>=3.6,<3.7.0a0,>=3.7,<3.8.0a0']\n",
            "nose -> setuptools -> certifi[version='>=2016.09'] -> python[version='2.7.*,3.4.*,>=2.7,<2.8.0a0,>=3.5,<3.6.0a0,>=3.6,<3.7.0a0,>=3.7,<3.8.0a0']\n",
            "backports -> python[version='2.7.*,3.5.*,3.6.*,>=2.7,<2.8.0a0,>=3.5,<3.6.0a0,>=3.6,<3.7.0a0']\n",
            "distributed -> dask[version='>=0.10.0'] -> bokeh[version='>=0.13.0'] -> pandas -> numpy[version='1.10.*,>=1.12.1,<2.0a0,>=1.9,>=1.9.*,>=1.9.3,<2.0a0'] -> python[version='>=2.7,<2.8.0a0,>=3.5,<3.6.0a0,>=3.6,<3.7.0a0,>=3.7,<3.8.0a0']\n",
            "xlrd -> python[version='2.7.*,3.6.*,>=2.7,<2.8.0a0,>=3.5,<3.6.0a0,>=3.6,<3.7.0a0,>=3.7,<3.8.0a0']\n",
            "cloudpickle -> python[version='3.5.*,>=3.5,<3.6.0a0,>=3.7,<3.8.0a0']\n",
            "statsmodels -> patsy[version='>=0.4.0'] -> scipy -> numpy[version='1.10.*,1.11.*,1.12.*,>=1.11.3,<2.0a0,>=1.9.3,<2.0a0'] -> python[version='>=2.7,<2.8.0a0,>=3.5,<3.6.0a0,>=3.6,<3.7.0a0,>=3.7,<3.8.0a0']\n",
            "pexpect -> ptyprocess[version='>=0.5'] -> python[version='2.7.*,3.5.*,>=3.5,<3.6.0a0,>=3.6,<3.7.0a0']\n",
            "pip -> wheel -> setuptools -> certifi[version='>=2016.09'] -> python[version='2.7.*,3.4.*,>=2.7,<2.8.0a0,>=3.5,<3.6.0a0,>=3.6,<3.7.0a0,>=3.7,<3.8.0a0']\n",
            "urllib3 -> pyopenssl[version='>=0.14'] -> cryptography[version='>=1.3.4,>=1.9,>=2.1.4,>=2.2.1'] -> cffi[version='>=1.7'] -> pycparser -> python[version='3.4.*,3.5.*,>=3.5,<3.6.0a0,>=3.6,<3.7.0a0']\n",
            "cffi -> pycparser -> python[version='3.4.*,3.5.*,>=3.5,<3.6.0a0,>=3.6,<3.7.0a0']\n",
            "dask -> distributed[version='>=1.11.0,>=1.16.0,>=1.20.0,>=1.21.0,>=1.23.3,>=1.27.0'] -> bokeh -> pandas -> numpy[version='1.10.*,>=1.12.1,<2.0a0,>=1.9,>=1.9.*,>=1.9.3,<2.0a0'] -> python[version='>=2.7,<2.8.0a0,>=3.5,<3.6.0a0,>=3.6,<3.7.0a0,>=3.7,<3.8.0a0']\n",
            "ipython -> jedi[version='>=0.10'] -> python[version='3.4.*,3.5.*,>=3.5,<3.6.0a0,>=3.6,<3.7.0a0']\n",
            "matplotlib -> matplotlib-base==3.1.1=py36he7580a8_1 -> numpy[version='>=1.11.3,<2.0a0,>=1.14.6,<2.0a0,>=1.9.3,<2.0a0'] -> python[version='>=2.7,<2.8.0a0,>=3.5,<3.6.0a0,>=3.6,<3.7.0a0,>=3.7,<3.8.0a0']\n",
            "mkl-service -> numpy[version='>=1.11.3,<2.0a0'] -> python[version='>=2.7,<2.8.0a0,>=3.5,<3.6.0a0,>=3.6,<3.7.0a0,>=3.7,<3.8.0a0']\n",
            "xlsxwriter -> python[version='3.5.*,>=2.7,<2.8.0a0,>=3.5,<3.6.0a0,>=3.6,<3.7.0a0']\n",
            "terminado -> tornado[version='>=4'] -> ssl_match_hostname -> backports -> python[version='2.7.*,3.5.*,3.6.*,>=2.7,<2.8.0a0,>=3.5,<3.6.0a0,>=3.6,<3.7.0a0']\n",
            "lxml -> python[version='2.7.*,3.5.*,3.6.*,>=2.7,<2.8.0a0,>=3.6,<3.7.0a0']\n",
            "pylint -> astroid[version='>=1.4.5,<1.5.0,>=1.5.1,>=2.0.0,>=2.2.0'] -> backports.functools_lru_cache -> setuptools -> certifi[version='>=2016.09'] -> python[version='2.7.*,3.4.*,>=2.7,<2.8.0a0,>=3.5,<3.6.0a0,>=3.6,<3.7.0a0,>=3.7,<3.8.0a0']\n",
            "jupyter -> notebook -> prometheus_client -> twisted -> service_identity[version='>=18.1.0'] -> attrs[version='>=16.0.0'] -> python[version='2.7.*,3.5.*,>=3.6,<3.7.0a0']\n",
            "libarchive -> zstd[version='>=1.3.3,<1.3.4.0a0'] -> lz4 -> python[version='>=3.6,<3.7.0a0']\n",
            "sortedcollections -> sortedcontainers[version='>=2.0'] -> python[version='3.6.*,>=2.7,<2.8.0a0,>=3.5,<3.6.0a0,>=3.6,<3.7.0a0,>=3.7,<3.8.0a0']\n",
            "numpydoc -> sphinx -> requests[version='>2.0.0,>=2.0.0,>=2.5.0'] -> urllib3[version='>=1.21.1,<1.24,>=1.21.1,<1.25'] -> pyopenssl[version='>=0.14'] -> cryptography[version='>=1.3.4,>=1.9,>=2.1.4,>=2.2.1'] -> cffi[version='>=1.7'] -> pycparser -> python[version='3.4.*,3.5.*,>=3.5,<3.6.0a0,>=3.6,<3.7.0a0']\n",
            "clyent -> setuptools -> certifi[version='>=2016.09'] -> python[version='2.7.*,3.4.*,>=2.7,<2.8.0a0,>=3.5,<3.6.0a0,>=3.6,<3.7.0a0,>=3.7,<3.8.0a0']\n",
            "beautifulsoup4 -> soupsieve[version='>=1.2'] -> setuptools -> certifi[version='>=2016.09'] -> python[version='2.7.*,>=2.7,<2.8.0a0,>=3.5,<3.6.0a0,>=3.6,<3.7.0a0,>=3.7,<3.8.0a0']\n",
            "prompt_toolkit -> pygments -> setuptools -> certifi[version='>=2016.09'] -> python[version='2.7.*,3.4.*,>=2.7,<2.8.0a0,>=3.5,<3.6.0a0,>=3.6,<3.7.0a0,>=3.7,<3.8.0a0']\n",
            "anaconda-client -> requests[version='>=2.9.1'] -> urllib3[version='>=1.21.1,<1.24,>=1.21.1,<1.25'] -> pyopenssl[version='>=0.14'] -> cryptography[version='>=1.3.4,>=1.9,>=2.1.4,>=2.2.1'] -> cffi[version='>=1.7'] -> pycparser -> python[version='3.4.*,3.5.*,>=3.5,<3.6.0a0,>=3.6,<3.7.0a0']\n",
            "qtawesome -> six -> python[version='3.5.*,3.6.*,>=3.6,<3.7.0a0,>=3.7,<3.8.0a0']\n",
            "isort -> setuptools -> certifi[version='>=2016.09'] -> python[version='2.7.*,3.4.*,>=2.7,<2.8.0a0,>=3.5,<3.6.0a0,>=3.6,<3.7.0a0,>=3.7,<3.8.0a0']\n",
            "path.py -> importlib_metadata[version='>=0.5'] -> pathlib2 -> six -> python[version='3.5.*,3.6.*,>=3.6,<3.7.0a0,>=3.7,<3.8.0a0']\n",
            "numpy -> python[version='>=2.7,<2.8.0a0,>=3.5,<3.6.0a0,>=3.6,<3.7.0a0,>=3.7,<3.8.0a0']\n",
            "ptyprocess -> python[version='2.7.*,3.5.*,>=3.5,<3.6.0a0,>=3.6,<3.7.0a0']\n",
            "conda-verify -> jinja2 -> setuptools -> certifi[version='>=2016.09'] -> python[version='2.7.*,3.4.*,>=2.7,<2.8.0a0,>=3.5,<3.6.0a0,>=3.6,<3.7.0a0,>=3.7,<3.8.0a0']\n",
            "pkginfo -> python[version='2.7.*,3.5.*,3.6.*,>=3.5,<3.6.0a0']\n",
            "pytest-doctestplus -> pytest[version='>=2.8'] -> attrs[version='>=17.2.0,>=17.4.0'] -> python[version='2.7.*,3.4.*,3.5.*,>=3.6,<3.7.0a0']\n",
            "dask-core -> python[version='>=2.7,<2.8.0a0,>=3.5,<3.6.0a0,>=3.6,<3.7.0a0']\n",
            "prometheus_client -> twisted -> service_identity[version='>=18.1.0'] -> attrs[version='>=16.0.0'] -> python[version='2.7.*,3.4.*,3.5.*,>=3.6,<3.7.0a0']\n",
            "navigator-updater -> pyqt[version='>=5.6'] -> qt[version='5.6.*,5.9.*,>=5.6.2,<5.7.0a0,>=5.9.6,<5.10.0a0'] -> gtk2 -> gdk-pixbuf -> gobject-introspection -> python[version='>=3.7,<3.8.0a0']\n",
            "networkx -> setuptools -> certifi[version='>=2016.09'] -> python[version='2.7.*,3.4.*,>=2.7,<2.8.0a0,>=3.5,<3.6.0a0,>=3.6,<3.7.0a0,>=3.7,<3.8.0a0']\n",
            "conda-package-handling -> tqdm -> python[version='3.5.*,3.6.*,>=3.7,<3.8.0a0']\n",
            "pytest-astropy -> pytest[version='>=3.1,>=3.1.0'] -> attrs[version='>=17.2.0,>=17.4.0'] -> python[version='2.7.*,3.4.*,3.5.*,>=3.6,<3.7.0a0']\n",
            "backports.tempfile -> backports.weakref -> backports -> python[version='2.7.*,3.5.*,3.6.*,>=2.7,<2.8.0a0,>=3.5,<3.6.0a0,>=3.6,<3.7.0a0']\n",
            "spyder -> spyder-kernels[version='0.*,>=0.5.0,<1'] -> ipykernel[version='>4.9.0,>=4.8.2'] -> ipython[version='>=4.0,>=4.0.0,>=5.0'] -> jedi[version='>=0.10'] -> numpydoc -> sphinx -> requests[version='>2.0.0,>=2.0.0,>=2.5.0'] -> urllib3[version='>=1.21.1,<1.24,>=1.21.1,<1.25'] -> pyopenssl[version='>=0.14'] -> cryptography[version='>=1.3.4,>=1.9,>=2.1.4,>=2.2.1'] -> cffi[version='>=1.7'] -> pycparser -> python[version='3.5.*,>=3.5,<3.6.0a0,>=3.6,<3.7.0a0']\n",
            "pyyaml -> python[version='3.4.*,3.5.*,>=3.6,<3.7.0a0,>=3.7,<3.8.0a0']\n",
            "zict -> heapdict -> python[version='2.7.*,3.4.*,>=2.7,<2.8.0a0,>=3.5,<3.6.0a0,>=3.6,<3.7.0a0,>=3.7,<3.8.0a0']\n",
            "chardet -> python[version='2.7.*,3.5.*,3.6.*,>=3.7,<3.8.0a0']\n",
            "pytest -> attrs[version='>=17.2.0,>=17.4.0'] -> python[version='2.7.*,3.4.*,3.5.*,>=3.6,<3.7.0a0']\n",
            "traitlets -> six -> python[version='3.5.*,3.6.*,>=3.6,<3.7.0a0,>=3.7,<3.8.0a0']\n",
            "sphinxcontrib-devhelp -> python[version='>=3.5']\n",
            "entrypoints -> configparser[version='>=3.5'] -> backports -> python[version='2.7.*,3.5.*,3.6.*,>=2.7,<2.8.0a0,>=3.5,<3.6.0a0,>=3.6,<3.7.0a0']\n",
            "tblib -> python[version='3.6.*,>=2.7,<2.8.0a0,>=3.6,<3.7.0a0,>=3.7,<3.8.0a0']\n",
            "olefile -> python[version='2.7.*,3.5.*,>=2.7,<2.8.0a0,>=3.6,<3.7.0a0,>=3.7,<3.8.0a0']\n",
            "joblib -> python[version='2.7.*,3.5.*,>=2.7,<2.8.0a0,>=3.5,<3.6.0a0']\n",
            "pyparsing -> python[version='2.7.*,3.5.*,>=3.5,<3.6.0a0,>=3.6,<3.7.0a0,>=3.7,<3.8.0a0']\n",
            "mpmath -> gmpy2 -> python[version='3.4.*,3.5.*,3.6.*,>=2.7,<2.8.0a0,>=3.5,<3.6.0a0,>=3.7,<3.8.0a0']\n",
            "mkl_fft -> numpy[version='>=1.11,>=1.11.3,<2.0a0'] -> python[version='>=2.7,<2.8.0a0,>=3.5,<3.6.0a0,>=3.6,<3.7.0a0,>=3.7,<3.8.0a0']\n",
            "_ipyw_jlab_nb_ext_conf -> jupyterlab -> notebook[version='>=4.2,>=4.3,>=4.3.1'] -> prometheus_client -> twisted -> service_identity[version='>=18.1.0'] -> attrs[version='>=16.0.0'] -> python[version='2.7.*,3.5.*,>=3.6,<3.7.0a0']\n",
            "keyring -> secretstorage -> cryptography -> cffi[version='>=1.7'] -> pycparser -> python[version='3.4.*,3.5.*,>=3.5,<3.6.0a0,>=3.6,<3.7.0a0']\n",
            "secretstorage -> cryptography -> cffi[version='>=1.7'] -> pycparser -> python[version='3.5.*,>=3.5,<3.6.0a0,>=3.6,<3.7.0a0']\n",
            "wrapt -> python[version='3.5.*,>=2.7,<2.8.0a0,>=3.6,<3.7.0a0,>=3.7,<3.8.0a0']\n",
            "bleach -> setuptools -> certifi[version='>=2016.09'] -> python[version='2.7.*,3.4.*,>=2.7,<2.8.0a0,>=3.5,<3.6.0a0,>=3.6,<3.7.0a0,>=3.7,<3.8.0a0']\n",
            "lazy-object-proxy -> python[version='2.7.*,3.5.*,3.6.*,>=2.7,<2.8.0a0,>=3.6,<3.7.0a0,>=3.7,<3.8.0a0']\n",
            "requests -> urllib3[version='>=1.21.1,<1.24,>=1.21.1,<1.25'] -> pyopenssl[version='>=0.14'] -> cryptography[version='>=1.3.4,>=1.9,>=2.1.4,>=2.2.1'] -> cffi[version='>=1.7'] -> pycparser -> python[version='3.4.*,3.5.*,>=3.5,<3.6.0a0,>=3.6,<3.7.0a0']\n",
            "asn1crypto -> python[version='3.5.*,3.6.*,>=2.7,<2.8.0a0,>=3.5,<3.6.0a0,>=3.6,<3.7.0a0,>=3.7,<3.8.0a0']\n",
            "jsonschema -> attrs[version='>=17.4.0'] -> python[version='2.7.*,3.4.*,3.5.*,>=3.6,<3.7.0a0']\n",
            "sphinxcontrib-jsmath -> python[version='>=3.5']\n",
            "nbconvert -> nbformat[version='>=4.4'] -> jupyter_core -> traitlets -> six -> python[version='3.5.*,3.6.*,>=3.6,<3.7.0a0,>=3.7,<3.8.0a0']\n",
            "psutil -> python[version='>=2.7,<2.8.0a0,>=3.5,<3.6.0a0,>=3.6,<3.7.0a0,>=3.7,<3.8.0a0']\n",
            "wheel -> setuptools -> certifi[version='>=2016.09'] -> python[version='2.7.*,3.4.*,>=2.7,<2.8.0a0,>=3.5,<3.6.0a0,>=3.6,<3.7.0a0,>=3.7,<3.8.0a0']\n",
            "get_terminal_size -> backports.shutil_get_terminal_size -> backports -> python[version='2.7.*,3.5.*,3.6.*,>=2.7,<2.8.0a0,>=3.5,<3.6.0a0,>=3.6,<3.7.0a0']\n",
            "pycurl -> python[version='>=2.7,<2.8.0a0,>=3.5,<3.6.0a0,>=3.6,<3.7.0a0,>=3.7,<3.8.0a0']\n",
            "mkl_random -> numpy[version='>=1.11,>=1.11.3,<2.0a0,>=1.9.3,<2.0a0'] -> python[version='>=2.7,<2.8.0a0,>=3.5,<3.6.0a0,>=3.6,<3.7.0a0,>=3.7,<3.8.0a0']\n",
            "scikit-learn -> scipy -> numpy[version='1.10.*,1.11.*,1.12.*,>=1.11.3,<2.0a0,>=1.9.3,<2.0a0'] -> python[version='>=2.7,<2.8.0a0,>=3.5,<3.6.0a0,>=3.6,<3.7.0a0,>=3.7,<3.8.0a0']\n",
            "nltk -> singledispatch -> six -> python[version='3.5.*,3.6.*,>=3.6,<3.7.0a0,>=3.7,<3.8.0a0']\n",
            "widgetsnbextension -> notebook[version='>=4.2.0,>=4.4.1'] -> prometheus_client -> twisted -> service_identity[version='>=18.1.0'] -> attrs[version='>=16.0.0'] -> python[version='2.7.*,3.4.*,3.5.*,>=3.6,<3.7.0a0']\n",
            "werkzeug -> python[version='2.7.*,3.6.*,>=3.6,<3.7.0a0']\n",
            "matplotlib -> matplotlib-base==2.2.3=py27h60b886d_1 -> numpy[version='>=1.11.3,<2.0a0,>=1.14.6,<2.0a0,>=1.9.3,<2.0a0'] -> python[version='>=2.7,<2.8.0a0,>=3.5,<3.6.0a0,>=3.6,<3.7.0a0,>=3.7,<3.8.0a0']\n",
            "tqdm -> python[version='3.5.*,3.6.*,>=3.7,<3.8.0a0']\n",
            "pyzmq -> python[version='3.6.*,>=2.7,<2.8.0a0,>=3.5,<3.6.0a0,>=3.6,<3.7.0a0,>=3.7,<3.8.0a0']\n",
            "jdcal -> python[version='2.7.*,3.5.*,3.6.*,>=2.7,<2.8.0a0,>=3.6,<3.7.0a0,>=3.7,<3.8.0a0']\n",
            "backports.os -> future -> python[version='3.5.*,>=2.7,<2.8.0a0,>=3.5,<3.6.0a0,>=3.6,<3.7.0a0']\n",
            "pycosat -> python[version='2.7.*,3.5.*,>=2.7,<2.8.0a0,>=3.5,<3.6.0a0,>=3.7,<3.8.0a0']\n",
            "sortedcontainers -> python[version='3.6.*,>=2.7,<2.8.0a0,>=3.5,<3.6.0a0,>=3.6,<3.7.0a0,>=3.7,<3.8.0a0']\n",
            "astroid -> backports.functools_lru_cache -> setuptools -> certifi[version='>=2016.09'] -> python[version='2.7.*,3.4.*,>=2.7,<2.8.0a0,>=3.5,<3.6.0a0,>=3.6,<3.7.0a0,>=3.7,<3.8.0a0']\n",
            "pycodestyle -> python[version='2.7.*,3.4.*,3.5.*,>=2.7,<2.8.0a0,>=3.5,<3.6.0a0']\n",
            "kiwisolver -> python[version='2.7.*,>=2.7,<2.8.0a0,>=3.5,<3.6.0a0,>=3.6,<3.7.0a0,>=3.7,<3.8.0a0']\n",
            "gevent -> cffi[version='>=1.11.5,>=1.3.0'] -> pycparser -> python[version='3.5.*,>=3.5,<3.6.0a0,>=3.6,<3.7.0a0']\n",
            "atomicwrites -> python[version='2.7.*,>=2.7,<2.8.0a0,>=3.7,<3.8.0a0']\n",
            "sip -> python[version='2.7.*,3.6.*,>=2.7,<2.8.0a0,>=3.6,<3.7.0a0,>=3.7,<3.8.0a0']\n",
            "itsdangerous -> python[version='3.5.*,>=2.7,<2.8.0a0,>=3.6,<3.7.0a0,>=3.7,<3.8.0a0']\n",
            "numexpr -> numpy[version='>=1.11,>=1.11.3,<2.0a0,>=1.9.3,<2.0a0'] -> python[version='>=2.7,<2.8.0a0,>=3.5,<3.6.0a0,>=3.6,<3.7.0a0,>=3.7,<3.8.0a0']\n",
            "backports.functools_lru_cache -> setuptools -> certifi[version='>=2016.09'] -> python[version='2.7.*,3.4.*,>=2.7,<2.8.0a0,>=3.5,<3.6.0a0,>=3.6,<3.7.0a0,>=3.7,<3.8.0a0']\n",
            "wurlitzer -> python[version='>=2.7,<2.8.0a0,>=3.6,<3.7.0a0,>=3.7,<3.8.0a0']\n",
            "filelock -> python[version='3.4.*,3.6.*,>=3.5,<3.6.0a0,>=3.6,<3.7.0a0']\n",
            "py -> python[version='2.7.*,3.6.*,>=2.7,<2.8.0a0,>=3.5,<3.6.0a0']\n",
            "msgpack-python -> python[version='2.7.*,3.5.*,3.6.*,>=2.7,<2.8.0a0,>=3.6,<3.7.0a0,>=3.7,<3.8.0a0']\n",
            "pycparser -> python[version='3.4.*,3.5.*,>=3.5,<3.6.0a0,>=3.6,<3.7.0a0']\n",
            "pygments -> setuptools -> certifi[version='>=2016.09'] -> python[version='2.7.*,3.4.*,>=2.7,<2.8.0a0,>=3.5,<3.6.0a0,>=3.6,<3.7.0a0,>=3.7,<3.8.0a0']\n",
            "bkcharts -> pandas -> numpy[version='1.10.*,>=1.12.1,<2.0a0,>=1.9,>=1.9.*,>=1.9.3,<2.0a0'] -> python[version='>=2.7,<2.8.0a0,>=3.5,<3.6.0a0,>=3.6,<3.7.0a0,>=3.7,<3.8.0a0']\n",
            "pysocks -> python[version='2.7.*,3.6.*,>=2.7,<2.8.0a0,>=3.6,<3.7.0a0,>=3.7,<3.8.0a0']\n",
            "attrs -> hypothesis -> coverage -> python[version='2.7.*,3.4.*,3.5.*,>=3.6,<3.7.0a0']\n",
            "numpy-base -> python[version='>=2.7,<2.8.0a0,>=3.5,<3.6.0a0,>=3.6,<3.7.0a0,>=3.7,<3.8.0a0']\n",
            "h5py -> numpy[version='1.12.*,1.13.*,>=1.8,>=1.9.3,<2.0a0'] -> python[version='>=2.7,<2.8.0a0,>=3.5,<3.6.0a0,>=3.6,<3.7.0a0,>=3.7,<3.8.0a0']\n",
            "conda-build -> conda[version='>=4.3'] -> requests[version='>=2.12.4,<3,>=2.18.4,<3'] -> urllib3[version='>=1.21.1,<1.24,>=1.21.1,<1.25'] -> pyopenssl[version='>=0.14'] -> cryptography[version='>=1.3.4,>=1.9,>=2.1.4,>=2.2.1'] -> cffi[version='>=1.7'] -> pycparser -> python[version='3.4.*,3.5.*,>=3.5,<3.6.0a0,>=3.6,<3.7.0a0']\n",
            "partd -> toolz -> python[version='3.4.*,3.5.*,>=2.7,<2.8.0a0,>=3.5,<3.6.0a0']\n",
            "sphinxcontrib-qthelp -> python[version='>=3.5']\n",
            "qt -> gtk2 -> gdk-pixbuf -> gobject-introspection -> python[version='>=3.7,<3.8.0a0']\n",
            "pytz -> python[version='3.5.*,3.6.*,>=3.6,<3.7.0a0,>=3.7,<3.8.0a0']\n",
            "packaging -> six -> python[version='3.5.*,3.6.*,>=3.6,<3.7.0a0,>=3.7,<3.8.0a0']\n",
            "sphinxcontrib -> python[version='>=2.7,<2.8.0a0,>=3.5,<3.6.0a0,>=3.6,<3.7.0a0,>=3.7,<3.8.0a0']\n",
            "ipykernel -> ipython[version='>=4.0,>=4.0.0,>=5.0'] -> jedi[version='>=0.10'] -> python[version='3.4.*,3.5.*,>=3.5,<3.6.0a0,>=3.6,<3.7.0a0']\n",
            "pyqt -> qt[version='5.6.*,5.9.*,>=5.6.2,<5.7.0a0,>=5.9.6,<5.10.0a0'] -> gtk2 -> gdk-pixbuf -> gobject-introspection -> python[version='>=3.7,<3.8.0a0']\n",
            "openpyxl -> jdcal -> python[version='2.7.*,3.5.*,3.6.*,>=2.7,<2.8.0a0,>=3.6,<3.7.0a0,>=3.7,<3.8.0a0']\n",
            "sphinxcontrib-serializinghtml -> python[version='>=3.5']\n",
            "cryptography -> cffi[version='>=1.7'] -> pycparser -> python[version='3.5.*,>=3.5,<3.6.0a0,>=3.6,<3.7.0a0']\n",
            "pywavelets -> numpy[version='1.13.*,>=1.11.3,<2.0a0'] -> python[version='>=2.7,<2.8.0a0,>=3.5,<3.6.0a0,>=3.6,<3.7.0a0,>=3.7,<3.8.0a0']\n",
            "backports.weakref -> backports -> python[version='2.7.*,3.5.*,3.6.*,>=2.7,<2.8.0a0,>=3.5,<3.6.0a0,>=3.6,<3.7.0a0']\n",
            "mock -> pbr[version='>=1.3'] -> pip -> wheel -> setuptools -> certifi[version='>=2016.09'] -> python[version='2.7.*,3.4.*,>=2.7,<2.8.0a0,>=3.5,<3.6.0a0,>=3.6,<3.7.0a0,>=3.7,<3.8.0a0']\n",
            "docutils -> python[version='2.7.*,3.6.*,>=2.7,<2.8.0a0,>=3.6,<3.7.0a0,>=3.7,<3.8.0a0']\n",
            "seaborn -> statsmodels[version='>=0.5.0'] -> patsy[version='>=0.4.0'] -> scipy -> numpy[version='1.10.*,1.11.*,1.12.*,>=1.11.3,<2.0a0,>=1.9.3,<2.0a0'] -> python[version='>=2.7,<2.8.0a0,>=3.5,<3.6.0a0,>=3.6,<3.7.0a0,>=3.7,<3.8.0a0']\n",
            "pillow -> olefile -> python[version='2.7.*,3.5.*,>=2.7,<2.8.0a0,>=3.6,<3.7.0a0,>=3.7,<3.8.0a0']\n",
            "ipython_genutils -> python[version='2.7.*,3.4.*,>=2.7,<2.8.0a0,>=3.5,<3.6.0a0,>=3.6,<3.7.0a0']\n",
            "wcwidth -> python[version='2.7.*,3.4.*,3.5.*,3.6.*,>=2.7,<2.8.0a0,>=3.6,<3.7.0a0']\n",
            "qtpy -> python[version='2.7.*,3.6.*,>=2.7,<2.8.0a0,>=3.5,<3.6.0a0,>=3.6,<3.7.0a0']\n",
            "babel -> pytz -> python[version='3.5.*,3.6.*,>=3.6,<3.7.0a0,>=3.7,<3.8.0a0']\n",
            "singledispatch -> six -> python[version='3.5.*,3.6.*,>=3.6,<3.7.0a0,>=3.7,<3.8.0a0']\n",
            "certifi -> python[version='2.7.*,3.4.*,>=2.7,<2.8.0a0,>=3.5,<3.6.0a0,>=3.6,<3.7.0a0,>=3.7,<3.8.0a0']\n",
            "pytest-arraydiff -> pytest -> attrs[version='>=17.2.0,>=17.4.0'] -> python[version='2.7.*,3.4.*,3.5.*,>=3.6,<3.7.0a0']\n",
            "notebook -> prometheus_client -> twisted -> service_identity[version='>=18.1.0'] -> attrs[version='>=16.0.0'] -> python[version='2.7.*,3.4.*,3.5.*,>=3.6,<3.7.0a0']\n",
            "numba -> numpy[version='1.15.*,>=1.11.3,<2.0a0,>=1.12,<1.13.0a0,>=1.13,<1.14.0a0,>=1.15.4,<2.0a0,>=1.9.3,<2.0a0'] -> python[version='>=2.7,<2.8.0a0,>=3.5,<3.6.0a0,>=3.6,<3.7.0a0,>=3.7,<3.8.0a0']\n",
            "pyflakes -> python[version='2.7.*,3.5.*,3.6.*,>=2.7,<2.8.0a0']\n",
            "send2trash -> python[version='>=2.7,<2.8.0a0,>=3.5,<3.6.0a0,>=3.6,<3.7.0a0,>=3.7,<3.8.0a0']\n",
            "jupyterlab_server -> notebook -> prometheus_client -> twisted -> service_identity[version='>=18.1.0'] -> attrs[version='>=16.0.0'] -> python[version='3.5.*,>=3.6,<3.7.0a0']\n",
            "setuptools -> certifi[version='>=2016.09'] -> python[version='2.7.*,3.4.*,>=2.7,<2.8.0a0,>=3.5,<3.6.0a0,>=3.6,<3.7.0a0,>=3.7,<3.8.0a0']\n",
            "jeepney -> python[version='>=3.5,>=3.5,<3.6.0a0,>=3.6,<3.7.0a0,>=3.7,<3.8.0a0']\n",
            "pandas -> numpy[version='1.10.*,>=1.12.1,<2.0a0,>=1.9,>=1.9.*,>=1.9.3,<2.0a0'] -> python[version='>=2.7,<2.8.0a0,>=3.5,<3.6.0a0,>=3.6,<3.7.0a0,>=3.7,<3.8.0a0']\n",
            "conda-env -> python[version='2.7.*,3.4.*,3.5.*']\n",
            "scipy -> numpy[version='1.10.*,1.11.*,1.12.*,>=1.11.3,<2.0a0,>=1.9.3,<2.0a0'] -> python[version='>=2.7,<2.8.0a0,>=3.5,<3.6.0a0,>=3.6,<3.7.0a0,>=3.7,<3.8.0a0']\n",
            "jupyterlab -> notebook[version='>=4.2,>=4.3,>=4.3.1'] -> prometheus_client -> twisted -> service_identity[version='>=18.1.0'] -> attrs[version='>=16.0.0'] -> python[version='2.7.*,3.4.*,3.5.*,>=3.6,<3.7.0a0']\n",
            "bottleneck -> numpy[version='1.10.*,1.11.*,>=1.11.3,<2.0a0,>=1.9.3,<2.0a0'] -> python[version='>=2.7,<2.8.0a0,>=3.5,<3.6.0a0,>=3.6,<3.7.0a0,>=3.7,<3.8.0a0']\n",
            "qtconsole -> ipykernel[version='>=4.1'] -> ipython[version='>=4.0,>=4.0.0,>=5.0'] -> jedi[version='>=0.10'] -> python[version='3.5.*,>=3.5,<3.6.0a0,>=3.6,<3.7.0a0']\n",
            "mccabe -> python[version='2.7.*,3.5.*,3.6.*,>=3.6,<3.7.0a0']\n",
            "tornado -> ssl_match_hostname -> backports -> python[version='2.7.*,3.5.*,3.6.*,>=2.7,<2.8.0a0,>=3.5,<3.6.0a0,>=3.6,<3.7.0a0']\n",
            "anaconda-navigator -> anaconda-project[version='>=0.4'] -> anaconda-client -> requests[version='>=2.9.1'] -> urllib3[version='>=1.21.1,<1.24,>=1.21.1,<1.25'] -> pyopenssl[version='>=0.14'] -> cryptography[version='>=1.3.4,>=1.9,>=2.1.4,>=2.2.1'] -> cffi[version='>=1.7'] -> pycparser -> python[version='3.5.*,>=3.5,<3.6.0a0,>=3.6,<3.7.0a0']\n",
            "imageio -> numpy -> python[version='>=2.7,<2.8.0a0,>=3.5,<3.6.0a0,>=3.6,<3.7.0a0,>=3.7,<3.8.0a0']\n",
            "alabaster -> python[version='2.7.*,3.6.*,>=2.7,<2.8.0a0,>=3.5,<3.6.0a0,>=3.6,<3.7.0a0,>=3.7,<3.8.0a0']\n",
            "pycrypto -> python[version='2.7.*,3.5.*,3.6.*,>=2.7,<2.8.0a0,>=3.6,<3.7.0a0']\n",
            "sphinxcontrib-applehelp -> python[version='>=3.5']\n",
            "cycler -> six -> python[version='3.5.*,3.6.*,>=3.6,<3.7.0a0,>=3.7,<3.8.0a0']\n",
            "jupyter_client -> tornado -> python[version='2.7.*,3.5.*,3.6.*,>=2.7,<2.8.0a0,>=3.5,<3.6.0a0,>=3.6,<3.7.0a0']\n",
            "pyodbc -> python[version='>=3.5,<3.6.0a0,>=3.6,<3.7.0a0,>=3.7,<3.8.0a0']\n",
            "bitarray -> python[version='3.6.*,>=2.7,<2.8.0a0,>=3.5,<3.6.0a0,>=3.6,<3.7.0a0,>=3.7,<3.8.0a0']\n",
            "markupsafe -> python[version='3.4.*,>=2.7,<2.8.0a0,>=3.5,<3.6.0a0,>=3.6,<3.7.0a0,>=3.7,<3.8.0a0']\n",
            "greenlet -> python[version='3.5.*,3.6.*,>=3.5,<3.6.0a0,>=3.6,<3.7.0a0,>=3.7,<3.8.0a0']\n",
            "gmpy2 -> python[version='3.4.*,3.5.*,3.6.*,>=2.7,<2.8.0a0,>=3.5,<3.6.0a0,>=3.7,<3.8.0a0']\n",
            "heapdict -> python[version='2.7.*,3.4.*,>=2.7,<2.8.0a0,>=3.5,<3.6.0a0,>=3.6,<3.7.0a0,>=3.7,<3.8.0a0']\n",
            "llvmlite -> python[version='3.5.*,>=2.7,<2.8.0a0,>=3.5,<3.6.0a0,>=3.6,<3.7.0a0,>=3.7,<3.8.0a0']\n",
            "python-libarchive-c -> python[version='>=2.7,<2.8.0a0,>=3.6,<3.7.0a0,>=3.7,<3.8.0a0']\n",
            "html5lib -> webencodings -> python[version='3.5.*,3.6.*,>=2.7,<2.8.0a0,>=3.5,<3.6.0a0,>=3.6,<3.7.0a0']\n",
            "sphinxcontrib-websupport -> sphinxcontrib -> python[version='>=2.7,<2.8.0a0,>=3.5,<3.6.0a0,>=3.6,<3.7.0a0,>=3.7,<3.8.0a0']\n",
            "webencodings -> python[version='3.5.*,3.6.*,>=2.7,<2.8.0a0,>=3.5,<3.6.0a0,>=3.6,<3.7.0a0']\n",
            "mistune -> python[version='>=2.7,<2.8.0a0,>=3.5,<3.6.0a0,>=3.6,<3.7.0a0,>=3.7,<3.8.0a0']\n",
            "pyopenssl -> cryptography[version='>=1.3.4,>=1.9,>=2.1.4,>=2.2.1'] -> cffi[version='>=1.7'] -> pycparser -> python[version='3.5.*,>=3.5,<3.6.0a0,>=3.6,<3.7.0a0']\n",
            "sphinx -> requests[version='>2.0.0,>=2.0.0,>=2.5.0'] -> urllib3[version='>=1.21.1,<1.24,>=1.21.1,<1.25'] -> pyopenssl[version='>=0.14'] -> cryptography[version='>=1.3.4,>=1.9,>=2.1.4,>=2.2.1'] -> cffi[version='>=1.7'] -> pycparser -> python[version='3.4.*,3.5.*,>=3.5,<3.6.0a0,>=3.6,<3.7.0a0']\n",
            "sqlalchemy -> python[version='3.6.*,>=2.7,<2.8.0a0,>=3.6,<3.7.0a0,>=3.7,<3.8.0a0']\n",
            "more-itertools -> six[version='>=1.0.0,<2.0.0'] -> python[version='3.5.*,3.6.*,>=3.6,<3.7.0a0,>=3.7,<3.8.0a0']\n",
            "scikit-image -> dask[version='>=0.5'] -> distributed[version='>=1.11.0,>=1.16.0,>=1.20.0,>=1.21.0,>=1.23.3,>=1.27.0'] -> bokeh -> pandas -> numpy[version='1.10.*,>=1.12.1,<2.0a0,>=1.9,>=1.9.*,>=1.9.3,<2.0a0'] -> python[version='>=2.7,<2.8.0a0,>=3.5,<3.6.0a0,>=3.6,<3.7.0a0,>=3.7,<3.8.0a0']\n",
            "nbformat -> jupyter_core -> traitlets -> six -> python[version='3.5.*,3.6.*,>=3.6,<3.7.0a0,>=3.7,<3.8.0a0']\n",
            "astropy -> pytest[version='<3.7'] -> attrs[version='>=17.2.0,>=17.4.0'] -> python[version='2.7.*,3.5.*,>=3.6,<3.7.0a0']\n",
            "et_xmlfile -> python[version='3.5.*,3.6.*,>=2.7,<2.8.0a0,>=3.5,<3.6.0a0,>=3.6,<3.7.0a0,>=3.7,<3.8.0a0']\n",
            "ipywidgets -> widgetsnbextension[version='>=1.2.6,<2,>=2.0.0,<3.0.0,>=3.1.0,<3.2.0,>=3.3.0,<3.4.0,>=3.4.0,<3.5.0'] -> notebook[version='>=4.2.0,>=4.4.1'] -> prometheus_client -> twisted -> service_identity[version='>=18.1.0'] -> attrs[version='>=16.0.0'] -> python[version='2.7.*,3.4.*,3.5.*,>=3.6,<3.7.0a0']\n",
            "py-lief -> python[version='>=2.7,<2.8.0a0,>=3.6,<3.7.0a0,>=3.7,<3.8.0a0']\n",
            "jupyter_core -> traitlets -> six -> python[version='3.5.*,3.6.*,>=3.6,<3.7.0a0,>=3.7,<3.8.0a0']\n",
            "xlwt -> python[version='2.7.*,3.5.*,3.6.*,>=2.7,<2.8.0a0']\n",
            "pluggy -> python[version='>=3.5,<3.6.0a0,>=3.6,<3.7.0a0,>=3.7,<3.8.0a0']\n",
            "zipp -> python[version='>=2.7,<2.8.0a0,>=3.6,<3.7.0a0']\n",
            "pyrsistent -> six -> python[version='3.6.*,>=3.6,<3.7.0a0,>=3.7,<3.8.0a0']\n",
            "idna -> python[version='2.7.*,3.5.*,>=2.7,<2.8.0a0,>=3.6,<3.7.0a0,>=3.7,<3.8.0a0']\n",
            "parso -> python[version='>=2.7,<2.8.0a0,>=3.6,<3.7.0a0,>=3.7,<3.8.0a0']\n",
            "pandocfilters -> python[version='2.7.*,3.4.*,3.5.*,3.6.*,>=2.7,<2.8.0a0,>=3.7,<3.8.0a0']\n",
            "colorama -> python[version='3.6.*,>=3.6,<3.7.0a0,>=3.7,<3.8.0a0']\n",
            "jinja2 -> setuptools -> certifi[version='>=2016.09'] -> python[version='2.7.*,3.4.*,>=2.7,<2.8.0a0,>=3.5,<3.6.0a0,>=3.6,<3.7.0a0,>=3.7,<3.8.0a0']\n",
            "testpath -> pathlib2 -> six -> python[version='3.5.*,3.6.*,>=3.6,<3.7.0a0,>=3.7,<3.8.0a0']\n",
            "decorator -> python[version='2.7.*,3.4.*,3.5.*,3.6.*,>=2.7,<2.8.0a0,>=3.6,<3.7.0a0,>=3.7,<3.8.0a0']\n",
            "zstd -> lz4 -> python[version='>=3.6,<3.7.0a0']\n",
            "toolz -> python[version='3.4.*,3.5.*,>=2.7,<2.8.0a0,>=3.5,<3.6.0a0']\n",
            "jedi -> numpydoc -> sphinx -> requests[version='>2.0.0,>=2.0.0,>=2.5.0'] -> urllib3[version='>=1.21.1,<1.24,>=1.21.1,<1.25'] -> pyopenssl[version='>=0.14'] -> cryptography[version='>=1.3.4,>=1.9,>=2.1.4,>=2.2.1'] -> cffi[version='>=1.7'] -> pycparser -> python[version='3.4.*,3.5.*,>=3.5,<3.6.0a0,>=3.6,<3.7.0a0']\n",
            "importlib_metadata -> pathlib2 -> six -> python[version='3.5.*,3.6.*,>=3.6,<3.7.0a0,>=3.7,<3.8.0a0']\n",
            "pytables -> numexpr -> numpy[version='>=1.11,>=1.11.3,<2.0a0,>=1.9.3,<2.0a0'] -> python[version='>=2.7,<2.8.0a0,>=3.5,<3.6.0a0,>=3.6,<3.7.0a0,>=3.7,<3.8.0a0']\n",
            "imagesize -> python[version='2.7.*,>=2.7,<2.8.0a0,>=3.5,<3.6.0a0,>=3.6,<3.7.0a0,>=3.7,<3.8.0a0']\n",
            "pytest-openfiles -> pytest[version='>=2.8.0,>=3.1'] -> attrs[version='>=17.2.0,>=17.4.0'] -> python[version='2.7.*,3.4.*,3.5.*,>=3.6,<3.7.0a0']\n",
            "patsy -> scipy -> numpy[version='1.10.*,1.11.*,1.12.*,>=1.11.3,<2.0a0,>=1.9.3,<2.0a0'] -> python[version='>=2.7,<2.8.0a0,>=3.5,<3.6.0a0,>=3.6,<3.7.0a0,>=3.7,<3.8.0a0']\n",
            "anaconda-project -> anaconda-client -> requests[version='>=2.9.1'] -> urllib3[version='>=1.21.1,<1.24,>=1.21.1,<1.25'] -> pyopenssl[version='>=0.14'] -> cryptography[version='>=1.3.4,>=1.9,>=2.1.4,>=2.2.1'] -> cffi[version='>=1.7'] -> pycparser -> python[version='3.4.*,3.5.*,>=3.5,<3.6.0a0,>=3.6,<3.7.0a0']\n",
            "defusedxml -> python[version='2.7.*,3.4.*,3.5.*,>=2.7,<2.8.0a0,>=3.5,<3.6.0a0,>=3.6,<3.7.0a0']\n",
            "pathlib2 -> six -> python[version='3.5.*,3.6.*,>=3.6,<3.7.0a0,>=3.7,<3.8.0a0']\n",
            "cytoolz -> toolz[version='>=0.10.0,>=0.8.0'] -> python[version='3.4.*,3.5.*,>=2.7,<2.8.0a0,>=3.5,<3.6.0a0']\n",
            "pep8 -> python[version='3.4.*,3.5.*,3.6.*,>=2.7,<2.8.0a0,>=3.6,<3.7.0a0,>=3.7,<3.8.0a0']\n",
            "fastcache -> python[version='>=2.7,<2.8.0a0,>=3.5,<3.6.0a0,>=3.6,<3.7.0a0,>=3.7,<3.8.0a0']\n",
            "spyder-kernels -> ipykernel[version='>4.9.0,>=4.8.2'] -> ipython[version='>=4.0,>=4.0.0,>=5.0'] -> jedi[version='>=0.10'] -> python[version='3.4.*,3.5.*,>=3.5,<3.6.0a0,>=3.6,<3.7.0a0']\n",
            "python-dateutil -> six[version='>=1.5'] -> python[version='3.5.*,3.6.*,>=3.6,<3.7.0a0,>=3.7,<3.8.0a0']\n",
            "ply -> python[version='2.7.*,3.5.*,>=3.6,<3.7.0a0']\n",
            "Package mkl_fft conflicts for:\n",
            "bokeh -> numpy[version='>=1.7.1'] -> mkl_fft[version='>=1.0.6,<2.0a0']\n",
            "rapidsai/label/xgboost::xgboost -> py-xgboost==0.90.rapidsdev1=py36he6ff8a9_1 -> scikit-learn -> scipy -> numpy[version='1.10.*,1.11.*,1.12.*,>=1.11.3,<2.0a0,>=1.9.3,<2.0a0'] -> mkl_fft[version='>=1.0.6,<2.0a0']\n",
            "cugraph -> cudf[version='0.7.*,0.8.*,0.9.*'] -> rmm[version='0.7.*,0.8.*,0.9.*'] -> numba[version='>=0.41'] -> numpy[version='1.15.*,>=1.10,<1.11.0a0,>=1.11.3,<2.0a0,>=1.13,<1.14.0a0,>=1.14,<1.15.0a0,>=1.15.4,<2.0a0'] -> mkl_fft[version='>=1.0.6,<2.0a0']\n",
            "rapidsai/label/xgboost::xgboost -> py-xgboost==0.83.dev43=py37he6ff8a9_1 -> scikit-learn -> scipy -> numpy[version='1.10.*,1.11.*,1.12.*,>=1.11.3,<2.0a0,>=1.9.3,<2.0a0'] -> mkl_fft[version='>=1.0.6,<2.0a0']\n",
            "statsmodels -> patsy[version='>=0.4.0'] -> scipy -> numpy[version='1.10.*,1.11.*,1.12.*,>=1.11.3,<2.0a0,>=1.9.3,<2.0a0'] -> mkl_fft[version='>=1.0.6,<2.0a0']\n",
            "pytest-doctestplus -> numpy[version='>=1.10'] -> mkl_fft[version='>=1.0.6,<2.0a0']\n",
            "dask -> distributed[version='>=1.11.0,>=1.16.0,>=1.22.0,>=1.26.0,>=1.27.0'] -> bokeh -> numpy[version='>=1.7.1'] -> mkl_fft[version='>=1.0.6,<2.0a0']\n",
            "numba -> numpy[version='1.15.*,>=1.10,<1.11.0a0,>=1.11.3,<2.0a0,>=1.13,<1.14.0a0,>=1.14,<1.15.0a0,>=1.15.4,<2.0a0'] -> mkl_fft[version='>=1.0.6,<2.0a0']\n",
            "pytables -> numexpr -> numpy[version='1.10.*,>=1.11,>=1.11.3,<2.0a0,>=1.9.3,<2.0a0'] -> mkl_fft[version='>=1.0.6,<2.0a0']\n",
            "distributed -> dask[version='>=0.10.0'] -> pandas[version='>=0.18.0,>=0.19.0'] -> numpy[version='1.11.*,>=1.11.*,>=1.14.6,<2.0a0,>=1.9.*,>=1.9.3,<2.0a0'] -> mkl_fft[version='>=1.0.6,<2.0a0']\n",
            "anaconda==2019.07=py37_0 -> distributed==2.1.0=py_0 -> dask[version='>=0.10.0'] -> pandas[version='>=0.18.0,>=0.19.0'] -> numpy[version='>=1.11.*,>=1.14.6,<2.0a0,>=1.9.*,>=1.9.3,<2.0a0'] -> mkl_fft[version='>=1.0.6,<2.0a0']\n",
            "h5py -> numpy[version='>=1.9.3,<2.0a0'] -> mkl_fft[version='>=1.0.6,<2.0a0']\n",
            "dask-cuml -> distributed[version='>=1.23.0'] -> dask[version='>=0.10.0'] -> pandas[version='>=0.18.0,>=0.19.0'] -> numpy[version='1.11.*,>=1.11.*,>=1.14.6,<2.0a0,>=1.9.*,>=1.9.3,<2.0a0'] -> mkl_fft[version='>=1.0.6,<2.0a0']\n",
            "dask-cudf -> distributed[version='>=1.23.0,>=2.0.0'] -> dask[version='>=0.10.0'] -> pandas[version='>=0.18.0,>=0.19.0'] -> numpy[version='1.11.*,>=1.11.*,>=1.14.6,<2.0a0,>=1.9.*,>=1.9.3,<2.0a0'] -> mkl_fft[version='>=1.0.6,<2.0a0']\n",
            "numexpr -> numpy[version='1.10.*,>=1.11,>=1.11.3,<2.0a0,>=1.9.3,<2.0a0'] -> mkl_fft[version='>=1.0.6,<2.0a0']\n",
            "pywavelets -> numpy[version='1.11.*,1.13.*,>=1.11.3,<2.0a0,>=1.9.3,<2.0a0'] -> mkl_fft[version='>=1.0.6,<2.0a0']\n",
            "mkl_random -> numpy[version='>=1.11.3,<2.0a0,>=1.9.3,<2.0a0'] -> mkl_fft[version='>=1.0.6,<2.0a0']\n",
            "scikit-image -> dask[version='>=0.5'] -> distributed[version='>=1.11.0,>=1.16.0,>=1.22.0,>=1.26.0,>=1.27.0'] -> bokeh -> numpy[version='>=1.7.1'] -> mkl_fft[version='>=1.0.6,<2.0a0']\n",
            "imageio -> numpy -> mkl_fft[version='>=1.0.6,<2.0a0']\n",
            "rapidsai/label/xgboost::xgboost -> py-xgboost==0.90.rapidsdev1=cuda10.0py36_1 -> scikit-learn -> scipy -> numpy[version='1.10.*,1.11.*,1.12.*,>=1.11.3,<2.0a0,>=1.9.3,<2.0a0'] -> mkl_fft[version='>=1.0.6,<2.0a0']\n",
            "cuml -> libcuml[version='0.8.0a.*,0.9.0a.*,0.9.0a1.*'] -> cudf[version='0.7.*,0.8.*,0.9.*'] -> rmm[version='0.7.*,0.8.*,0.9.*'] -> numba[version='>=0.41'] -> numpy[version='1.15.*,>=1.10,<1.11.0a0,>=1.11.3,<2.0a0,>=1.13,<1.14.0a0,>=1.14,<1.15.0a0,>=1.15.4,<2.0a0'] -> mkl_fft[version='>=1.0.6,<2.0a0']\n",
            "bottleneck -> numpy[version='1.10.*,1.11.*,>=1.11.3,<2.0a0,>=1.9.3,<2.0a0'] -> mkl_fft[version='>=1.0.6,<2.0a0']\n",
            "astropy -> numpy[version='1.11.*,1.12.*,1.13.*,>=1.9'] -> mkl_fft[version='>=1.0.6,<2.0a0']\n",
            "mkl-service -> numpy[version='>=1.11.3,<2.0a0'] -> mkl_fft[version='>=1.0.6,<2.0a0']\n",
            "rapidsai/label/xgboost::xgboost -> py-xgboost==0.90.rapidsdev1=py37he6ff8a9_1 -> scikit-learn -> scipy -> numpy[version='1.10.*,1.11.*,1.12.*,>=1.11.3,<2.0a0,>=1.9.3,<2.0a0'] -> mkl_fft[version='>=1.0.6,<2.0a0']\n",
            "cudf -> rmm[version='0.7.*,0.8.*,0.9.*'] -> numba[version='>=0.41'] -> numpy[version='1.15.*,>=1.10,<1.11.0a0,>=1.11.3,<2.0a0,>=1.13,<1.14.0a0,>=1.14,<1.15.0a0,>=1.15.4,<2.0a0'] -> mkl_fft[version='>=1.0.6,<2.0a0']\n",
            "pytest-astropy -> pytest-doctestplus[version='>=0.1.2,>=0.1.3,>=0.2.0'] -> numpy[version='>=1.10'] -> mkl_fft[version='>=1.0.6,<2.0a0']\n",
            "matplotlib -> numpy=1.11 -> mkl_fft[version='>=1.0.6,<2.0a0']\n",
            "rapidsai/label/xgboost::xgboost -> py-xgboost==0.90.rapidsdev1=cuda10.0py37_1 -> scikit-learn -> scipy -> numpy[version='1.10.*,1.11.*,1.12.*,>=1.11.3,<2.0a0,>=1.9.3,<2.0a0'] -> mkl_fft[version='>=1.0.6,<2.0a0']\n",
            "numpy -> mkl_fft[version='>=1.0.6,<2.0a0']\n",
            "seaborn -> statsmodels[version='>=0.5.0'] -> patsy[version='>=0.4.0'] -> scipy -> numpy[version='1.10.*,1.11.*,1.12.*,>=1.11.3,<2.0a0,>=1.9.3,<2.0a0'] -> mkl_fft[version='>=1.0.6,<2.0a0']\n",
            "pandas -> numpy[version='1.11.*,>=1.11.*,>=1.14.6,<2.0a0,>=1.9.*,>=1.9.3,<2.0a0'] -> mkl_fft[version='>=1.0.6,<2.0a0']\n",
            "pytest-arraydiff -> numpy -> mkl_fft[version='>=1.0.6,<2.0a0']\n",
            "rapidsai/label/xgboost::xgboost -> py-xgboost==0.90.rapidsdev1=cuda9.2py37_1 -> scikit-learn -> scipy -> numpy[version='1.10.*,1.11.*,1.12.*,>=1.11.3,<2.0a0,>=1.9.3,<2.0a0'] -> mkl_fft[version='>=1.0.6,<2.0a0']\n",
            "patsy -> scipy -> numpy[version='1.10.*,1.11.*,1.12.*,>=1.11.3,<2.0a0,>=1.9.3,<2.0a0'] -> mkl_fft[version='>=1.0.6,<2.0a0']\n",
            "scikit-learn -> scipy -> numpy[version='1.10.*,1.11.*,1.12.*,>=1.11.3,<2.0a0,>=1.9.3,<2.0a0'] -> mkl_fft[version='>=1.0.6,<2.0a0']\n",
            "rapidsai/label/xgboost::xgboost -> py-xgboost==0.90.rapidsdev1=cuda9.2py36_1 -> scikit-learn -> scipy -> numpy[version='1.10.*,1.11.*,1.12.*,>=1.11.3,<2.0a0,>=1.9.3,<2.0a0'] -> mkl_fft[version='>=1.0.6,<2.0a0']\n",
            "scipy -> numpy[version='1.10.*,1.11.*,1.12.*,>=1.11.3,<2.0a0,>=1.9.3,<2.0a0'] -> mkl_fft[version='>=1.0.6,<2.0a0']\n",
            "bkcharts -> pandas -> numpy[version='1.11.*,>=1.11.*,>=1.14.6,<2.0a0,>=1.9.*,>=1.9.3,<2.0a0'] -> mkl_fft[version='>=1.0.6,<2.0a0']\n",
            "Package setuptools conflicts for:\n",
            "defusedxml -> python[version='2.7.*,3.4.*,3.5.*,>=2.7,<2.8.0a0,>=3.5,<3.6.0a0,>=3.6,<3.7.0a0'] -> pip -> wheel -> setuptools\n",
            "qtpy -> python[version='2.7.*,3.6.*,>=2.7,<2.8.0a0,>=3.5,<3.6.0a0,>=3.6,<3.7.0a0'] -> pip -> wheel -> setuptools\n",
            "mccabe -> python[version='2.7.*,3.5.*,3.6.*,>=3.6,<3.7.0a0'] -> pip -> wheel -> setuptools\n",
            "dask -> distributed[version='>=1.11.0,>=1.16.0,>=1.20.0,>=1.21.0,>=1.23.3,>=1.27.0'] -> bokeh -> pandas -> numpy[version='1.10.*,>=1.12.1,<2.0a0,>=1.9,>=1.9.*,>=1.9.3,<2.0a0'] -> python[version='>=2.7,<2.8.0a0,>=3.5,<3.6.0a0,>=3.6,<3.7.0a0,>=3.7,<3.8.0a0'] -> pip -> wheel -> setuptools\n",
            "bitarray -> python[version='3.6.*,>=2.7,<2.8.0a0,>=3.5,<3.6.0a0,>=3.6,<3.7.0a0,>=3.7,<3.8.0a0'] -> pip -> wheel -> setuptools\n",
            "prometheus_client -> twisted -> service_identity[version='>=18.1.0'] -> attrs[version='>=16.0.0'] -> python[version='2.7.*,3.4.*,3.5.*,>=3.6,<3.7.0a0'] -> pip -> wheel -> setuptools\n",
            "rapidsai/label/xgboost::xgboost -> py-xgboost==0.90.rapidsdev1=cuda9.2py37_1 -> scikit-learn -> scipy -> numpy[version='1.10.*,1.11.*,1.12.*,>=1.11.3,<2.0a0,>=1.9.3,<2.0a0'] -> python[version='>=3.6,<3.7.0a0,>=3.7,<3.8.0a0'] -> pip -> wheel -> setuptools\n",
            "psutil -> python[version='>=2.7,<2.8.0a0,>=3.5,<3.6.0a0,>=3.6,<3.7.0a0,>=3.7,<3.8.0a0'] -> pip -> wheel -> setuptools\n",
            "greenlet -> python[version='3.5.*,3.6.*,>=3.5,<3.6.0a0,>=3.6,<3.7.0a0,>=3.7,<3.8.0a0'] -> pip -> wheel -> setuptools\n",
            "xlsxwriter -> python[version='3.5.*,>=2.7,<2.8.0a0,>=3.5,<3.6.0a0,>=3.6,<3.7.0a0'] -> pip -> wheel -> setuptools\n",
            "bottleneck -> numpy[version='1.10.*,1.11.*,>=1.11.3,<2.0a0,>=1.9.3,<2.0a0'] -> python[version='>=2.7,<2.8.0a0,>=3.5,<3.6.0a0,>=3.6,<3.7.0a0,>=3.7,<3.8.0a0'] -> pip -> wheel -> setuptools\n",
            "nose -> setuptools\n",
            "ipykernel -> ipython[version='>=4.0,>=4.0.0,>=5.0'] -> jedi[version='>=0.10'] -> python[version='3.4.*,3.5.*,>=3.5,<3.6.0a0,>=3.6,<3.7.0a0'] -> pip -> wheel -> setuptools\n",
            "openpyxl -> jdcal -> python[version='2.7.*,3.5.*,3.6.*,>=2.7,<2.8.0a0,>=3.6,<3.7.0a0,>=3.7,<3.8.0a0'] -> pip -> wheel -> setuptools\n",
            "mpmath -> gmpy2 -> python[version='3.4.*,3.5.*,3.6.*,>=2.7,<2.8.0a0,>=3.5,<3.6.0a0,>=3.7,<3.8.0a0'] -> pip -> wheel -> setuptools\n",
            "jupyterlab_server -> notebook -> prometheus_client -> twisted -> service_identity[version='>=18.1.0'] -> attrs[version='>=16.0.0'] -> python[version='3.5.*,>=3.6,<3.7.0a0'] -> pip -> wheel -> setuptools\n",
            "atomicwrites -> python[version='2.7.*,>=2.7,<2.8.0a0,>=3.7,<3.8.0a0'] -> pip -> wheel -> setuptools\n",
            "jedi -> numpydoc -> sphinx -> requests[version='>2.0.0,>=2.0.0,>=2.5.0'] -> urllib3[version='>=1.21.1,<1.24,>=1.21.1,<1.25'] -> pyopenssl[version='>=0.14'] -> cryptography[version='>=1.3.4,>=1.9,>=2.1.4,>=2.2.1'] -> cffi[version='>=1.7'] -> pycparser -> python[version='3.4.*,3.5.*,>=3.5,<3.6.0a0,>=3.6,<3.7.0a0'] -> pip -> wheel -> setuptools\n",
            "conda-verify -> jinja2 -> setuptools\n",
            "sphinxcontrib-serializinghtml -> python[version='>=3.5'] -> pip -> wheel -> setuptools\n",
            "cugraph -> cudf[version='0.7.*,0.8.*,0.9.*'] -> pyarrow=0.12.1 -> parquet-cpp=1.5.1 -> arrow-cpp[version='>=0.11.0,>=0.11.1,<0.12.0a0,>=0.12.0,>=0.12.0,<0.13.0a0'] -> numpy[version='>=1.11.3,<2.0a0,>=1.14,<2.0a0'] -> python[version='>=3.6,<3.7.0a0,>=3.7,<3.8.0a0'] -> pip -> wheel -> setuptools\n",
            "soupsieve -> backports.functools_lru_cache -> setuptools\n",
            "tblib -> python[version='3.6.*,>=2.7,<2.8.0a0,>=3.6,<3.7.0a0,>=3.7,<3.8.0a0'] -> pip -> wheel -> setuptools\n",
            "joblib -> python[version='2.7.*,3.5.*,>=2.7,<2.8.0a0,>=3.5,<3.6.0a0'] -> pip -> wheel -> setuptools\n",
            "et_xmlfile -> python[version='3.5.*,3.6.*,>=2.7,<2.8.0a0,>=3.5,<3.6.0a0,>=3.6,<3.7.0a0,>=3.7,<3.8.0a0'] -> pip -> wheel -> setuptools\n",
            "decorator -> python[version='2.7.*,3.4.*,3.5.*,3.6.*,>=2.7,<2.8.0a0,>=3.6,<3.7.0a0,>=3.7,<3.8.0a0'] -> pip -> wheel -> setuptools\n",
            "zict -> heapdict -> python[version='2.7.*,3.4.*,>=2.7,<2.8.0a0,>=3.5,<3.6.0a0,>=3.6,<3.7.0a0,>=3.7,<3.8.0a0'] -> pip -> wheel -> setuptools\n",
            "pip -> wheel -> setuptools\n",
            "pillow -> olefile -> python[version='2.7.*,3.5.*,>=2.7,<2.8.0a0,>=3.6,<3.7.0a0,>=3.7,<3.8.0a0'] -> pip -> wheel -> setuptools\n",
            "docutils -> python[version='2.7.*,3.6.*,>=2.7,<2.8.0a0,>=3.6,<3.7.0a0,>=3.7,<3.8.0a0'] -> pip -> wheel -> setuptools\n",
            "pyrsistent -> six -> python[version='3.6.*,>=3.6,<3.7.0a0,>=3.7,<3.8.0a0'] -> pip -> wheel -> setuptools\n",
            "tornado -> ssl_match_hostname -> backports -> python[version='2.7.*,3.5.*,3.6.*,>=2.7,<2.8.0a0,>=3.5,<3.6.0a0,>=3.6,<3.7.0a0'] -> pip -> wheel -> setuptools\n",
            "contextlib2 -> python[version='3.4.*,3.5.*,3.6.*,>=2.7,<2.8.0a0,>=3.6,<3.7.0a0'] -> pip -> wheel -> setuptools\n",
            "backports.weakref -> backports -> python[version='2.7.*,3.5.*,3.6.*,>=2.7,<2.8.0a0,>=3.5,<3.6.0a0,>=3.6,<3.7.0a0'] -> pip -> wheel -> setuptools\n",
            "jinja2 -> setuptools\n",
            "ipython -> jedi[version='>=0.10'] -> python[version='3.4.*,3.5.*,>=3.5,<3.6.0a0,>=3.6,<3.7.0a0'] -> pip -> wheel -> setuptools\n",
            "cuml -> libcuml[version='0.7.0.dev0.*,0.8.0a.*,0.9.0a.*'] -> cudf[version='0.7.*,0.8.*,0.9.*'] -> pyarrow=0.12.1 -> parquet-cpp=1.5.1 -> arrow-cpp[version='>=0.11.0,>=0.11.1,<0.12.0a0,>=0.12.0,>=0.12.0,<0.13.0a0'] -> numpy[version='>=1.11.3,<2.0a0,>=1.14,<2.0a0'] -> python[version='>=3.6,<3.7.0a0,>=3.7,<3.8.0a0'] -> pip -> wheel -> setuptools\n",
            "webencodings -> python[version='3.5.*,3.6.*,>=2.7,<2.8.0a0,>=3.5,<3.6.0a0,>=3.6,<3.7.0a0'] -> pip -> wheel -> setuptools\n",
            "jdcal -> python[version='2.7.*,3.5.*,3.6.*,>=2.7,<2.8.0a0,>=3.6,<3.7.0a0,>=3.7,<3.8.0a0'] -> pip -> wheel -> setuptools\n",
            "backports.os -> future -> python[version='3.5.*,>=2.7,<2.8.0a0,>=3.5,<3.6.0a0,>=3.6,<3.7.0a0'] -> pip -> wheel -> setuptools\n",
            "qtconsole -> ipykernel[version='>=4.1'] -> ipython[version='>=4.0,>=4.0.0,>=5.0'] -> jedi[version='>=0.10'] -> python[version='3.5.*,>=3.5,<3.6.0a0,>=3.6,<3.7.0a0'] -> pip -> wheel -> setuptools\n",
            "isort -> setuptools\n",
            "sip -> python[version='2.7.*,3.6.*,>=2.7,<2.8.0a0,>=3.6,<3.7.0a0,>=3.7,<3.8.0a0'] -> pip -> wheel -> setuptools\n",
            "conda[version='>=4.7.10'] -> requests[version='>=2.12.4,<3,>=2.18.4,<3'] -> urllib3[version='>=1.21.1,<1.24,>=1.21.1,<1.25'] -> pyopenssl[version='>=0.14'] -> cryptography[version='>=1.3.4,>=1.9,>=2.1.4,>=2.2.1'] -> cffi[version='>=1.7'] -> pycparser -> python[version='>=3.6,<3.7.0a0'] -> pip -> wheel -> setuptools\n",
            "qtawesome -> six -> python[version='3.5.*,3.6.*,>=3.6,<3.7.0a0,>=3.7,<3.8.0a0'] -> pip -> wheel -> setuptools\n",
            "bkcharts -> pandas -> numpy[version='1.10.*,>=1.12.1,<2.0a0,>=1.9,>=1.9.*,>=1.9.3,<2.0a0'] -> python[version='>=2.7,<2.8.0a0,>=3.5,<3.6.0a0,>=3.6,<3.7.0a0,>=3.7,<3.8.0a0'] -> pip -> wheel -> setuptools\n",
            "numexpr -> numpy[version='>=1.11,>=1.11.3,<2.0a0,>=1.9.3,<2.0a0'] -> python[version='>=2.7,<2.8.0a0,>=3.5,<3.6.0a0,>=3.6,<3.7.0a0,>=3.7,<3.8.0a0'] -> pip -> wheel -> setuptools\n",
            "cffi -> pycparser -> python[version='3.4.*,3.5.*,>=3.5,<3.6.0a0,>=3.6,<3.7.0a0'] -> pip -> wheel -> setuptools\n",
            "pycparser -> python[version='3.4.*,3.5.*,>=3.5,<3.6.0a0,>=3.6,<3.7.0a0'] -> pip -> wheel -> setuptools\n",
            "locket -> python[version='3.4.*,3.5.*,>=2.7,<2.8.0a0,>=3.5,<3.6.0a0,>=3.6,<3.7.0a0,>=3.7,<3.8.0a0'] -> pip -> wheel -> setuptools\n",
            "babel -> pytz -> python[version='3.5.*,3.6.*,>=3.6,<3.7.0a0,>=3.7,<3.8.0a0'] -> pip -> wheel -> setuptools\n",
            "pycosat -> python[version='2.7.*,3.5.*,>=2.7,<2.8.0a0,>=3.5,<3.6.0a0,>=3.7,<3.8.0a0'] -> pip -> wheel -> setuptools\n",
            "pickleshare -> pathlib2 -> six -> python[version='3.5.*,3.6.*,>=3.6,<3.7.0a0,>=3.7,<3.8.0a0'] -> pip -> wheel -> setuptools\n",
            "pytest-arraydiff -> pytest -> attrs[version='>=17.2.0,>=17.4.0'] -> python[version='2.7.*,3.4.*,3.5.*,>=3.6,<3.7.0a0'] -> pip -> wheel -> setuptools\n",
            "wurlitzer -> python[version='>=2.7,<2.8.0a0,>=3.6,<3.7.0a0,>=3.7,<3.8.0a0'] -> pip -> wheel -> setuptools\n",
            "imageio -> numpy -> python[version='>=2.7,<2.8.0a0,>=3.5,<3.6.0a0,>=3.6,<3.7.0a0,>=3.7,<3.8.0a0'] -> pip -> wheel -> setuptools\n",
            "ptyprocess -> python[version='2.7.*,3.5.*,>=3.5,<3.6.0a0,>=3.6,<3.7.0a0'] -> pip -> wheel -> setuptools\n",
            "backcall -> python[version='>=2.7,<2.8.0a0,>=3.5,<3.6.0a0,>=3.6,<3.7.0a0,>=3.7,<3.8.0a0'] -> pip -> wheel -> setuptools\n",
            "dask-cudf -> distributed[version='>=1.23.0,>=2.0.0'] -> dask[version='>=0.10.0'] -> bokeh[version='>=0.13.0'] -> pandas -> numpy[version='>=1.12.1,<2.0a0,>=1.9,>=1.9.*,>=1.9.3,<2.0a0'] -> python[version='>=3.6,<3.7.0a0,>=3.7,<3.8.0a0'] -> pip -> wheel -> setuptools\n",
            "lazy-object-proxy -> python[version='2.7.*,3.5.*,3.6.*,>=2.7,<2.8.0a0,>=3.6,<3.7.0a0,>=3.7,<3.8.0a0'] -> pip -> wheel -> setuptools\n",
            "toolz -> python[version='3.4.*,3.5.*,>=2.7,<2.8.0a0,>=3.5,<3.6.0a0'] -> pip -> wheel -> setuptools\n",
            "importlib_metadata -> pathlib2 -> six -> python[version='3.5.*,3.6.*,>=3.6,<3.7.0a0,>=3.7,<3.8.0a0'] -> pip -> wheel -> setuptools\n",
            "mkl_random -> numpy[version='>=1.11,>=1.11.3,<2.0a0,>=1.9.3,<2.0a0'] -> python[version='>=2.7,<2.8.0a0,>=3.5,<3.6.0a0,>=3.6,<3.7.0a0,>=3.7,<3.8.0a0'] -> pip -> wheel -> setuptools\n",
            "nbconvert -> nbformat[version='>=4.4'] -> jupyter_core -> traitlets -> six -> python[version='3.5.*,3.6.*,>=3.6,<3.7.0a0,>=3.7,<3.8.0a0'] -> pip -> wheel -> setuptools\n",
            "pysocks -> python[version='2.7.*,3.6.*,>=2.7,<2.8.0a0,>=3.6,<3.7.0a0,>=3.7,<3.8.0a0'] -> pip -> wheel -> setuptools\n",
            "gcsfs -> google-auth-oauthlib -> requests-oauthlib[version='>=0.7.0,>=0.7.0,<1dev'] -> requests[version='>=2.0.0'] -> urllib3[version='>=1.21.1,<1.24,>=1.21.1,<1.25'] -> pyopenssl[version='>=0.14'] -> cryptography[version='>=1.3.4,>=1.9,>=2.1.4,>=2.2.1'] -> cffi[version='>=1.7'] -> pycparser -> python[version='3.4.*,3.5.*,>=3.5,<3.6.0a0,>=3.6,<3.7.0a0'] -> pip -> wheel -> setuptools\n",
            "colorama -> python[version='3.6.*,>=3.6,<3.7.0a0,>=3.7,<3.8.0a0'] -> pip -> wheel -> setuptools\n",
            "clyent -> setuptools\n",
            "zipp -> python[version='>=2.7,<2.8.0a0,>=3.6,<3.7.0a0'] -> pip -> wheel -> setuptools\n",
            "distributed -> dask[version='>=0.10.0'] -> bokeh[version='>=0.13.0'] -> pandas -> numpy[version='1.10.*,>=1.12.1,<2.0a0,>=1.9,>=1.9.*,>=1.9.3,<2.0a0'] -> python[version='>=2.7,<2.8.0a0,>=3.5,<3.6.0a0,>=3.6,<3.7.0a0,>=3.7,<3.8.0a0'] -> pip -> wheel -> setuptools\n",
            "bleach -> setuptools\n",
            "path.py -> importlib_metadata[version='>=0.5'] -> pathlib2 -> six -> python[version='3.5.*,3.6.*,>=3.6,<3.7.0a0,>=3.7,<3.8.0a0'] -> pip -> wheel -> setuptools\n",
            "pexpect -> ptyprocess[version='>=0.5'] -> python[version='2.7.*,3.5.*,>=3.5,<3.6.0a0,>=3.6,<3.7.0a0'] -> pip -> wheel -> setuptools\n",
            "click -> python[version='2.7.*,3.4.*,3.5.*,>=2.7,<2.8.0a0,>=3.6,<3.7.0a0,>=3.7,<3.8.0a0'] -> pip -> wheel -> setuptools\n",
            "itsdangerous -> python[version='3.5.*,>=2.7,<2.8.0a0,>=3.6,<3.7.0a0,>=3.7,<3.8.0a0'] -> pip -> wheel -> setuptools\n",
            "jupyter -> notebook -> prometheus_client -> twisted -> service_identity[version='>=18.1.0'] -> attrs[version='>=16.0.0'] -> python[version='2.7.*,3.5.*,>=3.6,<3.7.0a0'] -> pip -> wheel -> setuptools\n",
            "cloudpickle -> python[version='3.5.*,>=3.5,<3.6.0a0,>=3.7,<3.8.0a0'] -> pip -> wheel -> setuptools\n",
            "navigator-updater -> pyqt[version='>=5.6'] -> qt[version='5.6.*,5.9.*,>=5.6.2,<5.7.0a0,>=5.9.6,<5.10.0a0'] -> gtk2 -> gdk-pixbuf -> gobject-introspection -> python[version='>=3.7,<3.8.0a0'] -> pip -> wheel -> setuptools\n",
            "singledispatch -> six -> python[version='3.5.*,3.6.*,>=3.6,<3.7.0a0,>=3.7,<3.8.0a0'] -> pip -> wheel -> setuptools\n",
            "rapidsai/label/xgboost::xgboost -> py-xgboost==0.90.rapidsdev1=cuda9.2py36_1 -> scikit-learn -> scipy -> numpy[version='1.10.*,1.11.*,1.12.*,>=1.11.3,<2.0a0,>=1.9.3,<2.0a0'] -> python[version='>=3.6,<3.7.0a0,>=3.7,<3.8.0a0'] -> pip -> wheel -> setuptools\n",
            "mkl_fft -> numpy[version='>=1.11,>=1.11.3,<2.0a0'] -> python[version='>=2.7,<2.8.0a0,>=3.5,<3.6.0a0,>=3.6,<3.7.0a0,>=3.7,<3.8.0a0'] -> pip -> wheel -> setuptools\n",
            "secretstorage -> cryptography -> cffi[version='>=1.7'] -> pycparser -> python[version='3.5.*,>=3.5,<3.6.0a0,>=3.6,<3.7.0a0'] -> pip -> wheel -> setuptools\n",
            "pylint -> astroid[version='>=1.4.5,<1.5.0,>=1.5.1,>=2.0.0,>=2.2.0'] -> backports.functools_lru_cache -> setuptools\n",
            "rapidsai/label/xgboost::xgboost -> py-xgboost==0.90.rapidsdev1=py36he6ff8a9_1 -> scikit-learn -> scipy -> numpy[version='1.10.*,1.11.*,1.12.*,>=1.11.3,<2.0a0,>=1.9.3,<2.0a0'] -> python[version='>=3.6,<3.7.0a0,>=3.7,<3.8.0a0'] -> pip -> wheel -> setuptools\n",
            "rapidsai/label/xgboost::xgboost -> py-xgboost==0.90.rapidsdev1=cuda10.0py36_1 -> scikit-learn -> scipy -> numpy[version='1.10.*,1.11.*,1.12.*,>=1.11.3,<2.0a0,>=1.9.3,<2.0a0'] -> python[version='>=3.6,<3.7.0a0,>=3.7,<3.8.0a0'] -> pip -> wheel -> setuptools\n",
            "zstd -> lz4 -> python[version='>=3.6,<3.7.0a0'] -> pip -> wheel -> setuptools\n",
            "glob2 -> python[version='2.7.*,3.5.*,>=2.7,<2.8.0a0,>=3.5,<3.6.0a0,>=3.7,<3.8.0a0'] -> pip -> wheel -> setuptools\n",
            "llvmlite -> python[version='3.5.*,>=2.7,<2.8.0a0,>=3.5,<3.6.0a0,>=3.6,<3.7.0a0,>=3.7,<3.8.0a0'] -> pip -> wheel -> setuptools\n",
            "werkzeug -> python[version='2.7.*,3.6.*,>=3.6,<3.7.0a0'] -> pip -> wheel -> setuptools\n",
            "matplotlib -> matplotlib-base==3.1.1=py36he7580a8_1 -> numpy[version='>=1.11.3,<2.0a0,>=1.14.6,<2.0a0,>=1.9.3,<2.0a0'] -> python[version='>=2.7,<2.8.0a0,>=3.5,<3.6.0a0,>=3.6,<3.7.0a0,>=3.7,<3.8.0a0'] -> pip -> wheel -> setuptools\n",
            "numpy -> python[version='>=2.7,<2.8.0a0,>=3.5,<3.6.0a0,>=3.6,<3.7.0a0,>=3.7,<3.8.0a0'] -> pip -> wheel -> setuptools\n",
            "sphinxcontrib-jsmath -> python[version='>=3.5'] -> pip -> wheel -> setuptools\n",
            "notebook -> prometheus_client -> twisted -> service_identity[version='>=18.1.0'] -> attrs[version='>=16.0.0'] -> python[version='2.7.*,3.4.*,3.5.*,>=3.6,<3.7.0a0'] -> pip -> wheel -> setuptools\n",
            "sphinxcontrib -> python[version='>=2.7,<2.8.0a0,>=3.5,<3.6.0a0,>=3.6,<3.7.0a0,>=3.7,<3.8.0a0'] -> pip -> wheel -> setuptools\n",
            "pytest-doctestplus -> pytest[version='>=2.8'] -> attrs[version='>=17.2.0,>=17.4.0'] -> python[version='2.7.*,3.4.*,3.5.*,>=3.6,<3.7.0a0'] -> pip -> wheel -> setuptools\n",
            "astropy -> pytest[version='<3.7'] -> attrs[version='>=17.2.0,>=17.4.0'] -> python[version='2.7.*,3.5.*,>=3.6,<3.7.0a0'] -> pip -> wheel -> setuptools\n",
            "patsy -> scipy -> numpy[version='1.10.*,1.11.*,1.12.*,>=1.11.3,<2.0a0,>=1.9.3,<2.0a0'] -> python[version='>=2.7,<2.8.0a0,>=3.5,<3.6.0a0,>=3.6,<3.7.0a0,>=3.7,<3.8.0a0'] -> pip -> wheel -> setuptools\n",
            "partd -> toolz -> python[version='3.4.*,3.5.*,>=2.7,<2.8.0a0,>=3.5,<3.6.0a0'] -> pip -> wheel -> setuptools\n",
            "sphinxcontrib-applehelp -> python[version='>=3.5'] -> pip -> wheel -> setuptools\n",
            "markupsafe -> python[version='3.4.*,>=2.7,<2.8.0a0,>=3.5,<3.6.0a0,>=3.6,<3.7.0a0,>=3.7,<3.8.0a0'] -> pip -> wheel -> setuptools\n",
            "parso -> python[version='>=2.7,<2.8.0a0,>=3.6,<3.7.0a0,>=3.7,<3.8.0a0'] -> pip -> wheel -> setuptools\n",
            "backports.shutil_get_terminal_size -> backports -> python[version='2.7.*,3.5.*,3.6.*,>=2.7,<2.8.0a0,>=3.5,<3.6.0a0,>=3.6,<3.7.0a0'] -> pip -> wheel -> setuptools\n",
            "imagesize -> python[version='2.7.*,>=2.7,<2.8.0a0,>=3.5,<3.6.0a0,>=3.6,<3.7.0a0,>=3.7,<3.8.0a0'] -> pip -> wheel -> setuptools\n",
            "simplegeneric -> python[version='>=2.7,<2.8.0a0,>=3.5,<3.6.0a0,>=3.6,<3.7.0a0,>=3.7,<3.8.0a0'] -> pip -> wheel -> setuptools\n",
            "boto -> python[version='>=2.7,<2.8.0a0,>=3.6,<3.7.0a0,>=3.7,<3.8.0a0'] -> pip -> wheel -> setuptools\n",
            "pyodbc -> python[version='>=3.5,<3.6.0a0,>=3.6,<3.7.0a0,>=3.7,<3.8.0a0'] -> pip -> wheel -> setuptools\n",
            "nltk -> singledispatch -> six -> python[version='3.5.*,3.6.*,>=3.6,<3.7.0a0,>=3.7,<3.8.0a0'] -> pip -> wheel -> setuptools\n",
            "gmpy2 -> python[version='3.4.*,3.5.*,3.6.*,>=2.7,<2.8.0a0,>=3.5,<3.6.0a0,>=3.7,<3.8.0a0'] -> pip -> wheel -> setuptools\n",
            "pyopenssl -> cryptography[version='>=1.3.4,>=1.9,>=2.1.4,>=2.2.1'] -> cffi[version='>=1.7'] -> pycparser -> python[version='3.5.*,>=3.5,<3.6.0a0,>=3.6,<3.7.0a0'] -> pip -> wheel -> setuptools\n",
            "mock -> pbr[version='>=1.3'] -> pip -> wheel -> setuptools\n",
            "terminado -> tornado[version='>=4'] -> ssl_match_hostname -> backports -> python[version='2.7.*,3.5.*,3.6.*,>=2.7,<2.8.0a0,>=3.5,<3.6.0a0,>=3.6,<3.7.0a0'] -> pip -> wheel -> setuptools\n",
            "python=3.6 -> pip -> wheel -> setuptools\n",
            "seaborn -> statsmodels[version='>=0.5.0'] -> patsy[version='>=0.4.0'] -> scipy -> numpy[version='1.10.*,1.11.*,1.12.*,>=1.11.3,<2.0a0,>=1.9.3,<2.0a0'] -> python[version='>=2.7,<2.8.0a0,>=3.5,<3.6.0a0,>=3.6,<3.7.0a0,>=3.7,<3.8.0a0'] -> pip -> wheel -> setuptools\n",
            "anaconda==2019.07=py37_0 -> prometheus_client==0.7.1=py_0 -> attrs[version='>=16.0.0'] -> pip -> wheel -> setuptools\n",
            "widgetsnbextension -> notebook[version='>=4.2.0,>=4.4.1'] -> prometheus_client -> twisted -> service_identity[version='>=18.1.0'] -> attrs[version='>=16.0.0'] -> python[version='2.7.*,3.4.*,3.5.*,>=3.6,<3.7.0a0'] -> pip -> wheel -> setuptools\n",
            "jsonschema -> attrs[version='>=17.4.0'] -> python[version='2.7.*,3.4.*,3.5.*,>=3.6,<3.7.0a0'] -> pip -> wheel -> setuptools\n",
            "attrs -> hypothesis -> coverage -> python[version='2.7.*,3.4.*,3.5.*,>=3.6,<3.7.0a0'] -> pip -> wheel -> setuptools\n",
            "traitlets -> six -> python[version='3.5.*,3.6.*,>=3.6,<3.7.0a0,>=3.7,<3.8.0a0'] -> pip -> wheel -> setuptools\n",
            "python-dateutil -> six[version='>=1.5'] -> python[version='3.5.*,3.6.*,>=3.6,<3.7.0a0,>=3.7,<3.8.0a0'] -> pip -> wheel -> setuptools\n",
            "jeepney -> python[version='>=3.5,>=3.5,<3.6.0a0,>=3.6,<3.7.0a0,>=3.7,<3.8.0a0'] -> pip -> wheel -> setuptools\n",
            "jupyter_console -> ipykernel -> ipython[version='>=4.0,>=4.0.0,>=5.0'] -> jedi[version='>=0.10'] -> python[version='3.4.*,3.5.*,>=3.5,<3.6.0a0,>=3.6,<3.7.0a0'] -> pip -> wheel -> setuptools\n",
            "html5lib -> webencodings -> python[version='3.5.*,3.6.*,>=2.7,<2.8.0a0,>=3.5,<3.6.0a0,>=3.6,<3.7.0a0'] -> pip -> wheel -> setuptools\n",
            "xlrd -> python[version='2.7.*,3.6.*,>=2.7,<2.8.0a0,>=3.5,<3.6.0a0,>=3.6,<3.7.0a0,>=3.7,<3.8.0a0'] -> pip -> wheel -> setuptools\n",
            "anaconda-client -> requests[version='>=2.9.1'] -> urllib3[version='>=1.21.1,<1.24,>=1.21.1,<1.25'] -> pyopenssl[version='>=0.14'] -> cryptography[version='>=1.3.4,>=1.9,>=2.1.4,>=2.2.1'] -> cffi[version='>=1.7'] -> pycparser -> python[version='3.4.*,3.5.*,>=3.5,<3.6.0a0,>=3.6,<3.7.0a0'] -> pip -> wheel -> setuptools\n",
            "asn1crypto -> python[version='3.5.*,3.6.*,>=2.7,<2.8.0a0,>=3.5,<3.6.0a0,>=3.6,<3.7.0a0,>=3.7,<3.8.0a0'] -> pip -> wheel -> setuptools\n",
            "py -> python[version='2.7.*,3.6.*,>=2.7,<2.8.0a0,>=3.5,<3.6.0a0'] -> pip -> wheel -> setuptools\n",
            "jupyterlab -> notebook[version='>=4.2,>=4.3,>=4.3.1'] -> prometheus_client -> twisted -> service_identity[version='>=18.1.0'] -> attrs[version='>=16.0.0'] -> python[version='2.7.*,3.4.*,3.5.*,>=3.6,<3.7.0a0'] -> pip -> wheel -> setuptools\n",
            "conda-build -> conda[version='>=4.3'] -> requests[version='>=2.12.4,<3,>=2.18.4,<3'] -> urllib3[version='>=1.21.1,<1.24,>=1.21.1,<1.25'] -> pyopenssl[version='>=0.14'] -> cryptography[version='>=1.3.4,>=1.9,>=2.1.4,>=2.2.1'] -> cffi[version='>=1.7'] -> pycparser -> python[version='3.4.*,3.5.*,>=3.5,<3.6.0a0,>=3.6,<3.7.0a0'] -> pip -> wheel -> setuptools\n",
            "h5py -> numpy[version='1.12.*,1.13.*,>=1.8,>=1.9.3,<2.0a0'] -> python[version='>=2.7,<2.8.0a0,>=3.5,<3.6.0a0,>=3.6,<3.7.0a0,>=3.7,<3.8.0a0'] -> pip -> wheel -> setuptools\n",
            "get_terminal_size -> backports.shutil_get_terminal_size -> backports -> python[version='2.7.*,3.5.*,3.6.*,>=2.7,<2.8.0a0,>=3.5,<3.6.0a0,>=3.6,<3.7.0a0'] -> pip -> wheel -> setuptools\n",
            "astroid -> backports.functools_lru_cache -> setuptools\n",
            "qt -> gtk2 -> gdk-pixbuf -> gobject-introspection -> python[version='>=3.7,<3.8.0a0'] -> pip -> wheel -> setuptools\n",
            "rapidsai/label/xgboost::xgboost -> py-xgboost==0.83.dev43=py37he6ff8a9_1 -> scikit-learn -> scipy -> numpy[version='1.10.*,1.11.*,1.12.*,>=1.11.3,<2.0a0,>=1.9.3,<2.0a0'] -> python[version='>=3.6,<3.7.0a0,>=3.7,<3.8.0a0'] -> pip -> wheel -> setuptools\n",
            "python-libarchive-c -> python[version='>=2.7,<2.8.0a0,>=3.6,<3.7.0a0,>=3.7,<3.8.0a0'] -> pip -> wheel -> setuptools\n",
            "testpath -> pathlib2 -> six -> python[version='3.5.*,3.6.*,>=3.6,<3.7.0a0,>=3.7,<3.8.0a0'] -> pip -> wheel -> setuptools\n",
            "backports -> python[version='2.7.*,3.5.*,3.6.*,>=2.7,<2.8.0a0,>=3.5,<3.6.0a0,>=3.6,<3.7.0a0'] -> pip -> wheel -> setuptools\n",
            "scikit-learn -> scipy -> numpy[version='1.10.*,1.11.*,1.12.*,>=1.11.3,<2.0a0,>=1.9.3,<2.0a0'] -> python[version='>=2.7,<2.8.0a0,>=3.5,<3.6.0a0,>=3.6,<3.7.0a0,>=3.7,<3.8.0a0'] -> pip -> wheel -> setuptools\n",
            "anaconda-navigator -> anaconda-project[version='>=0.4'] -> anaconda-client -> requests[version='>=2.9.1'] -> urllib3[version='>=1.21.1,<1.24,>=1.21.1,<1.25'] -> pyopenssl[version='>=0.14'] -> cryptography[version='>=1.3.4,>=1.9,>=2.1.4,>=2.2.1'] -> cffi[version='>=1.7'] -> pycparser -> python[version='3.5.*,>=3.5,<3.6.0a0,>=3.6,<3.7.0a0'] -> pip -> wheel -> setuptools\n",
            "snowballstemmer -> python[version='2.7.*,3.5.*,>=3.6,<3.7.0a0'] -> pip -> wheel -> setuptools\n",
            "mkl-service -> numpy[version='>=1.11.3,<2.0a0'] -> python[version='>=2.7,<2.8.0a0,>=3.5,<3.6.0a0,>=3.6,<3.7.0a0,>=3.7,<3.8.0a0'] -> pip -> wheel -> setuptools\n",
            "backports.tempfile -> backports.weakref -> backports -> python[version='2.7.*,3.5.*,3.6.*,>=2.7,<2.8.0a0,>=3.5,<3.6.0a0,>=3.6,<3.7.0a0'] -> pip -> wheel -> setuptools\n",
            "cudf -> pyarrow=0.12.1 -> parquet-cpp=1.5.1 -> arrow-cpp[version='>=0.11.0,>=0.11.1,<0.12.0a0,>=0.12.0,>=0.12.0,<0.13.0a0'] -> numpy[version='>=1.11.3,<2.0a0,>=1.14,<2.0a0'] -> python[version='>=3.6,<3.7.0a0,>=3.7,<3.8.0a0'] -> pip -> wheel -> setuptools\n",
            "libarchive -> zstd[version='>=1.3.3,<1.3.4.0a0'] -> lz4 -> python[version='>=3.6,<3.7.0a0'] -> pip -> wheel -> setuptools\n",
            "multipledispatch -> six -> python[version='3.5.*,3.6.*,>=3.6,<3.7.0a0,>=3.7,<3.8.0a0'] -> pip -> wheel -> setuptools\n",
            "blosc -> zstd[version='>=1.3.7,<1.3.8.0a0'] -> lz4 -> python[version='>=3.6,<3.7.0a0'] -> pip -> wheel -> setuptools\n",
            "pytest-astropy -> pytest[version='>=3.1,>=3.1.0'] -> attrs[version='>=17.2.0,>=17.4.0'] -> python[version='2.7.*,3.4.*,3.5.*,>=3.6,<3.7.0a0'] -> pip -> wheel -> setuptools\n",
            "pkginfo -> python[version='2.7.*,3.5.*,3.6.*,>=3.5,<3.6.0a0'] -> pip -> wheel -> setuptools\n",
            "pyparsing -> python[version='2.7.*,3.5.*,>=3.5,<3.6.0a0,>=3.6,<3.7.0a0,>=3.7,<3.8.0a0'] -> pip -> wheel -> setuptools\n",
            "ruamel_yaml -> setuptools\n",
            "pyqt -> qt[version='5.6.*,5.9.*,>=5.6.2,<5.7.0a0,>=5.9.6,<5.10.0a0'] -> gtk2 -> gdk-pixbuf -> gobject-introspection -> python[version='>=3.7,<3.8.0a0'] -> pip -> wheel -> setuptools\n",
            "packaging -> six -> python[version='3.5.*,3.6.*,>=3.6,<3.7.0a0,>=3.7,<3.8.0a0'] -> pip -> wheel -> setuptools\n",
            "matplotlib -> matplotlib-base==2.2.3=py27h60b886d_1 -> numpy[version='>=1.11.3,<2.0a0,>=1.14.6,<2.0a0,>=1.9.3,<2.0a0'] -> python[version='>=2.7,<2.8.0a0,>=3.5,<3.6.0a0,>=3.6,<3.7.0a0,>=3.7,<3.8.0a0'] -> pip -> wheel -> setuptools\n",
            "pandocfilters -> python[version='2.7.*,3.4.*,3.5.*,3.6.*,>=2.7,<2.8.0a0,>=3.7,<3.8.0a0'] -> pip -> wheel -> setuptools\n",
            "rapidsai/label/xgboost::xgboost -> py-xgboost==0.90.rapidsdev1=py37he6ff8a9_1 -> scikit-learn -> scipy -> numpy[version='1.10.*,1.11.*,1.12.*,>=1.11.3,<2.0a0,>=1.9.3,<2.0a0'] -> python[version='>=3.6,<3.7.0a0,>=3.7,<3.8.0a0'] -> pip -> wheel -> setuptools\n",
            "scikit-image -> dask[version='>=0.5'] -> distributed[version='>=1.11.0,>=1.16.0,>=1.20.0,>=1.21.0,>=1.23.3,>=1.27.0'] -> bokeh -> pandas -> numpy[version='1.10.*,>=1.12.1,<2.0a0,>=1.9,>=1.9.*,>=1.9.3,<2.0a0'] -> python[version='>=2.7,<2.8.0a0,>=3.5,<3.6.0a0,>=3.6,<3.7.0a0,>=3.7,<3.8.0a0'] -> pip -> wheel -> setuptools\n",
            "pyzmq -> python[version='3.6.*,>=2.7,<2.8.0a0,>=3.5,<3.6.0a0,>=3.6,<3.7.0a0,>=3.7,<3.8.0a0'] -> pip -> wheel -> setuptools\n",
            "cryptography -> cffi[version='>=1.7'] -> pycparser -> python[version='3.5.*,>=3.5,<3.6.0a0,>=3.6,<3.7.0a0'] -> pip -> wheel -> setuptools\n",
            "sphinxcontrib-qthelp -> python[version='>=3.5'] -> pip -> wheel -> setuptools\n",
            "more-itertools -> six[version='>=1.0.0,<2.0.0'] -> python[version='3.5.*,3.6.*,>=3.6,<3.7.0a0,>=3.7,<3.8.0a0'] -> pip -> wheel -> setuptools\n",
            "msgpack-python -> python[version='2.7.*,3.5.*,3.6.*,>=2.7,<2.8.0a0,>=3.6,<3.7.0a0,>=3.7,<3.8.0a0'] -> pip -> wheel -> setuptools\n",
            "heapdict -> python[version='2.7.*,3.4.*,>=2.7,<2.8.0a0,>=3.5,<3.6.0a0,>=3.6,<3.7.0a0,>=3.7,<3.8.0a0'] -> pip -> wheel -> setuptools\n",
            "pytables -> numexpr -> numpy[version='>=1.11,>=1.11.3,<2.0a0,>=1.9.3,<2.0a0'] -> python[version='>=2.7,<2.8.0a0,>=3.5,<3.6.0a0,>=3.6,<3.7.0a0,>=3.7,<3.8.0a0'] -> pip -> wheel -> setuptools\n",
            "fastcache -> python[version='>=2.7,<2.8.0a0,>=3.5,<3.6.0a0,>=3.6,<3.7.0a0,>=3.7,<3.8.0a0'] -> pip -> wheel -> setuptools\n",
            "prompt_toolkit -> pygments -> setuptools\n",
            "mistune -> python[version='>=2.7,<2.8.0a0,>=3.5,<3.6.0a0,>=3.6,<3.7.0a0,>=3.7,<3.8.0a0'] -> pip -> wheel -> setuptools\n",
            "rope -> python[version='3.5.*,3.6.*,>=2.7,<2.8.0a0,>=3.5,<3.6.0a0,>=3.6,<3.7.0a0'] -> pip -> wheel -> setuptools\n",
            "pycodestyle -> python[version='2.7.*,3.4.*,3.5.*,>=2.7,<2.8.0a0,>=3.5,<3.6.0a0'] -> pip -> wheel -> setuptools\n",
            "future -> python[version='3.4.*,3.5.*,>=2.7,<2.8.0a0,>=3.5,<3.6.0a0,>=3.6,<3.7.0a0'] -> pip -> wheel -> setuptools\n",
            "pycrypto -> python[version='2.7.*,3.5.*,3.6.*,>=2.7,<2.8.0a0,>=3.6,<3.7.0a0'] -> pip -> wheel -> setuptools\n",
            "numpydoc -> sphinx -> requests[version='>2.0.0,>=2.0.0,>=2.5.0'] -> urllib3[version='>=1.21.1,<1.24,>=1.21.1,<1.25'] -> pyopenssl[version='>=0.14'] -> cryptography[version='>=1.3.4,>=1.9,>=2.1.4,>=2.2.1'] -> cffi[version='>=1.7'] -> pycparser -> python[version='3.4.*,3.5.*,>=3.5,<3.6.0a0,>=3.6,<3.7.0a0'] -> pip -> wheel -> setuptools\n",
            "jupyter_client -> tornado -> python[version='2.7.*,3.5.*,3.6.*,>=2.7,<2.8.0a0,>=3.5,<3.6.0a0,>=3.6,<3.7.0a0'] -> pip -> wheel -> setuptools\n",
            "idna -> python[version='2.7.*,3.5.*,>=2.7,<2.8.0a0,>=3.6,<3.7.0a0,>=3.7,<3.8.0a0'] -> pip -> wheel -> setuptools\n",
            "networkx -> setuptools\n",
            "numpy-base -> python[version='>=2.7,<2.8.0a0,>=3.5,<3.6.0a0,>=3.6,<3.7.0a0,>=3.7,<3.8.0a0'] -> pip -> wheel -> setuptools\n",
            "pyyaml -> python[version='3.4.*,3.5.*,>=3.6,<3.7.0a0,>=3.7,<3.8.0a0'] -> pip -> wheel -> setuptools\n",
            "sqlalchemy -> python[version='3.6.*,>=2.7,<2.8.0a0,>=3.6,<3.7.0a0,>=3.7,<3.8.0a0'] -> pip -> wheel -> setuptools\n",
            "chardet -> python[version='2.7.*,3.5.*,3.6.*,>=3.7,<3.8.0a0'] -> pip -> wheel -> setuptools\n",
            "pytest-openfiles -> pytest[version='>=2.8.0,>=3.1'] -> attrs[version='>=17.2.0,>=17.4.0'] -> python[version='2.7.*,3.4.*,3.5.*,>=3.6,<3.7.0a0'] -> pip -> wheel -> setuptools\n",
            "pycurl -> python[version='>=2.7,<2.8.0a0,>=3.5,<3.6.0a0,>=3.6,<3.7.0a0,>=3.7,<3.8.0a0'] -> pip -> wheel -> setuptools\n",
            "xlwt -> python[version='2.7.*,3.5.*,3.6.*,>=2.7,<2.8.0a0'] -> pip -> wheel -> setuptools\n",
            "sympy -> setuptools\n",
            "wrapt -> python[version='3.5.*,>=2.7,<2.8.0a0,>=3.6,<3.7.0a0,>=3.7,<3.8.0a0'] -> pip -> wheel -> setuptools\n",
            "dask-cuml -> distributed[version='>=1.23.0'] -> dask[version='>=0.10.0'] -> bokeh[version='>=0.13.0'] -> pandas -> numpy[version='>=1.12.1,<2.0a0,>=1.9,>=1.9.*,>=1.9.3,<2.0a0'] -> python[version='>=3.6,<3.7.0a0,>=3.7,<3.8.0a0'] -> pip -> wheel -> setuptools\n",
            "pluggy -> python[version='>=3.5,<3.6.0a0,>=3.6,<3.7.0a0,>=3.7,<3.8.0a0'] -> pip -> wheel -> setuptools\n",
            "pytz -> python[version='3.5.*,3.6.*,>=3.6,<3.7.0a0,>=3.7,<3.8.0a0'] -> pip -> wheel -> setuptools\n",
            "flask -> jinja2[version='>=2.10,>=2.4'] -> setuptools\n",
            "unicodecsv -> python[version='2.7.*,3.6.*,>=2.7,<2.8.0a0,>=3.6,<3.7.0a0'] -> pip -> wheel -> setuptools\n",
            "sortedcollections -> sortedcontainers[version='>=2.0'] -> python[version='3.6.*,>=2.7,<2.8.0a0,>=3.5,<3.6.0a0,>=3.6,<3.7.0a0,>=3.7,<3.8.0a0'] -> pip -> wheel -> setuptools\n",
            "dask-core -> python[version='>=2.7,<2.8.0a0,>=3.5,<3.6.0a0,>=3.6,<3.7.0a0'] -> pip -> wheel -> setuptools\n",
            "filelock -> python[version='3.4.*,3.6.*,>=3.5,<3.6.0a0,>=3.6,<3.7.0a0'] -> pip -> wheel -> setuptools\n",
            "pynvml -> python[version='>=3.5'] -> pip -> wheel -> setuptools\n",
            "pytest-remotedata -> pytest[version='>=3.1'] -> attrs[version='>=17.2.0,>=17.4.0'] -> python[version='2.7.*,3.4.*,3.5.*,>=3.6,<3.7.0a0'] -> pip -> wheel -> setuptools\n",
            "scipy -> numpy[version='1.10.*,1.11.*,1.12.*,>=1.11.3,<2.0a0,>=1.9.3,<2.0a0'] -> python[version='>=2.7,<2.8.0a0,>=3.5,<3.6.0a0,>=3.6,<3.7.0a0,>=3.7,<3.8.0a0'] -> pip -> wheel -> setuptools\n",
            "json5 -> python -> pip -> wheel -> setuptools\n",
            "pandas -> numpy[version='1.10.*,>=1.12.1,<2.0a0,>=1.9,>=1.9.*,>=1.9.3,<2.0a0'] -> python[version='>=2.7,<2.8.0a0,>=3.5,<3.6.0a0,>=3.6,<3.7.0a0,>=3.7,<3.8.0a0'] -> pip -> wheel -> setuptools\n",
            "kiwisolver -> python[version='2.7.*,>=2.7,<2.8.0a0,>=3.5,<3.6.0a0,>=3.6,<3.7.0a0,>=3.7,<3.8.0a0'] -> pip -> wheel -> setuptools\n",
            "ply -> python[version='2.7.*,3.5.*,>=3.6,<3.7.0a0'] -> pip -> wheel -> setuptools\n",
            "pywavelets -> numpy[version='1.13.*,>=1.11.3,<2.0a0'] -> python[version='>=2.7,<2.8.0a0,>=3.5,<3.6.0a0,>=3.6,<3.7.0a0,>=3.7,<3.8.0a0'] -> pip -> wheel -> setuptools\n",
            "cycler -> six -> python[version='3.5.*,3.6.*,>=3.6,<3.7.0a0,>=3.7,<3.8.0a0'] -> pip -> wheel -> setuptools\n",
            "beautifulsoup4 -> soupsieve[version='>=1.2'] -> setuptools\n",
            "entrypoints -> configparser[version='>=3.5'] -> backports -> python[version='2.7.*,3.5.*,3.6.*,>=2.7,<2.8.0a0,>=3.5,<3.6.0a0,>=3.6,<3.7.0a0'] -> pip -> wheel -> setuptools\n",
            "alabaster -> python[version='2.7.*,3.6.*,>=2.7,<2.8.0a0,>=3.5,<3.6.0a0,>=3.6,<3.7.0a0,>=3.7,<3.8.0a0'] -> pip -> wheel -> setuptools\n",
            "statsmodels -> patsy[version='>=0.4.0'] -> scipy -> numpy[version='1.10.*,1.11.*,1.12.*,>=1.11.3,<2.0a0,>=1.9.3,<2.0a0'] -> python[version='>=2.7,<2.8.0a0,>=3.5,<3.6.0a0,>=3.6,<3.7.0a0,>=3.7,<3.8.0a0'] -> pip -> wheel -> setuptools\n",
            "requests -> urllib3[version='>=1.21.1,<1.24,>=1.21.1,<1.25'] -> pyopenssl[version='>=0.14'] -> cryptography[version='>=1.3.4,>=1.9,>=2.1.4,>=2.2.1'] -> cffi[version='>=1.7'] -> pycparser -> python[version='3.4.*,3.5.*,>=3.5,<3.6.0a0,>=3.6,<3.7.0a0'] -> pip -> wheel -> setuptools\n",
            "six -> python[version='3.5.*,3.6.*,>=3.6,<3.7.0a0,>=3.7,<3.8.0a0'] -> pip -> wheel -> setuptools\n",
            "lxml -> python[version='2.7.*,3.5.*,3.6.*,>=2.7,<2.8.0a0,>=3.6,<3.7.0a0'] -> pip -> wheel -> setuptools\n",
            "ipywidgets -> widgetsnbextension[version='>=1.2.6,<2,>=2.0.0,<3.0.0,>=3.1.0,<3.2.0,>=3.3.0,<3.4.0,>=3.4.0,<3.5.0'] -> notebook[version='>=4.2.0,>=4.4.1'] -> prometheus_client -> twisted -> service_identity[version='>=18.1.0'] -> attrs[version='>=16.0.0'] -> python[version='2.7.*,3.4.*,3.5.*,>=3.6,<3.7.0a0'] -> pip -> wheel -> setuptools\n",
            "spyder -> spyder-kernels[version='0.*,>=0.5.0,<1'] -> ipykernel[version='>4.9.0,>=4.8.2'] -> ipython[version='>=4.0,>=4.0.0,>=5.0'] -> jedi[version='>=0.10'] -> numpydoc -> sphinx -> requests[version='>2.0.0,>=2.0.0,>=2.5.0'] -> urllib3[version='>=1.21.1,<1.24,>=1.21.1,<1.25'] -> pyopenssl[version='>=0.14'] -> cryptography[version='>=1.3.4,>=1.9,>=2.1.4,>=2.2.1'] -> cffi[version='>=1.7'] -> pycparser -> python[version='3.5.*,>=3.5,<3.6.0a0,>=3.6,<3.7.0a0'] -> pip -> wheel -> setuptools\n",
            "jupyter_core -> traitlets -> six -> python[version='3.5.*,3.6.*,>=3.6,<3.7.0a0,>=3.7,<3.8.0a0'] -> pip -> wheel -> setuptools\n",
            "sphinxcontrib-htmlhelp -> python[version='>=3.5'] -> pip -> wheel -> setuptools\n",
            "backports.functools_lru_cache -> setuptools\n",
            "urllib3 -> pyopenssl[version='>=0.14'] -> cryptography[version='>=1.3.4,>=1.9,>=2.1.4,>=2.2.1'] -> cffi[version='>=1.7'] -> pycparser -> python[version='3.4.*,3.5.*,>=3.5,<3.6.0a0,>=3.6,<3.7.0a0'] -> pip -> wheel -> setuptools\n",
            "cython -> setuptools\n",
            "nbformat -> jupyter_core -> traitlets -> six -> python[version='3.5.*,3.6.*,>=3.6,<3.7.0a0,>=3.7,<3.8.0a0'] -> pip -> wheel -> setuptools\n",
            "sphinx -> requests[version='>2.0.0,>=2.0.0,>=2.5.0'] -> urllib3[version='>=1.21.1,<1.24,>=1.21.1,<1.25'] -> pyopenssl[version='>=0.14'] -> cryptography[version='>=1.3.4,>=1.9,>=2.1.4,>=2.2.1'] -> cffi[version='>=1.7'] -> pycparser -> python[version='3.4.*,3.5.*,>=3.5,<3.6.0a0,>=3.6,<3.7.0a0'] -> pip -> wheel -> setuptools\n",
            "cytoolz -> toolz[version='>=0.10.0,>=0.8.0'] -> python[version='3.4.*,3.5.*,>=2.7,<2.8.0a0,>=3.5,<3.6.0a0'] -> pip -> wheel -> setuptools\n",
            "py-lief -> python[version='>=2.7,<2.8.0a0,>=3.6,<3.7.0a0,>=3.7,<3.8.0a0'] -> pip -> wheel -> setuptools\n",
            "sphinxcontrib-devhelp -> python[version='>=3.5'] -> pip -> wheel -> setuptools\n",
            "send2trash -> python[version='>=2.7,<2.8.0a0,>=3.5,<3.6.0a0,>=3.6,<3.7.0a0,>=3.7,<3.8.0a0'] -> pip -> wheel -> setuptools\n",
            "olefile -> python[version='2.7.*,3.5.*,>=2.7,<2.8.0a0,>=3.6,<3.7.0a0,>=3.7,<3.8.0a0'] -> pip -> wheel -> setuptools\n",
            "conda-package-handling -> tqdm -> python[version='3.5.*,3.6.*,>=3.7,<3.8.0a0'] -> pip -> wheel -> setuptools\n",
            "numba -> numpy[version='1.15.*,>=1.11.3,<2.0a0,>=1.12,<1.13.0a0,>=1.13,<1.14.0a0,>=1.15.4,<2.0a0,>=1.9.3,<2.0a0'] -> python[version='>=2.7,<2.8.0a0,>=3.5,<3.6.0a0,>=3.6,<3.7.0a0,>=3.7,<3.8.0a0'] -> pip -> wheel -> setuptools\n",
            "keyring -> secretstorage -> cryptography -> cffi[version='>=1.7'] -> pycparser -> python[version='3.4.*,3.5.*,>=3.5,<3.6.0a0,>=3.6,<3.7.0a0'] -> pip -> wheel -> setuptools\n",
            "certifi -> python[version='2.7.*,3.4.*,>=2.7,<2.8.0a0,>=3.5,<3.6.0a0,>=3.6,<3.7.0a0,>=3.7,<3.8.0a0'] -> pip -> wheel -> setuptools\n",
            "rapidsai/label/xgboost::xgboost -> py-xgboost==0.90.rapidsdev1=cuda10.0py37_1 -> scikit-learn -> scipy -> numpy[version='1.10.*,1.11.*,1.12.*,>=1.11.3,<2.0a0,>=1.9.3,<2.0a0'] -> python[version='>=3.6,<3.7.0a0,>=3.7,<3.8.0a0'] -> pip -> wheel -> setuptools\n",
            "bokeh -> pandas -> numpy[version='1.10.*,>=1.12.1,<2.0a0,>=1.9,>=1.9.*,>=1.9.3,<2.0a0'] -> python[version='>=2.7,<2.8.0a0,>=3.5,<3.6.0a0,>=3.6,<3.7.0a0,>=3.7,<3.8.0a0'] -> pip -> wheel -> setuptools\n",
            "wcwidth -> python[version='2.7.*,3.4.*,3.5.*,3.6.*,>=2.7,<2.8.0a0,>=3.6,<3.7.0a0'] -> pip -> wheel -> setuptools\n",
            "pep8 -> python[version='3.4.*,3.5.*,3.6.*,>=2.7,<2.8.0a0,>=3.6,<3.7.0a0,>=3.7,<3.8.0a0'] -> pip -> wheel -> setuptools\n",
            "sphinxcontrib-websupport -> sphinxcontrib -> python[version='>=2.7,<2.8.0a0,>=3.5,<3.6.0a0,>=3.6,<3.7.0a0,>=3.7,<3.8.0a0'] -> pip -> wheel -> setuptools\n",
            "pyflakes -> python[version='2.7.*,3.5.*,3.6.*,>=2.7,<2.8.0a0'] -> pip -> wheel -> setuptools\n",
            "anaconda-project -> anaconda-client -> requests[version='>=2.9.1'] -> urllib3[version='>=1.21.1,<1.24,>=1.21.1,<1.25'] -> pyopenssl[version='>=0.14'] -> cryptography[version='>=1.3.4,>=1.9,>=2.1.4,>=2.2.1'] -> cffi[version='>=1.7'] -> pycparser -> python[version='3.4.*,3.5.*,>=3.5,<3.6.0a0,>=3.6,<3.7.0a0'] -> pip -> wheel -> setuptools\n",
            "spyder-kernels -> ipykernel[version='>4.9.0,>=4.8.2'] -> ipython[version='>=4.0,>=4.0.0,>=5.0'] -> jedi[version='>=0.10'] -> python[version='3.4.*,3.5.*,>=3.5,<3.6.0a0,>=3.6,<3.7.0a0'] -> pip -> wheel -> setuptools\n",
            "ipython_genutils -> python[version='2.7.*,3.4.*,>=2.7,<2.8.0a0,>=3.5,<3.6.0a0,>=3.6,<3.7.0a0'] -> pip -> wheel -> setuptools\n",
            "pytest -> attrs[version='>=17.2.0,>=17.4.0'] -> python[version='2.7.*,3.4.*,3.5.*,>=3.6,<3.7.0a0'] -> pip -> wheel -> setuptools\n",
            "_ipyw_jlab_nb_ext_conf -> jupyterlab -> notebook[version='>=4.2,>=4.3,>=4.3.1'] -> prometheus_client -> twisted -> service_identity[version='>=18.1.0'] -> attrs[version='>=16.0.0'] -> python[version='2.7.*,3.5.*,>=3.6,<3.7.0a0'] -> pip -> wheel -> setuptools\n",
            "conda-env -> python[version='2.7.*,3.4.*,3.5.*'] -> pip -> wheel -> setuptools\n",
            "tqdm -> python[version='3.5.*,3.6.*,>=3.7,<3.8.0a0'] -> pip -> wheel -> setuptools\n",
            "sortedcontainers -> python[version='3.6.*,>=2.7,<2.8.0a0,>=3.5,<3.6.0a0,>=3.6,<3.7.0a0,>=3.7,<3.8.0a0'] -> pip -> wheel -> setuptools\n",
            "wheel -> setuptools\n",
            "pygments -> setuptools\n",
            "gevent -> cffi[version='>=1.11.5,>=1.3.0'] -> pycparser -> python[version='3.5.*,>=3.5,<3.6.0a0,>=3.6,<3.7.0a0'] -> pip -> wheel -> setuptools\n",
            "pathlib2 -> six -> python[version='3.5.*,3.6.*,>=3.6,<3.7.0a0,>=3.7,<3.8.0a0'] -> pip -> wheel -> setuptools\n",
            "Package pip conflicts for:\n",
            "cryptography -> cffi[version='>=1.7'] -> pycparser -> python[version='3.5.*,>=3.5,<3.6.0a0,>=3.6,<3.7.0a0'] -> pip\n",
            "filelock -> python[version='3.4.*,3.6.*,>=3.5,<3.6.0a0,>=3.6,<3.7.0a0'] -> pip\n",
            "cffi -> pycparser -> python[version='3.4.*,3.5.*,>=3.5,<3.6.0a0,>=3.6,<3.7.0a0'] -> pip\n",
            "numpydoc -> sphinx -> requests[version='>2.0.0,>=2.0.0,>=2.5.0'] -> urllib3[version='>=1.21.1,<1.24,>=1.21.1,<1.25'] -> pyopenssl[version='>=0.14'] -> cryptography[version='>=1.3.4,>=1.9,>=2.1.4,>=2.2.1'] -> cffi[version='>=1.7'] -> pycparser -> python[version='3.4.*,3.5.*,>=3.5,<3.6.0a0,>=3.6,<3.7.0a0'] -> pip\n",
            "prometheus_client -> twisted -> service_identity[version='>=18.1.0'] -> attrs[version='>=16.0.0'] -> python[version='2.7.*,3.4.*,3.5.*,>=3.6,<3.7.0a0'] -> pip\n",
            "mkl_random -> numpy[version='>=1.11,>=1.11.3,<2.0a0,>=1.9.3,<2.0a0'] -> python[version='>=2.7,<2.8.0a0,>=3.5,<3.6.0a0,>=3.6,<3.7.0a0,>=3.7,<3.8.0a0'] -> pip\n",
            "partd -> toolz -> python[version='3.4.*,3.5.*,>=2.7,<2.8.0a0,>=3.5,<3.6.0a0'] -> pip\n",
            "patsy -> scipy -> numpy[version='1.10.*,1.11.*,1.12.*,>=1.11.3,<2.0a0,>=1.9.3,<2.0a0'] -> python[version='>=2.7,<2.8.0a0,>=3.5,<3.6.0a0,>=3.6,<3.7.0a0,>=3.7,<3.8.0a0'] -> pip\n",
            "rapidsai/label/xgboost::xgboost -> py-xgboost==0.90.rapidsdev1=cuda10.0py37_1 -> scikit-learn -> scipy -> numpy[version='1.10.*,1.11.*,1.12.*,>=1.11.3,<2.0a0,>=1.9.3,<2.0a0'] -> python[version='>=3.6,<3.7.0a0,>=3.7,<3.8.0a0'] -> pip\n",
            "pytables -> numexpr -> numpy[version='>=1.11,>=1.11.3,<2.0a0,>=1.9.3,<2.0a0'] -> python[version='>=2.7,<2.8.0a0,>=3.5,<3.6.0a0,>=3.6,<3.7.0a0,>=3.7,<3.8.0a0'] -> pip\n",
            "pyopenssl -> cryptography[version='>=1.3.4,>=1.9,>=2.1.4,>=2.2.1'] -> cffi[version='>=1.7'] -> pycparser -> python[version='3.5.*,>=3.5,<3.6.0a0,>=3.6,<3.7.0a0'] -> pip\n",
            "backports.weakref -> backports -> python[version='2.7.*,3.5.*,3.6.*,>=2.7,<2.8.0a0,>=3.5,<3.6.0a0,>=3.6,<3.7.0a0'] -> pip\n",
            "pyqt -> qt[version='5.6.*,5.9.*,>=5.6.2,<5.7.0a0,>=5.9.6,<5.10.0a0'] -> gtk2 -> gdk-pixbuf -> gobject-introspection -> python[version='>=3.7,<3.8.0a0'] -> pip\n",
            "atomicwrites -> python[version='2.7.*,>=2.7,<2.8.0a0,>=3.7,<3.8.0a0'] -> pip\n",
            "pyrsistent -> six -> python[version='3.6.*,>=3.6,<3.7.0a0,>=3.7,<3.8.0a0'] -> pip\n",
            "pytest-doctestplus -> pytest[version='>=2.8'] -> attrs[version='>=17.2.0,>=17.4.0'] -> python[version='2.7.*,3.4.*,3.5.*,>=3.6,<3.7.0a0'] -> pip\n",
            "ipykernel -> ipython[version='>=4.0,>=4.0.0,>=5.0'] -> jedi[version='>=0.10'] -> python[version='3.4.*,3.5.*,>=3.5,<3.6.0a0,>=3.6,<3.7.0a0'] -> pip\n",
            "qtawesome -> six -> python[version='3.5.*,3.6.*,>=3.6,<3.7.0a0,>=3.7,<3.8.0a0'] -> pip\n",
            "python=3.6 -> pip\n",
            "ptyprocess -> python[version='2.7.*,3.5.*,>=3.5,<3.6.0a0,>=3.6,<3.7.0a0'] -> pip\n",
            "openpyxl -> jdcal -> python[version='2.7.*,3.5.*,3.6.*,>=2.7,<2.8.0a0,>=3.6,<3.7.0a0,>=3.7,<3.8.0a0'] -> pip\n",
            "statsmodels -> patsy[version='>=0.4.0'] -> scipy -> numpy[version='1.10.*,1.11.*,1.12.*,>=1.11.3,<2.0a0,>=1.9.3,<2.0a0'] -> python[version='>=2.7,<2.8.0a0,>=3.5,<3.6.0a0,>=3.6,<3.7.0a0,>=3.7,<3.8.0a0'] -> pip\n",
            "wrapt -> python[version='3.5.*,>=2.7,<2.8.0a0,>=3.6,<3.7.0a0,>=3.7,<3.8.0a0'] -> pip\n",
            "backports.functools_lru_cache -> setuptools -> certifi[version='>=2016.09'] -> python[version='2.7.*,3.4.*,>=2.7,<2.8.0a0,>=3.5,<3.6.0a0,>=3.6,<3.7.0a0,>=3.7,<3.8.0a0'] -> pip\n",
            "cycler -> six -> python[version='3.5.*,3.6.*,>=3.6,<3.7.0a0,>=3.7,<3.8.0a0'] -> pip\n",
            "pytz -> python[version='3.5.*,3.6.*,>=3.6,<3.7.0a0,>=3.7,<3.8.0a0'] -> pip\n",
            "terminado -> tornado[version='>=4'] -> ssl_match_hostname -> backports -> python[version='2.7.*,3.5.*,3.6.*,>=2.7,<2.8.0a0,>=3.5,<3.6.0a0,>=3.6,<3.7.0a0'] -> pip\n",
            "keyring -> secretstorage -> cryptography -> cffi[version='>=1.7'] -> pycparser -> python[version='3.4.*,3.5.*,>=3.5,<3.6.0a0,>=3.6,<3.7.0a0'] -> pip\n",
            "itsdangerous -> python[version='3.5.*,>=2.7,<2.8.0a0,>=3.6,<3.7.0a0,>=3.7,<3.8.0a0'] -> pip\n",
            "snowballstemmer -> python[version='2.7.*,3.5.*,>=3.6,<3.7.0a0'] -> pip\n",
            "secretstorage -> cryptography -> cffi[version='>=1.7'] -> pycparser -> python[version='3.5.*,>=3.5,<3.6.0a0,>=3.6,<3.7.0a0'] -> pip\n",
            "beautifulsoup4 -> soupsieve[version='>=1.2'] -> setuptools -> certifi[version='>=2016.09'] -> python[version='2.7.*,>=2.7,<2.8.0a0,>=3.5,<3.6.0a0,>=3.6,<3.7.0a0,>=3.7,<3.8.0a0'] -> pip\n",
            "webencodings -> python[version='3.5.*,3.6.*,>=2.7,<2.8.0a0,>=3.5,<3.6.0a0,>=3.6,<3.7.0a0'] -> pip\n",
            "sqlalchemy -> python[version='3.6.*,>=2.7,<2.8.0a0,>=3.6,<3.7.0a0,>=3.7,<3.8.0a0'] -> pip\n",
            "lxml -> python[version='2.7.*,3.5.*,3.6.*,>=2.7,<2.8.0a0,>=3.6,<3.7.0a0'] -> pip\n",
            "path.py -> importlib_metadata[version='>=0.5'] -> pathlib2 -> six -> python[version='3.5.*,3.6.*,>=3.6,<3.7.0a0,>=3.7,<3.8.0a0'] -> pip\n",
            "zstd -> lz4 -> python[version='>=3.6,<3.7.0a0'] -> pip\n",
            "babel -> pytz -> python[version='3.5.*,3.6.*,>=3.6,<3.7.0a0,>=3.7,<3.8.0a0'] -> pip\n",
            "bleach -> setuptools -> certifi[version='>=2016.09'] -> python[version='2.7.*,3.4.*,>=2.7,<2.8.0a0,>=3.5,<3.6.0a0,>=3.6,<3.7.0a0,>=3.7,<3.8.0a0'] -> pip\n",
            "ipython -> jedi[version='>=0.10'] -> python[version='3.4.*,3.5.*,>=3.5,<3.6.0a0,>=3.6,<3.7.0a0'] -> pip\n",
            "python-libarchive-c -> python[version='>=2.7,<2.8.0a0,>=3.6,<3.7.0a0,>=3.7,<3.8.0a0'] -> pip\n",
            "cloudpickle -> python[version='3.5.*,>=3.5,<3.6.0a0,>=3.7,<3.8.0a0'] -> pip\n",
            "rapidsai/label/xgboost::xgboost -> py-xgboost==0.90.rapidsdev1=cuda10.0py36_1 -> scikit-learn -> scipy -> numpy[version='1.10.*,1.11.*,1.12.*,>=1.11.3,<2.0a0,>=1.9.3,<2.0a0'] -> python[version='>=3.6,<3.7.0a0,>=3.7,<3.8.0a0'] -> pip\n",
            "jsonschema -> attrs[version='>=17.4.0'] -> python[version='2.7.*,3.4.*,3.5.*,>=3.6,<3.7.0a0'] -> pip\n",
            "sphinxcontrib-devhelp -> python[version='>=3.5'] -> pip\n",
            "pynvml -> python[version='>=3.5'] -> pip\n",
            "sphinxcontrib-htmlhelp -> python[version='>=3.5'] -> pip\n",
            "msgpack-python -> python[version='2.7.*,3.5.*,3.6.*,>=2.7,<2.8.0a0,>=3.6,<3.7.0a0,>=3.7,<3.8.0a0'] -> pip\n",
            "pysocks -> python[version='2.7.*,3.6.*,>=2.7,<2.8.0a0,>=3.6,<3.7.0a0,>=3.7,<3.8.0a0'] -> pip\n",
            "html5lib -> webencodings -> python[version='3.5.*,3.6.*,>=2.7,<2.8.0a0,>=3.5,<3.6.0a0,>=3.6,<3.7.0a0'] -> pip\n",
            "entrypoints -> configparser[version='>=3.5'] -> backports -> python[version='2.7.*,3.5.*,3.6.*,>=2.7,<2.8.0a0,>=3.5,<3.6.0a0,>=3.6,<3.7.0a0'] -> pip\n",
            "pycparser -> python[version='3.4.*,3.5.*,>=3.5,<3.6.0a0,>=3.6,<3.7.0a0'] -> pip\n",
            "spyder -> spyder-kernels[version='0.*,>=0.5.0,<1'] -> ipykernel[version='>4.9.0,>=4.8.2'] -> ipython[version='>=4.0,>=4.0.0,>=5.0'] -> jedi[version='>=0.10'] -> numpydoc -> sphinx -> requests[version='>2.0.0,>=2.0.0,>=2.5.0'] -> urllib3[version='>=1.21.1,<1.24,>=1.21.1,<1.25'] -> pyopenssl[version='>=0.14'] -> cryptography[version='>=1.3.4,>=1.9,>=2.1.4,>=2.2.1'] -> cffi[version='>=1.7'] -> pycparser -> python[version='3.5.*,>=3.5,<3.6.0a0,>=3.6,<3.7.0a0'] -> pip\n",
            "blosc -> zstd[version='>=1.3.7,<1.3.8.0a0'] -> lz4 -> python[version='>=3.6,<3.7.0a0'] -> pip\n",
            "anaconda-navigator -> anaconda-project[version='>=0.4'] -> anaconda-client -> requests[version='>=2.9.1'] -> urllib3[version='>=1.21.1,<1.24,>=1.21.1,<1.25'] -> pyopenssl[version='>=0.14'] -> cryptography[version='>=1.3.4,>=1.9,>=2.1.4,>=2.2.1'] -> cffi[version='>=1.7'] -> pycparser -> python[version='3.5.*,>=3.5,<3.6.0a0,>=3.6,<3.7.0a0'] -> pip\n",
            "dask -> distributed[version='>=1.11.0,>=1.16.0,>=1.20.0,>=1.21.0,>=1.23.3,>=1.27.0'] -> bokeh -> pandas -> numpy[version='1.10.*,>=1.12.1,<2.0a0,>=1.9,>=1.9.*,>=1.9.3,<2.0a0'] -> python[version='>=2.7,<2.8.0a0,>=3.5,<3.6.0a0,>=3.6,<3.7.0a0,>=3.7,<3.8.0a0'] -> pip\n",
            "pandocfilters -> python[version='2.7.*,3.4.*,3.5.*,3.6.*,>=2.7,<2.8.0a0,>=3.7,<3.8.0a0'] -> pip\n",
            "mpmath -> gmpy2 -> python[version='3.4.*,3.5.*,3.6.*,>=2.7,<2.8.0a0,>=3.5,<3.6.0a0,>=3.7,<3.8.0a0'] -> pip\n",
            "pywavelets -> numpy[version='1.13.*,>=1.11.3,<2.0a0'] -> python[version='>=2.7,<2.8.0a0,>=3.5,<3.6.0a0,>=3.6,<3.7.0a0,>=3.7,<3.8.0a0'] -> pip\n",
            "scipy -> numpy[version='1.10.*,1.11.*,1.12.*,>=1.11.3,<2.0a0,>=1.9.3,<2.0a0'] -> python[version='>=2.7,<2.8.0a0,>=3.5,<3.6.0a0,>=3.6,<3.7.0a0,>=3.7,<3.8.0a0'] -> pip\n",
            "conda-env -> python[version='2.7.*,3.4.*,3.5.*'] -> pip\n",
            "mkl_fft -> numpy[version='>=1.11,>=1.11.3,<2.0a0'] -> python[version='>=2.7,<2.8.0a0,>=3.5,<3.6.0a0,>=3.6,<3.7.0a0,>=3.7,<3.8.0a0'] -> pip\n",
            "pyzmq -> python[version='3.6.*,>=2.7,<2.8.0a0,>=3.5,<3.6.0a0,>=3.6,<3.7.0a0,>=3.7,<3.8.0a0'] -> pip\n",
            "mistune -> python[version='>=2.7,<2.8.0a0,>=3.5,<3.6.0a0,>=3.6,<3.7.0a0,>=3.7,<3.8.0a0'] -> pip\n",
            "zict -> heapdict -> python[version='2.7.*,3.4.*,>=2.7,<2.8.0a0,>=3.5,<3.6.0a0,>=3.6,<3.7.0a0,>=3.7,<3.8.0a0'] -> pip\n",
            "idna -> python[version='2.7.*,3.5.*,>=2.7,<2.8.0a0,>=3.6,<3.7.0a0,>=3.7,<3.8.0a0'] -> pip\n",
            "json5 -> python -> pip\n",
            "sortedcontainers -> python[version='3.6.*,>=2.7,<2.8.0a0,>=3.5,<3.6.0a0,>=3.6,<3.7.0a0,>=3.7,<3.8.0a0'] -> pip\n",
            "more-itertools -> six[version='>=1.0.0,<2.0.0'] -> python[version='3.5.*,3.6.*,>=3.6,<3.7.0a0,>=3.7,<3.8.0a0'] -> pip\n",
            "qtpy -> python[version='2.7.*,3.6.*,>=2.7,<2.8.0a0,>=3.5,<3.6.0a0,>=3.6,<3.7.0a0'] -> pip\n",
            "gevent -> cffi[version='>=1.11.5,>=1.3.0'] -> pycparser -> python[version='3.5.*,>=3.5,<3.6.0a0,>=3.6,<3.7.0a0'] -> pip\n",
            "pyodbc -> python[version='>=3.5,<3.6.0a0,>=3.6,<3.7.0a0,>=3.7,<3.8.0a0'] -> pip\n",
            "ruamel_yaml -> setuptools -> certifi[version='>=2016.09'] -> python[version='2.7.*,3.4.*,>=2.7,<2.8.0a0,>=3.5,<3.6.0a0,>=3.6,<3.7.0a0,>=3.7,<3.8.0a0'] -> pip\n",
            "rapidsai/label/xgboost::xgboost -> py-xgboost==0.90.rapidsdev1=cuda9.2py36_1 -> scikit-learn -> scipy -> numpy[version='1.10.*,1.11.*,1.12.*,>=1.11.3,<2.0a0,>=1.9.3,<2.0a0'] -> python[version='>=3.6,<3.7.0a0,>=3.7,<3.8.0a0'] -> pip\n",
            "sphinxcontrib-applehelp -> python[version='>=3.5'] -> pip\n",
            "pyflakes -> python[version='2.7.*,3.5.*,3.6.*,>=2.7,<2.8.0a0'] -> pip\n",
            "parso -> python[version='>=2.7,<2.8.0a0,>=3.6,<3.7.0a0,>=3.7,<3.8.0a0'] -> pip\n",
            "qt -> gtk2 -> gdk-pixbuf -> gobject-introspection -> python[version='>=3.7,<3.8.0a0'] -> pip\n",
            "h5py -> numpy[version='1.12.*,1.13.*,>=1.8,>=1.9.3,<2.0a0'] -> python[version='>=2.7,<2.8.0a0,>=3.5,<3.6.0a0,>=3.6,<3.7.0a0,>=3.7,<3.8.0a0'] -> pip\n",
            "bokeh -> pandas -> numpy[version='1.10.*,>=1.12.1,<2.0a0,>=1.9,>=1.9.*,>=1.9.3,<2.0a0'] -> python[version='>=2.7,<2.8.0a0,>=3.5,<3.6.0a0,>=3.6,<3.7.0a0,>=3.7,<3.8.0a0'] -> pip\n",
            "pillow -> olefile -> python[version='2.7.*,3.5.*,>=2.7,<2.8.0a0,>=3.6,<3.7.0a0,>=3.7,<3.8.0a0'] -> pip\n",
            "networkx -> setuptools -> certifi[version='>=2016.09'] -> python[version='2.7.*,3.4.*,>=2.7,<2.8.0a0,>=3.5,<3.6.0a0,>=3.6,<3.7.0a0,>=3.7,<3.8.0a0'] -> pip\n",
            "flask -> jinja2[version='>=2.10,>=2.4'] -> setuptools -> certifi[version='>=2016.09'] -> python[version='2.7.*,3.4.*,>=2.7,<2.8.0a0,>=3.5,<3.6.0a0,>=3.6,<3.7.0a0,>=3.7,<3.8.0a0'] -> pip\n",
            "astroid -> backports.functools_lru_cache -> setuptools -> certifi[version='>=2016.09'] -> python[version='2.7.*,3.4.*,>=2.7,<2.8.0a0,>=3.5,<3.6.0a0,>=3.6,<3.7.0a0,>=3.7,<3.8.0a0'] -> pip\n",
            "send2trash -> python[version='>=2.7,<2.8.0a0,>=3.5,<3.6.0a0,>=3.6,<3.7.0a0,>=3.7,<3.8.0a0'] -> pip\n",
            "et_xmlfile -> python[version='3.5.*,3.6.*,>=2.7,<2.8.0a0,>=3.5,<3.6.0a0,>=3.6,<3.7.0a0,>=3.7,<3.8.0a0'] -> pip\n",
            "llvmlite -> python[version='3.5.*,>=2.7,<2.8.0a0,>=3.5,<3.6.0a0,>=3.6,<3.7.0a0,>=3.7,<3.8.0a0'] -> pip\n",
            "scikit-image -> dask[version='>=0.5'] -> distributed[version='>=1.11.0,>=1.16.0,>=1.20.0,>=1.21.0,>=1.23.3,>=1.27.0'] -> bokeh -> pandas -> numpy[version='1.10.*,>=1.12.1,<2.0a0,>=1.9,>=1.9.*,>=1.9.3,<2.0a0'] -> python[version='>=2.7,<2.8.0a0,>=3.5,<3.6.0a0,>=3.6,<3.7.0a0,>=3.7,<3.8.0a0'] -> pip\n",
            "multipledispatch -> six -> python[version='3.5.*,3.6.*,>=3.6,<3.7.0a0,>=3.7,<3.8.0a0'] -> pip\n",
            "distributed -> dask[version='>=0.10.0'] -> bokeh[version='>=0.13.0'] -> pandas -> numpy[version='1.10.*,>=1.12.1,<2.0a0,>=1.9,>=1.9.*,>=1.9.3,<2.0a0'] -> python[version='>=2.7,<2.8.0a0,>=3.5,<3.6.0a0,>=3.6,<3.7.0a0,>=3.7,<3.8.0a0'] -> pip\n",
            "mock -> pbr[version='>=1.3'] -> pip\n",
            "ipywidgets -> widgetsnbextension[version='>=1.2.6,<2,>=2.0.0,<3.0.0,>=3.1.0,<3.2.0,>=3.3.0,<3.4.0,>=3.4.0,<3.5.0'] -> notebook[version='>=4.2.0,>=4.4.1'] -> prometheus_client -> twisted -> service_identity[version='>=18.1.0'] -> attrs[version='>=16.0.0'] -> python[version='2.7.*,3.4.*,3.5.*,>=3.6,<3.7.0a0'] -> pip\n",
            "sphinxcontrib-websupport -> sphinxcontrib -> python[version='>=2.7,<2.8.0a0,>=3.5,<3.6.0a0,>=3.6,<3.7.0a0,>=3.7,<3.8.0a0'] -> pip\n",
            "sip -> python[version='2.7.*,3.6.*,>=2.7,<2.8.0a0,>=3.6,<3.7.0a0,>=3.7,<3.8.0a0'] -> pip\n",
            "numpy-base -> python[version='>=2.7,<2.8.0a0,>=3.5,<3.6.0a0,>=3.6,<3.7.0a0,>=3.7,<3.8.0a0'] -> pip\n",
            "tblib -> python[version='3.6.*,>=2.7,<2.8.0a0,>=3.6,<3.7.0a0,>=3.7,<3.8.0a0'] -> pip\n",
            "attrs -> hypothesis -> coverage -> python[version='2.7.*,3.4.*,3.5.*,>=3.6,<3.7.0a0'] -> pip\n",
            "nose -> setuptools -> certifi[version='>=2016.09'] -> python[version='2.7.*,3.4.*,>=2.7,<2.8.0a0,>=3.5,<3.6.0a0,>=3.6,<3.7.0a0,>=3.7,<3.8.0a0'] -> pip\n",
            "psutil -> python[version='>=2.7,<2.8.0a0,>=3.5,<3.6.0a0,>=3.6,<3.7.0a0,>=3.7,<3.8.0a0'] -> pip\n",
            "cuml -> libcuml[version='0.7.0.dev0.*,0.8.0a.*,0.9.0a.*'] -> cudf[version='0.7.*,0.8.*,0.9.*'] -> pyarrow=0.12.1 -> parquet-cpp=1.5.1 -> arrow-cpp[version='>=0.11.0,>=0.11.1,<0.12.0a0,>=0.12.0,>=0.12.0,<0.13.0a0'] -> numpy[version='>=1.11.3,<2.0a0,>=1.14,<2.0a0'] -> python[version='>=3.6,<3.7.0a0,>=3.7,<3.8.0a0'] -> pip\n",
            "werkzeug -> python[version='2.7.*,3.6.*,>=3.6,<3.7.0a0'] -> pip\n",
            "wcwidth -> python[version='2.7.*,3.4.*,3.5.*,3.6.*,>=2.7,<2.8.0a0,>=3.6,<3.7.0a0'] -> pip\n",
            "sphinxcontrib-serializinghtml -> python[version='>=3.5'] -> pip\n",
            "backports -> python[version='2.7.*,3.5.*,3.6.*,>=2.7,<2.8.0a0,>=3.5,<3.6.0a0,>=3.6,<3.7.0a0'] -> pip\n",
            "wheel -> setuptools -> certifi[version='>=2016.09'] -> python[version='2.7.*,3.4.*,>=2.7,<2.8.0a0,>=3.5,<3.6.0a0,>=3.6,<3.7.0a0,>=3.7,<3.8.0a0'] -> pip\n",
            "pytest-astropy -> pytest[version='>=3.1,>=3.1.0'] -> attrs[version='>=17.2.0,>=17.4.0'] -> python[version='2.7.*,3.4.*,3.5.*,>=3.6,<3.7.0a0'] -> pip\n",
            "unicodecsv -> python[version='2.7.*,3.6.*,>=2.7,<2.8.0a0,>=3.6,<3.7.0a0'] -> pip\n",
            "pickleshare -> pathlib2 -> six -> python[version='3.5.*,3.6.*,>=3.6,<3.7.0a0,>=3.7,<3.8.0a0'] -> pip\n",
            "pytest-arraydiff -> pytest -> attrs[version='>=17.2.0,>=17.4.0'] -> python[version='2.7.*,3.4.*,3.5.*,>=3.6,<3.7.0a0'] -> pip\n",
            "lazy-object-proxy -> python[version='2.7.*,3.5.*,3.6.*,>=2.7,<2.8.0a0,>=3.6,<3.7.0a0,>=3.7,<3.8.0a0'] -> pip\n",
            "backports.os -> future -> python[version='3.5.*,>=2.7,<2.8.0a0,>=3.5,<3.6.0a0,>=3.6,<3.7.0a0'] -> pip\n",
            "conda-build -> conda[version='>=4.3'] -> requests[version='>=2.12.4,<3,>=2.18.4,<3'] -> urllib3[version='>=1.21.1,<1.24,>=1.21.1,<1.25'] -> pyopenssl[version='>=0.14'] -> cryptography[version='>=1.3.4,>=1.9,>=2.1.4,>=2.2.1'] -> cffi[version='>=1.7'] -> pycparser -> python[version='3.4.*,3.5.*,>=3.5,<3.6.0a0,>=3.6,<3.7.0a0'] -> pip\n",
            "mkl-service -> numpy[version='>=1.11.3,<2.0a0'] -> python[version='>=2.7,<2.8.0a0,>=3.5,<3.6.0a0,>=3.6,<3.7.0a0,>=3.7,<3.8.0a0'] -> pip\n",
            "pylint -> astroid[version='>=1.4.5,<1.5.0,>=1.5.1,>=2.0.0,>=2.2.0'] -> backports.functools_lru_cache -> setuptools -> certifi[version='>=2016.09'] -> python[version='2.7.*,3.4.*,>=2.7,<2.8.0a0,>=3.5,<3.6.0a0,>=3.6,<3.7.0a0,>=3.7,<3.8.0a0'] -> pip\n",
            "jdcal -> python[version='2.7.*,3.5.*,3.6.*,>=2.7,<2.8.0a0,>=3.6,<3.7.0a0,>=3.7,<3.8.0a0'] -> pip\n",
            "jupyter -> notebook -> prometheus_client -> twisted -> service_identity[version='>=18.1.0'] -> attrs[version='>=16.0.0'] -> python[version='2.7.*,3.5.*,>=3.6,<3.7.0a0'] -> pip\n",
            "dask-core -> python[version='>=2.7,<2.8.0a0,>=3.5,<3.6.0a0,>=3.6,<3.7.0a0'] -> pip\n",
            "anaconda-client -> requests[version='>=2.9.1'] -> urllib3[version='>=1.21.1,<1.24,>=1.21.1,<1.25'] -> pyopenssl[version='>=0.14'] -> cryptography[version='>=1.3.4,>=1.9,>=2.1.4,>=2.2.1'] -> cffi[version='>=1.7'] -> pycparser -> python[version='3.4.*,3.5.*,>=3.5,<3.6.0a0,>=3.6,<3.7.0a0'] -> pip\n",
            "cudf -> pyarrow=0.12.1 -> parquet-cpp=1.5.1 -> arrow-cpp[version='>=0.11.0,>=0.11.1,<0.12.0a0,>=0.12.0,>=0.12.0,<0.13.0a0'] -> numpy[version='>=1.11.3,<2.0a0,>=1.14,<2.0a0'] -> python[version='>=3.6,<3.7.0a0,>=3.7,<3.8.0a0'] -> pip\n",
            "numpy -> python[version='>=2.7,<2.8.0a0,>=3.5,<3.6.0a0,>=3.6,<3.7.0a0,>=3.7,<3.8.0a0'] -> pip\n",
            "pandas -> numpy[version='1.10.*,>=1.12.1,<2.0a0,>=1.9,>=1.9.*,>=1.9.3,<2.0a0'] -> python[version='>=2.7,<2.8.0a0,>=3.5,<3.6.0a0,>=3.6,<3.7.0a0,>=3.7,<3.8.0a0'] -> pip\n",
            "glob2 -> python[version='2.7.*,3.5.*,>=2.7,<2.8.0a0,>=3.5,<3.6.0a0,>=3.7,<3.8.0a0'] -> pip\n",
            "rope -> python[version='3.5.*,3.6.*,>=2.7,<2.8.0a0,>=3.5,<3.6.0a0,>=3.6,<3.7.0a0'] -> pip\n",
            "_ipyw_jlab_nb_ext_conf -> jupyterlab -> notebook[version='>=4.2,>=4.3,>=4.3.1'] -> prometheus_client -> twisted -> service_identity[version='>=18.1.0'] -> attrs[version='>=16.0.0'] -> python[version='2.7.*,3.5.*,>=3.6,<3.7.0a0'] -> pip\n",
            "pathlib2 -> six -> python[version='3.5.*,3.6.*,>=3.6,<3.7.0a0,>=3.7,<3.8.0a0'] -> pip\n",
            "jeepney -> python[version='>=3.5,>=3.5,<3.6.0a0,>=3.6,<3.7.0a0,>=3.7,<3.8.0a0'] -> pip\n",
            "bkcharts -> pandas -> numpy[version='1.10.*,>=1.12.1,<2.0a0,>=1.9,>=1.9.*,>=1.9.3,<2.0a0'] -> python[version='>=2.7,<2.8.0a0,>=3.5,<3.6.0a0,>=3.6,<3.7.0a0,>=3.7,<3.8.0a0'] -> pip\n",
            "cugraph -> cudf[version='0.7.*,0.8.*,0.9.*'] -> pyarrow=0.12.1 -> parquet-cpp=1.5.1 -> arrow-cpp[version='>=0.11.0,>=0.11.1,<0.12.0a0,>=0.12.0,>=0.12.0,<0.13.0a0'] -> numpy[version='>=1.11.3,<2.0a0,>=1.14,<2.0a0'] -> python[version='>=3.6,<3.7.0a0,>=3.7,<3.8.0a0'] -> pip\n",
            "click -> python[version='2.7.*,3.4.*,3.5.*,>=2.7,<2.8.0a0,>=3.6,<3.7.0a0,>=3.7,<3.8.0a0'] -> pip\n",
            "simplegeneric -> python[version='>=2.7,<2.8.0a0,>=3.5,<3.6.0a0,>=3.6,<3.7.0a0,>=3.7,<3.8.0a0'] -> pip\n",
            "pkginfo -> python[version='2.7.*,3.5.*,3.6.*,>=3.5,<3.6.0a0'] -> pip\n",
            "bitarray -> python[version='3.6.*,>=2.7,<2.8.0a0,>=3.5,<3.6.0a0,>=3.6,<3.7.0a0,>=3.7,<3.8.0a0'] -> pip\n",
            "dask-cudf -> distributed[version='>=1.23.0,>=2.0.0'] -> dask[version='>=0.10.0'] -> bokeh[version='>=0.13.0'] -> pandas -> numpy[version='>=1.12.1,<2.0a0,>=1.9,>=1.9.*,>=1.9.3,<2.0a0'] -> python[version='>=3.6,<3.7.0a0,>=3.7,<3.8.0a0'] -> pip\n",
            "backports.tempfile -> backports.weakref -> backports -> python[version='2.7.*,3.5.*,3.6.*,>=2.7,<2.8.0a0,>=3.5,<3.6.0a0,>=3.6,<3.7.0a0'] -> pip\n",
            "nbconvert -> nbformat[version='>=4.4'] -> jupyter_core -> traitlets -> six -> python[version='3.5.*,3.6.*,>=3.6,<3.7.0a0,>=3.7,<3.8.0a0'] -> pip\n",
            "xlwt -> python[version='2.7.*,3.5.*,3.6.*,>=2.7,<2.8.0a0'] -> pip\n",
            "dask-cuml -> distributed[version='>=1.23.0'] -> dask[version='>=0.10.0'] -> bokeh[version='>=0.13.0'] -> pandas -> numpy[version='>=1.12.1,<2.0a0,>=1.9,>=1.9.*,>=1.9.3,<2.0a0'] -> python[version='>=3.6,<3.7.0a0,>=3.7,<3.8.0a0'] -> pip\n",
            "colorama -> python[version='3.6.*,>=3.6,<3.7.0a0,>=3.7,<3.8.0a0'] -> pip\n",
            "pycodestyle -> python[version='2.7.*,3.4.*,3.5.*,>=2.7,<2.8.0a0,>=3.5,<3.6.0a0'] -> pip\n",
            "alabaster -> python[version='2.7.*,3.6.*,>=2.7,<2.8.0a0,>=3.5,<3.6.0a0,>=3.6,<3.7.0a0,>=3.7,<3.8.0a0'] -> pip\n",
            "pluggy -> python[version='>=3.5,<3.6.0a0,>=3.6,<3.7.0a0,>=3.7,<3.8.0a0'] -> pip\n",
            "sphinxcontrib -> python[version='>=2.7,<2.8.0a0,>=3.5,<3.6.0a0,>=3.6,<3.7.0a0,>=3.7,<3.8.0a0'] -> pip\n",
            "joblib -> python[version='2.7.*,3.5.*,>=2.7,<2.8.0a0,>=3.5,<3.6.0a0'] -> pip\n",
            "spyder-kernels -> ipykernel[version='>4.9.0,>=4.8.2'] -> ipython[version='>=4.0,>=4.0.0,>=5.0'] -> jedi[version='>=0.10'] -> python[version='3.4.*,3.5.*,>=3.5,<3.6.0a0,>=3.6,<3.7.0a0'] -> pip\n",
            "libarchive -> zstd[version='>=1.3.3,<1.3.4.0a0'] -> lz4 -> python[version='>=3.6,<3.7.0a0'] -> pip\n",
            "setuptools -> certifi[version='>=2016.09'] -> python[version='2.7.*,3.4.*,>=2.7,<2.8.0a0,>=3.5,<3.6.0a0,>=3.6,<3.7.0a0,>=3.7,<3.8.0a0'] -> pip\n",
            "py-lief -> python[version='>=2.7,<2.8.0a0,>=3.6,<3.7.0a0,>=3.7,<3.8.0a0'] -> pip\n",
            "backcall -> python[version='>=2.7,<2.8.0a0,>=3.5,<3.6.0a0,>=3.6,<3.7.0a0,>=3.7,<3.8.0a0'] -> pip\n",
            "heapdict -> python[version='2.7.*,3.4.*,>=2.7,<2.8.0a0,>=3.5,<3.6.0a0,>=3.6,<3.7.0a0,>=3.7,<3.8.0a0'] -> pip\n",
            "pyyaml -> python[version='3.4.*,3.5.*,>=3.6,<3.7.0a0,>=3.7,<3.8.0a0'] -> pip\n",
            "kiwisolver -> python[version='2.7.*,>=2.7,<2.8.0a0,>=3.5,<3.6.0a0,>=3.6,<3.7.0a0,>=3.7,<3.8.0a0'] -> pip\n",
            "chardet -> python[version='2.7.*,3.5.*,3.6.*,>=3.7,<3.8.0a0'] -> pip\n",
            "imageio -> numpy -> python[version='>=2.7,<2.8.0a0,>=3.5,<3.6.0a0,>=3.6,<3.7.0a0,>=3.7,<3.8.0a0'] -> pip\n",
            "toolz -> python[version='3.4.*,3.5.*,>=2.7,<2.8.0a0,>=3.5,<3.6.0a0'] -> pip\n",
            "bottleneck -> numpy[version='1.10.*,1.11.*,>=1.11.3,<2.0a0,>=1.9.3,<2.0a0'] -> python[version='>=2.7,<2.8.0a0,>=3.5,<3.6.0a0,>=3.6,<3.7.0a0,>=3.7,<3.8.0a0'] -> pip\n",
            "importlib_metadata -> pathlib2 -> six -> python[version='3.5.*,3.6.*,>=3.6,<3.7.0a0,>=3.7,<3.8.0a0'] -> pip\n",
            "pytest-openfiles -> pytest[version='>=2.8.0,>=3.1'] -> attrs[version='>=17.2.0,>=17.4.0'] -> python[version='2.7.*,3.4.*,3.5.*,>=3.6,<3.7.0a0'] -> pip\n",
            "backports.shutil_get_terminal_size -> backports -> python[version='2.7.*,3.5.*,3.6.*,>=2.7,<2.8.0a0,>=3.5,<3.6.0a0,>=3.6,<3.7.0a0'] -> pip\n",
            "fastcache -> python[version='>=2.7,<2.8.0a0,>=3.5,<3.6.0a0,>=3.6,<3.7.0a0,>=3.7,<3.8.0a0'] -> pip\n",
            "pyparsing -> python[version='2.7.*,3.5.*,>=3.5,<3.6.0a0,>=3.6,<3.7.0a0,>=3.7,<3.8.0a0'] -> pip\n",
            "olefile -> python[version='2.7.*,3.5.*,>=2.7,<2.8.0a0,>=3.6,<3.7.0a0,>=3.7,<3.8.0a0'] -> pip\n",
            "jupyter_core -> traitlets -> six -> python[version='3.5.*,3.6.*,>=3.6,<3.7.0a0,>=3.7,<3.8.0a0'] -> pip\n",
            "sphinxcontrib-jsmath -> python[version='>=3.5'] -> pip\n",
            "conda[version='>=4.7.10'] -> requests[version='>=2.12.4,<3,>=2.18.4,<3'] -> urllib3[version='>=1.21.1,<1.24,>=1.21.1,<1.25'] -> pyopenssl[version='>=0.14'] -> cryptography[version='>=1.3.4,>=1.9,>=2.1.4,>=2.2.1'] -> cffi[version='>=1.7'] -> pycparser -> python[version='>=3.6,<3.7.0a0'] -> pip\n",
            "sphinx -> requests[version='>2.0.0,>=2.0.0,>=2.5.0'] -> urllib3[version='>=1.21.1,<1.24,>=1.21.1,<1.25'] -> pyopenssl[version='>=0.14'] -> cryptography[version='>=1.3.4,>=1.9,>=2.1.4,>=2.2.1'] -> cffi[version='>=1.7'] -> pycparser -> python[version='3.4.*,3.5.*,>=3.5,<3.6.0a0,>=3.6,<3.7.0a0'] -> pip\n",
            "navigator-updater -> pyqt[version='>=5.6'] -> qt[version='5.6.*,5.9.*,>=5.6.2,<5.7.0a0,>=5.9.6,<5.10.0a0'] -> gtk2 -> gdk-pixbuf -> gobject-introspection -> python[version='>=3.7,<3.8.0a0'] -> pip\n",
            "pycurl -> python[version='>=2.7,<2.8.0a0,>=3.5,<3.6.0a0,>=3.6,<3.7.0a0,>=3.7,<3.8.0a0'] -> pip\n",
            "matplotlib -> matplotlib-base==2.2.3=py27h60b886d_1 -> numpy[version='>=1.11.3,<2.0a0,>=1.14.6,<2.0a0,>=1.9.3,<2.0a0'] -> python[version='>=2.7,<2.8.0a0,>=3.5,<3.6.0a0,>=3.6,<3.7.0a0,>=3.7,<3.8.0a0'] -> pip\n",
            "jupyterlab -> notebook[version='>=4.2,>=4.3,>=4.3.1'] -> prometheus_client -> twisted -> service_identity[version='>=18.1.0'] -> attrs[version='>=16.0.0'] -> python[version='2.7.*,3.4.*,3.5.*,>=3.6,<3.7.0a0'] -> pip\n",
            "rapidsai/label/xgboost::xgboost -> py-xgboost==0.83.dev43=py37he6ff8a9_1 -> scikit-learn -> scipy -> numpy[version='1.10.*,1.11.*,1.12.*,>=1.11.3,<2.0a0,>=1.9.3,<2.0a0'] -> python[version='>=3.6,<3.7.0a0,>=3.7,<3.8.0a0'] -> pip\n",
            "zipp -> python[version='>=2.7,<2.8.0a0,>=3.6,<3.7.0a0'] -> pip\n",
            "testpath -> pathlib2 -> six -> python[version='3.5.*,3.6.*,>=3.6,<3.7.0a0,>=3.7,<3.8.0a0'] -> pip\n",
            "jupyterlab_server -> notebook -> prometheus_client -> twisted -> service_identity[version='>=18.1.0'] -> attrs[version='>=16.0.0'] -> python[version='3.5.*,>=3.6,<3.7.0a0'] -> pip\n",
            "jedi -> numpydoc -> sphinx -> requests[version='>2.0.0,>=2.0.0,>=2.5.0'] -> urllib3[version='>=1.21.1,<1.24,>=1.21.1,<1.25'] -> pyopenssl[version='>=0.14'] -> cryptography[version='>=1.3.4,>=1.9,>=2.1.4,>=2.2.1'] -> cffi[version='>=1.7'] -> pycparser -> python[version='3.4.*,3.5.*,>=3.5,<3.6.0a0,>=3.6,<3.7.0a0'] -> pip\n",
            "gcsfs -> google-auth-oauthlib -> requests-oauthlib[version='>=0.7.0,>=0.7.0,<1dev'] -> requests[version='>=2.0.0'] -> urllib3[version='>=1.21.1,<1.24,>=1.21.1,<1.25'] -> pyopenssl[version='>=0.14'] -> cryptography[version='>=1.3.4,>=1.9,>=2.1.4,>=2.2.1'] -> cffi[version='>=1.7'] -> pycparser -> python[version='3.4.*,3.5.*,>=3.5,<3.6.0a0,>=3.6,<3.7.0a0'] -> pip\n",
            "tqdm -> python[version='3.5.*,3.6.*,>=3.7,<3.8.0a0'] -> pip\n",
            "pexpect -> ptyprocess[version='>=0.5'] -> python[version='2.7.*,3.5.*,>=3.5,<3.6.0a0,>=3.6,<3.7.0a0'] -> pip\n",
            "asn1crypto -> python[version='3.5.*,3.6.*,>=2.7,<2.8.0a0,>=3.5,<3.6.0a0,>=3.6,<3.7.0a0,>=3.7,<3.8.0a0'] -> pip\n",
            "sphinxcontrib-qthelp -> python[version='>=3.5'] -> pip\n",
            "widgetsnbextension -> notebook[version='>=4.2.0,>=4.4.1'] -> prometheus_client -> twisted -> service_identity[version='>=18.1.0'] -> attrs[version='>=16.0.0'] -> python[version='2.7.*,3.4.*,3.5.*,>=3.6,<3.7.0a0'] -> pip\n",
            "packaging -> six -> python[version='3.5.*,3.6.*,>=3.6,<3.7.0a0,>=3.7,<3.8.0a0'] -> pip\n",
            "requests -> urllib3[version='>=1.21.1,<1.24,>=1.21.1,<1.25'] -> pyopenssl[version='>=0.14'] -> cryptography[version='>=1.3.4,>=1.9,>=2.1.4,>=2.2.1'] -> cffi[version='>=1.7'] -> pycparser -> python[version='3.4.*,3.5.*,>=3.5,<3.6.0a0,>=3.6,<3.7.0a0'] -> pip\n",
            "cytoolz -> toolz[version='>=0.10.0,>=0.8.0'] -> python[version='3.4.*,3.5.*,>=2.7,<2.8.0a0,>=3.5,<3.6.0a0'] -> pip\n",
            "contextlib2 -> python[version='3.4.*,3.5.*,3.6.*,>=2.7,<2.8.0a0,>=3.6,<3.7.0a0'] -> pip\n",
            "sympy -> setuptools -> certifi[version='>=2016.09'] -> python[version='2.7.*,>=2.7,<2.8.0a0,>=3.5,<3.6.0a0,>=3.6,<3.7.0a0,>=3.7,<3.8.0a0'] -> pip\n",
            "astropy -> pytest[version='<3.7'] -> attrs[version='>=17.2.0,>=17.4.0'] -> python[version='2.7.*,3.5.*,>=3.6,<3.7.0a0'] -> pip\n",
            "defusedxml -> python[version='2.7.*,3.4.*,3.5.*,>=2.7,<2.8.0a0,>=3.5,<3.6.0a0,>=3.6,<3.7.0a0'] -> pip\n",
            "greenlet -> python[version='3.5.*,3.6.*,>=3.5,<3.6.0a0,>=3.6,<3.7.0a0,>=3.7,<3.8.0a0'] -> pip\n",
            "traitlets -> six -> python[version='3.5.*,3.6.*,>=3.6,<3.7.0a0,>=3.7,<3.8.0a0'] -> pip\n",
            "jinja2 -> setuptools -> certifi[version='>=2016.09'] -> python[version='2.7.*,3.4.*,>=2.7,<2.8.0a0,>=3.5,<3.6.0a0,>=3.6,<3.7.0a0,>=3.7,<3.8.0a0'] -> pip\n",
            "qtconsole -> ipykernel[version='>=4.1'] -> ipython[version='>=4.0,>=4.0.0,>=5.0'] -> jedi[version='>=0.10'] -> python[version='3.5.*,>=3.5,<3.6.0a0,>=3.6,<3.7.0a0'] -> pip\n",
            "singledispatch -> six -> python[version='3.5.*,3.6.*,>=3.6,<3.7.0a0,>=3.7,<3.8.0a0'] -> pip\n",
            "numba -> numpy[version='1.15.*,>=1.11.3,<2.0a0,>=1.12,<1.13.0a0,>=1.13,<1.14.0a0,>=1.15.4,<2.0a0,>=1.9.3,<2.0a0'] -> python[version='>=2.7,<2.8.0a0,>=3.5,<3.6.0a0,>=3.6,<3.7.0a0,>=3.7,<3.8.0a0'] -> pip\n",
            "numexpr -> numpy[version='>=1.11,>=1.11.3,<2.0a0,>=1.9.3,<2.0a0'] -> python[version='>=2.7,<2.8.0a0,>=3.5,<3.6.0a0,>=3.6,<3.7.0a0,>=3.7,<3.8.0a0'] -> pip\n",
            "decorator -> python[version='2.7.*,3.4.*,3.5.*,3.6.*,>=2.7,<2.8.0a0,>=3.6,<3.7.0a0,>=3.7,<3.8.0a0'] -> pip\n",
            "xlsxwriter -> python[version='3.5.*,>=2.7,<2.8.0a0,>=3.5,<3.6.0a0,>=3.6,<3.7.0a0'] -> pip\n",
            "mccabe -> python[version='2.7.*,3.5.*,3.6.*,>=3.6,<3.7.0a0'] -> pip\n",
            "jupyter_console -> ipykernel -> ipython[version='>=4.0,>=4.0.0,>=5.0'] -> jedi[version='>=0.10'] -> python[version='3.4.*,3.5.*,>=3.5,<3.6.0a0,>=3.6,<3.7.0a0'] -> pip\n",
            "python-dateutil -> six[version='>=1.5'] -> python[version='3.5.*,3.6.*,>=3.6,<3.7.0a0,>=3.7,<3.8.0a0'] -> pip\n",
            "rapidsai/label/xgboost::xgboost -> py-xgboost==0.90.rapidsdev1=cuda9.2py37_1 -> scikit-learn -> scipy -> numpy[version='1.10.*,1.11.*,1.12.*,>=1.11.3,<2.0a0,>=1.9.3,<2.0a0'] -> python[version='>=3.6,<3.7.0a0,>=3.7,<3.8.0a0'] -> pip\n",
            "markupsafe -> python[version='3.4.*,>=2.7,<2.8.0a0,>=3.5,<3.6.0a0,>=3.6,<3.7.0a0,>=3.7,<3.8.0a0'] -> pip\n",
            "gmpy2 -> python[version='3.4.*,3.5.*,3.6.*,>=2.7,<2.8.0a0,>=3.5,<3.6.0a0,>=3.7,<3.8.0a0'] -> pip\n",
            "anaconda-project -> anaconda-client -> requests[version='>=2.9.1'] -> urllib3[version='>=1.21.1,<1.24,>=1.21.1,<1.25'] -> pyopenssl[version='>=0.14'] -> cryptography[version='>=1.3.4,>=1.9,>=2.1.4,>=2.2.1'] -> cffi[version='>=1.7'] -> pycparser -> python[version='3.4.*,3.5.*,>=3.5,<3.6.0a0,>=3.6,<3.7.0a0'] -> pip\n",
            "sortedcollections -> sortedcontainers[version='>=2.0'] -> python[version='3.6.*,>=2.7,<2.8.0a0,>=3.5,<3.6.0a0,>=3.6,<3.7.0a0,>=3.7,<3.8.0a0'] -> pip\n",
            "nltk -> singledispatch -> six -> python[version='3.5.*,3.6.*,>=3.6,<3.7.0a0,>=3.7,<3.8.0a0'] -> pip\n",
            "conda-package-handling -> tqdm -> python[version='3.5.*,3.6.*,>=3.7,<3.8.0a0'] -> pip\n",
            "rapidsai/label/xgboost::xgboost -> py-xgboost==0.90.rapidsdev1=py37he6ff8a9_1 -> scikit-learn -> scipy -> numpy[version='1.10.*,1.11.*,1.12.*,>=1.11.3,<2.0a0,>=1.9.3,<2.0a0'] -> python[version='>=3.6,<3.7.0a0,>=3.7,<3.8.0a0'] -> pip\n",
            "conda-verify -> jinja2 -> setuptools -> certifi[version='>=2016.09'] -> python[version='2.7.*,3.4.*,>=2.7,<2.8.0a0,>=3.5,<3.6.0a0,>=3.6,<3.7.0a0,>=3.7,<3.8.0a0'] -> pip\n",
            "matplotlib -> matplotlib-base==3.1.1=py36he7580a8_1 -> numpy[version='>=1.11.3,<2.0a0,>=1.14.6,<2.0a0,>=1.9.3,<2.0a0'] -> python[version='>=2.7,<2.8.0a0,>=3.5,<3.6.0a0,>=3.6,<3.7.0a0,>=3.7,<3.8.0a0'] -> pip\n",
            "py -> python[version='2.7.*,3.6.*,>=2.7,<2.8.0a0,>=3.5,<3.6.0a0'] -> pip\n",
            "jupyter_client -> tornado -> python[version='2.7.*,3.5.*,3.6.*,>=2.7,<2.8.0a0,>=3.5,<3.6.0a0,>=3.6,<3.7.0a0'] -> pip\n",
            "imagesize -> python[version='2.7.*,>=2.7,<2.8.0a0,>=3.5,<3.6.0a0,>=3.6,<3.7.0a0,>=3.7,<3.8.0a0'] -> pip\n",
            "get_terminal_size -> backports.shutil_get_terminal_size -> backports -> python[version='2.7.*,3.5.*,3.6.*,>=2.7,<2.8.0a0,>=3.5,<3.6.0a0,>=3.6,<3.7.0a0'] -> pip\n",
            "boto -> python[version='>=2.7,<2.8.0a0,>=3.6,<3.7.0a0,>=3.7,<3.8.0a0'] -> pip\n",
            "pep8 -> python[version='3.4.*,3.5.*,3.6.*,>=2.7,<2.8.0a0,>=3.6,<3.7.0a0,>=3.7,<3.8.0a0'] -> pip\n",
            "tornado -> ssl_match_hostname -> backports -> python[version='2.7.*,3.5.*,3.6.*,>=2.7,<2.8.0a0,>=3.5,<3.6.0a0,>=3.6,<3.7.0a0'] -> pip\n",
            "scikit-learn -> scipy -> numpy[version='1.10.*,1.11.*,1.12.*,>=1.11.3,<2.0a0,>=1.9.3,<2.0a0'] -> python[version='>=2.7,<2.8.0a0,>=3.5,<3.6.0a0,>=3.6,<3.7.0a0,>=3.7,<3.8.0a0'] -> pip\n",
            "future -> python[version='3.4.*,3.5.*,>=2.7,<2.8.0a0,>=3.5,<3.6.0a0,>=3.6,<3.7.0a0'] -> pip\n",
            "seaborn -> statsmodels[version='>=0.5.0'] -> patsy[version='>=0.4.0'] -> scipy -> numpy[version='1.10.*,1.11.*,1.12.*,>=1.11.3,<2.0a0,>=1.9.3,<2.0a0'] -> python[version='>=2.7,<2.8.0a0,>=3.5,<3.6.0a0,>=3.6,<3.7.0a0,>=3.7,<3.8.0a0'] -> pip\n",
            "prompt_toolkit -> pygments -> setuptools -> certifi[version='>=2016.09'] -> python[version='2.7.*,3.4.*,>=2.7,<2.8.0a0,>=3.5,<3.6.0a0,>=3.6,<3.7.0a0,>=3.7,<3.8.0a0'] -> pip\n",
            "pygments -> setuptools -> certifi[version='>=2016.09'] -> python[version='2.7.*,3.4.*,>=2.7,<2.8.0a0,>=3.5,<3.6.0a0,>=3.6,<3.7.0a0,>=3.7,<3.8.0a0'] -> pip\n",
            "soupsieve -> backports.functools_lru_cache -> setuptools -> certifi[version='>=2016.09'] -> python[version='2.7.*,>=2.7,<2.8.0a0,>=3.6,<3.7.0a0,>=3.7,<3.8.0a0'] -> pip\n",
            "nbformat -> jupyter_core -> traitlets -> six -> python[version='3.5.*,3.6.*,>=3.6,<3.7.0a0,>=3.7,<3.8.0a0'] -> pip\n",
            "certifi -> python[version='2.7.*,3.4.*,>=2.7,<2.8.0a0,>=3.5,<3.6.0a0,>=3.6,<3.7.0a0,>=3.7,<3.8.0a0'] -> pip\n",
            "clyent -> setuptools -> certifi[version='>=2016.09'] -> python[version='2.7.*,3.4.*,>=2.7,<2.8.0a0,>=3.5,<3.6.0a0,>=3.6,<3.7.0a0,>=3.7,<3.8.0a0'] -> pip\n",
            "six -> python[version='3.5.*,3.6.*,>=3.6,<3.7.0a0,>=3.7,<3.8.0a0'] -> pip\n",
            "anaconda==2019.07=py37_0 -> prometheus_client==0.7.1=py_0 -> attrs[version='>=16.0.0'] -> pip\n",
            "isort -> setuptools -> certifi[version='>=2016.09'] -> python[version='2.7.*,3.4.*,>=2.7,<2.8.0a0,>=3.5,<3.6.0a0,>=3.6,<3.7.0a0,>=3.7,<3.8.0a0'] -> pip\n",
            "notebook -> prometheus_client -> twisted -> service_identity[version='>=18.1.0'] -> attrs[version='>=16.0.0'] -> python[version='2.7.*,3.4.*,3.5.*,>=3.6,<3.7.0a0'] -> pip\n",
            "locket -> python[version='3.4.*,3.5.*,>=2.7,<2.8.0a0,>=3.5,<3.6.0a0,>=3.6,<3.7.0a0,>=3.7,<3.8.0a0'] -> pip\n",
            "pycrypto -> python[version='2.7.*,3.5.*,3.6.*,>=2.7,<2.8.0a0,>=3.6,<3.7.0a0'] -> pip\n",
            "rapidsai/label/xgboost::xgboost -> py-xgboost==0.90.rapidsdev1=py36he6ff8a9_1 -> scikit-learn -> scipy -> numpy[version='1.10.*,1.11.*,1.12.*,>=1.11.3,<2.0a0,>=1.9.3,<2.0a0'] -> python[version='>=3.6,<3.7.0a0,>=3.7,<3.8.0a0'] -> pip\n",
            "wurlitzer -> python[version='>=2.7,<2.8.0a0,>=3.6,<3.7.0a0,>=3.7,<3.8.0a0'] -> pip\n",
            "pycosat -> python[version='2.7.*,3.5.*,>=2.7,<2.8.0a0,>=3.5,<3.6.0a0,>=3.7,<3.8.0a0'] -> pip\n",
            "pytest -> attrs[version='>=17.2.0,>=17.4.0'] -> python[version='2.7.*,3.4.*,3.5.*,>=3.6,<3.7.0a0'] -> pip\n",
            "urllib3 -> pyopenssl[version='>=0.14'] -> cryptography[version='>=1.3.4,>=1.9,>=2.1.4,>=2.2.1'] -> cffi[version='>=1.7'] -> pycparser -> python[version='3.4.*,3.5.*,>=3.5,<3.6.0a0,>=3.6,<3.7.0a0'] -> pip\n",
            "cython -> setuptools -> certifi[version='>=2016.09'] -> python[version='2.7.*,3.4.*,>=2.7,<2.8.0a0,>=3.5,<3.6.0a0,>=3.6,<3.7.0a0,>=3.7,<3.8.0a0'] -> pip\n",
            "docutils -> python[version='2.7.*,3.6.*,>=2.7,<2.8.0a0,>=3.6,<3.7.0a0,>=3.7,<3.8.0a0'] -> pip\n",
            "xlrd -> python[version='2.7.*,3.6.*,>=2.7,<2.8.0a0,>=3.5,<3.6.0a0,>=3.6,<3.7.0a0,>=3.7,<3.8.0a0'] -> pip\n",
            "ply -> python[version='2.7.*,3.5.*,>=3.6,<3.7.0a0'] -> pip\n",
            "pytest-remotedata -> pytest[version='>=3.1'] -> attrs[version='>=17.2.0,>=17.4.0'] -> python[version='2.7.*,3.4.*,3.5.*,>=3.6,<3.7.0a0'] -> pip\n",
            "ipython_genutils -> python[version='2.7.*,3.4.*,>=2.7,<2.8.0a0,>=3.5,<3.6.0a0,>=3.6,<3.7.0a0'] -> pip\n",
            "Package cryptography conflicts for:\n",
            "conda-build -> conda[version='>=4.1,<4.4,>=4.3'] -> requests[version='>=2.12.4,<3,>=2.14.2,<3,>=2.18.4,<3'] -> urllib3[version='>=1.21.1,<1.22,>=1.21.1,<1.23,>=1.21.1,<1.24,>=1.21.1,<1.25'] -> pyopenssl[version='>=0.14'] -> cryptography[version='>=1.3.4,>=1.9,>=2.1.4,>=2.2.1']\n",
            "notebook -> prometheus_client -> twisted -> service_identity -> pyopenssl[version='>=0.12'] -> cryptography[version='>=1.3.4,>=1.9,>=2.1.4,>=2.2.1']\n",
            "anaconda-client -> requests[version='>=2.0,>=2.9.1'] -> urllib3[version='>=1.21.1,<1.22,>=1.21.1,<1.23,>=1.21.1,<1.24,>=1.21.1,<1.25'] -> pyopenssl[version='>=0.14'] -> cryptography[version='>=1.3.4,>=1.9,>=2.1.4,>=2.2.1']\n",
            "jupyter -> ipywidgets -> widgetsnbextension[version='>=1.2.3,>=1.2.6,>=1.2.6,<2,>=3.1.0,<3.2.0,>=3.1.0,<4.0,>=3.3.0,<3.4.0'] -> notebook[version='>=4.2.0,>=4.4.1'] -> prometheus_client -> twisted -> service_identity -> pyopenssl[version='>=0.12'] -> cryptography[version='>=1.3.4,>=1.9,>=2.1.4,>=2.2.1']\n",
            "anaconda-navigator -> anaconda-project[version='>=0.4'] -> anaconda-client -> requests[version='>=2.0,>=2.9.1'] -> urllib3[version='>=1.21.1,<1.22,>=1.21.1,<1.23,>=1.21.1,<1.24,>=1.21.1,<1.25'] -> pyopenssl[version='>=0.14'] -> cryptography[version='>=1.3.4,>=1.9,>=2.1.4,>=2.2.1']\n",
            "_ipyw_jlab_nb_ext_conf -> jupyterlab -> jupyterlab_launcher[version='>=0.10.0,<0.11.0,>=0.11.2,<0.12.0,>=0.2.3'] -> notebook -> prometheus_client -> twisted -> service_identity -> pyopenssl[version='>=0.12'] -> cryptography[version='>=1.3.4,>=1.9,>=2.1.4,>=2.2.1']\n",
            "prometheus_client -> twisted -> service_identity -> pyopenssl[version='>=0.12'] -> cryptography[version='>=1.3.4,>=1.9,>=2.1.4,>=2.2.1']\n",
            "ipywidgets -> widgetsnbextension[version='>=1.2.3,>=1.2.6,>=1.2.6,<2,>=3.1.0,<3.2.0,>=3.1.0,<4.0,>=3.3.0,<3.4.0'] -> notebook[version='>=4.2.0,>=4.4.1'] -> prometheus_client -> twisted -> service_identity -> pyopenssl[version='>=0.12'] -> cryptography[version='>=1.3.4,>=1.9,>=2.1.4,>=2.2.1']\n",
            "pyopenssl -> cryptography[version='>=1.3.4,>=1.9,>=2.1.4,>=2.2.1']\n",
            "dask -> distributed[version='>=1.11.0,>=1.16.0,>=1.22.0,>=1.26.0,>=1.27.0'] -> s3fs[version='>=0.0.6'] -> boto3 -> s3transfer[version='>=0.1.10,<0.2.0,>=0.2.0,<0.3.0'] -> botocore[version='>=1.12.36,<2.0.0,>=1.3.0,<2.0.0'] -> urllib3[version='>=1.20,<1.24'] -> pyopenssl[version='>=0.14'] -> cryptography[version='>=1.3.4,>=1.9,>=2.1.4,>=2.2.1']\n",
            "anaconda-project -> anaconda-client -> requests[version='>=2.0,>=2.9.1'] -> urllib3[version='>=1.21.1,<1.22,>=1.21.1,<1.23,>=1.21.1,<1.24,>=1.21.1,<1.25'] -> pyopenssl[version='>=0.14'] -> cryptography[version='>=1.3.4,>=1.9,>=2.1.4,>=2.2.1']\n",
            "jupyterlab -> jupyterlab_launcher[version='>=0.10.0,<0.11.0,>=0.11.2,<0.12.0,>=0.2.3'] -> notebook -> prometheus_client -> twisted -> service_identity -> pyopenssl[version='>=0.12'] -> cryptography[version='>=1.3.4,>=1.9,>=2.1.4,>=2.2.1']\n",
            "secretstorage -> cryptography\n",
            "jupyterlab_server -> notebook -> prometheus_client -> twisted -> service_identity -> pyopenssl[version='>=0.12'] -> cryptography[version='>=1.3.4,>=1.9,>=2.1.4,>=2.2.1']\n",
            "anaconda==2019.07=py37_0 -> distributed==2.1.0=py_0 -> pyopenssl[version='>=0.14'] -> cryptography[version='>=1.3.4,>=1.9,>=2.1.4,>=2.2.1']\n",
            "numpydoc -> sphinx -> requests[version='>=2.0.0,>=2.5.0'] -> urllib3[version='>=1.21.1,<1.22,>=1.21.1,<1.23,>=1.21.1,<1.24,>=1.21.1,<1.25'] -> pyopenssl[version='>=0.14'] -> cryptography[version='>=1.3.4,>=1.9,>=2.1.4,>=2.2.1']\n",
            "widgetsnbextension -> notebook[version='>=4.2.0,>=4.4.1'] -> prometheus_client -> twisted -> service_identity -> pyopenssl[version='>=0.12'] -> cryptography[version='>=1.3.4,>=1.9,>=2.1.4,>=2.2.1']\n",
            "conda[version='>=4.7.10'] -> requests[version='>=2.12.4,<3,>=2.14.2,<3,>=2.18.4,<3'] -> urllib3[version='>=1.21.1,<1.22,>=1.21.1,<1.23,>=1.21.1,<1.24,>=1.21.1,<1.25'] -> pyopenssl[version='>=0.14'] -> cryptography[version='>=1.3.4,>=1.9,>=2.1.4,>=2.2.1']\n",
            "urllib3 -> pyopenssl[version='>=0.14'] -> cryptography[version='>=1.3.4,>=1.9,>=2.1.4,>=2.2.1']\n",
            "sphinx -> requests[version='>=2.0.0,>=2.5.0'] -> urllib3[version='>=1.21.1,<1.22,>=1.21.1,<1.23,>=1.21.1,<1.24,>=1.21.1,<1.25'] -> pyopenssl[version='>=0.14'] -> cryptography[version='>=1.3.4,>=1.9,>=2.1.4,>=2.2.1']\n",
            "keyring -> secretstorage -> cryptography\n",
            "gcsfs -> google-auth-oauthlib -> requests-oauthlib[version='>=0.7.0,>=0.7.0,<1dev'] -> oauthlib[version='>=0.6.2'] -> pyjwt[version='>=1.0.0'] -> cryptography[version='>=1.0,>=1.4']\n",
            "requests -> urllib3[version='>=1.21.1,<1.22,>=1.21.1,<1.23,>=1.21.1,<1.24,>=1.21.1,<1.25'] -> pyopenssl[version='>=0.14'] -> cryptography[version='>=1.3.4,>=1.9,>=2.1.4,>=2.2.1']\n",
            "spyder -> numpydoc -> sphinx -> requests[version='>=2.0.0,>=2.5.0'] -> urllib3[version='>=1.21.1,<1.22,>=1.21.1,<1.23,>=1.21.1,<1.24,>=1.21.1,<1.25'] -> pyopenssl[version='>=0.14'] -> cryptography[version='>=1.3.4,>=1.9,>=2.1.4,>=2.2.1']\n",
            "scikit-image -> dask[version='>=0.5'] -> distributed[version='>=1.11.0,>=1.16.0,>=1.22.0,>=1.26.0,>=1.27.0'] -> s3fs[version='>=0.0.6'] -> boto3 -> s3transfer[version='>=0.1.10,<0.2.0,>=0.2.0,<0.3.0'] -> botocore[version='>=1.12.36,<2.0.0,>=1.3.0,<2.0.0'] -> urllib3[version='>=1.20,<1.24'] -> pyopenssl[version='>=0.14'] -> cryptography[version='>=1.3.4,>=1.9,>=2.1.4,>=2.2.1']\n",
            "distributed -> s3fs[version='>=0.0.6'] -> boto3 -> s3transfer[version='>=0.1.10,<0.2.0,>=0.2.0,<0.3.0'] -> botocore[version='>=1.12.36,<2.0.0,>=1.3.0,<2.0.0'] -> urllib3[version='>=1.20,<1.24'] -> pyopenssl[version='>=0.14'] -> cryptography[version='>=1.3.4,>=1.9,>=2.1.4,>=2.2.1']\n",
            "Package certifi conflicts for:\n",
            "mkl-service -> numpy[version='>=1.11.3,<2.0a0'] -> python[version='>=2.7,<2.8.0a0,>=3.5,<3.6.0a0,>=3.6,<3.7.0a0,>=3.7,<3.8.0a0'] -> pip -> wheel -> setuptools -> certifi[version='>=2016.09']\n",
            "defusedxml -> python[version='2.7.*,3.4.*,3.5.*,>=2.7,<2.8.0a0,>=3.5,<3.6.0a0,>=3.6,<3.7.0a0'] -> pip -> wheel -> setuptools -> certifi[version='>=2016.09']\n",
            "lxml -> python[version='2.7.*,3.5.*,3.6.*,>=2.7,<2.8.0a0,>=3.6,<3.7.0a0'] -> pip -> wheel -> setuptools -> certifi[version='>=2016.09']\n",
            "ipywidgets -> widgetsnbextension[version='>=1.2.6,<2,>=2.0.0,<3.0.0,>=3.1.0,<3.2.0,>=3.3.0,<3.4.0,>=3.4.0,<3.5.0'] -> notebook[version='>=4.2.0,>=4.4.1'] -> prometheus_client -> twisted -> service_identity[version='>=18.1.0'] -> attrs[version='>=16.0.0'] -> python[version='2.7.*,3.4.*,3.5.*,>=3.6,<3.7.0a0'] -> pip -> wheel -> setuptools -> certifi[version='>=2016.09']\n",
            "pyqt -> qt[version='5.6.*,5.9.*,>=5.6.2,<5.7.0a0,>=5.9.6,<5.10.0a0'] -> gtk2 -> gdk-pixbuf -> gobject-introspection -> python[version='>=3.7,<3.8.0a0'] -> pip -> wheel -> setuptools -> certifi[version='>=2016.09']\n",
            "jeepney -> python[version='>=3.5,>=3.5,<3.6.0a0,>=3.6,<3.7.0a0,>=3.7,<3.8.0a0'] -> pip -> wheel -> setuptools -> certifi[version='>=2016.09']\n",
            "spyder-kernels -> ipykernel[version='>4.9.0,>=4.8.2'] -> ipython[version='>=4.0,>=4.0.0,>=5.0'] -> jedi[version='>=0.10'] -> python[version='3.4.*,3.5.*,>=3.5,<3.6.0a0,>=3.6,<3.7.0a0'] -> pip -> wheel -> setuptools -> certifi[version='>=2016.09']\n",
            "mkl_fft -> numpy[version='>=1.11,>=1.11.3,<2.0a0'] -> python[version='>=2.7,<2.8.0a0,>=3.5,<3.6.0a0,>=3.6,<3.7.0a0,>=3.7,<3.8.0a0'] -> pip -> wheel -> setuptools -> certifi[version='>=2016.09']\n",
            "bottleneck -> numpy[version='1.10.*,1.11.*,>=1.11.3,<2.0a0,>=1.9.3,<2.0a0'] -> python[version='>=2.7,<2.8.0a0,>=3.5,<3.6.0a0,>=3.6,<3.7.0a0,>=3.7,<3.8.0a0'] -> pip -> wheel -> setuptools -> certifi[version='>=2016.09']\n",
            "spyder -> spyder-kernels[version='0.*,>=0.5.0,<1'] -> ipykernel[version='>4.9.0,>=4.8.2'] -> ipython[version='>=4.0,>=4.0.0,>=5.0'] -> jedi[version='>=0.10'] -> numpydoc -> sphinx -> requests[version='>2.0.0,>=2.0.0,>=2.5.0'] -> urllib3[version='>=1.21.1,<1.24,>=1.21.1,<1.25'] -> pyopenssl[version='>=0.14'] -> cryptography[version='>=1.3.4,>=1.9,>=2.1.4,>=2.2.1'] -> cffi[version='>=1.7'] -> pycparser -> python[version='3.5.*,>=3.5,<3.6.0a0,>=3.6,<3.7.0a0'] -> pip -> wheel -> setuptools -> certifi[version='>=2016.09']\n",
            "idna -> python[version='2.7.*,3.5.*,>=2.7,<2.8.0a0,>=3.6,<3.7.0a0,>=3.7,<3.8.0a0'] -> pip -> wheel -> setuptools -> certifi[version='>=2016.09']\n",
            "scikit-image -> dask[version='>=0.5'] -> distributed[version='>=1.11.0,>=1.16.0,>=1.20.0,>=1.21.0,>=1.23.3,>=1.27.0'] -> bokeh -> pandas -> numpy[version='1.10.*,>=1.12.1,<2.0a0,>=1.9,>=1.9.*,>=1.9.3,<2.0a0'] -> python[version='>=2.7,<2.8.0a0,>=3.5,<3.6.0a0,>=3.6,<3.7.0a0,>=3.7,<3.8.0a0'] -> pip -> wheel -> setuptools -> certifi[version='>=2016.09']\n",
            "dask-core -> python[version='>=2.7,<2.8.0a0,>=3.5,<3.6.0a0,>=3.6,<3.7.0a0'] -> pip -> wheel -> setuptools -> certifi[version='>=2016.09']\n",
            "numpy-base -> python[version='>=2.7,<2.8.0a0,>=3.5,<3.6.0a0,>=3.6,<3.7.0a0,>=3.7,<3.8.0a0'] -> pip -> wheel -> setuptools -> certifi[version='>=2016.09']\n",
            "pycurl -> python[version='>=2.7,<2.8.0a0,>=3.5,<3.6.0a0,>=3.6,<3.7.0a0,>=3.7,<3.8.0a0'] -> pip -> wheel -> setuptools -> certifi[version='>=2016.09']\n",
            "et_xmlfile -> python[version='3.5.*,3.6.*,>=2.7,<2.8.0a0,>=3.5,<3.6.0a0,>=3.6,<3.7.0a0,>=3.7,<3.8.0a0'] -> pip -> wheel -> setuptools -> certifi[version='>=2016.09']\n",
            "importlib_metadata -> pathlib2 -> six -> python[version='3.5.*,3.6.*,>=3.6,<3.7.0a0,>=3.7,<3.8.0a0'] -> pip -> wheel -> setuptools -> certifi[version='>=2016.09']\n",
            "fastcache -> python[version='>=2.7,<2.8.0a0,>=3.5,<3.6.0a0,>=3.6,<3.7.0a0,>=3.7,<3.8.0a0'] -> pip -> wheel -> setuptools -> certifi[version='>=2016.09']\n",
            "clyent -> setuptools -> certifi[version='>=2016.09']\n",
            "bleach -> setuptools -> certifi[version='>=2016.09']\n",
            "bokeh -> pandas -> numpy[version='1.10.*,>=1.12.1,<2.0a0,>=1.9,>=1.9.*,>=1.9.3,<2.0a0'] -> python[version='>=2.7,<2.8.0a0,>=3.5,<3.6.0a0,>=3.6,<3.7.0a0,>=3.7,<3.8.0a0'] -> pip -> wheel -> setuptools -> certifi[version='>=2016.09']\n",
            "rope -> python[version='3.5.*,3.6.*,>=2.7,<2.8.0a0,>=3.5,<3.6.0a0,>=3.6,<3.7.0a0'] -> pip -> wheel -> setuptools -> certifi[version='>=2016.09']\n",
            "sortedcollections -> sortedcontainers[version='>=2.0'] -> python[version='3.6.*,>=2.7,<2.8.0a0,>=3.5,<3.6.0a0,>=3.6,<3.7.0a0,>=3.7,<3.8.0a0'] -> pip -> wheel -> setuptools -> certifi[version='>=2016.09']\n",
            "mock -> pbr[version='>=1.3'] -> pip -> wheel -> setuptools -> certifi[version='>=2016.09']\n",
            "colorama -> python[version='3.6.*,>=3.6,<3.7.0a0,>=3.7,<3.8.0a0'] -> pip -> wheel -> setuptools -> certifi[version='>=2016.09']\n",
            "backports.os -> future -> python[version='3.5.*,>=2.7,<2.8.0a0,>=3.5,<3.6.0a0,>=3.6,<3.7.0a0'] -> pip -> wheel -> setuptools -> certifi[version='>=2016.09']\n",
            "rapidsai/label/xgboost::xgboost -> py-xgboost==0.90.rapidsdev1=cuda9.2py37_1 -> scikit-learn -> scipy -> numpy[version='1.10.*,1.11.*,1.12.*,>=1.11.3,<2.0a0,>=1.9.3,<2.0a0'] -> python[version='>=3.6,<3.7.0a0,>=3.7,<3.8.0a0'] -> pip -> wheel -> setuptools -> certifi[version='>=2016.09']\n",
            "sortedcontainers -> python[version='3.6.*,>=2.7,<2.8.0a0,>=3.5,<3.6.0a0,>=3.6,<3.7.0a0,>=3.7,<3.8.0a0'] -> pip -> wheel -> setuptools -> certifi[version='>=2016.09']\n",
            "qtawesome -> six -> python[version='3.5.*,3.6.*,>=3.6,<3.7.0a0,>=3.7,<3.8.0a0'] -> pip -> wheel -> setuptools -> certifi[version='>=2016.09']\n",
            "rapidsai/label/xgboost::xgboost -> py-xgboost==0.90.rapidsdev1=cuda9.2py36_1 -> scikit-learn -> scipy -> numpy[version='1.10.*,1.11.*,1.12.*,>=1.11.3,<2.0a0,>=1.9.3,<2.0a0'] -> python[version='>=3.6,<3.7.0a0,>=3.7,<3.8.0a0'] -> pip -> wheel -> setuptools -> certifi[version='>=2016.09']\n",
            "pexpect -> ptyprocess[version='>=0.5'] -> python[version='2.7.*,3.5.*,>=3.5,<3.6.0a0,>=3.6,<3.7.0a0'] -> pip -> wheel -> setuptools -> certifi[version='>=2016.09']\n",
            "json5 -> python -> pip -> wheel -> setuptools -> certifi[version='>=2016.09']\n",
            "distributed -> dask[version='>=0.10.0'] -> bokeh[version='>=0.13.0'] -> pandas -> numpy[version='1.10.*,>=1.12.1,<2.0a0,>=1.9,>=1.9.*,>=1.9.3,<2.0a0'] -> python[version='>=2.7,<2.8.0a0,>=3.5,<3.6.0a0,>=3.6,<3.7.0a0,>=3.7,<3.8.0a0'] -> pip -> wheel -> setuptools -> certifi[version='>=2016.09']\n",
            "toolz -> python[version='3.4.*,3.5.*,>=2.7,<2.8.0a0,>=3.5,<3.6.0a0'] -> pip -> wheel -> setuptools -> certifi[version='>=2016.09']\n",
            "msgpack-python -> python[version='2.7.*,3.5.*,3.6.*,>=2.7,<2.8.0a0,>=3.6,<3.7.0a0,>=3.7,<3.8.0a0'] -> pip -> wheel -> setuptools -> certifi[version='>=2016.09']\n",
            "h5py -> numpy[version='1.12.*,1.13.*,>=1.8,>=1.9.3,<2.0a0'] -> python[version='>=2.7,<2.8.0a0,>=3.5,<3.6.0a0,>=3.6,<3.7.0a0,>=3.7,<3.8.0a0'] -> pip -> wheel -> setuptools -> certifi[version='>=2016.09']\n",
            "dask-cudf -> distributed[version='>=1.23.0,>=2.0.0'] -> dask[version='>=0.10.0'] -> bokeh[version='>=0.13.0'] -> pandas -> numpy[version='>=1.12.1,<2.0a0,>=1.9,>=1.9.*,>=1.9.3,<2.0a0'] -> python[version='>=3.6,<3.7.0a0,>=3.7,<3.8.0a0'] -> pip -> wheel -> setuptools -> certifi[version='>=2016.09']\n",
            "pytest-openfiles -> pytest[version='>=2.8.0,>=3.1'] -> attrs[version='>=17.2.0,>=17.4.0'] -> python[version='2.7.*,3.4.*,3.5.*,>=3.6,<3.7.0a0'] -> pip -> wheel -> setuptools -> certifi[version='>=2016.09']\n",
            "pyopenssl -> cryptography[version='>=1.3.4,>=1.9,>=2.1.4,>=2.2.1'] -> cffi[version='>=1.7'] -> pycparser -> python[version='3.5.*,>=3.5,<3.6.0a0,>=3.6,<3.7.0a0'] -> pip -> wheel -> setuptools -> certifi[version='>=2016.09']\n",
            "wheel -> setuptools -> certifi[version='>=2016.09']\n",
            "pillow -> olefile -> python[version='2.7.*,3.5.*,>=2.7,<2.8.0a0,>=3.6,<3.7.0a0,>=3.7,<3.8.0a0'] -> pip -> wheel -> setuptools -> certifi[version='>=2016.09']\n",
            "docutils -> python[version='2.7.*,3.6.*,>=2.7,<2.8.0a0,>=3.6,<3.7.0a0,>=3.7,<3.8.0a0'] -> pip -> wheel -> setuptools -> certifi[version='>=2016.09']\n",
            "pygments -> setuptools -> certifi[version='>=2016.09']\n",
            "jinja2 -> setuptools -> certifi[version='>=2016.09']\n",
            "pandocfilters -> python[version='2.7.*,3.4.*,3.5.*,3.6.*,>=2.7,<2.8.0a0,>=3.7,<3.8.0a0'] -> pip -> wheel -> setuptools -> certifi[version='>=2016.09']\n",
            "pytest -> attrs[version='>=17.2.0,>=17.4.0'] -> python[version='2.7.*,3.4.*,3.5.*,>=3.6,<3.7.0a0'] -> pip -> wheel -> setuptools -> certifi[version='>=2016.09']\n",
            "locket -> python[version='3.4.*,3.5.*,>=2.7,<2.8.0a0,>=3.5,<3.6.0a0,>=3.6,<3.7.0a0,>=3.7,<3.8.0a0'] -> pip -> wheel -> setuptools -> certifi[version='>=2016.09']\n",
            "werkzeug -> python[version='2.7.*,3.6.*,>=3.6,<3.7.0a0'] -> pip -> wheel -> setuptools -> certifi[version='>=2016.09']\n",
            "lazy-object-proxy -> python[version='2.7.*,3.5.*,3.6.*,>=2.7,<2.8.0a0,>=3.6,<3.7.0a0,>=3.7,<3.8.0a0'] -> pip -> wheel -> setuptools -> certifi[version='>=2016.09']\n",
            "snowballstemmer -> python[version='2.7.*,3.5.*,>=3.6,<3.7.0a0'] -> pip -> wheel -> setuptools -> certifi[version='>=2016.09']\n",
            "dask-cuml -> distributed[version='>=1.23.0'] -> dask[version='>=0.10.0'] -> bokeh[version='>=0.13.0'] -> pandas -> numpy[version='>=1.12.1,<2.0a0,>=1.9,>=1.9.*,>=1.9.3,<2.0a0'] -> python[version='>=3.6,<3.7.0a0,>=3.7,<3.8.0a0'] -> pip -> wheel -> setuptools -> certifi[version='>=2016.09']\n",
            "pluggy -> python[version='>=3.5,<3.6.0a0,>=3.6,<3.7.0a0,>=3.7,<3.8.0a0'] -> pip -> wheel -> setuptools -> certifi[version='>=2016.09']\n",
            "markupsafe -> python[version='3.4.*,>=2.7,<2.8.0a0,>=3.5,<3.6.0a0,>=3.6,<3.7.0a0,>=3.7,<3.8.0a0'] -> pip -> wheel -> setuptools -> certifi[version='>=2016.09']\n",
            "prometheus_client -> twisted -> service_identity[version='>=18.1.0'] -> attrs[version='>=16.0.0'] -> python[version='2.7.*,3.4.*,3.5.*,>=3.6,<3.7.0a0'] -> pip -> wheel -> setuptools -> certifi[version='>=2016.09']\n",
            "requests -> urllib3[version='>=1.21.1,<1.24,>=1.21.1,<1.25'] -> pyopenssl[version='>=0.14'] -> cryptography[version='>=1.3.4,>=1.9,>=2.1.4,>=2.2.1'] -> cffi[version='>=1.7'] -> pycparser -> python[version='3.4.*,3.5.*,>=3.5,<3.6.0a0,>=3.6,<3.7.0a0'] -> pip -> wheel -> setuptools -> certifi[version='>=2016.09']\n",
            "llvmlite -> python[version='3.5.*,>=2.7,<2.8.0a0,>=3.5,<3.6.0a0,>=3.6,<3.7.0a0,>=3.7,<3.8.0a0'] -> pip -> wheel -> setuptools -> certifi[version='>=2016.09']\n",
            "openpyxl -> jdcal -> python[version='2.7.*,3.5.*,3.6.*,>=2.7,<2.8.0a0,>=3.6,<3.7.0a0,>=3.7,<3.8.0a0'] -> pip -> wheel -> setuptools -> certifi[version='>=2016.09']\n",
            "html5lib -> webencodings -> python[version='3.5.*,3.6.*,>=2.7,<2.8.0a0,>=3.5,<3.6.0a0,>=3.6,<3.7.0a0'] -> pip -> wheel -> setuptools -> certifi[version='>=2016.09']\n",
            "backcall -> python[version='>=2.7,<2.8.0a0,>=3.5,<3.6.0a0,>=3.6,<3.7.0a0,>=3.7,<3.8.0a0'] -> pip -> wheel -> setuptools -> certifi[version='>=2016.09']\n",
            "sphinxcontrib-applehelp -> python[version='>=3.5'] -> pip -> wheel -> setuptools -> certifi[version='>=2016.09']\n",
            "rapidsai/label/xgboost::xgboost -> py-xgboost==0.90.rapidsdev1=cuda10.0py37_1 -> scikit-learn -> scipy -> numpy[version='1.10.*,1.11.*,1.12.*,>=1.11.3,<2.0a0,>=1.9.3,<2.0a0'] -> python[version='>=3.6,<3.7.0a0,>=3.7,<3.8.0a0'] -> pip -> wheel -> setuptools -> certifi[version='>=2016.09']\n",
            "mpmath -> gmpy2 -> python[version='3.4.*,3.5.*,3.6.*,>=2.7,<2.8.0a0,>=3.5,<3.6.0a0,>=3.7,<3.8.0a0'] -> pip -> wheel -> setuptools -> certifi[version='>=2016.09']\n",
            "sqlalchemy -> python[version='3.6.*,>=2.7,<2.8.0a0,>=3.6,<3.7.0a0,>=3.7,<3.8.0a0'] -> pip -> wheel -> setuptools -> certifi[version='>=2016.09']\n",
            "pytest-remotedata -> pytest[version='>=3.1'] -> attrs[version='>=17.2.0,>=17.4.0'] -> python[version='2.7.*,3.4.*,3.5.*,>=3.6,<3.7.0a0'] -> pip -> wheel -> setuptools -> certifi[version='>=2016.09']\n",
            "bkcharts -> pandas -> numpy[version='1.10.*,>=1.12.1,<2.0a0,>=1.9,>=1.9.*,>=1.9.3,<2.0a0'] -> python[version='>=2.7,<2.8.0a0,>=3.5,<3.6.0a0,>=3.6,<3.7.0a0,>=3.7,<3.8.0a0'] -> pip -> wheel -> setuptools -> certifi[version='>=2016.09']\n",
            "sphinxcontrib-htmlhelp -> python[version='>=3.5'] -> pip -> wheel -> setuptools -> certifi[version='>=2016.09']\n",
            "jupyterlab -> notebook[version='>=4.2,>=4.3,>=4.3.1'] -> prometheus_client -> twisted -> service_identity[version='>=18.1.0'] -> attrs[version='>=16.0.0'] -> python[version='2.7.*,3.4.*,3.5.*,>=3.6,<3.7.0a0'] -> pip -> wheel -> setuptools -> certifi[version='>=2016.09']\n",
            "conda[version='>=4.7.10'] -> requests[version='>=2.12.4,<3,>=2.18.4,<3'] -> urllib3[version='>=1.21.1,<1.24,>=1.21.1,<1.25'] -> pyopenssl[version='>=0.14'] -> cryptography[version='>=1.3.4,>=1.9,>=2.1.4,>=2.2.1'] -> cffi[version='>=1.7'] -> pycparser -> python[version='>=3.6,<3.7.0a0'] -> pip -> wheel -> setuptools -> certifi[version='>=2016.09']\n",
            "setuptools -> certifi[version='>=2016.09']\n",
            "cuml -> libcuml[version='0.7.0.dev0.*,0.8.0a.*,0.9.0a.*'] -> cudf[version='0.7.*,0.8.*,0.9.*'] -> pyarrow=0.12.1 -> parquet-cpp=1.5.1 -> arrow-cpp[version='>=0.11.0,>=0.11.1,<0.12.0a0,>=0.12.0,>=0.12.0,<0.13.0a0'] -> numpy[version='>=1.11.3,<2.0a0,>=1.14,<2.0a0'] -> python[version='>=3.6,<3.7.0a0,>=3.7,<3.8.0a0'] -> pip -> wheel -> setuptools -> certifi[version='>=2016.09']\n",
            "itsdangerous -> python[version='3.5.*,>=2.7,<2.8.0a0,>=3.6,<3.7.0a0,>=3.7,<3.8.0a0'] -> pip -> wheel -> setuptools -> certifi[version='>=2016.09']\n",
            "qt -> gtk2 -> gdk-pixbuf -> gobject-introspection -> python[version='>=3.7,<3.8.0a0'] -> pip -> wheel -> setuptools -> certifi[version='>=2016.09']\n",
            "future -> python[version='3.4.*,3.5.*,>=2.7,<2.8.0a0,>=3.5,<3.6.0a0,>=3.6,<3.7.0a0'] -> pip -> wheel -> setuptools -> certifi[version='>=2016.09']\n",
            "urllib3 -> pyopenssl[version='>=0.14'] -> cryptography[version='>=1.3.4,>=1.9,>=2.1.4,>=2.2.1'] -> cffi[version='>=1.7'] -> pycparser -> python[version='3.4.*,3.5.*,>=3.5,<3.6.0a0,>=3.6,<3.7.0a0'] -> pip -> wheel -> setuptools -> certifi[version='>=2016.09']\n",
            "pytz -> python[version='3.5.*,3.6.*,>=3.6,<3.7.0a0,>=3.7,<3.8.0a0'] -> pip -> wheel -> setuptools -> certifi[version='>=2016.09']\n",
            "backports.functools_lru_cache -> setuptools -> certifi[version='>=2016.09']\n",
            "ptyprocess -> python[version='2.7.*,3.5.*,>=3.5,<3.6.0a0,>=3.6,<3.7.0a0'] -> pip -> wheel -> setuptools -> certifi[version='>=2016.09']\n",
            "jdcal -> python[version='2.7.*,3.5.*,3.6.*,>=2.7,<2.8.0a0,>=3.6,<3.7.0a0,>=3.7,<3.8.0a0'] -> pip -> wheel -> setuptools -> certifi[version='>=2016.09']\n",
            "traitlets -> six -> python[version='3.5.*,3.6.*,>=3.6,<3.7.0a0,>=3.7,<3.8.0a0'] -> pip -> wheel -> setuptools -> certifi[version='>=2016.09']\n",
            "anaconda-client -> requests[version='>=2.9.1'] -> urllib3[version='>=1.21.1,<1.24,>=1.21.1,<1.25'] -> pyopenssl[version='>=0.14'] -> cryptography[version='>=1.3.4,>=1.9,>=2.1.4,>=2.2.1'] -> cffi[version='>=1.7'] -> pycparser -> python[version='3.4.*,3.5.*,>=3.5,<3.6.0a0,>=3.6,<3.7.0a0'] -> pip -> wheel -> setuptools -> certifi[version='>=2016.09']\n",
            "pytest-arraydiff -> pytest -> attrs[version='>=17.2.0,>=17.4.0'] -> python[version='2.7.*,3.4.*,3.5.*,>=3.6,<3.7.0a0'] -> pip -> wheel -> setuptools -> certifi[version='>=2016.09']\n",
            "sphinxcontrib-qthelp -> python[version='>=3.5'] -> pip -> wheel -> setuptools -> certifi[version='>=2016.09']\n",
            "rapidsai/label/xgboost::xgboost -> py-xgboost==0.90.rapidsdev1=py37he6ff8a9_1 -> scikit-learn -> scipy -> numpy[version='1.10.*,1.11.*,1.12.*,>=1.11.3,<2.0a0,>=1.9.3,<2.0a0'] -> python[version='>=3.6,<3.7.0a0,>=3.7,<3.8.0a0'] -> pip -> wheel -> setuptools -> certifi[version='>=2016.09']\n",
            "filelock -> python[version='3.4.*,3.6.*,>=3.5,<3.6.0a0,>=3.6,<3.7.0a0'] -> pip -> wheel -> setuptools -> certifi[version='>=2016.09']\n",
            "sphinxcontrib -> python[version='>=2.7,<2.8.0a0,>=3.5,<3.6.0a0,>=3.6,<3.7.0a0,>=3.7,<3.8.0a0'] -> pip -> wheel -> setuptools -> certifi[version='>=2016.09']\n",
            "cffi -> pycparser -> python[version='3.4.*,3.5.*,>=3.5,<3.6.0a0,>=3.6,<3.7.0a0'] -> pip -> wheel -> setuptools -> certifi[version='>=2016.09']\n",
            "partd -> toolz -> python[version='3.4.*,3.5.*,>=2.7,<2.8.0a0,>=3.5,<3.6.0a0'] -> pip -> wheel -> setuptools -> certifi[version='>=2016.09']\n",
            "pathlib2 -> six -> python[version='3.5.*,3.6.*,>=3.6,<3.7.0a0,>=3.7,<3.8.0a0'] -> pip -> wheel -> setuptools -> certifi[version='>=2016.09']\n",
            "numexpr -> numpy[version='>=1.11,>=1.11.3,<2.0a0,>=1.9.3,<2.0a0'] -> python[version='>=2.7,<2.8.0a0,>=3.5,<3.6.0a0,>=3.6,<3.7.0a0,>=3.7,<3.8.0a0'] -> pip -> wheel -> setuptools -> certifi[version='>=2016.09']\n",
            "six -> python[version='3.5.*,3.6.*,>=3.6,<3.7.0a0,>=3.7,<3.8.0a0'] -> pip -> wheel -> setuptools -> certifi[version='>=2016.09']\n",
            "heapdict -> python[version='2.7.*,3.4.*,>=2.7,<2.8.0a0,>=3.5,<3.6.0a0,>=3.6,<3.7.0a0,>=3.7,<3.8.0a0'] -> pip -> wheel -> setuptools -> certifi[version='>=2016.09']\n",
            "pycodestyle -> python[version='2.7.*,3.4.*,3.5.*,>=2.7,<2.8.0a0,>=3.5,<3.6.0a0'] -> pip -> wheel -> setuptools -> certifi[version='>=2016.09']\n",
            "widgetsnbextension -> notebook[version='>=4.2.0,>=4.4.1'] -> prometheus_client -> twisted -> service_identity[version='>=18.1.0'] -> attrs[version='>=16.0.0'] -> python[version='2.7.*,3.4.*,3.5.*,>=3.6,<3.7.0a0'] -> pip -> wheel -> setuptools -> certifi[version='>=2016.09']\n",
            "mccabe -> python[version='2.7.*,3.5.*,3.6.*,>=3.6,<3.7.0a0'] -> pip -> wheel -> setuptools -> certifi[version='>=2016.09']\n",
            "navigator-updater -> pyqt[version='>=5.6'] -> qt[version='5.6.*,5.9.*,>=5.6.2,<5.7.0a0,>=5.9.6,<5.10.0a0'] -> gtk2 -> gdk-pixbuf -> gobject-introspection -> python[version='>=3.7,<3.8.0a0'] -> pip -> wheel -> setuptools -> certifi[version='>=2016.09']\n",
            "bitarray -> python[version='3.6.*,>=2.7,<2.8.0a0,>=3.5,<3.6.0a0,>=3.6,<3.7.0a0,>=3.7,<3.8.0a0'] -> pip -> wheel -> setuptools -> certifi[version='>=2016.09']\n",
            "cloudpickle -> python[version='3.5.*,>=3.5,<3.6.0a0,>=3.7,<3.8.0a0'] -> pip -> wheel -> setuptools -> certifi[version='>=2016.09']\n",
            "flask -> jinja2[version='>=2.10,>=2.4'] -> setuptools -> certifi[version='>=2016.09']\n",
            "decorator -> python[version='2.7.*,3.4.*,3.5.*,3.6.*,>=2.7,<2.8.0a0,>=3.6,<3.7.0a0,>=3.7,<3.8.0a0'] -> pip -> wheel -> setuptools -> certifi[version='>=2016.09']\n",
            "conda-verify -> jinja2 -> setuptools -> certifi[version='>=2016.09']\n",
            "babel -> pytz -> python[version='3.5.*,3.6.*,>=3.6,<3.7.0a0,>=3.7,<3.8.0a0'] -> pip -> wheel -> setuptools -> certifi[version='>=2016.09']\n",
            "gcsfs -> google-auth-oauthlib -> requests-oauthlib[version='>=0.7.0,>=0.7.0,<1dev'] -> requests[version='>=2.0.0'] -> urllib3[version='>=1.21.1,<1.24,>=1.21.1,<1.25'] -> pyopenssl[version='>=0.14'] -> cryptography[version='>=1.3.4,>=1.9,>=2.1.4,>=2.2.1'] -> cffi[version='>=1.7'] -> pycparser -> python[version='3.4.*,3.5.*,>=3.5,<3.6.0a0,>=3.6,<3.7.0a0'] -> pip -> wheel -> setuptools -> certifi[version='>=2016.09']\n",
            "python=3.6 -> pip -> wheel -> setuptools -> certifi[version='>=2016.09']\n",
            "pysocks -> python[version='2.7.*,3.6.*,>=2.7,<2.8.0a0,>=3.6,<3.7.0a0,>=3.7,<3.8.0a0'] -> pip -> wheel -> setuptools -> certifi[version='>=2016.09']\n",
            "pytest-astropy -> pytest[version='>=3.1,>=3.1.0'] -> attrs[version='>=17.2.0,>=17.4.0'] -> python[version='2.7.*,3.4.*,3.5.*,>=3.6,<3.7.0a0'] -> pip -> wheel -> setuptools -> certifi[version='>=2016.09']\n",
            "terminado -> tornado[version='>=4'] -> ssl_match_hostname -> backports -> python[version='2.7.*,3.5.*,3.6.*,>=2.7,<2.8.0a0,>=3.5,<3.6.0a0,>=3.6,<3.7.0a0'] -> pip -> wheel -> setuptools -> certifi[version='>=2016.09']\n",
            "sip -> python[version='2.7.*,3.6.*,>=2.7,<2.8.0a0,>=3.6,<3.7.0a0,>=3.7,<3.8.0a0'] -> pip -> wheel -> setuptools -> certifi[version='>=2016.09']\n",
            "zipp -> python[version='>=2.7,<2.8.0a0,>=3.6,<3.7.0a0'] -> pip -> wheel -> setuptools -> certifi[version='>=2016.09']\n",
            "tornado -> ssl_match_hostname -> backports -> python[version='2.7.*,3.5.*,3.6.*,>=2.7,<2.8.0a0,>=3.5,<3.6.0a0,>=3.6,<3.7.0a0'] -> pip -> wheel -> setuptools -> certifi[version='>=2016.09']\n",
            "entrypoints -> configparser[version='>=3.5'] -> backports -> python[version='2.7.*,3.5.*,3.6.*,>=2.7,<2.8.0a0,>=3.5,<3.6.0a0,>=3.6,<3.7.0a0'] -> pip -> wheel -> setuptools -> certifi[version='>=2016.09']\n",
            "secretstorage -> cryptography -> cffi[version='>=1.7'] -> pycparser -> python[version='3.5.*,>=3.5,<3.6.0a0,>=3.6,<3.7.0a0'] -> pip -> wheel -> setuptools -> certifi[version='>=2016.09']\n",
            "multipledispatch -> six -> python[version='3.5.*,3.6.*,>=3.6,<3.7.0a0,>=3.7,<3.8.0a0'] -> pip -> wheel -> setuptools -> certifi[version='>=2016.09']\n",
            "scipy -> numpy[version='1.10.*,1.11.*,1.12.*,>=1.11.3,<2.0a0,>=1.9.3,<2.0a0'] -> python[version='>=2.7,<2.8.0a0,>=3.5,<3.6.0a0,>=3.6,<3.7.0a0,>=3.7,<3.8.0a0'] -> pip -> wheel -> setuptools -> certifi[version='>=2016.09']\n",
            "jupyter_core -> traitlets -> six -> python[version='3.5.*,3.6.*,>=3.6,<3.7.0a0,>=3.7,<3.8.0a0'] -> pip -> wheel -> setuptools -> certifi[version='>=2016.09']\n",
            "pyrsistent -> six -> python[version='3.6.*,>=3.6,<3.7.0a0,>=3.7,<3.8.0a0'] -> pip -> wheel -> setuptools -> certifi[version='>=2016.09']\n",
            "simplegeneric -> python[version='>=2.7,<2.8.0a0,>=3.5,<3.6.0a0,>=3.6,<3.7.0a0,>=3.7,<3.8.0a0'] -> pip -> wheel -> setuptools -> certifi[version='>=2016.09']\n",
            "click -> python[version='2.7.*,3.4.*,3.5.*,>=2.7,<2.8.0a0,>=3.6,<3.7.0a0,>=3.7,<3.8.0a0'] -> pip -> wheel -> setuptools -> certifi[version='>=2016.09']\n",
            "pyparsing -> python[version='2.7.*,3.5.*,>=3.5,<3.6.0a0,>=3.6,<3.7.0a0,>=3.7,<3.8.0a0'] -> pip -> wheel -> setuptools -> certifi[version='>=2016.09']\n",
            "glob2 -> python[version='2.7.*,3.5.*,>=2.7,<2.8.0a0,>=3.5,<3.6.0a0,>=3.7,<3.8.0a0'] -> pip -> wheel -> setuptools -> certifi[version='>=2016.09']\n",
            "ply -> python[version='2.7.*,3.5.*,>=3.6,<3.7.0a0'] -> pip -> wheel -> setuptools -> certifi[version='>=2016.09']\n",
            "pandas -> numpy[version='1.10.*,>=1.12.1,<2.0a0,>=1.9,>=1.9.*,>=1.9.3,<2.0a0'] -> python[version='>=2.7,<2.8.0a0,>=3.5,<3.6.0a0,>=3.6,<3.7.0a0,>=3.7,<3.8.0a0'] -> pip -> wheel -> setuptools -> certifi[version='>=2016.09']\n",
            "pytest-doctestplus -> pytest[version='>=2.8'] -> attrs[version='>=17.2.0,>=17.4.0'] -> python[version='2.7.*,3.4.*,3.5.*,>=3.6,<3.7.0a0'] -> pip -> wheel -> setuptools -> certifi[version='>=2016.09']\n",
            "send2trash -> python[version='>=2.7,<2.8.0a0,>=3.5,<3.6.0a0,>=3.6,<3.7.0a0,>=3.7,<3.8.0a0'] -> pip -> wheel -> setuptools -> certifi[version='>=2016.09']\n",
            "rapidsai/label/xgboost::xgboost -> py-xgboost==0.90.rapidsdev1=py36he6ff8a9_1 -> scikit-learn -> scipy -> numpy[version='1.10.*,1.11.*,1.12.*,>=1.11.3,<2.0a0,>=1.9.3,<2.0a0'] -> python[version='>=3.6,<3.7.0a0,>=3.7,<3.8.0a0'] -> pip -> wheel -> setuptools -> certifi[version='>=2016.09']\n",
            "pyflakes -> python[version='2.7.*,3.5.*,3.6.*,>=2.7,<2.8.0a0'] -> pip -> wheel -> setuptools -> certifi[version='>=2016.09']\n",
            "pytables -> numexpr -> numpy[version='>=1.11,>=1.11.3,<2.0a0,>=1.9.3,<2.0a0'] -> python[version='>=2.7,<2.8.0a0,>=3.5,<3.6.0a0,>=3.6,<3.7.0a0,>=3.7,<3.8.0a0'] -> pip -> wheel -> setuptools -> certifi[version='>=2016.09']\n",
            "xlwt -> python[version='2.7.*,3.5.*,3.6.*,>=2.7,<2.8.0a0'] -> pip -> wheel -> setuptools -> certifi[version='>=2016.09']\n",
            "cython -> setuptools -> certifi[version='>=2016.09']\n",
            "backports.weakref -> backports -> python[version='2.7.*,3.5.*,3.6.*,>=2.7,<2.8.0a0,>=3.5,<3.6.0a0,>=3.6,<3.7.0a0'] -> pip -> wheel -> setuptools -> certifi[version='>=2016.09']\n",
            "wrapt -> python[version='3.5.*,>=2.7,<2.8.0a0,>=3.6,<3.7.0a0,>=3.7,<3.8.0a0'] -> pip -> wheel -> setuptools -> certifi[version='>=2016.09']\n",
            "jedi -> numpydoc -> sphinx -> requests[version='>2.0.0,>=2.0.0,>=2.5.0'] -> urllib3[version='>=1.21.1,<1.24,>=1.21.1,<1.25'] -> pyopenssl[version='>=0.14'] -> cryptography[version='>=1.3.4,>=1.9,>=2.1.4,>=2.2.1'] -> cffi[version='>=1.7'] -> pycparser -> python[version='3.4.*,3.5.*,>=3.5,<3.6.0a0,>=3.6,<3.7.0a0'] -> pip -> wheel -> setuptools -> certifi[version='>=2016.09']\n",
            "get_terminal_size -> backports.shutil_get_terminal_size -> backports -> python[version='2.7.*,3.5.*,3.6.*,>=2.7,<2.8.0a0,>=3.5,<3.6.0a0,>=3.6,<3.7.0a0'] -> pip -> wheel -> setuptools -> certifi[version='>=2016.09']\n",
            "backports.shutil_get_terminal_size -> backports -> python[version='2.7.*,3.5.*,3.6.*,>=2.7,<2.8.0a0,>=3.5,<3.6.0a0,>=3.6,<3.7.0a0'] -> pip -> wheel -> setuptools -> certifi[version='>=2016.09']\n",
            "wurlitzer -> python[version='>=2.7,<2.8.0a0,>=3.6,<3.7.0a0,>=3.7,<3.8.0a0'] -> pip -> wheel -> setuptools -> certifi[version='>=2016.09']\n",
            "anaconda==2019.07=py37_0 -> prometheus_client==0.7.1=py_0 -> attrs[version='>=16.0.0'] -> pip -> wheel -> setuptools -> certifi[version='>=2016.09']\n",
            "more-itertools -> six[version='>=1.0.0,<2.0.0'] -> python[version='3.5.*,3.6.*,>=3.6,<3.7.0a0,>=3.7,<3.8.0a0'] -> pip -> wheel -> setuptools -> certifi[version='>=2016.09']\n",
            "sphinxcontrib-serializinghtml -> python[version='>=3.5'] -> pip -> wheel -> setuptools -> certifi[version='>=2016.09']\n",
            "cugraph -> cudf[version='0.7.*,0.8.*,0.9.*'] -> pyarrow=0.12.1 -> parquet-cpp=1.5.1 -> arrow-cpp[version='>=0.11.0,>=0.11.1,<0.12.0a0,>=0.12.0,>=0.12.0,<0.13.0a0'] -> numpy[version='>=1.11.3,<2.0a0,>=1.14,<2.0a0'] -> python[version='>=3.6,<3.7.0a0,>=3.7,<3.8.0a0'] -> pip -> wheel -> setuptools -> certifi[version='>=2016.09']\n",
            "cytoolz -> toolz[version='>=0.10.0,>=0.8.0'] -> python[version='3.4.*,3.5.*,>=2.7,<2.8.0a0,>=3.5,<3.6.0a0'] -> pip -> wheel -> setuptools -> certifi[version='>=2016.09']\n",
            "parso -> python[version='>=2.7,<2.8.0a0,>=3.6,<3.7.0a0,>=3.7,<3.8.0a0'] -> pip -> wheel -> setuptools -> certifi[version='>=2016.09']\n",
            "pyodbc -> python[version='>=3.5,<3.6.0a0,>=3.6,<3.7.0a0,>=3.7,<3.8.0a0'] -> pip -> wheel -> setuptools -> certifi[version='>=2016.09']\n",
            "nbformat -> jupyter_core -> traitlets -> six -> python[version='3.5.*,3.6.*,>=3.6,<3.7.0a0,>=3.7,<3.8.0a0'] -> pip -> wheel -> setuptools -> certifi[version='>=2016.09']\n",
            "anaconda-project -> anaconda-client -> requests[version='>=2.9.1'] -> urllib3[version='>=1.21.1,<1.24,>=1.21.1,<1.25'] -> pyopenssl[version='>=0.14'] -> cryptography[version='>=1.3.4,>=1.9,>=2.1.4,>=2.2.1'] -> cffi[version='>=1.7'] -> pycparser -> python[version='3.4.*,3.5.*,>=3.5,<3.6.0a0,>=3.6,<3.7.0a0'] -> pip -> wheel -> setuptools -> certifi[version='>=2016.09']\n",
            "sphinxcontrib-websupport -> sphinxcontrib -> python[version='>=2.7,<2.8.0a0,>=3.5,<3.6.0a0,>=3.6,<3.7.0a0,>=3.7,<3.8.0a0'] -> pip -> wheel -> setuptools -> certifi[version='>=2016.09']\n",
            "numba -> numpy[version='1.15.*,>=1.11.3,<2.0a0,>=1.12,<1.13.0a0,>=1.13,<1.14.0a0,>=1.15.4,<2.0a0,>=1.9.3,<2.0a0'] -> python[version='>=2.7,<2.8.0a0,>=3.5,<3.6.0a0,>=3.6,<3.7.0a0,>=3.7,<3.8.0a0'] -> pip -> wheel -> setuptools -> certifi[version='>=2016.09']\n",
            "anaconda-navigator -> anaconda-project[version='>=0.4'] -> anaconda-client -> requests[version='>=2.9.1'] -> urllib3[version='>=1.21.1,<1.24,>=1.21.1,<1.25'] -> pyopenssl[version='>=0.14'] -> cryptography[version='>=1.3.4,>=1.9,>=2.1.4,>=2.2.1'] -> cffi[version='>=1.7'] -> pycparser -> python[version='3.5.*,>=3.5,<3.6.0a0,>=3.6,<3.7.0a0'] -> pip -> wheel -> setuptools -> certifi[version='>=2016.09']\n",
            "_ipyw_jlab_nb_ext_conf -> jupyterlab -> notebook[version='>=4.2,>=4.3,>=4.3.1'] -> prometheus_client -> twisted -> service_identity[version='>=18.1.0'] -> attrs[version='>=16.0.0'] -> python[version='2.7.*,3.5.*,>=3.6,<3.7.0a0'] -> pip -> wheel -> setuptools -> certifi[version='>=2016.09']\n",
            "backports -> python[version='2.7.*,3.5.*,3.6.*,>=2.7,<2.8.0a0,>=3.5,<3.6.0a0,>=3.6,<3.7.0a0'] -> pip -> wheel -> setuptools -> certifi[version='>=2016.09']\n",
            "conda-env -> python[version='2.7.*,3.4.*,3.5.*'] -> pip -> wheel -> setuptools -> certifi[version='>=2016.09']\n",
            "pip -> wheel -> setuptools -> certifi[version='>=2016.09']\n",
            "asn1crypto -> python[version='3.5.*,3.6.*,>=2.7,<2.8.0a0,>=3.5,<3.6.0a0,>=3.6,<3.7.0a0,>=3.7,<3.8.0a0'] -> pip -> wheel -> setuptools -> certifi[version='>=2016.09']\n",
            "ruamel_yaml -> setuptools -> certifi[version='>=2016.09']\n",
            "kiwisolver -> python[version='2.7.*,>=2.7,<2.8.0a0,>=3.5,<3.6.0a0,>=3.6,<3.7.0a0,>=3.7,<3.8.0a0'] -> pip -> wheel -> setuptools -> certifi[version='>=2016.09']\n",
            "isort -> setuptools -> certifi[version='>=2016.09']\n",
            "sphinxcontrib-devhelp -> python[version='>=3.5'] -> pip -> wheel -> setuptools -> certifi[version='>=2016.09']\n",
            "jsonschema -> attrs[version='>=17.4.0'] -> python[version='2.7.*,3.4.*,3.5.*,>=3.6,<3.7.0a0'] -> pip -> wheel -> setuptools -> certifi[version='>=2016.09']\n",
            "beautifulsoup4 -> soupsieve[version='>=1.2'] -> setuptools -> certifi[version='>=2016.09']\n",
            "pkginfo -> python[version='2.7.*,3.5.*,3.6.*,>=3.5,<3.6.0a0'] -> pip -> wheel -> setuptools -> certifi[version='>=2016.09']\n",
            "ipykernel -> ipython[version='>=4.0,>=4.0.0,>=5.0'] -> jedi[version='>=0.10'] -> python[version='3.4.*,3.5.*,>=3.5,<3.6.0a0,>=3.6,<3.7.0a0'] -> pip -> wheel -> setuptools -> certifi[version='>=2016.09']\n",
            "pylint -> astroid[version='>=1.4.5,<1.5.0,>=1.5.1,>=2.0.0,>=2.2.0'] -> backports.functools_lru_cache -> setuptools -> certifi[version='>=2016.09']\n",
            "networkx -> setuptools -> certifi[version='>=2016.09']\n",
            "qtconsole -> ipykernel[version='>=4.1'] -> ipython[version='>=4.0,>=4.0.0,>=5.0'] -> jedi[version='>=0.10'] -> python[version='3.5.*,>=3.5,<3.6.0a0,>=3.6,<3.7.0a0'] -> pip -> wheel -> setuptools -> certifi[version='>=2016.09']\n",
            "pycosat -> python[version='2.7.*,3.5.*,>=2.7,<2.8.0a0,>=3.5,<3.6.0a0,>=3.7,<3.8.0a0'] -> pip -> wheel -> setuptools -> certifi[version='>=2016.09']\n",
            "imageio -> numpy -> python[version='>=2.7,<2.8.0a0,>=3.5,<3.6.0a0,>=3.6,<3.7.0a0,>=3.7,<3.8.0a0'] -> pip -> wheel -> setuptools -> certifi[version='>=2016.09']\n",
            "py -> python[version='2.7.*,3.6.*,>=2.7,<2.8.0a0,>=3.5,<3.6.0a0'] -> pip -> wheel -> setuptools -> certifi[version='>=2016.09']\n",
            "sphinx -> requests[version='>2.0.0,>=2.0.0,>=2.5.0'] -> urllib3[version='>=1.21.1,<1.24,>=1.21.1,<1.25'] -> pyopenssl[version='>=0.14'] -> cryptography[version='>=1.3.4,>=1.9,>=2.1.4,>=2.2.1'] -> cffi[version='>=1.7'] -> pycparser -> python[version='3.4.*,3.5.*,>=3.5,<3.6.0a0,>=3.6,<3.7.0a0'] -> pip -> wheel -> setuptools -> certifi[version='>=2016.09']\n",
            "pynvml -> python[version='>=3.5'] -> pip -> wheel -> setuptools -> certifi[version='>=2016.09']\n",
            "pyyaml -> python[version='3.4.*,3.5.*,>=3.6,<3.7.0a0,>=3.7,<3.8.0a0'] -> pip -> wheel -> setuptools -> certifi[version='>=2016.09']\n",
            "conda-build -> conda[version='>=4.3'] -> requests[version='>=2.12.4,<3,>=2.18.4,<3'] -> urllib3[version='>=1.21.1,<1.24,>=1.21.1,<1.25'] -> pyopenssl[version='>=0.14'] -> cryptography[version='>=1.3.4,>=1.9,>=2.1.4,>=2.2.1'] -> cffi[version='>=1.7'] -> pycparser -> python[version='3.4.*,3.5.*,>=3.5,<3.6.0a0,>=3.6,<3.7.0a0'] -> pip -> wheel -> setuptools -> certifi[version='>=2016.09']\n",
            "pickleshare -> pathlib2 -> six -> python[version='3.5.*,3.6.*,>=3.6,<3.7.0a0,>=3.7,<3.8.0a0'] -> pip -> wheel -> setuptools -> certifi[version='>=2016.09']\n",
            "cryptography -> cffi[version='>=1.7'] -> pycparser -> python[version='3.5.*,>=3.5,<3.6.0a0,>=3.6,<3.7.0a0'] -> pip -> wheel -> setuptools -> certifi[version='>=2016.09']\n",
            "sphinxcontrib-jsmath -> python[version='>=3.5'] -> pip -> wheel -> setuptools -> certifi[version='>=2016.09']\n",
            "qtpy -> python[version='2.7.*,3.6.*,>=2.7,<2.8.0a0,>=3.5,<3.6.0a0,>=3.6,<3.7.0a0'] -> pip -> wheel -> setuptools -> certifi[version='>=2016.09']\n",
            "jupyter -> notebook -> prometheus_client -> twisted -> service_identity[version='>=18.1.0'] -> attrs[version='>=16.0.0'] -> python[version='2.7.*,3.5.*,>=3.6,<3.7.0a0'] -> pip -> wheel -> setuptools -> certifi[version='>=2016.09']\n",
            "mkl_random -> numpy[version='>=1.11,>=1.11.3,<2.0a0,>=1.9.3,<2.0a0'] -> python[version='>=2.7,<2.8.0a0,>=3.5,<3.6.0a0,>=3.6,<3.7.0a0,>=3.7,<3.8.0a0'] -> pip -> wheel -> setuptools -> certifi[version='>=2016.09']\n",
            "blosc -> zstd[version='>=1.3.7,<1.3.8.0a0'] -> lz4 -> python[version='>=3.6,<3.7.0a0'] -> pip -> wheel -> setuptools -> certifi[version='>=2016.09']\n",
            "attrs -> hypothesis -> coverage -> python[version='2.7.*,3.4.*,3.5.*,>=3.6,<3.7.0a0'] -> pip -> wheel -> setuptools -> certifi[version='>=2016.09']\n",
            "tblib -> python[version='3.6.*,>=2.7,<2.8.0a0,>=3.6,<3.7.0a0,>=3.7,<3.8.0a0'] -> pip -> wheel -> setuptools -> certifi[version='>=2016.09']\n",
            "matplotlib -> matplotlib-base==2.2.3=py27h60b886d_1 -> numpy[version='>=1.11.3,<2.0a0,>=1.14.6,<2.0a0,>=1.9.3,<2.0a0'] -> python[version='>=2.7,<2.8.0a0,>=3.5,<3.6.0a0,>=3.6,<3.7.0a0,>=3.7,<3.8.0a0'] -> pip -> wheel -> setuptools -> certifi[version='>=2016.09']\n",
            "psutil -> python[version='>=2.7,<2.8.0a0,>=3.5,<3.6.0a0,>=3.6,<3.7.0a0,>=3.7,<3.8.0a0'] -> pip -> wheel -> setuptools -> certifi[version='>=2016.09']\n",
            "prompt_toolkit -> pygments -> setuptools -> certifi[version='>=2016.09']\n",
            "testpath -> pathlib2 -> six -> python[version='3.5.*,3.6.*,>=3.6,<3.7.0a0,>=3.7,<3.8.0a0'] -> pip -> wheel -> setuptools -> certifi[version='>=2016.09']\n",
            "backports.tempfile -> backports.weakref -> backports -> python[version='2.7.*,3.5.*,3.6.*,>=2.7,<2.8.0a0,>=3.5,<3.6.0a0,>=3.6,<3.7.0a0'] -> pip -> wheel -> setuptools -> certifi[version='>=2016.09']\n",
            "olefile -> python[version='2.7.*,3.5.*,>=2.7,<2.8.0a0,>=3.6,<3.7.0a0,>=3.7,<3.8.0a0'] -> pip -> wheel -> setuptools -> certifi[version='>=2016.09']\n",
            "sympy -> setuptools -> certifi[version='>=2016.09']\n",
            "soupsieve -> backports.functools_lru_cache -> setuptools -> certifi[version='>=2016.09']\n",
            "dask -> distributed[version='>=1.11.0,>=1.16.0,>=1.20.0,>=1.21.0,>=1.23.3,>=1.27.0'] -> bokeh -> pandas -> numpy[version='1.10.*,>=1.12.1,<2.0a0,>=1.9,>=1.9.*,>=1.9.3,<2.0a0'] -> python[version='>=2.7,<2.8.0a0,>=3.5,<3.6.0a0,>=3.6,<3.7.0a0,>=3.7,<3.8.0a0'] -> pip -> wheel -> setuptools -> certifi[version='>=2016.09']\n",
            "wcwidth -> python[version='2.7.*,3.4.*,3.5.*,3.6.*,>=2.7,<2.8.0a0,>=3.6,<3.7.0a0'] -> pip -> wheel -> setuptools -> certifi[version='>=2016.09']\n",
            "gevent -> cffi[version='>=1.11.5,>=1.3.0'] -> pycparser -> python[version='3.5.*,>=3.5,<3.6.0a0,>=3.6,<3.7.0a0'] -> pip -> wheel -> setuptools -> certifi[version='>=2016.09']\n",
            "webencodings -> python[version='3.5.*,3.6.*,>=2.7,<2.8.0a0,>=3.5,<3.6.0a0,>=3.6,<3.7.0a0'] -> pip -> wheel -> setuptools -> certifi[version='>=2016.09']\n",
            "notebook -> prometheus_client -> twisted -> service_identity[version='>=18.1.0'] -> attrs[version='>=16.0.0'] -> python[version='2.7.*,3.4.*,3.5.*,>=3.6,<3.7.0a0'] -> pip -> wheel -> setuptools -> certifi[version='>=2016.09']\n",
            "zstd -> lz4 -> python[version='>=3.6,<3.7.0a0'] -> pip -> wheel -> setuptools -> certifi[version='>=2016.09']\n",
            "xlsxwriter -> python[version='3.5.*,>=2.7,<2.8.0a0,>=3.5,<3.6.0a0,>=3.6,<3.7.0a0'] -> pip -> wheel -> setuptools -> certifi[version='>=2016.09']\n",
            "rapidsai/label/xgboost::xgboost -> py-xgboost==0.90.rapidsdev1=cuda10.0py36_1 -> scikit-learn -> scipy -> numpy[version='1.10.*,1.11.*,1.12.*,>=1.11.3,<2.0a0,>=1.9.3,<2.0a0'] -> python[version='>=3.6,<3.7.0a0,>=3.7,<3.8.0a0'] -> pip -> wheel -> setuptools -> certifi[version='>=2016.09']\n",
            "nbconvert -> nbformat[version='>=4.4'] -> jupyter_core -> traitlets -> six -> python[version='3.5.*,3.6.*,>=3.6,<3.7.0a0,>=3.7,<3.8.0a0'] -> pip -> wheel -> setuptools -> certifi[version='>=2016.09']\n",
            "nose -> setuptools -> certifi[version='>=2016.09']\n",
            "boto -> python[version='>=2.7,<2.8.0a0,>=3.6,<3.7.0a0,>=3.7,<3.8.0a0'] -> pip -> wheel -> setuptools -> certifi[version='>=2016.09']\n",
            "joblib -> python[version='2.7.*,3.5.*,>=2.7,<2.8.0a0,>=3.5,<3.6.0a0'] -> pip -> wheel -> setuptools -> certifi[version='>=2016.09']\n",
            "tqdm -> python[version='3.5.*,3.6.*,>=3.7,<3.8.0a0'] -> pip -> wheel -> setuptools -> certifi[version='>=2016.09']\n",
            "alabaster -> python[version='2.7.*,3.6.*,>=2.7,<2.8.0a0,>=3.5,<3.6.0a0,>=3.6,<3.7.0a0,>=3.7,<3.8.0a0'] -> pip -> wheel -> setuptools -> certifi[version='>=2016.09']\n",
            "keyring -> secretstorage -> cryptography -> cffi[version='>=1.7'] -> pycparser -> python[version='3.4.*,3.5.*,>=3.5,<3.6.0a0,>=3.6,<3.7.0a0'] -> pip -> wheel -> setuptools -> certifi[version='>=2016.09']\n",
            "mistune -> python[version='>=2.7,<2.8.0a0,>=3.5,<3.6.0a0,>=3.6,<3.7.0a0,>=3.7,<3.8.0a0'] -> pip -> wheel -> setuptools -> certifi[version='>=2016.09']\n",
            "gmpy2 -> python[version='3.4.*,3.5.*,3.6.*,>=2.7,<2.8.0a0,>=3.5,<3.6.0a0,>=3.7,<3.8.0a0'] -> pip -> wheel -> setuptools -> certifi[version='>=2016.09']\n",
            "unicodecsv -> python[version='2.7.*,3.6.*,>=2.7,<2.8.0a0,>=3.6,<3.7.0a0'] -> pip -> wheel -> setuptools -> certifi[version='>=2016.09']\n",
            "pycparser -> python[version='3.4.*,3.5.*,>=3.5,<3.6.0a0,>=3.6,<3.7.0a0'] -> pip -> wheel -> setuptools -> certifi[version='>=2016.09']\n",
            "matplotlib -> matplotlib-base==3.1.1=py36he7580a8_1 -> numpy[version='>=1.11.3,<2.0a0,>=1.14.6,<2.0a0,>=1.9.3,<2.0a0'] -> python[version='>=2.7,<2.8.0a0,>=3.5,<3.6.0a0,>=3.6,<3.7.0a0,>=3.7,<3.8.0a0'] -> pip -> wheel -> setuptools -> certifi[version='>=2016.09']\n",
            "python-dateutil -> six[version='>=1.5'] -> python[version='3.5.*,3.6.*,>=3.6,<3.7.0a0,>=3.7,<3.8.0a0'] -> pip -> wheel -> setuptools -> certifi[version='>=2016.09']\n",
            "atomicwrites -> python[version='2.7.*,>=2.7,<2.8.0a0,>=3.7,<3.8.0a0'] -> pip -> wheel -> setuptools -> certifi[version='>=2016.09']\n",
            "jupyter_console -> ipykernel -> ipython[version='>=4.0,>=4.0.0,>=5.0'] -> jedi[version='>=0.10'] -> python[version='3.4.*,3.5.*,>=3.5,<3.6.0a0,>=3.6,<3.7.0a0'] -> pip -> wheel -> setuptools -> certifi[version='>=2016.09']\n",
            "seaborn -> statsmodels[version='>=0.5.0'] -> patsy[version='>=0.4.0'] -> scipy -> numpy[version='1.10.*,1.11.*,1.12.*,>=1.11.3,<2.0a0,>=1.9.3,<2.0a0'] -> python[version='>=2.7,<2.8.0a0,>=3.5,<3.6.0a0,>=3.6,<3.7.0a0,>=3.7,<3.8.0a0'] -> pip -> wheel -> setuptools -> certifi[version='>=2016.09']\n",
            "greenlet -> python[version='3.5.*,3.6.*,>=3.5,<3.6.0a0,>=3.6,<3.7.0a0,>=3.7,<3.8.0a0'] -> pip -> wheel -> setuptools -> certifi[version='>=2016.09']\n",
            "astropy -> pytest[version='<3.7'] -> attrs[version='>=17.2.0,>=17.4.0'] -> python[version='2.7.*,3.5.*,>=3.6,<3.7.0a0'] -> pip -> wheel -> setuptools -> certifi[version='>=2016.09']\n",
            "path.py -> importlib_metadata[version='>=0.5'] -> pathlib2 -> six -> python[version='3.5.*,3.6.*,>=3.6,<3.7.0a0,>=3.7,<3.8.0a0'] -> pip -> wheel -> setuptools -> certifi[version='>=2016.09']\n",
            "chardet -> python[version='2.7.*,3.5.*,3.6.*,>=3.7,<3.8.0a0'] -> pip -> wheel -> setuptools -> certifi[version='>=2016.09']\n",
            "cycler -> six -> python[version='3.5.*,3.6.*,>=3.6,<3.7.0a0,>=3.7,<3.8.0a0'] -> pip -> wheel -> setuptools -> certifi[version='>=2016.09']\n",
            "pep8 -> python[version='3.4.*,3.5.*,3.6.*,>=2.7,<2.8.0a0,>=3.6,<3.7.0a0,>=3.7,<3.8.0a0'] -> pip -> wheel -> setuptools -> certifi[version='>=2016.09']\n",
            "astroid -> backports.functools_lru_cache -> setuptools -> certifi[version='>=2016.09']\n",
            "ipython_genutils -> python[version='2.7.*,3.4.*,>=2.7,<2.8.0a0,>=3.5,<3.6.0a0,>=3.6,<3.7.0a0'] -> pip -> wheel -> setuptools -> certifi[version='>=2016.09']\n",
            "rapidsai/label/xgboost::xgboost -> py-xgboost==0.83.dev43=py37he6ff8a9_1 -> scikit-learn -> scipy -> numpy[version='1.10.*,1.11.*,1.12.*,>=1.11.3,<2.0a0,>=1.9.3,<2.0a0'] -> python[version='>=3.6,<3.7.0a0,>=3.7,<3.8.0a0'] -> pip -> wheel -> setuptools -> certifi[version='>=2016.09']\n",
            "xlrd -> python[version='2.7.*,3.6.*,>=2.7,<2.8.0a0,>=3.5,<3.6.0a0,>=3.6,<3.7.0a0,>=3.7,<3.8.0a0'] -> pip -> wheel -> setuptools -> certifi[version='>=2016.09']\n",
            "jupyterlab_server -> notebook -> prometheus_client -> twisted -> service_identity[version='>=18.1.0'] -> attrs[version='>=16.0.0'] -> python[version='3.5.*,>=3.6,<3.7.0a0'] -> pip -> wheel -> setuptools -> certifi[version='>=2016.09']\n",
            "packaging -> six -> python[version='3.5.*,3.6.*,>=3.6,<3.7.0a0,>=3.7,<3.8.0a0'] -> pip -> wheel -> setuptools -> certifi[version='>=2016.09']\n",
            "pywavelets -> numpy[version='1.13.*,>=1.11.3,<2.0a0'] -> python[version='>=2.7,<2.8.0a0,>=3.5,<3.6.0a0,>=3.6,<3.7.0a0,>=3.7,<3.8.0a0'] -> pip -> wheel -> setuptools -> certifi[version='>=2016.09']\n",
            "libarchive -> zstd[version='>=1.3.3,<1.3.4.0a0'] -> lz4 -> python[version='>=3.6,<3.7.0a0'] -> pip -> wheel -> setuptools -> certifi[version='>=2016.09']\n",
            "singledispatch -> six -> python[version='3.5.*,3.6.*,>=3.6,<3.7.0a0,>=3.7,<3.8.0a0'] -> pip -> wheel -> setuptools -> certifi[version='>=2016.09']\n",
            "patsy -> scipy -> numpy[version='1.10.*,1.11.*,1.12.*,>=1.11.3,<2.0a0,>=1.9.3,<2.0a0'] -> python[version='>=2.7,<2.8.0a0,>=3.5,<3.6.0a0,>=3.6,<3.7.0a0,>=3.7,<3.8.0a0'] -> pip -> wheel -> setuptools -> certifi[version='>=2016.09']\n",
            "contextlib2 -> python[version='3.4.*,3.5.*,3.6.*,>=2.7,<2.8.0a0,>=3.6,<3.7.0a0'] -> pip -> wheel -> setuptools -> certifi[version='>=2016.09']\n",
            "statsmodels -> patsy[version='>=0.4.0'] -> scipy -> numpy[version='1.10.*,1.11.*,1.12.*,>=1.11.3,<2.0a0,>=1.9.3,<2.0a0'] -> python[version='>=2.7,<2.8.0a0,>=3.5,<3.6.0a0,>=3.6,<3.7.0a0,>=3.7,<3.8.0a0'] -> pip -> wheel -> setuptools -> certifi[version='>=2016.09']\n",
            "pycrypto -> python[version='2.7.*,3.5.*,3.6.*,>=2.7,<2.8.0a0,>=3.6,<3.7.0a0'] -> pip -> wheel -> setuptools -> certifi[version='>=2016.09']\n",
            "conda-package-handling -> tqdm -> python[version='3.5.*,3.6.*,>=3.7,<3.8.0a0'] -> pip -> wheel -> setuptools -> certifi[version='>=2016.09']\n",
            "numpydoc -> sphinx -> requests[version='>2.0.0,>=2.0.0,>=2.5.0'] -> urllib3[version='>=1.21.1,<1.24,>=1.21.1,<1.25'] -> pyopenssl[version='>=0.14'] -> cryptography[version='>=1.3.4,>=1.9,>=2.1.4,>=2.2.1'] -> cffi[version='>=1.7'] -> pycparser -> python[version='3.4.*,3.5.*,>=3.5,<3.6.0a0,>=3.6,<3.7.0a0'] -> pip -> wheel -> setuptools -> certifi[version='>=2016.09']\n",
            "scikit-learn -> scipy -> numpy[version='1.10.*,1.11.*,1.12.*,>=1.11.3,<2.0a0,>=1.9.3,<2.0a0'] -> python[version='>=2.7,<2.8.0a0,>=3.5,<3.6.0a0,>=3.6,<3.7.0a0,>=3.7,<3.8.0a0'] -> pip -> wheel -> setuptools -> certifi[version='>=2016.09']\n",
            "ipython -> jedi[version='>=0.10'] -> python[version='3.4.*,3.5.*,>=3.5,<3.6.0a0,>=3.6,<3.7.0a0'] -> pip -> wheel -> setuptools -> certifi[version='>=2016.09']\n",
            "cudf -> pyarrow=0.12.1 -> parquet-cpp=1.5.1 -> arrow-cpp[version='>=0.11.0,>=0.11.1,<0.12.0a0,>=0.12.0,>=0.12.0,<0.13.0a0'] -> numpy[version='>=1.11.3,<2.0a0,>=1.14,<2.0a0'] -> python[version='>=3.6,<3.7.0a0,>=3.7,<3.8.0a0'] -> pip -> wheel -> setuptools -> certifi[version='>=2016.09']\n",
            "jupyter_client -> tornado -> python[version='2.7.*,3.5.*,3.6.*,>=2.7,<2.8.0a0,>=3.5,<3.6.0a0,>=3.6,<3.7.0a0'] -> pip -> wheel -> setuptools -> certifi[version='>=2016.09']\n",
            "python-libarchive-c -> python[version='>=2.7,<2.8.0a0,>=3.6,<3.7.0a0,>=3.7,<3.8.0a0'] -> pip -> wheel -> setuptools -> certifi[version='>=2016.09']\n",
            "pyzmq -> python[version='3.6.*,>=2.7,<2.8.0a0,>=3.5,<3.6.0a0,>=3.6,<3.7.0a0,>=3.7,<3.8.0a0'] -> pip -> wheel -> setuptools -> certifi[version='>=2016.09']\n",
            "numpy -> python[version='>=2.7,<2.8.0a0,>=3.5,<3.6.0a0,>=3.6,<3.7.0a0,>=3.7,<3.8.0a0'] -> pip -> wheel -> setuptools -> certifi[version='>=2016.09']\n",
            "py-lief -> python[version='>=2.7,<2.8.0a0,>=3.6,<3.7.0a0,>=3.7,<3.8.0a0'] -> pip -> wheel -> setuptools -> certifi[version='>=2016.09']\n",
            "imagesize -> python[version='2.7.*,>=2.7,<2.8.0a0,>=3.5,<3.6.0a0,>=3.6,<3.7.0a0,>=3.7,<3.8.0a0'] -> pip -> wheel -> setuptools -> certifi[version='>=2016.09']\n",
            "zict -> heapdict -> python[version='2.7.*,3.4.*,>=2.7,<2.8.0a0,>=3.5,<3.6.0a0,>=3.6,<3.7.0a0,>=3.7,<3.8.0a0'] -> pip -> wheel -> setuptools -> certifi[version='>=2016.09']\n",
            "nltk -> singledispatch -> six -> python[version='3.5.*,3.6.*,>=3.6,<3.7.0a0,>=3.7,<3.8.0a0'] -> pip -> wheel -> setuptools -> certifi[version='>=2016.09']\n",
            "Package numpy-base conflicts for:\n",
            "anaconda==2019.07=py37_0 -> distributed==2.1.0=py_0 -> dask[version='>=0.10.0'] -> pandas[version='>=0.18.0,>=0.19.0'] -> numpy[version='>=1.11.*,>=1.14.6,<2.0a0,>=1.9.*,>=1.9.3,<2.0a0'] -> mkl_random[version='>=1.0.2,<2.0a0'] -> numpy-base[version='>=1.0.2,<2.0a0']\n",
            "h5py -> numpy[version='>=1.9.3,<2.0a0'] -> mkl_random[version='>=1.0.2,<2.0a0'] -> numpy-base[version='>=1.0.2,<2.0a0']\n",
            "dask-cuml -> distributed[version='>=1.23.0'] -> dask[version='>=0.10.0'] -> pandas[version='>=0.18.0,>=0.19.0'] -> numpy[version='1.11.*,>=1.11.*,>=1.14.6,<2.0a0,>=1.9.*,>=1.9.3,<2.0a0'] -> mkl_random[version='>=1.0.2,<2.0a0'] -> numpy-base[version='>=1.0.2,<2.0a0']\n",
            "scikit-learn -> scipy -> numpy[version='1.10.*,1.11.*,1.12.*,>=1.11.3,<2.0a0,>=1.9.3,<2.0a0'] -> mkl_random[version='>=1.0.2,<2.0a0'] -> numpy-base[version='>=1.0.2,<2.0a0']\n",
            "pytest-astropy -> pytest-doctestplus[version='>=0.1.2,>=0.1.3,>=0.2.0'] -> numpy[version='>=1.10'] -> mkl_random[version='>=1.0.2,<2.0a0'] -> numpy-base[version='>=1.0.2,<2.0a0']\n",
            "rapidsai/label/xgboost::xgboost -> py-xgboost==0.90.rapidsdev1=py37he6ff8a9_1 -> scikit-learn -> scipy -> numpy[version='1.10.*,1.11.*,1.12.*,>=1.11.3,<2.0a0,>=1.9.3,<2.0a0'] -> mkl_random[version='>=1.0.2,<2.0a0'] -> numpy-base[version='>=1.0.2,<2.0a0']\n",
            "dask-cudf -> distributed[version='>=1.23.0,>=2.0.0'] -> dask[version='>=0.10.0'] -> pandas[version='>=0.18.0,>=0.19.0'] -> numpy[version='1.11.*,>=1.11.*,>=1.14.6,<2.0a0,>=1.9.*,>=1.9.3,<2.0a0'] -> mkl_random[version='>=1.0.2,<2.0a0'] -> numpy-base[version='>=1.0.2,<2.0a0']\n",
            "scikit-image -> dask[version='>=0.5'] -> distributed[version='>=1.11.0,>=1.16.0,>=1.22.0,>=1.26.0,>=1.27.0'] -> bokeh -> numpy[version='>=1.7.1'] -> mkl_random[version='>=1.0.2,<2.0a0'] -> numpy-base[version='>=1.0.2,<2.0a0']\n",
            "scipy -> numpy[version='1.10.*,1.11.*,1.12.*,>=1.11.3,<2.0a0,>=1.9.3,<2.0a0'] -> mkl_random[version='>=1.0.2,<2.0a0'] -> numpy-base[version='>=1.0.2,<2.0a0']\n",
            "rapidsai/label/xgboost::xgboost -> py-xgboost==0.90.rapidsdev1=cuda10.0py37_1 -> scikit-learn -> scipy -> numpy[version='1.10.*,1.11.*,1.12.*,>=1.11.3,<2.0a0,>=1.9.3,<2.0a0'] -> mkl_random[version='>=1.0.2,<2.0a0'] -> numpy-base[version='>=1.0.2,<2.0a0']\n",
            "bottleneck -> numpy[version='1.10.*,1.11.*,>=1.11.3,<2.0a0,>=1.9.3,<2.0a0'] -> mkl_random[version='>=1.0.2,<2.0a0'] -> numpy-base[version='>=1.0.2,<2.0a0']\n",
            "rapidsai/label/xgboost::xgboost -> py-xgboost==0.90.rapidsdev1=cuda10.0py36_1 -> scikit-learn -> scipy -> numpy[version='1.10.*,1.11.*,1.12.*,>=1.11.3,<2.0a0,>=1.9.3,<2.0a0'] -> mkl_random[version='>=1.0.2,<2.0a0'] -> numpy-base[version='>=1.0.2,<2.0a0']\n",
            "pandas -> numpy[version='1.11.*,>=1.11.*,>=1.14.6,<2.0a0,>=1.9.*,>=1.9.3,<2.0a0'] -> mkl_random[version='>=1.0.2,<2.0a0'] -> numpy-base[version='>=1.0.2,<2.0a0']\n",
            "matplotlib -> numpy=1.11 -> mkl_random[version='>=1.0.2,<2.0a0'] -> numpy-base[version='>=1.0.2,<2.0a0']\n",
            "imageio -> numpy -> mkl_random[version='>=1.0.2,<2.0a0'] -> numpy-base[version='>=1.0.2,<2.0a0']\n",
            "distributed -> dask[version='>=0.10.0'] -> pandas[version='>=0.18.0,>=0.19.0'] -> numpy[version='1.11.*,>=1.11.*,>=1.14.6,<2.0a0,>=1.9.*,>=1.9.3,<2.0a0'] -> mkl_random[version='>=1.0.2,<2.0a0'] -> numpy-base[version='>=1.0.2,<2.0a0']\n",
            "astropy -> numpy[version='1.11.*,1.12.*,1.13.*,>=1.9'] -> mkl_random[version='>=1.0.2,<2.0a0'] -> numpy-base[version='>=1.0.2,<2.0a0']\n",
            "numexpr -> numpy[version='1.10.*,>=1.11,>=1.11.3,<2.0a0,>=1.9.3,<2.0a0'] -> mkl_random[version='>=1.0.2,<2.0a0'] -> numpy-base[version='>=1.0.2,<2.0a0']\n",
            "cugraph -> cudf[version='0.7.*,0.8.*,0.9.*'] -> rmm[version='0.7.*,0.8.*,0.9.*'] -> numba[version='>=0.41'] -> numpy[version='1.15.*,>=1.10,<1.11.0a0,>=1.11.3,<2.0a0,>=1.13,<1.14.0a0,>=1.14,<1.15.0a0,>=1.15.4,<2.0a0'] -> mkl_random[version='>=1.0.2,<2.0a0'] -> numpy-base[version='>=1.0.2,<2.0a0']\n",
            "bokeh -> numpy[version='>=1.7.1'] -> mkl_random[version='>=1.0.2,<2.0a0'] -> numpy-base[version='>=1.0.2,<2.0a0']\n",
            "numpy -> mkl_random[version='>=1.0.2,<2.0a0'] -> numpy-base[version='>=1.0.2,<2.0a0']\n",
            "pytest-doctestplus -> numpy[version='>=1.10'] -> mkl_random[version='>=1.0.2,<2.0a0'] -> numpy-base[version='>=1.0.2,<2.0a0']\n",
            "cudf -> rmm[version='0.7.*,0.8.*,0.9.*'] -> numba[version='>=0.41'] -> numpy[version='1.15.*,>=1.10,<1.11.0a0,>=1.11.3,<2.0a0,>=1.13,<1.14.0a0,>=1.14,<1.15.0a0,>=1.15.4,<2.0a0'] -> mkl_random[version='>=1.0.2,<2.0a0'] -> numpy-base[version='>=1.0.2,<2.0a0']\n",
            "numba -> numpy[version='1.15.*,>=1.10,<1.11.0a0,>=1.11.3,<2.0a0,>=1.13,<1.14.0a0,>=1.14,<1.15.0a0,>=1.15.4,<2.0a0'] -> mkl_random[version='>=1.0.2,<2.0a0'] -> numpy-base[version='>=1.0.2,<2.0a0']\n",
            "rapidsai/label/xgboost::xgboost -> py-xgboost==0.83.dev43=py37he6ff8a9_1 -> scikit-learn -> scipy -> numpy[version='1.10.*,1.11.*,1.12.*,>=1.11.3,<2.0a0,>=1.9.3,<2.0a0'] -> mkl_random[version='>=1.0.2,<2.0a0'] -> numpy-base[version='>=1.0.2,<2.0a0']\n",
            "mkl_fft -> numpy[version='>=1.11,>=1.11.3,<2.0a0'] -> mkl_random[version='>=1.0.2,<2.0a0'] -> numpy-base[version='>=1.0.2,<2.0a0']\n",
            "cuml -> libcuml[version='0.8.0a.*,0.9.0a.*,0.9.0a1.*'] -> cudf[version='0.7.*,0.8.*,0.9.*'] -> rmm[version='0.7.*,0.8.*,0.9.*'] -> numba[version='>=0.41'] -> numpy[version='1.15.*,>=1.10,<1.11.0a0,>=1.11.3,<2.0a0,>=1.13,<1.14.0a0,>=1.14,<1.15.0a0,>=1.15.4,<2.0a0'] -> mkl_random[version='>=1.0.2,<2.0a0'] -> numpy-base[version='>=1.0.2,<2.0a0']\n",
            "dask -> distributed[version='>=1.11.0,>=1.16.0,>=1.22.0,>=1.26.0,>=1.27.0'] -> bokeh -> numpy[version='>=1.7.1'] -> mkl_random[version='>=1.0.2,<2.0a0'] -> numpy-base[version='>=1.0.2,<2.0a0']\n",
            "pywavelets -> numpy[version='1.11.*,1.13.*,>=1.11.3,<2.0a0,>=1.9.3,<2.0a0'] -> mkl_random[version='>=1.0.2,<2.0a0'] -> numpy-base[version='>=1.0.2,<2.0a0']\n",
            "statsmodels -> patsy[version='>=0.4.0'] -> scipy -> numpy[version='1.10.*,1.11.*,1.12.*,>=1.11.3,<2.0a0,>=1.9.3,<2.0a0'] -> mkl_random[version='>=1.0.2,<2.0a0'] -> numpy-base[version='>=1.0.2,<2.0a0']\n",
            "rapidsai/label/xgboost::xgboost -> py-xgboost==0.90.rapidsdev1=cuda9.2py37_1 -> scikit-learn -> scipy -> numpy[version='1.10.*,1.11.*,1.12.*,>=1.11.3,<2.0a0,>=1.9.3,<2.0a0'] -> mkl_random[version='>=1.0.2,<2.0a0'] -> numpy-base[version='>=1.0.2,<2.0a0']\n",
            "pytables -> numexpr -> numpy[version='1.10.*,>=1.11,>=1.11.3,<2.0a0,>=1.9.3,<2.0a0'] -> mkl_random[version='>=1.0.2,<2.0a0'] -> numpy-base[version='>=1.0.2,<2.0a0']\n",
            "rapidsai/label/xgboost::xgboost -> py-xgboost==0.90.rapidsdev1=py36he6ff8a9_1 -> scikit-learn -> scipy -> numpy[version='1.10.*,1.11.*,1.12.*,>=1.11.3,<2.0a0,>=1.9.3,<2.0a0'] -> mkl_random[version='>=1.0.2,<2.0a0'] -> numpy-base[version='>=1.0.2,<2.0a0']\n",
            "patsy -> scipy -> numpy[version='1.10.*,1.11.*,1.12.*,>=1.11.3,<2.0a0,>=1.9.3,<2.0a0'] -> mkl_random[version='>=1.0.2,<2.0a0'] -> numpy-base[version='>=1.0.2,<2.0a0']\n",
            "rapidsai/label/xgboost::xgboost -> py-xgboost==0.90.rapidsdev1=cuda9.2py36_1 -> scikit-learn -> scipy -> numpy[version='1.10.*,1.11.*,1.12.*,>=1.11.3,<2.0a0,>=1.9.3,<2.0a0'] -> mkl_random[version='>=1.0.2,<2.0a0'] -> numpy-base[version='>=1.0.2,<2.0a0']\n",
            "seaborn -> statsmodels[version='>=0.5.0'] -> patsy[version='>=0.4.0'] -> scipy -> numpy[version='1.10.*,1.11.*,1.12.*,>=1.11.3,<2.0a0,>=1.9.3,<2.0a0'] -> mkl_random[version='>=1.0.2,<2.0a0'] -> numpy-base[version='>=1.0.2,<2.0a0']\n",
            "mkl_random -> numpy[version='>=1.11.3,<2.0a0,>=1.9.3,<2.0a0'] -> numpy-base==1.11.3=py36hde5b4d6_12\n",
            "bkcharts -> pandas -> numpy[version='1.11.*,>=1.11.*,>=1.14.6,<2.0a0,>=1.9.*,>=1.9.3,<2.0a0'] -> mkl_random[version='>=1.0.2,<2.0a0'] -> numpy-base[version='>=1.0.2,<2.0a0']\n",
            "pytest-arraydiff -> numpy -> mkl_random[version='>=1.0.2,<2.0a0'] -> numpy-base[version='>=1.0.2,<2.0a0']\n",
            "mkl-service -> numpy[version='>=1.11.3,<2.0a0'] -> mkl_random[version='>=1.0.2,<2.0a0'] -> numpy-base[version='>=1.0.2,<2.0a0']\n",
            "Package urllib3 conflicts for:\n",
            "anaconda-navigator -> anaconda-project[version='>=0.4'] -> anaconda-client -> requests[version='>=2.0,>=2.9.1'] -> urllib3[version='>=1.21.1,<1.22,>=1.21.1,<1.23,>=1.21.1,<1.24,>=1.21.1,<1.25']\n",
            "anaconda-project -> anaconda-client -> requests[version='>=2.0,>=2.9.1'] -> urllib3[version='>=1.21.1,<1.22,>=1.21.1,<1.23,>=1.21.1,<1.24,>=1.21.1,<1.25']\n",
            "conda-build -> conda[version='>=4.1,<4.4,>=4.3'] -> requests[version='>=2.12.4,<3,>=2.14.2,<3,>=2.18.4,<3'] -> urllib3[version='>=1.21.1,<1.22,>=1.21.1,<1.23,>=1.21.1,<1.24,>=1.21.1,<1.25']\n",
            "distributed -> s3fs[version='>=0.0.6'] -> boto3 -> s3transfer[version='>=0.1.10,<0.2.0,>=0.2.0,<0.3.0'] -> botocore[version='>=1.12.36,<2.0.0,>=1.3.0,<2.0.0'] -> urllib3[version='>=1.20,<1.24']\n",
            "gcsfs -> google-auth-oauthlib -> requests-oauthlib[version='>=0.7.0,>=0.7.0,<1dev'] -> requests[version='>=2.0.0'] -> urllib3[version='>=1.21.1,<1.22,>=1.21.1,<1.23,>=1.21.1,<1.24,>=1.21.1,<1.25']\n",
            "dask -> distributed[version='>=1.11.0,>=1.16.0,>=1.22.0,>=1.26.0,>=1.27.0'] -> s3fs[version='>=0.0.6'] -> boto3 -> s3transfer[version='>=0.1.10,<0.2.0,>=0.2.0,<0.3.0'] -> botocore[version='>=1.12.36,<2.0.0,>=1.3.0,<2.0.0'] -> urllib3[version='>=1.20,<1.24']\n",
            "anaconda-client -> requests[version='>=2.0,>=2.9.1'] -> urllib3[version='>=1.21.1,<1.22,>=1.21.1,<1.23,>=1.21.1,<1.24,>=1.21.1,<1.25']\n",
            "conda[version='>=4.7.10'] -> requests[version='>=2.12.4,<3,>=2.14.2,<3,>=2.18.4,<3'] -> urllib3[version='>=1.21.1,<1.22,>=1.21.1,<1.23,>=1.21.1,<1.24,>=1.21.1,<1.25']\n",
            "scikit-image -> dask[version='>=0.5'] -> distributed[version='>=1.11.0,>=1.16.0,>=1.22.0,>=1.26.0,>=1.27.0'] -> s3fs[version='>=0.0.6'] -> boto3 -> s3transfer[version='>=0.1.10,<0.2.0,>=0.2.0,<0.3.0'] -> botocore[version='>=1.12.36,<2.0.0,>=1.3.0,<2.0.0'] -> urllib3[version='>=1.20,<1.24']\n",
            "numpydoc -> sphinx -> requests[version='>=2.0.0,>=2.5.0'] -> urllib3[version='>=1.21.1,<1.22,>=1.21.1,<1.23,>=1.21.1,<1.24,>=1.21.1,<1.25']\n",
            "sphinx -> requests[version='>=2.0.0,>=2.5.0'] -> urllib3[version='>=1.21.1,<1.22,>=1.21.1,<1.23,>=1.21.1,<1.24,>=1.21.1,<1.25']\n",
            "requests -> urllib3[version='>=1.21.1,<1.22,>=1.21.1,<1.23,>=1.21.1,<1.24,>=1.21.1,<1.25']\n",
            "spyder -> numpydoc -> sphinx -> requests[version='>=2.0.0,>=2.5.0'] -> urllib3[version='>=1.21.1,<1.22,>=1.21.1,<1.23,>=1.21.1,<1.24,>=1.21.1,<1.25']\n",
            "Package olefile conflicts for:\n",
            "dask -> distributed[version='>=1.15.0,>=1.16.0,>=1.22.0,>=1.26.0,>=1.27.0'] -> bokeh -> pillow[version='>=4.0'] -> olefile\n",
            "anaconda==2019.07=py37_0 -> distributed==2.1.0=py_0 -> dask[version='>=0.10.0'] -> bokeh[version='>=0.13.0'] -> pillow[version='>=4.0'] -> olefile\n",
            "bokeh -> pillow[version='>=4.0'] -> olefile\n",
            "pillow -> olefile\n",
            "distributed -> dask[version='>=0.10.0'] -> bokeh[version='>=0.13.0'] -> pillow[version='>=4.0'] -> olefile\n",
            "scikit-image -> dask[version='>=0.5'] -> distributed[version='>=1.15.0,>=1.16.0,>=1.22.0,>=1.26.0,>=1.27.0'] -> bokeh -> pillow[version='>=4.0'] -> olefile\n",
            "dask-cudf -> distributed[version='>=1.23.0,>=2.0.0'] -> dask[version='>=0.10.0'] -> bokeh[version='>=0.13.0'] -> pillow[version='>=4.0'] -> olefile\n",
            "imageio -> pillow -> olefile\n",
            "dask-cuml -> dask-cudf=0.7 -> distributed[version='>=1.23.0,>=2.0.0'] -> dask[version='>=0.10.0'] -> bokeh[version='>=0.13.0'] -> pillow[version='>=4.0'] -> olefile\n",
            "anaconda-navigator -> pillow -> olefile\n",
            "Package entrypoints conflicts for:\n",
            "ipywidgets -> widgetsnbextension[version='>=1.2.3,>=1.2.6,<2,>=3.1.0,<3.2.0,>=3.1.0,<4.0,>=3.1.0,<4.0.0,>=3.2.0,<3.3.0,>=3.3.0,<3.4.0'] -> notebook[version='>=4.2.0,>=4.4.1'] -> nbconvert -> entrypoints[version='>=0.2.2']\n",
            "widgetsnbextension -> notebook[version='>=4.2.0,>=4.4.1'] -> nbconvert -> entrypoints[version='>=0.2.2']\n",
            "jupyterlab_server -> notebook -> nbconvert -> entrypoints[version='>=0.2.2']\n",
            "keyring -> entrypoints\n",
            "_ipyw_jlab_nb_ext_conf -> jupyterlab -> jupyterlab_server[version='>=0.2.0,<0.3.0'] -> notebook -> nbconvert -> entrypoints[version='>=0.2.2']\n",
            "gcsfs -> google-auth-oauthlib -> requests-oauthlib[version='>=0.7.0,>=0.7.0,<1dev'] -> oauthlib[version='>=0.6.2'] -> pyjwt[version='>=1.0.0'] -> pep8-naming -> flake8-polyfill[version='>=1.0.2,>=1.0.2,<2'] -> flake8 -> entrypoints[version='>=0.3.0,<0.4.0']\n",
            "anaconda==2019.07=py37_0 -> jupyter==1.0.0=py37_7 -> ipywidgets -> widgetsnbextension[version='>=1.2.3,>=3.1.0,<4.0,>=3.1.0,<4.0.0'] -> notebook[version='>=4.2.0,>=4.4.1'] -> nbconvert -> entrypoints[version='>=0.2.2']\n",
            "spyder -> nbconvert -> entrypoints[version='>=0.2.2']\n",
            "nbconvert -> entrypoints[version='>=0.2.2']\n",
            "jupyter -> ipywidgets -> widgetsnbextension[version='>=1.2.3,>=1.2.6,<2,>=3.1.0,<3.2.0,>=3.1.0,<4.0,>=3.1.0,<4.0.0,>=3.2.0,<3.3.0,>=3.3.0,<3.4.0'] -> notebook[version='>=4.2.0,>=4.4.1'] -> nbconvert -> entrypoints[version='>=0.2.2']\n",
            "jupyterlab -> jupyterlab_server[version='>=0.2.0,<0.3.0'] -> notebook -> nbconvert -> entrypoints[version='>=0.2.2']\n",
            "notebook -> nbconvert -> entrypoints[version='>=0.2.2']\n",
            "Package pillow conflicts for:\n",
            "dask -> distributed[version='>=1.15.0,>=1.16.0,>=1.22.0,>=1.26.0,>=1.27.0'] -> bokeh -> pillow[version='>=4.0']\n",
            "dask-cudf -> distributed[version='>=1.23.0,>=2.0.0'] -> dask[version='>=0.10.0'] -> bokeh[version='>=0.13.0'] -> pillow[version='>=4.0']\n",
            "bokeh -> pillow[version='>=4.0']\n",
            "dask-cuml -> dask-cudf=0.7 -> distributed[version='>=1.23.0,>=2.0.0'] -> dask[version='>=0.10.0'] -> bokeh[version='>=0.13.0'] -> pillow[version='>=4.0']\n",
            "distributed -> dask[version='>=0.10.0'] -> bokeh[version='>=0.13.0'] -> pillow[version='>=4.0']\n",
            "scikit-image -> dask[version='>=0.5'] -> distributed[version='>=1.15.0,>=1.16.0,>=1.22.0,>=1.26.0,>=1.27.0'] -> bokeh -> pillow[version='>=4.0']\n",
            "anaconda==2019.07=py37_0 -> distributed==2.1.0=py_0 -> dask[version='>=0.10.0'] -> bokeh[version='>=0.13.0'] -> pillow[version='>=4.0']\n",
            "anaconda-navigator -> pillow\n",
            "imageio -> pillow\n",
            "Package numpy conflicts for:\n",
            "astropy -> numpy[version='1.11.*,1.12.*,1.13.*,>=1.9']\n",
            "rapidsai/label/xgboost::xgboost -> py-xgboost==0.90.rapidsdev1=cuda10.0py37_1 -> scikit-learn -> scipy -> numpy[version='1.10.*,1.11.*,1.12.*,>=1.11.3,<2.0a0,>=1.9.3,<2.0a0']\n",
            "bokeh -> numpy[version='>=1.7.1']\n",
            "rapidsai/label/xgboost::xgboost -> py-xgboost==0.90.rapidsdev1=cuda10.0py36_1 -> scikit-learn -> scipy -> numpy[version='1.10.*,1.11.*,1.12.*,>=1.11.3,<2.0a0,>=1.9.3,<2.0a0']\n",
            "anaconda==2019.07=py37_0 -> distributed==2.1.0=py_0 -> dask[version='>=0.10.0'] -> pandas[version='>=0.18.0,>=0.19.0'] -> numpy[version='>=1.11.*,>=1.14.6,<2.0a0,>=1.9.*,>=1.9.3,<2.0a0']\n",
            "pandas -> numpy[version='1.11.*,>=1.11.*,>=1.14.6,<2.0a0,>=1.9.*,>=1.9.3,<2.0a0']\n",
            "bottleneck -> numpy[version='1.10.*,1.11.*,>=1.11.3,<2.0a0,>=1.9.3,<2.0a0']\n",
            "scikit-image -> dask[version='>=0.5'] -> distributed[version='>=1.11.0,>=1.16.0,>=1.22.0,>=1.26.0,>=1.27.0'] -> bokeh -> numpy[version='>=1.7.1']\n",
            "distributed -> dask[version='>=0.10.0'] -> pandas[version='>=0.18.0,>=0.19.0'] -> numpy[version='1.11.*,>=1.11.*,>=1.14.6,<2.0a0,>=1.9.*,>=1.9.3,<2.0a0']\n",
            "dask -> distributed[version='>=1.11.0,>=1.16.0,>=1.22.0,>=1.26.0,>=1.27.0'] -> bokeh -> numpy[version='>=1.7.1']\n",
            "mkl_fft -> numpy[version='>=1.11,>=1.11.3,<2.0a0']\n",
            "scikit-learn -> scipy -> numpy[version='1.10.*,1.11.*,1.12.*,>=1.11.3,<2.0a0,>=1.9.3,<2.0a0']\n",
            "cudf -> rmm[version='0.7.*,0.8.*,0.9.*'] -> numba[version='>=0.41'] -> numpy[version='1.15.*,>=1.10,<1.11.0a0,>=1.11.3,<2.0a0,>=1.13,<1.14.0a0,>=1.14,<1.15.0a0,>=1.15.4,<2.0a0']\n",
            "scipy -> numpy[version='1.10.*,1.11.*,1.12.*,>=1.11.3,<2.0a0,>=1.9.3,<2.0a0']\n",
            "pytest-astropy -> pytest-doctestplus[version='>=0.1.2,>=0.1.3,>=0.2.0'] -> numpy[version='>=1.10']\n",
            "bkcharts -> pandas -> numpy[version='1.11.*,>=1.11.*,>=1.14.6,<2.0a0,>=1.9.*,>=1.9.3,<2.0a0']\n",
            "rapidsai/label/xgboost::xgboost -> py-xgboost==0.90.rapidsdev1=py36he6ff8a9_1 -> scikit-learn -> scipy -> numpy[version='1.10.*,1.11.*,1.12.*,>=1.11.3,<2.0a0,>=1.9.3,<2.0a0']\n",
            "cugraph -> cudf[version='0.7.*,0.8.*,0.9.*'] -> rmm[version='0.7.*,0.8.*,0.9.*'] -> numba[version='>=0.41'] -> numpy[version='1.15.*,>=1.10,<1.11.0a0,>=1.11.3,<2.0a0,>=1.13,<1.14.0a0,>=1.14,<1.15.0a0,>=1.15.4,<2.0a0']\n",
            "rapidsai/label/xgboost::xgboost -> py-xgboost==0.83.dev43=py37he6ff8a9_1 -> scikit-learn -> scipy -> numpy[version='1.10.*,1.11.*,1.12.*,>=1.11.3,<2.0a0,>=1.9.3,<2.0a0']\n",
            "imageio -> numpy\n",
            "rapidsai/label/xgboost::xgboost -> py-xgboost==0.90.rapidsdev1=py37he6ff8a9_1 -> scikit-learn -> scipy -> numpy[version='1.10.*,1.11.*,1.12.*,>=1.11.3,<2.0a0,>=1.9.3,<2.0a0']\n",
            "dask-cuml -> distributed[version='>=1.23.0'] -> dask[version='>=0.10.0'] -> pandas[version='>=0.18.0,>=0.19.0'] -> numpy[version='1.11.*,>=1.11.*,>=1.14.6,<2.0a0,>=1.9.*,>=1.9.3,<2.0a0']\n",
            "seaborn -> statsmodels[version='>=0.5.0'] -> patsy[version='>=0.4.0'] -> scipy -> numpy[version='1.10.*,1.11.*,1.12.*,>=1.11.3,<2.0a0,>=1.9.3,<2.0a0']\n",
            "statsmodels -> patsy[version='>=0.4.0'] -> scipy -> numpy[version='1.10.*,1.11.*,1.12.*,>=1.11.3,<2.0a0,>=1.9.3,<2.0a0']\n",
            "patsy -> scipy -> numpy[version='1.10.*,1.11.*,1.12.*,>=1.11.3,<2.0a0,>=1.9.3,<2.0a0']\n",
            "numba -> numpy[version='1.15.*,>=1.10,<1.11.0a0,>=1.11.3,<2.0a0,>=1.13,<1.14.0a0,>=1.14,<1.15.0a0,>=1.15.4,<2.0a0']\n",
            "h5py -> numpy[version='>=1.9.3,<2.0a0']\n",
            "matplotlib -> numpy=1.11\n",
            "rapidsai/label/xgboost::xgboost -> py-xgboost==0.90.rapidsdev1=cuda9.2py37_1 -> scikit-learn -> scipy -> numpy[version='1.10.*,1.11.*,1.12.*,>=1.11.3,<2.0a0,>=1.9.3,<2.0a0']\n",
            "mkl-service -> numpy[version='>=1.11.3,<2.0a0']\n",
            "pytables -> numexpr -> numpy[version='1.10.*,>=1.11,>=1.11.3,<2.0a0,>=1.9.3,<2.0a0']\n",
            "numexpr -> numpy[version='1.10.*,>=1.11,>=1.11.3,<2.0a0,>=1.9.3,<2.0a0']\n",
            "dask-cudf -> distributed[version='>=1.23.0,>=2.0.0'] -> dask[version='>=0.10.0'] -> pandas[version='>=0.18.0,>=0.19.0'] -> numpy[version='1.11.*,>=1.11.*,>=1.14.6,<2.0a0,>=1.9.*,>=1.9.3,<2.0a0']\n",
            "pywavelets -> numpy[version='1.11.*,1.13.*,>=1.11.3,<2.0a0,>=1.9.3,<2.0a0']\n",
            "mkl_random -> numpy[version='>=1.11.3,<2.0a0,>=1.9.3,<2.0a0']\n",
            "rapidsai/label/xgboost::xgboost -> py-xgboost==0.90.rapidsdev1=cuda9.2py36_1 -> scikit-learn -> scipy -> numpy[version='1.10.*,1.11.*,1.12.*,>=1.11.3,<2.0a0,>=1.9.3,<2.0a0']\n",
            "pytest-arraydiff -> numpy\n",
            "pytest-doctestplus -> numpy[version='>=1.10']\n",
            "cuml -> libcuml[version='0.8.0a.*,0.9.0a.*,0.9.0a1.*'] -> cudf[version='0.7.*,0.8.*,0.9.*'] -> rmm[version='0.7.*,0.8.*,0.9.*'] -> numba[version='>=0.41'] -> numpy[version='1.15.*,>=1.10,<1.11.0a0,>=1.11.3,<2.0a0,>=1.13,<1.14.0a0,>=1.14,<1.15.0a0,>=1.15.4,<2.0a0']\n",
            "Package pyflakes conflicts for:\n",
            "anaconda==2019.07=py37_0 -> pyflakes==2.1.1=py37_0\n",
            "spyder -> pyflakes\n",
            "gcsfs -> google-auth-oauthlib -> requests-oauthlib[version='>=0.7.0,>=0.7.0,<1dev'] -> oauthlib[version='>=0.6.2'] -> pyjwt[version='>=1.0.0'] -> pep8-naming -> flake8-polyfill[version='>=1.0.2,>=1.0.2,<2'] -> flake8 -> pyflakes[version='>=1.2.3,<1.4,>=1.5.0,<1.6.0,>=1.5.0,<1.7.0,>=2.1.0,<2.2.0']\n",
            "Package decorator conflicts for:\n",
            "jupyterlab -> jupyterlab_launcher[version='>=0.10.0,<0.11.0,>=0.11.2,<0.12.0,>=0.2.3'] -> notebook -> ipykernel -> ipython[version='>=4.0,>=5.0'] -> traitlets[version='>=4.2'] -> decorator\n",
            "jupyter -> ipywidgets -> widgetsnbextension[version='>=1.2.3,>=1.2.6,>=1.2.6,<2,>=3.1.0,<3.2.0,>=3.1.0,<4.0,>=3.3.0,<3.4.0'] -> notebook[version='>=4.2.0,>=4.4.1'] -> ipykernel -> ipython[version='>=4.0,>=5.0'] -> traitlets[version='>=4.2'] -> decorator\n",
            "anaconda==2019.07=py37_0 -> jupyter==1.0.0=py37_7 -> ipywidgets -> widgetsnbextension[version='>=1.2.3,>=1.2.6,>=3.1.0,<4.0'] -> notebook[version='>=4.2.0,>=4.4.1'] -> ipykernel -> ipython[version='>=4.0,>=5.0'] -> traitlets[version='>=4.2'] -> decorator\n",
            "qtconsole -> ipykernel[version='>=4.1'] -> ipython[version='>=4.0,>=5.0'] -> traitlets[version='>=4.2'] -> decorator\n",
            "networkx -> decorator[version='>=3.4.0,>=4.1.0,>=4.3.0']\n",
            "nbformat -> jupyter_core -> traitlets -> decorator\n",
            "anaconda-project -> anaconda-client -> nbformat[version='>=4.4.0'] -> jupyter_core -> traitlets -> decorator\n",
            "notebook -> ipykernel -> ipython[version='>=4.0,>=5.0'] -> traitlets[version='>=4.2'] -> decorator\n",
            "spyder-kernels -> ipykernel[version='>4.9.0'] -> ipython[version='>=4.0,>=5.0'] -> traitlets[version='>=4.2'] -> decorator\n",
            "_ipyw_jlab_nb_ext_conf -> jupyterlab -> jupyterlab_launcher[version='>=0.10.0,<0.11.0,>=0.11.2,<0.12.0,>=0.2.3'] -> notebook -> ipykernel -> ipython[version='>=4.0,>=5.0'] -> traitlets[version='>=4.2'] -> decorator\n",
            "widgetsnbextension -> notebook[version='>=4.2.0,>=4.4.1'] -> ipykernel -> ipython[version='>=4.0,>=5.0'] -> traitlets[version='>=4.2'] -> decorator\n",
            "scikit-image -> networkx[version='>=1.8,>=1.8,<2.0'] -> decorator[version='>=3.4.0,>=4.1.0,>=4.3.0']\n",
            "jupyter_core -> traitlets -> decorator\n",
            "jupyter_client -> jupyter_core -> traitlets -> decorator\n",
            "jupyter_console -> ipykernel -> ipython[version='>=4.0,>=5.0'] -> traitlets[version='>=4.2'] -> decorator\n",
            "ipython -> traitlets[version='>=4.2'] -> decorator\n",
            "ipykernel -> ipython[version='>=4.0,>=5.0'] -> traitlets[version='>=4.2'] -> decorator\n",
            "anaconda-client -> nbformat[version='>=4.4.0'] -> jupyter_core -> traitlets -> decorator\n",
            "anaconda-navigator -> anaconda-project[version='>=0.4'] -> anaconda-client -> nbformat[version='>=4.4.0'] -> jupyter_core -> traitlets -> decorator\n",
            "gcsfs -> decorator\n",
            "spyder -> spyder-kernels[version='0.*,>=0.5.0,<1'] -> ipykernel[version='>4.9.0'] -> ipython[version='>=4.0,>=5.0'] -> traitlets[version='>=4.2'] -> decorator\n",
            "nbconvert -> nbformat[version='>=4.4'] -> jupyter_core -> traitlets -> decorator\n",
            "jupyterlab_server -> notebook -> ipykernel -> ipython[version='>=4.0,>=5.0'] -> traitlets[version='>=4.2'] -> decorator\n",
            "ipywidgets -> widgetsnbextension[version='>=1.2.3,>=1.2.6,>=1.2.6,<2,>=3.1.0,<3.2.0,>=3.1.0,<4.0,>=3.3.0,<3.4.0'] -> notebook[version='>=4.2.0,>=4.4.1'] -> ipykernel -> ipython[version='>=4.0,>=5.0'] -> traitlets[version='>=4.2'] -> decorator\n",
            "traitlets -> decorator\n",
            "Package idna conflicts for:\n",
            "conda-build -> conda[version='>=4.1,<4.4,>=4.3'] -> requests[version='>=2.12.4,<3,>=2.14.2,<3,>=2.18.4,<3'] -> urllib3[version='>=1.21.1,<1.22,>=1.21.1,<1.23,>=1.21.1,<1.24,>=1.21.1,<1.25'] -> pyopenssl[version='>=0.14'] -> cryptography[version='>=1.3.4,>=1.9,>=2.1.4,>=2.2.1'] -> idna[version='>=2.1']\n",
            "sphinx -> requests[version='>=2.0.0,>=2.5.0'] -> urllib3[version='>=1.21.1,<1.22,>=1.21.1,<1.23,>=1.21.1,<1.24,>=1.21.1,<1.25'] -> pyopenssl[version='>=0.14'] -> cryptography[version='>=1.3.4,>=1.9,>=2.1.4,>=2.2.1'] -> idna[version='>=2.1']\n",
            "jupyterlab -> jupyterlab_launcher[version='>=0.10.0,<0.11.0,>=0.11.2,<0.12.0,>=0.2.3'] -> notebook -> prometheus_client -> twisted -> service_identity -> pyopenssl[version='>=0.12'] -> cryptography[version='>=1.3.4,>=1.9,>=2.1.4,>=2.2.1'] -> idna[version='>=2.1']\n",
            "anaconda-project -> anaconda-client -> requests[version='>=2.0,>=2.9.1'] -> urllib3[version='>=1.21.1,<1.22,>=1.21.1,<1.23,>=1.21.1,<1.24,>=1.21.1,<1.25'] -> pyopenssl[version='>=0.14'] -> cryptography[version='>=1.3.4,>=1.9,>=2.1.4,>=2.2.1'] -> idna[version='>=2.1']\n",
            "distributed -> s3fs[version='>=0.0.6'] -> boto3 -> s3transfer[version='>=0.1.10,<0.2.0,>=0.2.0,<0.3.0'] -> botocore[version='>=1.12.36,<2.0.0,>=1.3.0,<2.0.0'] -> urllib3[version='>=1.20,<1.24'] -> pyopenssl[version='>=0.14'] -> cryptography[version='>=1.3.4,>=1.9,>=2.1.4,>=2.2.1'] -> idna[version='>=2.1']\n",
            "anaconda==2019.07=py37_0 -> distributed==2.1.0=py_0 -> pyopenssl[version='>=0.14'] -> cryptography[version='>=1.3.4,>=1.9,>=2.1.4,>=2.2.1'] -> idna[version='>=2.1']\n",
            "conda[version='>=4.7.10'] -> requests[version='>=2.12.4,<3,>=2.14.2,<3,>=2.18.4,<3'] -> urllib3[version='>=1.21.1,<1.22,>=1.21.1,<1.23,>=1.21.1,<1.24,>=1.21.1,<1.25'] -> pyopenssl[version='>=0.14'] -> cryptography[version='>=1.3.4,>=1.9,>=2.1.4,>=2.2.1'] -> idna[version='>=2.1']\n",
            "cryptography -> idna[version='>=2.1']\n",
            "prometheus_client -> twisted -> service_identity -> pyopenssl[version='>=0.12'] -> cryptography[version='>=1.3.4,>=1.9,>=2.1.4,>=2.2.1'] -> idna[version='>=2.1']\n",
            "spyder -> numpydoc -> sphinx -> requests[version='>=2.0.0,>=2.5.0'] -> urllib3[version='>=1.21.1,<1.22,>=1.21.1,<1.23,>=1.21.1,<1.24,>=1.21.1,<1.25'] -> pyopenssl[version='>=0.14'] -> cryptography[version='>=1.3.4,>=1.9,>=2.1.4,>=2.2.1'] -> idna[version='>=2.1']\n",
            "_ipyw_jlab_nb_ext_conf -> jupyterlab -> jupyterlab_launcher[version='>=0.10.0,<0.11.0,>=0.11.2,<0.12.0,>=0.2.3'] -> notebook -> prometheus_client -> twisted -> service_identity -> pyopenssl[version='>=0.12'] -> cryptography[version='>=1.3.4,>=1.9,>=2.1.4,>=2.2.1'] -> idna[version='>=2.1']\n",
            "jupyter -> ipywidgets -> widgetsnbextension[version='>=1.2.3,>=1.2.6,>=1.2.6,<2,>=3.1.0,<3.2.0,>=3.1.0,<4.0,>=3.3.0,<3.4.0'] -> notebook[version='>=4.2.0,>=4.4.1'] -> prometheus_client -> twisted -> service_identity -> pyopenssl[version='>=0.12'] -> cryptography[version='>=1.3.4,>=1.9,>=2.1.4,>=2.2.1'] -> idna[version='>=2.1']\n",
            "requests -> urllib3[version='>=1.21.1,<1.22,>=1.21.1,<1.23,>=1.21.1,<1.24,>=1.21.1,<1.25'] -> pyopenssl[version='>=0.14'] -> cryptography[version='>=1.3.4,>=1.9,>=2.1.4,>=2.2.1'] -> idna[version='>=2.1']\n",
            "gcsfs -> google-auth-oauthlib -> requests-oauthlib[version='>=0.7.0,>=0.7.0,<1dev'] -> oauthlib[version='>=0.6.2'] -> pyjwt[version='>=1.0.0'] -> cryptography[version='>=1.0,>=1.4'] -> idna[version='>=2.1']\n",
            "anaconda-client -> requests[version='>=2.0,>=2.9.1'] -> urllib3[version='>=1.21.1,<1.22,>=1.21.1,<1.23,>=1.21.1,<1.24,>=1.21.1,<1.25'] -> pyopenssl[version='>=0.14'] -> cryptography[version='>=1.3.4,>=1.9,>=2.1.4,>=2.2.1'] -> idna[version='>=2.1']\n",
            "widgetsnbextension -> notebook[version='>=4.2.0,>=4.4.1'] -> prometheus_client -> twisted -> service_identity -> pyopenssl[version='>=0.12'] -> cryptography[version='>=1.3.4,>=1.9,>=2.1.4,>=2.2.1'] -> idna[version='>=2.1']\n",
            "pyopenssl -> cryptography[version='>=1.3.4,>=1.9,>=2.1.4,>=2.2.1'] -> idna[version='>=2.1']\n",
            "ipywidgets -> widgetsnbextension[version='>=1.2.3,>=1.2.6,>=1.2.6,<2,>=3.1.0,<3.2.0,>=3.1.0,<4.0,>=3.3.0,<3.4.0'] -> notebook[version='>=4.2.0,>=4.4.1'] -> prometheus_client -> twisted -> service_identity -> pyopenssl[version='>=0.12'] -> cryptography[version='>=1.3.4,>=1.9,>=2.1.4,>=2.2.1'] -> idna[version='>=2.1']\n",
            "jupyterlab_server -> notebook -> prometheus_client -> twisted -> service_identity -> pyopenssl[version='>=0.12'] -> cryptography[version='>=1.3.4,>=1.9,>=2.1.4,>=2.2.1'] -> idna[version='>=2.1']\n",
            "urllib3 -> pyopenssl[version='>=0.14'] -> cryptography[version='>=1.3.4,>=1.9,>=2.1.4,>=2.2.1'] -> idna[version='>=2.1']\n",
            "anaconda-navigator -> anaconda-project[version='>=0.4'] -> anaconda-client -> requests[version='>=2.0,>=2.9.1'] -> urllib3[version='>=1.21.1,<1.22,>=1.21.1,<1.23,>=1.21.1,<1.24,>=1.21.1,<1.25'] -> pyopenssl[version='>=0.14'] -> cryptography[version='>=1.3.4,>=1.9,>=2.1.4,>=2.2.1'] -> idna[version='>=2.1']\n",
            "scikit-image -> dask[version='>=0.5'] -> distributed[version='>=1.11.0,>=1.16.0,>=1.22.0,>=1.26.0,>=1.27.0'] -> s3fs[version='>=0.0.6'] -> boto3 -> s3transfer[version='>=0.1.10,<0.2.0,>=0.2.0,<0.3.0'] -> botocore[version='>=1.12.36,<2.0.0,>=1.3.0,<2.0.0'] -> urllib3[version='>=1.20,<1.24'] -> pyopenssl[version='>=0.14'] -> cryptography[version='>=1.3.4,>=1.9,>=2.1.4,>=2.2.1'] -> idna[version='>=2.1']\n",
            "dask -> distributed[version='>=1.11.0,>=1.16.0,>=1.22.0,>=1.26.0,>=1.27.0'] -> s3fs[version='>=0.0.6'] -> boto3 -> s3transfer[version='>=0.1.10,<0.2.0,>=0.2.0,<0.3.0'] -> botocore[version='>=1.12.36,<2.0.0,>=1.3.0,<2.0.0'] -> urllib3[version='>=1.20,<1.24'] -> pyopenssl[version='>=0.14'] -> cryptography[version='>=1.3.4,>=1.9,>=2.1.4,>=2.2.1'] -> idna[version='>=2.1']\n",
            "numpydoc -> sphinx -> requests[version='>=2.0.0,>=2.5.0'] -> urllib3[version='>=1.21.1,<1.22,>=1.21.1,<1.23,>=1.21.1,<1.24,>=1.21.1,<1.25'] -> pyopenssl[version='>=0.14'] -> cryptography[version='>=1.3.4,>=1.9,>=2.1.4,>=2.2.1'] -> idna[version='>=2.1']\n",
            "notebook -> prometheus_client -> twisted -> service_identity -> pyopenssl[version='>=0.12'] -> cryptography[version='>=1.3.4,>=1.9,>=2.1.4,>=2.2.1'] -> idna[version='>=2.1']\n",
            "secretstorage -> cryptography -> idna[version='>=2.1']\n",
            "keyring -> secretstorage -> cryptography -> idna[version='>=2.1']\n",
            "Package asn1crypto conflicts for:\n",
            "distributed -> s3fs[version='>=0.0.6'] -> boto3 -> s3transfer[version='>=0.1.10,<0.2.0,>=0.2.0,<0.3.0'] -> botocore[version='>=1.12.36,<2.0.0,>=1.3.0,<2.0.0'] -> urllib3[version='>=1.20,<1.24'] -> pyopenssl[version='>=0.14'] -> cryptography[version='>=1.3.4,>=1.9,>=2.1.4,>=2.2.1'] -> asn1crypto[version='>=0.21.0']\n",
            "conda-build -> conda[version='>=4.1,<4.4,>=4.3'] -> requests[version='>=2.12.4,<3,>=2.14.2,<3,>=2.18.4,<3'] -> urllib3[version='>=1.21.1,<1.22,>=1.21.1,<1.23,>=1.21.1,<1.24,>=1.21.1,<1.25'] -> pyopenssl[version='>=0.14'] -> cryptography[version='>=1.3.4,>=1.9,>=2.1.4,>=2.2.1'] -> asn1crypto[version='>=0.21.0']\n",
            "jupyterlab_server -> notebook -> prometheus_client -> twisted -> service_identity -> pyopenssl[version='>=0.12'] -> cryptography[version='>=1.3.4,>=1.9,>=2.1.4,>=2.2.1'] -> asn1crypto[version='>=0.21.0']\n",
            "widgetsnbextension -> notebook[version='>=4.2.0,>=4.4.1'] -> prometheus_client -> twisted -> service_identity -> pyopenssl[version='>=0.12'] -> cryptography[version='>=1.3.4,>=1.9,>=2.1.4,>=2.2.1'] -> asn1crypto[version='>=0.21.0']\n",
            "secretstorage -> cryptography -> asn1crypto[version='>=0.21.0']\n",
            "anaconda==2019.07=py37_0 -> distributed==2.1.0=py_0 -> pyopenssl[version='>=0.14'] -> cryptography[version='>=1.3.4,>=1.9,>=2.1.4,>=2.2.1'] -> asn1crypto[version='>=0.21.0']\n",
            "anaconda-project -> anaconda-client -> requests[version='>=2.0,>=2.9.1'] -> urllib3[version='>=1.21.1,<1.22,>=1.21.1,<1.23,>=1.21.1,<1.24,>=1.21.1,<1.25'] -> pyopenssl[version='>=0.14'] -> cryptography[version='>=1.3.4,>=1.9,>=2.1.4,>=2.2.1'] -> asn1crypto[version='>=0.21.0']\n",
            "urllib3 -> pyopenssl[version='>=0.14'] -> cryptography[version='>=1.3.4,>=1.9,>=2.1.4,>=2.2.1'] -> asn1crypto[version='>=0.21.0']\n",
            "numpydoc -> sphinx -> requests[version='>=2.0.0,>=2.5.0'] -> urllib3[version='>=1.21.1,<1.22,>=1.21.1,<1.23,>=1.21.1,<1.24,>=1.21.1,<1.25'] -> pyopenssl[version='>=0.14'] -> cryptography[version='>=1.3.4,>=1.9,>=2.1.4,>=2.2.1'] -> asn1crypto[version='>=0.21.0']\n",
            "requests -> urllib3[version='>=1.21.1,<1.22,>=1.21.1,<1.23,>=1.21.1,<1.24,>=1.21.1,<1.25'] -> pyopenssl[version='>=0.14'] -> cryptography[version='>=1.3.4,>=1.9,>=2.1.4,>=2.2.1'] -> asn1crypto[version='>=0.21.0']\n",
            "ipywidgets -> widgetsnbextension[version='>=1.2.3,>=1.2.6,>=1.2.6,<2,>=3.1.0,<3.2.0,>=3.1.0,<4.0,>=3.3.0,<3.4.0'] -> notebook[version='>=4.2.0,>=4.4.1'] -> prometheus_client -> twisted -> service_identity -> pyopenssl[version='>=0.12'] -> cryptography[version='>=1.3.4,>=1.9,>=2.1.4,>=2.2.1'] -> asn1crypto[version='>=0.21.0']\n",
            "_ipyw_jlab_nb_ext_conf -> jupyterlab -> jupyterlab_launcher[version='>=0.10.0,<0.11.0,>=0.11.2,<0.12.0,>=0.2.3'] -> notebook -> prometheus_client -> twisted -> service_identity -> pyopenssl[version='>=0.12'] -> cryptography[version='>=1.3.4,>=1.9,>=2.1.4,>=2.2.1'] -> asn1crypto[version='>=0.21.0']\n",
            "pyopenssl -> cryptography[version='>=1.3.4,>=1.9,>=2.1.4,>=2.2.1'] -> asn1crypto[version='>=0.21.0']\n",
            "anaconda-navigator -> anaconda-project[version='>=0.4'] -> anaconda-client -> requests[version='>=2.0,>=2.9.1'] -> urllib3[version='>=1.21.1,<1.22,>=1.21.1,<1.23,>=1.21.1,<1.24,>=1.21.1,<1.25'] -> pyopenssl[version='>=0.14'] -> cryptography[version='>=1.3.4,>=1.9,>=2.1.4,>=2.2.1'] -> asn1crypto[version='>=0.21.0']\n",
            "prometheus_client -> twisted -> service_identity -> pyopenssl[version='>=0.12'] -> cryptography[version='>=1.3.4,>=1.9,>=2.1.4,>=2.2.1'] -> asn1crypto[version='>=0.21.0']\n",
            "spyder -> numpydoc -> sphinx -> requests[version='>=2.0.0,>=2.5.0'] -> urllib3[version='>=1.21.1,<1.22,>=1.21.1,<1.23,>=1.21.1,<1.24,>=1.21.1,<1.25'] -> pyopenssl[version='>=0.14'] -> cryptography[version='>=1.3.4,>=1.9,>=2.1.4,>=2.2.1'] -> asn1crypto[version='>=0.21.0']\n",
            "anaconda-client -> requests[version='>=2.0,>=2.9.1'] -> urllib3[version='>=1.21.1,<1.22,>=1.21.1,<1.23,>=1.21.1,<1.24,>=1.21.1,<1.25'] -> pyopenssl[version='>=0.14'] -> cryptography[version='>=1.3.4,>=1.9,>=2.1.4,>=2.2.1'] -> asn1crypto[version='>=0.21.0']\n",
            "gcsfs -> google-auth-oauthlib -> requests-oauthlib[version='>=0.7.0,>=0.7.0,<1dev'] -> oauthlib[version='>=0.6.2'] -> pyjwt[version='>=1.0.0'] -> cryptography[version='>=1.0,>=1.4'] -> asn1crypto[version='>=0.21.0']\n",
            "dask -> distributed[version='>=1.11.0,>=1.16.0,>=1.22.0,>=1.26.0,>=1.27.0'] -> s3fs[version='>=0.0.6'] -> boto3 -> s3transfer[version='>=0.1.10,<0.2.0,>=0.2.0,<0.3.0'] -> botocore[version='>=1.12.36,<2.0.0,>=1.3.0,<2.0.0'] -> urllib3[version='>=1.20,<1.24'] -> pyopenssl[version='>=0.14'] -> cryptography[version='>=1.3.4,>=1.9,>=2.1.4,>=2.2.1'] -> asn1crypto[version='>=0.21.0']\n",
            "jupyter -> ipywidgets -> widgetsnbextension[version='>=1.2.3,>=1.2.6,>=1.2.6,<2,>=3.1.0,<3.2.0,>=3.1.0,<4.0,>=3.3.0,<3.4.0'] -> notebook[version='>=4.2.0,>=4.4.1'] -> prometheus_client -> twisted -> service_identity -> pyopenssl[version='>=0.12'] -> cryptography[version='>=1.3.4,>=1.9,>=2.1.4,>=2.2.1'] -> asn1crypto[version='>=0.21.0']\n",
            "keyring -> secretstorage -> cryptography -> asn1crypto[version='>=0.21.0']\n",
            "conda[version='>=4.7.10'] -> requests[version='>=2.12.4,<3,>=2.14.2,<3,>=2.18.4,<3'] -> urllib3[version='>=1.21.1,<1.22,>=1.21.1,<1.23,>=1.21.1,<1.24,>=1.21.1,<1.25'] -> pyopenssl[version='>=0.14'] -> cryptography[version='>=1.3.4,>=1.9,>=2.1.4,>=2.2.1'] -> asn1crypto[version='>=0.21.0']\n",
            "scikit-image -> dask[version='>=0.5'] -> distributed[version='>=1.11.0,>=1.16.0,>=1.22.0,>=1.26.0,>=1.27.0'] -> s3fs[version='>=0.0.6'] -> boto3 -> s3transfer[version='>=0.1.10,<0.2.0,>=0.2.0,<0.3.0'] -> botocore[version='>=1.12.36,<2.0.0,>=1.3.0,<2.0.0'] -> urllib3[version='>=1.20,<1.24'] -> pyopenssl[version='>=0.14'] -> cryptography[version='>=1.3.4,>=1.9,>=2.1.4,>=2.2.1'] -> asn1crypto[version='>=0.21.0']\n",
            "jupyterlab -> jupyterlab_launcher[version='>=0.10.0,<0.11.0,>=0.11.2,<0.12.0,>=0.2.3'] -> notebook -> prometheus_client -> twisted -> service_identity -> pyopenssl[version='>=0.12'] -> cryptography[version='>=1.3.4,>=1.9,>=2.1.4,>=2.2.1'] -> asn1crypto[version='>=0.21.0']\n",
            "sphinx -> requests[version='>=2.0.0,>=2.5.0'] -> urllib3[version='>=1.21.1,<1.22,>=1.21.1,<1.23,>=1.21.1,<1.24,>=1.21.1,<1.25'] -> pyopenssl[version='>=0.14'] -> cryptography[version='>=1.3.4,>=1.9,>=2.1.4,>=2.2.1'] -> asn1crypto[version='>=0.21.0']\n",
            "notebook -> prometheus_client -> twisted -> service_identity -> pyopenssl[version='>=0.12'] -> cryptography[version='>=1.3.4,>=1.9,>=2.1.4,>=2.2.1'] -> asn1crypto[version='>=0.21.0']\n",
            "cryptography -> asn1crypto[version='>=0.21.0']\n",
            "Package pysocks conflicts for:\n",
            "sphinx -> requests[version='>=2.0.0,>=2.5.0'] -> urllib3[version='>=1.21.1,<1.22,>=1.21.1,<1.23,>=1.21.1,<1.24,>=1.21.1,<1.25'] -> pysocks[version='>=1.5.6,<2.0,!=1.5.7']\n",
            "conda-build -> conda[version='>=4.1,<4.4,>=4.3'] -> requests[version='>=2.12.4,<3,>=2.14.2,<3,>=2.18.4,<3'] -> urllib3[version='>=1.21.1,<1.22,>=1.21.1,<1.23,>=1.21.1,<1.24,>=1.21.1,<1.25'] -> pysocks[version='>=1.5.6,<2.0,!=1.5.7']\n",
            "anaconda==2019.07=py37_0 -> distributed==2.1.0=py_0 -> pysocks[version='>=1.5.6,<2.0,!=1.5.7']\n",
            "anaconda-navigator -> anaconda-project[version='>=0.4'] -> anaconda-client -> requests[version='>=2.0,>=2.9.1'] -> urllib3[version='>=1.21.1,<1.22,>=1.21.1,<1.23,>=1.21.1,<1.24,>=1.21.1,<1.25'] -> pysocks[version='>=1.5.6,<2.0,!=1.5.7']\n",
            "numpydoc -> sphinx -> requests[version='>=2.0.0,>=2.5.0'] -> urllib3[version='>=1.21.1,<1.22,>=1.21.1,<1.23,>=1.21.1,<1.24,>=1.21.1,<1.25'] -> pysocks[version='>=1.5.6,<2.0,!=1.5.7']\n",
            "spyder -> numpydoc -> sphinx -> requests[version='>=2.0.0,>=2.5.0'] -> urllib3[version='>=1.21.1,<1.22,>=1.21.1,<1.23,>=1.21.1,<1.24,>=1.21.1,<1.25'] -> pysocks[version='>=1.5.6,<2.0,!=1.5.7']\n",
            "urllib3 -> pysocks[version='>=1.5.6,<2.0,!=1.5.7']\n",
            "anaconda-client -> requests[version='>=2.0,>=2.9.1'] -> urllib3[version='>=1.21.1,<1.22,>=1.21.1,<1.23,>=1.21.1,<1.24,>=1.21.1,<1.25'] -> pysocks[version='>=1.5.6,<2.0,!=1.5.7']\n",
            "anaconda-project -> anaconda-client -> requests[version='>=2.0,>=2.9.1'] -> urllib3[version='>=1.21.1,<1.22,>=1.21.1,<1.23,>=1.21.1,<1.24,>=1.21.1,<1.25'] -> pysocks[version='>=1.5.6,<2.0,!=1.5.7']\n",
            "scikit-image -> dask[version='>=0.5'] -> distributed[version='>=1.11.0,>=1.16.0,>=1.22.0,>=1.26.0,>=1.27.0'] -> s3fs[version='>=0.0.6'] -> boto3 -> s3transfer[version='>=0.1.10,<0.2.0,>=0.2.0,<0.3.0'] -> botocore[version='>=1.12.36,<2.0.0,>=1.3.0,<2.0.0'] -> urllib3[version='>=1.20,<1.24'] -> pysocks[version='>=1.5.6,<2.0,!=1.5.7']\n",
            "distributed -> s3fs[version='>=0.0.6'] -> boto3 -> s3transfer[version='>=0.1.10,<0.2.0,>=0.2.0,<0.3.0'] -> botocore[version='>=1.12.36,<2.0.0,>=1.3.0,<2.0.0'] -> urllib3[version='>=1.20,<1.24'] -> pysocks[version='>=1.5.6,<2.0,!=1.5.7']\n",
            "dask -> distributed[version='>=1.11.0,>=1.16.0,>=1.22.0,>=1.26.0,>=1.27.0'] -> s3fs[version='>=0.0.6'] -> boto3 -> s3transfer[version='>=0.1.10,<0.2.0,>=0.2.0,<0.3.0'] -> botocore[version='>=1.12.36,<2.0.0,>=1.3.0,<2.0.0'] -> urllib3[version='>=1.20,<1.24'] -> pysocks[version='>=1.5.6,<2.0,!=1.5.7']\n",
            "conda[version='>=4.7.10'] -> requests[version='>=2.12.4,<3,>=2.14.2,<3,>=2.18.4,<3'] -> urllib3[version='>=1.21.1,<1.22,>=1.21.1,<1.23,>=1.21.1,<1.24,>=1.21.1,<1.25'] -> pysocks[version='>=1.5.6,<2.0,!=1.5.7']\n",
            "gcsfs -> google-auth-oauthlib -> requests-oauthlib[version='>=0.7.0,>=0.7.0,<1dev'] -> requests[version='>=2.0.0'] -> urllib3[version='>=1.21.1,<1.22,>=1.21.1,<1.23,>=1.21.1,<1.24,>=1.21.1,<1.25'] -> pysocks[version='>=1.5.6,<2.0,!=1.5.7']\n",
            "requests -> urllib3[version='>=1.21.1,<1.22,>=1.21.1,<1.23,>=1.21.1,<1.24,>=1.21.1,<1.25'] -> pysocks[version='>=1.5.6,<2.0,!=1.5.7']\n",
            "Package chardet conflicts for:\n",
            "anaconda==2019.07=py37_0 -> numpydoc==0.9.1=py_0 -> sphinx -> requests[version='>=2.0.0,>=2.5.0'] -> chardet[version='>=3.0.2,<3.1.0']\n",
            "requests -> chardet[version='>=3.0.2,<3.1.0']\n",
            "anaconda-project -> anaconda-client -> requests[version='>=2.0,>=2.9.1'] -> chardet[version='>=3.0.2,<3.1.0']\n",
            "gcsfs -> google-auth-oauthlib -> requests-oauthlib[version='>=0.7.0,>=0.7.0,<1dev'] -> requests[version='>=2.0.0'] -> chardet[version='>=3.0.2,<3.1.0']\n",
            "numpydoc -> sphinx -> requests[version='>=2.0.0,>=2.5.0'] -> chardet[version='>=3.0.2,<3.1.0']\n",
            "spyder -> numpydoc -> sphinx -> requests[version='>=2.0.0,>=2.5.0'] -> chardet[version='>=3.0.2,<3.1.0']\n",
            "anaconda-client -> requests[version='>=2.0,>=2.9.1'] -> chardet[version='>=3.0.2,<3.1.0']\n",
            "conda[version='>=4.7.10'] -> requests[version='>=2.12.4,<3,>=2.14.2,<3,>=2.18.4,<3'] -> chardet[version='>=3.0.2,<3.1.0']\n",
            "anaconda-navigator -> anaconda-project[version='>=0.4'] -> anaconda-client -> requests[version='>=2.0,>=2.9.1'] -> chardet[version='>=3.0.2,<3.1.0']\n",
            "conda-build -> conda[version='>=4.1,<4.4,>=4.3'] -> requests[version='>=2.12.4,<3,>=2.14.2,<3,>=2.18.4,<3'] -> chardet[version='>=3.0.2,<3.1.0']\n",
            "sphinx -> requests[version='>=2.0.0,>=2.5.0'] -> chardet[version='>=3.0.2,<3.1.0']\n",
            "Package distributed conflicts for:\n",
            "anaconda==2019.07=py37_0 -> distributed==2.1.0=py_0\n",
            "Package pyopenssl conflicts for:\n",
            "sphinx -> requests[version='>=2.0.0,>=2.5.0'] -> urllib3[version='>=1.21.1,<1.22,>=1.21.1,<1.23,>=1.21.1,<1.24,>=1.21.1,<1.25'] -> pyopenssl[version='>=0.14']\n",
            "anaconda-project -> anaconda-client -> requests[version='>=2.0,>=2.9.1'] -> urllib3[version='>=1.21.1,<1.22,>=1.21.1,<1.23,>=1.21.1,<1.24,>=1.21.1,<1.25'] -> pyopenssl[version='>=0.14']\n",
            "numpydoc -> sphinx -> requests[version='>=2.0.0,>=2.5.0'] -> urllib3[version='>=1.21.1,<1.22,>=1.21.1,<1.23,>=1.21.1,<1.24,>=1.21.1,<1.25'] -> pyopenssl[version='>=0.14']\n",
            "conda[version='>=4.7.10'] -> requests[version='>=2.12.4,<3,>=2.14.2,<3,>=2.18.4,<3'] -> urllib3[version='>=1.21.1,<1.22,>=1.21.1,<1.23,>=1.21.1,<1.24,>=1.21.1,<1.25'] -> pyopenssl[version='>=0.14']\n",
            "dask -> distributed[version='>=1.11.0,>=1.16.0,>=1.22.0,>=1.26.0,>=1.27.0'] -> s3fs[version='>=0.0.6'] -> boto3 -> s3transfer[version='>=0.1.10,<0.2.0,>=0.2.0,<0.3.0'] -> botocore[version='>=1.12.36,<2.0.0,>=1.3.0,<2.0.0'] -> urllib3[version='>=1.20,<1.24'] -> pyopenssl[version='>=0.14']\n",
            "notebook -> prometheus_client -> twisted -> service_identity -> pyopenssl[version='>=0.12']\n",
            "jupyterlab_server -> notebook -> prometheus_client -> twisted -> service_identity -> pyopenssl[version='>=0.12']\n",
            "gcsfs -> google-auth-oauthlib -> requests-oauthlib[version='>=0.7.0,>=0.7.0,<1dev'] -> requests[version='>=2.0.0'] -> urllib3[version='>=1.21.1,<1.22,>=1.21.1,<1.23,>=1.21.1,<1.24,>=1.21.1,<1.25'] -> pyopenssl[version='>=0.14']\n",
            "widgetsnbextension -> notebook[version='>=4.2.0,>=4.4.1'] -> prometheus_client -> twisted -> service_identity -> pyopenssl[version='>=0.12']\n",
            "anaconda-navigator -> anaconda-project[version='>=0.4'] -> anaconda-client -> requests[version='>=2.0,>=2.9.1'] -> urllib3[version='>=1.21.1,<1.22,>=1.21.1,<1.23,>=1.21.1,<1.24,>=1.21.1,<1.25'] -> pyopenssl[version='>=0.14']\n",
            "spyder -> numpydoc -> sphinx -> requests[version='>=2.0.0,>=2.5.0'] -> urllib3[version='>=1.21.1,<1.22,>=1.21.1,<1.23,>=1.21.1,<1.24,>=1.21.1,<1.25'] -> pyopenssl[version='>=0.14']\n",
            "_ipyw_jlab_nb_ext_conf -> jupyterlab -> jupyterlab_launcher[version='>=0.10.0,<0.11.0,>=0.11.2,<0.12.0,>=0.2.3'] -> notebook -> prometheus_client -> twisted -> service_identity -> pyopenssl[version='>=0.12']\n",
            "anaconda==2019.07=py37_0 -> distributed==2.1.0=py_0 -> pyopenssl[version='>=0.14']\n",
            "jupyterlab -> jupyterlab_launcher[version='>=0.10.0,<0.11.0,>=0.11.2,<0.12.0,>=0.2.3'] -> notebook -> prometheus_client -> twisted -> service_identity -> pyopenssl[version='>=0.12']\n",
            "distributed -> s3fs[version='>=0.0.6'] -> boto3 -> s3transfer[version='>=0.1.10,<0.2.0,>=0.2.0,<0.3.0'] -> botocore[version='>=1.12.36,<2.0.0,>=1.3.0,<2.0.0'] -> urllib3[version='>=1.20,<1.24'] -> pyopenssl[version='>=0.14']\n",
            "prometheus_client -> twisted -> service_identity -> pyopenssl[version='>=0.12']\n",
            "requests -> urllib3[version='>=1.21.1,<1.22,>=1.21.1,<1.23,>=1.21.1,<1.24,>=1.21.1,<1.25'] -> pyopenssl[version='>=0.14']\n",
            "scikit-image -> dask[version='>=0.5'] -> distributed[version='>=1.11.0,>=1.16.0,>=1.22.0,>=1.26.0,>=1.27.0'] -> s3fs[version='>=0.0.6'] -> boto3 -> s3transfer[version='>=0.1.10,<0.2.0,>=0.2.0,<0.3.0'] -> botocore[version='>=1.12.36,<2.0.0,>=1.3.0,<2.0.0'] -> urllib3[version='>=1.20,<1.24'] -> pyopenssl[version='>=0.14']\n",
            "urllib3 -> pyopenssl[version='>=0.14']\n",
            "anaconda-client -> requests[version='>=2.0,>=2.9.1'] -> urllib3[version='>=1.21.1,<1.22,>=1.21.1,<1.23,>=1.21.1,<1.24,>=1.21.1,<1.25'] -> pyopenssl[version='>=0.14']\n",
            "jupyter -> ipywidgets -> widgetsnbextension[version='>=1.2.3,>=1.2.6,>=1.2.6,<2,>=3.1.0,<3.2.0,>=3.1.0,<4.0,>=3.3.0,<3.4.0'] -> notebook[version='>=4.2.0,>=4.4.1'] -> prometheus_client -> twisted -> service_identity -> pyopenssl[version='>=0.12']\n",
            "conda-build -> conda[version='>=4.1,<4.4,>=4.3'] -> requests[version='>=2.12.4,<3,>=2.14.2,<3,>=2.18.4,<3'] -> urllib3[version='>=1.21.1,<1.22,>=1.21.1,<1.23,>=1.21.1,<1.24,>=1.21.1,<1.25'] -> pyopenssl[version='>=0.14']\n",
            "ipywidgets -> widgetsnbextension[version='>=1.2.3,>=1.2.6,>=1.2.6,<2,>=3.1.0,<3.2.0,>=3.1.0,<4.0,>=3.3.0,<3.4.0'] -> notebook[version='>=4.2.0,>=4.4.1'] -> prometheus_client -> twisted -> service_identity -> pyopenssl[version='>=0.12']\n",
            "Package mccabe conflicts for:\n",
            "gcsfs -> google-auth-oauthlib -> requests-oauthlib[version='>=0.7.0,>=0.7.0,<1dev'] -> oauthlib[version='>=0.6.2'] -> pyjwt[version='>=1.0.0'] -> pep8-naming -> flake8-polyfill[version='>=1.0.2,>=1.0.2,<2'] -> flake8 -> mccabe[version='>=0.5,<0.6,>=0.6.0,<0.7.0']\n",
            "spyder -> pylint -> mccabe\n",
            "pylint -> mccabe\n",
            "Package pycodestyle conflicts for:\n",
            "spyder -> pycodestyle\n",
            "gcsfs -> google-auth-oauthlib -> requests-oauthlib[version='>=0.7.0,>=0.7.0,<1dev'] -> oauthlib[version='>=0.6.2'] -> pyjwt[version='>=1.0.0'] -> pep8-naming -> flake8-polyfill[version='>=1.0.2,>=1.0.2,<2'] -> flake8 -> pycodestyle[version='>=2.0,<2.3,>=2.0.0,<2.4.0,>=2.5.0,<2.6.0']\n",
            "Package attrs conflicts for:\n",
            "anaconda==2019.07=py37_0 -> prometheus_client==0.7.1=py_0 -> attrs[version='>=16.0.0']\n",
            "\n"
          ],
          "name": "stdout"
        }
      ]
    }
  ]
}