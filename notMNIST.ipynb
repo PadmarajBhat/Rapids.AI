{
  "nbformat": 4,
  "nbformat_minor": 0,
  "metadata": {
    "colab": {
      "name": "notMNIST.ipynb",
      "version": "0.3.2",
      "provenance": [],
      "include_colab_link": true
    },
    "kernelspec": {
      "name": "python3",
      "display_name": "Python 3"
    },
    "accelerator": "GPU"
  },
  "cells": [
    {
      "cell_type": "markdown",
      "metadata": {
        "id": "view-in-github",
        "colab_type": "text"
      },
      "source": [
        "<a href=\"https://colab.research.google.com/github/PadmarajBhat/Rapids.AI/blob/master/notMNIST.ipynb\" target=\"_parent\"><img src=\"https://colab.research.google.com/assets/colab-badge.svg\" alt=\"Open In Colab\"/></a>"
      ]
    },
    {
      "cell_type": "markdown",
      "metadata": {
        "id": "4lVLGVuUOf_1",
        "colab_type": "text"
      },
      "source": [
        "From : https://www.ritchieng.com/machine-learning/deep-learning/tensorflow/notmnist/\n",
        "\n",
        "import the downloading the notMNIST modules"
      ]
    },
    {
      "cell_type": "code",
      "metadata": {
        "id": "h7uPDZ19Z43t",
        "colab_type": "code",
        "colab": {
          "base_uri": "https://localhost:8080/",
          "height": 50
        },
        "outputId": "5a381300-c93f-4389-a4f5-8353f7b4d1c1"
      },
      "source": [
        "class Xyz:\n",
        "  def abc(self):\n",
        "    self.aaa = 10\n",
        "\n",
        "Q = Xyz()\n",
        "try:\n",
        "  print(Q.aaa)\n",
        "except:\n",
        "  print(\"aaa not found\")\n",
        "Q.abc()\n",
        "print(Q.aaa)\n"
      ],
      "execution_count": 3,
      "outputs": [
        {
          "output_type": "stream",
          "text": [
            "aaa not found\n",
            "10\n"
          ],
          "name": "stdout"
        }
      ]
    },
    {
      "cell_type": "code",
      "metadata": {
        "id": "NWigl-x5uGq5",
        "colab_type": "code",
        "colab": {
          "base_uri": "https://localhost:8080/",
          "height": 262
        },
        "outputId": "c4d41495-5d65-423b-b96e-f515f0a96c54"
      },
      "source": [
        "# These are all the modules we'll be using later. Make sure you can import them\n",
        "# before proceeding further.\n",
        "from __future__ import print_function\n",
        "import matplotlib.pyplot as plt\n",
        "import numpy as np\n",
        "import os\n",
        "import sys\n",
        "import tarfile\n",
        "from IPython.display import display, Image\n",
        "from scipy import ndimage\n",
        "from sklearn.linear_model import LogisticRegression\n",
        "from six.moves.urllib.request import urlretrieve\n",
        "from six.moves import cPickle as pickle\n",
        "import imageio\n",
        "\n",
        "# Config the matlotlib backend as plotting inline in IPython\n",
        "%matplotlib inline\n",
        "\n",
        "\n",
        "class ImageLoader:\n",
        "  def __init__(self):\n",
        "    num_classes = 10\n",
        "    url = 'http://commondatastorage.googleapis.com/books1000/'\n",
        "    last_percent_reported = None\n",
        "    num_classes = 10\n",
        "    np.random.seed(133)\n",
        "    image_size = 28  # Pixel width and height.\n",
        "    pixel_depth = 255.0  # Number of levels per pixel.\n",
        "    \n",
        "  def download_progress_hook(count, blockSize, totalSize):\n",
        "    \"\"\"A hook to report the progress of a download. This is mostly intended for users with\n",
        "    slow internet connections. Reports every 1% change in download progress.\n",
        "    \"\"\"\n",
        "    global last_percent_reported\n",
        "    percent = int(count * blockSize * 100 / totalSize)\n",
        "\n",
        "    if last_percent_reported != percent:\n",
        "      if percent % 5 == 0:\n",
        "        sys.stdout.write(\"%s%%\" % percent)\n",
        "        sys.stdout.flush()\n",
        "      else:\n",
        "        sys.stdout.write(\".\")\n",
        "        sys.stdout.flush()\n",
        "\n",
        "      last_percent_reported = percent\n",
        "    \n",
        "  def maybe_download(filename, expected_bytes, force=False):\n",
        "    \"\"\"Download a file if not present, and make sure it's the right size.\"\"\"\n",
        "    if force or not os.path.exists(filename):\n",
        "      print('Attempting to download:', filename) \n",
        "      filename, _ = urlretrieve(url + filename, filename, reporthook=download_progress_hook)\n",
        "      print('\\nDownload Complete!')\n",
        "    statinfo = os.stat(filename)\n",
        "    if statinfo.st_size == expected_bytes:\n",
        "      print('Found and verified', filename)\n",
        "    else:\n",
        "      raise Exception(\n",
        "        'Failed to verify ' + filename + '. Can you get to it with a browser?')\n",
        "    return filename\n",
        "  \n",
        "  def maybe_extract(filename, force=False):\n",
        "    root = os.path.splitext(os.path.splitext(filename)[0])[0]  # remove .tar.gz\n",
        "    if os.path.isdir(root) and not force:\n",
        "      # You may override by setting force=True.\n",
        "      print('%s already present - Skipping extraction of %s.' % (root, filename))\n",
        "    else:\n",
        "      print('Extracting data for %s. This may take a while. Please wait.' % root)\n",
        "      tar = tarfile.open(filename)\n",
        "      sys.stdout.flush()\n",
        "      tar.extractall()\n",
        "      tar.close()\n",
        "    data_folders = [\n",
        "      os.path.join(root, d) for d in sorted(os.listdir(root))\n",
        "      if os.path.isdir(os.path.join(root, d))]\n",
        "    if len(data_folders) != num_classes:\n",
        "      raise Exception(\n",
        "        'Expected %d folders, one per class. Found %d instead.' % (\n",
        "          num_classes, len(data_folders)))\n",
        "    print(data_folders)\n",
        "    return data_folders\n",
        "  \n",
        "  def load_letter(folder, min_num_images):\n",
        "    \"\"\"Load the data for a single letter label.\"\"\"\n",
        "    image_files = os.listdir(folder)\n",
        "    dataset = np.ndarray(shape=(len(image_files), image_size, image_size),\n",
        "                           dtype=np.float32)\n",
        "    print(folder)\n",
        "    num_images = 0\n",
        "    for image in image_files:\n",
        "      image_file = os.path.join(folder, image)\n",
        "      try:\n",
        "        image_data = (imageio.imread(image_file).astype(float) - \n",
        "                      pixel_depth / 2) / pixel_depth\n",
        "        if image_data.shape != (image_size, image_size):\n",
        "          raise Exception('Unexpected image shape: %s' % str(image_data.shape))\n",
        "        dataset[num_images, :, :] = image_data\n",
        "        num_images = num_images + 1\n",
        "      except (IOError, ValueError) as e:\n",
        "        print('Could not read:', image_file, ':', e, '- it\\'s ok, skipping.')\n",
        "\n",
        "    dataset = dataset[0:num_images, :, :]\n",
        "    if num_images < min_num_images:\n",
        "      raise Exception('Many fewer images than expected: %d < %d' %\n",
        "                      (num_images, min_num_images))\n",
        "\n",
        "    print('Full dataset tensor:', dataset.shape)\n",
        "    print('Mean:', np.mean(dataset))\n",
        "    print('Standard deviation:', np.std(dataset))\n",
        "    return dataset\n",
        "\n",
        "  def maybe_pickle(data_folders, min_num_images_per_class, force=False):\n",
        "    dataset_names = []\n",
        "    for folder in data_folders:\n",
        "      set_filename = folder + '.pickle'\n",
        "      dataset_names.append(set_filename)\n",
        "      if os.path.exists(set_filename) and not force:\n",
        "        # You may override by setting force=True.\n",
        "        print('%s already present - Skipping pickling.' % set_filename)\n",
        "      else:\n",
        "        print('Pickling %s.' % set_filename)\n",
        "        dataset = load_letter(folder, min_num_images_per_class)\n",
        "        try:\n",
        "          with open(set_filename, 'wb') as f:\n",
        "            pickle.dump(dataset, f, pickle.HIGHEST_PROTOCOL)\n",
        "        except Exception as e:\n",
        "          print('Unable to save data to', set_filename, ':', e)\n",
        "\n",
        "    return dataset_names\n",
        "\n",
        "    def call_download_extract():\n",
        "      train_filename = maybe_download('notMNIST_large.tar.gz', 247336696)\n",
        "      test_filename = maybe_download('notMNIST_small.tar.gz', 8458043)\n",
        "      \n",
        "      train_folders = maybe_extract(train_filename)\n",
        "      test_folders = maybe_extract(test_filename)\n",
        "      \n",
        "      self.train_datasets = maybe_pickle(train_folders, 45000)\n",
        "      self.test_datasets = maybe_pickle(test_folders, 1800)\n",
        "  \n",
        "abcd = ImageLoader()\n"
      ],
      "execution_count": 43,
      "outputs": [
        {
          "output_type": "stream",
          "text": [
            "7\n",
            "10\n",
            "http://commondatastorage.googleapis.com/books1000/\n",
            "10\n"
          ],
          "name": "stdout"
        },
        {
          "output_type": "error",
          "ename": "AttributeError",
          "evalue": "ignored",
          "traceback": [
            "\u001b[0;31m---------------------------------------------------------------------------\u001b[0m",
            "\u001b[0;31mAttributeError\u001b[0m                            Traceback (most recent call last)",
            "\u001b[0;32m<ipython-input-43-f8e5eaeaf8f9>\u001b[0m in \u001b[0;36m<module>\u001b[0;34m()\u001b[0m\n\u001b[1;32m     36\u001b[0m \u001b[0mabcd\u001b[0m\u001b[0;34m.\u001b[0m\u001b[0mlmn\u001b[0m\u001b[0;34m(\u001b[0m\u001b[0;34m)\u001b[0m\u001b[0;34m\u001b[0m\u001b[0;34m\u001b[0m\u001b[0m\n\u001b[1;32m     37\u001b[0m \u001b[0mprint\u001b[0m\u001b[0;34m(\u001b[0m\u001b[0mabcd\u001b[0m\u001b[0;34m.\u001b[0m\u001b[0mnum_classes\u001b[0m\u001b[0;34m)\u001b[0m\u001b[0;34m\u001b[0m\u001b[0;34m\u001b[0m\u001b[0m\n\u001b[0;32m---> 38\u001b[0;31m \u001b[0mprint\u001b[0m\u001b[0;34m(\u001b[0m\u001b[0mabcd\u001b[0m\u001b[0;34m.\u001b[0m\u001b[0murl\u001b[0m\u001b[0;34m)\u001b[0m\u001b[0;34m\u001b[0m\u001b[0;34m\u001b[0m\u001b[0m\n\u001b[0m",
            "\u001b[0;31mAttributeError\u001b[0m: 'ImageLoader' object has no attribute 'url'"
          ]
        }
      ]
    },
    {
      "cell_type": "markdown",
      "metadata": {
        "id": "UF8Zw2WSO5Po",
        "colab_type": "text"
      },
      "source": [
        "### Extract them"
      ]
    },
    {
      "cell_type": "code",
      "metadata": {
        "id": "oM0IwxYYO9aa",
        "colab_type": "code",
        "outputId": "e483cd8e-6c0a-4aab-d59c-ac0e7339ca41",
        "colab": {
          "base_uri": "https://localhost:8080/",
          "height": 45
        }
      },
      "source": [
        "Image(filename=\"notMNIST_small/A/Q0NXaWxkV29yZHMtQm9sZEl0YWxpYy50dGY=.png\")"
      ],
      "execution_count": 3,
      "outputs": [
        {
          "output_type": "execute_result",
          "data": {
            "image/png": "[encoded data removed]",
            "text/plain": [
              "<IPython.core.display.Image object>"
            ]
          },
          "metadata": {
            "tags": []
          },
          "execution_count": 3
        }
      ]
    },
    {
      "cell_type": "code",
      "metadata": {
        "id": "ElzBmYNEPStW",
        "colab_type": "code",
        "outputId": "2ccc6d00-a632-4348-a8d7-05ed810212b3",
        "colab": {
          "base_uri": "https://localhost:8080/",
          "height": 34
        }
      },
      "source": [
        "os.listdir(\"notMNIST_small/\")"
      ],
      "execution_count": 4,
      "outputs": [
        {
          "output_type": "execute_result",
          "data": {
            "text/plain": [
              "['D', 'J', 'A', 'B', 'C', 'G', 'I', 'H', 'F', 'E']"
            ]
          },
          "metadata": {
            "tags": []
          },
          "execution_count": 4
        }
      ]
    },
    {
      "cell_type": "markdown",
      "metadata": {
        "id": "H-Be9hYs_Hfp",
        "colab_type": "text"
      },
      "source": [
        "How to display multiple Images in a cell?\n",
        "https://stackoverflow.com/a/49487396/8693106"
      ]
    },
    {
      "cell_type": "code",
      "metadata": {
        "id": "3Q6Z67IXQ7Fj",
        "colab_type": "code",
        "outputId": "c7ccdcd6-4e27-45b6-d3c7-c8f96d442a99",
        "colab": {
          "base_uri": "https://localhost:8080/",
          "height": 1000
        }
      },
      "source": [
        "import random\n",
        "listOfFiles = []\n",
        "for (dirpath, dirnames, filenames) in os.walk(\"notMNIST_small/\"):\n",
        "  listOfFiles += [os.path.join(dirpath, file) for file in filenames]\n",
        "  \n",
        "  for f in listOfFiles:\n",
        "    if random.randint(0,1000) == random.randint(0,1000):\n",
        "      print(f)\n",
        "      display(Image(filename=f))\n",
        "      #break\n",
        "  #break"
      ],
      "execution_count": 5,
      "outputs": [
        {
          "output_type": "stream",
          "text": [
            "notMNIST_small/D/QWNhbnRodXMgU1NpIEl0YWxpYy50dGY=.png\n"
          ],
          "name": "stdout"
        },
        {
          "output_type": "display_data",
          "data": {
            "image/png": "[encoded data removed]",
            "text/plain": [
              "<IPython.core.display.Image object>"
            ]
          },
          "metadata": {
            "tags": []
          }
        },
        {
          "output_type": "stream",
          "text": [
            "notMNIST_small/D/Q29ydGluLnR0Zg==.png\n"
          ],
          "name": "stdout"
        },
        {
          "output_type": "display_data",
          "data": {
            "image/png": "[encoded data removed]",
            "text/plain": [
              "<IPython.core.display.Image object>"
            ]
          },
          "metadata": {
            "tags": []
          }
        },
        {
          "output_type": "stream",
          "text": [
            "notMNIST_small/D/Q2FuZHkgU3F1YXJlIEJUTiBDb25kLnR0Zg==.png\n"
          ],
          "name": "stdout"
        },
        {
          "output_type": "display_data",
          "data": {
            "image/png": "[encoded data removed]",
            "text/plain": [
              "<IPython.core.display.Image object>"
            ]
          },
          "metadata": {
            "tags": []
          }
        },
        {
          "output_type": "stream",
          "text": [
            "notMNIST_small/D/RW5zY2hlZGUtTWVkaXVtLm90Zg==.png\n"
          ],
          "name": "stdout"
        },
        {
          "output_type": "display_data",
          "data": {
            "image/png": "[encoded data removed]",
            "text/plain": [
              "<IPython.core.display.Image object>"
            ]
          },
          "metadata": {
            "tags": []
          }
        },
        {
          "output_type": "stream",
          "text": [
            "notMNIST_small/J/RnJhbmtsaW5Hb3RoaWMtTWVkQ25kLm90Zg==.png\n"
          ],
          "name": "stdout"
        },
        {
          "output_type": "display_data",
          "data": {
            "image/png": "[encoded data removed]",
            "text/plain": [
              "<IPython.core.display.Image object>"
            ]
          },
          "metadata": {
            "tags": []
          }
        },
        {
          "output_type": "stream",
          "text": [
            "notMNIST_small/J/R2FyYW1vbmRFRi1Cb2xkLm90Zg==.png\n"
          ],
          "name": "stdout"
        },
        {
          "output_type": "display_data",
          "data": {
            "image/png": "[encoded data removed]",
            "text/plain": [
              "<IPython.core.display.Image object>"
            ]
          },
          "metadata": {
            "tags": []
          }
        },
        {
          "output_type": "stream",
          "text": [
            "notMNIST_small/D/Qm9kb3hpLURlbWlCb2xkLm90Zg==.png\n"
          ],
          "name": "stdout"
        },
        {
          "output_type": "display_data",
          "data": {
            "image/png": "[encoded data removed]",
            "text/plain": [
              "<IPython.core.display.Image object>"
            ]
          },
          "metadata": {
            "tags": []
          }
        },
        {
          "output_type": "stream",
          "text": [
            "notMNIST_small/D/Qm9ndXNmbG93LnR0Zg==.png\n"
          ],
          "name": "stdout"
        },
        {
          "output_type": "display_data",
          "data": {
            "image/png": "[encoded data removed]",
            "text/plain": [
              "<IPython.core.display.Image object>"
            ]
          },
          "metadata": {
            "tags": []
          }
        },
        {
          "output_type": "stream",
          "text": [
            "notMNIST_small/J/RHluYW1vUmNJdGFsaWNSQy5vdGY=.png\n"
          ],
          "name": "stdout"
        },
        {
          "output_type": "display_data",
          "data": {
            "image/png": "[encoded data removed]",
            "text/plain": [
              "<IPython.core.display.Image object>"
            ]
          },
          "metadata": {
            "tags": []
          }
        },
        {
          "output_type": "stream",
          "text": [
            "notMNIST_small/J/QmVybGluZXJHcm90ZXNrLUxpZ2h0Lm90Zg==.png\n"
          ],
          "name": "stdout"
        },
        {
          "output_type": "display_data",
          "data": {
            "image/png": "[encoded data removed]",
            "text/plain": [
              "<IPython.core.display.Image object>"
            ]
          },
          "metadata": {
            "tags": []
          }
        },
        {
          "output_type": "stream",
          "text": [
            "notMNIST_small/A/Q2VudG8gRXh0ZW5kZWQgQm9sZEl0YWxpYy50dGY=.png\n"
          ],
          "name": "stdout"
        },
        {
          "output_type": "display_data",
          "data": {
            "image/png": "[encoded data removed]",
            "text/plain": [
              "<IPython.core.display.Image object>"
            ]
          },
          "metadata": {
            "tags": []
          }
        },
        {
          "output_type": "stream",
          "text": [
            "notMNIST_small/A/SVRDIEJlbmd1aWF0IEJvbGQgSXRhbGljLnBmYg==.png\n"
          ],
          "name": "stdout"
        },
        {
          "output_type": "display_data",
          "data": {
            "image/png": "[encoded data removed]",
            "text/plain": [
              "<IPython.core.display.Image object>"
            ]
          },
          "metadata": {
            "tags": []
          }
        },
        {
          "output_type": "stream",
          "text": [
            "notMNIST_small/A/RHdhcmZGYXRPbGRTdHlsZURpZ2l0cy5vdGY=.png\n"
          ],
          "name": "stdout"
        },
        {
          "output_type": "display_data",
          "data": {
            "image/png": "[encoded data removed]",
            "text/plain": [
              "<IPython.core.display.Image object>"
            ]
          },
          "metadata": {
            "tags": []
          }
        },
        {
          "output_type": "stream",
          "text": [
            "notMNIST_small/D/QW1lcmljYW5UeXBlQm9sZC5vdGY=.png\n"
          ],
          "name": "stdout"
        },
        {
          "output_type": "display_data",
          "data": {
            "image/png": "[encoded data removed]",
            "text/plain": [
              "<IPython.core.display.Image object>"
            ]
          },
          "metadata": {
            "tags": []
          }
        },
        {
          "output_type": "stream",
          "text": [
            "notMNIST_small/J/Q29ybmV0IFNjcmlwdC50dGY=.png\n"
          ],
          "name": "stdout"
        },
        {
          "output_type": "display_data",
          "data": {
            "image/png": "[encoded data removed]",
            "text/plain": [
              "<IPython.core.display.Image object>"
            ]
          },
          "metadata": {
            "tags": []
          }
        },
        {
          "output_type": "stream",
          "text": [
            "notMNIST_small/J/Q29ycG9yYXRlIEhRLnR0Zg==.png\n"
          ],
          "name": "stdout"
        },
        {
          "output_type": "display_data",
          "data": {
            "image/png": "[encoded data removed]",
            "text/plain": [
              "<IPython.core.display.Image object>"
            ]
          },
          "metadata": {
            "tags": []
          }
        },
        {
          "output_type": "stream",
          "text": [
            "notMNIST_small/A/RWtsZWt0aWMtTm9ybWFsLUxpZ2h0LnR0Zg==.png\n"
          ],
          "name": "stdout"
        },
        {
          "output_type": "display_data",
          "data": {
            "image/png": "[encoded data removed]",
            "text/plain": [
              "<IPython.core.display.Image object>"
            ]
          },
          "metadata": {
            "tags": []
          }
        },
        {
          "output_type": "stream",
          "text": [
            "notMNIST_small/D/Q2hyaXN0b3Boc1F1aWxsSVRDU3RkLUJvbGQub3Rm.png\n"
          ],
          "name": "stdout"
        },
        {
          "output_type": "display_data",
          "data": {
            "image/png": "[encoded data removed]",
            "text/plain": [
              "<IPython.core.display.Image object>"
            ]
          },
          "metadata": {
            "tags": []
          }
        },
        {
          "output_type": "stream",
          "text": [
            "notMNIST_small/D/RXJhc0lUQ2J5QlQtRGVtaS5vdGY=.png\n"
          ],
          "name": "stdout"
        },
        {
          "output_type": "display_data",
          "data": {
            "image/png": "[encoded data removed]",
            "text/plain": [
              "<IPython.core.display.Image object>"
            ]
          },
          "metadata": {
            "tags": []
          }
        },
        {
          "output_type": "stream",
          "text": [
            "notMNIST_small/J/Q2xldmVyIER1a2UgQlROIFNtb290aC50dGY=.png\n"
          ],
          "name": "stdout"
        },
        {
          "output_type": "display_data",
          "data": {
            "image/png": "[encoded data removed]",
            "text/plain": [
              "<IPython.core.display.Image object>"
            ]
          },
          "metadata": {
            "tags": []
          }
        },
        {
          "output_type": "stream",
          "text": [
            "notMNIST_small/A/R2FyYW1vbmRMVC1Cb2xkQ29uZGVuc2VkLm90Zg==.png\n"
          ],
          "name": "stdout"
        },
        {
          "output_type": "display_data",
          "data": {
            "image/png": "[encoded data removed]",
            "text/plain": [
              "<IPython.core.display.Image object>"
            ]
          },
          "metadata": {
            "tags": []
          }
        },
        {
          "output_type": "stream",
          "text": [
            "notMNIST_small/A/Qml0c3RyZWFtIEFtZXJpZ28gQm9sZCBJdGFsaWMucGZi.png\n"
          ],
          "name": "stdout"
        },
        {
          "output_type": "display_data",
          "data": {
            "image/png": "[encoded data removed]",
            "text/plain": [
              "<IPython.core.display.Image object>"
            ]
          },
          "metadata": {
            "tags": []
          }
        },
        {
          "output_type": "stream",
          "text": [
            "notMNIST_small/A/Q2VudHVyeSBTY2hvb2xib29rIEl0YWxpYyBCVC50dGY=.png\n"
          ],
          "name": "stdout"
        },
        {
          "output_type": "display_data",
          "data": {
            "image/png": "[encoded data removed]",
            "text/plain": [
              "<IPython.core.display.Image object>"
            ]
          },
          "metadata": {
            "tags": []
          }
        },
        {
          "output_type": "stream",
          "text": [
            "notMNIST_small/B/Q2VyaWdvRUYtQm9sZEl0YWxpYy5vdGY=.png\n"
          ],
          "name": "stdout"
        },
        {
          "output_type": "display_data",
          "data": {
            "image/png": "[encoded data removed]",
            "text/plain": [
              "<IPython.core.display.Image object>"
            ]
          },
          "metadata": {
            "tags": []
          }
        },
        {
          "output_type": "stream",
          "text": [
            "notMNIST_small/B/RGVTdGlqbC50dGY=.png\n"
          ],
          "name": "stdout"
        },
        {
          "output_type": "display_data",
          "data": {
            "image/png": "[encoded data removed]",
            "text/plain": [
              "<IPython.core.display.Image object>"
            ]
          },
          "metadata": {
            "tags": []
          }
        },
        {
          "output_type": "stream",
          "text": [
            "notMNIST_small/C/R2FyYW1vbmRQcmVtclByby1NZWRJdERpc3Aub3Rm.png\n"
          ],
          "name": "stdout"
        },
        {
          "output_type": "display_data",
          "data": {
            "image/png": "[encoded data removed]",
            "text/plain": [
              "<IPython.core.display.Image object>"
            ]
          },
          "metadata": {
            "tags": []
          }
        },
        {
          "output_type": "stream",
          "text": [
            "notMNIST_small/C/QmFpbGV5U2Fuc0lUQ1N0ZC1Cb2xkLm90Zg==.png\n"
          ],
          "name": "stdout"
        },
        {
          "output_type": "display_data",
          "data": {
            "image/png": "[encoded data removed]",
            "text/plain": [
              "<IPython.core.display.Image object>"
            ]
          },
          "metadata": {
            "tags": []
          }
        },
        {
          "output_type": "stream",
          "text": [
            "notMNIST_small/D/RnJhbmtsaW5Hb3RoaWMtTWVkQ25kLm90Zg==.png\n"
          ],
          "name": "stdout"
        },
        {
          "output_type": "display_data",
          "data": {
            "image/png": "[encoded data removed]",
            "text/plain": [
              "<IPython.core.display.Image object>"
            ]
          },
          "metadata": {
            "tags": []
          }
        },
        {
          "output_type": "stream",
          "text": [
            "notMNIST_small/D/Q29weTA5NjUudHRm.png\n"
          ],
          "name": "stdout"
        },
        {
          "output_type": "display_data",
          "data": {
            "image/png": "[encoded data removed]",
            "text/plain": [
              "<IPython.core.display.Image object>"
            ]
          },
          "metadata": {
            "tags": []
          }
        },
        {
          "output_type": "stream",
          "text": [
            "notMNIST_small/D/QVRCcmFtbGV5LU1lZGl1bS5vdGY=.png\n"
          ],
          "name": "stdout"
        },
        {
          "output_type": "display_data",
          "data": {
            "image/png": "[encoded data removed]",
            "text/plain": [
              "<IPython.core.display.Image object>"
            ]
          },
          "metadata": {
            "tags": []
          }
        },
        {
          "output_type": "stream",
          "text": [
            "notMNIST_small/D/Qm9kb25pIE1UIEl0YWxpYy50dGY=.png\n"
          ],
          "name": "stdout"
        },
        {
          "output_type": "display_data",
          "data": {
            "image/png": "[encoded data removed]",
            "text/plain": [
              "<IPython.core.display.Image object>"
            ]
          },
          "metadata": {
            "tags": []
          }
        },
        {
          "output_type": "stream",
          "text": [
            "notMNIST_small/D/R29kZmF0aGVyLnR0Zg==.png\n"
          ],
          "name": "stdout"
        },
        {
          "output_type": "display_data",
          "data": {
            "image/png": "[encoded data removed]",
            "text/plain": [
              "<IPython.core.display.Image object>"
            ]
          },
          "metadata": {
            "tags": []
          }
        },
        {
          "output_type": "stream",
          "text": [
            "notMNIST_small/J/Q29vcGVyIEl0YWxpYy50dGY=.png\n"
          ],
          "name": "stdout"
        },
        {
          "output_type": "display_data",
          "data": {
            "image/png": "[encoded data removed]",
            "text/plain": [
              "<IPython.core.display.Image object>"
            ]
          },
          "metadata": {
            "tags": []
          }
        },
        {
          "output_type": "stream",
          "text": [
            "notMNIST_small/A/R2FsbGlhcmRJVENSbVNDYXBTLm90Zg==.png\n"
          ],
          "name": "stdout"
        },
        {
          "output_type": "display_data",
          "data": {
            "image/png": "[encoded data removed]",
            "text/plain": [
              "<IPython.core.display.Image object>"
            ]
          },
          "metadata": {
            "tags": []
          }
        },
        {
          "output_type": "stream",
          "text": [
            "notMNIST_small/A/QmF1aGF1c0lUQ2J5QlQtTGlnaHQub3Rm.png\n"
          ],
          "name": "stdout"
        },
        {
          "output_type": "display_data",
          "data": {
            "image/png": "[encoded data removed]",
            "text/plain": [
              "<IPython.core.display.Image object>"
            ]
          },
          "metadata": {
            "tags": []
          }
        },
        {
          "output_type": "stream",
          "text": [
            "notMNIST_small/A/RnJpc2Fuc1N0ZC5vdGY=.png\n"
          ],
          "name": "stdout"
        },
        {
          "output_type": "display_data",
          "data": {
            "image/png": "[encoded data removed]",
            "text/plain": [
              "<IPython.core.display.Image object>"
            ]
          },
          "metadata": {
            "tags": []
          }
        },
        {
          "output_type": "stream",
          "text": [
            "notMNIST_small/A/QWdmYVJvdGlzU2Fuc1NlcmlmRXh0cmFCb2xkLm90Zg==.png\n"
          ],
          "name": "stdout"
        },
        {
          "output_type": "display_data",
          "data": {
            "image/png": "[encoded data removed]",
            "text/plain": [
              "<IPython.core.display.Image object>"
            ]
          },
          "metadata": {
            "tags": []
          }
        },
        {
          "output_type": "stream",
          "text": [
            "notMNIST_small/A/QmVuZ3VpYXRDb25kZW5zZWRCUS1Cb29rSXRhbGljLm90Zg==.png\n"
          ],
          "name": "stdout"
        },
        {
          "output_type": "display_data",
          "data": {
            "image/png": "[encoded data removed]",
            "text/plain": [
              "<IPython.core.display.Image object>"
            ]
          },
          "metadata": {
            "tags": []
          }
        },
        {
          "output_type": "stream",
          "text": [
            "notMNIST_small/B/RHVzdFBpZWNlLm90Zg==.png\n"
          ],
          "name": "stdout"
        },
        {
          "output_type": "display_data",
          "data": {
            "image/png": "[encoded data removed]",
            "text/plain": [
              "<IPython.core.display.Image object>"
            ]
          },
          "metadata": {
            "tags": []
          }
        },
        {
          "output_type": "stream",
          "text": [
            "notMNIST_small/B/RHlhZGlzSVRDU3RkLUJvbGRJdGFsaWMub3Rm.png\n"
          ],
          "name": "stdout"
        },
        {
          "output_type": "display_data",
          "data": {
            "image/png": "[encoded data removed]",
            "text/plain": [
              "<IPython.core.display.Image object>"
            ]
          },
          "metadata": {
            "tags": []
          }
        },
        {
          "output_type": "stream",
          "text": [
            "notMNIST_small/B/QmVybmhhcmRGYXNoaW9uIEJULnR0Zg==.png\n"
          ],
          "name": "stdout"
        },
        {
          "output_type": "display_data",
          "data": {
            "image/png": "[encoded data removed]",
            "text/plain": [
              "<IPython.core.display.Image object>"
            ]
          },
          "metadata": {
            "tags": []
          }
        },
        {
          "output_type": "stream",
          "text": [
            "notMNIST_small/B/QmFza2VydmlsbGUtTm9ybWFsLUl0YWxpYy50dGY=.png\n"
          ],
          "name": "stdout"
        },
        {
          "output_type": "display_data",
          "data": {
            "image/png": "[encoded data removed]",
            "text/plain": [
              "<IPython.core.display.Image object>"
            ]
          },
          "metadata": {
            "tags": []
          }
        },
        {
          "output_type": "stream",
          "text": [
            "notMNIST_small/C/Q2lyY3VzIE5vcm1hbC50dGY=.png\n"
          ],
          "name": "stdout"
        },
        {
          "output_type": "display_data",
          "data": {
            "image/png": "[encoded data removed]",
            "text/plain": [
              "<IPython.core.display.Image object>"
            ]
          },
          "metadata": {
            "tags": []
          }
        },
        {
          "output_type": "stream",
          "text": [
            "notMNIST_small/C/QW1UeXBld3JpdGVyRUYtQm9sZEl0YWxpYy5vdGY=.png\n"
          ],
          "name": "stdout"
        },
        {
          "output_type": "display_data",
          "data": {
            "image/png": "[encoded data removed]",
            "text/plain": [
              "<IPython.core.display.Image object>"
            ]
          },
          "metadata": {
            "tags": []
          }
        },
        {
          "output_type": "stream",
          "text": [
            "notMNIST_small/D/RmlsdGVDYXN1YWwudHRm.png\n"
          ],
          "name": "stdout"
        },
        {
          "output_type": "display_data",
          "data": {
            "image/png": "[encoded data removed]",
            "text/plain": [
              "<IPython.core.display.Image object>"
            ]
          },
          "metadata": {
            "tags": []
          }
        },
        {
          "output_type": "stream",
          "text": [
            "notMNIST_small/D/Q29vcEZvcmdlZC5wZmI=.png\n"
          ],
          "name": "stdout"
        },
        {
          "output_type": "display_data",
          "data": {
            "image/png": "[encoded data removed]",
            "text/plain": [
              "<IPython.core.display.Image object>"
            ]
          },
          "metadata": {
            "tags": []
          }
        },
        {
          "output_type": "stream",
          "text": [
            "notMNIST_small/D/Q2VudHVyeTcyNUJULVJvbWFuQ29uZGVuc2VkLm90Zg==.png\n"
          ],
          "name": "stdout"
        },
        {
          "output_type": "display_data",
          "data": {
            "image/png": "[encoded data removed]",
            "text/plain": [
              "<IPython.core.display.Image object>"
            ]
          },
          "metadata": {
            "tags": []
          }
        },
        {
          "output_type": "stream",
          "text": [
            "notMNIST_small/J/Q2FzdGxlVC1Cb2xkLm90Zg==.png\n"
          ],
          "name": "stdout"
        },
        {
          "output_type": "display_data",
          "data": {
            "image/png": "[encoded data removed]",
            "text/plain": [
              "<IPython.core.display.Image object>"
            ]
          },
          "metadata": {
            "tags": []
          }
        },
        {
          "output_type": "stream",
          "text": [
            "notMNIST_small/J/Qm9yZGVhdXhNZWRpdW0ub3Rm.png\n"
          ],
          "name": "stdout"
        },
        {
          "output_type": "display_data",
          "data": {
            "image/png": "[encoded data removed]",
            "text/plain": [
              "<IPython.core.display.Image object>"
            ]
          },
          "metadata": {
            "tags": []
          }
        },
        {
          "output_type": "stream",
          "text": [
            "notMNIST_small/J/Q29tc2F0LVN0YXRpb24ub3Rm.png\n"
          ],
          "name": "stdout"
        },
        {
          "output_type": "display_data",
          "data": {
            "image/png": "[encoded data removed]",
            "text/plain": [
              "<IPython.core.display.Image object>"
            ]
          },
          "metadata": {
            "tags": []
          }
        },
        {
          "output_type": "stream",
          "text": [
            "notMNIST_small/J/SG9uZXkgSSBTdG9sZSBZb3VyIEp1bXBlci50dGY=.png\n"
          ],
          "name": "stdout"
        },
        {
          "output_type": "display_data",
          "data": {
            "image/png": "[encoded data removed]",
            "text/plain": [
              "<IPython.core.display.Image object>"
            ]
          },
          "metadata": {
            "tags": []
          }
        },
        {
          "output_type": "stream",
          "text": [
            "notMNIST_small/A/Q2FybGEgQm9sZC50dGY=.png\n"
          ],
          "name": "stdout"
        },
        {
          "output_type": "display_data",
          "data": {
            "image/png": "[encoded data removed]",
            "text/plain": [
              "<IPython.core.display.Image object>"
            ]
          },
          "metadata": {
            "tags": []
          }
        },
        {
          "output_type": "stream",
          "text": [
            "notMNIST_small/A/RHluYW1lIEJsYWNrIFNTaSBCb2xkLnR0Zg==.png\n"
          ],
          "name": "stdout"
        },
        {
          "output_type": "display_data",
          "data": {
            "image/png": "[encoded data removed]",
            "text/plain": [
              "<IPython.core.display.Image object>"
            ]
          },
          "metadata": {
            "tags": []
          }
        },
        {
          "output_type": "stream",
          "text": [
            "notMNIST_small/B/Q3Jvbm9zUHJvLVNlbWlib2xkSXQub3Rm.png\n"
          ],
          "name": "stdout"
        },
        {
          "output_type": "display_data",
          "data": {
            "image/png": "[encoded data removed]",
            "text/plain": [
              "<IPython.core.display.Image object>"
            ]
          },
          "metadata": {
            "tags": []
          }
        },
        {
          "output_type": "stream",
          "text": [
            "notMNIST_small/C/Q2FsaXMgaW4gUHVwcGV0bGFuZC50dGY=.png\n"
          ],
          "name": "stdout"
        },
        {
          "output_type": "display_data",
          "data": {
            "image/png": "[encoded data removed]",
            "text/plain": [
              "<IPython.core.display.Image object>"
            ]
          },
          "metadata": {
            "tags": []
          }
        },
        {
          "output_type": "stream",
          "text": [
            "notMNIST_small/G/RHluYW1vTHhjRFhDLm90Zg==.png\n"
          ],
          "name": "stdout"
        },
        {
          "output_type": "display_data",
          "data": {
            "image/png": "[encoded data removed]",
            "text/plain": [
              "<IPython.core.display.Image object>"
            ]
          },
          "metadata": {
            "tags": []
          }
        },
        {
          "output_type": "stream",
          "text": [
            "notMNIST_small/G/Q29jb24tUmVndWxhci5vdGY=.png\n"
          ],
          "name": "stdout"
        },
        {
          "output_type": "display_data",
          "data": {
            "image/png": "[encoded data removed]",
            "text/plain": [
              "<IPython.core.display.Image object>"
            ]
          },
          "metadata": {
            "tags": []
          }
        },
        {
          "output_type": "stream",
          "text": [
            "notMNIST_small/G/R2Fkem9veEJvbGQub3Rm.png\n"
          ],
          "name": "stdout"
        },
        {
          "output_type": "display_data",
          "data": {
            "image/png": "[encoded data removed]",
            "text/plain": [
              "<IPython.core.display.Image object>"
            ]
          },
          "metadata": {
            "tags": []
          }
        },
        {
          "output_type": "stream",
          "text": [
            "notMNIST_small/G/SGVsdmV0aWNhLUNvbmRlbnNlZC1MaWdodE9ibC5vdGY=.png\n"
          ],
          "name": "stdout"
        },
        {
          "output_type": "display_data",
          "data": {
            "image/png": "[encoded data removed]",
            "text/plain": [
              "<IPython.core.display.Image object>"
            ]
          },
          "metadata": {
            "tags": []
          }
        },
        {
          "output_type": "stream",
          "text": [
            "notMNIST_small/G/R2Fwc3Rvd24gU21hbGwgQUggQm9sZC50dGY=.png\n"
          ],
          "name": "stdout"
        },
        {
          "output_type": "display_data",
          "data": {
            "image/png": "[encoded data removed]",
            "text/plain": [
              "<IPython.core.display.Image object>"
            ]
          },
          "metadata": {
            "tags": []
          }
        },
        {
          "output_type": "stream",
          "text": [
            "notMNIST_small/I/RnJlbmNoMTExQlQtUmVndWxhci5vdGY=.png\n"
          ],
          "name": "stdout"
        },
        {
          "output_type": "display_data",
          "data": {
            "image/png": "[encoded data removed]",
            "text/plain": [
              "<IPython.core.display.Image object>"
            ]
          },
          "metadata": {
            "tags": []
          }
        },
        {
          "output_type": "stream",
          "text": [
            "notMNIST_small/I/SGFsbG93ZWVuIE1hdGNoLnR0Zg==.png\n"
          ],
          "name": "stdout"
        },
        {
          "output_type": "display_data",
          "data": {
            "image/png": "[encoded data removed]",
            "text/plain": [
              "<IPython.core.display.Image object>"
            ]
          },
          "metadata": {
            "tags": []
          }
        },
        {
          "output_type": "stream",
          "text": [
            "notMNIST_small/D/QnJpZW1Ba2FkZW1pU3RkLVJlZ3VsYXIub3Rm.png\n"
          ],
          "name": "stdout"
        },
        {
          "output_type": "display_data",
          "data": {
            "image/png": "[encoded data removed]",
            "text/plain": [
              "<IPython.core.display.Image object>"
            ]
          },
          "metadata": {
            "tags": []
          }
        },
        {
          "output_type": "stream",
          "text": [
            "notMNIST_small/D/Qm9yZGVhdXhNZWRpdW0ub3Rm.png\n"
          ],
          "name": "stdout"
        },
        {
          "output_type": "display_data",
          "data": {
            "image/png": "[encoded data removed]",
            "text/plain": [
              "<IPython.core.display.Image object>"
            ]
          },
          "metadata": {
            "tags": []
          }
        },
        {
          "output_type": "stream",
          "text": [
            "notMNIST_small/D/RnV0dXJhQlEtQm9sZE91dGxpbmUub3Rm.png\n"
          ],
          "name": "stdout"
        },
        {
          "output_type": "display_data",
          "data": {
            "image/png": "[encoded data removed]",
            "text/plain": [
              "<IPython.core.display.Image object>"
            ]
          },
          "metadata": {
            "tags": []
          }
        },
        {
          "output_type": "stream",
          "text": [
            "notMNIST_small/D/QmFza2VydmlsbGVCUS1JdGFsaWMub3Rm.png\n"
          ],
          "name": "stdout"
        },
        {
          "output_type": "display_data",
          "data": {
            "image/png": "[encoded data removed]",
            "text/plain": [
              "<IPython.core.display.Image object>"
            ]
          },
          "metadata": {
            "tags": []
          }
        },
        {
          "output_type": "stream",
          "text": [
            "notMNIST_small/B/R3JpZmZpdGhHb3RoaWMtQmxhY2sub3Rm.png\n"
          ],
          "name": "stdout"
        },
        {
          "output_type": "display_data",
          "data": {
            "image/png": "[encoded data removed]",
            "text/plain": [
              "<IPython.core.display.Image object>"
            ]
          },
          "metadata": {
            "tags": []
          }
        },
        {
          "output_type": "stream",
          "text": [
            "notMNIST_small/B/QXVndXN0YVN0ZC1SZWd1bGFyLm90Zg==.png\n"
          ],
          "name": "stdout"
        },
        {
          "output_type": "display_data",
          "data": {
            "image/png": "[encoded data removed]",
            "text/plain": [
              "<IPython.core.display.Image object>"
            ]
          },
          "metadata": {
            "tags": []
          }
        },
        {
          "output_type": "stream",
          "text": [
            "notMNIST_small/C/RmFybmhhbURpc3BsYXktQmxhY2sub3Rm.png\n"
          ],
          "name": "stdout"
        },
        {
          "output_type": "display_data",
          "data": {
            "image/png": "[encoded data removed]",
            "text/plain": [
              "<IPython.core.display.Image object>"
            ]
          },
          "metadata": {
            "tags": []
          }
        },
        {
          "output_type": "stream",
          "text": [
            "notMNIST_small/C/Q2dNb2Rlcm5Ud2VudHkudHRm.png\n"
          ],
          "name": "stdout"
        },
        {
          "output_type": "display_data",
          "data": {
            "image/png": "[encoded data removed]",
            "text/plain": [
              "<IPython.core.display.Image object>"
            ]
          },
          "metadata": {
            "tags": []
          }
        },
        {
          "output_type": "stream",
          "text": [
            "notMNIST_small/G/R2lsbCBTYW5zIE1ULnR0Zg==.png\n"
          ],
          "name": "stdout"
        },
        {
          "output_type": "display_data",
          "data": {
            "image/png": "[encoded data removed]",
            "text/plain": [
              "<IPython.core.display.Image object>"
            ]
          },
          "metadata": {
            "tags": []
          }
        },
        {
          "output_type": "stream",
          "text": [
            "notMNIST_small/G/RHluYW1vUkl0YWxpY1Iub3Rm.png\n"
          ],
          "name": "stdout"
        },
        {
          "output_type": "display_data",
          "data": {
            "image/png": "[encoded data removed]",
            "text/plain": [
              "<IPython.core.display.Image object>"
            ]
          },
          "metadata": {
            "tags": []
          }
        },
        {
          "output_type": "stream",
          "text": [
            "notMNIST_small/G/Q29udGludXVtIEJvbGQudHRm.png\n"
          ],
          "name": "stdout"
        },
        {
          "output_type": "display_data",
          "data": {
            "image/png": "[encoded data removed]",
            "text/plain": [
              "<IPython.core.display.Image object>"
            ]
          },
          "metadata": {
            "tags": []
          }
        },
        {
          "output_type": "stream",
          "text": [
            "notMNIST_small/G/R2lsbFNhbnNNVFN0ZC1IZWF2eS5vdGY=.png\n"
          ],
          "name": "stdout"
        },
        {
          "output_type": "display_data",
          "data": {
            "image/png": "[encoded data removed]",
            "text/plain": [
              "<IPython.core.display.Image object>"
            ]
          },
          "metadata": {
            "tags": []
          }
        },
        {
          "output_type": "stream",
          "text": [
            "notMNIST_small/H/RWdnbyBUaGluIEl0YWxpYy50dGY=.png\n"
          ],
          "name": "stdout"
        },
        {
          "output_type": "display_data",
          "data": {
            "image/png": "[encoded data removed]",
            "text/plain": [
              "<IPython.core.display.Image object>"
            ]
          },
          "metadata": {
            "tags": []
          }
        },
        {
          "output_type": "stream",
          "text": [
            "notMNIST_small/H/SHVtYW5pc3Q3NzdCVC1FeHRyYUJsYWNrQi5vdGY=.png\n"
          ],
          "name": "stdout"
        },
        {
          "output_type": "display_data",
          "data": {
            "image/png": "[encoded data removed]",
            "text/plain": [
              "<IPython.core.display.Image object>"
            ]
          },
          "metadata": {
            "tags": []
          }
        },
        {
          "output_type": "stream",
          "text": [
            "notMNIST_small/D/SHVtYW5hIEV4LnR0Zg==.png\n"
          ],
          "name": "stdout"
        },
        {
          "output_type": "display_data",
          "data": {
            "image/png": "[encoded data removed]",
            "text/plain": [
              "<IPython.core.display.Image object>"
            ]
          },
          "metadata": {
            "tags": []
          }
        },
        {
          "output_type": "stream",
          "text": [
            "notMNIST_small/D/Qm9va21hbklUQ1N0ZC1MaWdodEl0YWxpYy5vdGY=.png\n"
          ],
          "name": "stdout"
        },
        {
          "output_type": "display_data",
          "data": {
            "image/png": "[encoded data removed]",
            "text/plain": [
              "<IPython.core.display.Image object>"
            ]
          },
          "metadata": {
            "tags": []
          }
        },
        {
          "output_type": "stream",
          "text": [
            "notMNIST_small/J/QW1lcmlnbyBCVCBCb2xkLnR0Zg==.png\n"
          ],
          "name": "stdout"
        },
        {
          "output_type": "display_data",
          "data": {
            "image/png": "[encoded data removed]",
            "text/plain": [
              "<IPython.core.display.Image object>"
            ]
          },
          "metadata": {
            "tags": []
          }
        },
        {
          "output_type": "stream",
          "text": [
            "notMNIST_small/J/R2VzdGFsdC1IVEYtTGluZWFyLU1lZGl1bS5vdGY=.png\n"
          ],
          "name": "stdout"
        },
        {
          "output_type": "display_data",
          "data": {
            "image/png": "[encoded data removed]",
            "text/plain": [
              "<IPython.core.display.Image object>"
            ]
          },
          "metadata": {
            "tags": []
          }
        },
        {
          "output_type": "stream",
          "text": [
            "notMNIST_small/J/R2FydGhHcmFwaGljLUNvbmRlbnNlZC5vdGY=.png\n"
          ],
          "name": "stdout"
        },
        {
          "output_type": "display_data",
          "data": {
            "image/png": "[encoded data removed]",
            "text/plain": [
              "<IPython.core.display.Image object>"
            ]
          },
          "metadata": {
            "tags": []
          }
        },
        {
          "output_type": "stream",
          "text": [
            "notMNIST_small/A/Q29tbXVuaXR5U2VydmljZSBCbGFjay50dGY=.png\n"
          ],
          "name": "stdout"
        },
        {
          "output_type": "display_data",
          "data": {
            "image/png": "[encoded data removed]",
            "text/plain": [
              "<IPython.core.display.Image object>"
            ]
          },
          "metadata": {
            "tags": []
          }
        },
        {
          "output_type": "stream",
          "text": [
            "notMNIST_small/A/SVRDR2FyYW1vbmRTdGQtQmQub3Rm.png\n"
          ],
          "name": "stdout"
        },
        {
          "output_type": "display_data",
          "data": {
            "image/png": "[encoded data removed]",
            "text/plain": [
              "<IPython.core.display.Image object>"
            ]
          },
          "metadata": {
            "tags": []
          }
        },
        {
          "output_type": "stream",
          "text": [
            "notMNIST_small/B/Qm91Z2FuIEJsYWNrIFNTaSBCb2xkLnR0Zg==.png\n"
          ],
          "name": "stdout"
        },
        {
          "output_type": "display_data",
          "data": {
            "image/png": "[encoded data removed]",
            "text/plain": [
              "<IPython.core.display.Image object>"
            ]
          },
          "metadata": {
            "tags": []
          }
        },
        {
          "output_type": "stream",
          "text": [
            "notMNIST_small/C/RWxlbWVudGFTeW1ib2wtSXRhbGljLm90Zg==.png\n"
          ],
          "name": "stdout"
        },
        {
          "output_type": "display_data",
          "data": {
            "image/png": "[encoded data removed]",
            "text/plain": [
              "<IPython.core.display.Image object>"
            ]
          },
          "metadata": {
            "tags": []
          }
        },
        {
          "output_type": "stream",
          "text": [
            "notMNIST_small/C/QXJpYWxNb25vc3BhY2VkTVRTdGQtT2JsaXF1ZS5vdGY=.png\n"
          ],
          "name": "stdout"
        },
        {
          "output_type": "display_data",
          "data": {
            "image/png": "[encoded data removed]",
            "text/plain": [
              "<IPython.core.display.Image object>"
            ]
          },
          "metadata": {
            "tags": []
          }
        },
        {
          "output_type": "stream",
          "text": [
            "notMNIST_small/G/R2ltZW5lbGxzIEl0YWxpYy50dGY=.png\n"
          ],
          "name": "stdout"
        },
        {
          "output_type": "display_data",
          "data": {
            "image/png": "[encoded data removed]",
            "text/plain": [
              "<IPython.core.display.Image object>"
            ]
          },
          "metadata": {
            "tags": []
          }
        },
        {
          "output_type": "stream",
          "text": [
            "notMNIST_small/I/QmVsbEdvdGhpY1N0ZC1CbGFjay5vdGY=.png\n"
          ],
          "name": "stdout"
        },
        {
          "output_type": "display_data",
          "data": {
            "image/png": "[encoded data removed]",
            "text/plain": [
              "<IPython.core.display.Image object>"
            ]
          },
          "metadata": {
            "tags": []
          }
        },
        {
          "output_type": "stream",
          "text": [
            "notMNIST_small/H/SGVhZGVyMTc2Ny50dGY=.png\n"
          ],
          "name": "stdout"
        },
        {
          "output_type": "display_data",
          "data": {
            "image/png": "[encoded data removed]",
            "text/plain": [
              "<IPython.core.display.Image object>"
            ]
          },
          "metadata": {
            "tags": []
          }
        },
        {
          "output_type": "stream",
          "text": [
            "notMNIST_small/H/Q2hlbHRlbmhhbU9sZFN0eWxlRUYub3Rm.png\n"
          ],
          "name": "stdout"
        },
        {
          "output_type": "display_data",
          "data": {
            "image/png": "[encoded data removed]",
            "text/plain": [
              "<IPython.core.display.Image object>"
            ]
          },
          "metadata": {
            "tags": []
          }
        },
        {
          "output_type": "stream",
          "text": [
            "notMNIST_small/H/SVRDIEZyYW5rbGluIEdvdGhpYyBEZW1pLnBmYg==.png\n"
          ],
          "name": "stdout"
        },
        {
          "output_type": "display_data",
          "data": {
            "image/png": "[encoded data removed]",
            "text/plain": [
              "<IPython.core.display.Image object>"
            ]
          },
          "metadata": {
            "tags": []
          }
        },
        {
          "output_type": "stream",
          "text": [
            "notMNIST_small/F/SVRDIEZyYW5rbGluIEdvdGhpYyBEZW1pLnBmYg==.png\n"
          ],
          "name": "stdout"
        },
        {
          "output_type": "display_data",
          "data": {
            "image/png": "[encoded data removed]",
            "text/plain": [
              "<IPython.core.display.Image object>"
            ]
          },
          "metadata": {
            "tags": []
          }
        },
        {
          "output_type": "stream",
          "text": [
            "notMNIST_small/F/SGFsbG93ZWVuIE1hdGNoLnR0Zg==.png\n"
          ],
          "name": "stdout"
        },
        {
          "output_type": "display_data",
          "data": {
            "image/png": "[encoded data removed]",
            "text/plain": [
              "<IPython.core.display.Image object>"
            ]
          },
          "metadata": {
            "tags": []
          }
        },
        {
          "output_type": "stream",
          "text": [
            "notMNIST_small/D/Q2hhcnRlckVGLVJlZ3VsYXJJdGFsaWNPc0Yub3Rm.png\n"
          ],
          "name": "stdout"
        },
        {
          "output_type": "display_data",
          "data": {
            "image/png": "[encoded data removed]",
            "text/plain": [
              "<IPython.core.display.Image object>"
            ]
          },
          "metadata": {
            "tags": []
          }
        },
        {
          "output_type": "stream",
          "text": [
            "notMNIST_small/D/QVRCcmFtbGV5LU1lZGl1bS5vdGY=.png\n"
          ],
          "name": "stdout"
        },
        {
          "output_type": "display_data",
          "data": {
            "image/png": "[encoded data removed]",
            "text/plain": [
              "<IPython.core.display.Image object>"
            ]
          },
          "metadata": {
            "tags": []
          }
        },
        {
          "output_type": "stream",
          "text": [
            "notMNIST_small/D/R29ybG9jayAgQm9sZC50dGY=.png\n"
          ],
          "name": "stdout"
        },
        {
          "output_type": "display_data",
          "data": {
            "image/png": "[encoded data removed]",
            "text/plain": [
              "<IPython.core.display.Image object>"
            ]
          },
          "metadata": {
            "tags": []
          }
        },
        {
          "output_type": "stream",
          "text": [
            "notMNIST_small/D/Rm9ybXVsYS1NZWRpdW1JdGEub3Rm.png\n"
          ],
          "name": "stdout"
        },
        {
          "output_type": "display_data",
          "data": {
            "image/png": "[encoded data removed]",
            "text/plain": [
              "<IPython.core.display.Image object>"
            ]
          },
          "metadata": {
            "tags": []
          }
        },
        {
          "output_type": "stream",
          "text": [
            "notMNIST_small/D/SHVtYW5pc3QgNTMxIEJsYWNrIEJULnR0Zg==.png\n"
          ],
          "name": "stdout"
        },
        {
          "output_type": "display_data",
          "data": {
            "image/png": "[encoded data removed]",
            "text/plain": [
              "<IPython.core.display.Image object>"
            ]
          },
          "metadata": {
            "tags": []
          }
        },
        {
          "output_type": "stream",
          "text": [
            "notMNIST_small/J/QmVldGhhbS1MaWdodC5vdGY=.png\n"
          ],
          "name": "stdout"
        },
        {
          "output_type": "display_data",
          "data": {
            "image/png": "[encoded data removed]",
            "text/plain": [
              "<IPython.core.display.Image object>"
            ]
          },
          "metadata": {
            "tags": []
          }
        },
        {
          "output_type": "stream",
          "text": [
            "notMNIST_small/J/RWlkZXRpY01vZGVybi5vdGY=.png\n"
          ],
          "name": "stdout"
        },
        {
          "output_type": "display_data",
          "data": {
            "image/png": "[encoded data removed]",
            "text/plain": [
              "<IPython.core.display.Image object>"
            ]
          },
          "metadata": {
            "tags": []
          }
        },
        {
          "output_type": "stream",
          "text": [
            "notMNIST_small/J/RG9udGVGb250LnR0Zg==.png\n"
          ],
          "name": "stdout"
        },
        {
          "output_type": "display_data",
          "data": {
            "image/png": "[encoded data removed]",
            "text/plain": [
              "<IPython.core.display.Image object>"
            ]
          },
          "metadata": {
            "tags": []
          }
        },
        {
          "output_type": "stream",
          "text": [
            "notMNIST_small/A/Q2hhcnRlciBJVEMgUm9tYW4gQlQudHRm.png\n"
          ],
          "name": "stdout"
        },
        {
          "output_type": "display_data",
          "data": {
            "image/png": "[encoded data removed]",
            "text/plain": [
              "<IPython.core.display.Image object>"
            ]
          },
          "metadata": {
            "tags": []
          }
        },
        {
          "output_type": "stream",
          "text": [
            "notMNIST_small/A/Q3JhenkgR2lybHogQmxvbmQgQlROLnR0Zg==.png\n"
          ],
          "name": "stdout"
        },
        {
          "output_type": "display_data",
          "data": {
            "image/png": "[encoded data removed]",
            "text/plain": [
              "<IPython.core.display.Image object>"
            ]
          },
          "metadata": {
            "tags": []
          }
        },
        {
          "output_type": "stream",
          "text": [
            "notMNIST_small/A/Q2hhbnNvbiBIZWF2eSBTRiBCb2xkIEl0YWxpYy50dGY=.png\n"
          ],
          "name": "stdout"
        },
        {
          "output_type": "display_data",
          "data": {
            "image/png": "[encoded data removed]",
            "text/plain": [
              "<IPython.core.display.Image object>"
            ]
          },
          "metadata": {
            "tags": []
          }
        },
        {
          "output_type": "stream",
          "text": [
            "notMNIST_small/C/R2lsbFNhbnNNVFByby1NZWRpdW1JdGFsaWMub3Rm.png\n"
          ],
          "name": "stdout"
        },
        {
          "output_type": "display_data",
          "data": {
            "image/png": "[encoded data removed]",
            "text/plain": [
              "<IPython.core.display.Image object>"
            ]
          },
          "metadata": {
            "tags": []
          }
        },
        {
          "output_type": "stream",
          "text": [
            "notMNIST_small/C/R2FyZGVuemkgLSBEZW1pT2JsaXF1ZS50dGY=.png\n"
          ],
          "name": "stdout"
        },
        {
          "output_type": "display_data",
          "data": {
            "image/png": "[encoded data removed]",
            "text/plain": [
              "<IPython.core.display.Image object>"
            ]
          },
          "metadata": {
            "tags": []
          }
        },
        {
          "output_type": "stream",
          "text": [
            "notMNIST_small/C/Q3Jvbm9zUHJvLUNhcHRJdC5vdGY=.png\n"
          ],
          "name": "stdout"
        },
        {
          "output_type": "display_data",
          "data": {
            "image/png": "[encoded data removed]",
            "text/plain": [
              "<IPython.core.display.Image object>"
            ]
          },
          "metadata": {
            "tags": []
          }
        },
        {
          "output_type": "stream",
          "text": [
            "notMNIST_small/C/SVRDQXZhbnRHYXJkZVN0ZC1Cb2xkQ24ub3Rm.png\n"
          ],
          "name": "stdout"
        },
        {
          "output_type": "display_data",
          "data": {
            "image/png": "[encoded data removed]",
            "text/plain": [
              "<IPython.core.display.Image object>"
            ]
          },
          "metadata": {
            "tags": []
          }
        },
        {
          "output_type": "stream",
          "text": [
            "notMNIST_small/I/SGVsdmV0aWNhLU5hcnJvdy1Cb2xkLm90Zg==.png\n"
          ],
          "name": "stdout"
        },
        {
          "output_type": "display_data",
          "data": {
            "image/png": "[encoded data removed]",
            "text/plain": [
              "<IPython.core.display.Image object>"
            ]
          },
          "metadata": {
            "tags": []
          }
        },
        {
          "output_type": "stream",
          "text": [
            "notMNIST_small/H/QmF1aGF1cyBCb2xkLnR0Zg==.png\n"
          ],
          "name": "stdout"
        },
        {
          "output_type": "display_data",
          "data": {
            "image/png": "[encoded data removed]",
            "text/plain": [
              "<IPython.core.display.Image object>"
            ]
          },
          "metadata": {
            "tags": []
          }
        },
        {
          "output_type": "stream",
          "text": [
            "notMNIST_small/F/QmFjY3VzIFJlZ3VsYXIudHRm.png\n"
          ],
          "name": "stdout"
        },
        {
          "output_type": "display_data",
          "data": {
            "image/png": "[encoded data removed]",
            "text/plain": [
              "<IPython.core.display.Image object>"
            ]
          },
          "metadata": {
            "tags": []
          }
        }
      ]
    },
    {
      "cell_type": "code",
      "metadata": {
        "id": "4BWBiblMqPDE",
        "colab_type": "code",
        "colab": {
          "base_uri": "https://localhost:8080/",
          "height": 121
        },
        "outputId": "2fab9226-8da2-402c-d4c9-ff279b92e8fe"
      },
      "source": [
        "from google.colab import drive\n",
        "drive.mount('/content/drive')"
      ],
      "execution_count": 13,
      "outputs": [
        {
          "output_type": "stream",
          "text": [
            "Go to this URL in a browser: https://accounts.google.com/o/oauth2/auth?client_id=947318989803-6bn6qk8qdgf4n4g3pfee6491hc0brc4i.apps.googleusercontent.com&redirect_uri=urn%3Aietf%3Awg%3Aoauth%3A2.0%3Aoob&scope=email%20https%3A%2F%2Fwww.googleapis.com%2Fauth%2Fdocs.test%20https%3A%2F%2Fwww.googleapis.com%2Fauth%2Fdrive%20https%3A%2F%2Fwww.googleapis.com%2Fauth%2Fdrive.photos.readonly%20https%3A%2F%2Fwww.googleapis.com%2Fauth%2Fpeopleapi.readonly&response_type=code\n",
            "\n",
            "Enter your authorization code:\n",
            "··········\n",
            "Mounted at /content/drive\n"
          ],
          "name": "stdout"
        }
      ]
    },
    {
      "cell_type": "code",
      "metadata": {
        "id": "hPVsflTsqcpd",
        "colab_type": "code",
        "colab": {
          "base_uri": "https://localhost:8080/",
          "height": 101
        },
        "outputId": "81f9e9d2-fe2b-4bd6-fbfa-abe737f28b49"
      },
      "source": [
        "!ls -l \"/content/drive/My Drive/Colab Notebooks/notMNiST/notMNIST_large\""
      ],
      "execution_count": 22,
      "outputs": [
        {
          "output_type": "stream",
          "text": [
            "total 648171\n",
            "-rw------- 1 root root 165932198 Jul 26 23:36 G.pickle\n",
            "-rw------- 1 root root 165932198 Jul 26 23:37 H.pickle\n",
            "-rw------- 1 root root 165932198 Jul 26 23:40 I.pickle\n",
            "-rw------- 1 root root 165929062 Jul 26 23:45 J.pickle\n"
          ],
          "name": "stdout"
        }
      ]
    },
    {
      "cell_type": "code",
      "metadata": {
        "id": "IkKbRwkErbUN",
        "colab_type": "code",
        "colab": {
          "base_uri": "https://localhost:8080/",
          "height": 202
        },
        "outputId": "768c2d08-6407-4ab9-feb6-cd5f779a2365"
      },
      "source": [
        "!cp notMNIST_small/*.pickle \"/content/drive/My Drive/Colab Notebooks/notMNiST/notMNIST_small\"\n",
        "!ls -l \"/content/drive/My Drive/Colab Notebooks/notMNiST/notMNIST_small\""
      ],
      "execution_count": 25,
      "outputs": [
        {
          "output_type": "stream",
          "text": [
            "total 57347\n",
            "-rw------- 1 root root 5870749 Jul 26 23:47 A.pickle\n",
            "-rw------- 1 root root 5873885 Jul 26 23:47 B.pickle\n",
            "-rw------- 1 root root 5873885 Jul 26 23:47 C.pickle\n",
            "-rw------- 1 root root 5873885 Jul 26 23:47 D.pickle\n",
            "-rw------- 1 root root 5873885 Jul 26 23:47 E.pickle\n",
            "-rw------- 1 root root 5870749 Jul 26 23:47 F.pickle\n",
            "-rw------- 1 root root 5870749 Jul 26 23:47 G.pickle\n",
            "-rw------- 1 root root 5870749 Jul 26 23:47 H.pickle\n",
            "-rw------- 1 root root 5870749 Jul 26 23:47 I.pickle\n",
            "-rw------- 1 root root 5870749 Jul 26 23:47 J.pickle\n"
          ],
          "name": "stdout"
        }
      ]
    },
    {
      "cell_type": "code",
      "metadata": {
        "id": "3DaIo4Lor_s-",
        "colab_type": "code",
        "colab": {
          "base_uri": "https://localhost:8080/",
          "height": 202
        },
        "outputId": "33898c10-348c-483d-a294-bbd077d33184"
      },
      "source": [
        "!cp notMNIST_large/*.pickle \"/content/drive/My Drive/Colab Notebooks/notMNiST/notMNIST_large\"\n",
        "!ls -l \"/content/drive/My Drive/Colab Notebooks/notMNiST/notMNIST_large\""
      ],
      "execution_count": 26,
      "outputs": [
        {
          "output_type": "stream",
          "text": [
            "total 1620417\n",
            "-rw------- 1 root root 165922781 Jul 26 23:49 A.pickle\n",
            "-rw------- 1 root root 165929053 Jul 26 23:49 B.pickle\n",
            "-rw------- 1 root root 165932189 Jul 26 23:49 C.pickle\n",
            "-rw------- 1 root root 165929053 Jul 26 23:49 D.pickle\n",
            "-rw------- 1 root root 165932189 Jul 26 23:49 E.pickle\n",
            "-rw------- 1 root root 165932189 Jul 26 23:49 F.pickle\n",
            "-rw------- 1 root root 165932189 Jul 26 23:49 G.pickle\n",
            "-rw------- 1 root root 165932189 Jul 26 23:49 H.pickle\n",
            "-rw------- 1 root root 165932189 Jul 26 23:49 I.pickle\n",
            "-rw------- 1 root root 165929053 Jul 26 23:49 J.pickle\n"
          ],
          "name": "stdout"
        }
      ]
    },
    {
      "cell_type": "markdown",
      "metadata": {
        "id": "dl1HzC7QWyNh",
        "colab_type": "text"
      },
      "source": [
        "Some Useful Commands:\n",
        "\n",
        "```\n",
        "!echo $PATH\n",
        "import os\n",
        "os.environ['PATH'] = \":/usr/local:\" +os.environ['PATH']\n",
        "!echo $PATH\n",
        "\n",
        "Here /usr/local is set because Anaconda software is installed at /usr/local\n",
        "However, as anaconda has set some variable with which colab is able to access anaconda directory. It is not PATH; may be PYTHONPATH.\n",
        "```"
      ]
    },
    {
      "cell_type": "code",
      "metadata": {
        "id": "SMHB5-hXnBJW",
        "colab_type": "code",
        "colab": {
          "base_uri": "https://localhost:8080/",
          "height": 185
        },
        "outputId": "98aec2a6-99a2-439d-a613-5d1f31778c44"
      },
      "source": [
        "!ls -l notMNIST_large/*.pickle"
      ],
      "execution_count": 12,
      "outputs": [
        {
          "output_type": "stream",
          "text": [
            "-rw-r--r-- 1 root root 165922781 Jul 26 23:16 notMNIST_large/A.pickle\n",
            "-rw-r--r-- 1 root root 165929053 Jul 26 23:17 notMNIST_large/B.pickle\n",
            "-rw-r--r-- 1 root root 165932189 Jul 26 23:17 notMNIST_large/C.pickle\n",
            "-rw-r--r-- 1 root root 165929053 Jul 26 23:17 notMNIST_large/D.pickle\n",
            "-rw-r--r-- 1 root root 165932189 Jul 26 23:18 notMNIST_large/E.pickle\n",
            "-rw-r--r-- 1 root root 165932189 Jul 26 23:18 notMNIST_large/F.pickle\n",
            "-rw-r--r-- 1 root root 165932189 Jul 26 23:18 notMNIST_large/G.pickle\n",
            "-rw-r--r-- 1 root root 165932189 Jul 26 23:19 notMNIST_large/H.pickle\n",
            "-rw-r--r-- 1 root root 165932189 Jul 26 23:19 notMNIST_large/I.pickle\n",
            "-rw-r--r-- 1 root root 165929053 Jul 26 23:19 notMNIST_large/J.pickle\n"
          ],
          "name": "stdout"
        }
      ]
    },
    {
      "cell_type": "code",
      "metadata": {
        "id": "GjFM-jbjaGMV",
        "colab_type": "code",
        "colab": {
          "base_uri": "https://localhost:8080/",
          "height": 430
        },
        "outputId": "dd7ff92b-b4cf-4b5d-f910-21d7c21a7895"
      },
      "source": [
        "import pynvml\n",
        "\n",
        "\n",
        "pynvml.nvmlInit()\n",
        "handle = pynvml.nvmlDeviceGetHandleByIndex(0)\n",
        "device_name = pynvml.nvmlDeviceGetName(handle)\n",
        "\n",
        "if device_name != b'Tesla T4':\n",
        "  raise Exception(\"\"\"\n",
        "    Unfortunately this instance does not have a T4 GPU.\n",
        "    \n",
        "    Please make sure you've configured Colab to request a GPU instance type.\n",
        "    \n",
        "    Sometimes Colab allocates a Tesla K80 instead of a T4. Resetting the instance.\n",
        "\n",
        "    If you get a K80 GPU, try Runtime -> Reset all runtimes...\n",
        "  \"\"\")\n",
        "else:\n",
        "  print('Woo! You got the right kind of GPU!')"
      ],
      "execution_count": 7,
      "outputs": [
        {
          "output_type": "stream",
          "text": [
            "ERROR:root:An unexpected error occurred while tokenizing input\n",
            "The following traceback may be corrupted or invalid\n",
            "The error message is: ('EOF in multi-line string', (1, 2))\n",
            "\n"
          ],
          "name": "stderr"
        },
        {
          "output_type": "error",
          "ename": "Exception",
          "evalue": "ignored",
          "traceback": [
            "\u001b[0;31m---------------------------------------------------------------------------\u001b[0m",
            "\u001b[0;31mException\u001b[0m                                 Traceback (most recent call last)",
            "\u001b[0;32m<ipython-input-7-b3032d244a26>\u001b[0m in \u001b[0;36m<module>\u001b[0;34m()\u001b[0m\n\u001b[1;32m     15\u001b[0m \u001b[0;34m\u001b[0m\u001b[0m\n\u001b[1;32m     16\u001b[0m     \u001b[0mIf\u001b[0m \u001b[0myou\u001b[0m \u001b[0mget\u001b[0m \u001b[0ma\u001b[0m \u001b[0mK80\u001b[0m \u001b[0mGPU\u001b[0m\u001b[0;34m,\u001b[0m \u001b[0;32mtry\u001b[0m \u001b[0mRuntime\u001b[0m \u001b[0;34m->\u001b[0m \u001b[0mReset\u001b[0m \u001b[0mall\u001b[0m \u001b[0mruntimes\u001b[0m\u001b[0;34m...\u001b[0m\u001b[0;34m\u001b[0m\u001b[0;34m\u001b[0m\u001b[0m\n\u001b[0;32m---> 17\u001b[0;31m   \"\"\")\n\u001b[0m\u001b[1;32m     18\u001b[0m \u001b[0;32melse\u001b[0m\u001b[0;34m:\u001b[0m\u001b[0;34m\u001b[0m\u001b[0;34m\u001b[0m\u001b[0m\n\u001b[1;32m     19\u001b[0m   \u001b[0mprint\u001b[0m\u001b[0;34m(\u001b[0m\u001b[0;34m'Woo! You got the right kind of GPU!'\u001b[0m\u001b[0;34m)\u001b[0m\u001b[0;34m\u001b[0m\u001b[0;34m\u001b[0m\u001b[0m\n",
            "\u001b[0;31mException\u001b[0m: \n    Unfortunately this instance does not have a T4 GPU.\n    \n    Please make sure you've configured Colab to request a GPU instance type.\n    \n    Sometimes Colab allocates a Tesla K80 instead of a T4. Resetting the instance.\n\n    If you get a K80 GPU, try Runtime -> Reset all runtimes...\n  "
          ]
        }
      ]
    },
    {
      "cell_type": "code",
      "metadata": {
        "id": "gBOS6VcVYFmc",
        "colab_type": "code",
        "colab": {}
      },
      "source": [
        "!bash -c \"$(wget -q https://s3.amazonaws.com/blazingsql-colab/install.sh -O -)\""
      ],
      "execution_count": 0,
      "outputs": []
    },
    {
      "cell_type": "code",
      "metadata": {
        "id": "jTjZheuGYJ4p",
        "colab_type": "code",
        "colab": {}
      },
      "source": [
        "!cat /blazingsql/demo1.py\n",
        "!python /blazingsql/demo1.py"
      ],
      "execution_count": 0,
      "outputs": []
    },
    {
      "cell_type": "code",
      "metadata": {
        "id": "4X0yTccQZRBC",
        "colab_type": "code",
        "colab": {}
      },
      "source": [
        "import cudf"
      ],
      "execution_count": 0,
      "outputs": []
    },
    {
      "cell_type": "code",
      "metadata": {
        "id": "tyZjLlm4fmVZ",
        "colab_type": "code",
        "colab": {}
      },
      "source": [
        "def make_arrays(nb_rows, img_size):\n",
        "  if nb_rows:\n",
        "    dataset = np.ndarray((nb_rows, img_size, img_size), dtype=np.float32)\n",
        "    labels = np.ndarray(nb_rows, dtype=np.int32)\n",
        "  else:\n",
        "    dataset, labels = None, None\n",
        "  return dataset, labels\n",
        "\n",
        "def merge_datasets(pickle_files, train_size, valid_size=0):\n",
        "  num_classes = len(pickle_files)\n",
        "  valid_dataset, valid_labels = make_arrays(valid_size, image_size)\n",
        "  train_dataset, train_labels = make_arrays(train_size, image_size)\n",
        "  vsize_per_class = valid_size // num_classes\n",
        "  tsize_per_class = train_size // num_classes\n",
        "    \n",
        "  start_v, start_t = 0, 0\n",
        "  end_v, end_t = vsize_per_class, tsize_per_class\n",
        "  end_l = vsize_per_class+tsize_per_class\n",
        "  for label, pickle_file in enumerate(pickle_files):       \n",
        "    try:\n",
        "      with open(pickle_file, 'rb') as f:\n",
        "        letter_set = pickle.load(f)\n",
        "        # let's shuffle the letters to have random validation and training set\n",
        "        np.random.shuffle(letter_set)\n",
        "        if valid_dataset is not None:\n",
        "          valid_letter = letter_set[:vsize_per_class, :, :]\n",
        "          valid_dataset[start_v:end_v, :, :] = valid_letter\n",
        "          valid_labels[start_v:end_v] = label\n",
        "          start_v += vsize_per_class\n",
        "          end_v += vsize_per_class\n",
        "                    \n",
        "        train_letter = letter_set[vsize_per_class:end_l, :, :]\n",
        "        train_dataset[start_t:end_t, :, :] = train_letter\n",
        "        train_labels[start_t:end_t] = label\n",
        "        start_t += tsize_per_class\n",
        "        end_t += tsize_per_class\n",
        "    except Exception as e:\n",
        "      print('Unable to process data from', pickle_file, ':', e)\n",
        "      raise\n",
        "    \n",
        "  return valid_dataset, valid_labels, train_dataset, train_labels\n",
        "            \n",
        "            \n",
        "train_size = 200000\n",
        "valid_size = 10000\n",
        "test_size = 10000\n",
        "\n",
        "valid_dataset, valid_labels, train_dataset, train_labels = merge_datasets(\n",
        "  train_datasets, train_size, valid_size)\n",
        "_, _, test_dataset, test_labels = merge_datasets(test_datasets, test_size)\n",
        "\n",
        "print('Training:', train_dataset.shape, train_labels.shape)\n",
        "print('Validation:', valid_dataset.shape, valid_labels.shape)\n",
        "print('Testing:', test_dataset.shape, test_labels.shape)"
      ],
      "execution_count": 0,
      "outputs": []
    },
    {
      "cell_type": "markdown",
      "metadata": {
        "id": "NeVfgXcwq171",
        "colab_type": "text"
      },
      "source": [
        "This was the traditional approach where local variable train_dataset was nd array and was trying to load all of the training data set in the memory. This is definitely not scalable.\n",
        "\n",
        "We have seen in the rapid intro video that the read csv are delayed function and are read each time when db operations are done. I guess this read each time makes is compliant to ACID property. \n",
        "\n",
        "Similarly, we need to create the dataframe from the right when we read the image in our case. Approach I m thinking of is:\n",
        "* Read the image\n",
        "* convert the nxn to n*n ==> 28x28 to 786 array\n",
        "* Store it as cudf series of n*n and label\n",
        "* append the cudf series to a df\n",
        "* split the df to training and validation set\n",
        "* use the training set for training various rapid algo\n",
        "* of course use the validation set to verify those models\n",
        "* test_folders(notMNIST/small/*) will be testing dataset\n",
        "* repeat the exercise with BlazingDB operation \n",
        "* note that time at each stage for comparison\n",
        "* may be we can also see some visualization in rapids regarding data access intervals and computation cost"
      ]
    },
    {
      "cell_type": "code",
      "metadata": {
        "id": "MwDMXAQZq1jk",
        "colab_type": "code",
        "colab": {}
      },
      "source": [
        "train_folders, test_folders"
      ],
      "execution_count": 0,
      "outputs": []
    },
    {
      "cell_type": "code",
      "metadata": {
        "id": "6vYFMoSGqQ0y",
        "colab_type": "code",
        "colab": {}
      },
      "source": [
        ""
      ],
      "execution_count": 0,
      "outputs": []
    }
  ]
}