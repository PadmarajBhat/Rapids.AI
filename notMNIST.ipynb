{
  "nbformat": 4,
  "nbformat_minor": 0,
  "metadata": {
    "colab": {
      "name": "notMNIST.ipynb",
      "version": "0.3.2",
      "provenance": [],
      "include_colab_link": true
    },
    "kernelspec": {
      "name": "python3",
      "display_name": "Python 3"
    },
    "accelerator": "GPU"
  },
  "cells": [
    {
      "cell_type": "markdown",
      "metadata": {
        "id": "view-in-github",
        "colab_type": "text"
      },
      "source": [
        "<a href=\"https://colab.research.google.com/github/PadmarajBhat/Rapids.AI/blob/master/notMNIST.ipynb\" target=\"_parent\"><img src=\"https://colab.research.google.com/assets/colab-badge.svg\" alt=\"Open In Colab\"/></a>"
      ]
    },
    {
      "cell_type": "markdown",
      "metadata": {
        "id": "4lVLGVuUOf_1",
        "colab_type": "text"
      },
      "source": [
        "From : https://www.ritchieng.com/machine-learning/deep-learning/tensorflow/notmnist/\n",
        "\n",
        "import the downloading the notMNIST modules"
      ]
    },
    {
      "cell_type": "code",
      "metadata": {
        "id": "Fa4OujEkNlRM",
        "colab_type": "code",
        "outputId": "1cb1f09c-c046-426b-bdc5-dad7494febeb",
        "colab": {
          "base_uri": "https://localhost:8080/",
          "height": 151
        }
      },
      "source": [
        "# These are all the modules we'll be using later. Make sure you can import them\n",
        "# before proceeding further.\n",
        "from __future__ import print_function\n",
        "import matplotlib.pyplot as plt\n",
        "import numpy as np\n",
        "import os\n",
        "import sys\n",
        "import tarfile\n",
        "from IPython.display import display, Image\n",
        "from scipy import ndimage\n",
        "from sklearn.linear_model import LogisticRegression\n",
        "from six.moves.urllib.request import urlretrieve\n",
        "from six.moves import cPickle as pickle\n",
        "\n",
        "# Config the matlotlib backend as plotting inline in IPython\n",
        "%matplotlib inline\n",
        "\n",
        "url = 'http://commondatastorage.googleapis.com/books1000/'\n",
        "last_percent_reported = None\n",
        "\n",
        "def download_progress_hook(count, blockSize, totalSize):\n",
        "  \"\"\"A hook to report the progress of a download. This is mostly intended for users with\n",
        "  slow internet connections. Reports every 1% change in download progress.\n",
        "  \"\"\"\n",
        "  global last_percent_reported\n",
        "  percent = int(count * blockSize * 100 / totalSize)\n",
        "\n",
        "  if last_percent_reported != percent:\n",
        "    if percent % 5 == 0:\n",
        "      sys.stdout.write(\"%s%%\" % percent)\n",
        "      sys.stdout.flush()\n",
        "    else:\n",
        "      sys.stdout.write(\".\")\n",
        "      sys.stdout.flush()\n",
        "      \n",
        "    last_percent_reported = percent\n",
        "        \n",
        "def maybe_download(filename, expected_bytes, force=False):\n",
        "  \"\"\"Download a file if not present, and make sure it's the right size.\"\"\"\n",
        "  if force or not os.path.exists(filename):\n",
        "    print('Attempting to download:', filename) \n",
        "    filename, _ = urlretrieve(url + filename, filename, reporthook=download_progress_hook)\n",
        "    print('\\nDownload Complete!')\n",
        "  statinfo = os.stat(filename)\n",
        "  if statinfo.st_size == expected_bytes:\n",
        "    print('Found and verified', filename)\n",
        "  else:\n",
        "    raise Exception(\n",
        "      'Failed to verify ' + filename + '. Can you get to it with a browser?')\n",
        "  return filename\n",
        "\n",
        "train_filename = maybe_download('notMNIST_large.tar.gz', 247336696)\n",
        "test_filename = maybe_download('notMNIST_small.tar.gz', 8458043)"
      ],
      "execution_count": 1,
      "outputs": [
        {
          "output_type": "stream",
          "text": [
            "Attempting to download: notMNIST_large.tar.gz\n",
            "0%....5%....10%....15%....20%....25%....30%....35%....40%....45%....50%....55%....60%....65%....70%....75%....80%....85%....90%....95%....100%\n",
            "Download Complete!\n",
            "Found and verified notMNIST_large.tar.gz\n",
            "Attempting to download: notMNIST_small.tar.gz\n",
            "0%....5%....10%....15%....20%....25%....30%....35%....40%....45%....50%....55%....60%....65%....70%....75%....80%....85%....90%....95%....100%\n",
            "Download Complete!\n",
            "Found and verified notMNIST_small.tar.gz\n"
          ],
          "name": "stdout"
        }
      ]
    },
    {
      "cell_type": "markdown",
      "metadata": {
        "id": "UF8Zw2WSO5Po",
        "colab_type": "text"
      },
      "source": [
        "### Extract them"
      ]
    },
    {
      "cell_type": "code",
      "metadata": {
        "id": "j9SRbU9rOpxp",
        "colab_type": "code",
        "outputId": "7306d786-dcea-4e0b-cf34-45047cfd52af",
        "colab": {
          "base_uri": "https://localhost:8080/",
          "height": 104
        }
      },
      "source": [
        "num_classes = 10\n",
        "np.random.seed(133)\n",
        "\n",
        "def maybe_extract(filename, force=False):\n",
        "  root = os.path.splitext(os.path.splitext(filename)[0])[0]  # remove .tar.gz\n",
        "  if os.path.isdir(root) and not force:\n",
        "    # You may override by setting force=True.\n",
        "    print('%s already present - Skipping extraction of %s.' % (root, filename))\n",
        "  else:\n",
        "    print('Extracting data for %s. This may take a while. Please wait.' % root)\n",
        "    tar = tarfile.open(filename)\n",
        "    sys.stdout.flush()\n",
        "    tar.extractall()\n",
        "    tar.close()\n",
        "  data_folders = [\n",
        "    os.path.join(root, d) for d in sorted(os.listdir(root))\n",
        "    if os.path.isdir(os.path.join(root, d))]\n",
        "  if len(data_folders) != num_classes:\n",
        "    raise Exception(\n",
        "      'Expected %d folders, one per class. Found %d instead.' % (\n",
        "        num_classes, len(data_folders)))\n",
        "  print(data_folders)\n",
        "  return data_folders\n",
        "  \n",
        "train_folders = maybe_extract(train_filename)\n",
        "test_folders = maybe_extract(test_filename)"
      ],
      "execution_count": 2,
      "outputs": [
        {
          "output_type": "stream",
          "text": [
            "Extracting data for notMNIST_large. This may take a while. Please wait.\n",
            "['notMNIST_large/A', 'notMNIST_large/B', 'notMNIST_large/C', 'notMNIST_large/D', 'notMNIST_large/E', 'notMNIST_large/F', 'notMNIST_large/G', 'notMNIST_large/H', 'notMNIST_large/I', 'notMNIST_large/J']\n",
            "Extracting data for notMNIST_small. This may take a while. Please wait.\n",
            "['notMNIST_small/A', 'notMNIST_small/B', 'notMNIST_small/C', 'notMNIST_small/D', 'notMNIST_small/E', 'notMNIST_small/F', 'notMNIST_small/G', 'notMNIST_small/H', 'notMNIST_small/I', 'notMNIST_small/J']\n"
          ],
          "name": "stdout"
        }
      ]
    },
    {
      "cell_type": "code",
      "metadata": {
        "id": "oM0IwxYYO9aa",
        "colab_type": "code",
        "outputId": "ef45d935-84dc-4733-c2b9-c69f6a639fdb",
        "colab": {
          "base_uri": "https://localhost:8080/",
          "height": 45
        }
      },
      "source": [
        "Image(filename=\"notMNIST_small/A/Q0NXaWxkV29yZHMtQm9sZEl0YWxpYy50dGY=.png\")"
      ],
      "execution_count": 3,
      "outputs": [
        {
          "output_type": "execute_result",
          "data": {
            "image/png": "[encoded data removed]",
            "text/plain": [
              "<IPython.core.display.Image object>"
            ]
          },
          "metadata": {
            "tags": []
          },
          "execution_count": 3
        }
      ]
    },
    {
      "cell_type": "code",
      "metadata": {
        "id": "ElzBmYNEPStW",
        "colab_type": "code",
        "outputId": "bc8bb1a9-f0ac-44dd-eb74-2cb694848648",
        "colab": {
          "base_uri": "https://localhost:8080/",
          "height": 34
        }
      },
      "source": [
        "os.listdir(\"notMNIST_small/\")"
      ],
      "execution_count": 4,
      "outputs": [
        {
          "output_type": "execute_result",
          "data": {
            "text/plain": [
              "['D', 'A', 'B', 'C', 'E', 'I', 'H', 'F', 'J', 'G']"
            ]
          },
          "metadata": {
            "tags": []
          },
          "execution_count": 4
        }
      ]
    },
    {
      "cell_type": "markdown",
      "metadata": {
        "id": "H-Be9hYs_Hfp",
        "colab_type": "text"
      },
      "source": [
        "How to display multiple Images in a cell?\n",
        "https://stackoverflow.com/a/49487396/8693106"
      ]
    },
    {
      "cell_type": "code",
      "metadata": {
        "id": "3Q6Z67IXQ7Fj",
        "colab_type": "code",
        "outputId": "1853261f-63cd-46b5-b408-ebeab81ae081",
        "colab": {
          "base_uri": "https://localhost:8080/",
          "height": 1000
        }
      },
      "source": [
        "import random\n",
        "listOfFiles = []\n",
        "for (dirpath, dirnames, filenames) in os.walk(\"notMNIST_small/\"):\n",
        "  listOfFiles += [os.path.join(dirpath, file) for file in filenames]\n",
        "  \n",
        "  for f in listOfFiles:\n",
        "    if random.randint(0,1000) == random.randint(0,1000):\n",
        "      print(f)\n",
        "      display(Image(filename=f))\n",
        "      #break\n",
        "  #break"
      ],
      "execution_count": 5,
      "outputs": [
        {
          "output_type": "stream",
          "text": [
            "notMNIST_small/D/RWxlbWVudGEtQm9sZEl0YWxpYy5vdGY=.png\n"
          ],
          "name": "stdout"
        },
        {
          "output_type": "display_data",
          "data": {
            "image/png": "[encoded data removed]",
            "text/plain": [
              "<IPython.core.display.Image object>"
            ]
          },
          "metadata": {
            "tags": []
          }
        },
        {
          "output_type": "stream",
          "text": [
            "notMNIST_small/D/RnJlZWRvbSBOb3JtYWwudHRm.png\n"
          ],
          "name": "stdout"
        },
        {
          "output_type": "display_data",
          "data": {
            "image/png": "[encoded data removed]",
            "text/plain": [
              "<IPython.core.display.Image object>"
            ]
          },
          "metadata": {
            "tags": []
          }
        },
        {
          "output_type": "stream",
          "text": [
            "notMNIST_small/D/QWxkaW5lIDcyMSBCb2xkLnBmYg==.png\n"
          ],
          "name": "stdout"
        },
        {
          "output_type": "display_data",
          "data": {
            "image/png": "[encoded data removed]",
            "text/plain": [
              "<IPython.core.display.Image object>"
            ]
          },
          "metadata": {
            "tags": []
          }
        },
        {
          "output_type": "stream",
          "text": [
            "notMNIST_small/D/Q29ycG9yYXRlQVNDLUJvbGQub3Rm.png\n"
          ],
          "name": "stdout"
        },
        {
          "output_type": "display_data",
          "data": {
            "image/png": "[encoded data removed]",
            "text/plain": [
              "<IPython.core.display.Image object>"
            ]
          },
          "metadata": {
            "tags": []
          }
        },
        {
          "output_type": "stream",
          "text": [
            "notMNIST_small/D/RGV2ZW5kcmEgRXgudHRm.png\n"
          ],
          "name": "stdout"
        },
        {
          "output_type": "display_data",
          "data": {
            "image/png": "[encoded data removed]",
            "text/plain": [
              "<IPython.core.display.Image object>"
            ]
          },
          "metadata": {
            "tags": []
          }
        },
        {
          "output_type": "stream",
          "text": [
            "notMNIST_small/A/R3JvdmVyIEl0YWxpYy50dGY=.png\n"
          ],
          "name": "stdout"
        },
        {
          "output_type": "display_data",
          "data": {
            "image/png": "[encoded data removed]",
            "text/plain": [
              "<IPython.core.display.Image object>"
            ]
          },
          "metadata": {
            "tags": []
          }
        },
        {
          "output_type": "stream",
          "text": [
            "notMNIST_small/A/Q29vcGVyQmxhRCBJdGFsaWMudHRm.png\n"
          ],
          "name": "stdout"
        },
        {
          "output_type": "display_data",
          "data": {
            "image/png": "[encoded data removed]",
            "text/plain": [
              "<IPython.core.display.Image object>"
            ]
          },
          "metadata": {
            "tags": []
          }
        },
        {
          "output_type": "stream",
          "text": [
            "notMNIST_small/A/Q2hhcmxpZSdzIEFuZ2xlcyBPdXRHcmFkaWVudC50dGY=.png\n"
          ],
          "name": "stdout"
        },
        {
          "output_type": "display_data",
          "data": {
            "image/png": "[encoded data removed]",
            "text/plain": [
              "<IPython.core.display.Image object>"
            ]
          },
          "metadata": {
            "tags": []
          }
        },
        {
          "output_type": "stream",
          "text": [
            "notMNIST_small/B/SVRDIEF2YW50IEdhcmRlIEdvdGhpYyBFeHRyYSBMaWdodCBPYmxpcXVlLnBmYg==.png\n"
          ],
          "name": "stdout"
        },
        {
          "output_type": "display_data",
          "data": {
            "image/png": "[encoded data removed]",
            "text/plain": [
              "<IPython.core.display.Image object>"
            ]
          },
          "metadata": {
            "tags": []
          }
        },
        {
          "output_type": "stream",
          "text": [
            "notMNIST_small/B/Qm9zdG9uIFRyYWZmaWMudHRm.png\n"
          ],
          "name": "stdout"
        },
        {
          "output_type": "display_data",
          "data": {
            "image/png": "[encoded data removed]",
            "text/plain": [
              "<IPython.core.display.Image object>"
            ]
          },
          "metadata": {
            "tags": []
          }
        },
        {
          "output_type": "stream",
          "text": [
            "notMNIST_small/D/RHJpcHB5LnR0Zg==.png\n"
          ],
          "name": "stdout"
        },
        {
          "output_type": "display_data",
          "data": {
            "image/png": "[encoded data removed]",
            "text/plain": [
              "<IPython.core.display.Image object>"
            ]
          },
          "metadata": {
            "tags": []
          }
        },
        {
          "output_type": "stream",
          "text": [
            "notMNIST_small/D/Q2hlbHRlbmhtIFhCZENuIEJUIEJvbGQudHRm.png\n"
          ],
          "name": "stdout"
        },
        {
          "output_type": "display_data",
          "data": {
            "image/png": "[encoded data removed]",
            "text/plain": [
              "<IPython.core.display.Image object>"
            ]
          },
          "metadata": {
            "tags": []
          }
        },
        {
          "output_type": "stream",
          "text": [
            "notMNIST_small/D/SGVhZGVyMTc2Ny50dGY=.png\n"
          ],
          "name": "stdout"
        },
        {
          "output_type": "display_data",
          "data": {
            "image/png": "[encoded data removed]",
            "text/plain": [
              "<IPython.core.display.Image object>"
            ]
          },
          "metadata": {
            "tags": []
          }
        },
        {
          "output_type": "stream",
          "text": [
            "notMNIST_small/D/QXZlbmlyIDQ1IEJvb2sgT2JsaXF1ZS5wZmI=.png\n"
          ],
          "name": "stdout"
        },
        {
          "output_type": "display_data",
          "data": {
            "image/png": "[encoded data removed]",
            "text/plain": [
              "<IPython.core.display.Image object>"
            ]
          },
          "metadata": {
            "tags": []
          }
        },
        {
          "output_type": "stream",
          "text": [
            "notMNIST_small/A/SG9uZXkgSSBTdG9sZSBZb3VyIEp1bXBlci50dGY=.png\n"
          ],
          "name": "stdout"
        },
        {
          "output_type": "display_data",
          "data": {
            "image/png": "[encoded data removed]",
            "text/plain": [
              "<IPython.core.display.Image object>"
            ]
          },
          "metadata": {
            "tags": []
          }
        },
        {
          "output_type": "stream",
          "text": [
            "notMNIST_small/B/Q2VudHVyeSBPbGRzdHlsZS5wZmI=.png\n"
          ],
          "name": "stdout"
        },
        {
          "output_type": "display_data",
          "data": {
            "image/png": "[encoded data removed]",
            "text/plain": [
              "<IPython.core.display.Image object>"
            ]
          },
          "metadata": {
            "tags": []
          }
        },
        {
          "output_type": "stream",
          "text": [
            "notMNIST_small/B/RHluYW1vUnhlSFhFLm90Zg==.png\n"
          ],
          "name": "stdout"
        },
        {
          "output_type": "display_data",
          "data": {
            "image/png": "[encoded data removed]",
            "text/plain": [
              "<IPython.core.display.Image object>"
            ]
          },
          "metadata": {
            "tags": []
          }
        },
        {
          "output_type": "stream",
          "text": [
            "notMNIST_small/B/R2Vyc3RuZXJCUS1Cb2xkSXRhbGljLm90Zg==.png\n"
          ],
          "name": "stdout"
        },
        {
          "output_type": "display_data",
          "data": {
            "image/png": "[encoded data removed]",
            "text/plain": [
              "<IPython.core.display.Image object>"
            ]
          },
          "metadata": {
            "tags": []
          }
        },
        {
          "output_type": "stream",
          "text": [
            "notMNIST_small/B/QW1wbGl0dWRlQ29tcC1MaWdodC50dGY=.png\n"
          ],
          "name": "stdout"
        },
        {
          "output_type": "display_data",
          "data": {
            "image/png": "[encoded data removed]",
            "text/plain": [
              "<IPython.core.display.Image object>"
            ]
          },
          "metadata": {
            "tags": []
          }
        },
        {
          "output_type": "stream",
          "text": [
            "notMNIST_small/C/QW5nZWxvLm90Zg==.png\n"
          ],
          "name": "stdout"
        },
        {
          "output_type": "display_data",
          "data": {
            "image/png": "[encoded data removed]",
            "text/plain": [
              "<IPython.core.display.Image object>"
            ]
          },
          "metadata": {
            "tags": []
          }
        },
        {
          "output_type": "stream",
          "text": [
            "notMNIST_small/D/Q2hhbnNvbiBIZWF2eSBTRiBCb2xkIEl0YWxpYy50dGY=.png\n"
          ],
          "name": "stdout"
        },
        {
          "output_type": "display_data",
          "data": {
            "image/png": "[encoded data removed]",
            "text/plain": [
              "<IPython.core.display.Image object>"
            ]
          },
          "metadata": {
            "tags": []
          }
        },
        {
          "output_type": "stream",
          "text": [
            "notMNIST_small/D/RnVubnkgUGFnZXMgU2hhZG93LnR0Zg==.png\n"
          ],
          "name": "stdout"
        },
        {
          "output_type": "display_data",
          "data": {
            "image/png": "[encoded data removed]",
            "text/plain": [
              "<IPython.core.display.Image object>"
            ]
          },
          "metadata": {
            "tags": []
          }
        },
        {
          "output_type": "stream",
          "text": [
            "notMNIST_small/D/Q2hlbHRlbmhhbVN0ZC1Cb2xkLm90Zg==.png\n"
          ],
          "name": "stdout"
        },
        {
          "output_type": "display_data",
          "data": {
            "image/png": "[encoded data removed]",
            "text/plain": [
              "<IPython.core.display.Image object>"
            ]
          },
          "metadata": {
            "tags": []
          }
        },
        {
          "output_type": "stream",
          "text": [
            "notMNIST_small/A/Qm9zbmlhIEQgQm9sZC50dGY=.png\n"
          ],
          "name": "stdout"
        },
        {
          "output_type": "display_data",
          "data": {
            "image/png": "[encoded data removed]",
            "text/plain": [
              "<IPython.core.display.Image object>"
            ]
          },
          "metadata": {
            "tags": []
          }
        },
        {
          "output_type": "stream",
          "text": [
            "notMNIST_small/C/Q3Jha29vbSEudHRm.png\n"
          ],
          "name": "stdout"
        },
        {
          "output_type": "display_data",
          "data": {
            "image/png": "[encoded data removed]",
            "text/plain": [
              "<IPython.core.display.Image object>"
            ]
          },
          "metadata": {
            "tags": []
          }
        },
        {
          "output_type": "stream",
          "text": [
            "notMNIST_small/C/R2VvbWV0cmljIDg4NS5wZmI=.png\n"
          ],
          "name": "stdout"
        },
        {
          "output_type": "display_data",
          "data": {
            "image/png": "[encoded data removed]",
            "text/plain": [
              "<IPython.core.display.Image object>"
            ]
          },
          "metadata": {
            "tags": []
          }
        },
        {
          "output_type": "stream",
          "text": [
            "notMNIST_small/A/RGFyayBIb3JzZSBDb25kZW5zZWQudHRm.png\n"
          ],
          "name": "stdout"
        },
        {
          "output_type": "display_data",
          "data": {
            "image/png": "[encoded data removed]",
            "text/plain": [
              "<IPython.core.display.Image object>"
            ]
          },
          "metadata": {
            "tags": []
          }
        },
        {
          "output_type": "stream",
          "text": [
            "notMNIST_small/A/Q29udGV4dCBTZW1pIENvbmRlbnNlZCBTU2kgU2VtaSBDb25kZW5zZWQudHRm.png\n"
          ],
          "name": "stdout"
        },
        {
          "output_type": "display_data",
          "data": {
            "image/png": "[encoded data removed]",
            "text/plain": [
              "<IPython.core.display.Image object>"
            ]
          },
          "metadata": {
            "tags": []
          }
        },
        {
          "output_type": "stream",
          "text": [
            "notMNIST_small/A/QmFsYUN5bnd5ZC50dGY=.png\n"
          ],
          "name": "stdout"
        },
        {
          "output_type": "display_data",
          "data": {
            "image/png": "[encoded data removed]",
            "text/plain": [
              "<IPython.core.display.Image object>"
            ]
          },
          "metadata": {
            "tags": []
          }
        },
        {
          "output_type": "stream",
          "text": [
            "notMNIST_small/B/Q2xhc3NpY2FsR2FyYW1vbmRCVC1Sb21hbi5vdGY=.png\n"
          ],
          "name": "stdout"
        },
        {
          "output_type": "display_data",
          "data": {
            "image/png": "[encoded data removed]",
            "text/plain": [
              "<IPython.core.display.Image object>"
            ]
          },
          "metadata": {
            "tags": []
          }
        },
        {
          "output_type": "stream",
          "text": [
            "notMNIST_small/B/Q29udGV4dCBTZW1pIENvbmRlbnNlZCBTU2kgU2VtaSBDb25kZW5zZWQudHRm.png\n"
          ],
          "name": "stdout"
        },
        {
          "output_type": "display_data",
          "data": {
            "image/png": "[encoded data removed]",
            "text/plain": [
              "<IPython.core.display.Image object>"
            ]
          },
          "metadata": {
            "tags": []
          }
        },
        {
          "output_type": "stream",
          "text": [
            "notMNIST_small/C/R3JvdGVzcXVlTVRTdGQtQm9sZC5vdGY=.png\n"
          ],
          "name": "stdout"
        },
        {
          "output_type": "display_data",
          "data": {
            "image/png": "[encoded data removed]",
            "text/plain": [
              "<IPython.core.display.Image object>"
            ]
          },
          "metadata": {
            "tags": []
          }
        },
        {
          "output_type": "stream",
          "text": [
            "notMNIST_small/C/SGVsdmV0aWNhLUNvbmRlbnNlZC1UaGluLnR0Zg==.png\n"
          ],
          "name": "stdout"
        },
        {
          "output_type": "display_data",
          "data": {
            "image/png": "[encoded data removed]",
            "text/plain": [
              "<IPython.core.display.Image object>"
            ]
          },
          "metadata": {
            "tags": []
          }
        },
        {
          "output_type": "stream",
          "text": [
            "notMNIST_small/C/Q2hhbmV5IEV4dGVuZGVkIE5vcm1hbC50dGY=.png\n"
          ],
          "name": "stdout"
        },
        {
          "output_type": "display_data",
          "data": {
            "image/png": "[encoded data removed]",
            "text/plain": [
              "<IPython.core.display.Image object>"
            ]
          },
          "metadata": {
            "tags": []
          }
        },
        {
          "output_type": "stream",
          "text": [
            "notMNIST_small/E/RHV0Y2g4MDlCVC1Sb21hbkMub3Rm.png\n"
          ],
          "name": "stdout"
        },
        {
          "output_type": "display_data",
          "data": {
            "image/png": "[encoded data removed]",
            "text/plain": [
              "<IPython.core.display.Image object>"
            ]
          },
          "metadata": {
            "tags": []
          }
        },
        {
          "output_type": "stream",
          "text": [
            "notMNIST_small/I/Q2xlYXJmYWNlTFQtSGVhdnkub3Rm.png\n"
          ],
          "name": "stdout"
        },
        {
          "output_type": "display_data",
          "data": {
            "image/png": "[encoded data removed]",
            "text/plain": [
              "<IPython.core.display.Image object>"
            ]
          },
          "metadata": {
            "tags": []
          }
        },
        {
          "output_type": "stream",
          "text": [
            "notMNIST_small/D/Q2Fyb2xzQ2h1bmtzLnR0Zg==.png\n"
          ],
          "name": "stdout"
        },
        {
          "output_type": "display_data",
          "data": {
            "image/png": "[encoded data removed]",
            "text/plain": [
              "<IPython.core.display.Image object>"
            ]
          },
          "metadata": {
            "tags": []
          }
        },
        {
          "output_type": "stream",
          "text": [
            "notMNIST_small/D/R2x5cGhhTFRTdGQtT2JsaXF1ZS5vdGY=.png\n"
          ],
          "name": "stdout"
        },
        {
          "output_type": "display_data",
          "data": {
            "image/png": "[encoded data removed]",
            "text/plain": [
              "<IPython.core.display.Image object>"
            ]
          },
          "metadata": {
            "tags": []
          }
        },
        {
          "output_type": "stream",
          "text": [
            "notMNIST_small/D/QmVuZ3VpYXRDb25kZW5zZWRCUS1Cb29rSXRhbGljLm90Zg==.png\n"
          ],
          "name": "stdout"
        },
        {
          "output_type": "display_data",
          "data": {
            "image/png": "[encoded data removed]",
            "text/plain": [
              "<IPython.core.display.Image object>"
            ]
          },
          "metadata": {
            "tags": []
          }
        },
        {
          "output_type": "stream",
          "text": [
            "notMNIST_small/A/QXJpYWwgQ0UgQm9sZC50dGY=.png\n"
          ],
          "name": "stdout"
        },
        {
          "output_type": "display_data",
          "data": {
            "image/png": "[encoded data removed]",
            "text/plain": [
              "<IPython.core.display.Image object>"
            ]
          },
          "metadata": {
            "tags": []
          }
        },
        {
          "output_type": "stream",
          "text": [
            "notMNIST_small/A/RnJpc2Fuc1N0ZC5vdGY=.png\n"
          ],
          "name": "stdout"
        },
        {
          "output_type": "display_data",
          "data": {
            "image/png": "[encoded data removed]",
            "text/plain": [
              "<IPython.core.display.Image object>"
            ]
          },
          "metadata": {
            "tags": []
          }
        },
        {
          "output_type": "stream",
          "text": [
            "notMNIST_small/B/Q2FuZGlkYUJULUl0YWxpYy5vdGY=.png\n"
          ],
          "name": "stdout"
        },
        {
          "output_type": "display_data",
          "data": {
            "image/png": "[encoded data removed]",
            "text/plain": [
              "<IPython.core.display.Image object>"
            ]
          },
          "metadata": {
            "tags": []
          }
        },
        {
          "output_type": "stream",
          "text": [
            "notMNIST_small/B/RGFya1dpbmQgQ29uZGVuc2VkIEl0YWxpYy50dGY=.png\n"
          ],
          "name": "stdout"
        },
        {
          "output_type": "display_data",
          "data": {
            "image/png": "[encoded data removed]",
            "text/plain": [
              "<IPython.core.display.Image object>"
            ]
          },
          "metadata": {
            "tags": []
          }
        },
        {
          "output_type": "stream",
          "text": [
            "notMNIST_small/B/R3JhcGhpYyBSZWd1bGFyLnR0Zg==.png\n"
          ],
          "name": "stdout"
        },
        {
          "output_type": "display_data",
          "data": {
            "image/png": "[encoded data removed]",
            "text/plain": [
              "<IPython.core.display.Image object>"
            ]
          },
          "metadata": {
            "tags": []
          }
        },
        {
          "output_type": "stream",
          "text": [
            "notMNIST_small/C/QW1lcmlnbyBCVCBCb2xkLnR0Zg==.png\n"
          ],
          "name": "stdout"
        },
        {
          "output_type": "display_data",
          "data": {
            "image/png": "[encoded data removed]",
            "text/plain": [
              "<IPython.core.display.Image object>"
            ]
          },
          "metadata": {
            "tags": []
          }
        },
        {
          "output_type": "stream",
          "text": [
            "notMNIST_small/C/R291ZHkgU3RvdXQudHRm.png\n"
          ],
          "name": "stdout"
        },
        {
          "output_type": "display_data",
          "data": {
            "image/png": "[encoded data removed]",
            "text/plain": [
              "<IPython.core.display.Image object>"
            ]
          },
          "metadata": {
            "tags": []
          }
        },
        {
          "output_type": "stream",
          "text": [
            "notMNIST_small/C/SVRDIENoYXJ0ZXIgSXRhbGljLnBmYg==.png\n"
          ],
          "name": "stdout"
        },
        {
          "output_type": "display_data",
          "data": {
            "image/png": "[encoded data removed]",
            "text/plain": [
              "<IPython.core.display.Image object>"
            ]
          },
          "metadata": {
            "tags": []
          }
        },
        {
          "output_type": "stream",
          "text": [
            "notMNIST_small/C/RXhlcnQtQmxhY2tJdGFsaWMub3Rm.png\n"
          ],
          "name": "stdout"
        },
        {
          "output_type": "display_data",
          "data": {
            "image/png": "[encoded data removed]",
            "text/plain": [
              "<IPython.core.display.Image object>"
            ]
          },
          "metadata": {
            "tags": []
          }
        },
        {
          "output_type": "stream",
          "text": [
            "notMNIST_small/E/RW5nbGlzY2hlU2NoVCBCb2xkLnR0Zg==.png\n"
          ],
          "name": "stdout"
        },
        {
          "output_type": "display_data",
          "data": {
            "image/png": "[encoded data removed]",
            "text/plain": [
              "<IPython.core.display.Image object>"
            ]
          },
          "metadata": {
            "tags": []
          }
        },
        {
          "output_type": "stream",
          "text": [
            "notMNIST_small/I/QklHQ1NIQUQgTGVmdHkudHRm.png\n"
          ],
          "name": "stdout"
        },
        {
          "output_type": "display_data",
          "data": {
            "image/png": "[encoded data removed]",
            "text/plain": [
              "<IPython.core.display.Image object>"
            ]
          },
          "metadata": {
            "tags": []
          }
        },
        {
          "output_type": "stream",
          "text": [
            "notMNIST_small/I/Q3J1c3RpRXN0LnR0Zg==.png\n"
          ],
          "name": "stdout"
        },
        {
          "output_type": "display_data",
          "data": {
            "image/png": "[encoded data removed]",
            "text/plain": [
              "<IPython.core.display.Image object>"
            ]
          },
          "metadata": {
            "tags": []
          }
        },
        {
          "output_type": "stream",
          "text": [
            "notMNIST_small/I/Qm9yZGVhdXhNZWRpdW0ub3Rm.png\n"
          ],
          "name": "stdout"
        },
        {
          "output_type": "display_data",
          "data": {
            "image/png": "[encoded data removed]",
            "text/plain": [
              "<IPython.core.display.Image object>"
            ]
          },
          "metadata": {
            "tags": []
          }
        },
        {
          "output_type": "stream",
          "text": [
            "notMNIST_small/I/QmF1ZXJCb2RvbmlCVC1CbGFjay5vdGY=.png\n"
          ],
          "name": "stdout"
        },
        {
          "output_type": "display_data",
          "data": {
            "image/png": "[encoded data removed]",
            "text/plain": [
              "<IPython.core.display.Image object>"
            ]
          },
          "metadata": {
            "tags": []
          }
        },
        {
          "output_type": "stream",
          "text": [
            "notMNIST_small/I/QW1lcmljYW5UeXBld3JpdGVyU3RkLUx0Q25kLm90Zg==.png\n"
          ],
          "name": "stdout"
        },
        {
          "output_type": "display_data",
          "data": {
            "image/png": "[encoded data removed]",
            "text/plain": [
              "<IPython.core.display.Image object>"
            ]
          },
          "metadata": {
            "tags": []
          }
        },
        {
          "output_type": "stream",
          "text": [
            "notMNIST_small/H/SHlwZXJzcGVlZC50dGY=.png\n"
          ],
          "name": "stdout"
        },
        {
          "output_type": "display_data",
          "data": {
            "image/png": "[encoded data removed]",
            "text/plain": [
              "<IPython.core.display.Image object>"
            ]
          },
          "metadata": {
            "tags": []
          }
        },
        {
          "output_type": "stream",
          "text": [
            "notMNIST_small/D/QmF0YWtDb25kZW5zZWRJVENTdGRCb2xkLm90Zg==.png\n"
          ],
          "name": "stdout"
        },
        {
          "output_type": "display_data",
          "data": {
            "image/png": "[encoded data removed]",
            "text/plain": [
              "<IPython.core.display.Image object>"
            ]
          },
          "metadata": {
            "tags": []
          }
        },
        {
          "output_type": "stream",
          "text": [
            "notMNIST_small/A/SWNvbmUgTFQgUmVndWxhciBJdGFsaWMgT3NGLnR0Zg==.png\n"
          ],
          "name": "stdout"
        },
        {
          "output_type": "display_data",
          "data": {
            "image/png": "[encoded data removed]",
            "text/plain": [
              "<IPython.core.display.Image object>"
            ]
          },
          "metadata": {
            "tags": []
          }
        },
        {
          "output_type": "stream",
          "text": [
            "notMNIST_small/A/QmVsbGFteUV4dHJhQm9sZC5vdGY=.png\n"
          ],
          "name": "stdout"
        },
        {
          "output_type": "display_data",
          "data": {
            "image/png": "[encoded data removed]",
            "text/plain": [
              "<IPython.core.display.Image object>"
            ]
          },
          "metadata": {
            "tags": []
          }
        },
        {
          "output_type": "stream",
          "text": [
            "notMNIST_small/A/Qm9kb25pU3RkLUl0YWxpYy5vdGY=.png\n"
          ],
          "name": "stdout"
        },
        {
          "output_type": "display_data",
          "data": {
            "image/png": "[encoded data removed]",
            "text/plain": [
              "<IPython.core.display.Image object>"
            ]
          },
          "metadata": {
            "tags": []
          }
        },
        {
          "output_type": "stream",
          "text": [
            "notMNIST_small/A/SGVhZGVyMTc2Ny50dGY=.png\n"
          ],
          "name": "stdout"
        },
        {
          "output_type": "display_data",
          "data": {
            "image/png": "[encoded data removed]",
            "text/plain": [
              "<IPython.core.display.Image object>"
            ]
          },
          "metadata": {
            "tags": []
          }
        },
        {
          "output_type": "stream",
          "text": [
            "notMNIST_small/A/Q2VudHVyeSA3MjUgQ29uZGVuc2VkIEJULnR0Zg==.png\n"
          ],
          "name": "stdout"
        },
        {
          "output_type": "display_data",
          "data": {
            "image/png": "[encoded data removed]",
            "text/plain": [
              "<IPython.core.display.Image object>"
            ]
          },
          "metadata": {
            "tags": []
          }
        },
        {
          "output_type": "stream",
          "text": [
            "notMNIST_small/B/RG9vckphbWIudHRm.png\n"
          ],
          "name": "stdout"
        },
        {
          "output_type": "display_data",
          "data": {
            "image/png": "[encoded data removed]",
            "text/plain": [
              "<IPython.core.display.Image object>"
            ]
          },
          "metadata": {
            "tags": []
          }
        },
        {
          "output_type": "stream",
          "text": [
            "notMNIST_small/B/RmFnb05vVGYtRXh0cmFCb2xkSXRhbGljLm90Zg==.png\n"
          ],
          "name": "stdout"
        },
        {
          "output_type": "display_data",
          "data": {
            "image/png": "[encoded data removed]",
            "text/plain": [
              "<IPython.core.display.Image object>"
            ]
          },
          "metadata": {
            "tags": []
          }
        },
        {
          "output_type": "stream",
          "text": [
            "notMNIST_small/B/RXJhc2VyRHVzdCBSZWd1bGFyLnR0Zg==.png\n"
          ],
          "name": "stdout"
        },
        {
          "output_type": "display_data",
          "data": {
            "image/png": "[encoded data removed]",
            "text/plain": [
              "<IPython.core.display.Image object>"
            ]
          },
          "metadata": {
            "tags": []
          }
        },
        {
          "output_type": "stream",
          "text": [
            "notMNIST_small/C/QmVydGhhbS50dGY=.png\n"
          ],
          "name": "stdout"
        },
        {
          "output_type": "display_data",
          "data": {
            "image/png": "[encoded data removed]",
            "text/plain": [
              "<IPython.core.display.Image object>"
            ]
          },
          "metadata": {
            "tags": []
          }
        },
        {
          "output_type": "stream",
          "text": [
            "notMNIST_small/C/RGVzaWduZXJUaXRsaW5nQ2Fwcy50dGY=.png\n"
          ],
          "name": "stdout"
        },
        {
          "output_type": "display_data",
          "data": {
            "image/png": "[encoded data removed]",
            "text/plain": [
              "<IPython.core.display.Image object>"
            ]
          },
          "metadata": {
            "tags": []
          }
        },
        {
          "output_type": "stream",
          "text": [
            "notMNIST_small/C/RWx3b29kLnR0Zg==.png\n"
          ],
          "name": "stdout"
        },
        {
          "output_type": "display_data",
          "data": {
            "image/png": "[encoded data removed]",
            "text/plain": [
              "<IPython.core.display.Image object>"
            ]
          },
          "metadata": {
            "tags": []
          }
        },
        {
          "output_type": "stream",
          "text": [
            "notMNIST_small/C/Q2hhcmxpZSdzIEFuZ2xlcyBPdXRHcmFkaWVudC50dGY=.png\n"
          ],
          "name": "stdout"
        },
        {
          "output_type": "display_data",
          "data": {
            "image/png": "[encoded data removed]",
            "text/plain": [
              "<IPython.core.display.Image object>"
            ]
          },
          "metadata": {
            "tags": []
          }
        },
        {
          "output_type": "stream",
          "text": [
            "notMNIST_small/E/QW50aXF1ZU9saVQtQm9sZENvbmRJbjEub3Rm.png\n"
          ],
          "name": "stdout"
        },
        {
          "output_type": "display_data",
          "data": {
            "image/png": "[encoded data removed]",
            "text/plain": [
              "<IPython.core.display.Image object>"
            ]
          },
          "metadata": {
            "tags": []
          }
        },
        {
          "output_type": "stream",
          "text": [
            "notMNIST_small/I/SVRDIEZyYW5rbGluIEdvdGhpYyBEZW1pLnBmYg==.png\n"
          ],
          "name": "stdout"
        },
        {
          "output_type": "display_data",
          "data": {
            "image/png": "[encoded data removed]",
            "text/plain": [
              "<IPython.core.display.Image object>"
            ]
          },
          "metadata": {
            "tags": []
          }
        },
        {
          "output_type": "stream",
          "text": [
            "notMNIST_small/I/RkZYIE1hcnF1ZWUudHRm.png\n"
          ],
          "name": "stdout"
        },
        {
          "output_type": "display_data",
          "data": {
            "image/png": "[encoded data removed]",
            "text/plain": [
              "<IPython.core.display.Image object>"
            ]
          },
          "metadata": {
            "tags": []
          }
        },
        {
          "output_type": "stream",
          "text": [
            "notMNIST_small/I/QmVsd2VTdGQtTGlnaHRJdGFsaWMub3Rm.png\n"
          ],
          "name": "stdout"
        },
        {
          "output_type": "display_data",
          "data": {
            "image/png": "[encoded data removed]",
            "text/plain": [
              "<IPython.core.display.Image object>"
            ]
          },
          "metadata": {
            "tags": []
          }
        },
        {
          "output_type": "stream",
          "text": [
            "notMNIST_small/I/Q2VudHVyeSA3NTEgQm9sZCBJdGFsaWMucGZi.png\n"
          ],
          "name": "stdout"
        },
        {
          "output_type": "display_data",
          "data": {
            "image/png": "[encoded data removed]",
            "text/plain": [
              "<IPython.core.display.Image object>"
            ]
          },
          "metadata": {
            "tags": []
          }
        },
        {
          "output_type": "stream",
          "text": [
            "notMNIST_small/I/R290aGljQmxvbmQtU2xpbS5vdGY=.png\n"
          ],
          "name": "stdout"
        },
        {
          "output_type": "display_data",
          "data": {
            "image/png": "[encoded data removed]",
            "text/plain": [
              "<IPython.core.display.Image object>"
            ]
          },
          "metadata": {
            "tags": []
          }
        },
        {
          "output_type": "stream",
          "text": [
            "notMNIST_small/H/RXBpa3VyQlEtTGlnaHRJdGFsaWMub3Rm.png\n"
          ],
          "name": "stdout"
        },
        {
          "output_type": "display_data",
          "data": {
            "image/png": "[encoded data removed]",
            "text/plain": [
              "<IPython.core.display.Image object>"
            ]
          },
          "metadata": {
            "tags": []
          }
        },
        {
          "output_type": "stream",
          "text": [
            "notMNIST_small/F/QmVuZ3VpYXRHb3RoaWNCUS1NZWRpdW0ub3Rm.png\n"
          ],
          "name": "stdout"
        },
        {
          "output_type": "display_data",
          "data": {
            "image/png": "[encoded data removed]",
            "text/plain": [
              "<IPython.core.display.Image object>"
            ]
          },
          "metadata": {
            "tags": []
          }
        },
        {
          "output_type": "stream",
          "text": [
            "notMNIST_small/F/SVRDIFRpZXBvbG8gQm9vay5wZmI=.png\n"
          ],
          "name": "stdout"
        },
        {
          "output_type": "display_data",
          "data": {
            "image/png": "[encoded data removed]",
            "text/plain": [
              "<IPython.core.display.Image object>"
            ]
          },
          "metadata": {
            "tags": []
          }
        },
        {
          "output_type": "stream",
          "text": [
            "notMNIST_small/F/QXZhbnRHYXJkZUlUQ1RUIERlbWlPYmxpcXVlLnR0Zg==.png\n"
          ],
          "name": "stdout"
        },
        {
          "output_type": "display_data",
          "data": {
            "image/png": "[encoded data removed]",
            "text/plain": [
              "<IPython.core.display.Image object>"
            ]
          },
          "metadata": {
            "tags": []
          }
        },
        {
          "output_type": "stream",
          "text": [
            "notMNIST_small/F/Q29vcGVyQlQtQmxhY2tIZWFkbGluZS5vdGY=.png\n"
          ],
          "name": "stdout"
        },
        {
          "output_type": "display_data",
          "data": {
            "image/png": "[encoded data removed]",
            "text/plain": [
              "<IPython.core.display.Image object>"
            ]
          },
          "metadata": {
            "tags": []
          }
        },
        {
          "output_type": "stream",
          "text": [
            "notMNIST_small/F/Q29tcGFjdEMtQm9sZEl0YWxpYy5vdGY=.png\n"
          ],
          "name": "stdout"
        },
        {
          "output_type": "display_data",
          "data": {
            "image/png": "[encoded data removed]",
            "text/plain": [
              "<IPython.core.display.Image object>"
            ]
          },
          "metadata": {
            "tags": []
          }
        },
        {
          "output_type": "stream",
          "text": [
            "notMNIST_small/D/RmluZXByaW50U3RkLUxpZ2h0Lm90Zg==.png\n"
          ],
          "name": "stdout"
        },
        {
          "output_type": "display_data",
          "data": {
            "image/png": "[encoded data removed]",
            "text/plain": [
              "<IPython.core.display.Image object>"
            ]
          },
          "metadata": {
            "tags": []
          }
        },
        {
          "output_type": "stream",
          "text": [
            "notMNIST_small/D/Rm9ybWF0aW9uIFNlbWlCb2xkLnR0Zg==.png\n"
          ],
          "name": "stdout"
        },
        {
          "output_type": "display_data",
          "data": {
            "image/png": "[encoded data removed]",
            "text/plain": [
              "<IPython.core.display.Image object>"
            ]
          },
          "metadata": {
            "tags": []
          }
        },
        {
          "output_type": "stream",
          "text": [
            "notMNIST_small/A/SGVsdmV0aWNhLUNvbmRlbnNlZC1MaWdodE9ibC5vdGY=.png\n"
          ],
          "name": "stdout"
        },
        {
          "output_type": "display_data",
          "data": {
            "image/png": "[encoded data removed]",
            "text/plain": [
              "<IPython.core.display.Image object>"
            ]
          },
          "metadata": {
            "tags": []
          }
        },
        {
          "output_type": "stream",
          "text": [
            "notMNIST_small/A/RW5nbGlzaCAxMTEgQWRhZ2lvIEJULnR0Zg==.png\n"
          ],
          "name": "stdout"
        },
        {
          "output_type": "display_data",
          "data": {
            "image/png": "[encoded data removed]",
            "text/plain": [
              "<IPython.core.display.Image object>"
            ]
          },
          "metadata": {
            "tags": []
          }
        },
        {
          "output_type": "stream",
          "text": [
            "notMNIST_small/A/QWxwaGFiZXRTb3VwQlQtVGlsdC5vdGY=.png\n"
          ],
          "name": "stdout"
        },
        {
          "output_type": "display_data",
          "data": {
            "image/png": "[encoded data removed]",
            "text/plain": [
              "<IPython.core.display.Image object>"
            ]
          },
          "metadata": {
            "tags": []
          }
        },
        {
          "output_type": "stream",
          "text": [
            "notMNIST_small/A/SGVsZW5hLUJvbGQudHRm.png\n"
          ],
          "name": "stdout"
        },
        {
          "output_type": "display_data",
          "data": {
            "image/png": "[encoded data removed]",
            "text/plain": [
              "<IPython.core.display.Image object>"
            ]
          },
          "metadata": {
            "tags": []
          }
        },
        {
          "output_type": "stream",
          "text": [
            "notMNIST_small/A/QW50aXF1ZU9saXZlU3RkLUl0YWxpYy5vdGY=.png\n"
          ],
          "name": "stdout"
        },
        {
          "output_type": "display_data",
          "data": {
            "image/png": "[encoded data removed]",
            "text/plain": [
              "<IPython.core.display.Image object>"
            ]
          },
          "metadata": {
            "tags": []
          }
        },
        {
          "output_type": "stream",
          "text": [
            "notMNIST_small/A/Q2FzbG9uQm9va0JFLUJvbGRPc0Yub3Rm.png\n"
          ],
          "name": "stdout"
        },
        {
          "output_type": "display_data",
          "data": {
            "image/png": "[encoded data removed]",
            "text/plain": [
              "<IPython.core.display.Image object>"
            ]
          },
          "metadata": {
            "tags": []
          }
        },
        {
          "output_type": "stream",
          "text": [
            "notMNIST_small/A/QmVjY2FyaWEudHRm.png\n"
          ],
          "name": "stdout"
        },
        {
          "output_type": "display_data",
          "data": {
            "image/png": "[encoded data removed]",
            "text/plain": [
              "<IPython.core.display.Image object>"
            ]
          },
          "metadata": {
            "tags": []
          }
        },
        {
          "output_type": "stream",
          "text": [
            "notMNIST_small/B/Q29ycG9TLnR0Zg==.png\n"
          ],
          "name": "stdout"
        },
        {
          "output_type": "display_data",
          "data": {
            "image/png": "[encoded data removed]",
            "text/plain": [
              "<IPython.core.display.Image object>"
            ]
          },
          "metadata": {
            "tags": []
          }
        },
        {
          "output_type": "stream",
          "text": [
            "notMNIST_small/B/R2lsbCBCbGFjayBTU2kgRXh0cmEgQm9sZC50dGY=.png\n"
          ],
          "name": "stdout"
        },
        {
          "output_type": "display_data",
          "data": {
            "image/png": "[encoded data removed]",
            "text/plain": [
              "<IPython.core.display.Image object>"
            ]
          },
          "metadata": {
            "tags": []
          }
        },
        {
          "output_type": "stream",
          "text": [
            "notMNIST_small/C/RWR3YXJkRWR3aW4gQm9sZC50dGY=.png\n"
          ],
          "name": "stdout"
        },
        {
          "output_type": "display_data",
          "data": {
            "image/png": "[encoded data removed]",
            "text/plain": [
              "<IPython.core.display.Image object>"
            ]
          },
          "metadata": {
            "tags": []
          }
        },
        {
          "output_type": "stream",
          "text": [
            "notMNIST_small/C/QmV0b25FRi1FeHRyYUJvbGQub3Rm.png\n"
          ],
          "name": "stdout"
        },
        {
          "output_type": "display_data",
          "data": {
            "image/png": "[encoded data removed]",
            "text/plain": [
              "<IPython.core.display.Image object>"
            ]
          },
          "metadata": {
            "tags": []
          }
        },
        {
          "output_type": "stream",
          "text": [
            "notMNIST_small/C/R290aGljIDcyMCBCb2xkIEJULnR0Zg==.png\n"
          ],
          "name": "stdout"
        },
        {
          "output_type": "display_data",
          "data": {
            "image/png": "[encoded data removed]",
            "text/plain": [
              "<IPython.core.display.Image object>"
            ]
          },
          "metadata": {
            "tags": []
          }
        },
        {
          "output_type": "stream",
          "text": [
            "notMNIST_small/E/RXZvQlEtTWVkaXVtSXRhbGljLm90Zg==.png\n"
          ],
          "name": "stdout"
        },
        {
          "output_type": "display_data",
          "data": {
            "image/png": "[encoded data removed]",
            "text/plain": [
              "<IPython.core.display.Image object>"
            ]
          },
          "metadata": {
            "tags": []
          }
        },
        {
          "output_type": "stream",
          "text": [
            "notMNIST_small/I/RnVqaSBUaGluIEl0YWxpYy50dGY=.png\n"
          ],
          "name": "stdout"
        },
        {
          "output_type": "display_data",
          "data": {
            "image/png": "[encoded data removed]",
            "text/plain": [
              "<IPython.core.display.Image object>"
            ]
          },
          "metadata": {
            "tags": []
          }
        },
        {
          "output_type": "stream",
          "text": [
            "notMNIST_small/H/RnV0dXJhIEJvbGQgQ29uZGVuc2VkIEl0YWxpYyBCVC50dGY=.png\n"
          ],
          "name": "stdout"
        },
        {
          "output_type": "display_data",
          "data": {
            "image/png": "[encoded data removed]",
            "text/plain": [
              "<IPython.core.display.Image object>"
            ]
          },
          "metadata": {
            "tags": []
          }
        },
        {
          "output_type": "stream",
          "text": [
            "notMNIST_small/H/Q1FOLU1vbGVjdWxhci1EeW5hbW8tUmVndWxhci5vdGY=.png\n"
          ],
          "name": "stdout"
        },
        {
          "output_type": "display_data",
          "data": {
            "image/png": "[encoded data removed]",
            "text/plain": [
              "<IPython.core.display.Image object>"
            ]
          },
          "metadata": {
            "tags": []
          }
        },
        {
          "output_type": "stream",
          "text": [
            "notMNIST_small/F/QmFza2VydmlsbGUgQm9sZCBJdCBXaW45NUJUKDEpLnR0Zg==.png\n"
          ],
          "name": "stdout"
        },
        {
          "output_type": "display_data",
          "data": {
            "image/png": "[encoded data removed]",
            "text/plain": [
              "<IPython.core.display.Image object>"
            ]
          },
          "metadata": {
            "tags": []
          }
        },
        {
          "output_type": "stream",
          "text": [
            "notMNIST_small/J/RnV0dXJhLUxpZ2h0Lm90Zg==.png\n"
          ],
          "name": "stdout"
        },
        {
          "output_type": "display_data",
          "data": {
            "image/png": "[encoded data removed]",
            "text/plain": [
              "<IPython.core.display.Image object>"
            ]
          },
          "metadata": {
            "tags": []
          }
        },
        {
          "output_type": "stream",
          "text": [
            "notMNIST_small/J/Q2FzbG9uVHdvVHdlbnR5Rm91ci1NZWRpdW0ub3Rm.png\n"
          ],
          "name": "stdout"
        },
        {
          "output_type": "display_data",
          "data": {
            "image/png": "[encoded data removed]",
            "text/plain": [
              "<IPython.core.display.Image object>"
            ]
          },
          "metadata": {
            "tags": []
          }
        },
        {
          "output_type": "stream",
          "text": [
            "notMNIST_small/D/RXJhcyBVbHRyYSBCVC50dGY=.png\n"
          ],
          "name": "stdout"
        },
        {
          "output_type": "display_data",
          "data": {
            "image/png": "[encoded data removed]",
            "text/plain": [
              "<IPython.core.display.Image object>"
            ]
          },
          "metadata": {
            "tags": []
          }
        },
        {
          "output_type": "stream",
          "text": [
            "notMNIST_small/D/Q29ycGlkLUxpZ2h0SXRhbGljLm90Zg==.png\n"
          ],
          "name": "stdout"
        },
        {
          "output_type": "display_data",
          "data": {
            "image/png": "[encoded data removed]",
            "text/plain": [
              "<IPython.core.display.Image object>"
            ]
          },
          "metadata": {
            "tags": []
          }
        },
        {
          "output_type": "stream",
          "text": [
            "notMNIST_small/B/RmxhcmVzZXJpZiA4MjEgTGlnaHQucGZi.png\n"
          ],
          "name": "stdout"
        },
        {
          "output_type": "display_data",
          "data": {
            "image/png": "[encoded data removed]",
            "text/plain": [
              "<IPython.core.display.Image object>"
            ]
          },
          "metadata": {
            "tags": []
          }
        },
        {
          "output_type": "stream",
          "text": [
            "notMNIST_small/C/QmxhZGUudHRm.png\n"
          ],
          "name": "stdout"
        },
        {
          "output_type": "display_data",
          "data": {
            "image/png": "[encoded data removed]",
            "text/plain": [
              "<IPython.core.display.Image object>"
            ]
          },
          "metadata": {
            "tags": []
          }
        },
        {
          "output_type": "stream",
          "text": [
            "notMNIST_small/E/QmxhZGVDdXRUaHJ1LnR0Zg==.png\n"
          ],
          "name": "stdout"
        },
        {
          "output_type": "display_data",
          "data": {
            "image/png": "[encoded data removed]",
            "text/plain": [
              "<IPython.core.display.Image object>"
            ]
          },
          "metadata": {
            "tags": []
          }
        },
        {
          "output_type": "stream",
          "text": [
            "notMNIST_small/E/QmFzZU5pbmVTbWFsbENhcHMgQm9sZCBJdGFsaWMudHRm.png\n"
          ],
          "name": "stdout"
        },
        {
          "output_type": "display_data",
          "data": {
            "image/png": "[encoded data removed]",
            "text/plain": [
              "<IPython.core.display.Image object>"
            ]
          },
          "metadata": {
            "tags": []
          }
        },
        {
          "output_type": "stream",
          "text": [
            "notMNIST_small/I/QW1pbnRhQm9sZC50dGY=.png\n"
          ],
          "name": "stdout"
        },
        {
          "output_type": "display_data",
          "data": {
            "image/png": "[encoded data removed]",
            "text/plain": [
              "<IPython.core.display.Image object>"
            ]
          },
          "metadata": {
            "tags": []
          }
        },
        {
          "output_type": "stream",
          "text": [
            "notMNIST_small/I/QmFydCBIZWF2eSBJdGFsaWMudHRm.png\n"
          ],
          "name": "stdout"
        },
        {
          "output_type": "display_data",
          "data": {
            "image/png": "[encoded data removed]",
            "text/plain": [
              "<IPython.core.display.Image object>"
            ]
          },
          "metadata": {
            "tags": []
          }
        },
        {
          "output_type": "stream",
          "text": [
            "notMNIST_small/F/Qml4bGVlQ25kLUhlYXZ5LnR0Zg==.png\n"
          ],
          "name": "stdout"
        },
        {
          "output_type": "display_data",
          "data": {
            "image/png": "[encoded data removed]",
            "text/plain": [
              "<IPython.core.display.Image object>"
            ]
          },
          "metadata": {
            "tags": []
          }
        },
        {
          "output_type": "stream",
          "text": [
            "notMNIST_small/J/Q2FlY2lsaWEtSGVhdnlJdGFsaWNPc0Yub3Rm.png\n"
          ],
          "name": "stdout"
        },
        {
          "output_type": "display_data",
          "data": {
            "image/png": "[encoded data removed]",
            "text/plain": [
              "<IPython.core.display.Image object>"
            ]
          },
          "metadata": {
            "tags": []
          }
        },
        {
          "output_type": "stream",
          "text": [
            "notMNIST_small/J/RHV0Y2ggODAxIEV4dHJhIEJvbGQgSXRhbGljIEJULnR0Zg==.png\n"
          ],
          "name": "stdout"
        },
        {
          "output_type": "display_data",
          "data": {
            "image/png": "[encoded data removed]",
            "text/plain": [
              "<IPython.core.display.Image object>"
            ]
          },
          "metadata": {
            "tags": []
          }
        },
        {
          "output_type": "stream",
          "text": [
            "notMNIST_small/J/R2xvc3NhcnkgQmxhY2sgU1NpIEJsYWNrLnR0Zg==.png\n"
          ],
          "name": "stdout"
        },
        {
          "output_type": "display_data",
          "data": {
            "image/png": "[encoded data removed]",
            "text/plain": [
              "<IPython.core.display.Image object>"
            ]
          },
          "metadata": {
            "tags": []
          }
        },
        {
          "output_type": "stream",
          "text": [
            "notMNIST_small/G/R2VvbWV0cmljIDcwNiBCbGFjayBDb25kZW5zZWQgQlQudHRm.png\n"
          ],
          "name": "stdout"
        },
        {
          "output_type": "display_data",
          "data": {
            "image/png": "[encoded data removed]",
            "text/plain": [
              "<IPython.core.display.Image object>"
            ]
          },
          "metadata": {
            "tags": []
          }
        }
      ]
    },
    {
      "cell_type": "code",
      "metadata": {
        "id": "eb7mDU9P9U26",
        "colab_type": "code",
        "outputId": "689f88ab-ad60-4f8d-bc77-bd796c7d331e",
        "colab": {
          "base_uri": "https://localhost:8080/",
          "height": 1000
        }
      },
      "source": [
        "import imageio\n",
        "\n",
        "image_size = 28  # Pixel width and height.\n",
        "pixel_depth = 255.0  # Number of levels per pixel.\n",
        "\n",
        "def load_letter(folder, min_num_images):\n",
        "  \"\"\"Load the data for a single letter label.\"\"\"\n",
        "  image_files = os.listdir(folder)\n",
        "  dataset = np.ndarray(shape=(len(image_files), image_size, image_size),\n",
        "                         dtype=np.float32)\n",
        "  print(folder)\n",
        "  num_images = 0\n",
        "  for image in image_files:\n",
        "    image_file = os.path.join(folder, image)\n",
        "    try:\n",
        "      image_data = (imageio.imread(image_file).astype(float) - \n",
        "                    pixel_depth / 2) / pixel_depth\n",
        "      if image_data.shape != (image_size, image_size):\n",
        "        raise Exception('Unexpected image shape: %s' % str(image_data.shape))\n",
        "      dataset[num_images, :, :] = image_data\n",
        "      num_images = num_images + 1\n",
        "    except (IOError, ValueError) as e:\n",
        "      print('Could not read:', image_file, ':', e, '- it\\'s ok, skipping.')\n",
        "    \n",
        "  dataset = dataset[0:num_images, :, :]\n",
        "  if num_images < min_num_images:\n",
        "    raise Exception('Many fewer images than expected: %d < %d' %\n",
        "                    (num_images, min_num_images))\n",
        "    \n",
        "  print('Full dataset tensor:', dataset.shape)\n",
        "  print('Mean:', np.mean(dataset))\n",
        "  print('Standard deviation:', np.std(dataset))\n",
        "  return dataset\n",
        "        \n",
        "def maybe_pickle(data_folders, min_num_images_per_class, force=False):\n",
        "  dataset_names = []\n",
        "  for folder in data_folders:\n",
        "    set_filename = folder + '.pickle'\n",
        "    dataset_names.append(set_filename)\n",
        "    if os.path.exists(set_filename) and not force:\n",
        "      # You may override by setting force=True.\n",
        "      print('%s already present - Skipping pickling.' % set_filename)\n",
        "    else:\n",
        "      print('Pickling %s.' % set_filename)\n",
        "      dataset = load_letter(folder, min_num_images_per_class)\n",
        "      try:\n",
        "        with open(set_filename, 'wb') as f:\n",
        "          pickle.dump(dataset, f, pickle.HIGHEST_PROTOCOL)\n",
        "      except Exception as e:\n",
        "        print('Unable to save data to', set_filename, ':', e)\n",
        "  \n",
        "  return dataset_names\n",
        "\n",
        "train_datasets = maybe_pickle(train_folders, 45000)\n",
        "test_datasets = maybe_pickle(test_folders, 1800)"
      ],
      "execution_count": 6,
      "outputs": [
        {
          "output_type": "stream",
          "text": [
            "Pickling notMNIST_large/A.pickle.\n",
            "notMNIST_large/A\n",
            "Could not read: notMNIST_large/A/Um9tYW5hIEJvbGQucGZi.png : Could not find a format to read the specified file in mode 'i' - it's ok, skipping.\n",
            "Could not read: notMNIST_large/A/SG90IE11c3RhcmQgQlROIFBvc3Rlci50dGY=.png : Could not find a format to read the specified file in mode 'i' - it's ok, skipping.\n",
            "Could not read: notMNIST_large/A/RnJlaWdodERpc3BCb29rSXRhbGljLnR0Zg==.png : Could not find a format to read the specified file in mode 'i' - it's ok, skipping.\n",
            "Full dataset tensor: (52909, 28, 28)\n",
            "Mean: -0.12825\n",
            "Standard deviation: 0.44312078\n",
            "Pickling notMNIST_large/B.pickle.\n",
            "notMNIST_large/B\n",
            "Could not read: notMNIST_large/B/TmlraXNFRi1TZW1pQm9sZEl0YWxpYy5vdGY=.png : Could not find a format to read the specified file in mode 'i' - it's ok, skipping.\n",
            "Full dataset tensor: (52911, 28, 28)\n",
            "Mean: -0.0075630452\n",
            "Standard deviation: 0.4544912\n",
            "Pickling notMNIST_large/C.pickle.\n",
            "notMNIST_large/C\n",
            "Full dataset tensor: (52912, 28, 28)\n",
            "Mean: -0.14225806\n",
            "Standard deviation: 0.43980598\n",
            "Pickling notMNIST_large/D.pickle.\n",
            "notMNIST_large/D\n",
            "Could not read: notMNIST_large/D/VHJhbnNpdCBCb2xkLnR0Zg==.png : Could not find a format to read the specified file in mode 'i' - it's ok, skipping.\n",
            "Full dataset tensor: (52911, 28, 28)\n",
            "Mean: -0.057367705\n",
            "Standard deviation: 0.45564747\n",
            "Pickling notMNIST_large/E.pickle.\n",
            "notMNIST_large/E\n",
            "Full dataset tensor: (52912, 28, 28)\n",
            "Mean: -0.06989907\n",
            "Standard deviation: 0.45294145\n",
            "Pickling notMNIST_large/F.pickle.\n",
            "notMNIST_large/F\n",
            "Full dataset tensor: (52912, 28, 28)\n",
            "Mean: -0.12558337\n",
            "Standard deviation: 0.4470896\n",
            "Pickling notMNIST_large/G.pickle.\n",
            "notMNIST_large/G\n",
            "Full dataset tensor: (52912, 28, 28)\n",
            "Mean: -0.09458148\n",
            "Standard deviation: 0.44623977\n",
            "Pickling notMNIST_large/H.pickle.\n",
            "notMNIST_large/H\n",
            "Full dataset tensor: (52912, 28, 28)\n",
            "Mean: -0.06852215\n",
            "Standard deviation: 0.45423162\n",
            "Pickling notMNIST_large/I.pickle.\n",
            "notMNIST_large/I\n",
            "Full dataset tensor: (52912, 28, 28)\n",
            "Mean: 0.030786175\n",
            "Standard deviation: 0.46889874\n",
            "Pickling notMNIST_large/J.pickle.\n",
            "notMNIST_large/J\n",
            "Full dataset tensor: (52911, 28, 28)\n",
            "Mean: -0.15335849\n",
            "Standard deviation: 0.44365615\n",
            "Pickling notMNIST_small/A.pickle.\n",
            "notMNIST_small/A\n",
            "Could not read: notMNIST_small/A/RGVtb2NyYXRpY2FCb2xkT2xkc3R5bGUgQm9sZC50dGY=.png : Could not find a format to read the specified file in mode 'i' - it's ok, skipping.\n",
            "Full dataset tensor: (1872, 28, 28)\n",
            "Mean: -0.1326264\n",
            "Standard deviation: 0.44512793\n",
            "Pickling notMNIST_small/B.pickle.\n",
            "notMNIST_small/B\n",
            "Full dataset tensor: (1873, 28, 28)\n",
            "Mean: 0.0053560846\n",
            "Standard deviation: 0.45711535\n",
            "Pickling notMNIST_small/C.pickle.\n",
            "notMNIST_small/C\n",
            "Full dataset tensor: (1873, 28, 28)\n",
            "Mean: -0.14152056\n",
            "Standard deviation: 0.4426902\n",
            "Pickling notMNIST_small/D.pickle.\n",
            "notMNIST_small/D\n",
            "Full dataset tensor: (1873, 28, 28)\n",
            "Mean: -0.04921666\n",
            "Standard deviation: 0.459759\n",
            "Pickling notMNIST_small/E.pickle.\n",
            "notMNIST_small/E\n",
            "Full dataset tensor: (1873, 28, 28)\n",
            "Mean: -0.05991476\n",
            "Standard deviation: 0.45734963\n",
            "Pickling notMNIST_small/F.pickle.\n",
            "notMNIST_small/F\n",
            "Could not read: notMNIST_small/F/Q3Jvc3NvdmVyIEJvbGRPYmxpcXVlLnR0Zg==.png : Could not find a format to read the specified file in mode 'i' - it's ok, skipping.\n",
            "Full dataset tensor: (1872, 28, 28)\n",
            "Mean: -0.11818529\n",
            "Standard deviation: 0.4522786\n",
            "Pickling notMNIST_small/G.pickle.\n",
            "notMNIST_small/G\n",
            "Full dataset tensor: (1872, 28, 28)\n",
            "Mean: -0.09255028\n",
            "Standard deviation: 0.44900584\n",
            "Pickling notMNIST_small/H.pickle.\n",
            "notMNIST_small/H\n",
            "Full dataset tensor: (1872, 28, 28)\n",
            "Mean: -0.058689263\n",
            "Standard deviation: 0.45875886\n",
            "Pickling notMNIST_small/I.pickle.\n",
            "notMNIST_small/I\n",
            "Full dataset tensor: (1872, 28, 28)\n",
            "Mean: 0.05264508\n",
            "Standard deviation: 0.4718935\n",
            "Pickling notMNIST_small/J.pickle.\n",
            "notMNIST_small/J\n",
            "Full dataset tensor: (1872, 28, 28)\n",
            "Mean: -0.15168919\n",
            "Standard deviation: 0.4480135\n"
          ],
          "name": "stdout"
        }
      ]
    },
    {
      "cell_type": "markdown",
      "metadata": {
        "id": "dl1HzC7QWyNh",
        "colab_type": "text"
      },
      "source": [
        "Some Useful Commands:\n",
        "\n",
        "```\n",
        "!echo $PATH\n",
        "import os\n",
        "os.environ['PATH'] = \":/usr/local:\" +os.environ['PATH']\n",
        "!echo $PATH\n",
        "\n",
        "Here /usr/local is set because Anaconda software is installed at /usr/local\n",
        "However, as anaconda has set some variable with which colab is able to access anaconda directory. It is not PATH; may be PYTHONPATH.\n",
        "```"
      ]
    },
    {
      "cell_type": "code",
      "metadata": {
        "id": "GjFM-jbjaGMV",
        "colab_type": "code",
        "colab": {
          "base_uri": "https://localhost:8080/",
          "height": 34
        },
        "outputId": "4adb49d3-e455-449d-bd22-af704b3ea035"
      },
      "source": [
        "import pynvml\n",
        "\n",
        "\n",
        "pynvml.nvmlInit()\n",
        "handle = pynvml.nvmlDeviceGetHandleByIndex(0)\n",
        "device_name = pynvml.nvmlDeviceGetName(handle)\n",
        "\n",
        "if device_name != b'Tesla T4':\n",
        "  raise Exception(\"\"\"\n",
        "    Unfortunately this instance does not have a T4 GPU.\n",
        "    \n",
        "    Please make sure you've configured Colab to request a GPU instance type.\n",
        "    \n",
        "    Sometimes Colab allocates a Tesla K80 instead of a T4. Resetting the instance.\n",
        "\n",
        "    If you get a K80 GPU, try Runtime -> Reset all runtimes...\n",
        "  \"\"\")\n",
        "else:\n",
        "  print('Woo! You got the right kind of GPU!')"
      ],
      "execution_count": 7,
      "outputs": [
        {
          "output_type": "stream",
          "text": [
            "Woo! You got the right kind of GPU!\n"
          ],
          "name": "stdout"
        }
      ]
    },
    {
      "cell_type": "code",
      "metadata": {
        "id": "gBOS6VcVYFmc",
        "colab_type": "code",
        "colab": {
          "base_uri": "https://localhost:8080/",
          "height": 1000
        },
        "outputId": "586b2ba1-8c51-4239-cc2a-74f88835dbc3"
      },
      "source": [
        "!bash -c \"$(wget -q https://s3.amazonaws.com/blazingsql-colab/install.sh -O -)\""
      ],
      "execution_count": 8,
      "outputs": [
        {
          "output_type": "stream",
          "text": [
            "PYTHON: python3\n",
            "VERSION: Python 3.6.8\n",
            "PIP: pip3\n",
            "VERBOSE: /dev/null\n",
            "SUDO: \n",
            "PATH_USR: /usr/\n",
            "### update ###\n",
            "### dependencies ###\n",
            "(Reading database ... 112061 files and directories currently installed.)\n",
            "Removing curl (7.58.0-2ubuntu3.7) ...\n",
            "Removing libcurl4:amd64 (7.58.0-2ubuntu3.7) ...\n",
            "Selecting previously unselected package libcurl3:amd64.\n",
            "(Reading database ... 112048 files and directories currently installed.)\n",
            "Preparing to unpack .../libcurl3_7.58.0-2ubuntu2_amd64.deb ...\n",
            "Unpacking libcurl3:amd64 (7.58.0-2ubuntu2) ...\n",
            "Setting up libcurl3:amd64 (7.58.0-2ubuntu2) ...\n",
            "Processing triggers for libc-bin (2.27-3ubuntu1) ...\n",
            "Processing triggers for man-db (2.8.3-2ubuntu0.1) ...\n",
            "### cmake ###\n",
            "CMAKE version: cmake version 3.12.0 CMake suite maintained and supported by Kitware (kitware.com/cmake).\n",
            "### pip dependencies ###\n",
            "Collecting setuptools\n",
            "  Using cached https://files.pythonhosted.org/packages/ec/51/f45cea425fd5cb0b0380f5b0f048ebc1da5b417e48d304838c02d6288a1e/setuptools-41.0.1-py2.py3-none-any.whl\n",
            "\u001b[31mERROR: datascience 0.10.6 has requirement folium==0.2.1, but you'll have folium 0.8.3 which is incompatible.\u001b[0m\n",
            "Installing collected packages: setuptools\n",
            "  Found existing installation: setuptools 41.0.1\n",
            "    Uninstalling setuptools-41.0.1:\n",
            "      Successfully uninstalled setuptools-41.0.1\n",
            "Successfully installed setuptools-41.0.1\n",
            "PYTHON_INCLUDE_DIR: /usr/include/python3.6m\n",
            "PYTHON_LIBRARY: /usr/lib/libpython3.6m.so\n",
            "CMAKE_COMMON_VARIABLES: -DPYTHON_INCLUDE_DIR=/usr/include/python3.6m -DPYTHON_LIBRARY=/usr/lib/libpython3.6m.so\n",
            "### libhdfs ###\n",
            "### librmm ###\n",
            "Processing ./blazingsql-files/nvstrings-src/thirdparty/rmm/python\n",
            "Requirement already satisfied: cffi>=1.0.0 in /usr/local/lib/python3.6/dist-packages (from librmm-cffi==0.6.0) (1.12.3)\n",
            "Requirement already satisfied: pycparser in /usr/local/lib/python3.6/dist-packages (from cffi>=1.0.0->librmm-cffi==0.6.0) (2.19)\n",
            "Building wheels for collected packages: librmm-cffi\n",
            "  Building wheel for librmm-cffi (setup.py) ... \u001b[?25l\u001b[?25hdone\n",
            "  Stored in directory: /tmp/pip-ephem-wheel-cache-dpf8xay1/wheels/ec/3f/1f/a29dcdd64525fd5379838634ab5a2e99afc8269355d2a5fd1b\n",
            "Successfully built librmm-cffi\n",
            "Installing collected packages: librmm-cffi\n",
            "  Found existing installation: librmm-cffi 0.6.0\n",
            "    Uninstalling librmm-cffi-0.6.0:\n",
            "      Successfully uninstalled librmm-cffi-0.6.0\n",
            "Successfully installed librmm-cffi-0.6.0\n",
            "### custrings ###\n",
            "running install\n",
            "running bdist_egg\n",
            "running egg_info\n",
            "creating nvstrings_cuda100.egg-info\n",
            "writing nvstrings_cuda100.egg-info/PKG-INFO\n",
            "writing dependency_links to nvstrings_cuda100.egg-info/dependency_links.txt\n",
            "writing top-level names to nvstrings_cuda100.egg-info/top_level.txt\n",
            "writing manifest file 'nvstrings_cuda100.egg-info/SOURCES.txt'\n",
            "reading manifest file 'nvstrings_cuda100.egg-info/SOURCES.txt'\n",
            "writing manifest file 'nvstrings_cuda100.egg-info/SOURCES.txt'\n",
            "installing library code to build/bdist.linux-x86_64/egg\n",
            "running install_lib\n",
            "running build_py\n",
            "creating build\n",
            "creating build/lib.linux-x86_64-3.6\n",
            "copying nvstrings.py -> build/lib.linux-x86_64-3.6\n",
            "copying nvcategory.py -> build/lib.linux-x86_64-3.6\n",
            "copying nvtext.py -> build/lib.linux-x86_64-3.6\n",
            "running build_ext\n",
            "-- The C compiler identification is GNU 7.4.0\n",
            "-- The CXX compiler identification is GNU 7.4.0\n",
            "-- The CUDA compiler identification is NVIDIA 10.0.130\n",
            "-- Check for working C compiler: /usr/bin/cc\n",
            "-- Check for working C compiler: /usr/bin/cc -- works\n",
            "-- Detecting C compiler ABI info\n",
            "-- Detecting C compiler ABI info - done\n",
            "-- Detecting C compile features\n",
            "-- Detecting C compile features - done\n",
            "-- Check for working CXX compiler: /usr/bin/c++\n",
            "-- Check for working CXX compiler: /usr/bin/c++ -- works\n",
            "-- Detecting CXX compiler ABI info\n",
            "-- Detecting CXX compiler ABI info - done\n",
            "-- Detecting CXX compile features\n",
            "-- Detecting CXX compile features - done\n",
            "-- Check for working CUDA compiler: /usr/local/cuda/bin/nvcc\n",
            "-- Check for working CUDA compiler: /usr/local/cuda/bin/nvcc -- works\n",
            "-- Detecting CUDA compiler ABI info\n",
            "-- Detecting CUDA compiler ABI info - done\n",
            "-- NVSTRINGS: NVSTRINGS_INCLUDE set to /usr/include\n",
            "-- NVSTRINGS: NVSTRINGS_LIBRARY set to /usr/lib/libNVStrings.so\n",
            "-- NVSTRINGS: NVCATEGORY_LIBRARY set to /usr/lib/libNVCategory.so\n",
            "-- NVSTRINGS: NVTEXT_LIBRARY set to /usr/lib/libNVText.so\n",
            "-- Found PythonLibs: /usr/lib/x86_64-linux-gnu/libpython3.6m.so (found version \"3.6.8\") \n",
            "-- PYTHON: PYTHON_LIBRARIES set to /usr/lib/x86_64-linux-gnu/libpython3.6m.so\n",
            "-- PYTHON: PYTHON_INCLUDE_DIRS set to /usr/include/python3.6m\n",
            "-- PYTHON: PYTHONLIBS_VERSION_STRING set to 3.6.8\n",
            "-- Configuring done\n",
            "-- Generating done\n",
            "-- Build files have been written to: /tmp/blazing/blazingsql-files/nvstrings-src/python/build/temp.linux-x86_64-3.6\n",
            "\u001b[35m\u001b[1mScanning dependencies of target pyniNVStrings\u001b[0m\n",
            "[ 50%] \u001b[32mBuilding CXX object CMakeFiles/pyniNVStrings.dir/pystrings.cpp.o\u001b[0m\n",
            "[100%] \u001b[32m\u001b[1mLinking CXX shared library /tmp/blazing/blazingsql-files/nvstrings-src/python/build/lib.linux-x86_64-3.6/pyniNVStrings.so\u001b[0m\n",
            "[100%] Built target pyniNVStrings\n",
            "\n",
            "-- NVSTRINGS: NVSTRINGS_INCLUDE set to /usr/include\n",
            "-- NVSTRINGS: NVSTRINGS_LIBRARY set to /usr/lib/libNVStrings.so\n",
            "-- NVSTRINGS: NVCATEGORY_LIBRARY set to /usr/lib/libNVCategory.so\n",
            "-- NVSTRINGS: NVTEXT_LIBRARY set to /usr/lib/libNVText.so\n",
            "-- PYTHON: PYTHON_LIBRARIES set to /usr/lib/x86_64-linux-gnu/libpython3.6m.so\n",
            "-- PYTHON: PYTHON_INCLUDE_DIRS set to /usr/include/python3.6m\n",
            "-- PYTHON: PYTHONLIBS_VERSION_STRING set to 3.6.8\n",
            "-- Configuring done\n",
            "-- Generating done\n",
            "-- Build files have been written to: /tmp/blazing/blazingsql-files/nvstrings-src/python/build/temp.linux-x86_64-3.6\n",
            "\u001b[35m\u001b[1mScanning dependencies of target pyniNVCategory\u001b[0m\n",
            "[ 50%] \u001b[32mBuilding CXX object CMakeFiles/pyniNVCategory.dir/pycategory.cpp.o\u001b[0m\n",
            "[100%] \u001b[32m\u001b[1mLinking CXX shared library /tmp/blazing/blazingsql-files/nvstrings-src/python/build/lib.linux-x86_64-3.6/pyniNVCategory.so\u001b[0m\n",
            "[100%] Built target pyniNVCategory\n",
            "\n",
            "-- NVSTRINGS: NVSTRINGS_INCLUDE set to /usr/include\n",
            "-- NVSTRINGS: NVSTRINGS_LIBRARY set to /usr/lib/libNVStrings.so\n",
            "-- NVSTRINGS: NVCATEGORY_LIBRARY set to /usr/lib/libNVCategory.so\n",
            "-- NVSTRINGS: NVTEXT_LIBRARY set to /usr/lib/libNVText.so\n",
            "-- PYTHON: PYTHON_LIBRARIES set to /usr/lib/x86_64-linux-gnu/libpython3.6m.so\n",
            "-- PYTHON: PYTHON_INCLUDE_DIRS set to /usr/include/python3.6m\n",
            "-- PYTHON: PYTHONLIBS_VERSION_STRING set to 3.6.8\n",
            "-- Configuring done\n",
            "-- Generating done\n",
            "-- Build files have been written to: /tmp/blazing/blazingsql-files/nvstrings-src/python/build/temp.linux-x86_64-3.6\n",
            "\u001b[35m\u001b[1mScanning dependencies of target pyniNVText\u001b[0m\n",
            "[ 50%] \u001b[32mBuilding CXX object CMakeFiles/pyniNVText.dir/pytext.cpp.o\u001b[0m\n",
            "[100%] \u001b[32m\u001b[1mLinking CXX shared library /tmp/blazing/blazingsql-files/nvstrings-src/python/build/lib.linux-x86_64-3.6/pyniNVText.so\u001b[0m\n",
            "[100%] Built target pyniNVText\n",
            "\n",
            "creating build/bdist.linux-x86_64\n",
            "creating build/bdist.linux-x86_64/egg\n",
            "copying build/lib.linux-x86_64-3.6/pyniNVStrings.so -> build/bdist.linux-x86_64/egg\n",
            "copying build/lib.linux-x86_64-3.6/nvstrings.py -> build/bdist.linux-x86_64/egg\n",
            "copying build/lib.linux-x86_64-3.6/nvcategory.py -> build/bdist.linux-x86_64/egg\n",
            "copying build/lib.linux-x86_64-3.6/pyniNVText.so -> build/bdist.linux-x86_64/egg\n",
            "copying build/lib.linux-x86_64-3.6/nvtext.py -> build/bdist.linux-x86_64/egg\n",
            "copying build/lib.linux-x86_64-3.6/pyniNVCategory.so -> build/bdist.linux-x86_64/egg\n",
            "byte-compiling build/bdist.linux-x86_64/egg/nvstrings.py to nvstrings.cpython-36.pyc\n",
            "byte-compiling build/bdist.linux-x86_64/egg/nvcategory.py to nvcategory.cpython-36.pyc\n",
            "byte-compiling build/bdist.linux-x86_64/egg/nvtext.py to nvtext.cpython-36.pyc\n",
            "creating build/bdist.linux-x86_64/egg/EGG-INFO\n",
            "copying nvstrings_cuda100.egg-info/PKG-INFO -> build/bdist.linux-x86_64/egg/EGG-INFO\n",
            "copying nvstrings_cuda100.egg-info/SOURCES.txt -> build/bdist.linux-x86_64/egg/EGG-INFO\n",
            "copying nvstrings_cuda100.egg-info/dependency_links.txt -> build/bdist.linux-x86_64/egg/EGG-INFO\n",
            "copying nvstrings_cuda100.egg-info/not-zip-safe -> build/bdist.linux-x86_64/egg/EGG-INFO\n",
            "copying nvstrings_cuda100.egg-info/top_level.txt -> build/bdist.linux-x86_64/egg/EGG-INFO\n",
            "writing build/bdist.linux-x86_64/egg/EGG-INFO/native_libs.txt\n",
            "creating dist\n",
            "creating 'dist/nvstrings_cuda100-0.0.0.dev0-py3.6-linux-x86_64.egg' and adding 'build/bdist.linux-x86_64/egg' to it\n",
            "removing 'build/bdist.linux-x86_64/egg' (and everything under it)\n",
            "Processing nvstrings_cuda100-0.0.0.dev0-py3.6-linux-x86_64.egg\n",
            "removing '/usr/local/lib/python3.6/dist-packages/nvstrings_cuda100-0.0.0.dev0-py3.6-linux-x86_64.egg' (and everything under it)\n",
            "creating /usr/local/lib/python3.6/dist-packages/nvstrings_cuda100-0.0.0.dev0-py3.6-linux-x86_64.egg\n",
            "Extracting nvstrings_cuda100-0.0.0.dev0-py3.6-linux-x86_64.egg to /usr/local/lib/python3.6/dist-packages\n",
            "nvstrings-cuda100 0.0.0.dev0 is already the active version in easy-install.pth\n",
            "\n",
            "Installed /usr/local/lib/python3.6/dist-packages/nvstrings_cuda100-0.0.0.dev0-py3.6-linux-x86_64.egg\n",
            "Processing dependencies for nvstrings-cuda100==0.0.0.dev0\n",
            "Finished processing dependencies for nvstrings-cuda100==0.0.0.dev0\n",
            "Wheel not found: dist/nvstrings_cuda100-0.0.0.dev0-cp36-cp36m-linux_x86_64.whl\n",
            "### test custrings ###\n",
            "### cudf ###\n",
            "Processing /tmp/blazing/blazingsql-files/cudf/python\n",
            "Requirement already satisfied: numba in /usr/local/lib/python3.6/dist-packages (from cudf==0+unknown) (0.43.0)\n",
            "Requirement already satisfied: cython in /usr/local/lib/python3.6/dist-packages (from cudf==0+unknown) (0.29.12)\n",
            "Requirement already satisfied: llvmlite>=0.28.0dev0 in /usr/local/lib/python3.6/dist-packages (from numba->cudf==0+unknown) (0.29.0)\n",
            "Requirement already satisfied: numpy in /usr/local/lib/python3.6/dist-packages (from numba->cudf==0+unknown) (1.16.2)\n",
            "Building wheels for collected packages: cudf\n",
            "  Building wheel for cudf (setup.py) ... \u001b[?25l\u001b[?25hdone\n",
            "  Stored in directory: /tmp/pip-ephem-wheel-cache-1i7abrah/wheels/7b/9b/bd/ecb5759e73f8039994b5cb5a8c5708766bdd1794c0c55c9b91\n",
            "Successfully built cudf\n",
            "Installing collected packages: cudf\n",
            "  Found existing installation: cudf 0+unknown\n",
            "    Uninstalling cudf-0+unknown:\n",
            "      Successfully uninstalled cudf-0+unknown\n",
            "Successfully installed cudf-0+unknown\n",
            "### test cudf ###\n",
            "### protocol ###\n",
            "Processing /tmp/blazing/blazingsql-files/blazingdb-protocol/python\n",
            "Requirement already satisfied: flatbuffers in /usr/local/lib/python3.6/dist-packages (from blazingdb-protocol==1.0) (1.11)\n",
            "Building wheels for collected packages: blazingdb-protocol\n",
            "  Building wheel for blazingdb-protocol (setup.py) ... \u001b[?25l\u001b[?25hdone\n",
            "  Stored in directory: /tmp/pip-ephem-wheel-cache-wqjiud90/wheels/ea/26/c2/0386b4502636556cebd81bc70662053bfb30ae9a6e58a19c88\n",
            "Successfully built blazingdb-protocol\n",
            "Installing collected packages: blazingdb-protocol\n",
            "  Found existing installation: blazingdb-protocol 1.0\n",
            "    Uninstalling blazingdb-protocol-1.0:\n",
            "      Successfully uninstalled blazingdb-protocol-1.0\n",
            "Successfully installed blazingdb-protocol-1.0\n",
            "### pyblazing ###\n",
            "Processing /tmp/blazing/blazingsql-files/pyBlazing\n",
            "Building wheels for collected packages: PyBlazing\n",
            "  Building wheel for PyBlazing (setup.py) ... \u001b[?25l\u001b[?25hdone\n",
            "  Stored in directory: /tmp/pip-ephem-wheel-cache-nl2y911c/wheels/05/df/16/4c041cbaa6aa1f8d281544f6e09d8b55e0359db8b4ae1375e3\n",
            "Successfully built PyBlazing\n",
            "Installing collected packages: PyBlazing\n",
            "  Found existing installation: PyBlazing 0.1\n",
            "    Uninstalling PyBlazing-0.1:\n",
            "      Successfully uninstalled PyBlazing-0.1\n",
            "Successfully installed PyBlazing-0.1\n",
            "### test pyblazing ###\n",
            "### binaries ###\n",
            "### downloading demo files ###\n",
            "### supervisor ###\n",
            "Starting supervisor: supervisord is running\n",
            "blazing-calcite                  RUNNING   pid 3130, uptime 1:14:22\n",
            "blazing-orchestrator             RUNNING   pid 3132, uptime 1:14:22\n",
            "blazing-ral                      RUNNING   pid 3131, uptime 1:14:22\n",
            "### BlazingSQL installation finished ###\n",
            "You can run the command to view status:\n",
            "!blazingsql status\n",
            "Demo files are in /blazingsql/\n",
            "total 76\n",
            "drwxrwxrwx 3 root root  4096 Jul 25 23:07 .\n",
            "drwxr-xr-x 1 root root  4096 Jul 25 23:07 ..\n",
            "-rwxrwxrwx 1 root root 45056 Jul 25 23:09 bz3.mv.db\n",
            "-rwxrwxrwx 1 root root   187 Jul 25 23:07 bz3.trace.db\n",
            "drwxrwxrwx 2 root root  4096 Jul 25 23:07 data\n",
            "-rwxrwxrwx 1 root root   709 Jul 12 21:27 demo1.py\n",
            "-rwxrwxrwx 1 root root   730 Jul 12 21:27 demo2.py\n",
            "-rwxrwxrwx 1 root root   558 Jul 12 21:27 demo3.py\n",
            "-rwxrwxrwx 1 root root   477 Jul 12 21:27 demo4.py\n",
            "Run these commands, copy its content and/or execute it:\n",
            "!cat /blazingsql/demo1.py\n",
            "!python /blazingsql/demo1.py\n"
          ],
          "name": "stdout"
        }
      ]
    },
    {
      "cell_type": "code",
      "metadata": {
        "id": "jTjZheuGYJ4p",
        "colab_type": "code",
        "colab": {
          "base_uri": "https://localhost:8080/",
          "height": 941
        },
        "outputId": "6221d2e7-776e-41ed-ab33-d6426fb6a9f8"
      },
      "source": [
        "!cat /blazingsql/demo1.py\n",
        "!python /blazingsql/demo1.py"
      ],
      "execution_count": 9,
      "outputs": [
        {
          "output_type": "stream",
          "text": [
            "import os\n",
            "os.environ[\"NUMBAPRO_NVVM\"] = \"/usr/local/cuda/nvvm/lib64/libnvvm.so\"\n",
            "os.environ[\"NUMBAPRO_LIBDEVICE\"] = \"/usr/local/cuda/nvvm/libdevice/\"\n",
            "\n",
            "import cudf\n",
            "from blazingsql import BlazingContext\n",
            "\n",
            "\n",
            "bc = BlazingContext()\n",
            "\n",
            "column_names = ['n_nationkey', 'n_name', 'n_regionkey', 'n_comments']\n",
            "column_types = ['int32', 'int64', 'int32', 'int64']\n",
            "\n",
            "nation_gdf = cudf.read_csv(\"/blazingsql/data/nation.psv\", delimiter='|',\n",
            "                           dtype=column_types, names=column_names)\n",
            "\n",
            "print(nation_gdf)\n",
            "bc.create_table('nation', nation_gdf)\n",
            "\n",
            "query = 'select n_nationkey, n_regionkey, n_nationkey + n_regionkey as addition from main.nation'\n",
            "result_gdf = bc.sql(query).get()\n",
            "\n",
            "print(query)\n",
            "print(result_gdf)\n",
            "connection established\n",
            "    n_nationkey   n_name  n_regionkey   n_comments\n",
            "0            0     2003            0       615110\n",
            "1            1     2063            1      5490102\n",
            "2            2  2161478            1  71956982322\n",
            "3            3  2101917            1            0\n",
            "4            4        0            4      7194700\n",
            "5            5        0            0           70\n",
            "6            6   256019            3           66\n",
            "7            7       23            3      5910558\n",
            "8            8   282267            2         7354\n",
            "9            9   282340            2      7379714\n",
            "[15 more rows]\n",
            "Communication error: when sending data to /tmp/ral.socket\n",
            "select n_nationkey, n_regionkey, n_nationkey + n_regionkey as addition from main.nation\n",
            "columns = None\n",
            "                    resultToken = 13706844183842221157\n",
            "                    interpreter_path = /tmp/ral.socket\n",
            "                    interpreter_port = 0\n",
            "                    handle = None\n",
            "                    client = <pyblazing.api.PyConnector object at 0x7f0768f64dd8>\n",
            "                    calciteTime = 13\n",
            "                    ralTime = 0\n",
            "                    totalTime = 0\n",
            "                    error_message = Communication error: when sending data to /tmp/ral.socket\n",
            "Can't close connection, probably it was lost\n",
            "Exception ignored in: <bound method PyConnector.__del__ of <pyblazing.api.PyConnector object at 0x7f0768f64dd8>>\n",
            "Traceback (most recent call last):\n",
            "  File \"/usr/local/lib/python3.6/dist-packages/pyblazing/api.py\", line 65, in __del__\n",
            "  File \"/usr/local/lib/python3.6/dist-packages/pyblazing/api.py\", line 114, in close_connection\n",
            "RuntimeError: Cannot close the connection: connect error\n"
          ],
          "name": "stdout"
        }
      ]
    },
    {
      "cell_type": "code",
      "metadata": {
        "id": "4X0yTccQZRBC",
        "colab_type": "code",
        "colab": {}
      },
      "source": [
        "import cudf"
      ],
      "execution_count": 0,
      "outputs": []
    },
    {
      "cell_type": "code",
      "metadata": {
        "id": "tyZjLlm4fmVZ",
        "colab_type": "code",
        "colab": {
          "base_uri": "https://localhost:8080/",
          "height": 67
        },
        "outputId": "5d721f53-e66b-415f-ed3e-ffb5abf285c9"
      },
      "source": [
        "def make_arrays(nb_rows, img_size):\n",
        "  if nb_rows:\n",
        "    dataset = np.ndarray((nb_rows, img_size, img_size), dtype=np.float32)\n",
        "    labels = np.ndarray(nb_rows, dtype=np.int32)\n",
        "  else:\n",
        "    dataset, labels = None, None\n",
        "  return dataset, labels\n",
        "\n",
        "def merge_datasets(pickle_files, train_size, valid_size=0):\n",
        "  num_classes = len(pickle_files)\n",
        "  valid_dataset, valid_labels = make_arrays(valid_size, image_size)\n",
        "  train_dataset, train_labels = make_arrays(train_size, image_size)\n",
        "  vsize_per_class = valid_size // num_classes\n",
        "  tsize_per_class = train_size // num_classes\n",
        "    \n",
        "  start_v, start_t = 0, 0\n",
        "  end_v, end_t = vsize_per_class, tsize_per_class\n",
        "  end_l = vsize_per_class+tsize_per_class\n",
        "  for label, pickle_file in enumerate(pickle_files):       \n",
        "    try:\n",
        "      with open(pickle_file, 'rb') as f:\n",
        "        letter_set = pickle.load(f)\n",
        "        # let's shuffle the letters to have random validation and training set\n",
        "        np.random.shuffle(letter_set)\n",
        "        if valid_dataset is not None:\n",
        "          valid_letter = letter_set[:vsize_per_class, :, :]\n",
        "          valid_dataset[start_v:end_v, :, :] = valid_letter\n",
        "          valid_labels[start_v:end_v] = label\n",
        "          start_v += vsize_per_class\n",
        "          end_v += vsize_per_class\n",
        "                    \n",
        "        train_letter = letter_set[vsize_per_class:end_l, :, :]\n",
        "        train_dataset[start_t:end_t, :, :] = train_letter\n",
        "        train_labels[start_t:end_t] = label\n",
        "        start_t += tsize_per_class\n",
        "        end_t += tsize_per_class\n",
        "    except Exception as e:\n",
        "      print('Unable to process data from', pickle_file, ':', e)\n",
        "      raise\n",
        "    \n",
        "  return valid_dataset, valid_labels, train_dataset, train_labels\n",
        "            \n",
        "            \n",
        "train_size = 200000\n",
        "valid_size = 10000\n",
        "test_size = 10000\n",
        "\n",
        "valid_dataset, valid_labels, train_dataset, train_labels = merge_datasets(\n",
        "  train_datasets, train_size, valid_size)\n",
        "_, _, test_dataset, test_labels = merge_datasets(test_datasets, test_size)\n",
        "\n",
        "print('Training:', train_dataset.shape, train_labels.shape)\n",
        "print('Validation:', valid_dataset.shape, valid_labels.shape)\n",
        "print('Testing:', test_dataset.shape, test_labels.shape)"
      ],
      "execution_count": 11,
      "outputs": [
        {
          "output_type": "stream",
          "text": [
            "Training: (200000, 28, 28) (200000,)\n",
            "Validation: (10000, 28, 28) (10000,)\n",
            "Testing: (10000, 28, 28) (10000,)\n"
          ],
          "name": "stdout"
        }
      ]
    },
    {
      "cell_type": "markdown",
      "metadata": {
        "id": "NeVfgXcwq171",
        "colab_type": "text"
      },
      "source": [
        "This was the traditional approach where local variable train_dataset was nd array and was trying to load all of the training data set in the memory. This is definitely not scalable.\n",
        "\n",
        "We have seen in the rapid intro video that the read csv are delayed function and are read each time when db operations are done. I guess this read each time makes is compliant to ACID property. \n",
        "\n",
        "Similarly, we need to create the dataframe from the right when we read the image in our case. Approach I m thinking of is:\n",
        "* Read the image\n",
        "* convert the nxn to n*n ==> 28x28 to 786 array\n",
        "* Store it as cudf series of n*n and label\n",
        "* append the cudf series to a df\n",
        "* split the df to training and validation set\n",
        "* use the training set for training various rapid algo\n",
        "* of course use the validation set to verify those models\n",
        "* repeat the exercise with BlazingDB operation \n",
        "* note that time at each stage for comparison\n",
        "* may be we can also see some visualization in rapids regarding data access intervals and computation cost"
      ]
    },
    {
      "cell_type": "code",
      "metadata": {
        "id": "MwDMXAQZq1jk",
        "colab_type": "code",
        "colab": {}
      },
      "source": [
        ""
      ],
      "execution_count": 0,
      "outputs": []
    },
    {
      "cell_type": "code",
      "metadata": {
        "id": "6vYFMoSGqQ0y",
        "colab_type": "code",
        "colab": {}
      },
      "source": [
        ""
      ],
      "execution_count": 0,
      "outputs": []
    }
  ]
}